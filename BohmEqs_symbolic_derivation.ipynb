{
 "cells": [
  {
   "cell_type": "markdown",
   "metadata": {},
   "source": [
    "# General setup"
   ]
  },
  {
   "cell_type": "code",
   "execution_count": 12,
   "metadata": {
    "ExecuteTime": {
     "end_time": "2021-07-21T10:51:24.492536Z",
     "start_time": "2021-07-21T10:51:24.486973Z"
    }
   },
   "outputs": [],
   "source": [
    "import sympy as sym"
   ]
  },
  {
   "cell_type": "code",
   "execution_count": 13,
   "metadata": {
    "ExecuteTime": {
     "end_time": "2021-07-21T10:51:24.681187Z",
     "start_time": "2021-07-21T10:51:24.679158Z"
    }
   },
   "outputs": [],
   "source": [
    "x, y = sym.symbols('x y', real=True)"
   ]
  },
  {
   "cell_type": "code",
   "execution_count": 14,
   "metadata": {
    "ExecuteTime": {
     "end_time": "2021-07-21T10:51:24.881515Z",
     "start_time": "2021-07-21T10:51:24.879090Z"
    }
   },
   "outputs": [],
   "source": [
    "h = sym.Symbol('hbar')\n",
    "omega1 = sym.Symbol('omega1', real=True)\n",
    "omega2 = sym.Symbol('omega2', real=True)\n",
    "n1 = sym.Symbol('n1')\n",
    "n2 = sym.Symbol('n2')"
   ]
  },
  {
   "cell_type": "code",
   "execution_count": 15,
   "metadata": {
    "ExecuteTime": {
     "end_time": "2021-07-21T10:51:25.081542Z",
     "start_time": "2021-07-21T10:51:25.079157Z"
    }
   },
   "outputs": [],
   "source": [
    "e = sym.exp\n",
    "t = sym.Symbol('t', real=True)\n",
    "c = sym.Symbol('c', real=True)"
   ]
  },
  {
   "cell_type": "code",
   "execution_count": 16,
   "metadata": {
    "ExecuteTime": {
     "end_time": "2021-07-21T10:51:25.825707Z",
     "start_time": "2021-07-21T10:51:25.663730Z"
    }
   },
   "outputs": [
    {
     "data": {
      "text/latex": [
       "$\\displaystyle \\hbar \\left(\\omega_{1} \\left(n_{1} + \\frac{1}{2}\\right) + \\omega_{2} \\left(n_{2} + \\frac{1}{2}\\right)\\right)$"
      ],
      "text/plain": [
       "hbar*(omega1*(n1 + 1/2) + omega2*(n2 + 1/2))"
      ]
     },
     "execution_count": 16,
     "metadata": {},
     "output_type": "execute_result"
    }
   ],
   "source": [
    "E_n1n2 = h*( (sym.Rational(1/2) + n1)*omega1 + (sym.Rational(1/2) + n2)*omega2 )\n",
    "E_n1n2"
   ]
  },
  {
   "cell_type": "code",
   "execution_count": 17,
   "metadata": {
    "ExecuteTime": {
     "end_time": "2021-07-21T10:51:26.556490Z",
     "start_time": "2021-07-21T10:51:26.539606Z"
    }
   },
   "outputs": [
    {
     "data": {
      "text/latex": [
       "$\\displaystyle \\omega_{1} \\left(n_{1} + \\frac{1}{2}\\right) + \\omega_{2} \\left(n_{2} + \\frac{1}{2}\\right)$"
      ],
      "text/plain": [
       "omega1*(n1 + 1/2) + omega2*(n2 + 1/2)"
      ]
     },
     "execution_count": 17,
     "metadata": {},
     "output_type": "execute_result"
    }
   ],
   "source": [
    "E_n1n2 = E_n1n2.subs(h,1)\n",
    "E_n1n2"
   ]
  },
  {
   "cell_type": "markdown",
   "metadata": {},
   "source": [
    "Eigenfunctions "
   ]
  },
  {
   "cell_type": "code",
   "execution_count": 7,
   "metadata": {
    "ExecuteTime": {
     "end_time": "2021-07-21T09:39:48.720644Z",
     "start_time": "2021-07-21T09:39:48.717016Z"
    }
   },
   "outputs": [],
   "source": [
    "def psi_n1n2(n1_val, n2_val):\n",
    "    C_n1n2_numerator = (omega1*omega2)**(sym.Rational(1/4))\n",
    "    C_n1n2_divider = sym.sqrt(sym.pi* sym.factorial(n1) * sym.factorial(n2)* 2**(n1+n2))\n",
    "    C_n1n2 = C_n1n2_numerator/C_n1n2_divider\n",
    "    H_n1 = sym.hermite_poly(n1_val, sym.sqrt(omega1)*x)\n",
    "    H_n2 = sym.hermite_poly(n2_val, sym.sqrt(omega2)*y)\n",
    "    expfunc1 = sym.exp(-sym.I*E_n1n2*t)\n",
    "    expfunc2 = sym.exp(-sym.Rational(1/2)*(omega1*x**2 + omega2*y**2))\n",
    "    product = C_n1n2*expfunc1*expfunc2\n",
    "    psi_n1n2 = product.subs([(n1, n1_val),(n2, n2_val)])*H_n1*H_n2\n",
    "    return psi_n1n2"
   ]
  },
  {
   "cell_type": "markdown",
   "metadata": {},
   "source": [
    "Wave function"
   ]
  },
  {
   "cell_type": "code",
   "execution_count": 8,
   "metadata": {
    "ExecuteTime": {
     "end_time": "2021-07-21T09:39:53.739946Z",
     "start_time": "2021-07-21T09:39:53.737928Z"
    }
   },
   "outputs": [],
   "source": [
    "c1, c2 = sym.symbols('c1 c2', real=True)"
   ]
  },
  {
   "cell_type": "markdown",
   "metadata": {},
   "source": [
    "$\\Psi(x,y,t) = \\psi_{0,0} + c_1 \\psi_{1,0} + c_2 \\psi_{1,1}$"
   ]
  },
  {
   "cell_type": "code",
   "execution_count": 9,
   "metadata": {
    "ExecuteTime": {
     "end_time": "2021-07-21T09:39:54.940895Z",
     "start_time": "2021-07-21T09:39:54.899069Z"
    }
   },
   "outputs": [],
   "source": [
    "Psi = psi_n1n2(0,0) + c1*psi_n1n2(1,0) + c2*psi_n1n2(1,1)"
   ]
  },
  {
   "cell_type": "markdown",
   "metadata": {},
   "source": [
    "SPECIAL CASE: $\\omega_1 = 1$ and $\\omega_2 = 1/c^2$"
   ]
  },
  {
   "cell_type": "code",
   "execution_count": 17,
   "metadata": {
    "ExecuteTime": {
     "end_time": "2021-02-08T18:00:18.624388Z",
     "start_time": "2021-02-08T18:00:18.617903Z"
    }
   },
   "outputs": [],
   "source": [
    "Psi = Psi.subs(omega1,1)\n",
    "# Psi = Psi.subs(omega2,1/c**2)"
   ]
  },
  {
   "cell_type": "code",
   "execution_count": 18,
   "metadata": {
    "ExecuteTime": {
     "end_time": "2021-02-08T18:00:20.221419Z",
     "start_time": "2021-02-08T18:00:20.137622Z"
    }
   },
   "outputs": [
    {
     "data": {
      "text/latex": [
       "$\\displaystyle \\frac{\\sqrt[4]{\\omega_{2}} \\left(\\sqrt{2} c_{1} x e^{i \\omega_{2} t} + 2 c_{2} \\sqrt{\\omega_{2}} x y + e^{i t} e^{i \\omega_{2} t}\\right) e^{- \\frac{x^{2}}{2}} e^{- \\frac{3 i t}{2}} e^{- \\frac{\\omega_{2} y^{2}}{2}} e^{- \\frac{3 i \\omega_{2} t}{2}}}{\\sqrt{\\pi}}$"
      ],
      "text/plain": [
       "omega2**(1/4)*(sqrt(2)*c1*x*exp(I*omega2*t) + 2*c2*sqrt(omega2)*x*y + exp(I*t)*exp(I*omega2*t))*exp(-x**2/2)*exp(-3*I*t/2)*exp(-omega2*y**2/2)*exp(-3*I*omega2*t/2)/sqrt(pi)"
      ]
     },
     "execution_count": 18,
     "metadata": {},
     "output_type": "execute_result"
    }
   ],
   "source": [
    "Psi = Psi.factor()\n",
    "Psi"
   ]
  },
  {
   "cell_type": "code",
   "execution_count": 23,
   "metadata": {
    "ExecuteTime": {
     "end_time": "2021-02-08T18:02:08.725016Z",
     "start_time": "2021-02-08T18:02:08.715404Z"
    }
   },
   "outputs": [
    {
     "data": {
      "text/latex": [
       "$\\displaystyle \\frac{\\left(\\sqrt{2} c_{1} x e^{i t} + 2 c_{2} x y + e^{2 i t}\\right) e^{- \\frac{x^{2}}{2}} e^{- \\frac{y^{2}}{2}} e^{- 3 i t}}{\\sqrt{\\pi}}$"
      ],
      "text/plain": [
       "(sqrt(2)*c1*x*exp(I*t) + 2*c2*x*y + exp(2*I*t))*exp(-x**2/2)*exp(-y**2/2)*exp(-3*I*t)/sqrt(pi)"
      ]
     },
     "execution_count": 23,
     "metadata": {},
     "output_type": "execute_result"
    }
   ],
   "source": [
    "Psi.subs(omega2,1)"
   ]
  },
  {
   "cell_type": "markdown",
   "metadata": {},
   "source": [
    "# Compute nodal points"
   ]
  },
  {
   "cell_type": "markdown",
   "metadata": {},
   "source": [
    "Extract LHS factor"
   ]
  },
  {
   "cell_type": "code",
   "execution_count": 75,
   "metadata": {
    "ExecuteTime": {
     "end_time": "2021-01-13T23:40:11.754569Z",
     "start_time": "2021-01-13T23:40:11.742591Z"
    }
   },
   "outputs": [
    {
     "data": {
      "text/latex": [
       "$\\displaystyle \\sqrt{2} c_{1} x e^{\\frac{i t}{c^{2}}} \\left|{c}\\right| + 2 c_{2} x y + e^{i t} e^{\\frac{i t}{c^{2}}} \\left|{c}\\right|$"
      ],
      "text/plain": [
       "sqrt(2)*c1*x*exp(I*t/c**2)*Abs(c) + 2*c2*x*y + exp(I*t)*exp(I*t/c**2)*Abs(c)"
      ]
     },
     "execution_count": 75,
     "metadata": {},
     "output_type": "execute_result"
    }
   ],
   "source": [
    "factor_main = Psi.args[2]\n",
    "factor_main"
   ]
  },
  {
   "cell_type": "markdown",
   "metadata": {},
   "source": [
    "Rewrite $e^{it}$ using polar form"
   ]
  },
  {
   "cell_type": "code",
   "execution_count": 76,
   "metadata": {
    "ExecuteTime": {
     "end_time": "2021-01-13T23:40:13.737539Z",
     "start_time": "2021-01-13T23:40:12.958248Z"
    }
   },
   "outputs": [
    {
     "data": {
      "text/latex": [
       "$\\displaystyle \\sqrt{2} i c_{1} x \\sin{\\left(\\frac{t}{c^{2}} \\right)} \\left|{c}\\right| + \\sqrt{2} c_{1} x \\cos{\\left(\\frac{t}{c^{2}} \\right)} \\left|{c}\\right| + 2 c_{2} x y + i \\sin{\\left(t + \\frac{t}{c^{2}} \\right)} \\left|{c}\\right| + \\cos{\\left(t + \\frac{t}{c^{2}} \\right)} \\left|{c}\\right|$"
      ],
      "text/plain": [
       "sqrt(2)*I*c1*x*sin(t/c**2)*Abs(c) + sqrt(2)*c1*x*cos(t/c**2)*Abs(c) + 2*c2*x*y + I*sin(t + t/c**2)*Abs(c) + cos(t + t/c**2)*Abs(c)"
      ]
     },
     "execution_count": 76,
     "metadata": {},
     "output_type": "execute_result"
    }
   ],
   "source": [
    "expr = factor_main\n",
    "expr = expr.rewrite(sym.cos).expand()\n",
    "expr = expr.simplify()\n",
    "expr"
   ]
  },
  {
   "cell_type": "markdown",
   "metadata": {},
   "source": [
    "Extract REAL part"
   ]
  },
  {
   "cell_type": "code",
   "execution_count": 77,
   "metadata": {
    "ExecuteTime": {
     "end_time": "2021-01-13T23:40:18.168180Z",
     "start_time": "2021-01-13T23:40:18.149568Z"
    }
   },
   "outputs": [
    {
     "data": {
      "text/latex": [
       "$\\displaystyle \\sqrt{2} c_{1} x \\cos{\\left(\\frac{t}{c^{2}} \\right)} \\left|{c}\\right| + 2 c_{2} x y + \\cos{\\left(t + \\frac{t}{c^{2}} \\right)} \\left|{c}\\right|$"
      ],
      "text/plain": [
       "sqrt(2)*c1*x*cos(t/c**2)*Abs(c) + 2*c2*x*y + cos(t + t/c**2)*Abs(c)"
      ]
     },
     "execution_count": 77,
     "metadata": {},
     "output_type": "execute_result"
    }
   ],
   "source": [
    "expr_real = sym.re(expr)\n",
    "expr_real"
   ]
  },
  {
   "cell_type": "markdown",
   "metadata": {},
   "source": [
    "Extract IMAGINARY part"
   ]
  },
  {
   "cell_type": "code",
   "execution_count": 78,
   "metadata": {
    "ExecuteTime": {
     "end_time": "2021-01-13T23:40:18.168180Z",
     "start_time": "2021-01-13T23:40:18.149568Z"
    }
   },
   "outputs": [
    {
     "data": {
      "text/latex": [
       "$\\displaystyle \\sqrt{2} c_{1} x \\sin{\\left(\\frac{t}{c^{2}} \\right)} \\left|{c}\\right| + \\sin{\\left(t + \\frac{t}{c^{2}} \\right)} \\left|{c}\\right|$"
      ],
      "text/plain": [
       "sqrt(2)*c1*x*sin(t/c**2)*Abs(c) + sin(t + t/c**2)*Abs(c)"
      ]
     },
     "execution_count": 78,
     "metadata": {},
     "output_type": "execute_result"
    }
   ],
   "source": [
    "expr_im = sym.im(expr)\n",
    "expr_im"
   ]
  },
  {
   "cell_type": "markdown",
   "metadata": {},
   "source": [
    "SOLVE $x$ for nodal point"
   ]
  },
  {
   "cell_type": "code",
   "execution_count": 79,
   "metadata": {
    "ExecuteTime": {
     "end_time": "2021-01-13T23:40:19.873111Z",
     "start_time": "2021-01-13T23:40:19.676728Z"
    }
   },
   "outputs": [
    {
     "data": {
      "text/latex": [
       "$\\displaystyle - \\frac{\\sqrt{2} \\sin{\\left(t + \\frac{t}{c^{2}} \\right)}}{2 c_{1} \\sin{\\left(\\frac{t}{c^{2}} \\right)}}$"
      ],
      "text/plain": [
       "-sqrt(2)*sin(t + t/c**2)/(2*c1*sin(t/c**2))"
      ]
     },
     "execution_count": 79,
     "metadata": {},
     "output_type": "execute_result"
    }
   ],
   "source": [
    "x_nodal = sym.solve(expr_im, x)[0]\n",
    "x_nodal"
   ]
  },
  {
   "cell_type": "code",
   "execution_count": 80,
   "metadata": {
    "ExecuteTime": {
     "end_time": "2021-01-13T23:40:23.166606Z",
     "start_time": "2021-01-13T23:40:22.343522Z"
    }
   },
   "outputs": [
    {
     "data": {
      "text/latex": [
       "$\\displaystyle - \\frac{c_{1} \\sin{\\left(t \\right)} \\left|{c}\\right| + \\sqrt{2} c_{2} y \\sin{\\left(t + \\frac{t}{c^{2}} \\right)}}{c_{1} \\sin{\\left(\\frac{t}{c^{2}} \\right)}}$"
      ],
      "text/plain": [
       "-(c1*sin(t)*Abs(c) + sqrt(2)*c2*y*sin(t + t/c**2))/(c1*sin(t/c**2))"
      ]
     },
     "execution_count": 80,
     "metadata": {},
     "output_type": "execute_result"
    }
   ],
   "source": [
    "expr_real = expr_real.subs(x, x_nodal).simplify()\n",
    "expr_real"
   ]
  },
  {
   "cell_type": "markdown",
   "metadata": {
    "ExecuteTime": {
     "end_time": "2021-01-13T23:30:31.656101Z",
     "start_time": "2021-01-13T23:30:31.647326Z"
    }
   },
   "source": [
    "SOLVE $y$ for nodal point"
   ]
  },
  {
   "cell_type": "code",
   "execution_count": 81,
   "metadata": {
    "ExecuteTime": {
     "end_time": "2021-01-13T23:40:25.549837Z",
     "start_time": "2021-01-13T23:40:25.365379Z"
    }
   },
   "outputs": [
    {
     "data": {
      "text/latex": [
       "$\\displaystyle - \\frac{\\sqrt{2} c_{1} \\sin{\\left(t \\right)} \\left|{c}\\right|}{2 c_{2} \\sin{\\left(t + \\frac{t}{c^{2}} \\right)}}$"
      ],
      "text/plain": [
       "-sqrt(2)*c1*sin(t)*Abs(c)/(2*c2*sin(t + t/c**2))"
      ]
     },
     "execution_count": 81,
     "metadata": {},
     "output_type": "execute_result"
    }
   ],
   "source": [
    "y_nodal = sym.solve(expr_real, y)[0]\n",
    "y_nodal"
   ]
  },
  {
   "cell_type": "markdown",
   "metadata": {},
   "source": [
    "# Pilot-wave equations $\\omega_1 = 1$"
   ]
  },
  {
   "cell_type": "markdown",
   "metadata": {},
   "source": [
    "We want to work out\n",
    "\n",
    "\\begin{equation}\n",
    "m \\frac{d\\mathbf{r}}{dt} = \\hbar Im\\{ \\frac{\\nabla \\Psi}{\\Psi} \\}\n",
    "\\end{equation}"
   ]
  },
  {
   "cell_type": "code",
   "execution_count": 17,
   "metadata": {
    "ExecuteTime": {
     "end_time": "2021-01-15T10:25:39.680948Z",
     "start_time": "2021-01-15T10:25:39.678948Z"
    }
   },
   "outputs": [],
   "source": [
    "from sympy.vector import CoordSys3D, gradient\n",
    "r = CoordSys3D('r')"
   ]
  },
  {
   "cell_type": "code",
   "execution_count": 18,
   "metadata": {
    "ExecuteTime": {
     "end_time": "2021-01-15T10:25:40.100163Z",
     "start_time": "2021-01-15T10:25:40.091185Z"
    }
   },
   "outputs": [],
   "source": [
    "Psi = Psi.subs([(x, r.x), (y, r.y)])"
   ]
  },
  {
   "cell_type": "markdown",
   "metadata": {},
   "source": [
    "$\\nabla_{x,y} \\Psi = $"
   ]
  },
  {
   "cell_type": "code",
   "execution_count": 19,
   "metadata": {
    "ExecuteTime": {
     "end_time": "2021-01-15T10:25:40.964632Z",
     "start_time": "2021-01-15T10:25:40.921747Z"
    }
   },
   "outputs": [
    {
     "data": {
      "text/latex": [
       "$\\displaystyle (- \\frac{\\mathbf{{x}_{r}} \\left(2 \\mathbf{{x}_{r}} \\mathbf{{y}_{r}} c_{2} + \\sqrt{2} \\mathbf{{x}_{r}} c_{1} e^{\\frac{i t}{c^{2}}} \\left|{c}\\right| + e^{i t} e^{\\frac{i t}{c^{2}}} \\left|{c}\\right|\\right) e^{- \\frac{\\mathbf{{x}_{r}}^{2}}{2}} e^{- \\frac{\\mathbf{{y}_{r}}^{2}}{2 c^{2}}} e^{- \\frac{3 i t}{2}} e^{- \\frac{3 i t}{2 c^{2}}}}{\\sqrt{\\pi} \\left|{c}\\right|^{\\frac{3}{2}}} + \\frac{\\left(2 \\mathbf{{y}_{r}} c_{2} + \\sqrt{2} c_{1} e^{\\frac{i t}{c^{2}}} \\left|{c}\\right|\\right) e^{- \\frac{\\mathbf{{x}_{r}}^{2}}{2}} e^{- \\frac{\\mathbf{{y}_{r}}^{2}}{2 c^{2}}} e^{- \\frac{3 i t}{2}} e^{- \\frac{3 i t}{2 c^{2}}}}{\\sqrt{\\pi} \\left|{c}\\right|^{\\frac{3}{2}}})\\mathbf{\\hat{i}_{r}} + (\\frac{2 \\mathbf{{x}_{r}} c_{2} e^{- \\frac{\\mathbf{{x}_{r}}^{2}}{2}} e^{- \\frac{\\mathbf{{y}_{r}}^{2}}{2 c^{2}}} e^{- \\frac{3 i t}{2}} e^{- \\frac{3 i t}{2 c^{2}}}}{\\sqrt{\\pi} \\left|{c}\\right|^{\\frac{3}{2}}} - \\frac{\\mathbf{{y}_{r}} \\left(2 \\mathbf{{x}_{r}} \\mathbf{{y}_{r}} c_{2} + \\sqrt{2} \\mathbf{{x}_{r}} c_{1} e^{\\frac{i t}{c^{2}}} \\left|{c}\\right| + e^{i t} e^{\\frac{i t}{c^{2}}} \\left|{c}\\right|\\right) e^{- \\frac{\\mathbf{{x}_{r}}^{2}}{2}} e^{- \\frac{\\mathbf{{y}_{r}}^{2}}{2 c^{2}}} e^{- \\frac{3 i t}{2}} e^{- \\frac{3 i t}{2 c^{2}}}}{\\sqrt{\\pi} c^{2} \\left|{c}\\right|^{\\frac{3}{2}}})\\mathbf{\\hat{j}_{r}}$"
      ],
      "text/plain": [
       "(-r.x*(2*r.x*r.y*c2 + sqrt(2)*r.x*c1*exp(I*t/c**2)*Abs(c) + exp(I*t)*exp(I*t/c**2)*Abs(c))*exp(-r.x**2/2)*exp(-r.y**2/(2*c**2))*exp(-3*I*t/2)*exp(-3*I*t/(2*c**2))/(sqrt(pi)*Abs(c)**(3/2)) + (2*r.y*c2 + sqrt(2)*c1*exp(I*t/c**2)*Abs(c))*exp(-r.x**2/2)*exp(-r.y**2/(2*c**2))*exp(-3*I*t/2)*exp(-3*I*t/(2*c**2))/(sqrt(pi)*Abs(c)**(3/2)))*r.i + (2*r.x*c2*exp(-r.x**2/2)*exp(-r.y**2/(2*c**2))*exp(-3*I*t/2)*exp(-3*I*t/(2*c**2))/(sqrt(pi)*Abs(c)**(3/2)) - r.y*(2*r.x*r.y*c2 + sqrt(2)*r.x*c1*exp(I*t/c**2)*Abs(c) + exp(I*t)*exp(I*t/c**2)*Abs(c))*exp(-r.x**2/2)*exp(-r.y**2/(2*c**2))*exp(-3*I*t/2)*exp(-3*I*t/(2*c**2))/(sqrt(pi)*c**2*Abs(c)**(3/2)))*r.j"
      ]
     },
     "execution_count": 19,
     "metadata": {},
     "output_type": "execute_result"
    }
   ],
   "source": [
    "Del_Psi = gradient(Psi)\n",
    "Del_Psi"
   ]
  },
  {
   "cell_type": "markdown",
   "metadata": {},
   "source": [
    "Compute $$Im\\{ \\frac{\\nabla \\Psi}{\\Psi} \\}$$"
   ]
  },
  {
   "cell_type": "markdown",
   "metadata": {},
   "source": [
    "where $\\Psi = $"
   ]
  },
  {
   "cell_type": "code",
   "execution_count": 20,
   "metadata": {
    "ExecuteTime": {
     "end_time": "2021-01-15T10:31:15.709806Z",
     "start_time": "2021-01-15T10:31:15.701556Z"
    }
   },
   "outputs": [
    {
     "data": {
      "text/latex": [
       "$\\displaystyle \\frac{\\left(2 \\mathbf{{x}_{r}} \\mathbf{{y}_{r}} c_{2} + \\sqrt{2} \\mathbf{{x}_{r}} c_{1} e^{\\frac{i t}{c^{2}}} \\left|{c}\\right| + e^{i t} e^{\\frac{i t}{c^{2}}} \\left|{c}\\right|\\right) e^{- \\frac{\\mathbf{{x}_{r}}^{2}}{2}} e^{- \\frac{\\mathbf{{y}_{r}}^{2}}{2 c^{2}}} e^{- \\frac{3 i t}{2}} e^{- \\frac{3 i t}{2 c^{2}}}}{\\sqrt{\\pi} \\left|{c}\\right|^{\\frac{3}{2}}}$"
      ],
      "text/plain": [
       "(2*r.x*r.y*c2 + sqrt(2)*r.x*c1*exp(I*t/c**2)*Abs(c) + exp(I*t)*exp(I*t/c**2)*Abs(c))*exp(-r.x**2/2)*exp(-r.y**2/(2*c**2))*exp(-3*I*t/2)*exp(-3*I*t/(2*c**2))/(sqrt(pi)*Abs(c)**(3/2))"
      ]
     },
     "execution_count": 20,
     "metadata": {},
     "output_type": "execute_result"
    }
   ],
   "source": [
    "Psi"
   ]
  },
  {
   "cell_type": "markdown",
   "metadata": {},
   "source": [
    "https://mathworld.wolfram.com/ComplexDivision.html"
   ]
  },
  {
   "cell_type": "markdown",
   "metadata": {},
   "source": [
    "Division in polar form of two complex numbers $z_1$ and $z_2$ in polar form\n",
    "\n",
    "\n",
    "\\begin{align*}\n",
    "z_1 = r_1(cos \\phi_1 + i sin \\phi_1)\\\\\n",
    "z_2 = r_2(cos \\phi_2 + i sin \\phi_2)\n",
    "\\end{align*}\n",
    "\n",
    "then, taking the \n",
    "\n",
    "\\begin{equation*}\n",
    "\\frac{z_1}{z_2} = \\frac{r_1}{r_2} (cos(\\phi_1 - \\phi_2) + i sin(\\phi_1 - \\phi_2))\n",
    "\\end{equation*}\n",
    "\n",
    "Then,\n",
    "\n",
    "\\begin{equation*}\n",
    "Im\\{ \\frac{z_1}{z_2} \\} = \\frac{r_1}{r_2} sin(\\phi_1 - \\phi_2)\n",
    "\\end{equation*}\n",
    "\n",
    "\n",
    "SOURCE https://en.wikipedia.org/wiki/Complex_number#Reciprocal_and_division "
   ]
  },
  {
   "cell_type": "markdown",
   "metadata": {},
   "source": [
    "<span style=\"color:red\"><b>NOTE : Conitnue with this</b></span> Michael defined D as the square module of $\\Psi$. Then, we take \n",
    "\n",
    "$$\\frac{\\bar{\\Psi} \\nabla \\Psi}{\\bar{\\Psi} \\Psi}$$"
   ]
  },
  {
   "cell_type": "code",
   "execution_count": 21,
   "metadata": {
    "ExecuteTime": {
     "end_time": "2021-01-15T10:32:08.044990Z",
     "start_time": "2021-01-15T10:32:08.013370Z"
    }
   },
   "outputs": [
    {
     "data": {
      "text/latex": [
       "$\\displaystyle (\\frac{\\sqrt{\\pi} \\left(- \\frac{\\mathbf{{x}_{r}} \\left(2 \\mathbf{{x}_{r}} \\mathbf{{y}_{r}} c_{2} + \\sqrt{2} \\mathbf{{x}_{r}} c_{1} e^{\\frac{i t}{c^{2}}} \\left|{c}\\right| + e^{i t} e^{\\frac{i t}{c^{2}}} \\left|{c}\\right|\\right) e^{- \\frac{\\mathbf{{x}_{r}}^{2}}{2}} e^{- \\frac{\\mathbf{{y}_{r}}^{2}}{2 c^{2}}} e^{- \\frac{3 i t}{2}} e^{- \\frac{3 i t}{2 c^{2}}}}{\\sqrt{\\pi} \\left|{c}\\right|^{\\frac{3}{2}}} + \\frac{\\left(2 \\mathbf{{y}_{r}} c_{2} + \\sqrt{2} c_{1} e^{\\frac{i t}{c^{2}}} \\left|{c}\\right|\\right) e^{- \\frac{\\mathbf{{x}_{r}}^{2}}{2}} e^{- \\frac{\\mathbf{{y}_{r}}^{2}}{2 c^{2}}} e^{- \\frac{3 i t}{2}} e^{- \\frac{3 i t}{2 c^{2}}}}{\\sqrt{\\pi} \\left|{c}\\right|^{\\frac{3}{2}}}\\right) e^{\\frac{\\mathbf{{x}_{r}}^{2}}{2}} e^{\\frac{\\mathbf{{y}_{r}}^{2}}{2 c^{2}}} e^{\\frac{3 i t}{2}} e^{\\frac{3 i t}{2 c^{2}}} \\left|{c}\\right|^{\\frac{3}{2}}}{2 \\mathbf{{x}_{r}} \\mathbf{{y}_{r}} c_{2} + \\sqrt{2} \\mathbf{{x}_{r}} c_{1} e^{\\frac{i t}{c^{2}}} \\left|{c}\\right| + e^{i t} e^{\\frac{i t}{c^{2}}} \\left|{c}\\right|})\\mathbf{\\hat{i}_{r}} + (\\frac{\\sqrt{\\pi} \\left(\\frac{2 \\mathbf{{x}_{r}} c_{2} e^{- \\frac{\\mathbf{{x}_{r}}^{2}}{2}} e^{- \\frac{\\mathbf{{y}_{r}}^{2}}{2 c^{2}}} e^{- \\frac{3 i t}{2}} e^{- \\frac{3 i t}{2 c^{2}}}}{\\sqrt{\\pi} \\left|{c}\\right|^{\\frac{3}{2}}} - \\frac{\\mathbf{{y}_{r}} \\left(2 \\mathbf{{x}_{r}} \\mathbf{{y}_{r}} c_{2} + \\sqrt{2} \\mathbf{{x}_{r}} c_{1} e^{\\frac{i t}{c^{2}}} \\left|{c}\\right| + e^{i t} e^{\\frac{i t}{c^{2}}} \\left|{c}\\right|\\right) e^{- \\frac{\\mathbf{{x}_{r}}^{2}}{2}} e^{- \\frac{\\mathbf{{y}_{r}}^{2}}{2 c^{2}}} e^{- \\frac{3 i t}{2}} e^{- \\frac{3 i t}{2 c^{2}}}}{\\sqrt{\\pi} c^{2} \\left|{c}\\right|^{\\frac{3}{2}}}\\right) e^{\\frac{\\mathbf{{x}_{r}}^{2}}{2}} e^{\\frac{\\mathbf{{y}_{r}}^{2}}{2 c^{2}}} e^{\\frac{3 i t}{2}} e^{\\frac{3 i t}{2 c^{2}}} \\left|{c}\\right|^{\\frac{3}{2}}}{2 \\mathbf{{x}_{r}} \\mathbf{{y}_{r}} c_{2} + \\sqrt{2} \\mathbf{{x}_{r}} c_{1} e^{\\frac{i t}{c^{2}}} \\left|{c}\\right| + e^{i t} e^{\\frac{i t}{c^{2}}} \\left|{c}\\right|})\\mathbf{\\hat{j}_{r}}$"
      ],
      "text/plain": [
       "(sqrt(pi)*(-r.x*(2*r.x*r.y*c2 + sqrt(2)*r.x*c1*exp(I*t/c**2)*Abs(c) + exp(I*t)*exp(I*t/c**2)*Abs(c))*exp(-r.x**2/2)*exp(-r.y**2/(2*c**2))*exp(-3*I*t/2)*exp(-3*I*t/(2*c**2))/(sqrt(pi)*Abs(c)**(3/2)) + (2*r.y*c2 + sqrt(2)*c1*exp(I*t/c**2)*Abs(c))*exp(-r.x**2/2)*exp(-r.y**2/(2*c**2))*exp(-3*I*t/2)*exp(-3*I*t/(2*c**2))/(sqrt(pi)*Abs(c)**(3/2)))*exp(r.x**2/2)*exp(r.y**2/(2*c**2))*exp(3*I*t/2)*exp(3*I*t/(2*c**2))*Abs(c)**(3/2)/(2*r.x*r.y*c2 + sqrt(2)*r.x*c1*exp(I*t/c**2)*Abs(c) + exp(I*t)*exp(I*t/c**2)*Abs(c)))*r.i + (sqrt(pi)*(2*r.x*c2*exp(-r.x**2/2)*exp(-r.y**2/(2*c**2))*exp(-3*I*t/2)*exp(-3*I*t/(2*c**2))/(sqrt(pi)*Abs(c)**(3/2)) - r.y*(2*r.x*r.y*c2 + sqrt(2)*r.x*c1*exp(I*t/c**2)*Abs(c) + exp(I*t)*exp(I*t/c**2)*Abs(c))*exp(-r.x**2/2)*exp(-r.y**2/(2*c**2))*exp(-3*I*t/2)*exp(-3*I*t/(2*c**2))/(sqrt(pi)*c**2*Abs(c)**(3/2)))*exp(r.x**2/2)*exp(r.y**2/(2*c**2))*exp(3*I*t/2)*exp(3*I*t/(2*c**2))*Abs(c)**(3/2)/(2*r.x*r.y*c2 + sqrt(2)*r.x*c1*exp(I*t/c**2)*Abs(c) + exp(I*t)*exp(I*t/c**2)*Abs(c)))*r.j"
      ]
     },
     "execution_count": 21,
     "metadata": {},
     "output_type": "execute_result"
    }
   ],
   "source": [
    "expr = Del_Psi/Psi\n",
    "expr"
   ]
  },
  {
   "cell_type": "code",
   "execution_count": 24,
   "metadata": {
    "ExecuteTime": {
     "end_time": "2021-01-15T10:35:34.585680Z",
     "start_time": "2021-01-15T10:35:34.290623Z"
    }
   },
   "outputs": [
    {
     "data": {
      "text/latex": [
       "$\\displaystyle (\\frac{- \\mathbf{{x}_{r}} \\left(2 \\mathbf{{x}_{r}} \\mathbf{{y}_{r}} c_{2} + \\sqrt{2} \\mathbf{{x}_{r}} c_{1} e^{\\frac{i t}{c^{2}}} \\left|{c}\\right| + e^{i t \\left(1 + \\frac{1}{c^{2}}\\right)} \\left|{c}\\right|\\right) + 2 \\mathbf{{y}_{r}} c_{2} + \\sqrt{2} c_{1} e^{\\frac{i t}{c^{2}}} \\left|{c}\\right|}{2 \\mathbf{{x}_{r}} \\mathbf{{y}_{r}} c_{2} + \\sqrt{2} \\mathbf{{x}_{r}} c_{1} e^{\\frac{i t}{c^{2}}} \\left|{c}\\right| + e^{i t + \\frac{i t}{c^{2}}} \\left|{c}\\right|})\\mathbf{\\hat{i}_{r}}$"
      ],
      "text/plain": [
       "((-r.x*(2*r.x*r.y*c2 + sqrt(2)*r.x*c1*exp(I*t/c**2)*Abs(c) + exp(I*t*(1 + c**(-2)))*Abs(c)) + 2*r.y*c2 + sqrt(2)*c1*exp(I*t/c**2)*Abs(c))/(2*r.x*r.y*c2 + sqrt(2)*r.x*c1*exp(I*t/c**2)*Abs(c) + exp(I*t + I*t/c**2)*Abs(c)))*r.i"
      ]
     },
     "execution_count": 24,
     "metadata": {},
     "output_type": "execute_result"
    }
   ],
   "source": [
    "dx_dt = expr.args[0].simplify()\n",
    "dx_dt"
   ]
  },
  {
   "cell_type": "code",
   "execution_count": 38,
   "metadata": {
    "ExecuteTime": {
     "end_time": "2021-01-15T10:38:24.660486Z",
     "start_time": "2021-01-15T10:38:24.651359Z"
    }
   },
   "outputs": [
    {
     "data": {
      "text/plain": [
       "False"
      ]
     },
     "execution_count": 38,
     "metadata": {},
     "output_type": "execute_result"
    }
   ],
   "source": []
  },
  {
   "cell_type": "code",
   "execution_count": 25,
   "metadata": {
    "ExecuteTime": {
     "end_time": "2021-01-15T10:35:42.805587Z",
     "start_time": "2021-01-15T10:35:42.375259Z"
    }
   },
   "outputs": [
    {
     "data": {
      "text/latex": [
       "$\\displaystyle (\\frac{- 2 \\mathbf{{x}_{r}} \\mathbf{{y}_{r}}^{2} c_{2} - \\sqrt{2} \\mathbf{{x}_{r}} \\mathbf{{y}_{r}} c_{1} e^{\\frac{i t}{c^{2}}} \\left|{c}\\right| + 2 \\mathbf{{x}_{r}} c^{2} c_{2} - \\mathbf{{y}_{r}} e^{i t + \\frac{i t}{c^{2}}} \\left|{c}\\right|}{c^{2} \\left(2 \\mathbf{{x}_{r}} \\mathbf{{y}_{r}} c_{2} + \\sqrt{2} \\mathbf{{x}_{r}} c_{1} e^{\\frac{i t}{c^{2}}} \\left|{c}\\right| + e^{i t + \\frac{i t}{c^{2}}} \\left|{c}\\right|\\right)})\\mathbf{\\hat{j}_{r}}$"
      ],
      "text/plain": [
       "((-2*r.x*r.y**2*c2 - sqrt(2)*r.x*r.y*c1*exp(I*t/c**2)*Abs(c) + 2*r.x*c**2*c2 - r.y*exp(I*t + I*t/c**2)*Abs(c))/(c**2*(2*r.x*r.y*c2 + sqrt(2)*r.x*c1*exp(I*t/c**2)*Abs(c) + exp(I*t + I*t/c**2)*Abs(c))))*r.j"
      ]
     },
     "execution_count": 25,
     "metadata": {},
     "output_type": "execute_result"
    }
   ],
   "source": [
    "dy_dt = expr.args[1].simplify()\n",
    "dy_dt"
   ]
  },
  {
   "cell_type": "code",
   "execution_count": 46,
   "metadata": {
    "ExecuteTime": {
     "end_time": "2021-01-15T10:43:40.294784Z",
     "start_time": "2021-01-15T10:43:40.270738Z"
    }
   },
   "outputs": [
    {
     "data": {
      "text/latex": [
       "$\\displaystyle \\frac{\\left(2 \\mathbf{{x}_{r}} \\mathbf{{y}_{r}} c_{2} + \\sqrt{2} \\mathbf{{x}_{r}} c_{1} e^{\\frac{i t}{c^{2}}} \\left|{c}\\right| + e^{i t} e^{\\frac{i t}{c^{2}}} \\left|{c}\\right|\\right) \\left(\\sqrt{2} c_{1} e^{- \\frac{i t}{c^{2}}} \\overline{\\mathbf{{x}_{r}}} \\left|{c}\\right| + 2 c_{2} \\overline{\\mathbf{{x}_{r}}} \\overline{\\mathbf{{y}_{r}}} + e^{- i t} e^{- \\frac{i t}{c^{2}}} \\left|{c}\\right|\\right) e^{- \\frac{\\mathbf{{x}_{r}}^{2}}{2}} e^{- \\frac{\\mathbf{{y}_{r}}^{2}}{2 c^{2}}} e^{- \\frac{\\overline{\\mathbf{{y}_{r}}}^{2}}{2 c^{2}}} e^{- \\frac{\\overline{\\mathbf{{x}_{r}}}^{2}}{2}} \\overline{\\frac{1}{\\left|{c}\\right|^{\\frac{3}{2}}}}}{\\pi \\left|{c}\\right|^{\\frac{3}{2}}}$"
      ],
      "text/plain": [
       "(2*r.x*r.y*c2 + sqrt(2)*r.x*c1*exp(I*t/c**2)*Abs(c) + exp(I*t)*exp(I*t/c**2)*Abs(c))*(sqrt(2)*c1*exp(-I*t/c**2)*conjugate(r.x)*Abs(c) + 2*c2*conjugate(r.x)*conjugate(r.y) + exp(-I*t)*exp(-I*t/c**2)*Abs(c))*exp(-r.x**2/2)*exp(-r.y**2/(2*c**2))*exp(-conjugate(r.y)**2/(2*c**2))*exp(-conjugate(r.x)**2/2)*conjugate(Abs(c)**(-3/2))/(pi*Abs(c)**(3/2))"
      ]
     },
     "execution_count": 46,
     "metadata": {},
     "output_type": "execute_result"
    }
   ],
   "source": [
    "Psi*Psi.conjugate()"
   ]
  },
  {
   "cell_type": "markdown",
   "metadata": {},
   "source": [
    "__ATTEMPT__ Try expanded form of $\\Psi$ as sum of wavefunctions and compute its square module."
   ]
  },
  {
   "cell_type": "code",
   "execution_count": 86,
   "metadata": {
    "ExecuteTime": {
     "end_time": "2021-01-15T11:34:05.445795Z",
     "start_time": "2021-01-15T11:34:05.434165Z"
    }
   },
   "outputs": [
    {
     "data": {
      "text/latex": [
       "$\\displaystyle \\frac{\\sqrt{2} c_{1} x e^{- i t \\left(\\frac{3}{2} + \\frac{1}{2 c^{2}}\\right)} e^{- \\frac{x^{2}}{2} - \\frac{y^{2}}{2 c^{2}}}}{\\sqrt{\\pi} \\sqrt{\\left|{c}\\right|}} + \\frac{2 c_{2} x y e^{- i t \\left(\\frac{3}{2} + \\frac{3}{2 c^{2}}\\right)} e^{- \\frac{x^{2}}{2} - \\frac{y^{2}}{2 c^{2}}}}{\\sqrt{\\pi} \\left|{c}\\right|^{\\frac{3}{2}}} + \\frac{e^{- i t \\left(\\frac{1}{2} + \\frac{1}{2 c^{2}}\\right)} e^{- \\frac{x^{2}}{2} - \\frac{y^{2}}{2 c^{2}}}}{\\sqrt{\\pi} \\sqrt{\\left|{c}\\right|}}$"
      ],
      "text/plain": [
       "sqrt(2)*c1*x*exp(-I*t*(3/2 + 1/(2*c**2)))*exp(-x**2/2 - y**2/(2*c**2))/(sqrt(pi)*sqrt(Abs(c))) + 2*c2*x*y*exp(-I*t*(3/2 + 3/(2*c**2)))*exp(-x**2/2 - y**2/(2*c**2))/(sqrt(pi)*Abs(c)**(3/2)) + exp(-I*t*(1/2 + 1/(2*c**2)))*exp(-x**2/2 - y**2/(2*c**2))/(sqrt(pi)*sqrt(Abs(c)))"
      ]
     },
     "execution_count": 86,
     "metadata": {},
     "output_type": "execute_result"
    }
   ],
   "source": [
    "Psi"
   ]
  },
  {
   "cell_type": "markdown",
   "metadata": {},
   "source": [
    "<span style=\"color:red\"><b>CONTINUE HERE</b></span>"
   ]
  },
  {
   "cell_type": "code",
   "execution_count": 88,
   "metadata": {
    "ExecuteTime": {
     "end_time": "2021-01-15T11:34:25.979119Z",
     "start_time": "2021-01-15T11:34:25.954181Z"
    }
   },
   "outputs": [
    {
     "data": {
      "text/latex": [
       "$\\displaystyle \\frac{2 c_{1}^{2} x^{2} e^{- x^{2}} e^{- \\frac{y^{2}}{c^{2}}} \\overline{\\frac{1}{\\sqrt{\\left|{c}\\right|}}}}{\\pi \\sqrt{\\left|{c}\\right|}} + \\frac{2 \\sqrt{2} c_{1} c_{2} x^{2} y e^{- x^{2}} e^{- \\frac{y^{2}}{c^{2}}} e^{\\frac{i t}{c^{2}}} \\overline{\\frac{1}{\\left|{c}\\right|^{\\frac{3}{2}}}}}{\\pi \\sqrt{\\left|{c}\\right|}} + \\frac{2 \\sqrt{2} c_{1} c_{2} x^{2} y e^{- x^{2}} e^{- \\frac{y^{2}}{c^{2}}} e^{- \\frac{i t}{c^{2}}} \\overline{\\frac{1}{\\sqrt{\\left|{c}\\right|}}}}{\\pi \\left|{c}\\right|^{\\frac{3}{2}}} + \\frac{\\sqrt{2} c_{1} x e^{- x^{2}} e^{i t} e^{- \\frac{y^{2}}{c^{2}}} \\overline{\\frac{1}{\\sqrt{\\left|{c}\\right|}}}}{\\pi \\sqrt{\\left|{c}\\right|}} + \\frac{\\sqrt{2} c_{1} x e^{- x^{2}} e^{- i t} e^{- \\frac{y^{2}}{c^{2}}} \\overline{\\frac{1}{\\sqrt{\\left|{c}\\right|}}}}{\\pi \\sqrt{\\left|{c}\\right|}} + \\frac{4 c_{2}^{2} x^{2} y^{2} e^{- x^{2}} e^{- \\frac{y^{2}}{c^{2}}} \\overline{\\frac{1}{\\left|{c}\\right|^{\\frac{3}{2}}}}}{\\pi \\left|{c}\\right|^{\\frac{3}{2}}} + \\frac{2 c_{2} x y e^{- x^{2}} e^{i t} e^{- \\frac{y^{2}}{c^{2}}} e^{\\frac{i t}{c^{2}}} \\overline{\\frac{1}{\\left|{c}\\right|^{\\frac{3}{2}}}}}{\\pi \\sqrt{\\left|{c}\\right|}} + \\frac{2 c_{2} x y e^{- x^{2}} e^{- i t} e^{- \\frac{y^{2}}{c^{2}}} e^{- \\frac{i t}{c^{2}}} \\overline{\\frac{1}{\\sqrt{\\left|{c}\\right|}}}}{\\pi \\left|{c}\\right|^{\\frac{3}{2}}} + \\frac{e^{- x^{2}} e^{- \\frac{y^{2}}{c^{2}}} \\overline{\\frac{1}{\\sqrt{\\left|{c}\\right|}}}}{\\pi \\sqrt{\\left|{c}\\right|}}$"
      ],
      "text/plain": [
       "2*c1**2*x**2*exp(-x**2)*exp(-y**2/c**2)*conjugate(1/sqrt(Abs(c)))/(pi*sqrt(Abs(c))) + 2*sqrt(2)*c1*c2*x**2*y*exp(-x**2)*exp(-y**2/c**2)*exp(I*t/c**2)*conjugate(Abs(c)**(-3/2))/(pi*sqrt(Abs(c))) + 2*sqrt(2)*c1*c2*x**2*y*exp(-x**2)*exp(-y**2/c**2)*exp(-I*t/c**2)*conjugate(1/sqrt(Abs(c)))/(pi*Abs(c)**(3/2)) + sqrt(2)*c1*x*exp(-x**2)*exp(I*t)*exp(-y**2/c**2)*conjugate(1/sqrt(Abs(c)))/(pi*sqrt(Abs(c))) + sqrt(2)*c1*x*exp(-x**2)*exp(-I*t)*exp(-y**2/c**2)*conjugate(1/sqrt(Abs(c)))/(pi*sqrt(Abs(c))) + 4*c2**2*x**2*y**2*exp(-x**2)*exp(-y**2/c**2)*conjugate(Abs(c)**(-3/2))/(pi*Abs(c)**(3/2)) + 2*c2*x*y*exp(-x**2)*exp(I*t)*exp(-y**2/c**2)*exp(I*t/c**2)*conjugate(Abs(c)**(-3/2))/(pi*sqrt(Abs(c))) + 2*c2*x*y*exp(-x**2)*exp(-I*t)*exp(-y**2/c**2)*exp(-I*t/c**2)*conjugate(1/sqrt(Abs(c)))/(pi*Abs(c)**(3/2)) + exp(-x**2)*exp(-y**2/c**2)*conjugate(1/sqrt(Abs(c)))/(pi*sqrt(Abs(c)))"
      ]
     },
     "execution_count": 88,
     "metadata": {},
     "output_type": "execute_result"
    }
   ],
   "source": [
    "Psi_sqr = Psi*Psi.conjugate()\n",
    "Psi_sqr = Psi_sqr.expand()\n",
    "Psi_sqr"
   ]
  },
  {
   "cell_type": "markdown",
   "metadata": {},
   "source": [
    "__NOT WORKING__ (Don't continue)"
   ]
  },
  {
   "cell_type": "code",
   "execution_count": 92,
   "metadata": {
    "ExecuteTime": {
     "end_time": "2021-01-15T11:37:46.504850Z",
     "start_time": "2021-01-15T11:37:45.459506Z"
    }
   },
   "outputs": [
    {
     "data": {
      "text/latex": [
       "$\\displaystyle \\frac{\\left(2 \\sqrt{2} c^{2} c_{1} c_{2} x^{2} y e^{i t} + 2 \\sqrt{2} c^{2} c_{1} c_{2} x^{2} y e^{i t \\left(1 + \\frac{2}{c^{2}}\\right)} + 2 c^{2} c_{2} x y e^{2 i t \\left(1 + \\frac{1}{c^{2}}\\right)} + 2 c^{2} c_{2} x y + 2 c_{1}^{2} x^{2} e^{i t \\left(1 + \\frac{1}{c^{2}}\\right)} \\left|{c^{\\frac{3}{2}}}\\right|^{2} + \\sqrt{2} c_{1} x e^{\\frac{i t}{c^{2}}} \\left|{c^{\\frac{3}{2}}}\\right|^{2} + \\sqrt{2} c_{1} x e^{i t \\left(2 + \\frac{1}{c^{2}}\\right)} \\left|{c^{\\frac{3}{2}}}\\right|^{2} + 4 c_{2}^{2} x^{2} y^{2} e^{i t \\left(1 + \\frac{1}{c^{2}}\\right)} \\left|{\\sqrt{c}}\\right|^{2} + e^{i t \\left(1 + \\frac{1}{c^{2}}\\right)} \\left|{c^{\\frac{3}{2}}}\\right|^{2}\\right) e^{- i t - x^{2} - \\frac{i t}{c^{2}} - \\frac{y^{2}}{c^{2}}}}{\\pi c^{4}}$"
      ],
      "text/plain": [
       "(2*sqrt(2)*c**2*c1*c2*x**2*y*exp(I*t) + 2*sqrt(2)*c**2*c1*c2*x**2*y*exp(I*t*(1 + 2/c**2)) + 2*c**2*c2*x*y*exp(2*I*t*(1 + c**(-2))) + 2*c**2*c2*x*y + 2*c1**2*x**2*exp(I*t*(1 + c**(-2)))*Abs(c**(3/2))**2 + sqrt(2)*c1*x*exp(I*t/c**2)*Abs(c**(3/2))**2 + sqrt(2)*c1*x*exp(I*t*(2 + c**(-2)))*Abs(c**(3/2))**2 + 4*c2**2*x**2*y**2*exp(I*t*(1 + c**(-2)))*Abs(sqrt(c))**2 + exp(I*t*(1 + c**(-2)))*Abs(c**(3/2))**2)*exp(-I*t - x**2 - I*t/c**2 - y**2/c**2)/(pi*c**4)"
      ]
     },
     "execution_count": 92,
     "metadata": {},
     "output_type": "execute_result"
    }
   ],
   "source": [
    "Psi_sqr.simplify()"
   ]
  },
  {
   "cell_type": "code",
   "execution_count": 64,
   "metadata": {
    "ExecuteTime": {
     "end_time": "2021-01-15T11:24:08.713811Z",
     "start_time": "2021-01-15T11:24:08.712122Z"
    }
   },
   "outputs": [],
   "source": [
    "from sympy import Abs"
   ]
  },
  {
   "cell_type": "markdown",
   "metadata": {},
   "source": [
    "# Pilot-Wave equations $\\omega_1 \\neq 1$"
   ]
  },
  {
   "cell_type": "code",
   "execution_count": 1,
   "metadata": {
    "ExecuteTime": {
     "end_time": "2021-08-03T14:38:39.557535Z",
     "start_time": "2021-08-03T14:38:39.287820Z"
    }
   },
   "outputs": [],
   "source": [
    "import sympy as sym"
   ]
  },
  {
   "cell_type": "code",
   "execution_count": 2,
   "metadata": {
    "ExecuteTime": {
     "end_time": "2021-08-03T14:38:40.222005Z",
     "start_time": "2021-08-03T14:38:40.218907Z"
    }
   },
   "outputs": [],
   "source": [
    "x, y = sym.symbols('x y', real=True)"
   ]
  },
  {
   "cell_type": "code",
   "execution_count": 3,
   "metadata": {
    "ExecuteTime": {
     "end_time": "2021-08-03T14:38:41.549179Z",
     "start_time": "2021-08-03T14:38:41.546580Z"
    }
   },
   "outputs": [],
   "source": [
    "h = sym.Symbol('hbar')\n",
    "omega1 = sym.Symbol('omega1', real=True)\n",
    "omega2 = sym.Symbol('omega2', real=True)\n",
    "n1 = sym.Symbol('n1')\n",
    "n2 = sym.Symbol('n2')"
   ]
  },
  {
   "cell_type": "code",
   "execution_count": 4,
   "metadata": {
    "ExecuteTime": {
     "end_time": "2021-08-03T14:38:42.199788Z",
     "start_time": "2021-08-03T14:38:42.192267Z"
    }
   },
   "outputs": [],
   "source": [
    "e = sym.exp\n",
    "t = sym.Symbol('t', real=True)\n",
    "c = sym.Symbol('c', real=True)"
   ]
  },
  {
   "cell_type": "code",
   "execution_count": 5,
   "metadata": {
    "ExecuteTime": {
     "end_time": "2021-08-03T14:38:44.111263Z",
     "start_time": "2021-08-03T14:38:43.940059Z"
    }
   },
   "outputs": [
    {
     "data": {
      "text/latex": [
       "$\\displaystyle \\hbar \\left(\\omega_{1} \\left(n_{1} + \\frac{1}{2}\\right) + \\omega_{2} \\left(n_{2} + \\frac{1}{2}\\right)\\right)$"
      ],
      "text/plain": [
       "hbar*(omega1*(n1 + 1/2) + omega2*(n2 + 1/2))"
      ]
     },
     "execution_count": 5,
     "metadata": {},
     "output_type": "execute_result"
    }
   ],
   "source": [
    "E_n1n2 = h*( (sym.Rational(1/2) + n1)*omega1 + (sym.Rational(1/2) + n2)*omega2 )\n",
    "E_n1n2"
   ]
  },
  {
   "cell_type": "code",
   "execution_count": 6,
   "metadata": {
    "ExecuteTime": {
     "end_time": "2021-08-03T14:38:45.383968Z",
     "start_time": "2021-08-03T14:38:45.379087Z"
    }
   },
   "outputs": [
    {
     "data": {
      "text/latex": [
       "$\\displaystyle \\omega_{1} \\left(n_{1} + \\frac{1}{2}\\right) + \\omega_{2} \\left(n_{2} + \\frac{1}{2}\\right)$"
      ],
      "text/plain": [
       "omega1*(n1 + 1/2) + omega2*(n2 + 1/2)"
      ]
     },
     "execution_count": 6,
     "metadata": {},
     "output_type": "execute_result"
    }
   ],
   "source": [
    "E_n1n2 = E_n1n2.subs(h,1)\n",
    "E_n1n2"
   ]
  },
  {
   "cell_type": "markdown",
   "metadata": {},
   "source": [
    "Eigenfunctions "
   ]
  },
  {
   "cell_type": "code",
   "execution_count": 7,
   "metadata": {
    "ExecuteTime": {
     "end_time": "2021-08-03T14:38:50.390102Z",
     "start_time": "2021-08-03T14:38:50.386637Z"
    }
   },
   "outputs": [],
   "source": [
    "def psi_n1n2(n1_val, n2_val):\n",
    "    C_n1n2_numerator = (omega1*omega2)**(sym.Rational(1/4))\n",
    "    C_n1n2_divider = sym.sqrt(sym.pi* sym.factorial(n1) * sym.factorial(n2)* 2**(n1+n2))\n",
    "    C_n1n2 = C_n1n2_numerator/C_n1n2_divider\n",
    "    H_n1 = sym.hermite_poly(n1_val, sym.sqrt(omega1)*x)\n",
    "    H_n2 = sym.hermite_poly(n2_val, sym.sqrt(omega2)*y)\n",
    "    expfunc1 = sym.exp(-sym.I*E_n1n2*t)\n",
    "    expfunc2 = sym.exp(-sym.Rational(1/2)*(omega1*x**2 + omega2*y**2))\n",
    "    product = C_n1n2*expfunc1*expfunc2\n",
    "    psi_n1n2 = product.subs([(n1, n1_val),(n2, n2_val)])*H_n1*H_n2\n",
    "    return psi_n1n2"
   ]
  },
  {
   "cell_type": "markdown",
   "metadata": {},
   "source": [
    "Wave function"
   ]
  },
  {
   "cell_type": "code",
   "execution_count": 8,
   "metadata": {
    "ExecuteTime": {
     "end_time": "2021-08-03T14:39:00.942420Z",
     "start_time": "2021-08-03T14:39:00.937318Z"
    }
   },
   "outputs": [],
   "source": [
    "c1 = sym.symbols('c1', real=True)\n",
    "c2 = sym.symbols('c2', real=True)"
   ]
  },
  {
   "cell_type": "markdown",
   "metadata": {},
   "source": [
    "## CASE 2"
   ]
  },
  {
   "cell_type": "markdown",
   "metadata": {},
   "source": [
    "$\\Psi(x,y,t) = \\psi_{0,0} + c_1 \\psi_{1,0}$"
   ]
  },
  {
   "cell_type": "code",
   "execution_count": 22,
   "metadata": {
    "ExecuteTime": {
     "end_time": "2021-07-21T10:51:50.445005Z",
     "start_time": "2021-07-21T10:51:50.386723Z"
    }
   },
   "outputs": [
    {
     "data": {
      "text/latex": [
       "$\\displaystyle \\frac{\\sqrt{2} c_{1} \\sqrt{\\omega_{1}} x \\sqrt[4]{\\omega_{1} \\omega_{2}} e^{- i t \\left(\\frac{3 \\omega_{1}}{2} + \\frac{\\omega_{2}}{2}\\right)} e^{- \\frac{\\omega_{1} x^{2}}{2} - \\frac{\\omega_{2} y^{2}}{2}}}{\\sqrt{\\pi}} + \\frac{\\sqrt[4]{\\omega_{1} \\omega_{2}} e^{- i t \\left(\\frac{\\omega_{1}}{2} + \\frac{\\omega_{2}}{2}\\right)} e^{- \\frac{\\omega_{1} x^{2}}{2} - \\frac{\\omega_{2} y^{2}}{2}}}{\\sqrt{\\pi}}$"
      ],
      "text/plain": [
       "sqrt(2)*c1*sqrt(omega1)*x*(omega1*omega2)**(1/4)*exp(-I*t*(3*omega1/2 + omega2/2))*exp(-omega1*x**2/2 - omega2*y**2/2)/sqrt(pi) + (omega1*omega2)**(1/4)*exp(-I*t*(omega1/2 + omega2/2))*exp(-omega1*x**2/2 - omega2*y**2/2)/sqrt(pi)"
      ]
     },
     "execution_count": 22,
     "metadata": {},
     "output_type": "execute_result"
    }
   ],
   "source": [
    "Psi = psi_n1n2(0,0) + c1*psi_n1n2(1,0)\n",
    "Psi"
   ]
  },
  {
   "cell_type": "markdown",
   "metadata": {},
   "source": [
    "Transform to vector "
   ]
  },
  {
   "cell_type": "code",
   "execution_count": 23,
   "metadata": {
    "ExecuteTime": {
     "end_time": "2021-07-21T10:51:51.267822Z",
     "start_time": "2021-07-21T10:51:51.264576Z"
    }
   },
   "outputs": [],
   "source": [
    "from sympy.vector import CoordSys3D, gradient\n",
    "r = CoordSys3D('r')"
   ]
  },
  {
   "cell_type": "code",
   "execution_count": 24,
   "metadata": {
    "ExecuteTime": {
     "end_time": "2021-07-21T10:51:51.724046Z",
     "start_time": "2021-07-21T10:51:51.702911Z"
    }
   },
   "outputs": [],
   "source": [
    "Psi = Psi.subs([(x, r.x), (y, r.y)])"
   ]
  },
  {
   "cell_type": "code",
   "execution_count": 25,
   "metadata": {
    "ExecuteTime": {
     "end_time": "2021-07-21T10:51:52.138755Z",
     "start_time": "2021-07-21T10:51:52.124070Z"
    }
   },
   "outputs": [
    {
     "data": {
      "text/latex": [
       "$\\displaystyle \\frac{\\sqrt{2} \\mathbf{{x}_{r}} c_{1} \\sqrt{\\omega_{1}} \\sqrt[4]{\\omega_{1} \\omega_{2}} e^{- i t \\left(\\frac{3 \\omega_{1}}{2} + \\frac{\\omega_{2}}{2}\\right)} e^{- \\frac{\\mathbf{{x}_{r}}^{2} \\omega_{1}}{2} - \\frac{\\mathbf{{y}_{r}}^{2} \\omega_{2}}{2}}}{\\sqrt{\\pi}} + \\frac{\\sqrt[4]{\\omega_{1} \\omega_{2}} e^{- i t \\left(\\frac{\\omega_{1}}{2} + \\frac{\\omega_{2}}{2}\\right)} e^{- \\frac{\\mathbf{{x}_{r}}^{2} \\omega_{1}}{2} - \\frac{\\mathbf{{y}_{r}}^{2} \\omega_{2}}{2}}}{\\sqrt{\\pi}}$"
      ],
      "text/plain": [
       "sqrt(2)*r.x*c1*sqrt(omega1)*(omega1*omega2)**(1/4)*exp(-I*t*(3*omega1/2 + omega2/2))*exp(-r.x**2*omega1/2 - r.y**2*omega2/2)/sqrt(pi) + (omega1*omega2)**(1/4)*exp(-I*t*(omega1/2 + omega2/2))*exp(-r.x**2*omega1/2 - r.y**2*omega2/2)/sqrt(pi)"
      ]
     },
     "execution_count": 25,
     "metadata": {},
     "output_type": "execute_result"
    }
   ],
   "source": [
    "Psi"
   ]
  },
  {
   "cell_type": "markdown",
   "metadata": {},
   "source": [
    "$\\nabla_{x,y} \\Psi = $"
   ]
  },
  {
   "cell_type": "code",
   "execution_count": 26,
   "metadata": {
    "ExecuteTime": {
     "end_time": "2021-07-21T10:51:53.076753Z",
     "start_time": "2021-07-21T10:51:53.017033Z"
    }
   },
   "outputs": [
    {
     "data": {
      "text/latex": [
       "$\\displaystyle (- \\frac{\\sqrt{2} \\mathbf{{x}_{r}}^{2} c_{1} \\omega_{1}^{\\frac{3}{2}} \\sqrt[4]{\\omega_{1} \\omega_{2}} e^{- i t \\left(\\frac{3 \\omega_{1}}{2} + \\frac{\\omega_{2}}{2}\\right)} e^{- \\frac{\\mathbf{{x}_{r}}^{2} \\omega_{1}}{2} - \\frac{\\mathbf{{y}_{r}}^{2} \\omega_{2}}{2}}}{\\sqrt{\\pi}} - \\frac{\\mathbf{{x}_{r}} \\omega_{1} \\sqrt[4]{\\omega_{1} \\omega_{2}} e^{- i t \\left(\\frac{\\omega_{1}}{2} + \\frac{\\omega_{2}}{2}\\right)} e^{- \\frac{\\mathbf{{x}_{r}}^{2} \\omega_{1}}{2} - \\frac{\\mathbf{{y}_{r}}^{2} \\omega_{2}}{2}}}{\\sqrt{\\pi}} + \\frac{\\sqrt{2} c_{1} \\sqrt{\\omega_{1}} \\sqrt[4]{\\omega_{1} \\omega_{2}} e^{- i t \\left(\\frac{3 \\omega_{1}}{2} + \\frac{\\omega_{2}}{2}\\right)} e^{- \\frac{\\mathbf{{x}_{r}}^{2} \\omega_{1}}{2} - \\frac{\\mathbf{{y}_{r}}^{2} \\omega_{2}}{2}}}{\\sqrt{\\pi}})\\mathbf{\\hat{i}_{r}} + (- \\frac{\\sqrt{2} \\mathbf{{x}_{r}} \\mathbf{{y}_{r}} c_{1} \\sqrt{\\omega_{1}} \\omega_{2} \\sqrt[4]{\\omega_{1} \\omega_{2}} e^{- i t \\left(\\frac{3 \\omega_{1}}{2} + \\frac{\\omega_{2}}{2}\\right)} e^{- \\frac{\\mathbf{{x}_{r}}^{2} \\omega_{1}}{2} - \\frac{\\mathbf{{y}_{r}}^{2} \\omega_{2}}{2}}}{\\sqrt{\\pi}} - \\frac{\\mathbf{{y}_{r}} \\omega_{2} \\sqrt[4]{\\omega_{1} \\omega_{2}} e^{- i t \\left(\\frac{\\omega_{1}}{2} + \\frac{\\omega_{2}}{2}\\right)} e^{- \\frac{\\mathbf{{x}_{r}}^{2} \\omega_{1}}{2} - \\frac{\\mathbf{{y}_{r}}^{2} \\omega_{2}}{2}}}{\\sqrt{\\pi}})\\mathbf{\\hat{j}_{r}}$"
      ],
      "text/plain": [
       "(-sqrt(2)*r.x**2*c1*omega1**(3/2)*(omega1*omega2)**(1/4)*exp(-I*t*(3*omega1/2 + omega2/2))*exp(-r.x**2*omega1/2 - r.y**2*omega2/2)/sqrt(pi) - r.x*omega1*(omega1*omega2)**(1/4)*exp(-I*t*(omega1/2 + omega2/2))*exp(-r.x**2*omega1/2 - r.y**2*omega2/2)/sqrt(pi) + sqrt(2)*c1*sqrt(omega1)*(omega1*omega2)**(1/4)*exp(-I*t*(3*omega1/2 + omega2/2))*exp(-r.x**2*omega1/2 - r.y**2*omega2/2)/sqrt(pi))*r.i + (-sqrt(2)*r.x*r.y*c1*sqrt(omega1)*omega2*(omega1*omega2)**(1/4)*exp(-I*t*(3*omega1/2 + omega2/2))*exp(-r.x**2*omega1/2 - r.y**2*omega2/2)/sqrt(pi) - r.y*omega2*(omega1*omega2)**(1/4)*exp(-I*t*(omega1/2 + omega2/2))*exp(-r.x**2*omega1/2 - r.y**2*omega2/2)/sqrt(pi))*r.j"
      ]
     },
     "execution_count": 26,
     "metadata": {},
     "output_type": "execute_result"
    }
   ],
   "source": [
    "Del_Psi = gradient(Psi)\n",
    "Del_Psi"
   ]
  },
  {
   "cell_type": "markdown",
   "metadata": {},
   "source": [
    "$\\frac{\\nabla_{x,y} \\Psi}{ \\Psi}= $"
   ]
  },
  {
   "cell_type": "code",
   "execution_count": 60,
   "metadata": {
    "ExecuteTime": {
     "end_time": "2021-07-21T11:35:29.428302Z",
     "start_time": "2021-07-21T11:35:29.263006Z"
    }
   },
   "outputs": [
    {
     "data": {
      "text/latex": [
       "$\\displaystyle (\\frac{- \\sqrt{2} c_{1} \\omega_{1}^{\\frac{3}{2}} x^{2} + \\sqrt{2} c_{1} \\sqrt{\\omega_{1}} - \\omega_{1} x e^{i \\omega_{1} t}}{\\sqrt{2} c_{1} \\sqrt{\\omega_{1}} x + e^{i \\omega_{1} t}})\\mathbf{\\hat{i}_{r}} + (- \\omega_{2} y)\\mathbf{\\hat{j}_{r}}$"
      ],
      "text/plain": [
       "((-sqrt(2)*c1*omega1**(3/2)*x**2 + sqrt(2)*c1*sqrt(omega1) - omega1*x*exp(I*omega1*t))/(sqrt(2)*c1*sqrt(omega1)*x + exp(I*omega1*t)))*r.i + (-omega2*y)*r.j"
      ]
     },
     "execution_count": 60,
     "metadata": {},
     "output_type": "execute_result"
    }
   ],
   "source": [
    "expr = Del_Psi/Psi\n",
    "expr = expr.simplify()\n",
    "expr = expr.subs([(r.x, x), (r.y, y)])\n",
    "expr"
   ]
  },
  {
   "cell_type": "code",
   "execution_count": 61,
   "metadata": {
    "ExecuteTime": {
     "end_time": "2021-07-21T11:38:03.333526Z",
     "start_time": "2021-07-21T11:38:03.320595Z"
    }
   },
   "outputs": [
    {
     "data": {
      "text/latex": [
       "$\\displaystyle (\\frac{- \\sqrt{2} c_{1} \\omega_{1}^{\\frac{3}{2}} x^{2} + \\sqrt{2} c_{1} \\sqrt{\\omega_{1}} - \\omega_{1} x \\left(i \\sin{\\left(\\omega_{1} t \\right)} + \\cos{\\left(\\omega_{1} t \\right)}\\right)}{\\sqrt{2} c_{1} \\sqrt{\\omega_{1}} x + i \\sin{\\left(\\omega_{1} t \\right)} + \\cos{\\left(\\omega_{1} t \\right)}})\\mathbf{\\hat{i}_{r}}$"
      ],
      "text/plain": [
       "((-sqrt(2)*c1*omega1**(3/2)*x**2 + sqrt(2)*c1*sqrt(omega1) - omega1*x*(I*sin(omega1*t) + cos(omega1*t)))/(sqrt(2)*c1*sqrt(omega1)*x + I*sin(omega1*t) + cos(omega1*t)))*r.i"
      ]
     },
     "execution_count": 61,
     "metadata": {},
     "output_type": "execute_result"
    }
   ],
   "source": [
    "vx = expr.args[0]\n",
    "vx = vx.subs(sym.exp(sym.I*omega1*t), sym.cos(omega1*t) + sym.I*sym.sin(omega1*t))\n",
    "vx"
   ]
  },
  {
   "cell_type": "code",
   "execution_count": 65,
   "metadata": {
    "ExecuteTime": {
     "end_time": "2021-07-21T11:38:35.091335Z",
     "start_time": "2021-07-21T11:38:35.083176Z"
    }
   },
   "outputs": [
    {
     "data": {
      "text/latex": [
       "$\\displaystyle - \\sqrt{2} c_{1} \\omega_{1}^{\\frac{3}{2}} x^{2} + \\sqrt{2} c_{1} \\sqrt{\\omega_{1}} - \\omega_{1} x \\left(i \\sin{\\left(\\omega_{1} t \\right)} + \\cos{\\left(\\omega_{1} t \\right)}\\right)$"
      ],
      "text/plain": [
       "-sqrt(2)*c1*omega1**(3/2)*x**2 + sqrt(2)*c1*sqrt(omega1) - omega1*x*(I*sin(omega1*t) + cos(omega1*t))"
      ]
     },
     "execution_count": 65,
     "metadata": {},
     "output_type": "execute_result"
    }
   ],
   "source": [
    "vx.args[1]"
   ]
  },
  {
   "cell_type": "code",
   "execution_count": 64,
   "metadata": {
    "ExecuteTime": {
     "end_time": "2021-07-21T11:38:32.195650Z",
     "start_time": "2021-07-21T11:38:32.191175Z"
    }
   },
   "outputs": [
    {
     "data": {
      "text/latex": [
       "$\\displaystyle \\frac{1}{\\sqrt{2} c_{1} \\sqrt{\\omega_{1}} x + i \\sin{\\left(\\omega_{1} t \\right)} + \\cos{\\left(\\omega_{1} t \\right)}}$"
      ],
      "text/plain": [
       "1/(sqrt(2)*c1*sqrt(omega1)*x + I*sin(omega1*t) + cos(omega1*t))"
      ]
     },
     "execution_count": 64,
     "metadata": {},
     "output_type": "execute_result"
    }
   ],
   "source": [
    "vx.args[0]"
   ]
  },
  {
   "cell_type": "markdown",
   "metadata": {},
   "source": [
    "From this, we can compute $Im(\\nabla \\Psi / \\Psi)$"
   ]
  },
  {
   "cell_type": "markdown",
   "metadata": {},
   "source": [
    "## CASE 3"
   ]
  },
  {
   "cell_type": "markdown",
   "metadata": {},
   "source": [
    "$\\Psi(x,y,t) = \\psi_{0,0} + c_2 \\psi_{1,1}$"
   ]
  },
  {
   "cell_type": "code",
   "execution_count": 9,
   "metadata": {
    "ExecuteTime": {
     "end_time": "2021-08-03T14:39:19.561068Z",
     "start_time": "2021-08-03T14:39:19.499839Z"
    }
   },
   "outputs": [
    {
     "data": {
      "text/latex": [
       "$\\displaystyle \\frac{2 c_{2} \\sqrt{\\omega_{1}} \\sqrt{\\omega_{2}} x y \\sqrt[4]{\\omega_{1} \\omega_{2}} e^{- i t \\left(\\frac{3 \\omega_{1}}{2} + \\frac{3 \\omega_{2}}{2}\\right)} e^{- \\frac{\\omega_{1} x^{2}}{2} - \\frac{\\omega_{2} y^{2}}{2}}}{\\sqrt{\\pi}} + \\frac{\\sqrt[4]{\\omega_{1} \\omega_{2}} e^{- i t \\left(\\frac{\\omega_{1}}{2} + \\frac{\\omega_{2}}{2}\\right)} e^{- \\frac{\\omega_{1} x^{2}}{2} - \\frac{\\omega_{2} y^{2}}{2}}}{\\sqrt{\\pi}}$"
      ],
      "text/plain": [
       "2*c2*sqrt(omega1)*sqrt(omega2)*x*y*(omega1*omega2)**(1/4)*exp(-I*t*(3*omega1/2 + 3*omega2/2))*exp(-omega1*x**2/2 - omega2*y**2/2)/sqrt(pi) + (omega1*omega2)**(1/4)*exp(-I*t*(omega1/2 + omega2/2))*exp(-omega1*x**2/2 - omega2*y**2/2)/sqrt(pi)"
      ]
     },
     "execution_count": 9,
     "metadata": {},
     "output_type": "execute_result"
    }
   ],
   "source": [
    "Psi = psi_n1n2(0,0) + c2*psi_n1n2(1,1)\n",
    "Psi"
   ]
  },
  {
   "cell_type": "markdown",
   "metadata": {},
   "source": [
    "Transform to vector "
   ]
  },
  {
   "cell_type": "code",
   "execution_count": 10,
   "metadata": {
    "ExecuteTime": {
     "end_time": "2021-08-03T14:39:26.781573Z",
     "start_time": "2021-08-03T14:39:26.764967Z"
    }
   },
   "outputs": [],
   "source": [
    "from sympy.vector import CoordSys3D, gradient\n",
    "r = CoordSys3D('r')"
   ]
  },
  {
   "cell_type": "code",
   "execution_count": 11,
   "metadata": {
    "ExecuteTime": {
     "end_time": "2021-08-03T14:39:28.988620Z",
     "start_time": "2021-08-03T14:39:28.964561Z"
    }
   },
   "outputs": [],
   "source": [
    "Psi = Psi.subs([(x, r.x), (y, r.y)])"
   ]
  },
  {
   "cell_type": "code",
   "execution_count": 12,
   "metadata": {
    "ExecuteTime": {
     "end_time": "2021-08-03T14:39:33.906357Z",
     "start_time": "2021-08-03T14:39:33.898062Z"
    }
   },
   "outputs": [
    {
     "data": {
      "text/latex": [
       "$\\displaystyle \\frac{2 \\mathbf{{x}_{r}} \\mathbf{{y}_{r}} c_{2} \\sqrt{\\omega_{1}} \\sqrt{\\omega_{2}} \\sqrt[4]{\\omega_{1} \\omega_{2}} e^{- i t \\left(\\frac{3 \\omega_{1}}{2} + \\frac{3 \\omega_{2}}{2}\\right)} e^{- \\frac{\\mathbf{{x}_{r}}^{2} \\omega_{1}}{2} - \\frac{\\mathbf{{y}_{r}}^{2} \\omega_{2}}{2}}}{\\sqrt{\\pi}} + \\frac{\\sqrt[4]{\\omega_{1} \\omega_{2}} e^{- i t \\left(\\frac{\\omega_{1}}{2} + \\frac{\\omega_{2}}{2}\\right)} e^{- \\frac{\\mathbf{{x}_{r}}^{2} \\omega_{1}}{2} - \\frac{\\mathbf{{y}_{r}}^{2} \\omega_{2}}{2}}}{\\sqrt{\\pi}}$"
      ],
      "text/plain": [
       "2*r.x*r.y*c2*sqrt(omega1)*sqrt(omega2)*(omega1*omega2)**(1/4)*exp(-I*t*(3*omega1/2 + 3*omega2/2))*exp(-r.x**2*omega1/2 - r.y**2*omega2/2)/sqrt(pi) + (omega1*omega2)**(1/4)*exp(-I*t*(omega1/2 + omega2/2))*exp(-r.x**2*omega1/2 - r.y**2*omega2/2)/sqrt(pi)"
      ]
     },
     "execution_count": 12,
     "metadata": {},
     "output_type": "execute_result"
    }
   ],
   "source": [
    "Psi"
   ]
  },
  {
   "cell_type": "markdown",
   "metadata": {},
   "source": [
    "$\\nabla_{x,y} \\Psi = $"
   ]
  },
  {
   "cell_type": "code",
   "execution_count": 13,
   "metadata": {
    "ExecuteTime": {
     "end_time": "2021-08-03T14:39:39.677873Z",
     "start_time": "2021-08-03T14:39:39.632226Z"
    }
   },
   "outputs": [
    {
     "data": {
      "text/latex": [
       "$\\displaystyle (- \\frac{2 \\mathbf{{x}_{r}}^{2} \\mathbf{{y}_{r}} c_{2} \\omega_{1}^{\\frac{3}{2}} \\sqrt{\\omega_{2}} \\sqrt[4]{\\omega_{1} \\omega_{2}} e^{- i t \\left(\\frac{3 \\omega_{1}}{2} + \\frac{3 \\omega_{2}}{2}\\right)} e^{- \\frac{\\mathbf{{x}_{r}}^{2} \\omega_{1}}{2} - \\frac{\\mathbf{{y}_{r}}^{2} \\omega_{2}}{2}}}{\\sqrt{\\pi}} - \\frac{\\mathbf{{x}_{r}} \\omega_{1} \\sqrt[4]{\\omega_{1} \\omega_{2}} e^{- i t \\left(\\frac{\\omega_{1}}{2} + \\frac{\\omega_{2}}{2}\\right)} e^{- \\frac{\\mathbf{{x}_{r}}^{2} \\omega_{1}}{2} - \\frac{\\mathbf{{y}_{r}}^{2} \\omega_{2}}{2}}}{\\sqrt{\\pi}} + \\frac{2 \\mathbf{{y}_{r}} c_{2} \\sqrt{\\omega_{1}} \\sqrt{\\omega_{2}} \\sqrt[4]{\\omega_{1} \\omega_{2}} e^{- i t \\left(\\frac{3 \\omega_{1}}{2} + \\frac{3 \\omega_{2}}{2}\\right)} e^{- \\frac{\\mathbf{{x}_{r}}^{2} \\omega_{1}}{2} - \\frac{\\mathbf{{y}_{r}}^{2} \\omega_{2}}{2}}}{\\sqrt{\\pi}})\\mathbf{\\hat{i}_{r}} + (- \\frac{2 \\mathbf{{x}_{r}} \\mathbf{{y}_{r}}^{2} c_{2} \\sqrt{\\omega_{1}} \\omega_{2}^{\\frac{3}{2}} \\sqrt[4]{\\omega_{1} \\omega_{2}} e^{- i t \\left(\\frac{3 \\omega_{1}}{2} + \\frac{3 \\omega_{2}}{2}\\right)} e^{- \\frac{\\mathbf{{x}_{r}}^{2} \\omega_{1}}{2} - \\frac{\\mathbf{{y}_{r}}^{2} \\omega_{2}}{2}}}{\\sqrt{\\pi}} + \\frac{2 \\mathbf{{x}_{r}} c_{2} \\sqrt{\\omega_{1}} \\sqrt{\\omega_{2}} \\sqrt[4]{\\omega_{1} \\omega_{2}} e^{- i t \\left(\\frac{3 \\omega_{1}}{2} + \\frac{3 \\omega_{2}}{2}\\right)} e^{- \\frac{\\mathbf{{x}_{r}}^{2} \\omega_{1}}{2} - \\frac{\\mathbf{{y}_{r}}^{2} \\omega_{2}}{2}}}{\\sqrt{\\pi}} - \\frac{\\mathbf{{y}_{r}} \\omega_{2} \\sqrt[4]{\\omega_{1} \\omega_{2}} e^{- i t \\left(\\frac{\\omega_{1}}{2} + \\frac{\\omega_{2}}{2}\\right)} e^{- \\frac{\\mathbf{{x}_{r}}^{2} \\omega_{1}}{2} - \\frac{\\mathbf{{y}_{r}}^{2} \\omega_{2}}{2}}}{\\sqrt{\\pi}})\\mathbf{\\hat{j}_{r}}$"
      ],
      "text/plain": [
       "(-2*r.x**2*r.y*c2*omega1**(3/2)*sqrt(omega2)*(omega1*omega2)**(1/4)*exp(-I*t*(3*omega1/2 + 3*omega2/2))*exp(-r.x**2*omega1/2 - r.y**2*omega2/2)/sqrt(pi) - r.x*omega1*(omega1*omega2)**(1/4)*exp(-I*t*(omega1/2 + omega2/2))*exp(-r.x**2*omega1/2 - r.y**2*omega2/2)/sqrt(pi) + 2*r.y*c2*sqrt(omega1)*sqrt(omega2)*(omega1*omega2)**(1/4)*exp(-I*t*(3*omega1/2 + 3*omega2/2))*exp(-r.x**2*omega1/2 - r.y**2*omega2/2)/sqrt(pi))*r.i + (-2*r.x*r.y**2*c2*sqrt(omega1)*omega2**(3/2)*(omega1*omega2)**(1/4)*exp(-I*t*(3*omega1/2 + 3*omega2/2))*exp(-r.x**2*omega1/2 - r.y**2*omega2/2)/sqrt(pi) + 2*r.x*c2*sqrt(omega1)*sqrt(omega2)*(omega1*omega2)**(1/4)*exp(-I*t*(3*omega1/2 + 3*omega2/2))*exp(-r.x**2*omega1/2 - r.y**2*omega2/2)/sqrt(pi) - r.y*omega2*(omega1*omega2)**(1/4)*exp(-I*t*(omega1/2 + omega2/2))*exp(-r.x**2*omega1/2 - r.y**2*omega2/2)/sqrt(pi))*r.j"
      ]
     },
     "execution_count": 13,
     "metadata": {},
     "output_type": "execute_result"
    }
   ],
   "source": [
    "Del_Psi = gradient(Psi)\n",
    "Del_Psi"
   ]
  },
  {
   "cell_type": "markdown",
   "metadata": {},
   "source": [
    "$\\nabla_{x,y} \\Psi / \\Psi= $"
   ]
  },
  {
   "cell_type": "code",
   "execution_count": 14,
   "metadata": {
    "ExecuteTime": {
     "end_time": "2021-08-03T14:39:51.910770Z",
     "start_time": "2021-08-03T14:39:51.406786Z"
    }
   },
   "outputs": [
    {
     "data": {
      "text/latex": [
       "$\\displaystyle (\\frac{- 2 c_{2} \\omega_{1}^{\\frac{3}{2}} \\sqrt{\\omega_{2}} x^{2} y + 2 c_{2} \\sqrt{\\omega_{1}} \\sqrt{\\omega_{2}} y - \\omega_{1} x e^{i t \\left(\\omega_{1} + \\omega_{2}\\right)}}{2 c_{2} \\sqrt{\\omega_{1}} \\sqrt{\\omega_{2}} x y + e^{i t \\left(\\omega_{1} + \\omega_{2}\\right)}})\\mathbf{\\hat{i}_{r}} + (\\frac{- 2 c_{2} \\sqrt{\\omega_{1}} \\omega_{2}^{\\frac{3}{2}} x y^{2} + 2 c_{2} \\sqrt{\\omega_{1}} \\sqrt{\\omega_{2}} x - \\omega_{2} y e^{i t \\left(\\omega_{1} + \\omega_{2}\\right)}}{2 c_{2} \\sqrt{\\omega_{1}} \\sqrt{\\omega_{2}} x y + e^{i t \\left(\\omega_{1} + \\omega_{2}\\right)}})\\mathbf{\\hat{j}_{r}}$"
      ],
      "text/plain": [
       "((-2*c2*omega1**(3/2)*sqrt(omega2)*x**2*y + 2*c2*sqrt(omega1)*sqrt(omega2)*y - omega1*x*exp(I*t*(omega1 + omega2)))/(2*c2*sqrt(omega1)*sqrt(omega2)*x*y + exp(I*t*(omega1 + omega2))))*r.i + ((-2*c2*sqrt(omega1)*omega2**(3/2)*x*y**2 + 2*c2*sqrt(omega1)*sqrt(omega2)*x - omega2*y*exp(I*t*(omega1 + omega2)))/(2*c2*sqrt(omega1)*sqrt(omega2)*x*y + exp(I*t*(omega1 + omega2))))*r.j"
      ]
     },
     "execution_count": 14,
     "metadata": {},
     "output_type": "execute_result"
    }
   ],
   "source": [
    "expr = Del_Psi/Psi\n",
    "expr = expr.simplify()\n",
    "expr = expr.subs([(r.x, x), (r.y, y)])\n",
    "expr"
   ]
  },
  {
   "cell_type": "markdown",
   "metadata": {},
   "source": [
    "$\\partial_x \\Psi / \\Psi = $"
   ]
  },
  {
   "cell_type": "code",
   "execution_count": 15,
   "metadata": {
    "ExecuteTime": {
     "end_time": "2021-08-03T14:42:20.244950Z",
     "start_time": "2021-08-03T14:42:20.225029Z"
    }
   },
   "outputs": [
    {
     "data": {
      "text/latex": [
       "$\\displaystyle (\\frac{- 2 c_{2} \\omega_{1}^{\\frac{3}{2}} \\sqrt{\\omega_{2}} x^{2} y + 2 c_{2} \\sqrt{\\omega_{1}} \\sqrt{\\omega_{2}} y - \\omega_{1} x \\left(i \\sin{\\left(t \\left(\\omega_{1} + \\omega_{2}\\right) \\right)} + \\cos{\\left(t \\left(\\omega_{1} + \\omega_{2}\\right) \\right)}\\right)}{2 c_{2} \\sqrt{\\omega_{1}} \\sqrt{\\omega_{2}} x y + i \\sin{\\left(t \\left(\\omega_{1} + \\omega_{2}\\right) \\right)} + \\cos{\\left(t \\left(\\omega_{1} + \\omega_{2}\\right) \\right)}})\\mathbf{\\hat{i}_{r}}$"
      ],
      "text/plain": [
       "((-2*c2*omega1**(3/2)*sqrt(omega2)*x**2*y + 2*c2*sqrt(omega1)*sqrt(omega2)*y - omega1*x*(I*sin(t*(omega1 + omega2)) + cos(t*(omega1 + omega2))))/(2*c2*sqrt(omega1)*sqrt(omega2)*x*y + I*sin(t*(omega1 + omega2)) + cos(t*(omega1 + omega2))))*r.i"
      ]
     },
     "execution_count": 15,
     "metadata": {},
     "output_type": "execute_result"
    }
   ],
   "source": [
    "vx = expr.args[0]\n",
    "vx = vx.subs(sym.exp(sym.I*t*(omega1 + omega2)), sym.cos(t*(omega1 + omega2)) + sym.I*sym.sin(t*(omega1 + omega2)))\n",
    "vx"
   ]
  },
  {
   "cell_type": "code",
   "execution_count": 16,
   "metadata": {
    "ExecuteTime": {
     "end_time": "2021-08-03T14:43:21.265154Z",
     "start_time": "2021-08-03T14:43:21.259551Z"
    }
   },
   "outputs": [
    {
     "data": {
      "text/latex": [
       "$\\displaystyle - 2 c_{2} \\omega_{1}^{\\frac{3}{2}} \\sqrt{\\omega_{2}} x^{2} y + 2 c_{2} \\sqrt{\\omega_{1}} \\sqrt{\\omega_{2}} y - \\omega_{1} x \\left(i \\sin{\\left(t \\left(\\omega_{1} + \\omega_{2}\\right) \\right)} + \\cos{\\left(t \\left(\\omega_{1} + \\omega_{2}\\right) \\right)}\\right)$"
      ],
      "text/plain": [
       "-2*c2*omega1**(3/2)*sqrt(omega2)*x**2*y + 2*c2*sqrt(omega1)*sqrt(omega2)*y - omega1*x*(I*sin(t*(omega1 + omega2)) + cos(t*(omega1 + omega2)))"
      ]
     },
     "execution_count": 16,
     "metadata": {},
     "output_type": "execute_result"
    }
   ],
   "source": [
    "vx.args[1]"
   ]
  },
  {
   "cell_type": "code",
   "execution_count": 17,
   "metadata": {
    "ExecuteTime": {
     "end_time": "2021-08-03T14:43:25.043964Z",
     "start_time": "2021-08-03T14:43:25.038967Z"
    }
   },
   "outputs": [
    {
     "data": {
      "text/latex": [
       "$\\displaystyle \\frac{1}{2 c_{2} \\sqrt{\\omega_{1}} \\sqrt{\\omega_{2}} x y + i \\sin{\\left(t \\left(\\omega_{1} + \\omega_{2}\\right) \\right)} + \\cos{\\left(t \\left(\\omega_{1} + \\omega_{2}\\right) \\right)}}$"
      ],
      "text/plain": [
       "1/(2*c2*sqrt(omega1)*sqrt(omega2)*x*y + I*sin(t*(omega1 + omega2)) + cos(t*(omega1 + omega2)))"
      ]
     },
     "execution_count": 17,
     "metadata": {},
     "output_type": "execute_result"
    }
   ],
   "source": [
    "vx.args[0]"
   ]
  },
  {
   "cell_type": "markdown",
   "metadata": {},
   "source": [
    "$\\partial_y \\Psi / \\Psi = $"
   ]
  },
  {
   "cell_type": "code",
   "execution_count": 19,
   "metadata": {
    "ExecuteTime": {
     "end_time": "2021-08-03T14:45:59.896545Z",
     "start_time": "2021-08-03T14:45:59.884815Z"
    }
   },
   "outputs": [
    {
     "data": {
      "text/latex": [
       "$\\displaystyle (\\frac{- 2 c_{2} \\sqrt{\\omega_{1}} \\omega_{2}^{\\frac{3}{2}} x y^{2} + 2 c_{2} \\sqrt{\\omega_{1}} \\sqrt{\\omega_{2}} x - \\omega_{2} y \\left(i \\sin{\\left(t \\left(\\omega_{1} + \\omega_{2}\\right) \\right)} + \\cos{\\left(t \\left(\\omega_{1} + \\omega_{2}\\right) \\right)}\\right)}{2 c_{2} \\sqrt{\\omega_{1}} \\sqrt{\\omega_{2}} x y + i \\sin{\\left(t \\left(\\omega_{1} + \\omega_{2}\\right) \\right)} + \\cos{\\left(t \\left(\\omega_{1} + \\omega_{2}\\right) \\right)}})\\mathbf{\\hat{j}_{r}}$"
      ],
      "text/plain": [
       "((-2*c2*sqrt(omega1)*omega2**(3/2)*x*y**2 + 2*c2*sqrt(omega1)*sqrt(omega2)*x - omega2*y*(I*sin(t*(omega1 + omega2)) + cos(t*(omega1 + omega2))))/(2*c2*sqrt(omega1)*sqrt(omega2)*x*y + I*sin(t*(omega1 + omega2)) + cos(t*(omega1 + omega2))))*r.j"
      ]
     },
     "execution_count": 19,
     "metadata": {},
     "output_type": "execute_result"
    }
   ],
   "source": [
    "vy = expr.args[1]\n",
    "# employ Euler's formula\n",
    "vy = vy.subs(sym.exp(sym.I*t*(omega1 + omega2)), sym.cos(t*(omega1 + omega2)) + sym.I*sym.sin(t*(omega1 + omega2)))\n",
    "vy"
   ]
  },
  {
   "cell_type": "code",
   "execution_count": 20,
   "metadata": {
    "ExecuteTime": {
     "end_time": "2021-08-03T14:46:07.652922Z",
     "start_time": "2021-08-03T14:46:07.644149Z"
    }
   },
   "outputs": [
    {
     "data": {
      "text/latex": [
       "$\\displaystyle - 2 c_{2} \\sqrt{\\omega_{1}} \\omega_{2}^{\\frac{3}{2}} x y^{2} + 2 c_{2} \\sqrt{\\omega_{1}} \\sqrt{\\omega_{2}} x - \\omega_{2} y \\left(i \\sin{\\left(t \\left(\\omega_{1} + \\omega_{2}\\right) \\right)} + \\cos{\\left(t \\left(\\omega_{1} + \\omega_{2}\\right) \\right)}\\right)$"
      ],
      "text/plain": [
       "-2*c2*sqrt(omega1)*omega2**(3/2)*x*y**2 + 2*c2*sqrt(omega1)*sqrt(omega2)*x - omega2*y*(I*sin(t*(omega1 + omega2)) + cos(t*(omega1 + omega2)))"
      ]
     },
     "execution_count": 20,
     "metadata": {},
     "output_type": "execute_result"
    }
   ],
   "source": [
    "vy.args[1]"
   ]
  },
  {
   "cell_type": "code",
   "execution_count": 21,
   "metadata": {
    "ExecuteTime": {
     "end_time": "2021-08-03T14:46:11.698036Z",
     "start_time": "2021-08-03T14:46:11.680210Z"
    }
   },
   "outputs": [
    {
     "data": {
      "text/latex": [
       "$\\displaystyle \\frac{1}{2 c_{2} \\sqrt{\\omega_{1}} \\sqrt{\\omega_{2}} x y + i \\sin{\\left(t \\left(\\omega_{1} + \\omega_{2}\\right) \\right)} + \\cos{\\left(t \\left(\\omega_{1} + \\omega_{2}\\right) \\right)}}$"
      ],
      "text/plain": [
       "1/(2*c2*sqrt(omega1)*sqrt(omega2)*x*y + I*sin(t*(omega1 + omega2)) + cos(t*(omega1 + omega2)))"
      ]
     },
     "execution_count": 21,
     "metadata": {},
     "output_type": "execute_result"
    }
   ],
   "source": [
    "vy.args[0]"
   ]
  },
  {
   "cell_type": "markdown",
   "metadata": {},
   "source": [
    "## CASE 4"
   ]
  },
  {
   "cell_type": "markdown",
   "metadata": {},
   "source": [
    "$\\Psi(x,y,t) = \\psi_{0,0} + c_1 \\psi_{1,0} + c_2 \\psi_{1,1}$"
   ]
  },
  {
   "cell_type": "code",
   "execution_count": 44,
   "metadata": {
    "ExecuteTime": {
     "end_time": "2021-08-03T17:52:44.159719Z",
     "start_time": "2021-08-03T17:52:44.129475Z"
    }
   },
   "outputs": [
    {
     "data": {
      "text/latex": [
       "$\\displaystyle \\frac{\\sqrt{2} c_{1} \\sqrt{\\omega_{1}} x \\sqrt[4]{\\omega_{1} \\omega_{2}} e^{- i t \\left(\\frac{3 \\omega_{1}}{2} + \\frac{\\omega_{2}}{2}\\right)} e^{- \\frac{\\omega_{1} x^{2}}{2} - \\frac{\\omega_{2} y^{2}}{2}}}{\\sqrt{\\pi}} + \\frac{2 c_{2} \\sqrt{\\omega_{1}} \\sqrt{\\omega_{2}} x y \\sqrt[4]{\\omega_{1} \\omega_{2}} e^{- i t \\left(\\frac{3 \\omega_{1}}{2} + \\frac{3 \\omega_{2}}{2}\\right)} e^{- \\frac{\\omega_{1} x^{2}}{2} - \\frac{\\omega_{2} y^{2}}{2}}}{\\sqrt{\\pi}} + \\frac{\\sqrt[4]{\\omega_{1} \\omega_{2}} e^{- i t \\left(\\frac{\\omega_{1}}{2} + \\frac{\\omega_{2}}{2}\\right)} e^{- \\frac{\\omega_{1} x^{2}}{2} - \\frac{\\omega_{2} y^{2}}{2}}}{\\sqrt{\\pi}}$"
      ],
      "text/plain": [
       "sqrt(2)*c1*sqrt(omega1)*x*(omega1*omega2)**(1/4)*exp(-I*t*(3*omega1/2 + omega2/2))*exp(-omega1*x**2/2 - omega2*y**2/2)/sqrt(pi) + 2*c2*sqrt(omega1)*sqrt(omega2)*x*y*(omega1*omega2)**(1/4)*exp(-I*t*(3*omega1/2 + 3*omega2/2))*exp(-omega1*x**2/2 - omega2*y**2/2)/sqrt(pi) + (omega1*omega2)**(1/4)*exp(-I*t*(omega1/2 + omega2/2))*exp(-omega1*x**2/2 - omega2*y**2/2)/sqrt(pi)"
      ]
     },
     "execution_count": 44,
     "metadata": {},
     "output_type": "execute_result"
    }
   ],
   "source": [
    "Psi = psi_n1n2(0,0) + c1*psi_n1n2(1,0) + c2*psi_n1n2(1,1)\n",
    "Psi"
   ]
  },
  {
   "cell_type": "markdown",
   "metadata": {},
   "source": [
    "Transform to vector "
   ]
  },
  {
   "cell_type": "code",
   "execution_count": 45,
   "metadata": {
    "ExecuteTime": {
     "end_time": "2021-08-03T17:52:45.918360Z",
     "start_time": "2021-08-03T17:52:45.913432Z"
    }
   },
   "outputs": [],
   "source": [
    "from sympy.vector import CoordSys3D, gradient\n",
    "r = CoordSys3D('r')"
   ]
  },
  {
   "cell_type": "code",
   "execution_count": 46,
   "metadata": {
    "ExecuteTime": {
     "end_time": "2021-08-03T17:52:46.625586Z",
     "start_time": "2021-08-03T17:52:46.623246Z"
    }
   },
   "outputs": [],
   "source": [
    "Psi = Psi.subs([(x, r.x), (y, r.y)])"
   ]
  },
  {
   "cell_type": "code",
   "execution_count": 47,
   "metadata": {
    "ExecuteTime": {
     "end_time": "2021-08-03T17:52:48.547378Z",
     "start_time": "2021-08-03T17:52:48.537801Z"
    }
   },
   "outputs": [
    {
     "data": {
      "text/latex": [
       "$\\displaystyle \\frac{2 \\mathbf{{x}_{r}} \\mathbf{{y}_{r}} c_{2} \\sqrt{\\omega_{1}} \\sqrt{\\omega_{2}} \\sqrt[4]{\\omega_{1} \\omega_{2}} e^{- i t \\left(\\frac{3 \\omega_{1}}{2} + \\frac{3 \\omega_{2}}{2}\\right)} e^{- \\frac{\\mathbf{{x}_{r}}^{2} \\omega_{1}}{2} - \\frac{\\mathbf{{y}_{r}}^{2} \\omega_{2}}{2}}}{\\sqrt{\\pi}} + \\frac{\\sqrt{2} \\mathbf{{x}_{r}} c_{1} \\sqrt{\\omega_{1}} \\sqrt[4]{\\omega_{1} \\omega_{2}} e^{- i t \\left(\\frac{3 \\omega_{1}}{2} + \\frac{\\omega_{2}}{2}\\right)} e^{- \\frac{\\mathbf{{x}_{r}}^{2} \\omega_{1}}{2} - \\frac{\\mathbf{{y}_{r}}^{2} \\omega_{2}}{2}}}{\\sqrt{\\pi}} + \\frac{\\sqrt[4]{\\omega_{1} \\omega_{2}} e^{- i t \\left(\\frac{\\omega_{1}}{2} + \\frac{\\omega_{2}}{2}\\right)} e^{- \\frac{\\mathbf{{x}_{r}}^{2} \\omega_{1}}{2} - \\frac{\\mathbf{{y}_{r}}^{2} \\omega_{2}}{2}}}{\\sqrt{\\pi}}$"
      ],
      "text/plain": [
       "2*r.x*r.y*c2*sqrt(omega1)*sqrt(omega2)*(omega1*omega2)**(1/4)*exp(-I*t*(3*omega1/2 + 3*omega2/2))*exp(-r.x**2*omega1/2 - r.y**2*omega2/2)/sqrt(pi) + sqrt(2)*r.x*c1*sqrt(omega1)*(omega1*omega2)**(1/4)*exp(-I*t*(3*omega1/2 + omega2/2))*exp(-r.x**2*omega1/2 - r.y**2*omega2/2)/sqrt(pi) + (omega1*omega2)**(1/4)*exp(-I*t*(omega1/2 + omega2/2))*exp(-r.x**2*omega1/2 - r.y**2*omega2/2)/sqrt(pi)"
      ]
     },
     "execution_count": 47,
     "metadata": {},
     "output_type": "execute_result"
    }
   ],
   "source": [
    "Psi"
   ]
  },
  {
   "cell_type": "markdown",
   "metadata": {},
   "source": [
    "$\\nabla_{x,y} \\Psi = $"
   ]
  },
  {
   "cell_type": "code",
   "execution_count": 48,
   "metadata": {
    "ExecuteTime": {
     "end_time": "2021-08-03T17:52:53.363267Z",
     "start_time": "2021-08-03T17:52:53.334689Z"
    }
   },
   "outputs": [
    {
     "data": {
      "text/latex": [
       "$\\displaystyle (- \\frac{2 \\mathbf{{x}_{r}}^{2} \\mathbf{{y}_{r}} c_{2} \\omega_{1}^{\\frac{3}{2}} \\sqrt{\\omega_{2}} \\sqrt[4]{\\omega_{1} \\omega_{2}} e^{- i t \\left(\\frac{3 \\omega_{1}}{2} + \\frac{3 \\omega_{2}}{2}\\right)} e^{- \\frac{\\mathbf{{x}_{r}}^{2} \\omega_{1}}{2} - \\frac{\\mathbf{{y}_{r}}^{2} \\omega_{2}}{2}}}{\\sqrt{\\pi}} - \\frac{\\sqrt{2} \\mathbf{{x}_{r}}^{2} c_{1} \\omega_{1}^{\\frac{3}{2}} \\sqrt[4]{\\omega_{1} \\omega_{2}} e^{- i t \\left(\\frac{3 \\omega_{1}}{2} + \\frac{\\omega_{2}}{2}\\right)} e^{- \\frac{\\mathbf{{x}_{r}}^{2} \\omega_{1}}{2} - \\frac{\\mathbf{{y}_{r}}^{2} \\omega_{2}}{2}}}{\\sqrt{\\pi}} - \\frac{\\mathbf{{x}_{r}} \\omega_{1} \\sqrt[4]{\\omega_{1} \\omega_{2}} e^{- i t \\left(\\frac{\\omega_{1}}{2} + \\frac{\\omega_{2}}{2}\\right)} e^{- \\frac{\\mathbf{{x}_{r}}^{2} \\omega_{1}}{2} - \\frac{\\mathbf{{y}_{r}}^{2} \\omega_{2}}{2}}}{\\sqrt{\\pi}} + \\frac{2 \\mathbf{{y}_{r}} c_{2} \\sqrt{\\omega_{1}} \\sqrt{\\omega_{2}} \\sqrt[4]{\\omega_{1} \\omega_{2}} e^{- i t \\left(\\frac{3 \\omega_{1}}{2} + \\frac{3 \\omega_{2}}{2}\\right)} e^{- \\frac{\\mathbf{{x}_{r}}^{2} \\omega_{1}}{2} - \\frac{\\mathbf{{y}_{r}}^{2} \\omega_{2}}{2}}}{\\sqrt{\\pi}} + \\frac{\\sqrt{2} c_{1} \\sqrt{\\omega_{1}} \\sqrt[4]{\\omega_{1} \\omega_{2}} e^{- i t \\left(\\frac{3 \\omega_{1}}{2} + \\frac{\\omega_{2}}{2}\\right)} e^{- \\frac{\\mathbf{{x}_{r}}^{2} \\omega_{1}}{2} - \\frac{\\mathbf{{y}_{r}}^{2} \\omega_{2}}{2}}}{\\sqrt{\\pi}})\\mathbf{\\hat{i}_{r}} + (- \\frac{2 \\mathbf{{x}_{r}} \\mathbf{{y}_{r}}^{2} c_{2} \\sqrt{\\omega_{1}} \\omega_{2}^{\\frac{3}{2}} \\sqrt[4]{\\omega_{1} \\omega_{2}} e^{- i t \\left(\\frac{3 \\omega_{1}}{2} + \\frac{3 \\omega_{2}}{2}\\right)} e^{- \\frac{\\mathbf{{x}_{r}}^{2} \\omega_{1}}{2} - \\frac{\\mathbf{{y}_{r}}^{2} \\omega_{2}}{2}}}{\\sqrt{\\pi}} - \\frac{\\sqrt{2} \\mathbf{{x}_{r}} \\mathbf{{y}_{r}} c_{1} \\sqrt{\\omega_{1}} \\omega_{2} \\sqrt[4]{\\omega_{1} \\omega_{2}} e^{- i t \\left(\\frac{3 \\omega_{1}}{2} + \\frac{\\omega_{2}}{2}\\right)} e^{- \\frac{\\mathbf{{x}_{r}}^{2} \\omega_{1}}{2} - \\frac{\\mathbf{{y}_{r}}^{2} \\omega_{2}}{2}}}{\\sqrt{\\pi}} + \\frac{2 \\mathbf{{x}_{r}} c_{2} \\sqrt{\\omega_{1}} \\sqrt{\\omega_{2}} \\sqrt[4]{\\omega_{1} \\omega_{2}} e^{- i t \\left(\\frac{3 \\omega_{1}}{2} + \\frac{3 \\omega_{2}}{2}\\right)} e^{- \\frac{\\mathbf{{x}_{r}}^{2} \\omega_{1}}{2} - \\frac{\\mathbf{{y}_{r}}^{2} \\omega_{2}}{2}}}{\\sqrt{\\pi}} - \\frac{\\mathbf{{y}_{r}} \\omega_{2} \\sqrt[4]{\\omega_{1} \\omega_{2}} e^{- i t \\left(\\frac{\\omega_{1}}{2} + \\frac{\\omega_{2}}{2}\\right)} e^{- \\frac{\\mathbf{{x}_{r}}^{2} \\omega_{1}}{2} - \\frac{\\mathbf{{y}_{r}}^{2} \\omega_{2}}{2}}}{\\sqrt{\\pi}})\\mathbf{\\hat{j}_{r}}$"
      ],
      "text/plain": [
       "(-2*r.x**2*r.y*c2*omega1**(3/2)*sqrt(omega2)*(omega1*omega2)**(1/4)*exp(-I*t*(3*omega1/2 + 3*omega2/2))*exp(-r.x**2*omega1/2 - r.y**2*omega2/2)/sqrt(pi) - sqrt(2)*r.x**2*c1*omega1**(3/2)*(omega1*omega2)**(1/4)*exp(-I*t*(3*omega1/2 + omega2/2))*exp(-r.x**2*omega1/2 - r.y**2*omega2/2)/sqrt(pi) - r.x*omega1*(omega1*omega2)**(1/4)*exp(-I*t*(omega1/2 + omega2/2))*exp(-r.x**2*omega1/2 - r.y**2*omega2/2)/sqrt(pi) + 2*r.y*c2*sqrt(omega1)*sqrt(omega2)*(omega1*omega2)**(1/4)*exp(-I*t*(3*omega1/2 + 3*omega2/2))*exp(-r.x**2*omega1/2 - r.y**2*omega2/2)/sqrt(pi) + sqrt(2)*c1*sqrt(omega1)*(omega1*omega2)**(1/4)*exp(-I*t*(3*omega1/2 + omega2/2))*exp(-r.x**2*omega1/2 - r.y**2*omega2/2)/sqrt(pi))*r.i + (-2*r.x*r.y**2*c2*sqrt(omega1)*omega2**(3/2)*(omega1*omega2)**(1/4)*exp(-I*t*(3*omega1/2 + 3*omega2/2))*exp(-r.x**2*omega1/2 - r.y**2*omega2/2)/sqrt(pi) - sqrt(2)*r.x*r.y*c1*sqrt(omega1)*omega2*(omega1*omega2)**(1/4)*exp(-I*t*(3*omega1/2 + omega2/2))*exp(-r.x**2*omega1/2 - r.y**2*omega2/2)/sqrt(pi) + 2*r.x*c2*sqrt(omega1)*sqrt(omega2)*(omega1*omega2)**(1/4)*exp(-I*t*(3*omega1/2 + 3*omega2/2))*exp(-r.x**2*omega1/2 - r.y**2*omega2/2)/sqrt(pi) - r.y*omega2*(omega1*omega2)**(1/4)*exp(-I*t*(omega1/2 + omega2/2))*exp(-r.x**2*omega1/2 - r.y**2*omega2/2)/sqrt(pi))*r.j"
      ]
     },
     "execution_count": 48,
     "metadata": {},
     "output_type": "execute_result"
    }
   ],
   "source": [
    "Del_Psi = gradient(Psi)\n",
    "Del_Psi"
   ]
  },
  {
   "cell_type": "markdown",
   "metadata": {},
   "source": [
    "$\\nabla_{x,y} \\Psi / \\Psi= $"
   ]
  },
  {
   "cell_type": "code",
   "execution_count": 49,
   "metadata": {
    "ExecuteTime": {
     "end_time": "2021-08-03T17:52:59.595475Z",
     "start_time": "2021-08-03T17:52:59.050909Z"
    }
   },
   "outputs": [
    {
     "data": {
      "text/latex": [
       "$\\displaystyle (\\frac{- \\sqrt{2} c_{1} \\omega_{1}^{\\frac{3}{2}} x^{2} e^{i \\omega_{2} t} + \\sqrt{2} c_{1} \\sqrt{\\omega_{1}} e^{i \\omega_{2} t} - 2 c_{2} \\omega_{1}^{\\frac{3}{2}} \\sqrt{\\omega_{2}} x^{2} y + 2 c_{2} \\sqrt{\\omega_{1}} \\sqrt{\\omega_{2}} y - \\omega_{1} x e^{i t \\left(\\omega_{1} + \\omega_{2}\\right)}}{\\sqrt{2} c_{1} \\sqrt{\\omega_{1}} x e^{i \\omega_{2} t} + 2 c_{2} \\sqrt{\\omega_{1}} \\sqrt{\\omega_{2}} x y + e^{i t \\left(\\omega_{1} + \\omega_{2}\\right)}})\\mathbf{\\hat{i}_{r}} + (\\frac{- \\sqrt{2} c_{1} \\sqrt{\\omega_{1}} \\omega_{2} x y e^{i \\omega_{2} t} - 2 c_{2} \\sqrt{\\omega_{1}} \\omega_{2}^{\\frac{3}{2}} x y^{2} + 2 c_{2} \\sqrt{\\omega_{1}} \\sqrt{\\omega_{2}} x - \\omega_{2} y e^{i t \\left(\\omega_{1} + \\omega_{2}\\right)}}{\\sqrt{2} c_{1} \\sqrt{\\omega_{1}} x e^{i \\omega_{2} t} + 2 c_{2} \\sqrt{\\omega_{1}} \\sqrt{\\omega_{2}} x y + e^{i t \\left(\\omega_{1} + \\omega_{2}\\right)}})\\mathbf{\\hat{j}_{r}}$"
      ],
      "text/plain": [
       "((-sqrt(2)*c1*omega1**(3/2)*x**2*exp(I*omega2*t) + sqrt(2)*c1*sqrt(omega1)*exp(I*omega2*t) - 2*c2*omega1**(3/2)*sqrt(omega2)*x**2*y + 2*c2*sqrt(omega1)*sqrt(omega2)*y - omega1*x*exp(I*t*(omega1 + omega2)))/(sqrt(2)*c1*sqrt(omega1)*x*exp(I*omega2*t) + 2*c2*sqrt(omega1)*sqrt(omega2)*x*y + exp(I*t*(omega1 + omega2))))*r.i + ((-sqrt(2)*c1*sqrt(omega1)*omega2*x*y*exp(I*omega2*t) - 2*c2*sqrt(omega1)*omega2**(3/2)*x*y**2 + 2*c2*sqrt(omega1)*sqrt(omega2)*x - omega2*y*exp(I*t*(omega1 + omega2)))/(sqrt(2)*c1*sqrt(omega1)*x*exp(I*omega2*t) + 2*c2*sqrt(omega1)*sqrt(omega2)*x*y + exp(I*t*(omega1 + omega2))))*r.j"
      ]
     },
     "execution_count": 49,
     "metadata": {},
     "output_type": "execute_result"
    }
   ],
   "source": [
    "expr = Del_Psi/Psi\n",
    "expr = expr.simplify()\n",
    "expr = expr.subs([(r.x, x), (r.y, y)])\n",
    "expr"
   ]
  },
  {
   "cell_type": "markdown",
   "metadata": {},
   "source": [
    "$\\partial_x \\Psi / \\Psi = $"
   ]
  },
  {
   "cell_type": "code",
   "execution_count": 51,
   "metadata": {
    "ExecuteTime": {
     "end_time": "2021-08-03T17:53:16.378866Z",
     "start_time": "2021-08-03T17:53:16.364557Z"
    }
   },
   "outputs": [
    {
     "data": {
      "text/latex": [
       "$\\displaystyle (\\frac{- \\sqrt{2} c_{1} \\omega_{1}^{\\frac{3}{2}} x^{2} \\left(i \\sin{\\left(\\omega_{2} t \\right)} + \\cos{\\left(\\omega_{2} t \\right)}\\right) + \\sqrt{2} c_{1} \\sqrt{\\omega_{1}} \\left(i \\sin{\\left(\\omega_{2} t \\right)} + \\cos{\\left(\\omega_{2} t \\right)}\\right) - 2 c_{2} \\omega_{1}^{\\frac{3}{2}} \\sqrt{\\omega_{2}} x^{2} y + 2 c_{2} \\sqrt{\\omega_{1}} \\sqrt{\\omega_{2}} y - \\omega_{1} x \\left(i \\sin{\\left(t \\left(\\omega_{1} + \\omega_{2}\\right) \\right)} + \\cos{\\left(t \\left(\\omega_{1} + \\omega_{2}\\right) \\right)}\\right)}{\\sqrt{2} c_{1} \\sqrt{\\omega_{1}} x \\left(i \\sin{\\left(\\omega_{2} t \\right)} + \\cos{\\left(\\omega_{2} t \\right)}\\right) + 2 c_{2} \\sqrt{\\omega_{1}} \\sqrt{\\omega_{2}} x y + i \\sin{\\left(t \\left(\\omega_{1} + \\omega_{2}\\right) \\right)} + \\cos{\\left(t \\left(\\omega_{1} + \\omega_{2}\\right) \\right)}})\\mathbf{\\hat{i}_{r}}$"
      ],
      "text/plain": [
       "((-sqrt(2)*c1*omega1**(3/2)*x**2*(I*sin(omega2*t) + cos(omega2*t)) + sqrt(2)*c1*sqrt(omega1)*(I*sin(omega2*t) + cos(omega2*t)) - 2*c2*omega1**(3/2)*sqrt(omega2)*x**2*y + 2*c2*sqrt(omega1)*sqrt(omega2)*y - omega1*x*(I*sin(t*(omega1 + omega2)) + cos(t*(omega1 + omega2))))/(sqrt(2)*c1*sqrt(omega1)*x*(I*sin(omega2*t) + cos(omega2*t)) + 2*c2*sqrt(omega1)*sqrt(omega2)*x*y + I*sin(t*(omega1 + omega2)) + cos(t*(omega1 + omega2))))*r.i"
      ]
     },
     "execution_count": 51,
     "metadata": {},
     "output_type": "execute_result"
    }
   ],
   "source": [
    "vx = expr.args[1]\n",
    "vx = vx.subs(sym.exp(sym.I*t*(omega1 + omega2)), sym.cos(t*(omega1 + omega2)) + sym.I*sym.sin(t*(omega1 + omega2)))\n",
    "vx = vx.subs(sym.exp(sym.I*t*omega2), sym.cos(t*omega2) + sym.I*sym.sin(t*omega2))\n",
    "vx"
   ]
  },
  {
   "cell_type": "code",
   "execution_count": 52,
   "metadata": {
    "ExecuteTime": {
     "end_time": "2021-08-03T17:53:29.768119Z",
     "start_time": "2021-08-03T17:53:29.757642Z"
    }
   },
   "outputs": [
    {
     "data": {
      "text/latex": [
       "$\\displaystyle - \\sqrt{2} c_{1} \\omega_{1}^{\\frac{3}{2}} x^{2} \\left(i \\sin{\\left(\\omega_{2} t \\right)} + \\cos{\\left(\\omega_{2} t \\right)}\\right) + \\sqrt{2} c_{1} \\sqrt{\\omega_{1}} \\left(i \\sin{\\left(\\omega_{2} t \\right)} + \\cos{\\left(\\omega_{2} t \\right)}\\right) - 2 c_{2} \\omega_{1}^{\\frac{3}{2}} \\sqrt{\\omega_{2}} x^{2} y + 2 c_{2} \\sqrt{\\omega_{1}} \\sqrt{\\omega_{2}} y - \\omega_{1} x \\left(i \\sin{\\left(t \\left(\\omega_{1} + \\omega_{2}\\right) \\right)} + \\cos{\\left(t \\left(\\omega_{1} + \\omega_{2}\\right) \\right)}\\right)$"
      ],
      "text/plain": [
       "-sqrt(2)*c1*omega1**(3/2)*x**2*(I*sin(omega2*t) + cos(omega2*t)) + sqrt(2)*c1*sqrt(omega1)*(I*sin(omega2*t) + cos(omega2*t)) - 2*c2*omega1**(3/2)*sqrt(omega2)*x**2*y + 2*c2*sqrt(omega1)*sqrt(omega2)*y - omega1*x*(I*sin(t*(omega1 + omega2)) + cos(t*(omega1 + omega2)))"
      ]
     },
     "execution_count": 52,
     "metadata": {},
     "output_type": "execute_result"
    }
   ],
   "source": [
    "vx.args[1]"
   ]
  },
  {
   "cell_type": "code",
   "execution_count": 53,
   "metadata": {
    "ExecuteTime": {
     "end_time": "2021-08-03T17:53:39.074751Z",
     "start_time": "2021-08-03T17:53:39.065183Z"
    }
   },
   "outputs": [
    {
     "data": {
      "text/latex": [
       "$\\displaystyle \\frac{1}{\\sqrt{2} c_{1} \\sqrt{\\omega_{1}} x \\left(i \\sin{\\left(\\omega_{2} t \\right)} + \\cos{\\left(\\omega_{2} t \\right)}\\right) + 2 c_{2} \\sqrt{\\omega_{1}} \\sqrt{\\omega_{2}} x y + i \\sin{\\left(t \\left(\\omega_{1} + \\omega_{2}\\right) \\right)} + \\cos{\\left(t \\left(\\omega_{1} + \\omega_{2}\\right) \\right)}}$"
      ],
      "text/plain": [
       "1/(sqrt(2)*c1*sqrt(omega1)*x*(I*sin(omega2*t) + cos(omega2*t)) + 2*c2*sqrt(omega1)*sqrt(omega2)*x*y + I*sin(t*(omega1 + omega2)) + cos(t*(omega1 + omega2)))"
      ]
     },
     "execution_count": 53,
     "metadata": {},
     "output_type": "execute_result"
    }
   ],
   "source": [
    "vx.args[0]"
   ]
  },
  {
   "cell_type": "markdown",
   "metadata": {},
   "source": [
    "$\\partial_y \\Psi / \\Psi = $"
   ]
  },
  {
   "cell_type": "code",
   "execution_count": 54,
   "metadata": {
    "ExecuteTime": {
     "end_time": "2021-08-03T17:53:52.025540Z",
     "start_time": "2021-08-03T17:53:52.013486Z"
    }
   },
   "outputs": [
    {
     "data": {
      "text/latex": [
       "$\\displaystyle (\\frac{- \\sqrt{2} c_{1} \\sqrt{\\omega_{1}} \\omega_{2} x y \\left(i \\sin{\\left(\\omega_{2} t \\right)} + \\cos{\\left(\\omega_{2} t \\right)}\\right) - 2 c_{2} \\sqrt{\\omega_{1}} \\omega_{2}^{\\frac{3}{2}} x y^{2} + 2 c_{2} \\sqrt{\\omega_{1}} \\sqrt{\\omega_{2}} x - \\omega_{2} y \\left(i \\sin{\\left(t \\left(\\omega_{1} + \\omega_{2}\\right) \\right)} + \\cos{\\left(t \\left(\\omega_{1} + \\omega_{2}\\right) \\right)}\\right)}{\\sqrt{2} c_{1} \\sqrt{\\omega_{1}} x \\left(i \\sin{\\left(\\omega_{2} t \\right)} + \\cos{\\left(\\omega_{2} t \\right)}\\right) + 2 c_{2} \\sqrt{\\omega_{1}} \\sqrt{\\omega_{2}} x y + i \\sin{\\left(t \\left(\\omega_{1} + \\omega_{2}\\right) \\right)} + \\cos{\\left(t \\left(\\omega_{1} + \\omega_{2}\\right) \\right)}})\\mathbf{\\hat{j}_{r}}$"
      ],
      "text/plain": [
       "((-sqrt(2)*c1*sqrt(omega1)*omega2*x*y*(I*sin(omega2*t) + cos(omega2*t)) - 2*c2*sqrt(omega1)*omega2**(3/2)*x*y**2 + 2*c2*sqrt(omega1)*sqrt(omega2)*x - omega2*y*(I*sin(t*(omega1 + omega2)) + cos(t*(omega1 + omega2))))/(sqrt(2)*c1*sqrt(omega1)*x*(I*sin(omega2*t) + cos(omega2*t)) + 2*c2*sqrt(omega1)*sqrt(omega2)*x*y + I*sin(t*(omega1 + omega2)) + cos(t*(omega1 + omega2))))*r.j"
      ]
     },
     "execution_count": 54,
     "metadata": {},
     "output_type": "execute_result"
    }
   ],
   "source": [
    "vy = expr.args[0]\n",
    "# employ Euler's formula\n",
    "vy = vy.subs(sym.exp(sym.I*t*(omega1 + omega2)), sym.cos(t*(omega1 + omega2)) + sym.I*sym.sin(t*(omega1 + omega2)))\n",
    "vy = vy.subs(sym.exp(sym.I*t*omega2), sym.cos(t*omega2) + sym.I*sym.sin(t*omega2))\n",
    "vy"
   ]
  },
  {
   "cell_type": "code",
   "execution_count": 55,
   "metadata": {
    "ExecuteTime": {
     "end_time": "2021-08-03T17:53:55.113623Z",
     "start_time": "2021-08-03T17:53:55.106191Z"
    }
   },
   "outputs": [
    {
     "data": {
      "text/latex": [
       "$\\displaystyle - \\sqrt{2} c_{1} \\sqrt{\\omega_{1}} \\omega_{2} x y \\left(i \\sin{\\left(\\omega_{2} t \\right)} + \\cos{\\left(\\omega_{2} t \\right)}\\right) - 2 c_{2} \\sqrt{\\omega_{1}} \\omega_{2}^{\\frac{3}{2}} x y^{2} + 2 c_{2} \\sqrt{\\omega_{1}} \\sqrt{\\omega_{2}} x - \\omega_{2} y \\left(i \\sin{\\left(t \\left(\\omega_{1} + \\omega_{2}\\right) \\right)} + \\cos{\\left(t \\left(\\omega_{1} + \\omega_{2}\\right) \\right)}\\right)$"
      ],
      "text/plain": [
       "-sqrt(2)*c1*sqrt(omega1)*omega2*x*y*(I*sin(omega2*t) + cos(omega2*t)) - 2*c2*sqrt(omega1)*omega2**(3/2)*x*y**2 + 2*c2*sqrt(omega1)*sqrt(omega2)*x - omega2*y*(I*sin(t*(omega1 + omega2)) + cos(t*(omega1 + omega2)))"
      ]
     },
     "execution_count": 55,
     "metadata": {},
     "output_type": "execute_result"
    }
   ],
   "source": [
    "vy.args[1]"
   ]
  },
  {
   "cell_type": "code",
   "execution_count": 56,
   "metadata": {
    "ExecuteTime": {
     "end_time": "2021-08-03T17:53:56.287603Z",
     "start_time": "2021-08-03T17:53:56.278159Z"
    }
   },
   "outputs": [
    {
     "data": {
      "text/latex": [
       "$\\displaystyle \\frac{1}{\\sqrt{2} c_{1} \\sqrt{\\omega_{1}} x \\left(i \\sin{\\left(\\omega_{2} t \\right)} + \\cos{\\left(\\omega_{2} t \\right)}\\right) + 2 c_{2} \\sqrt{\\omega_{1}} \\sqrt{\\omega_{2}} x y + i \\sin{\\left(t \\left(\\omega_{1} + \\omega_{2}\\right) \\right)} + \\cos{\\left(t \\left(\\omega_{1} + \\omega_{2}\\right) \\right)}}$"
      ],
      "text/plain": [
       "1/(sqrt(2)*c1*sqrt(omega1)*x*(I*sin(omega2*t) + cos(omega2*t)) + 2*c2*sqrt(omega1)*sqrt(omega2)*x*y + I*sin(t*(omega1 + omega2)) + cos(t*(omega1 + omega2)))"
      ]
     },
     "execution_count": 56,
     "metadata": {},
     "output_type": "execute_result"
    }
   ],
   "source": [
    "vy.args[0]"
   ]
  },
  {
   "cell_type": "code",
   "execution_count": null,
   "metadata": {},
   "outputs": [],
   "source": []
  }
 ],
 "metadata": {
  "kernelspec": {
   "display_name": "Python 3",
   "language": "python",
   "name": "python3"
  },
  "language_info": {
   "codemirror_mode": {
    "name": "ipython",
    "version": 3
   },
   "file_extension": ".py",
   "mimetype": "text/x-python",
   "name": "python",
   "nbconvert_exporter": "python",
   "pygments_lexer": "ipython3",
   "version": "3.7.10"
  },
  "toc": {
   "base_numbering": 1,
   "nav_menu": {},
   "number_sections": true,
   "sideBar": true,
   "skip_h1_title": false,
   "title_cell": "Table of Contents",
   "title_sidebar": "Contents",
   "toc_cell": false,
   "toc_position": {
    "height": "calc(100% - 180px)",
    "left": "10px",
    "top": "150px",
    "width": "341.333px"
   },
   "toc_section_display": true,
   "toc_window_display": true
  }
 },
 "nbformat": 4,
 "nbformat_minor": 4
}
