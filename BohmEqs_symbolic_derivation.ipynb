{
 "cells": [
  {
   "cell_type": "markdown",
   "metadata": {},
   "source": [
    "# General setup"
   ]
  },
  {
   "cell_type": "code",
   "execution_count": 1,
   "metadata": {
    "ExecuteTime": {
     "end_time": "2021-02-08T17:58:23.595258Z",
     "start_time": "2021-02-08T17:58:23.319046Z"
    }
   },
   "outputs": [],
   "source": [
    "import sympy as sym"
   ]
  },
  {
   "cell_type": "code",
   "execution_count": 2,
   "metadata": {
    "ExecuteTime": {
     "end_time": "2021-02-08T17:58:23.646841Z",
     "start_time": "2021-02-08T17:58:23.644857Z"
    }
   },
   "outputs": [],
   "source": [
    "x, y = sym.symbols('x y', real=True)"
   ]
  },
  {
   "cell_type": "code",
   "execution_count": 3,
   "metadata": {
    "ExecuteTime": {
     "end_time": "2021-02-08T17:58:24.038756Z",
     "start_time": "2021-02-08T17:58:24.033945Z"
    }
   },
   "outputs": [],
   "source": [
    "h = sym.Symbol('hbar')\n",
    "omega1 = sym.Symbol('omega1', real=True)\n",
    "omega2 = sym.Symbol('omega2', real=True)\n",
    "n1 = sym.Symbol('n1')\n",
    "n2 = sym.Symbol('n2')"
   ]
  },
  {
   "cell_type": "code",
   "execution_count": 4,
   "metadata": {
    "ExecuteTime": {
     "end_time": "2021-02-08T17:58:24.367633Z",
     "start_time": "2021-02-08T17:58:24.365134Z"
    }
   },
   "outputs": [],
   "source": [
    "e = sym.exp\n",
    "t = sym.Symbol('t', real=True)\n",
    "c = sym.Symbol('c', real=True)"
   ]
  },
  {
   "cell_type": "code",
   "execution_count": 5,
   "metadata": {
    "ExecuteTime": {
     "end_time": "2021-02-08T17:58:25.009262Z",
     "start_time": "2021-02-08T17:58:24.806371Z"
    }
   },
   "outputs": [
    {
     "data": {
      "text/latex": [
       "$\\displaystyle \\hbar \\left(\\omega_{1} \\left(n_{1} + \\frac{1}{2}\\right) + \\omega_{2} \\left(n_{2} + \\frac{1}{2}\\right)\\right)$"
      ],
      "text/plain": [
       "hbar*(omega1*(n1 + 1/2) + omega2*(n2 + 1/2))"
      ]
     },
     "execution_count": 5,
     "metadata": {},
     "output_type": "execute_result"
    }
   ],
   "source": [
    "E_n1n2 = h*( (sym.Rational(1/2) + n1)*omega1 + (sym.Rational(1/2) + n2)*omega2 )\n",
    "E_n1n2"
   ]
  },
  {
   "cell_type": "code",
   "execution_count": 6,
   "metadata": {
    "ExecuteTime": {
     "end_time": "2021-02-08T17:58:25.304979Z",
     "start_time": "2021-02-08T17:58:25.296813Z"
    }
   },
   "outputs": [
    {
     "data": {
      "text/latex": [
       "$\\displaystyle \\omega_{1} \\left(n_{1} + \\frac{1}{2}\\right) + \\omega_{2} \\left(n_{2} + \\frac{1}{2}\\right)$"
      ],
      "text/plain": [
       "omega1*(n1 + 1/2) + omega2*(n2 + 1/2)"
      ]
     },
     "execution_count": 6,
     "metadata": {},
     "output_type": "execute_result"
    }
   ],
   "source": [
    "E_n1n2 = E_n1n2.subs(h,1)\n",
    "E_n1n2"
   ]
  },
  {
   "cell_type": "markdown",
   "metadata": {},
   "source": [
    "Eigenfunctions "
   ]
  },
  {
   "cell_type": "code",
   "execution_count": 7,
   "metadata": {
    "ExecuteTime": {
     "end_time": "2021-02-08T17:58:26.408448Z",
     "start_time": "2021-02-08T17:58:26.404140Z"
    }
   },
   "outputs": [],
   "source": [
    "def psi_n1n2(n1_val, n2_val):\n",
    "    C_n1n2_numerator = (omega1*omega2)**(sym.Rational(1/4))\n",
    "    C_n1n2_divider = sym.sqrt(sym.pi* sym.factorial(n1) * sym.factorial(n2)* 2**(n1+n2))\n",
    "    C_n1n2 = C_n1n2_numerator/C_n1n2_divider\n",
    "    H_n1 = sym.hermite_poly(n1_val, sym.sqrt(omega1)*x)\n",
    "    H_n2 = sym.hermite_poly(n2_val, sym.sqrt(omega2)*y)\n",
    "    expfunc1 = sym.exp(-sym.I*E_n1n2*t)\n",
    "    expfunc2 = sym.exp(-sym.Rational(1/2)*(omega1*x**2 + omega2*y**2))\n",
    "    product = C_n1n2*expfunc1*expfunc2\n",
    "    psi_n1n2 = product.subs([(n1, n1_val),(n2, n2_val)])*H_n1*H_n2\n",
    "    return psi_n1n2"
   ]
  },
  {
   "cell_type": "markdown",
   "metadata": {},
   "source": [
    "Wave function"
   ]
  },
  {
   "cell_type": "code",
   "execution_count": 8,
   "metadata": {
    "ExecuteTime": {
     "end_time": "2021-02-08T17:58:27.736452Z",
     "start_time": "2021-02-08T17:58:27.729008Z"
    }
   },
   "outputs": [],
   "source": [
    "c1, c2 = sym.symbols('c1 c2', real=True)"
   ]
  },
  {
   "cell_type": "markdown",
   "metadata": {},
   "source": [
    "$\\Psi(x,y,t) = \\psi_{0,0} + c_1 \\psi_{1,0} + c_2 \\psi_{1,1}$"
   ]
  },
  {
   "cell_type": "code",
   "execution_count": 16,
   "metadata": {
    "ExecuteTime": {
     "end_time": "2021-02-08T18:00:17.721781Z",
     "start_time": "2021-02-08T18:00:17.718826Z"
    }
   },
   "outputs": [],
   "source": [
    "Psi = psi_n1n2(0,0) + c1*psi_n1n2(1,0) + c2*psi_n1n2(1,1)"
   ]
  },
  {
   "cell_type": "markdown",
   "metadata": {},
   "source": [
    "SPECIAL CASE: $\\omega_1 = 1$ and $\\omega_2 = 1/c^2$"
   ]
  },
  {
   "cell_type": "code",
   "execution_count": 17,
   "metadata": {
    "ExecuteTime": {
     "end_time": "2021-02-08T18:00:18.624388Z",
     "start_time": "2021-02-08T18:00:18.617903Z"
    }
   },
   "outputs": [],
   "source": [
    "Psi = Psi.subs(omega1,1)\n",
    "# Psi = Psi.subs(omega2,1/c**2)"
   ]
  },
  {
   "cell_type": "code",
   "execution_count": 18,
   "metadata": {
    "ExecuteTime": {
     "end_time": "2021-02-08T18:00:20.221419Z",
     "start_time": "2021-02-08T18:00:20.137622Z"
    }
   },
   "outputs": [
    {
     "data": {
      "text/latex": [
       "$\\displaystyle \\frac{\\sqrt[4]{\\omega_{2}} \\left(\\sqrt{2} c_{1} x e^{i \\omega_{2} t} + 2 c_{2} \\sqrt{\\omega_{2}} x y + e^{i t} e^{i \\omega_{2} t}\\right) e^{- \\frac{x^{2}}{2}} e^{- \\frac{3 i t}{2}} e^{- \\frac{\\omega_{2} y^{2}}{2}} e^{- \\frac{3 i \\omega_{2} t}{2}}}{\\sqrt{\\pi}}$"
      ],
      "text/plain": [
       "omega2**(1/4)*(sqrt(2)*c1*x*exp(I*omega2*t) + 2*c2*sqrt(omega2)*x*y + exp(I*t)*exp(I*omega2*t))*exp(-x**2/2)*exp(-3*I*t/2)*exp(-omega2*y**2/2)*exp(-3*I*omega2*t/2)/sqrt(pi)"
      ]
     },
     "execution_count": 18,
     "metadata": {},
     "output_type": "execute_result"
    }
   ],
   "source": [
    "Psi = Psi.factor()\n",
    "Psi"
   ]
  },
  {
   "cell_type": "code",
   "execution_count": 23,
   "metadata": {
    "ExecuteTime": {
     "end_time": "2021-02-08T18:02:08.725016Z",
     "start_time": "2021-02-08T18:02:08.715404Z"
    }
   },
   "outputs": [
    {
     "data": {
      "text/latex": [
       "$\\displaystyle \\frac{\\left(\\sqrt{2} c_{1} x e^{i t} + 2 c_{2} x y + e^{2 i t}\\right) e^{- \\frac{x^{2}}{2}} e^{- \\frac{y^{2}}{2}} e^{- 3 i t}}{\\sqrt{\\pi}}$"
      ],
      "text/plain": [
       "(sqrt(2)*c1*x*exp(I*t) + 2*c2*x*y + exp(2*I*t))*exp(-x**2/2)*exp(-y**2/2)*exp(-3*I*t)/sqrt(pi)"
      ]
     },
     "execution_count": 23,
     "metadata": {},
     "output_type": "execute_result"
    }
   ],
   "source": [
    "Psi.subs(omega2,1)"
   ]
  },
  {
   "cell_type": "markdown",
   "metadata": {},
   "source": [
    "# Compute nodal points"
   ]
  },
  {
   "cell_type": "markdown",
   "metadata": {},
   "source": [
    "Extract LHS factor"
   ]
  },
  {
   "cell_type": "code",
   "execution_count": 75,
   "metadata": {
    "ExecuteTime": {
     "end_time": "2021-01-13T23:40:11.754569Z",
     "start_time": "2021-01-13T23:40:11.742591Z"
    }
   },
   "outputs": [
    {
     "data": {
      "text/latex": [
       "$\\displaystyle \\sqrt{2} c_{1} x e^{\\frac{i t}{c^{2}}} \\left|{c}\\right| + 2 c_{2} x y + e^{i t} e^{\\frac{i t}{c^{2}}} \\left|{c}\\right|$"
      ],
      "text/plain": [
       "sqrt(2)*c1*x*exp(I*t/c**2)*Abs(c) + 2*c2*x*y + exp(I*t)*exp(I*t/c**2)*Abs(c)"
      ]
     },
     "execution_count": 75,
     "metadata": {},
     "output_type": "execute_result"
    }
   ],
   "source": [
    "factor_main = Psi.args[2]\n",
    "factor_main"
   ]
  },
  {
   "cell_type": "markdown",
   "metadata": {},
   "source": [
    "Rewrite $e^{it}$ using polar form"
   ]
  },
  {
   "cell_type": "code",
   "execution_count": 76,
   "metadata": {
    "ExecuteTime": {
     "end_time": "2021-01-13T23:40:13.737539Z",
     "start_time": "2021-01-13T23:40:12.958248Z"
    }
   },
   "outputs": [
    {
     "data": {
      "text/latex": [
       "$\\displaystyle \\sqrt{2} i c_{1} x \\sin{\\left(\\frac{t}{c^{2}} \\right)} \\left|{c}\\right| + \\sqrt{2} c_{1} x \\cos{\\left(\\frac{t}{c^{2}} \\right)} \\left|{c}\\right| + 2 c_{2} x y + i \\sin{\\left(t + \\frac{t}{c^{2}} \\right)} \\left|{c}\\right| + \\cos{\\left(t + \\frac{t}{c^{2}} \\right)} \\left|{c}\\right|$"
      ],
      "text/plain": [
       "sqrt(2)*I*c1*x*sin(t/c**2)*Abs(c) + sqrt(2)*c1*x*cos(t/c**2)*Abs(c) + 2*c2*x*y + I*sin(t + t/c**2)*Abs(c) + cos(t + t/c**2)*Abs(c)"
      ]
     },
     "execution_count": 76,
     "metadata": {},
     "output_type": "execute_result"
    }
   ],
   "source": [
    "expr = factor_main\n",
    "expr = expr.rewrite(sym.cos).expand()\n",
    "expr = expr.simplify()\n",
    "expr"
   ]
  },
  {
   "cell_type": "markdown",
   "metadata": {},
   "source": [
    "Extract REAL part"
   ]
  },
  {
   "cell_type": "code",
   "execution_count": 77,
   "metadata": {
    "ExecuteTime": {
     "end_time": "2021-01-13T23:40:18.168180Z",
     "start_time": "2021-01-13T23:40:18.149568Z"
    }
   },
   "outputs": [
    {
     "data": {
      "text/latex": [
       "$\\displaystyle \\sqrt{2} c_{1} x \\cos{\\left(\\frac{t}{c^{2}} \\right)} \\left|{c}\\right| + 2 c_{2} x y + \\cos{\\left(t + \\frac{t}{c^{2}} \\right)} \\left|{c}\\right|$"
      ],
      "text/plain": [
       "sqrt(2)*c1*x*cos(t/c**2)*Abs(c) + 2*c2*x*y + cos(t + t/c**2)*Abs(c)"
      ]
     },
     "execution_count": 77,
     "metadata": {},
     "output_type": "execute_result"
    }
   ],
   "source": [
    "expr_real = sym.re(expr)\n",
    "expr_real"
   ]
  },
  {
   "cell_type": "markdown",
   "metadata": {},
   "source": [
    "Extract IMAGINARY part"
   ]
  },
  {
   "cell_type": "code",
   "execution_count": 78,
   "metadata": {
    "ExecuteTime": {
     "end_time": "2021-01-13T23:40:18.168180Z",
     "start_time": "2021-01-13T23:40:18.149568Z"
    }
   },
   "outputs": [
    {
     "data": {
      "text/latex": [
       "$\\displaystyle \\sqrt{2} c_{1} x \\sin{\\left(\\frac{t}{c^{2}} \\right)} \\left|{c}\\right| + \\sin{\\left(t + \\frac{t}{c^{2}} \\right)} \\left|{c}\\right|$"
      ],
      "text/plain": [
       "sqrt(2)*c1*x*sin(t/c**2)*Abs(c) + sin(t + t/c**2)*Abs(c)"
      ]
     },
     "execution_count": 78,
     "metadata": {},
     "output_type": "execute_result"
    }
   ],
   "source": [
    "expr_im = sym.im(expr)\n",
    "expr_im"
   ]
  },
  {
   "cell_type": "markdown",
   "metadata": {},
   "source": [
    "SOLVE $x$ for nodal point"
   ]
  },
  {
   "cell_type": "code",
   "execution_count": 79,
   "metadata": {
    "ExecuteTime": {
     "end_time": "2021-01-13T23:40:19.873111Z",
     "start_time": "2021-01-13T23:40:19.676728Z"
    }
   },
   "outputs": [
    {
     "data": {
      "text/latex": [
       "$\\displaystyle - \\frac{\\sqrt{2} \\sin{\\left(t + \\frac{t}{c^{2}} \\right)}}{2 c_{1} \\sin{\\left(\\frac{t}{c^{2}} \\right)}}$"
      ],
      "text/plain": [
       "-sqrt(2)*sin(t + t/c**2)/(2*c1*sin(t/c**2))"
      ]
     },
     "execution_count": 79,
     "metadata": {},
     "output_type": "execute_result"
    }
   ],
   "source": [
    "x_nodal = sym.solve(expr_im, x)[0]\n",
    "x_nodal"
   ]
  },
  {
   "cell_type": "code",
   "execution_count": 80,
   "metadata": {
    "ExecuteTime": {
     "end_time": "2021-01-13T23:40:23.166606Z",
     "start_time": "2021-01-13T23:40:22.343522Z"
    }
   },
   "outputs": [
    {
     "data": {
      "text/latex": [
       "$\\displaystyle - \\frac{c_{1} \\sin{\\left(t \\right)} \\left|{c}\\right| + \\sqrt{2} c_{2} y \\sin{\\left(t + \\frac{t}{c^{2}} \\right)}}{c_{1} \\sin{\\left(\\frac{t}{c^{2}} \\right)}}$"
      ],
      "text/plain": [
       "-(c1*sin(t)*Abs(c) + sqrt(2)*c2*y*sin(t + t/c**2))/(c1*sin(t/c**2))"
      ]
     },
     "execution_count": 80,
     "metadata": {},
     "output_type": "execute_result"
    }
   ],
   "source": [
    "expr_real = expr_real.subs(x, x_nodal).simplify()\n",
    "expr_real"
   ]
  },
  {
   "cell_type": "markdown",
   "metadata": {
    "ExecuteTime": {
     "end_time": "2021-01-13T23:30:31.656101Z",
     "start_time": "2021-01-13T23:30:31.647326Z"
    }
   },
   "source": [
    "SOLVE $y$ for nodal point"
   ]
  },
  {
   "cell_type": "code",
   "execution_count": 81,
   "metadata": {
    "ExecuteTime": {
     "end_time": "2021-01-13T23:40:25.549837Z",
     "start_time": "2021-01-13T23:40:25.365379Z"
    }
   },
   "outputs": [
    {
     "data": {
      "text/latex": [
       "$\\displaystyle - \\frac{\\sqrt{2} c_{1} \\sin{\\left(t \\right)} \\left|{c}\\right|}{2 c_{2} \\sin{\\left(t + \\frac{t}{c^{2}} \\right)}}$"
      ],
      "text/plain": [
       "-sqrt(2)*c1*sin(t)*Abs(c)/(2*c2*sin(t + t/c**2))"
      ]
     },
     "execution_count": 81,
     "metadata": {},
     "output_type": "execute_result"
    }
   ],
   "source": [
    "y_nodal = sym.solve(expr_real, y)[0]\n",
    "y_nodal"
   ]
  },
  {
   "cell_type": "markdown",
   "metadata": {},
   "source": [
    "# Bohmian Equations"
   ]
  },
  {
   "cell_type": "markdown",
   "metadata": {},
   "source": [
    "We want to work out\n",
    "\n",
    "\\begin{equation}\n",
    "m \\frac{d\\mathbf{r}}{dt} = \\hbar Im\\{ \\frac{\\nabla \\Psi}{\\Psi} \\}\n",
    "\\end{equation}"
   ]
  },
  {
   "cell_type": "code",
   "execution_count": 17,
   "metadata": {
    "ExecuteTime": {
     "end_time": "2021-01-15T10:25:39.680948Z",
     "start_time": "2021-01-15T10:25:39.678948Z"
    }
   },
   "outputs": [],
   "source": [
    "from sympy.vector import CoordSys3D, gradient\n",
    "r = CoordSys3D('r')"
   ]
  },
  {
   "cell_type": "code",
   "execution_count": 18,
   "metadata": {
    "ExecuteTime": {
     "end_time": "2021-01-15T10:25:40.100163Z",
     "start_time": "2021-01-15T10:25:40.091185Z"
    }
   },
   "outputs": [],
   "source": [
    "Psi = Psi.subs([(x, r.x), (y, r.y)])"
   ]
  },
  {
   "cell_type": "markdown",
   "metadata": {},
   "source": [
    "$\\nabla_{x,y} \\Psi = $"
   ]
  },
  {
   "cell_type": "code",
   "execution_count": 19,
   "metadata": {
    "ExecuteTime": {
     "end_time": "2021-01-15T10:25:40.964632Z",
     "start_time": "2021-01-15T10:25:40.921747Z"
    }
   },
   "outputs": [
    {
     "data": {
      "text/latex": [
       "$\\displaystyle (- \\frac{\\mathbf{{x}_{r}} \\left(2 \\mathbf{{x}_{r}} \\mathbf{{y}_{r}} c_{2} + \\sqrt{2} \\mathbf{{x}_{r}} c_{1} e^{\\frac{i t}{c^{2}}} \\left|{c}\\right| + e^{i t} e^{\\frac{i t}{c^{2}}} \\left|{c}\\right|\\right) e^{- \\frac{\\mathbf{{x}_{r}}^{2}}{2}} e^{- \\frac{\\mathbf{{y}_{r}}^{2}}{2 c^{2}}} e^{- \\frac{3 i t}{2}} e^{- \\frac{3 i t}{2 c^{2}}}}{\\sqrt{\\pi} \\left|{c}\\right|^{\\frac{3}{2}}} + \\frac{\\left(2 \\mathbf{{y}_{r}} c_{2} + \\sqrt{2} c_{1} e^{\\frac{i t}{c^{2}}} \\left|{c}\\right|\\right) e^{- \\frac{\\mathbf{{x}_{r}}^{2}}{2}} e^{- \\frac{\\mathbf{{y}_{r}}^{2}}{2 c^{2}}} e^{- \\frac{3 i t}{2}} e^{- \\frac{3 i t}{2 c^{2}}}}{\\sqrt{\\pi} \\left|{c}\\right|^{\\frac{3}{2}}})\\mathbf{\\hat{i}_{r}} + (\\frac{2 \\mathbf{{x}_{r}} c_{2} e^{- \\frac{\\mathbf{{x}_{r}}^{2}}{2}} e^{- \\frac{\\mathbf{{y}_{r}}^{2}}{2 c^{2}}} e^{- \\frac{3 i t}{2}} e^{- \\frac{3 i t}{2 c^{2}}}}{\\sqrt{\\pi} \\left|{c}\\right|^{\\frac{3}{2}}} - \\frac{\\mathbf{{y}_{r}} \\left(2 \\mathbf{{x}_{r}} \\mathbf{{y}_{r}} c_{2} + \\sqrt{2} \\mathbf{{x}_{r}} c_{1} e^{\\frac{i t}{c^{2}}} \\left|{c}\\right| + e^{i t} e^{\\frac{i t}{c^{2}}} \\left|{c}\\right|\\right) e^{- \\frac{\\mathbf{{x}_{r}}^{2}}{2}} e^{- \\frac{\\mathbf{{y}_{r}}^{2}}{2 c^{2}}} e^{- \\frac{3 i t}{2}} e^{- \\frac{3 i t}{2 c^{2}}}}{\\sqrt{\\pi} c^{2} \\left|{c}\\right|^{\\frac{3}{2}}})\\mathbf{\\hat{j}_{r}}$"
      ],
      "text/plain": [
       "(-r.x*(2*r.x*r.y*c2 + sqrt(2)*r.x*c1*exp(I*t/c**2)*Abs(c) + exp(I*t)*exp(I*t/c**2)*Abs(c))*exp(-r.x**2/2)*exp(-r.y**2/(2*c**2))*exp(-3*I*t/2)*exp(-3*I*t/(2*c**2))/(sqrt(pi)*Abs(c)**(3/2)) + (2*r.y*c2 + sqrt(2)*c1*exp(I*t/c**2)*Abs(c))*exp(-r.x**2/2)*exp(-r.y**2/(2*c**2))*exp(-3*I*t/2)*exp(-3*I*t/(2*c**2))/(sqrt(pi)*Abs(c)**(3/2)))*r.i + (2*r.x*c2*exp(-r.x**2/2)*exp(-r.y**2/(2*c**2))*exp(-3*I*t/2)*exp(-3*I*t/(2*c**2))/(sqrt(pi)*Abs(c)**(3/2)) - r.y*(2*r.x*r.y*c2 + sqrt(2)*r.x*c1*exp(I*t/c**2)*Abs(c) + exp(I*t)*exp(I*t/c**2)*Abs(c))*exp(-r.x**2/2)*exp(-r.y**2/(2*c**2))*exp(-3*I*t/2)*exp(-3*I*t/(2*c**2))/(sqrt(pi)*c**2*Abs(c)**(3/2)))*r.j"
      ]
     },
     "execution_count": 19,
     "metadata": {},
     "output_type": "execute_result"
    }
   ],
   "source": [
    "Del_Psi = gradient(Psi)\n",
    "Del_Psi"
   ]
  },
  {
   "cell_type": "markdown",
   "metadata": {},
   "source": [
    "Compute $$Im\\{ \\frac{\\nabla \\Psi}{\\Psi} \\}$$"
   ]
  },
  {
   "cell_type": "markdown",
   "metadata": {},
   "source": [
    "where $\\Psi = $"
   ]
  },
  {
   "cell_type": "code",
   "execution_count": 20,
   "metadata": {
    "ExecuteTime": {
     "end_time": "2021-01-15T10:31:15.709806Z",
     "start_time": "2021-01-15T10:31:15.701556Z"
    }
   },
   "outputs": [
    {
     "data": {
      "text/latex": [
       "$\\displaystyle \\frac{\\left(2 \\mathbf{{x}_{r}} \\mathbf{{y}_{r}} c_{2} + \\sqrt{2} \\mathbf{{x}_{r}} c_{1} e^{\\frac{i t}{c^{2}}} \\left|{c}\\right| + e^{i t} e^{\\frac{i t}{c^{2}}} \\left|{c}\\right|\\right) e^{- \\frac{\\mathbf{{x}_{r}}^{2}}{2}} e^{- \\frac{\\mathbf{{y}_{r}}^{2}}{2 c^{2}}} e^{- \\frac{3 i t}{2}} e^{- \\frac{3 i t}{2 c^{2}}}}{\\sqrt{\\pi} \\left|{c}\\right|^{\\frac{3}{2}}}$"
      ],
      "text/plain": [
       "(2*r.x*r.y*c2 + sqrt(2)*r.x*c1*exp(I*t/c**2)*Abs(c) + exp(I*t)*exp(I*t/c**2)*Abs(c))*exp(-r.x**2/2)*exp(-r.y**2/(2*c**2))*exp(-3*I*t/2)*exp(-3*I*t/(2*c**2))/(sqrt(pi)*Abs(c)**(3/2))"
      ]
     },
     "execution_count": 20,
     "metadata": {},
     "output_type": "execute_result"
    }
   ],
   "source": [
    "Psi"
   ]
  },
  {
   "cell_type": "markdown",
   "metadata": {},
   "source": [
    "https://mathworld.wolfram.com/ComplexDivision.html"
   ]
  },
  {
   "cell_type": "markdown",
   "metadata": {},
   "source": [
    "Division in polar form of two complex numbers $z_1$ and $z_2$ in polar form\n",
    "\n",
    "\n",
    "\\begin{align*}\n",
    "z_1 = r_1(cos \\phi_1 + i sin \\phi_1)\\\\\n",
    "z_2 = r_2(cos \\phi_2 + i sin \\phi_2)\n",
    "\\end{align*}\n",
    "\n",
    "then, taking the \n",
    "\n",
    "\\begin{equation*}\n",
    "\\frac{z_1}{z_2} = \\frac{r_1}{r_2} (cos(\\phi_1 - \\phi_2) + i sin(\\phi_1 - \\phi_2))\n",
    "\\end{equation*}\n",
    "\n",
    "Then,\n",
    "\n",
    "\\begin{equation*}\n",
    "Im\\{ \\frac{z_1}{z_2} \\} = \\frac{r_1}{r_2} sin(\\phi_1 - \\phi_2)\n",
    "\\end{equation*}\n",
    "\n",
    "\n",
    "SOURCE https://en.wikipedia.org/wiki/Complex_number#Reciprocal_and_division "
   ]
  },
  {
   "cell_type": "markdown",
   "metadata": {},
   "source": [
    "<span style=\"color:red\"><b>NOTE : Conitnue with this</b></span> Michael defined D as the square module of $\\Psi$. Then, we take \n",
    "\n",
    "$$\\frac{\\bar{\\Psi} \\nabla \\Psi}{\\bar{\\Psi} \\Psi}$$"
   ]
  },
  {
   "cell_type": "code",
   "execution_count": 21,
   "metadata": {
    "ExecuteTime": {
     "end_time": "2021-01-15T10:32:08.044990Z",
     "start_time": "2021-01-15T10:32:08.013370Z"
    }
   },
   "outputs": [
    {
     "data": {
      "text/latex": [
       "$\\displaystyle (\\frac{\\sqrt{\\pi} \\left(- \\frac{\\mathbf{{x}_{r}} \\left(2 \\mathbf{{x}_{r}} \\mathbf{{y}_{r}} c_{2} + \\sqrt{2} \\mathbf{{x}_{r}} c_{1} e^{\\frac{i t}{c^{2}}} \\left|{c}\\right| + e^{i t} e^{\\frac{i t}{c^{2}}} \\left|{c}\\right|\\right) e^{- \\frac{\\mathbf{{x}_{r}}^{2}}{2}} e^{- \\frac{\\mathbf{{y}_{r}}^{2}}{2 c^{2}}} e^{- \\frac{3 i t}{2}} e^{- \\frac{3 i t}{2 c^{2}}}}{\\sqrt{\\pi} \\left|{c}\\right|^{\\frac{3}{2}}} + \\frac{\\left(2 \\mathbf{{y}_{r}} c_{2} + \\sqrt{2} c_{1} e^{\\frac{i t}{c^{2}}} \\left|{c}\\right|\\right) e^{- \\frac{\\mathbf{{x}_{r}}^{2}}{2}} e^{- \\frac{\\mathbf{{y}_{r}}^{2}}{2 c^{2}}} e^{- \\frac{3 i t}{2}} e^{- \\frac{3 i t}{2 c^{2}}}}{\\sqrt{\\pi} \\left|{c}\\right|^{\\frac{3}{2}}}\\right) e^{\\frac{\\mathbf{{x}_{r}}^{2}}{2}} e^{\\frac{\\mathbf{{y}_{r}}^{2}}{2 c^{2}}} e^{\\frac{3 i t}{2}} e^{\\frac{3 i t}{2 c^{2}}} \\left|{c}\\right|^{\\frac{3}{2}}}{2 \\mathbf{{x}_{r}} \\mathbf{{y}_{r}} c_{2} + \\sqrt{2} \\mathbf{{x}_{r}} c_{1} e^{\\frac{i t}{c^{2}}} \\left|{c}\\right| + e^{i t} e^{\\frac{i t}{c^{2}}} \\left|{c}\\right|})\\mathbf{\\hat{i}_{r}} + (\\frac{\\sqrt{\\pi} \\left(\\frac{2 \\mathbf{{x}_{r}} c_{2} e^{- \\frac{\\mathbf{{x}_{r}}^{2}}{2}} e^{- \\frac{\\mathbf{{y}_{r}}^{2}}{2 c^{2}}} e^{- \\frac{3 i t}{2}} e^{- \\frac{3 i t}{2 c^{2}}}}{\\sqrt{\\pi} \\left|{c}\\right|^{\\frac{3}{2}}} - \\frac{\\mathbf{{y}_{r}} \\left(2 \\mathbf{{x}_{r}} \\mathbf{{y}_{r}} c_{2} + \\sqrt{2} \\mathbf{{x}_{r}} c_{1} e^{\\frac{i t}{c^{2}}} \\left|{c}\\right| + e^{i t} e^{\\frac{i t}{c^{2}}} \\left|{c}\\right|\\right) e^{- \\frac{\\mathbf{{x}_{r}}^{2}}{2}} e^{- \\frac{\\mathbf{{y}_{r}}^{2}}{2 c^{2}}} e^{- \\frac{3 i t}{2}} e^{- \\frac{3 i t}{2 c^{2}}}}{\\sqrt{\\pi} c^{2} \\left|{c}\\right|^{\\frac{3}{2}}}\\right) e^{\\frac{\\mathbf{{x}_{r}}^{2}}{2}} e^{\\frac{\\mathbf{{y}_{r}}^{2}}{2 c^{2}}} e^{\\frac{3 i t}{2}} e^{\\frac{3 i t}{2 c^{2}}} \\left|{c}\\right|^{\\frac{3}{2}}}{2 \\mathbf{{x}_{r}} \\mathbf{{y}_{r}} c_{2} + \\sqrt{2} \\mathbf{{x}_{r}} c_{1} e^{\\frac{i t}{c^{2}}} \\left|{c}\\right| + e^{i t} e^{\\frac{i t}{c^{2}}} \\left|{c}\\right|})\\mathbf{\\hat{j}_{r}}$"
      ],
      "text/plain": [
       "(sqrt(pi)*(-r.x*(2*r.x*r.y*c2 + sqrt(2)*r.x*c1*exp(I*t/c**2)*Abs(c) + exp(I*t)*exp(I*t/c**2)*Abs(c))*exp(-r.x**2/2)*exp(-r.y**2/(2*c**2))*exp(-3*I*t/2)*exp(-3*I*t/(2*c**2))/(sqrt(pi)*Abs(c)**(3/2)) + (2*r.y*c2 + sqrt(2)*c1*exp(I*t/c**2)*Abs(c))*exp(-r.x**2/2)*exp(-r.y**2/(2*c**2))*exp(-3*I*t/2)*exp(-3*I*t/(2*c**2))/(sqrt(pi)*Abs(c)**(3/2)))*exp(r.x**2/2)*exp(r.y**2/(2*c**2))*exp(3*I*t/2)*exp(3*I*t/(2*c**2))*Abs(c)**(3/2)/(2*r.x*r.y*c2 + sqrt(2)*r.x*c1*exp(I*t/c**2)*Abs(c) + exp(I*t)*exp(I*t/c**2)*Abs(c)))*r.i + (sqrt(pi)*(2*r.x*c2*exp(-r.x**2/2)*exp(-r.y**2/(2*c**2))*exp(-3*I*t/2)*exp(-3*I*t/(2*c**2))/(sqrt(pi)*Abs(c)**(3/2)) - r.y*(2*r.x*r.y*c2 + sqrt(2)*r.x*c1*exp(I*t/c**2)*Abs(c) + exp(I*t)*exp(I*t/c**2)*Abs(c))*exp(-r.x**2/2)*exp(-r.y**2/(2*c**2))*exp(-3*I*t/2)*exp(-3*I*t/(2*c**2))/(sqrt(pi)*c**2*Abs(c)**(3/2)))*exp(r.x**2/2)*exp(r.y**2/(2*c**2))*exp(3*I*t/2)*exp(3*I*t/(2*c**2))*Abs(c)**(3/2)/(2*r.x*r.y*c2 + sqrt(2)*r.x*c1*exp(I*t/c**2)*Abs(c) + exp(I*t)*exp(I*t/c**2)*Abs(c)))*r.j"
      ]
     },
     "execution_count": 21,
     "metadata": {},
     "output_type": "execute_result"
    }
   ],
   "source": [
    "expr = Del_Psi/Psi\n",
    "expr"
   ]
  },
  {
   "cell_type": "code",
   "execution_count": 24,
   "metadata": {
    "ExecuteTime": {
     "end_time": "2021-01-15T10:35:34.585680Z",
     "start_time": "2021-01-15T10:35:34.290623Z"
    }
   },
   "outputs": [
    {
     "data": {
      "text/latex": [
       "$\\displaystyle (\\frac{- \\mathbf{{x}_{r}} \\left(2 \\mathbf{{x}_{r}} \\mathbf{{y}_{r}} c_{2} + \\sqrt{2} \\mathbf{{x}_{r}} c_{1} e^{\\frac{i t}{c^{2}}} \\left|{c}\\right| + e^{i t \\left(1 + \\frac{1}{c^{2}}\\right)} \\left|{c}\\right|\\right) + 2 \\mathbf{{y}_{r}} c_{2} + \\sqrt{2} c_{1} e^{\\frac{i t}{c^{2}}} \\left|{c}\\right|}{2 \\mathbf{{x}_{r}} \\mathbf{{y}_{r}} c_{2} + \\sqrt{2} \\mathbf{{x}_{r}} c_{1} e^{\\frac{i t}{c^{2}}} \\left|{c}\\right| + e^{i t + \\frac{i t}{c^{2}}} \\left|{c}\\right|})\\mathbf{\\hat{i}_{r}}$"
      ],
      "text/plain": [
       "((-r.x*(2*r.x*r.y*c2 + sqrt(2)*r.x*c1*exp(I*t/c**2)*Abs(c) + exp(I*t*(1 + c**(-2)))*Abs(c)) + 2*r.y*c2 + sqrt(2)*c1*exp(I*t/c**2)*Abs(c))/(2*r.x*r.y*c2 + sqrt(2)*r.x*c1*exp(I*t/c**2)*Abs(c) + exp(I*t + I*t/c**2)*Abs(c)))*r.i"
      ]
     },
     "execution_count": 24,
     "metadata": {},
     "output_type": "execute_result"
    }
   ],
   "source": [
    "dx_dt = expr.args[0].simplify()\n",
    "dx_dt"
   ]
  },
  {
   "cell_type": "code",
   "execution_count": 38,
   "metadata": {
    "ExecuteTime": {
     "end_time": "2021-01-15T10:38:24.660486Z",
     "start_time": "2021-01-15T10:38:24.651359Z"
    }
   },
   "outputs": [
    {
     "data": {
      "text/plain": [
       "False"
      ]
     },
     "execution_count": 38,
     "metadata": {},
     "output_type": "execute_result"
    }
   ],
   "source": []
  },
  {
   "cell_type": "code",
   "execution_count": 25,
   "metadata": {
    "ExecuteTime": {
     "end_time": "2021-01-15T10:35:42.805587Z",
     "start_time": "2021-01-15T10:35:42.375259Z"
    }
   },
   "outputs": [
    {
     "data": {
      "text/latex": [
       "$\\displaystyle (\\frac{- 2 \\mathbf{{x}_{r}} \\mathbf{{y}_{r}}^{2} c_{2} - \\sqrt{2} \\mathbf{{x}_{r}} \\mathbf{{y}_{r}} c_{1} e^{\\frac{i t}{c^{2}}} \\left|{c}\\right| + 2 \\mathbf{{x}_{r}} c^{2} c_{2} - \\mathbf{{y}_{r}} e^{i t + \\frac{i t}{c^{2}}} \\left|{c}\\right|}{c^{2} \\left(2 \\mathbf{{x}_{r}} \\mathbf{{y}_{r}} c_{2} + \\sqrt{2} \\mathbf{{x}_{r}} c_{1} e^{\\frac{i t}{c^{2}}} \\left|{c}\\right| + e^{i t + \\frac{i t}{c^{2}}} \\left|{c}\\right|\\right)})\\mathbf{\\hat{j}_{r}}$"
      ],
      "text/plain": [
       "((-2*r.x*r.y**2*c2 - sqrt(2)*r.x*r.y*c1*exp(I*t/c**2)*Abs(c) + 2*r.x*c**2*c2 - r.y*exp(I*t + I*t/c**2)*Abs(c))/(c**2*(2*r.x*r.y*c2 + sqrt(2)*r.x*c1*exp(I*t/c**2)*Abs(c) + exp(I*t + I*t/c**2)*Abs(c))))*r.j"
      ]
     },
     "execution_count": 25,
     "metadata": {},
     "output_type": "execute_result"
    }
   ],
   "source": [
    "dy_dt = expr.args[1].simplify()\n",
    "dy_dt"
   ]
  },
  {
   "cell_type": "code",
   "execution_count": 46,
   "metadata": {
    "ExecuteTime": {
     "end_time": "2021-01-15T10:43:40.294784Z",
     "start_time": "2021-01-15T10:43:40.270738Z"
    }
   },
   "outputs": [
    {
     "data": {
      "text/latex": [
       "$\\displaystyle \\frac{\\left(2 \\mathbf{{x}_{r}} \\mathbf{{y}_{r}} c_{2} + \\sqrt{2} \\mathbf{{x}_{r}} c_{1} e^{\\frac{i t}{c^{2}}} \\left|{c}\\right| + e^{i t} e^{\\frac{i t}{c^{2}}} \\left|{c}\\right|\\right) \\left(\\sqrt{2} c_{1} e^{- \\frac{i t}{c^{2}}} \\overline{\\mathbf{{x}_{r}}} \\left|{c}\\right| + 2 c_{2} \\overline{\\mathbf{{x}_{r}}} \\overline{\\mathbf{{y}_{r}}} + e^{- i t} e^{- \\frac{i t}{c^{2}}} \\left|{c}\\right|\\right) e^{- \\frac{\\mathbf{{x}_{r}}^{2}}{2}} e^{- \\frac{\\mathbf{{y}_{r}}^{2}}{2 c^{2}}} e^{- \\frac{\\overline{\\mathbf{{y}_{r}}}^{2}}{2 c^{2}}} e^{- \\frac{\\overline{\\mathbf{{x}_{r}}}^{2}}{2}} \\overline{\\frac{1}{\\left|{c}\\right|^{\\frac{3}{2}}}}}{\\pi \\left|{c}\\right|^{\\frac{3}{2}}}$"
      ],
      "text/plain": [
       "(2*r.x*r.y*c2 + sqrt(2)*r.x*c1*exp(I*t/c**2)*Abs(c) + exp(I*t)*exp(I*t/c**2)*Abs(c))*(sqrt(2)*c1*exp(-I*t/c**2)*conjugate(r.x)*Abs(c) + 2*c2*conjugate(r.x)*conjugate(r.y) + exp(-I*t)*exp(-I*t/c**2)*Abs(c))*exp(-r.x**2/2)*exp(-r.y**2/(2*c**2))*exp(-conjugate(r.y)**2/(2*c**2))*exp(-conjugate(r.x)**2/2)*conjugate(Abs(c)**(-3/2))/(pi*Abs(c)**(3/2))"
      ]
     },
     "execution_count": 46,
     "metadata": {},
     "output_type": "execute_result"
    }
   ],
   "source": [
    "Psi*Psi.conjugate()"
   ]
  },
  {
   "cell_type": "markdown",
   "metadata": {},
   "source": [
    "__ATTEMPT__ Try expanded form of $\\Psi$ as sum of wavefunctions and compute its square module."
   ]
  },
  {
   "cell_type": "code",
   "execution_count": 86,
   "metadata": {
    "ExecuteTime": {
     "end_time": "2021-01-15T11:34:05.445795Z",
     "start_time": "2021-01-15T11:34:05.434165Z"
    }
   },
   "outputs": [
    {
     "data": {
      "text/latex": [
       "$\\displaystyle \\frac{\\sqrt{2} c_{1} x e^{- i t \\left(\\frac{3}{2} + \\frac{1}{2 c^{2}}\\right)} e^{- \\frac{x^{2}}{2} - \\frac{y^{2}}{2 c^{2}}}}{\\sqrt{\\pi} \\sqrt{\\left|{c}\\right|}} + \\frac{2 c_{2} x y e^{- i t \\left(\\frac{3}{2} + \\frac{3}{2 c^{2}}\\right)} e^{- \\frac{x^{2}}{2} - \\frac{y^{2}}{2 c^{2}}}}{\\sqrt{\\pi} \\left|{c}\\right|^{\\frac{3}{2}}} + \\frac{e^{- i t \\left(\\frac{1}{2} + \\frac{1}{2 c^{2}}\\right)} e^{- \\frac{x^{2}}{2} - \\frac{y^{2}}{2 c^{2}}}}{\\sqrt{\\pi} \\sqrt{\\left|{c}\\right|}}$"
      ],
      "text/plain": [
       "sqrt(2)*c1*x*exp(-I*t*(3/2 + 1/(2*c**2)))*exp(-x**2/2 - y**2/(2*c**2))/(sqrt(pi)*sqrt(Abs(c))) + 2*c2*x*y*exp(-I*t*(3/2 + 3/(2*c**2)))*exp(-x**2/2 - y**2/(2*c**2))/(sqrt(pi)*Abs(c)**(3/2)) + exp(-I*t*(1/2 + 1/(2*c**2)))*exp(-x**2/2 - y**2/(2*c**2))/(sqrt(pi)*sqrt(Abs(c)))"
      ]
     },
     "execution_count": 86,
     "metadata": {},
     "output_type": "execute_result"
    }
   ],
   "source": [
    "Psi"
   ]
  },
  {
   "cell_type": "markdown",
   "metadata": {},
   "source": [
    "<span style=\"color:red\"><b>CONTINUE HERE</b></span>"
   ]
  },
  {
   "cell_type": "code",
   "execution_count": 88,
   "metadata": {
    "ExecuteTime": {
     "end_time": "2021-01-15T11:34:25.979119Z",
     "start_time": "2021-01-15T11:34:25.954181Z"
    }
   },
   "outputs": [
    {
     "data": {
      "text/latex": [
       "$\\displaystyle \\frac{2 c_{1}^{2} x^{2} e^{- x^{2}} e^{- \\frac{y^{2}}{c^{2}}} \\overline{\\frac{1}{\\sqrt{\\left|{c}\\right|}}}}{\\pi \\sqrt{\\left|{c}\\right|}} + \\frac{2 \\sqrt{2} c_{1} c_{2} x^{2} y e^{- x^{2}} e^{- \\frac{y^{2}}{c^{2}}} e^{\\frac{i t}{c^{2}}} \\overline{\\frac{1}{\\left|{c}\\right|^{\\frac{3}{2}}}}}{\\pi \\sqrt{\\left|{c}\\right|}} + \\frac{2 \\sqrt{2} c_{1} c_{2} x^{2} y e^{- x^{2}} e^{- \\frac{y^{2}}{c^{2}}} e^{- \\frac{i t}{c^{2}}} \\overline{\\frac{1}{\\sqrt{\\left|{c}\\right|}}}}{\\pi \\left|{c}\\right|^{\\frac{3}{2}}} + \\frac{\\sqrt{2} c_{1} x e^{- x^{2}} e^{i t} e^{- \\frac{y^{2}}{c^{2}}} \\overline{\\frac{1}{\\sqrt{\\left|{c}\\right|}}}}{\\pi \\sqrt{\\left|{c}\\right|}} + \\frac{\\sqrt{2} c_{1} x e^{- x^{2}} e^{- i t} e^{- \\frac{y^{2}}{c^{2}}} \\overline{\\frac{1}{\\sqrt{\\left|{c}\\right|}}}}{\\pi \\sqrt{\\left|{c}\\right|}} + \\frac{4 c_{2}^{2} x^{2} y^{2} e^{- x^{2}} e^{- \\frac{y^{2}}{c^{2}}} \\overline{\\frac{1}{\\left|{c}\\right|^{\\frac{3}{2}}}}}{\\pi \\left|{c}\\right|^{\\frac{3}{2}}} + \\frac{2 c_{2} x y e^{- x^{2}} e^{i t} e^{- \\frac{y^{2}}{c^{2}}} e^{\\frac{i t}{c^{2}}} \\overline{\\frac{1}{\\left|{c}\\right|^{\\frac{3}{2}}}}}{\\pi \\sqrt{\\left|{c}\\right|}} + \\frac{2 c_{2} x y e^{- x^{2}} e^{- i t} e^{- \\frac{y^{2}}{c^{2}}} e^{- \\frac{i t}{c^{2}}} \\overline{\\frac{1}{\\sqrt{\\left|{c}\\right|}}}}{\\pi \\left|{c}\\right|^{\\frac{3}{2}}} + \\frac{e^{- x^{2}} e^{- \\frac{y^{2}}{c^{2}}} \\overline{\\frac{1}{\\sqrt{\\left|{c}\\right|}}}}{\\pi \\sqrt{\\left|{c}\\right|}}$"
      ],
      "text/plain": [
       "2*c1**2*x**2*exp(-x**2)*exp(-y**2/c**2)*conjugate(1/sqrt(Abs(c)))/(pi*sqrt(Abs(c))) + 2*sqrt(2)*c1*c2*x**2*y*exp(-x**2)*exp(-y**2/c**2)*exp(I*t/c**2)*conjugate(Abs(c)**(-3/2))/(pi*sqrt(Abs(c))) + 2*sqrt(2)*c1*c2*x**2*y*exp(-x**2)*exp(-y**2/c**2)*exp(-I*t/c**2)*conjugate(1/sqrt(Abs(c)))/(pi*Abs(c)**(3/2)) + sqrt(2)*c1*x*exp(-x**2)*exp(I*t)*exp(-y**2/c**2)*conjugate(1/sqrt(Abs(c)))/(pi*sqrt(Abs(c))) + sqrt(2)*c1*x*exp(-x**2)*exp(-I*t)*exp(-y**2/c**2)*conjugate(1/sqrt(Abs(c)))/(pi*sqrt(Abs(c))) + 4*c2**2*x**2*y**2*exp(-x**2)*exp(-y**2/c**2)*conjugate(Abs(c)**(-3/2))/(pi*Abs(c)**(3/2)) + 2*c2*x*y*exp(-x**2)*exp(I*t)*exp(-y**2/c**2)*exp(I*t/c**2)*conjugate(Abs(c)**(-3/2))/(pi*sqrt(Abs(c))) + 2*c2*x*y*exp(-x**2)*exp(-I*t)*exp(-y**2/c**2)*exp(-I*t/c**2)*conjugate(1/sqrt(Abs(c)))/(pi*Abs(c)**(3/2)) + exp(-x**2)*exp(-y**2/c**2)*conjugate(1/sqrt(Abs(c)))/(pi*sqrt(Abs(c)))"
      ]
     },
     "execution_count": 88,
     "metadata": {},
     "output_type": "execute_result"
    }
   ],
   "source": [
    "Psi_sqr = Psi*Psi.conjugate()\n",
    "Psi_sqr = Psi_sqr.expand()\n",
    "Psi_sqr"
   ]
  },
  {
   "cell_type": "markdown",
   "metadata": {},
   "source": [
    "__NOT WORKING__ (Don't continue)"
   ]
  },
  {
   "cell_type": "code",
   "execution_count": 92,
   "metadata": {
    "ExecuteTime": {
     "end_time": "2021-01-15T11:37:46.504850Z",
     "start_time": "2021-01-15T11:37:45.459506Z"
    }
   },
   "outputs": [
    {
     "data": {
      "text/latex": [
       "$\\displaystyle \\frac{\\left(2 \\sqrt{2} c^{2} c_{1} c_{2} x^{2} y e^{i t} + 2 \\sqrt{2} c^{2} c_{1} c_{2} x^{2} y e^{i t \\left(1 + \\frac{2}{c^{2}}\\right)} + 2 c^{2} c_{2} x y e^{2 i t \\left(1 + \\frac{1}{c^{2}}\\right)} + 2 c^{2} c_{2} x y + 2 c_{1}^{2} x^{2} e^{i t \\left(1 + \\frac{1}{c^{2}}\\right)} \\left|{c^{\\frac{3}{2}}}\\right|^{2} + \\sqrt{2} c_{1} x e^{\\frac{i t}{c^{2}}} \\left|{c^{\\frac{3}{2}}}\\right|^{2} + \\sqrt{2} c_{1} x e^{i t \\left(2 + \\frac{1}{c^{2}}\\right)} \\left|{c^{\\frac{3}{2}}}\\right|^{2} + 4 c_{2}^{2} x^{2} y^{2} e^{i t \\left(1 + \\frac{1}{c^{2}}\\right)} \\left|{\\sqrt{c}}\\right|^{2} + e^{i t \\left(1 + \\frac{1}{c^{2}}\\right)} \\left|{c^{\\frac{3}{2}}}\\right|^{2}\\right) e^{- i t - x^{2} - \\frac{i t}{c^{2}} - \\frac{y^{2}}{c^{2}}}}{\\pi c^{4}}$"
      ],
      "text/plain": [
       "(2*sqrt(2)*c**2*c1*c2*x**2*y*exp(I*t) + 2*sqrt(2)*c**2*c1*c2*x**2*y*exp(I*t*(1 + 2/c**2)) + 2*c**2*c2*x*y*exp(2*I*t*(1 + c**(-2))) + 2*c**2*c2*x*y + 2*c1**2*x**2*exp(I*t*(1 + c**(-2)))*Abs(c**(3/2))**2 + sqrt(2)*c1*x*exp(I*t/c**2)*Abs(c**(3/2))**2 + sqrt(2)*c1*x*exp(I*t*(2 + c**(-2)))*Abs(c**(3/2))**2 + 4*c2**2*x**2*y**2*exp(I*t*(1 + c**(-2)))*Abs(sqrt(c))**2 + exp(I*t*(1 + c**(-2)))*Abs(c**(3/2))**2)*exp(-I*t - x**2 - I*t/c**2 - y**2/c**2)/(pi*c**4)"
      ]
     },
     "execution_count": 92,
     "metadata": {},
     "output_type": "execute_result"
    }
   ],
   "source": [
    "Psi_sqr.simplify()"
   ]
  },
  {
   "cell_type": "code",
   "execution_count": 64,
   "metadata": {
    "ExecuteTime": {
     "end_time": "2021-01-15T11:24:08.713811Z",
     "start_time": "2021-01-15T11:24:08.712122Z"
    }
   },
   "outputs": [],
   "source": [
    "from sympy import Abs"
   ]
  },
  {
   "cell_type": "code",
   "execution_count": null,
   "metadata": {},
   "outputs": [],
   "source": []
  }
 ],
 "metadata": {
  "kernelspec": {
   "display_name": "Python 3",
   "language": "python",
   "name": "python3"
  },
  "language_info": {
   "codemirror_mode": {
    "name": "ipython",
    "version": 3
   },
   "file_extension": ".py",
   "mimetype": "text/x-python",
   "name": "python",
   "nbconvert_exporter": "python",
   "pygments_lexer": "ipython3",
   "version": "3.7.7"
  },
  "toc": {
   "base_numbering": 1,
   "nav_menu": {},
   "number_sections": true,
   "sideBar": true,
   "skip_h1_title": false,
   "title_cell": "Table of Contents",
   "title_sidebar": "Contents",
   "toc_cell": false,
   "toc_position": {},
   "toc_section_display": true,
   "toc_window_display": true
  }
 },
 "nbformat": 4,
 "nbformat_minor": 4
}
