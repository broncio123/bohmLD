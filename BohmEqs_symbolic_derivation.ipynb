{
 "cells": [
  {
   "cell_type": "markdown",
   "metadata": {},
   "source": [
    "# General setup"
   ]
  },
  {
   "cell_type": "code",
   "execution_count": 12,
   "metadata": {
    "ExecuteTime": {
     "end_time": "2021-07-21T10:51:24.492536Z",
     "start_time": "2021-07-21T10:51:24.486973Z"
    }
   },
   "outputs": [],
   "source": [
    "import sympy as sym"
   ]
  },
  {
   "cell_type": "code",
   "execution_count": 13,
   "metadata": {
    "ExecuteTime": {
     "end_time": "2021-07-21T10:51:24.681187Z",
     "start_time": "2021-07-21T10:51:24.679158Z"
    }
   },
   "outputs": [],
   "source": [
    "x, y = sym.symbols('x y', real=True)"
   ]
  },
  {
   "cell_type": "code",
   "execution_count": 14,
   "metadata": {
    "ExecuteTime": {
     "end_time": "2021-07-21T10:51:24.881515Z",
     "start_time": "2021-07-21T10:51:24.879090Z"
    }
   },
   "outputs": [],
   "source": [
    "h = sym.Symbol('hbar')\n",
    "omega1 = sym.Symbol('omega1', real=True)\n",
    "omega2 = sym.Symbol('omega2', real=True)\n",
    "n1 = sym.Symbol('n1')\n",
    "n2 = sym.Symbol('n2')"
   ]
  },
  {
   "cell_type": "code",
   "execution_count": 15,
   "metadata": {
    "ExecuteTime": {
     "end_time": "2021-07-21T10:51:25.081542Z",
     "start_time": "2021-07-21T10:51:25.079157Z"
    }
   },
   "outputs": [],
   "source": [
    "e = sym.exp\n",
    "t = sym.Symbol('t', real=True)\n",
    "c = sym.Symbol('c', real=True)"
   ]
  },
  {
   "cell_type": "code",
   "execution_count": 16,
   "metadata": {
    "ExecuteTime": {
     "end_time": "2021-07-21T10:51:25.825707Z",
     "start_time": "2021-07-21T10:51:25.663730Z"
    }
   },
   "outputs": [
    {
     "data": {
      "text/latex": [
       "$\\displaystyle \\hbar \\left(\\omega_{1} \\left(n_{1} + \\frac{1}{2}\\right) + \\omega_{2} \\left(n_{2} + \\frac{1}{2}\\right)\\right)$"
      ],
      "text/plain": [
       "hbar*(omega1*(n1 + 1/2) + omega2*(n2 + 1/2))"
      ]
     },
     "execution_count": 16,
     "metadata": {},
     "output_type": "execute_result"
    }
   ],
   "source": [
    "E_n1n2 = h*( (sym.Rational(1/2) + n1)*omega1 + (sym.Rational(1/2) + n2)*omega2 )\n",
    "E_n1n2"
   ]
  },
  {
   "cell_type": "code",
   "execution_count": 17,
   "metadata": {
    "ExecuteTime": {
     "end_time": "2021-07-21T10:51:26.556490Z",
     "start_time": "2021-07-21T10:51:26.539606Z"
    }
   },
   "outputs": [
    {
     "data": {
      "text/latex": [
       "$\\displaystyle \\omega_{1} \\left(n_{1} + \\frac{1}{2}\\right) + \\omega_{2} \\left(n_{2} + \\frac{1}{2}\\right)$"
      ],
      "text/plain": [
       "omega1*(n1 + 1/2) + omega2*(n2 + 1/2)"
      ]
     },
     "execution_count": 17,
     "metadata": {},
     "output_type": "execute_result"
    }
   ],
   "source": [
    "E_n1n2 = E_n1n2.subs(h,1)\n",
    "E_n1n2"
   ]
  },
  {
   "cell_type": "markdown",
   "metadata": {},
   "source": [
    "Eigenfunctions "
   ]
  },
  {
   "cell_type": "code",
   "execution_count": 7,
   "metadata": {
    "ExecuteTime": {
     "end_time": "2021-07-21T09:39:48.720644Z",
     "start_time": "2021-07-21T09:39:48.717016Z"
    }
   },
   "outputs": [],
   "source": [
    "def psi_n1n2(n1_val, n2_val):\n",
    "    C_n1n2_numerator = (omega1*omega2)**(sym.Rational(1/4))\n",
    "    C_n1n2_divider = sym.sqrt(sym.pi* sym.factorial(n1) * sym.factorial(n2)* 2**(n1+n2))\n",
    "    C_n1n2 = C_n1n2_numerator/C_n1n2_divider\n",
    "    H_n1 = sym.hermite_poly(n1_val, sym.sqrt(omega1)*x)\n",
    "    H_n2 = sym.hermite_poly(n2_val, sym.sqrt(omega2)*y)\n",
    "    expfunc1 = sym.exp(-sym.I*E_n1n2*t)\n",
    "    expfunc2 = sym.exp(-sym.Rational(1/2)*(omega1*x**2 + omega2*y**2))\n",
    "    product = C_n1n2*expfunc1*expfunc2\n",
    "    psi_n1n2 = product.subs([(n1, n1_val),(n2, n2_val)])*H_n1*H_n2\n",
    "    return psi_n1n2"
   ]
  },
  {
   "cell_type": "markdown",
   "metadata": {},
   "source": [
    "Wave function"
   ]
  },
  {
   "cell_type": "code",
   "execution_count": 8,
   "metadata": {
    "ExecuteTime": {
     "end_time": "2021-07-21T09:39:53.739946Z",
     "start_time": "2021-07-21T09:39:53.737928Z"
    }
   },
   "outputs": [],
   "source": [
    "c1, c2 = sym.symbols('c1 c2', real=True)"
   ]
  },
  {
   "cell_type": "markdown",
   "metadata": {},
   "source": [
    "$\\Psi(x,y,t) = \\psi_{0,0} + c_1 \\psi_{1,0} + c_2 \\psi_{1,1}$"
   ]
  },
  {
   "cell_type": "code",
   "execution_count": 9,
   "metadata": {
    "ExecuteTime": {
     "end_time": "2021-07-21T09:39:54.940895Z",
     "start_time": "2021-07-21T09:39:54.899069Z"
    }
   },
   "outputs": [],
   "source": [
    "Psi = psi_n1n2(0,0) + c1*psi_n1n2(1,0) + c2*psi_n1n2(1,1)"
   ]
  },
  {
   "cell_type": "markdown",
   "metadata": {},
   "source": [
    "SPECIAL CASE: $\\omega_1 = 1$ and $\\omega_2 = 1/c^2$"
   ]
  },
  {
   "cell_type": "code",
   "execution_count": 17,
   "metadata": {
    "ExecuteTime": {
     "end_time": "2021-02-08T18:00:18.624388Z",
     "start_time": "2021-02-08T18:00:18.617903Z"
    }
   },
   "outputs": [],
   "source": [
    "Psi = Psi.subs(omega1,1)\n",
    "# Psi = Psi.subs(omega2,1/c**2)"
   ]
  },
  {
   "cell_type": "code",
   "execution_count": 18,
   "metadata": {
    "ExecuteTime": {
     "end_time": "2021-02-08T18:00:20.221419Z",
     "start_time": "2021-02-08T18:00:20.137622Z"
    }
   },
   "outputs": [
    {
     "data": {
      "text/latex": [
       "$\\displaystyle \\frac{\\sqrt[4]{\\omega_{2}} \\left(\\sqrt{2} c_{1} x e^{i \\omega_{2} t} + 2 c_{2} \\sqrt{\\omega_{2}} x y + e^{i t} e^{i \\omega_{2} t}\\right) e^{- \\frac{x^{2}}{2}} e^{- \\frac{3 i t}{2}} e^{- \\frac{\\omega_{2} y^{2}}{2}} e^{- \\frac{3 i \\omega_{2} t}{2}}}{\\sqrt{\\pi}}$"
      ],
      "text/plain": [
       "omega2**(1/4)*(sqrt(2)*c1*x*exp(I*omega2*t) + 2*c2*sqrt(omega2)*x*y + exp(I*t)*exp(I*omega2*t))*exp(-x**2/2)*exp(-3*I*t/2)*exp(-omega2*y**2/2)*exp(-3*I*omega2*t/2)/sqrt(pi)"
      ]
     },
     "execution_count": 18,
     "metadata": {},
     "output_type": "execute_result"
    }
   ],
   "source": [
    "Psi = Psi.factor()\n",
    "Psi"
   ]
  },
  {
   "cell_type": "code",
   "execution_count": 23,
   "metadata": {
    "ExecuteTime": {
     "end_time": "2021-02-08T18:02:08.725016Z",
     "start_time": "2021-02-08T18:02:08.715404Z"
    }
   },
   "outputs": [
    {
     "data": {
      "text/latex": [
       "$\\displaystyle \\frac{\\left(\\sqrt{2} c_{1} x e^{i t} + 2 c_{2} x y + e^{2 i t}\\right) e^{- \\frac{x^{2}}{2}} e^{- \\frac{y^{2}}{2}} e^{- 3 i t}}{\\sqrt{\\pi}}$"
      ],
      "text/plain": [
       "(sqrt(2)*c1*x*exp(I*t) + 2*c2*x*y + exp(2*I*t))*exp(-x**2/2)*exp(-y**2/2)*exp(-3*I*t)/sqrt(pi)"
      ]
     },
     "execution_count": 23,
     "metadata": {},
     "output_type": "execute_result"
    }
   ],
   "source": [
    "Psi.subs(omega2,1)"
   ]
  },
  {
   "cell_type": "markdown",
   "metadata": {},
   "source": [
    "# Compute nodal points"
   ]
  },
  {
   "cell_type": "markdown",
   "metadata": {},
   "source": [
    "Extract LHS factor"
   ]
  },
  {
   "cell_type": "code",
   "execution_count": 75,
   "metadata": {
    "ExecuteTime": {
     "end_time": "2021-01-13T23:40:11.754569Z",
     "start_time": "2021-01-13T23:40:11.742591Z"
    }
   },
   "outputs": [
    {
     "data": {
      "text/latex": [
       "$\\displaystyle \\sqrt{2} c_{1} x e^{\\frac{i t}{c^{2}}} \\left|{c}\\right| + 2 c_{2} x y + e^{i t} e^{\\frac{i t}{c^{2}}} \\left|{c}\\right|$"
      ],
      "text/plain": [
       "sqrt(2)*c1*x*exp(I*t/c**2)*Abs(c) + 2*c2*x*y + exp(I*t)*exp(I*t/c**2)*Abs(c)"
      ]
     },
     "execution_count": 75,
     "metadata": {},
     "output_type": "execute_result"
    }
   ],
   "source": [
    "factor_main = Psi.args[2]\n",
    "factor_main"
   ]
  },
  {
   "cell_type": "markdown",
   "metadata": {},
   "source": [
    "Rewrite $e^{it}$ using polar form"
   ]
  },
  {
   "cell_type": "code",
   "execution_count": 76,
   "metadata": {
    "ExecuteTime": {
     "end_time": "2021-01-13T23:40:13.737539Z",
     "start_time": "2021-01-13T23:40:12.958248Z"
    }
   },
   "outputs": [
    {
     "data": {
      "text/latex": [
       "$\\displaystyle \\sqrt{2} i c_{1} x \\sin{\\left(\\frac{t}{c^{2}} \\right)} \\left|{c}\\right| + \\sqrt{2} c_{1} x \\cos{\\left(\\frac{t}{c^{2}} \\right)} \\left|{c}\\right| + 2 c_{2} x y + i \\sin{\\left(t + \\frac{t}{c^{2}} \\right)} \\left|{c}\\right| + \\cos{\\left(t + \\frac{t}{c^{2}} \\right)} \\left|{c}\\right|$"
      ],
      "text/plain": [
       "sqrt(2)*I*c1*x*sin(t/c**2)*Abs(c) + sqrt(2)*c1*x*cos(t/c**2)*Abs(c) + 2*c2*x*y + I*sin(t + t/c**2)*Abs(c) + cos(t + t/c**2)*Abs(c)"
      ]
     },
     "execution_count": 76,
     "metadata": {},
     "output_type": "execute_result"
    }
   ],
   "source": [
    "expr = factor_main\n",
    "expr = expr.rewrite(sym.cos).expand()\n",
    "expr = expr.simplify()\n",
    "expr"
   ]
  },
  {
   "cell_type": "markdown",
   "metadata": {},
   "source": [
    "Extract REAL part"
   ]
  },
  {
   "cell_type": "code",
   "execution_count": 77,
   "metadata": {
    "ExecuteTime": {
     "end_time": "2021-01-13T23:40:18.168180Z",
     "start_time": "2021-01-13T23:40:18.149568Z"
    }
   },
   "outputs": [
    {
     "data": {
      "text/latex": [
       "$\\displaystyle \\sqrt{2} c_{1} x \\cos{\\left(\\frac{t}{c^{2}} \\right)} \\left|{c}\\right| + 2 c_{2} x y + \\cos{\\left(t + \\frac{t}{c^{2}} \\right)} \\left|{c}\\right|$"
      ],
      "text/plain": [
       "sqrt(2)*c1*x*cos(t/c**2)*Abs(c) + 2*c2*x*y + cos(t + t/c**2)*Abs(c)"
      ]
     },
     "execution_count": 77,
     "metadata": {},
     "output_type": "execute_result"
    }
   ],
   "source": [
    "expr_real = sym.re(expr)\n",
    "expr_real"
   ]
  },
  {
   "cell_type": "markdown",
   "metadata": {},
   "source": [
    "Extract IMAGINARY part"
   ]
  },
  {
   "cell_type": "code",
   "execution_count": 78,
   "metadata": {
    "ExecuteTime": {
     "end_time": "2021-01-13T23:40:18.168180Z",
     "start_time": "2021-01-13T23:40:18.149568Z"
    }
   },
   "outputs": [
    {
     "data": {
      "text/latex": [
       "$\\displaystyle \\sqrt{2} c_{1} x \\sin{\\left(\\frac{t}{c^{2}} \\right)} \\left|{c}\\right| + \\sin{\\left(t + \\frac{t}{c^{2}} \\right)} \\left|{c}\\right|$"
      ],
      "text/plain": [
       "sqrt(2)*c1*x*sin(t/c**2)*Abs(c) + sin(t + t/c**2)*Abs(c)"
      ]
     },
     "execution_count": 78,
     "metadata": {},
     "output_type": "execute_result"
    }
   ],
   "source": [
    "expr_im = sym.im(expr)\n",
    "expr_im"
   ]
  },
  {
   "cell_type": "markdown",
   "metadata": {},
   "source": [
    "SOLVE $x$ for nodal point"
   ]
  },
  {
   "cell_type": "code",
   "execution_count": 79,
   "metadata": {
    "ExecuteTime": {
     "end_time": "2021-01-13T23:40:19.873111Z",
     "start_time": "2021-01-13T23:40:19.676728Z"
    }
   },
   "outputs": [
    {
     "data": {
      "text/latex": [
       "$\\displaystyle - \\frac{\\sqrt{2} \\sin{\\left(t + \\frac{t}{c^{2}} \\right)}}{2 c_{1} \\sin{\\left(\\frac{t}{c^{2}} \\right)}}$"
      ],
      "text/plain": [
       "-sqrt(2)*sin(t + t/c**2)/(2*c1*sin(t/c**2))"
      ]
     },
     "execution_count": 79,
     "metadata": {},
     "output_type": "execute_result"
    }
   ],
   "source": [
    "x_nodal = sym.solve(expr_im, x)[0]\n",
    "x_nodal"
   ]
  },
  {
   "cell_type": "code",
   "execution_count": 80,
   "metadata": {
    "ExecuteTime": {
     "end_time": "2021-01-13T23:40:23.166606Z",
     "start_time": "2021-01-13T23:40:22.343522Z"
    }
   },
   "outputs": [
    {
     "data": {
      "text/latex": [
       "$\\displaystyle - \\frac{c_{1} \\sin{\\left(t \\right)} \\left|{c}\\right| + \\sqrt{2} c_{2} y \\sin{\\left(t + \\frac{t}{c^{2}} \\right)}}{c_{1} \\sin{\\left(\\frac{t}{c^{2}} \\right)}}$"
      ],
      "text/plain": [
       "-(c1*sin(t)*Abs(c) + sqrt(2)*c2*y*sin(t + t/c**2))/(c1*sin(t/c**2))"
      ]
     },
     "execution_count": 80,
     "metadata": {},
     "output_type": "execute_result"
    }
   ],
   "source": [
    "expr_real = expr_real.subs(x, x_nodal).simplify()\n",
    "expr_real"
   ]
  },
  {
   "cell_type": "markdown",
   "metadata": {
    "ExecuteTime": {
     "end_time": "2021-01-13T23:30:31.656101Z",
     "start_time": "2021-01-13T23:30:31.647326Z"
    }
   },
   "source": [
    "SOLVE $y$ for nodal point"
   ]
  },
  {
   "cell_type": "code",
   "execution_count": 81,
   "metadata": {
    "ExecuteTime": {
     "end_time": "2021-01-13T23:40:25.549837Z",
     "start_time": "2021-01-13T23:40:25.365379Z"
    }
   },
   "outputs": [
    {
     "data": {
      "text/latex": [
       "$\\displaystyle - \\frac{\\sqrt{2} c_{1} \\sin{\\left(t \\right)} \\left|{c}\\right|}{2 c_{2} \\sin{\\left(t + \\frac{t}{c^{2}} \\right)}}$"
      ],
      "text/plain": [
       "-sqrt(2)*c1*sin(t)*Abs(c)/(2*c2*sin(t + t/c**2))"
      ]
     },
     "execution_count": 81,
     "metadata": {},
     "output_type": "execute_result"
    }
   ],
   "source": [
    "y_nodal = sym.solve(expr_real, y)[0]\n",
    "y_nodal"
   ]
  },
  {
   "cell_type": "markdown",
   "metadata": {},
   "source": [
    "# Pilot-wave equations $\\omega_1 = 1$"
   ]
  },
  {
   "cell_type": "markdown",
   "metadata": {},
   "source": [
    "We want to work out\n",
    "\n",
    "\\begin{equation}\n",
    "m \\frac{d\\mathbf{r}}{dt} = \\hbar Im\\{ \\frac{\\nabla \\Psi}{\\Psi} \\}\n",
    "\\end{equation}"
   ]
  },
  {
   "cell_type": "code",
   "execution_count": 17,
   "metadata": {
    "ExecuteTime": {
     "end_time": "2021-01-15T10:25:39.680948Z",
     "start_time": "2021-01-15T10:25:39.678948Z"
    }
   },
   "outputs": [],
   "source": [
    "from sympy.vector import CoordSys3D, gradient\n",
    "r = CoordSys3D('r')"
   ]
  },
  {
   "cell_type": "code",
   "execution_count": 18,
   "metadata": {
    "ExecuteTime": {
     "end_time": "2021-01-15T10:25:40.100163Z",
     "start_time": "2021-01-15T10:25:40.091185Z"
    }
   },
   "outputs": [],
   "source": [
    "Psi = Psi.subs([(x, r.x), (y, r.y)])"
   ]
  },
  {
   "cell_type": "markdown",
   "metadata": {},
   "source": [
    "$\\nabla_{x,y} \\Psi = $"
   ]
  },
  {
   "cell_type": "code",
   "execution_count": 19,
   "metadata": {
    "ExecuteTime": {
     "end_time": "2021-01-15T10:25:40.964632Z",
     "start_time": "2021-01-15T10:25:40.921747Z"
    }
   },
   "outputs": [
    {
     "data": {
      "text/latex": [
       "$\\displaystyle (- \\frac{\\mathbf{{x}_{r}} \\left(2 \\mathbf{{x}_{r}} \\mathbf{{y}_{r}} c_{2} + \\sqrt{2} \\mathbf{{x}_{r}} c_{1} e^{\\frac{i t}{c^{2}}} \\left|{c}\\right| + e^{i t} e^{\\frac{i t}{c^{2}}} \\left|{c}\\right|\\right) e^{- \\frac{\\mathbf{{x}_{r}}^{2}}{2}} e^{- \\frac{\\mathbf{{y}_{r}}^{2}}{2 c^{2}}} e^{- \\frac{3 i t}{2}} e^{- \\frac{3 i t}{2 c^{2}}}}{\\sqrt{\\pi} \\left|{c}\\right|^{\\frac{3}{2}}} + \\frac{\\left(2 \\mathbf{{y}_{r}} c_{2} + \\sqrt{2} c_{1} e^{\\frac{i t}{c^{2}}} \\left|{c}\\right|\\right) e^{- \\frac{\\mathbf{{x}_{r}}^{2}}{2}} e^{- \\frac{\\mathbf{{y}_{r}}^{2}}{2 c^{2}}} e^{- \\frac{3 i t}{2}} e^{- \\frac{3 i t}{2 c^{2}}}}{\\sqrt{\\pi} \\left|{c}\\right|^{\\frac{3}{2}}})\\mathbf{\\hat{i}_{r}} + (\\frac{2 \\mathbf{{x}_{r}} c_{2} e^{- \\frac{\\mathbf{{x}_{r}}^{2}}{2}} e^{- \\frac{\\mathbf{{y}_{r}}^{2}}{2 c^{2}}} e^{- \\frac{3 i t}{2}} e^{- \\frac{3 i t}{2 c^{2}}}}{\\sqrt{\\pi} \\left|{c}\\right|^{\\frac{3}{2}}} - \\frac{\\mathbf{{y}_{r}} \\left(2 \\mathbf{{x}_{r}} \\mathbf{{y}_{r}} c_{2} + \\sqrt{2} \\mathbf{{x}_{r}} c_{1} e^{\\frac{i t}{c^{2}}} \\left|{c}\\right| + e^{i t} e^{\\frac{i t}{c^{2}}} \\left|{c}\\right|\\right) e^{- \\frac{\\mathbf{{x}_{r}}^{2}}{2}} e^{- \\frac{\\mathbf{{y}_{r}}^{2}}{2 c^{2}}} e^{- \\frac{3 i t}{2}} e^{- \\frac{3 i t}{2 c^{2}}}}{\\sqrt{\\pi} c^{2} \\left|{c}\\right|^{\\frac{3}{2}}})\\mathbf{\\hat{j}_{r}}$"
      ],
      "text/plain": [
       "(-r.x*(2*r.x*r.y*c2 + sqrt(2)*r.x*c1*exp(I*t/c**2)*Abs(c) + exp(I*t)*exp(I*t/c**2)*Abs(c))*exp(-r.x**2/2)*exp(-r.y**2/(2*c**2))*exp(-3*I*t/2)*exp(-3*I*t/(2*c**2))/(sqrt(pi)*Abs(c)**(3/2)) + (2*r.y*c2 + sqrt(2)*c1*exp(I*t/c**2)*Abs(c))*exp(-r.x**2/2)*exp(-r.y**2/(2*c**2))*exp(-3*I*t/2)*exp(-3*I*t/(2*c**2))/(sqrt(pi)*Abs(c)**(3/2)))*r.i + (2*r.x*c2*exp(-r.x**2/2)*exp(-r.y**2/(2*c**2))*exp(-3*I*t/2)*exp(-3*I*t/(2*c**2))/(sqrt(pi)*Abs(c)**(3/2)) - r.y*(2*r.x*r.y*c2 + sqrt(2)*r.x*c1*exp(I*t/c**2)*Abs(c) + exp(I*t)*exp(I*t/c**2)*Abs(c))*exp(-r.x**2/2)*exp(-r.y**2/(2*c**2))*exp(-3*I*t/2)*exp(-3*I*t/(2*c**2))/(sqrt(pi)*c**2*Abs(c)**(3/2)))*r.j"
      ]
     },
     "execution_count": 19,
     "metadata": {},
     "output_type": "execute_result"
    }
   ],
   "source": [
    "Del_Psi = gradient(Psi)\n",
    "Del_Psi"
   ]
  },
  {
   "cell_type": "markdown",
   "metadata": {},
   "source": [
    "Compute $$Im\\{ \\frac{\\nabla \\Psi}{\\Psi} \\}$$"
   ]
  },
  {
   "cell_type": "markdown",
   "metadata": {},
   "source": [
    "where $\\Psi = $"
   ]
  },
  {
   "cell_type": "code",
   "execution_count": 20,
   "metadata": {
    "ExecuteTime": {
     "end_time": "2021-01-15T10:31:15.709806Z",
     "start_time": "2021-01-15T10:31:15.701556Z"
    }
   },
   "outputs": [
    {
     "data": {
      "text/latex": [
       "$\\displaystyle \\frac{\\left(2 \\mathbf{{x}_{r}} \\mathbf{{y}_{r}} c_{2} + \\sqrt{2} \\mathbf{{x}_{r}} c_{1} e^{\\frac{i t}{c^{2}}} \\left|{c}\\right| + e^{i t} e^{\\frac{i t}{c^{2}}} \\left|{c}\\right|\\right) e^{- \\frac{\\mathbf{{x}_{r}}^{2}}{2}} e^{- \\frac{\\mathbf{{y}_{r}}^{2}}{2 c^{2}}} e^{- \\frac{3 i t}{2}} e^{- \\frac{3 i t}{2 c^{2}}}}{\\sqrt{\\pi} \\left|{c}\\right|^{\\frac{3}{2}}}$"
      ],
      "text/plain": [
       "(2*r.x*r.y*c2 + sqrt(2)*r.x*c1*exp(I*t/c**2)*Abs(c) + exp(I*t)*exp(I*t/c**2)*Abs(c))*exp(-r.x**2/2)*exp(-r.y**2/(2*c**2))*exp(-3*I*t/2)*exp(-3*I*t/(2*c**2))/(sqrt(pi)*Abs(c)**(3/2))"
      ]
     },
     "execution_count": 20,
     "metadata": {},
     "output_type": "execute_result"
    }
   ],
   "source": [
    "Psi"
   ]
  },
  {
   "cell_type": "markdown",
   "metadata": {},
   "source": [
    "https://mathworld.wolfram.com/ComplexDivision.html"
   ]
  },
  {
   "cell_type": "markdown",
   "metadata": {},
   "source": [
    "Division in polar form of two complex numbers $z_1$ and $z_2$ in polar form\n",
    "\n",
    "\n",
    "\\begin{align*}\n",
    "z_1 = r_1(cos \\phi_1 + i sin \\phi_1)\\\\\n",
    "z_2 = r_2(cos \\phi_2 + i sin \\phi_2)\n",
    "\\end{align*}\n",
    "\n",
    "then, taking the \n",
    "\n",
    "\\begin{equation*}\n",
    "\\frac{z_1}{z_2} = \\frac{r_1}{r_2} (cos(\\phi_1 - \\phi_2) + i sin(\\phi_1 - \\phi_2))\n",
    "\\end{equation*}\n",
    "\n",
    "Then,\n",
    "\n",
    "\\begin{equation*}\n",
    "Im\\{ \\frac{z_1}{z_2} \\} = \\frac{r_1}{r_2} sin(\\phi_1 - \\phi_2)\n",
    "\\end{equation*}\n",
    "\n",
    "\n",
    "SOURCE https://en.wikipedia.org/wiki/Complex_number#Reciprocal_and_division "
   ]
  },
  {
   "cell_type": "markdown",
   "metadata": {},
   "source": [
    "<span style=\"color:red\"><b>NOTE : Conitnue with this</b></span> Michael defined D as the square module of $\\Psi$. Then, we take \n",
    "\n",
    "$$\\frac{\\bar{\\Psi} \\nabla \\Psi}{\\bar{\\Psi} \\Psi}$$"
   ]
  },
  {
   "cell_type": "code",
   "execution_count": 21,
   "metadata": {
    "ExecuteTime": {
     "end_time": "2021-01-15T10:32:08.044990Z",
     "start_time": "2021-01-15T10:32:08.013370Z"
    }
   },
   "outputs": [
    {
     "data": {
      "text/latex": [
       "$\\displaystyle (\\frac{\\sqrt{\\pi} \\left(- \\frac{\\mathbf{{x}_{r}} \\left(2 \\mathbf{{x}_{r}} \\mathbf{{y}_{r}} c_{2} + \\sqrt{2} \\mathbf{{x}_{r}} c_{1} e^{\\frac{i t}{c^{2}}} \\left|{c}\\right| + e^{i t} e^{\\frac{i t}{c^{2}}} \\left|{c}\\right|\\right) e^{- \\frac{\\mathbf{{x}_{r}}^{2}}{2}} e^{- \\frac{\\mathbf{{y}_{r}}^{2}}{2 c^{2}}} e^{- \\frac{3 i t}{2}} e^{- \\frac{3 i t}{2 c^{2}}}}{\\sqrt{\\pi} \\left|{c}\\right|^{\\frac{3}{2}}} + \\frac{\\left(2 \\mathbf{{y}_{r}} c_{2} + \\sqrt{2} c_{1} e^{\\frac{i t}{c^{2}}} \\left|{c}\\right|\\right) e^{- \\frac{\\mathbf{{x}_{r}}^{2}}{2}} e^{- \\frac{\\mathbf{{y}_{r}}^{2}}{2 c^{2}}} e^{- \\frac{3 i t}{2}} e^{- \\frac{3 i t}{2 c^{2}}}}{\\sqrt{\\pi} \\left|{c}\\right|^{\\frac{3}{2}}}\\right) e^{\\frac{\\mathbf{{x}_{r}}^{2}}{2}} e^{\\frac{\\mathbf{{y}_{r}}^{2}}{2 c^{2}}} e^{\\frac{3 i t}{2}} e^{\\frac{3 i t}{2 c^{2}}} \\left|{c}\\right|^{\\frac{3}{2}}}{2 \\mathbf{{x}_{r}} \\mathbf{{y}_{r}} c_{2} + \\sqrt{2} \\mathbf{{x}_{r}} c_{1} e^{\\frac{i t}{c^{2}}} \\left|{c}\\right| + e^{i t} e^{\\frac{i t}{c^{2}}} \\left|{c}\\right|})\\mathbf{\\hat{i}_{r}} + (\\frac{\\sqrt{\\pi} \\left(\\frac{2 \\mathbf{{x}_{r}} c_{2} e^{- \\frac{\\mathbf{{x}_{r}}^{2}}{2}} e^{- \\frac{\\mathbf{{y}_{r}}^{2}}{2 c^{2}}} e^{- \\frac{3 i t}{2}} e^{- \\frac{3 i t}{2 c^{2}}}}{\\sqrt{\\pi} \\left|{c}\\right|^{\\frac{3}{2}}} - \\frac{\\mathbf{{y}_{r}} \\left(2 \\mathbf{{x}_{r}} \\mathbf{{y}_{r}} c_{2} + \\sqrt{2} \\mathbf{{x}_{r}} c_{1} e^{\\frac{i t}{c^{2}}} \\left|{c}\\right| + e^{i t} e^{\\frac{i t}{c^{2}}} \\left|{c}\\right|\\right) e^{- \\frac{\\mathbf{{x}_{r}}^{2}}{2}} e^{- \\frac{\\mathbf{{y}_{r}}^{2}}{2 c^{2}}} e^{- \\frac{3 i t}{2}} e^{- \\frac{3 i t}{2 c^{2}}}}{\\sqrt{\\pi} c^{2} \\left|{c}\\right|^{\\frac{3}{2}}}\\right) e^{\\frac{\\mathbf{{x}_{r}}^{2}}{2}} e^{\\frac{\\mathbf{{y}_{r}}^{2}}{2 c^{2}}} e^{\\frac{3 i t}{2}} e^{\\frac{3 i t}{2 c^{2}}} \\left|{c}\\right|^{\\frac{3}{2}}}{2 \\mathbf{{x}_{r}} \\mathbf{{y}_{r}} c_{2} + \\sqrt{2} \\mathbf{{x}_{r}} c_{1} e^{\\frac{i t}{c^{2}}} \\left|{c}\\right| + e^{i t} e^{\\frac{i t}{c^{2}}} \\left|{c}\\right|})\\mathbf{\\hat{j}_{r}}$"
      ],
      "text/plain": [
       "(sqrt(pi)*(-r.x*(2*r.x*r.y*c2 + sqrt(2)*r.x*c1*exp(I*t/c**2)*Abs(c) + exp(I*t)*exp(I*t/c**2)*Abs(c))*exp(-r.x**2/2)*exp(-r.y**2/(2*c**2))*exp(-3*I*t/2)*exp(-3*I*t/(2*c**2))/(sqrt(pi)*Abs(c)**(3/2)) + (2*r.y*c2 + sqrt(2)*c1*exp(I*t/c**2)*Abs(c))*exp(-r.x**2/2)*exp(-r.y**2/(2*c**2))*exp(-3*I*t/2)*exp(-3*I*t/(2*c**2))/(sqrt(pi)*Abs(c)**(3/2)))*exp(r.x**2/2)*exp(r.y**2/(2*c**2))*exp(3*I*t/2)*exp(3*I*t/(2*c**2))*Abs(c)**(3/2)/(2*r.x*r.y*c2 + sqrt(2)*r.x*c1*exp(I*t/c**2)*Abs(c) + exp(I*t)*exp(I*t/c**2)*Abs(c)))*r.i + (sqrt(pi)*(2*r.x*c2*exp(-r.x**2/2)*exp(-r.y**2/(2*c**2))*exp(-3*I*t/2)*exp(-3*I*t/(2*c**2))/(sqrt(pi)*Abs(c)**(3/2)) - r.y*(2*r.x*r.y*c2 + sqrt(2)*r.x*c1*exp(I*t/c**2)*Abs(c) + exp(I*t)*exp(I*t/c**2)*Abs(c))*exp(-r.x**2/2)*exp(-r.y**2/(2*c**2))*exp(-3*I*t/2)*exp(-3*I*t/(2*c**2))/(sqrt(pi)*c**2*Abs(c)**(3/2)))*exp(r.x**2/2)*exp(r.y**2/(2*c**2))*exp(3*I*t/2)*exp(3*I*t/(2*c**2))*Abs(c)**(3/2)/(2*r.x*r.y*c2 + sqrt(2)*r.x*c1*exp(I*t/c**2)*Abs(c) + exp(I*t)*exp(I*t/c**2)*Abs(c)))*r.j"
      ]
     },
     "execution_count": 21,
     "metadata": {},
     "output_type": "execute_result"
    }
   ],
   "source": [
    "expr = Del_Psi/Psi\n",
    "expr"
   ]
  },
  {
   "cell_type": "code",
   "execution_count": 24,
   "metadata": {
    "ExecuteTime": {
     "end_time": "2021-01-15T10:35:34.585680Z",
     "start_time": "2021-01-15T10:35:34.290623Z"
    }
   },
   "outputs": [
    {
     "data": {
      "text/latex": [
       "$\\displaystyle (\\frac{- \\mathbf{{x}_{r}} \\left(2 \\mathbf{{x}_{r}} \\mathbf{{y}_{r}} c_{2} + \\sqrt{2} \\mathbf{{x}_{r}} c_{1} e^{\\frac{i t}{c^{2}}} \\left|{c}\\right| + e^{i t \\left(1 + \\frac{1}{c^{2}}\\right)} \\left|{c}\\right|\\right) + 2 \\mathbf{{y}_{r}} c_{2} + \\sqrt{2} c_{1} e^{\\frac{i t}{c^{2}}} \\left|{c}\\right|}{2 \\mathbf{{x}_{r}} \\mathbf{{y}_{r}} c_{2} + \\sqrt{2} \\mathbf{{x}_{r}} c_{1} e^{\\frac{i t}{c^{2}}} \\left|{c}\\right| + e^{i t + \\frac{i t}{c^{2}}} \\left|{c}\\right|})\\mathbf{\\hat{i}_{r}}$"
      ],
      "text/plain": [
       "((-r.x*(2*r.x*r.y*c2 + sqrt(2)*r.x*c1*exp(I*t/c**2)*Abs(c) + exp(I*t*(1 + c**(-2)))*Abs(c)) + 2*r.y*c2 + sqrt(2)*c1*exp(I*t/c**2)*Abs(c))/(2*r.x*r.y*c2 + sqrt(2)*r.x*c1*exp(I*t/c**2)*Abs(c) + exp(I*t + I*t/c**2)*Abs(c)))*r.i"
      ]
     },
     "execution_count": 24,
     "metadata": {},
     "output_type": "execute_result"
    }
   ],
   "source": [
    "dx_dt = expr.args[0].simplify()\n",
    "dx_dt"
   ]
  },
  {
   "cell_type": "code",
   "execution_count": 38,
   "metadata": {
    "ExecuteTime": {
     "end_time": "2021-01-15T10:38:24.660486Z",
     "start_time": "2021-01-15T10:38:24.651359Z"
    }
   },
   "outputs": [
    {
     "data": {
      "text/plain": [
       "False"
      ]
     },
     "execution_count": 38,
     "metadata": {},
     "output_type": "execute_result"
    }
   ],
   "source": []
  },
  {
   "cell_type": "code",
   "execution_count": 25,
   "metadata": {
    "ExecuteTime": {
     "end_time": "2021-01-15T10:35:42.805587Z",
     "start_time": "2021-01-15T10:35:42.375259Z"
    }
   },
   "outputs": [
    {
     "data": {
      "text/latex": [
       "$\\displaystyle (\\frac{- 2 \\mathbf{{x}_{r}} \\mathbf{{y}_{r}}^{2} c_{2} - \\sqrt{2} \\mathbf{{x}_{r}} \\mathbf{{y}_{r}} c_{1} e^{\\frac{i t}{c^{2}}} \\left|{c}\\right| + 2 \\mathbf{{x}_{r}} c^{2} c_{2} - \\mathbf{{y}_{r}} e^{i t + \\frac{i t}{c^{2}}} \\left|{c}\\right|}{c^{2} \\left(2 \\mathbf{{x}_{r}} \\mathbf{{y}_{r}} c_{2} + \\sqrt{2} \\mathbf{{x}_{r}} c_{1} e^{\\frac{i t}{c^{2}}} \\left|{c}\\right| + e^{i t + \\frac{i t}{c^{2}}} \\left|{c}\\right|\\right)})\\mathbf{\\hat{j}_{r}}$"
      ],
      "text/plain": [
       "((-2*r.x*r.y**2*c2 - sqrt(2)*r.x*r.y*c1*exp(I*t/c**2)*Abs(c) + 2*r.x*c**2*c2 - r.y*exp(I*t + I*t/c**2)*Abs(c))/(c**2*(2*r.x*r.y*c2 + sqrt(2)*r.x*c1*exp(I*t/c**2)*Abs(c) + exp(I*t + I*t/c**2)*Abs(c))))*r.j"
      ]
     },
     "execution_count": 25,
     "metadata": {},
     "output_type": "execute_result"
    }
   ],
   "source": [
    "dy_dt = expr.args[1].simplify()\n",
    "dy_dt"
   ]
  },
  {
   "cell_type": "code",
   "execution_count": 46,
   "metadata": {
    "ExecuteTime": {
     "end_time": "2021-01-15T10:43:40.294784Z",
     "start_time": "2021-01-15T10:43:40.270738Z"
    }
   },
   "outputs": [
    {
     "data": {
      "text/latex": [
       "$\\displaystyle \\frac{\\left(2 \\mathbf{{x}_{r}} \\mathbf{{y}_{r}} c_{2} + \\sqrt{2} \\mathbf{{x}_{r}} c_{1} e^{\\frac{i t}{c^{2}}} \\left|{c}\\right| + e^{i t} e^{\\frac{i t}{c^{2}}} \\left|{c}\\right|\\right) \\left(\\sqrt{2} c_{1} e^{- \\frac{i t}{c^{2}}} \\overline{\\mathbf{{x}_{r}}} \\left|{c}\\right| + 2 c_{2} \\overline{\\mathbf{{x}_{r}}} \\overline{\\mathbf{{y}_{r}}} + e^{- i t} e^{- \\frac{i t}{c^{2}}} \\left|{c}\\right|\\right) e^{- \\frac{\\mathbf{{x}_{r}}^{2}}{2}} e^{- \\frac{\\mathbf{{y}_{r}}^{2}}{2 c^{2}}} e^{- \\frac{\\overline{\\mathbf{{y}_{r}}}^{2}}{2 c^{2}}} e^{- \\frac{\\overline{\\mathbf{{x}_{r}}}^{2}}{2}} \\overline{\\frac{1}{\\left|{c}\\right|^{\\frac{3}{2}}}}}{\\pi \\left|{c}\\right|^{\\frac{3}{2}}}$"
      ],
      "text/plain": [
       "(2*r.x*r.y*c2 + sqrt(2)*r.x*c1*exp(I*t/c**2)*Abs(c) + exp(I*t)*exp(I*t/c**2)*Abs(c))*(sqrt(2)*c1*exp(-I*t/c**2)*conjugate(r.x)*Abs(c) + 2*c2*conjugate(r.x)*conjugate(r.y) + exp(-I*t)*exp(-I*t/c**2)*Abs(c))*exp(-r.x**2/2)*exp(-r.y**2/(2*c**2))*exp(-conjugate(r.y)**2/(2*c**2))*exp(-conjugate(r.x)**2/2)*conjugate(Abs(c)**(-3/2))/(pi*Abs(c)**(3/2))"
      ]
     },
     "execution_count": 46,
     "metadata": {},
     "output_type": "execute_result"
    }
   ],
   "source": [
    "Psi*Psi.conjugate()"
   ]
  },
  {
   "cell_type": "markdown",
   "metadata": {},
   "source": [
    "__ATTEMPT__ Try expanded form of $\\Psi$ as sum of wavefunctions and compute its square module."
   ]
  },
  {
   "cell_type": "code",
   "execution_count": 86,
   "metadata": {
    "ExecuteTime": {
     "end_time": "2021-01-15T11:34:05.445795Z",
     "start_time": "2021-01-15T11:34:05.434165Z"
    }
   },
   "outputs": [
    {
     "data": {
      "text/latex": [
       "$\\displaystyle \\frac{\\sqrt{2} c_{1} x e^{- i t \\left(\\frac{3}{2} + \\frac{1}{2 c^{2}}\\right)} e^{- \\frac{x^{2}}{2} - \\frac{y^{2}}{2 c^{2}}}}{\\sqrt{\\pi} \\sqrt{\\left|{c}\\right|}} + \\frac{2 c_{2} x y e^{- i t \\left(\\frac{3}{2} + \\frac{3}{2 c^{2}}\\right)} e^{- \\frac{x^{2}}{2} - \\frac{y^{2}}{2 c^{2}}}}{\\sqrt{\\pi} \\left|{c}\\right|^{\\frac{3}{2}}} + \\frac{e^{- i t \\left(\\frac{1}{2} + \\frac{1}{2 c^{2}}\\right)} e^{- \\frac{x^{2}}{2} - \\frac{y^{2}}{2 c^{2}}}}{\\sqrt{\\pi} \\sqrt{\\left|{c}\\right|}}$"
      ],
      "text/plain": [
       "sqrt(2)*c1*x*exp(-I*t*(3/2 + 1/(2*c**2)))*exp(-x**2/2 - y**2/(2*c**2))/(sqrt(pi)*sqrt(Abs(c))) + 2*c2*x*y*exp(-I*t*(3/2 + 3/(2*c**2)))*exp(-x**2/2 - y**2/(2*c**2))/(sqrt(pi)*Abs(c)**(3/2)) + exp(-I*t*(1/2 + 1/(2*c**2)))*exp(-x**2/2 - y**2/(2*c**2))/(sqrt(pi)*sqrt(Abs(c)))"
      ]
     },
     "execution_count": 86,
     "metadata": {},
     "output_type": "execute_result"
    }
   ],
   "source": [
    "Psi"
   ]
  },
  {
   "cell_type": "markdown",
   "metadata": {},
   "source": [
    "<span style=\"color:red\"><b>CONTINUE HERE</b></span>"
   ]
  },
  {
   "cell_type": "code",
   "execution_count": 88,
   "metadata": {
    "ExecuteTime": {
     "end_time": "2021-01-15T11:34:25.979119Z",
     "start_time": "2021-01-15T11:34:25.954181Z"
    }
   },
   "outputs": [
    {
     "data": {
      "text/latex": [
       "$\\displaystyle \\frac{2 c_{1}^{2} x^{2} e^{- x^{2}} e^{- \\frac{y^{2}}{c^{2}}} \\overline{\\frac{1}{\\sqrt{\\left|{c}\\right|}}}}{\\pi \\sqrt{\\left|{c}\\right|}} + \\frac{2 \\sqrt{2} c_{1} c_{2} x^{2} y e^{- x^{2}} e^{- \\frac{y^{2}}{c^{2}}} e^{\\frac{i t}{c^{2}}} \\overline{\\frac{1}{\\left|{c}\\right|^{\\frac{3}{2}}}}}{\\pi \\sqrt{\\left|{c}\\right|}} + \\frac{2 \\sqrt{2} c_{1} c_{2} x^{2} y e^{- x^{2}} e^{- \\frac{y^{2}}{c^{2}}} e^{- \\frac{i t}{c^{2}}} \\overline{\\frac{1}{\\sqrt{\\left|{c}\\right|}}}}{\\pi \\left|{c}\\right|^{\\frac{3}{2}}} + \\frac{\\sqrt{2} c_{1} x e^{- x^{2}} e^{i t} e^{- \\frac{y^{2}}{c^{2}}} \\overline{\\frac{1}{\\sqrt{\\left|{c}\\right|}}}}{\\pi \\sqrt{\\left|{c}\\right|}} + \\frac{\\sqrt{2} c_{1} x e^{- x^{2}} e^{- i t} e^{- \\frac{y^{2}}{c^{2}}} \\overline{\\frac{1}{\\sqrt{\\left|{c}\\right|}}}}{\\pi \\sqrt{\\left|{c}\\right|}} + \\frac{4 c_{2}^{2} x^{2} y^{2} e^{- x^{2}} e^{- \\frac{y^{2}}{c^{2}}} \\overline{\\frac{1}{\\left|{c}\\right|^{\\frac{3}{2}}}}}{\\pi \\left|{c}\\right|^{\\frac{3}{2}}} + \\frac{2 c_{2} x y e^{- x^{2}} e^{i t} e^{- \\frac{y^{2}}{c^{2}}} e^{\\frac{i t}{c^{2}}} \\overline{\\frac{1}{\\left|{c}\\right|^{\\frac{3}{2}}}}}{\\pi \\sqrt{\\left|{c}\\right|}} + \\frac{2 c_{2} x y e^{- x^{2}} e^{- i t} e^{- \\frac{y^{2}}{c^{2}}} e^{- \\frac{i t}{c^{2}}} \\overline{\\frac{1}{\\sqrt{\\left|{c}\\right|}}}}{\\pi \\left|{c}\\right|^{\\frac{3}{2}}} + \\frac{e^{- x^{2}} e^{- \\frac{y^{2}}{c^{2}}} \\overline{\\frac{1}{\\sqrt{\\left|{c}\\right|}}}}{\\pi \\sqrt{\\left|{c}\\right|}}$"
      ],
      "text/plain": [
       "2*c1**2*x**2*exp(-x**2)*exp(-y**2/c**2)*conjugate(1/sqrt(Abs(c)))/(pi*sqrt(Abs(c))) + 2*sqrt(2)*c1*c2*x**2*y*exp(-x**2)*exp(-y**2/c**2)*exp(I*t/c**2)*conjugate(Abs(c)**(-3/2))/(pi*sqrt(Abs(c))) + 2*sqrt(2)*c1*c2*x**2*y*exp(-x**2)*exp(-y**2/c**2)*exp(-I*t/c**2)*conjugate(1/sqrt(Abs(c)))/(pi*Abs(c)**(3/2)) + sqrt(2)*c1*x*exp(-x**2)*exp(I*t)*exp(-y**2/c**2)*conjugate(1/sqrt(Abs(c)))/(pi*sqrt(Abs(c))) + sqrt(2)*c1*x*exp(-x**2)*exp(-I*t)*exp(-y**2/c**2)*conjugate(1/sqrt(Abs(c)))/(pi*sqrt(Abs(c))) + 4*c2**2*x**2*y**2*exp(-x**2)*exp(-y**2/c**2)*conjugate(Abs(c)**(-3/2))/(pi*Abs(c)**(3/2)) + 2*c2*x*y*exp(-x**2)*exp(I*t)*exp(-y**2/c**2)*exp(I*t/c**2)*conjugate(Abs(c)**(-3/2))/(pi*sqrt(Abs(c))) + 2*c2*x*y*exp(-x**2)*exp(-I*t)*exp(-y**2/c**2)*exp(-I*t/c**2)*conjugate(1/sqrt(Abs(c)))/(pi*Abs(c)**(3/2)) + exp(-x**2)*exp(-y**2/c**2)*conjugate(1/sqrt(Abs(c)))/(pi*sqrt(Abs(c)))"
      ]
     },
     "execution_count": 88,
     "metadata": {},
     "output_type": "execute_result"
    }
   ],
   "source": [
    "Psi_sqr = Psi*Psi.conjugate()\n",
    "Psi_sqr = Psi_sqr.expand()\n",
    "Psi_sqr"
   ]
  },
  {
   "cell_type": "markdown",
   "metadata": {},
   "source": [
    "__NOT WORKING__ (Don't continue)"
   ]
  },
  {
   "cell_type": "code",
   "execution_count": 92,
   "metadata": {
    "ExecuteTime": {
     "end_time": "2021-01-15T11:37:46.504850Z",
     "start_time": "2021-01-15T11:37:45.459506Z"
    }
   },
   "outputs": [
    {
     "data": {
      "text/latex": [
       "$\\displaystyle \\frac{\\left(2 \\sqrt{2} c^{2} c_{1} c_{2} x^{2} y e^{i t} + 2 \\sqrt{2} c^{2} c_{1} c_{2} x^{2} y e^{i t \\left(1 + \\frac{2}{c^{2}}\\right)} + 2 c^{2} c_{2} x y e^{2 i t \\left(1 + \\frac{1}{c^{2}}\\right)} + 2 c^{2} c_{2} x y + 2 c_{1}^{2} x^{2} e^{i t \\left(1 + \\frac{1}{c^{2}}\\right)} \\left|{c^{\\frac{3}{2}}}\\right|^{2} + \\sqrt{2} c_{1} x e^{\\frac{i t}{c^{2}}} \\left|{c^{\\frac{3}{2}}}\\right|^{2} + \\sqrt{2} c_{1} x e^{i t \\left(2 + \\frac{1}{c^{2}}\\right)} \\left|{c^{\\frac{3}{2}}}\\right|^{2} + 4 c_{2}^{2} x^{2} y^{2} e^{i t \\left(1 + \\frac{1}{c^{2}}\\right)} \\left|{\\sqrt{c}}\\right|^{2} + e^{i t \\left(1 + \\frac{1}{c^{2}}\\right)} \\left|{c^{\\frac{3}{2}}}\\right|^{2}\\right) e^{- i t - x^{2} - \\frac{i t}{c^{2}} - \\frac{y^{2}}{c^{2}}}}{\\pi c^{4}}$"
      ],
      "text/plain": [
       "(2*sqrt(2)*c**2*c1*c2*x**2*y*exp(I*t) + 2*sqrt(2)*c**2*c1*c2*x**2*y*exp(I*t*(1 + 2/c**2)) + 2*c**2*c2*x*y*exp(2*I*t*(1 + c**(-2))) + 2*c**2*c2*x*y + 2*c1**2*x**2*exp(I*t*(1 + c**(-2)))*Abs(c**(3/2))**2 + sqrt(2)*c1*x*exp(I*t/c**2)*Abs(c**(3/2))**2 + sqrt(2)*c1*x*exp(I*t*(2 + c**(-2)))*Abs(c**(3/2))**2 + 4*c2**2*x**2*y**2*exp(I*t*(1 + c**(-2)))*Abs(sqrt(c))**2 + exp(I*t*(1 + c**(-2)))*Abs(c**(3/2))**2)*exp(-I*t - x**2 - I*t/c**2 - y**2/c**2)/(pi*c**4)"
      ]
     },
     "execution_count": 92,
     "metadata": {},
     "output_type": "execute_result"
    }
   ],
   "source": [
    "Psi_sqr.simplify()"
   ]
  },
  {
   "cell_type": "markdown",
   "metadata": {},
   "source": [
    "# Pilot-Wave equations $\\omega_1 \\neq 1$"
   ]
  },
  {
   "cell_type": "code",
   "execution_count": 1,
   "metadata": {
    "ExecuteTime": {
     "end_time": "2021-09-01T16:08:27.600457Z",
     "start_time": "2021-09-01T16:08:27.331597Z"
    }
   },
   "outputs": [],
   "source": [
    "import sympy as sym"
   ]
  },
  {
   "cell_type": "code",
   "execution_count": 2,
   "metadata": {
    "ExecuteTime": {
     "end_time": "2021-09-01T16:08:27.904637Z",
     "start_time": "2021-09-01T16:08:27.902106Z"
    }
   },
   "outputs": [],
   "source": [
    "x, y = sym.symbols('x y', real=True)"
   ]
  },
  {
   "cell_type": "code",
   "execution_count": 3,
   "metadata": {
    "ExecuteTime": {
     "end_time": "2021-09-01T16:08:28.255050Z",
     "start_time": "2021-09-01T16:08:28.252657Z"
    }
   },
   "outputs": [],
   "source": [
    "h = sym.Symbol('hbar')\n",
    "omega1 = sym.Symbol('omega1', real=True)\n",
    "omega2 = sym.Symbol('omega2', real=True)\n",
    "n1 = sym.Symbol('n1')\n",
    "n2 = sym.Symbol('n2')"
   ]
  },
  {
   "cell_type": "code",
   "execution_count": 4,
   "metadata": {
    "ExecuteTime": {
     "end_time": "2021-09-01T16:08:28.532036Z",
     "start_time": "2021-09-01T16:08:28.529613Z"
    }
   },
   "outputs": [],
   "source": [
    "e = sym.exp\n",
    "t = sym.Symbol('t', real=True)\n",
    "c = sym.Symbol('c', real=True)"
   ]
  },
  {
   "cell_type": "code",
   "execution_count": 5,
   "metadata": {
    "ExecuteTime": {
     "end_time": "2021-09-01T16:08:29.111313Z",
     "start_time": "2021-09-01T16:08:28.946953Z"
    }
   },
   "outputs": [
    {
     "data": {
      "text/latex": [
       "$\\displaystyle \\hbar \\left(\\omega_{1} \\left(n_{1} + \\frac{1}{2}\\right) + \\omega_{2} \\left(n_{2} + \\frac{1}{2}\\right)\\right)$"
      ],
      "text/plain": [
       "hbar*(omega1*(n1 + 1/2) + omega2*(n2 + 1/2))"
      ]
     },
     "execution_count": 5,
     "metadata": {},
     "output_type": "execute_result"
    }
   ],
   "source": [
    "E_n1n2 = h*( (sym.Rational(1/2) + n1)*omega1 + (sym.Rational(1/2) + n2)*omega2 )\n",
    "E_n1n2"
   ]
  },
  {
   "cell_type": "code",
   "execution_count": 6,
   "metadata": {
    "ExecuteTime": {
     "end_time": "2021-09-01T16:08:29.477069Z",
     "start_time": "2021-09-01T16:08:29.471739Z"
    }
   },
   "outputs": [
    {
     "data": {
      "text/latex": [
       "$\\displaystyle \\omega_{1} \\left(n_{1} + \\frac{1}{2}\\right) + \\omega_{2} \\left(n_{2} + \\frac{1}{2}\\right)$"
      ],
      "text/plain": [
       "omega1*(n1 + 1/2) + omega2*(n2 + 1/2)"
      ]
     },
     "execution_count": 6,
     "metadata": {},
     "output_type": "execute_result"
    }
   ],
   "source": [
    "E_n1n2 = E_n1n2.subs(h,1)\n",
    "E_n1n2"
   ]
  },
  {
   "cell_type": "markdown",
   "metadata": {},
   "source": [
    "Eigenfunctions "
   ]
  },
  {
   "cell_type": "code",
   "execution_count": 7,
   "metadata": {
    "ExecuteTime": {
     "end_time": "2021-09-01T16:08:30.995252Z",
     "start_time": "2021-09-01T16:08:30.988403Z"
    }
   },
   "outputs": [],
   "source": [
    "def psi_n1n2(n1_val, n2_val):\n",
    "    C_n1n2_numerator = (omega1*omega2)**(sym.Rational(1/4))\n",
    "    C_n1n2_divider = sym.sqrt(sym.pi* sym.factorial(n1) * sym.factorial(n2)* 2**(n1+n2))\n",
    "    C_n1n2 = C_n1n2_numerator/C_n1n2_divider\n",
    "    H_n1 = sym.hermite_poly(n1_val, sym.sqrt(omega1)*x)\n",
    "    H_n2 = sym.hermite_poly(n2_val, sym.sqrt(omega2)*y)\n",
    "    expfunc1 = sym.exp(-sym.I*E_n1n2*t)\n",
    "    expfunc2 = sym.exp(-sym.Rational(1/2)*(omega1*x**2 + omega2*y**2))\n",
    "    product = C_n1n2*expfunc1*expfunc2\n",
    "    psi_n1n2 = product.subs([(n1, n1_val),(n2, n2_val)])*H_n1*H_n2\n",
    "    return psi_n1n2"
   ]
  },
  {
   "cell_type": "markdown",
   "metadata": {},
   "source": [
    "Wave function"
   ]
  },
  {
   "cell_type": "code",
   "execution_count": 8,
   "metadata": {
    "ExecuteTime": {
     "end_time": "2021-09-01T16:08:32.149231Z",
     "start_time": "2021-09-01T16:08:32.146583Z"
    }
   },
   "outputs": [],
   "source": [
    "c1 = sym.symbols('c1', real=True)\n",
    "c2 = sym.symbols('c2', real=True)"
   ]
  },
  {
   "cell_type": "markdown",
   "metadata": {},
   "source": [
    "## CASE 2"
   ]
  },
  {
   "cell_type": "markdown",
   "metadata": {},
   "source": [
    "### Wave function"
   ]
  },
  {
   "cell_type": "markdown",
   "metadata": {},
   "source": [
    "$\\Psi(x,y,t) = \\psi_{0,0} + c_1 \\psi_{1,0}$"
   ]
  },
  {
   "cell_type": "code",
   "execution_count": 110,
   "metadata": {
    "ExecuteTime": {
     "end_time": "2021-08-04T13:36:05.962743Z",
     "start_time": "2021-08-04T13:36:05.950689Z"
    }
   },
   "outputs": [
    {
     "data": {
      "text/latex": [
       "$\\displaystyle \\frac{\\sqrt{2} c_{1} \\sqrt{\\omega_{1}} x \\sqrt[4]{\\omega_{1} \\omega_{2}} e^{- i t \\left(\\frac{3 \\omega_{1}}{2} + \\frac{\\omega_{2}}{2}\\right)} e^{- \\frac{\\omega_{1} x^{2}}{2} - \\frac{\\omega_{2} y^{2}}{2}}}{\\sqrt{\\pi}} + \\frac{\\sqrt[4]{\\omega_{1} \\omega_{2}} e^{- i t \\left(\\frac{\\omega_{1}}{2} + \\frac{\\omega_{2}}{2}\\right)} e^{- \\frac{\\omega_{1} x^{2}}{2} - \\frac{\\omega_{2} y^{2}}{2}}}{\\sqrt{\\pi}}$"
      ],
      "text/plain": [
       "sqrt(2)*c1*sqrt(omega1)*x*(omega1*omega2)**(1/4)*exp(-I*t*(3*omega1/2 + omega2/2))*exp(-omega1*x**2/2 - omega2*y**2/2)/sqrt(pi) + (omega1*omega2)**(1/4)*exp(-I*t*(omega1/2 + omega2/2))*exp(-omega1*x**2/2 - omega2*y**2/2)/sqrt(pi)"
      ]
     },
     "execution_count": 110,
     "metadata": {},
     "output_type": "execute_result"
    }
   ],
   "source": [
    "Psi = psi_n1n2(0,0) + c1*psi_n1n2(1,0)\n",
    "Psi"
   ]
  },
  {
   "cell_type": "markdown",
   "metadata": {},
   "source": [
    "Transform to vector "
   ]
  },
  {
   "cell_type": "code",
   "execution_count": 111,
   "metadata": {
    "ExecuteTime": {
     "end_time": "2021-08-04T13:36:07.167773Z",
     "start_time": "2021-08-04T13:36:07.165666Z"
    }
   },
   "outputs": [],
   "source": [
    "from sympy.vector import CoordSys3D, gradient\n",
    "r = CoordSys3D('r')"
   ]
  },
  {
   "cell_type": "code",
   "execution_count": 112,
   "metadata": {
    "ExecuteTime": {
     "end_time": "2021-08-04T13:36:07.650936Z",
     "start_time": "2021-08-04T13:36:07.648339Z"
    }
   },
   "outputs": [],
   "source": [
    "Psi = Psi.subs([(x, r.x), (y, r.y)])"
   ]
  },
  {
   "cell_type": "code",
   "execution_count": 113,
   "metadata": {
    "ExecuteTime": {
     "end_time": "2021-08-04T13:36:08.134326Z",
     "start_time": "2021-08-04T13:36:08.126424Z"
    }
   },
   "outputs": [
    {
     "data": {
      "text/latex": [
       "$\\displaystyle \\frac{\\sqrt{2} \\mathbf{{x}_{r}} c_{1} \\sqrt{\\omega_{1}} \\sqrt[4]{\\omega_{1} \\omega_{2}} e^{- i t \\left(\\frac{3 \\omega_{1}}{2} + \\frac{\\omega_{2}}{2}\\right)} e^{- \\frac{\\mathbf{{x}_{r}}^{2} \\omega_{1}}{2} - \\frac{\\mathbf{{y}_{r}}^{2} \\omega_{2}}{2}}}{\\sqrt{\\pi}} + \\frac{\\sqrt[4]{\\omega_{1} \\omega_{2}} e^{- i t \\left(\\frac{\\omega_{1}}{2} + \\frac{\\omega_{2}}{2}\\right)} e^{- \\frac{\\mathbf{{x}_{r}}^{2} \\omega_{1}}{2} - \\frac{\\mathbf{{y}_{r}}^{2} \\omega_{2}}{2}}}{\\sqrt{\\pi}}$"
      ],
      "text/plain": [
       "sqrt(2)*r.x*c1*sqrt(omega1)*(omega1*omega2)**(1/4)*exp(-I*t*(3*omega1/2 + omega2/2))*exp(-r.x**2*omega1/2 - r.y**2*omega2/2)/sqrt(pi) + (omega1*omega2)**(1/4)*exp(-I*t*(omega1/2 + omega2/2))*exp(-r.x**2*omega1/2 - r.y**2*omega2/2)/sqrt(pi)"
      ]
     },
     "execution_count": 113,
     "metadata": {},
     "output_type": "execute_result"
    }
   ],
   "source": [
    "Psi"
   ]
  },
  {
   "cell_type": "markdown",
   "metadata": {},
   "source": [
    "### Compute vector field"
   ]
  },
  {
   "cell_type": "markdown",
   "metadata": {},
   "source": [
    "$\\nabla_{x,y} \\Psi = $"
   ]
  },
  {
   "cell_type": "code",
   "execution_count": 114,
   "metadata": {
    "ExecuteTime": {
     "end_time": "2021-08-04T13:36:09.591517Z",
     "start_time": "2021-08-04T13:36:09.561964Z"
    }
   },
   "outputs": [
    {
     "data": {
      "text/latex": [
       "$\\displaystyle (- \\frac{\\sqrt{2} \\mathbf{{x}_{r}}^{2} c_{1} \\omega_{1}^{\\frac{3}{2}} \\sqrt[4]{\\omega_{1} \\omega_{2}} e^{- i t \\left(\\frac{3 \\omega_{1}}{2} + \\frac{\\omega_{2}}{2}\\right)} e^{- \\frac{\\mathbf{{x}_{r}}^{2} \\omega_{1}}{2} - \\frac{\\mathbf{{y}_{r}}^{2} \\omega_{2}}{2}}}{\\sqrt{\\pi}} - \\frac{\\mathbf{{x}_{r}} \\omega_{1} \\sqrt[4]{\\omega_{1} \\omega_{2}} e^{- i t \\left(\\frac{\\omega_{1}}{2} + \\frac{\\omega_{2}}{2}\\right)} e^{- \\frac{\\mathbf{{x}_{r}}^{2} \\omega_{1}}{2} - \\frac{\\mathbf{{y}_{r}}^{2} \\omega_{2}}{2}}}{\\sqrt{\\pi}} + \\frac{\\sqrt{2} c_{1} \\sqrt{\\omega_{1}} \\sqrt[4]{\\omega_{1} \\omega_{2}} e^{- i t \\left(\\frac{3 \\omega_{1}}{2} + \\frac{\\omega_{2}}{2}\\right)} e^{- \\frac{\\mathbf{{x}_{r}}^{2} \\omega_{1}}{2} - \\frac{\\mathbf{{y}_{r}}^{2} \\omega_{2}}{2}}}{\\sqrt{\\pi}})\\mathbf{\\hat{i}_{r}} + (- \\frac{\\sqrt{2} \\mathbf{{x}_{r}} \\mathbf{{y}_{r}} c_{1} \\sqrt{\\omega_{1}} \\omega_{2} \\sqrt[4]{\\omega_{1} \\omega_{2}} e^{- i t \\left(\\frac{3 \\omega_{1}}{2} + \\frac{\\omega_{2}}{2}\\right)} e^{- \\frac{\\mathbf{{x}_{r}}^{2} \\omega_{1}}{2} - \\frac{\\mathbf{{y}_{r}}^{2} \\omega_{2}}{2}}}{\\sqrt{\\pi}} - \\frac{\\mathbf{{y}_{r}} \\omega_{2} \\sqrt[4]{\\omega_{1} \\omega_{2}} e^{- i t \\left(\\frac{\\omega_{1}}{2} + \\frac{\\omega_{2}}{2}\\right)} e^{- \\frac{\\mathbf{{x}_{r}}^{2} \\omega_{1}}{2} - \\frac{\\mathbf{{y}_{r}}^{2} \\omega_{2}}{2}}}{\\sqrt{\\pi}})\\mathbf{\\hat{j}_{r}}$"
      ],
      "text/plain": [
       "(-sqrt(2)*r.x**2*c1*omega1**(3/2)*(omega1*omega2)**(1/4)*exp(-I*t*(3*omega1/2 + omega2/2))*exp(-r.x**2*omega1/2 - r.y**2*omega2/2)/sqrt(pi) - r.x*omega1*(omega1*omega2)**(1/4)*exp(-I*t*(omega1/2 + omega2/2))*exp(-r.x**2*omega1/2 - r.y**2*omega2/2)/sqrt(pi) + sqrt(2)*c1*sqrt(omega1)*(omega1*omega2)**(1/4)*exp(-I*t*(3*omega1/2 + omega2/2))*exp(-r.x**2*omega1/2 - r.y**2*omega2/2)/sqrt(pi))*r.i + (-sqrt(2)*r.x*r.y*c1*sqrt(omega1)*omega2*(omega1*omega2)**(1/4)*exp(-I*t*(3*omega1/2 + omega2/2))*exp(-r.x**2*omega1/2 - r.y**2*omega2/2)/sqrt(pi) - r.y*omega2*(omega1*omega2)**(1/4)*exp(-I*t*(omega1/2 + omega2/2))*exp(-r.x**2*omega1/2 - r.y**2*omega2/2)/sqrt(pi))*r.j"
      ]
     },
     "execution_count": 114,
     "metadata": {},
     "output_type": "execute_result"
    }
   ],
   "source": [
    "Del_Psi = gradient(Psi)\n",
    "Del_Psi"
   ]
  },
  {
   "cell_type": "markdown",
   "metadata": {},
   "source": [
    "$\\frac{\\nabla_{x,y} \\Psi}{ \\Psi}= $"
   ]
  },
  {
   "cell_type": "code",
   "execution_count": 115,
   "metadata": {
    "ExecuteTime": {
     "end_time": "2021-08-04T13:36:10.932507Z",
     "start_time": "2021-08-04T13:36:10.764083Z"
    }
   },
   "outputs": [
    {
     "data": {
      "text/latex": [
       "$\\displaystyle (\\frac{- \\sqrt{2} c_{1} \\omega_{1}^{\\frac{3}{2}} x^{2} + \\sqrt{2} c_{1} \\sqrt{\\omega_{1}} - \\omega_{1} x e^{i \\omega_{1} t}}{\\sqrt{2} c_{1} \\sqrt{\\omega_{1}} x + e^{i \\omega_{1} t}})\\mathbf{\\hat{i}_{r}} + (- \\omega_{2} y)\\mathbf{\\hat{j}_{r}}$"
      ],
      "text/plain": [
       "((-sqrt(2)*c1*omega1**(3/2)*x**2 + sqrt(2)*c1*sqrt(omega1) - omega1*x*exp(I*omega1*t))/(sqrt(2)*c1*sqrt(omega1)*x + exp(I*omega1*t)))*r.i + (-omega2*y)*r.j"
      ]
     },
     "execution_count": 115,
     "metadata": {},
     "output_type": "execute_result"
    }
   ],
   "source": [
    "expr = Del_Psi/Psi\n",
    "expr = expr.simplify()\n",
    "expr = expr.subs([(r.x, x), (r.y, y)])\n",
    "expr"
   ]
  },
  {
   "cell_type": "markdown",
   "metadata": {},
   "source": [
    "### Simplify vector field"
   ]
  },
  {
   "cell_type": "code",
   "execution_count": 107,
   "metadata": {
    "ExecuteTime": {
     "end_time": "2021-08-04T12:48:16.012944Z",
     "start_time": "2021-08-04T12:48:15.999033Z"
    }
   },
   "outputs": [
    {
     "data": {
      "text/latex": [
       "$\\displaystyle (\\frac{- \\sqrt{2} c_{1} \\omega_{1}^{\\frac{3}{2}} x^{2} + \\sqrt{2} c_{1} \\sqrt{\\omega_{1}} - \\omega_{1} x \\left(i \\sin{\\left(\\omega_{1} t \\right)} + \\cos{\\left(\\omega_{1} t \\right)}\\right)}{\\sqrt{2} c_{1} \\sqrt{\\omega_{1}} x + i \\sin{\\left(\\omega_{1} t \\right)} + \\cos{\\left(\\omega_{1} t \\right)}})\\mathbf{\\hat{i}_{r}}$"
      ],
      "text/plain": [
       "((-sqrt(2)*c1*omega1**(3/2)*x**2 + sqrt(2)*c1*sqrt(omega1) - omega1*x*(I*sin(omega1*t) + cos(omega1*t)))/(sqrt(2)*c1*sqrt(omega1)*x + I*sin(omega1*t) + cos(omega1*t)))*r.i"
      ]
     },
     "execution_count": 107,
     "metadata": {},
     "output_type": "execute_result"
    }
   ],
   "source": [
    "vx = expr.args[0]\n",
    "vx = vx.subs(sym.exp(sym.I*omega1*t), sym.cos(omega1*t) + sym.I*sym.sin(omega1*t))\n",
    "vx"
   ]
  },
  {
   "cell_type": "code",
   "execution_count": 108,
   "metadata": {
    "ExecuteTime": {
     "end_time": "2021-08-04T12:48:16.324990Z",
     "start_time": "2021-08-04T12:48:16.319817Z"
    }
   },
   "outputs": [
    {
     "data": {
      "text/latex": [
       "$\\displaystyle - \\sqrt{2} c_{1} \\omega_{1}^{\\frac{3}{2}} x^{2} + \\sqrt{2} c_{1} \\sqrt{\\omega_{1}} - \\omega_{1} x \\left(i \\sin{\\left(\\omega_{1} t \\right)} + \\cos{\\left(\\omega_{1} t \\right)}\\right)$"
      ],
      "text/plain": [
       "-sqrt(2)*c1*omega1**(3/2)*x**2 + sqrt(2)*c1*sqrt(omega1) - omega1*x*(I*sin(omega1*t) + cos(omega1*t))"
      ]
     },
     "execution_count": 108,
     "metadata": {},
     "output_type": "execute_result"
    }
   ],
   "source": [
    "vx.args[1]"
   ]
  },
  {
   "cell_type": "code",
   "execution_count": 109,
   "metadata": {
    "ExecuteTime": {
     "end_time": "2021-08-04T12:48:16.899209Z",
     "start_time": "2021-08-04T12:48:16.894957Z"
    }
   },
   "outputs": [
    {
     "data": {
      "text/latex": [
       "$\\displaystyle \\frac{1}{\\sqrt{2} c_{1} \\sqrt{\\omega_{1}} x + i \\sin{\\left(\\omega_{1} t \\right)} + \\cos{\\left(\\omega_{1} t \\right)}}$"
      ],
      "text/plain": [
       "1/(sqrt(2)*c1*sqrt(omega1)*x + I*sin(omega1*t) + cos(omega1*t))"
      ]
     },
     "execution_count": 109,
     "metadata": {},
     "output_type": "execute_result"
    }
   ],
   "source": [
    "vx.args[0]"
   ]
  },
  {
   "cell_type": "markdown",
   "metadata": {},
   "source": [
    "From this, we can compute $Im(\\nabla \\Psi / \\Psi)$"
   ]
  },
  {
   "cell_type": "markdown",
   "metadata": {},
   "source": [
    "### Vector field: final form"
   ]
  },
  {
   "cell_type": "code",
   "execution_count": null,
   "metadata": {},
   "outputs": [],
   "source": []
  },
  {
   "cell_type": "markdown",
   "metadata": {},
   "source": [
    "### Second-order pilot wave equations"
   ]
  },
  {
   "cell_type": "markdown",
   "metadata": {},
   "source": [
    "Define the wave function"
   ]
  },
  {
   "cell_type": "code",
   "execution_count": 119,
   "metadata": {
    "ExecuteTime": {
     "end_time": "2021-08-04T13:40:10.966352Z",
     "start_time": "2021-08-04T13:40:10.963864Z"
    }
   },
   "outputs": [],
   "source": [
    "Psi = psi_n1n2(0,0) + c1*psi_n1n2(1,0)"
   ]
  },
  {
   "cell_type": "markdown",
   "metadata": {},
   "source": [
    "Define its conjugate "
   ]
  },
  {
   "cell_type": "code",
   "execution_count": 121,
   "metadata": {
    "ExecuteTime": {
     "end_time": "2021-08-04T13:40:37.948266Z",
     "start_time": "2021-08-04T13:40:37.942534Z"
    }
   },
   "outputs": [],
   "source": [
    "Psi_conjugate = Psi.subs(sym.I, -sym.I)"
   ]
  },
  {
   "cell_type": "markdown",
   "metadata": {},
   "source": [
    "Compute square modules and expand expression"
   ]
  },
  {
   "cell_type": "code",
   "execution_count": 147,
   "metadata": {
    "ExecuteTime": {
     "end_time": "2021-08-04T13:50:18.593026Z",
     "start_time": "2021-08-04T13:50:18.574072Z"
    }
   },
   "outputs": [
    {
     "data": {
      "text/latex": [
       "$\\displaystyle \\frac{2 c_{1}^{2} \\omega_{1} x^{2} \\sqrt{\\omega_{1} \\omega_{2}} e^{- \\omega_{1} x^{2}} e^{- \\omega_{2} y^{2}}}{\\pi} + \\frac{\\sqrt{2} c_{1} \\sqrt{\\omega_{1}} x \\sqrt{\\omega_{1} \\omega_{2}} e^{- \\omega_{1} x^{2}} e^{- \\omega_{2} y^{2}} e^{i \\omega_{1} t}}{\\pi} + \\frac{\\sqrt{2} c_{1} \\sqrt{\\omega_{1}} x \\sqrt{\\omega_{1} \\omega_{2}} e^{- \\omega_{1} x^{2}} e^{- \\omega_{2} y^{2}} e^{- i \\omega_{1} t}}{\\pi} + \\frac{\\sqrt{\\omega_{1} \\omega_{2}} e^{- \\omega_{1} x^{2}} e^{- \\omega_{2} y^{2}}}{\\pi}$"
      ],
      "text/plain": [
       "2*c1**2*omega1*x**2*sqrt(omega1*omega2)*exp(-omega1*x**2)*exp(-omega2*y**2)/pi + sqrt(2)*c1*sqrt(omega1)*x*sqrt(omega1*omega2)*exp(-omega1*x**2)*exp(-omega2*y**2)*exp(I*omega1*t)/pi + sqrt(2)*c1*sqrt(omega1)*x*sqrt(omega1*omega2)*exp(-omega1*x**2)*exp(-omega2*y**2)*exp(-I*omega1*t)/pi + sqrt(omega1*omega2)*exp(-omega1*x**2)*exp(-omega2*y**2)/pi"
      ]
     },
     "execution_count": 147,
     "metadata": {},
     "output_type": "execute_result"
    }
   ],
   "source": [
    "P = (Psi_conjugate*Psi).expand()\n",
    "P"
   ]
  },
  {
   "cell_type": "markdown",
   "metadata": {},
   "source": [
    "Simplify each factor separately"
   ]
  },
  {
   "cell_type": "code",
   "execution_count": 157,
   "metadata": {
    "ExecuteTime": {
     "end_time": "2021-08-04T13:53:28.447699Z",
     "start_time": "2021-08-04T13:53:28.437126Z"
    }
   },
   "outputs": [
    {
     "data": {
      "text/latex": [
       "$\\displaystyle \\frac{2 c_{1}^{2} \\omega_{1} x^{2} \\sqrt{\\omega_{1} \\omega_{2}} e^{- \\omega_{1} x^{2}} e^{- \\omega_{2} y^{2}}}{\\pi}$"
      ],
      "text/plain": [
       "2*c1**2*omega1*x**2*sqrt(omega1*omega2)*exp(-omega1*x**2)*exp(-omega2*y**2)/pi"
      ]
     },
     "execution_count": 157,
     "metadata": {},
     "output_type": "execute_result"
    }
   ],
   "source": [
    "p1 = P.args[1]\n",
    "p1"
   ]
  },
  {
   "cell_type": "code",
   "execution_count": 158,
   "metadata": {
    "ExecuteTime": {
     "end_time": "2021-08-04T13:53:36.187297Z",
     "start_time": "2021-08-04T13:53:36.174606Z"
    }
   },
   "outputs": [
    {
     "data": {
      "text/latex": [
       "$\\displaystyle \\frac{\\sqrt{2} c_{1} \\sqrt{\\omega_{1}} x \\sqrt{\\omega_{1} \\omega_{2}} \\left(i \\sin{\\left(\\omega_{1} t \\right)} + \\cos{\\left(\\omega_{1} t \\right)}\\right) e^{- \\omega_{1} x^{2}} e^{- \\omega_{2} y^{2}}}{\\pi}$"
      ],
      "text/plain": [
       "sqrt(2)*c1*sqrt(omega1)*x*sqrt(omega1*omega2)*(I*sin(omega1*t) + cos(omega1*t))*exp(-omega1*x**2)*exp(-omega2*y**2)/pi"
      ]
     },
     "execution_count": 158,
     "metadata": {},
     "output_type": "execute_result"
    }
   ],
   "source": [
    "# Use Euler's formula\n",
    "p2 = P.args[2].subs(sym.exp(sym.I*omega1*t), sym.cos(omega1*t) + sym.I*sym.sin(omega1*t))\n",
    "p2"
   ]
  },
  {
   "cell_type": "code",
   "execution_count": 159,
   "metadata": {
    "ExecuteTime": {
     "end_time": "2021-08-04T13:53:44.556136Z",
     "start_time": "2021-08-04T13:53:44.542918Z"
    }
   },
   "outputs": [
    {
     "data": {
      "text/latex": [
       "$\\displaystyle \\frac{\\sqrt{2} c_{1} \\sqrt{\\omega_{1}} x \\sqrt{\\omega_{1} \\omega_{2}} \\left(- i \\sin{\\left(\\omega_{1} t \\right)} + \\cos{\\left(\\omega_{1} t \\right)}\\right) e^{- \\omega_{1} x^{2}} e^{- \\omega_{2} y^{2}}}{\\pi}$"
      ],
      "text/plain": [
       "sqrt(2)*c1*sqrt(omega1)*x*sqrt(omega1*omega2)*(-I*sin(omega1*t) + cos(omega1*t))*exp(-omega1*x**2)*exp(-omega2*y**2)/pi"
      ]
     },
     "execution_count": 159,
     "metadata": {},
     "output_type": "execute_result"
    }
   ],
   "source": [
    "# Use Euler's formula\n",
    "p3 = P.args[3].subs(sym.exp(-sym.I*omega1*t), sym.cos(omega1*t) - sym.I*sym.sin(omega1*t))\n",
    "p3"
   ]
  },
  {
   "cell_type": "code",
   "execution_count": 160,
   "metadata": {
    "ExecuteTime": {
     "end_time": "2021-08-04T13:53:52.487145Z",
     "start_time": "2021-08-04T13:53:52.478517Z"
    }
   },
   "outputs": [
    {
     "data": {
      "text/latex": [
       "$\\displaystyle \\frac{\\sqrt{\\omega_{1} \\omega_{2}} e^{- \\omega_{1} x^{2}} e^{- \\omega_{2} y^{2}}}{\\pi}$"
      ],
      "text/plain": [
       "sqrt(omega1*omega2)*exp(-omega1*x**2)*exp(-omega2*y**2)/pi"
      ]
     },
     "execution_count": 160,
     "metadata": {},
     "output_type": "execute_result"
    }
   ],
   "source": [
    "p4 = P.args[0]\n",
    "p4"
   ]
  },
  {
   "cell_type": "markdown",
   "metadata": {},
   "source": [
    "Put everything back together"
   ]
  },
  {
   "cell_type": "code",
   "execution_count": 164,
   "metadata": {
    "ExecuteTime": {
     "end_time": "2021-08-04T13:56:58.905267Z",
     "start_time": "2021-08-04T13:56:58.663497Z"
    }
   },
   "outputs": [
    {
     "data": {
      "text/latex": [
       "$\\displaystyle \\frac{\\sqrt{\\omega_{1} \\omega_{2}} \\left(2 c_{1}^{2} \\omega_{1} x^{2} + 2 \\sqrt{2} c_{1} \\sqrt{\\omega_{1}} x \\cos{\\left(\\omega_{1} t \\right)} + 1\\right) e^{- \\omega_{1} x^{2} - \\omega_{2} y^{2}}}{\\pi}$"
      ],
      "text/plain": [
       "sqrt(omega1*omega2)*(2*c1**2*omega1*x**2 + 2*sqrt(2)*c1*sqrt(omega1)*x*cos(omega1*t) + 1)*exp(-omega1*x**2 - omega2*y**2)/pi"
      ]
     },
     "execution_count": 164,
     "metadata": {},
     "output_type": "execute_result"
    }
   ],
   "source": [
    "P_simplified = (p1+p2+p3+p4).simplify()\n",
    "P_simplified"
   ]
  },
  {
   "cell_type": "markdown",
   "metadata": {},
   "source": [
    "Wave function amplitude"
   ]
  },
  {
   "cell_type": "markdown",
   "metadata": {},
   "source": [
    "$R = \\sqrt{\\Psi^* \\Psi}$ = "
   ]
  },
  {
   "cell_type": "code",
   "execution_count": 272,
   "metadata": {
    "ExecuteTime": {
     "end_time": "2021-08-04T14:46:57.275333Z",
     "start_time": "2021-08-04T14:46:57.268308Z"
    }
   },
   "outputs": [
    {
     "data": {
      "text/latex": [
       "$\\displaystyle \\frac{\\sqrt{\\sqrt{\\omega_{1} \\omega_{2}} \\left(a^{2} \\omega_{1} x^{2} + 2 a \\sqrt{\\omega_{1}} x \\cos{\\left(\\omega_{1} t \\right)} + 1\\right)} e^{- \\frac{\\omega_{1} x^{2}}{2} - \\frac{\\omega_{2} y^{2}}{2}}}{\\sqrt{\\pi}}$"
      ],
      "text/plain": [
       "sqrt(sqrt(omega1*omega2)*(a**2*omega1*x**2 + 2*a*sqrt(omega1)*x*cos(omega1*t) + 1))*exp(-omega1*x**2/2 - omega2*y**2/2)/sqrt(pi)"
      ]
     },
     "execution_count": 272,
     "metadata": {},
     "output_type": "execute_result"
    }
   ],
   "source": [
    "R = sym.sqrt(P_simplified)\n",
    "# substitute constants\n",
    "R = R.subs([(c1, a/sym.sqrt(2)),(c2, b/2)])\n",
    "R"
   ]
  },
  {
   "cell_type": "markdown",
   "metadata": {},
   "source": [
    "Compute quantum potential"
   ]
  },
  {
   "cell_type": "markdown",
   "metadata": {},
   "source": [
    "$U = -\\frac{1}{2} \\frac{\\nabla^2 R}{R}$"
   ]
  },
  {
   "cell_type": "code",
   "execution_count": 273,
   "metadata": {
    "ExecuteTime": {
     "end_time": "2021-08-04T14:47:04.080984Z",
     "start_time": "2021-08-04T14:47:02.643930Z"
    }
   },
   "outputs": [
    {
     "data": {
      "text/latex": [
       "$\\displaystyle \\frac{- a^{2} \\left(a \\omega_{1} x + \\sqrt{\\omega_{1}} \\cos{\\left(\\omega_{1} t \\right)}\\right)^{2} + a \\omega_{1} \\left(a - 2 x \\left(a \\omega_{1} x + \\sqrt{\\omega_{1}} \\cos{\\left(\\omega_{1} t \\right)}\\right)\\right) \\left(a^{2} \\omega_{1} x^{2} + 2 a \\sqrt{\\omega_{1}} x \\cos{\\left(\\omega_{1} t \\right)} + 1\\right) + \\omega_{1} \\left(\\omega_{1} x^{2} - 1\\right) \\left(a^{2} \\omega_{1} x^{2} + 2 a \\sqrt{\\omega_{1}} x \\cos{\\left(\\omega_{1} t \\right)} + 1\\right)^{2}}{\\left(a^{2} \\omega_{1} x^{2} + 2 a \\sqrt{\\omega_{1}} x \\cos{\\left(\\omega_{1} t \\right)} + 1\\right)^{2}}$"
      ],
      "text/plain": [
       "(-a**2*(a*omega1*x + sqrt(omega1)*cos(omega1*t))**2 + a*omega1*(a - 2*x*(a*omega1*x + sqrt(omega1)*cos(omega1*t)))*(a**2*omega1*x**2 + 2*a*sqrt(omega1)*x*cos(omega1*t) + 1) + omega1*(omega1*x**2 - 1)*(a**2*omega1*x**2 + 2*a*sqrt(omega1)*x*cos(omega1*t) + 1)**2)/(a**2*omega1*x**2 + 2*a*sqrt(omega1)*x*cos(omega1*t) + 1)**2"
      ]
     },
     "execution_count": 273,
     "metadata": {},
     "output_type": "execute_result"
    }
   ],
   "source": [
    "U_x = sym.diff(sym.diff(R,x), x)/R\n",
    "U_x = U_x.simplify()\n",
    "U_x"
   ]
  },
  {
   "cell_type": "code",
   "execution_count": 274,
   "metadata": {
    "ExecuteTime": {
     "end_time": "2021-08-04T14:47:08.925635Z",
     "start_time": "2021-08-04T14:47:08.923528Z"
    }
   },
   "outputs": [],
   "source": [
    "U_x_numerator   = U_x.args[1]\n",
    "U_x_denominator = 1/U_x.args[0]"
   ]
  },
  {
   "cell_type": "code",
   "execution_count": 275,
   "metadata": {
    "ExecuteTime": {
     "end_time": "2021-08-04T14:47:11.209084Z",
     "start_time": "2021-08-04T14:47:11.198890Z"
    }
   },
   "outputs": [
    {
     "data": {
      "text/latex": [
       "$\\displaystyle - \\frac{a^{2} \\left(a \\omega_{1} x + \\sqrt{\\omega_{1}} \\cos{\\left(\\omega_{1} t \\right)}\\right)^{2}}{\\left(a^{2} \\omega_{1} x^{2} + 2 a \\sqrt{\\omega_{1}} x \\cos{\\left(\\omega_{1} t \\right)} + 1\\right)^{2}} + \\frac{a \\omega_{1} \\left(a - 2 x \\left(a \\omega_{1} x + \\sqrt{\\omega_{1}} \\cos{\\left(\\omega_{1} t \\right)}\\right)\\right)}{a^{2} \\omega_{1} x^{2} + 2 a \\sqrt{\\omega_{1}} x \\cos{\\left(\\omega_{1} t \\right)} + 1} + \\omega_{1} \\left(\\omega_{1} x^{2} - 1\\right)$"
      ],
      "text/plain": [
       "-a**2*(a*omega1*x + sqrt(omega1)*cos(omega1*t))**2/(a**2*omega1*x**2 + 2*a*sqrt(omega1)*x*cos(omega1*t) + 1)**2 + a*omega1*(a - 2*x*(a*omega1*x + sqrt(omega1)*cos(omega1*t)))/(a**2*omega1*x**2 + 2*a*sqrt(omega1)*x*cos(omega1*t) + 1) + omega1*(omega1*x**2 - 1)"
      ]
     },
     "execution_count": 275,
     "metadata": {},
     "output_type": "execute_result"
    }
   ],
   "source": [
    "U_x_reduced =\\\n",
    "U_x_numerator.args[1]/U_x_denominator +\\\n",
    "U_x_numerator.args[0]/U_x_denominator +\\\n",
    "U_x_numerator.args[2]/U_x_denominator\n",
    "\n",
    "U_x_reduced"
   ]
  },
  {
   "cell_type": "code",
   "execution_count": 276,
   "metadata": {
    "ExecuteTime": {
     "end_time": "2021-08-04T14:47:20.978360Z",
     "start_time": "2021-08-04T14:47:20.921905Z"
    }
   },
   "outputs": [
    {
     "data": {
      "text/latex": [
       "$\\displaystyle \\omega_{2} \\left(\\omega_{2} y^{2} - 1\\right)$"
      ],
      "text/plain": [
       "omega2*(omega2*y**2 - 1)"
      ]
     },
     "execution_count": 276,
     "metadata": {},
     "output_type": "execute_result"
    }
   ],
   "source": [
    "U_y = sym.diff(sym.diff(R,y), y)/R\n",
    "U_y = U_y.simplify()\n",
    "U_y"
   ]
  },
  {
   "cell_type": "code",
   "execution_count": 278,
   "metadata": {
    "ExecuteTime": {
     "end_time": "2021-08-04T14:48:11.250402Z",
     "start_time": "2021-08-04T14:48:11.240177Z"
    }
   },
   "outputs": [
    {
     "data": {
      "text/latex": [
       "$\\displaystyle \\frac{a^{2} \\left(a \\omega_{1} x + \\sqrt{\\omega_{1}} \\cos{\\left(\\omega_{1} t \\right)}\\right)^{2}}{2 \\left(a^{2} \\omega_{1} x^{2} + 2 a \\sqrt{\\omega_{1}} x \\cos{\\left(\\omega_{1} t \\right)} + 1\\right)^{2}} - \\frac{a \\omega_{1} \\left(a - 2 x \\left(a \\omega_{1} x + \\sqrt{\\omega_{1}} \\cos{\\left(\\omega_{1} t \\right)}\\right)\\right)}{2 \\left(a^{2} \\omega_{1} x^{2} + 2 a \\sqrt{\\omega_{1}} x \\cos{\\left(\\omega_{1} t \\right)} + 1\\right)} - \\frac{\\omega_{1} \\left(\\omega_{1} x^{2} - 1\\right)}{2} - \\frac{\\omega_{2} \\left(\\omega_{2} y^{2} - 1\\right)}{2}$"
      ],
      "text/plain": [
       "a**2*(a*omega1*x + sqrt(omega1)*cos(omega1*t))**2/(2*(a**2*omega1*x**2 + 2*a*sqrt(omega1)*x*cos(omega1*t) + 1)**2) - a*omega1*(a - 2*x*(a*omega1*x + sqrt(omega1)*cos(omega1*t)))/(2*(a**2*omega1*x**2 + 2*a*sqrt(omega1)*x*cos(omega1*t) + 1)) - omega1*(omega1*x**2 - 1)/2 - omega2*(omega2*y**2 - 1)/2"
      ]
     },
     "execution_count": 278,
     "metadata": {},
     "output_type": "execute_result"
    }
   ],
   "source": [
    "U_quantum = -sym.Rational(1,2)*(U_x_reduced + U_y)\n",
    "U_quantum"
   ]
  },
  {
   "cell_type": "code",
   "execution_count": 281,
   "metadata": {
    "ExecuteTime": {
     "end_time": "2021-08-04T14:50:00.122519Z",
     "start_time": "2021-08-04T14:50:00.118167Z"
    }
   },
   "outputs": [
    {
     "data": {
      "text/latex": [
       "$\\displaystyle \\frac{\\omega_{1}^{2} x^{2}}{2} + \\frac{\\omega_{2}^{2} y^{2}}{2}$"
      ],
      "text/plain": [
       "omega1**2*x**2/2 + omega2**2*y**2/2"
      ]
     },
     "execution_count": 281,
     "metadata": {},
     "output_type": "execute_result"
    }
   ],
   "source": [
    "U_classic = sym.Rational(1,2)*( (omega1*x)**2 + (omega2*y)**2 )\n",
    "U_classic"
   ]
  },
  {
   "cell_type": "code",
   "execution_count": 286,
   "metadata": {
    "ExecuteTime": {
     "end_time": "2021-08-04T14:56:11.756733Z",
     "start_time": "2021-08-04T14:56:11.732863Z"
    }
   },
   "outputs": [
    {
     "data": {
      "text/latex": [
       "$\\displaystyle \\frac{a^{2} \\left(a \\omega_{1} x + \\sqrt{\\omega_{1}} \\cos{\\left(\\omega_{1} t \\right)}\\right)^{2}}{2 \\left(a^{2} \\omega_{1} x^{2} + 2 a \\sqrt{\\omega_{1}} x \\cos{\\left(\\omega_{1} t \\right)} + 1\\right)^{2}} - \\frac{a \\omega_{1} \\left(a - 2 x \\left(a \\omega_{1} x + \\sqrt{\\omega_{1}} \\cos{\\left(\\omega_{1} t \\right)}\\right)\\right)}{2 \\left(a^{2} \\omega_{1} x^{2} + 2 a \\sqrt{\\omega_{1}} x \\cos{\\left(\\omega_{1} t \\right)} + 1\\right)} + \\frac{\\omega_{1}^{2} x^{2}}{2} - \\frac{\\omega_{1} \\left(\\omega_{1} x^{2} - 1\\right)}{2} + \\frac{\\omega_{2}^{2} y^{2}}{2} - \\frac{\\omega_{2} \\left(\\omega_{2} y^{2} - 1\\right)}{2}$"
      ],
      "text/plain": [
       "a**2*(a*omega1*x + sqrt(omega1)*cos(omega1*t))**2/(2*(a**2*omega1*x**2 + 2*a*sqrt(omega1)*x*cos(omega1*t) + 1)**2) - a*omega1*(a - 2*x*(a*omega1*x + sqrt(omega1)*cos(omega1*t)))/(2*(a**2*omega1*x**2 + 2*a*sqrt(omega1)*x*cos(omega1*t) + 1)) + omega1**2*x**2/2 - omega1*(omega1*x**2 - 1)/2 + omega2**2*y**2/2 - omega2*(omega2*y**2 - 1)/2"
      ]
     },
     "execution_count": 286,
     "metadata": {},
     "output_type": "execute_result"
    }
   ],
   "source": [
    "U_total = U_classic + U_quantum\n",
    "U_total"
   ]
  },
  {
   "cell_type": "code",
   "execution_count": 298,
   "metadata": {
    "ExecuteTime": {
     "end_time": "2021-08-04T15:02:43.927821Z",
     "start_time": "2021-08-04T15:02:43.923166Z"
    }
   },
   "outputs": [],
   "source": [
    "U_total_reduced = 0\n",
    "for i in range(len(U_total.args)):\n",
    "    u = U_total.args[i]\n",
    "    if i in [2, 3]:\n",
    "        u = u.expand()\n",
    "    U_total_reduced = u + U_total_reduced"
   ]
  },
  {
   "cell_type": "markdown",
   "metadata": {},
   "source": [
    "#### Final expression"
   ]
  },
  {
   "cell_type": "code",
   "execution_count": 301,
   "metadata": {
    "ExecuteTime": {
     "end_time": "2021-08-04T15:03:29.236789Z",
     "start_time": "2021-08-04T15:03:29.224151Z"
    }
   },
   "outputs": [
    {
     "data": {
      "text/latex": [
       "$\\displaystyle \\frac{a^{2} \\left(a \\omega_{1} x + \\sqrt{\\omega_{1}} \\cos{\\left(\\omega_{1} t \\right)}\\right)^{2}}{2 \\left(a^{2} \\omega_{1} x^{2} + 2 a \\sqrt{\\omega_{1}} x \\cos{\\left(\\omega_{1} t \\right)} + 1\\right)^{2}} - \\frac{a \\omega_{1} \\left(a - 2 x \\left(a \\omega_{1} x + \\sqrt{\\omega_{1}} \\cos{\\left(\\omega_{1} t \\right)}\\right)\\right)}{2 \\left(a^{2} \\omega_{1} x^{2} + 2 a \\sqrt{\\omega_{1}} x \\cos{\\left(\\omega_{1} t \\right)} + 1\\right)} + \\frac{\\omega_{1}}{2} + \\frac{\\omega_{2}}{2}$"
      ],
      "text/plain": [
       "a**2*(a*omega1*x + sqrt(omega1)*cos(omega1*t))**2/(2*(a**2*omega1*x**2 + 2*a*sqrt(omega1)*x*cos(omega1*t) + 1)**2) - a*omega1*(a - 2*x*(a*omega1*x + sqrt(omega1)*cos(omega1*t)))/(2*(a**2*omega1*x**2 + 2*a*sqrt(omega1)*x*cos(omega1*t) + 1)) + omega1/2 + omega2/2"
      ]
     },
     "execution_count": 301,
     "metadata": {},
     "output_type": "execute_result"
    }
   ],
   "source": [
    "U_total = U_total_reduced\n",
    "U_total"
   ]
  },
  {
   "cell_type": "markdown",
   "metadata": {},
   "source": [
    "NOTE\n",
    "\n",
    "* This PES is independent of $y$"
   ]
  },
  {
   "cell_type": "markdown",
   "metadata": {},
   "source": [
    "#### Visualise potential energy surface"
   ]
  },
  {
   "cell_type": "code",
   "execution_count": null,
   "metadata": {},
   "outputs": [],
   "source": [
    "import numpy as np\n",
    "import matplotlib.pyplot as plt\n",
    "import matplotlib.animation as animation\n",
    "%matplotlib notebook"
   ]
  },
  {
   "cell_type": "markdown",
   "metadata": {},
   "source": [
    "Define evaluating function"
   ]
  },
  {
   "cell_type": "code",
   "execution_count": 354,
   "metadata": {
    "ExecuteTime": {
     "end_time": "2021-08-05T08:05:43.091733Z",
     "start_time": "2021-08-05T08:05:43.085286Z"
    }
   },
   "outputs": [],
   "source": [
    "PARAMETERS = [1, 1, 1]\n",
    "\n",
    "U_evaluated = lambda t0, x0: float(U_total.evalf(subs=\\\n",
    "    {\n",
    "        t: t0,\n",
    "        x: x0,\n",
    "        a: PARAMETERS[0],\n",
    "        omega1: PARAMETERS[1],\n",
    "        omega2: PARAMETERS[2]\n",
    "    }\n",
    "))"
   ]
  },
  {
   "cell_type": "markdown",
   "metadata": {},
   "source": [
    "Nodal point expression"
   ]
  },
  {
   "cell_type": "code",
   "execution_count": 357,
   "metadata": {
    "ExecuteTime": {
     "end_time": "2021-08-05T08:16:26.728678Z",
     "start_time": "2021-08-05T08:16:26.724124Z"
    }
   },
   "outputs": [],
   "source": [
    "def x_nodal_line(k, PARAMETERS):\n",
    "    a0, omega10, omega20 = PARAMETERS\n",
    "    x_nodal = (-1)**(k+1)/(a0 * np.sqrt(omega10))\n",
    "    return x_nodal"
   ]
  },
  {
   "cell_type": "markdown",
   "metadata": {},
   "source": [
    "Plot animation of PES in time"
   ]
  },
  {
   "cell_type": "code",
   "execution_count": 442,
   "metadata": {
    "ExecuteTime": {
     "end_time": "2021-08-05T08:58:03.772207Z",
     "start_time": "2021-08-05T08:55:07.690751Z"
    }
   },
   "outputs": [
    {
     "data": {
      "application/javascript": [
       "/* Put everything inside the global mpl namespace */\n",
       "/* global mpl */\n",
       "window.mpl = {};\n",
       "\n",
       "mpl.get_websocket_type = function () {\n",
       "    if (typeof WebSocket !== 'undefined') {\n",
       "        return WebSocket;\n",
       "    } else if (typeof MozWebSocket !== 'undefined') {\n",
       "        return MozWebSocket;\n",
       "    } else {\n",
       "        alert(\n",
       "            'Your browser does not have WebSocket support. ' +\n",
       "                'Please try Chrome, Safari or Firefox ≥ 6. ' +\n",
       "                'Firefox 4 and 5 are also supported but you ' +\n",
       "                'have to enable WebSockets in about:config.'\n",
       "        );\n",
       "    }\n",
       "};\n",
       "\n",
       "mpl.figure = function (figure_id, websocket, ondownload, parent_element) {\n",
       "    this.id = figure_id;\n",
       "\n",
       "    this.ws = websocket;\n",
       "\n",
       "    this.supports_binary = this.ws.binaryType !== undefined;\n",
       "\n",
       "    if (!this.supports_binary) {\n",
       "        var warnings = document.getElementById('mpl-warnings');\n",
       "        if (warnings) {\n",
       "            warnings.style.display = 'block';\n",
       "            warnings.textContent =\n",
       "                'This browser does not support binary websocket messages. ' +\n",
       "                'Performance may be slow.';\n",
       "        }\n",
       "    }\n",
       "\n",
       "    this.imageObj = new Image();\n",
       "\n",
       "    this.context = undefined;\n",
       "    this.message = undefined;\n",
       "    this.canvas = undefined;\n",
       "    this.rubberband_canvas = undefined;\n",
       "    this.rubberband_context = undefined;\n",
       "    this.format_dropdown = undefined;\n",
       "\n",
       "    this.image_mode = 'full';\n",
       "\n",
       "    this.root = document.createElement('div');\n",
       "    this.root.setAttribute('style', 'display: inline-block');\n",
       "    this._root_extra_style(this.root);\n",
       "\n",
       "    parent_element.appendChild(this.root);\n",
       "\n",
       "    this._init_header(this);\n",
       "    this._init_canvas(this);\n",
       "    this._init_toolbar(this);\n",
       "\n",
       "    var fig = this;\n",
       "\n",
       "    this.waiting = false;\n",
       "\n",
       "    this.ws.onopen = function () {\n",
       "        fig.send_message('supports_binary', { value: fig.supports_binary });\n",
       "        fig.send_message('send_image_mode', {});\n",
       "        if (fig.ratio !== 1) {\n",
       "            fig.send_message('set_dpi_ratio', { dpi_ratio: fig.ratio });\n",
       "        }\n",
       "        fig.send_message('refresh', {});\n",
       "    };\n",
       "\n",
       "    this.imageObj.onload = function () {\n",
       "        if (fig.image_mode === 'full') {\n",
       "            // Full images could contain transparency (where diff images\n",
       "            // almost always do), so we need to clear the canvas so that\n",
       "            // there is no ghosting.\n",
       "            fig.context.clearRect(0, 0, fig.canvas.width, fig.canvas.height);\n",
       "        }\n",
       "        fig.context.drawImage(fig.imageObj, 0, 0);\n",
       "    };\n",
       "\n",
       "    this.imageObj.onunload = function () {\n",
       "        fig.ws.close();\n",
       "    };\n",
       "\n",
       "    this.ws.onmessage = this._make_on_message_function(this);\n",
       "\n",
       "    this.ondownload = ondownload;\n",
       "};\n",
       "\n",
       "mpl.figure.prototype._init_header = function () {\n",
       "    var titlebar = document.createElement('div');\n",
       "    titlebar.classList =\n",
       "        'ui-dialog-titlebar ui-widget-header ui-corner-all ui-helper-clearfix';\n",
       "    var titletext = document.createElement('div');\n",
       "    titletext.classList = 'ui-dialog-title';\n",
       "    titletext.setAttribute(\n",
       "        'style',\n",
       "        'width: 100%; text-align: center; padding: 3px;'\n",
       "    );\n",
       "    titlebar.appendChild(titletext);\n",
       "    this.root.appendChild(titlebar);\n",
       "    this.header = titletext;\n",
       "};\n",
       "\n",
       "mpl.figure.prototype._canvas_extra_style = function (_canvas_div) {};\n",
       "\n",
       "mpl.figure.prototype._root_extra_style = function (_canvas_div) {};\n",
       "\n",
       "mpl.figure.prototype._init_canvas = function () {\n",
       "    var fig = this;\n",
       "\n",
       "    var canvas_div = (this.canvas_div = document.createElement('div'));\n",
       "    canvas_div.setAttribute(\n",
       "        'style',\n",
       "        'border: 1px solid #ddd;' +\n",
       "            'box-sizing: content-box;' +\n",
       "            'clear: both;' +\n",
       "            'min-height: 1px;' +\n",
       "            'min-width: 1px;' +\n",
       "            'outline: 0;' +\n",
       "            'overflow: hidden;' +\n",
       "            'position: relative;' +\n",
       "            'resize: both;'\n",
       "    );\n",
       "\n",
       "    function on_keyboard_event_closure(name) {\n",
       "        return function (event) {\n",
       "            return fig.key_event(event, name);\n",
       "        };\n",
       "    }\n",
       "\n",
       "    canvas_div.addEventListener(\n",
       "        'keydown',\n",
       "        on_keyboard_event_closure('key_press')\n",
       "    );\n",
       "    canvas_div.addEventListener(\n",
       "        'keyup',\n",
       "        on_keyboard_event_closure('key_release')\n",
       "    );\n",
       "\n",
       "    this._canvas_extra_style(canvas_div);\n",
       "    this.root.appendChild(canvas_div);\n",
       "\n",
       "    var canvas = (this.canvas = document.createElement('canvas'));\n",
       "    canvas.classList.add('mpl-canvas');\n",
       "    canvas.setAttribute('style', 'box-sizing: content-box;');\n",
       "\n",
       "    this.context = canvas.getContext('2d');\n",
       "\n",
       "    var backingStore =\n",
       "        this.context.backingStorePixelRatio ||\n",
       "        this.context.webkitBackingStorePixelRatio ||\n",
       "        this.context.mozBackingStorePixelRatio ||\n",
       "        this.context.msBackingStorePixelRatio ||\n",
       "        this.context.oBackingStorePixelRatio ||\n",
       "        this.context.backingStorePixelRatio ||\n",
       "        1;\n",
       "\n",
       "    this.ratio = (window.devicePixelRatio || 1) / backingStore;\n",
       "\n",
       "    var rubberband_canvas = (this.rubberband_canvas = document.createElement(\n",
       "        'canvas'\n",
       "    ));\n",
       "    rubberband_canvas.setAttribute(\n",
       "        'style',\n",
       "        'box-sizing: content-box; position: absolute; left: 0; top: 0; z-index: 1;'\n",
       "    );\n",
       "\n",
       "    // Apply a ponyfill if ResizeObserver is not implemented by browser.\n",
       "    if (this.ResizeObserver === undefined) {\n",
       "        if (window.ResizeObserver !== undefined) {\n",
       "            this.ResizeObserver = window.ResizeObserver;\n",
       "        } else {\n",
       "            var obs = _JSXTOOLS_RESIZE_OBSERVER({});\n",
       "            this.ResizeObserver = obs.ResizeObserver;\n",
       "        }\n",
       "    }\n",
       "\n",
       "    this.resizeObserverInstance = new this.ResizeObserver(function (entries) {\n",
       "        var nentries = entries.length;\n",
       "        for (var i = 0; i < nentries; i++) {\n",
       "            var entry = entries[i];\n",
       "            var width, height;\n",
       "            if (entry.contentBoxSize) {\n",
       "                if (entry.contentBoxSize instanceof Array) {\n",
       "                    // Chrome 84 implements new version of spec.\n",
       "                    width = entry.contentBoxSize[0].inlineSize;\n",
       "                    height = entry.contentBoxSize[0].blockSize;\n",
       "                } else {\n",
       "                    // Firefox implements old version of spec.\n",
       "                    width = entry.contentBoxSize.inlineSize;\n",
       "                    height = entry.contentBoxSize.blockSize;\n",
       "                }\n",
       "            } else {\n",
       "                // Chrome <84 implements even older version of spec.\n",
       "                width = entry.contentRect.width;\n",
       "                height = entry.contentRect.height;\n",
       "            }\n",
       "\n",
       "            // Keep the size of the canvas and rubber band canvas in sync with\n",
       "            // the canvas container.\n",
       "            if (entry.devicePixelContentBoxSize) {\n",
       "                // Chrome 84 implements new version of spec.\n",
       "                canvas.setAttribute(\n",
       "                    'width',\n",
       "                    entry.devicePixelContentBoxSize[0].inlineSize\n",
       "                );\n",
       "                canvas.setAttribute(\n",
       "                    'height',\n",
       "                    entry.devicePixelContentBoxSize[0].blockSize\n",
       "                );\n",
       "            } else {\n",
       "                canvas.setAttribute('width', width * fig.ratio);\n",
       "                canvas.setAttribute('height', height * fig.ratio);\n",
       "            }\n",
       "            canvas.setAttribute(\n",
       "                'style',\n",
       "                'width: ' + width + 'px; height: ' + height + 'px;'\n",
       "            );\n",
       "\n",
       "            rubberband_canvas.setAttribute('width', width);\n",
       "            rubberband_canvas.setAttribute('height', height);\n",
       "\n",
       "            // And update the size in Python. We ignore the initial 0/0 size\n",
       "            // that occurs as the element is placed into the DOM, which should\n",
       "            // otherwise not happen due to the minimum size styling.\n",
       "            if (fig.ws.readyState == 1 && width != 0 && height != 0) {\n",
       "                fig.request_resize(width, height);\n",
       "            }\n",
       "        }\n",
       "    });\n",
       "    this.resizeObserverInstance.observe(canvas_div);\n",
       "\n",
       "    function on_mouse_event_closure(name) {\n",
       "        return function (event) {\n",
       "            return fig.mouse_event(event, name);\n",
       "        };\n",
       "    }\n",
       "\n",
       "    rubberband_canvas.addEventListener(\n",
       "        'mousedown',\n",
       "        on_mouse_event_closure('button_press')\n",
       "    );\n",
       "    rubberband_canvas.addEventListener(\n",
       "        'mouseup',\n",
       "        on_mouse_event_closure('button_release')\n",
       "    );\n",
       "    // Throttle sequential mouse events to 1 every 20ms.\n",
       "    rubberband_canvas.addEventListener(\n",
       "        'mousemove',\n",
       "        on_mouse_event_closure('motion_notify')\n",
       "    );\n",
       "\n",
       "    rubberband_canvas.addEventListener(\n",
       "        'mouseenter',\n",
       "        on_mouse_event_closure('figure_enter')\n",
       "    );\n",
       "    rubberband_canvas.addEventListener(\n",
       "        'mouseleave',\n",
       "        on_mouse_event_closure('figure_leave')\n",
       "    );\n",
       "\n",
       "    canvas_div.addEventListener('wheel', function (event) {\n",
       "        if (event.deltaY < 0) {\n",
       "            event.step = 1;\n",
       "        } else {\n",
       "            event.step = -1;\n",
       "        }\n",
       "        on_mouse_event_closure('scroll')(event);\n",
       "    });\n",
       "\n",
       "    canvas_div.appendChild(canvas);\n",
       "    canvas_div.appendChild(rubberband_canvas);\n",
       "\n",
       "    this.rubberband_context = rubberband_canvas.getContext('2d');\n",
       "    this.rubberband_context.strokeStyle = '#000000';\n",
       "\n",
       "    this._resize_canvas = function (width, height, forward) {\n",
       "        if (forward) {\n",
       "            canvas_div.style.width = width + 'px';\n",
       "            canvas_div.style.height = height + 'px';\n",
       "        }\n",
       "    };\n",
       "\n",
       "    // Disable right mouse context menu.\n",
       "    this.rubberband_canvas.addEventListener('contextmenu', function (_e) {\n",
       "        event.preventDefault();\n",
       "        return false;\n",
       "    });\n",
       "\n",
       "    function set_focus() {\n",
       "        canvas.focus();\n",
       "        canvas_div.focus();\n",
       "    }\n",
       "\n",
       "    window.setTimeout(set_focus, 100);\n",
       "};\n",
       "\n",
       "mpl.figure.prototype._init_toolbar = function () {\n",
       "    var fig = this;\n",
       "\n",
       "    var toolbar = document.createElement('div');\n",
       "    toolbar.classList = 'mpl-toolbar';\n",
       "    this.root.appendChild(toolbar);\n",
       "\n",
       "    function on_click_closure(name) {\n",
       "        return function (_event) {\n",
       "            return fig.toolbar_button_onclick(name);\n",
       "        };\n",
       "    }\n",
       "\n",
       "    function on_mouseover_closure(tooltip) {\n",
       "        return function (event) {\n",
       "            if (!event.currentTarget.disabled) {\n",
       "                return fig.toolbar_button_onmouseover(tooltip);\n",
       "            }\n",
       "        };\n",
       "    }\n",
       "\n",
       "    fig.buttons = {};\n",
       "    var buttonGroup = document.createElement('div');\n",
       "    buttonGroup.classList = 'mpl-button-group';\n",
       "    for (var toolbar_ind in mpl.toolbar_items) {\n",
       "        var name = mpl.toolbar_items[toolbar_ind][0];\n",
       "        var tooltip = mpl.toolbar_items[toolbar_ind][1];\n",
       "        var image = mpl.toolbar_items[toolbar_ind][2];\n",
       "        var method_name = mpl.toolbar_items[toolbar_ind][3];\n",
       "\n",
       "        if (!name) {\n",
       "            /* Instead of a spacer, we start a new button group. */\n",
       "            if (buttonGroup.hasChildNodes()) {\n",
       "                toolbar.appendChild(buttonGroup);\n",
       "            }\n",
       "            buttonGroup = document.createElement('div');\n",
       "            buttonGroup.classList = 'mpl-button-group';\n",
       "            continue;\n",
       "        }\n",
       "\n",
       "        var button = (fig.buttons[name] = document.createElement('button'));\n",
       "        button.classList = 'mpl-widget';\n",
       "        button.setAttribute('role', 'button');\n",
       "        button.setAttribute('aria-disabled', 'false');\n",
       "        button.addEventListener('click', on_click_closure(method_name));\n",
       "        button.addEventListener('mouseover', on_mouseover_closure(tooltip));\n",
       "\n",
       "        var icon_img = document.createElement('img');\n",
       "        icon_img.src = '_images/' + image + '.png';\n",
       "        icon_img.srcset = '_images/' + image + '_large.png 2x';\n",
       "        icon_img.alt = tooltip;\n",
       "        button.appendChild(icon_img);\n",
       "\n",
       "        buttonGroup.appendChild(button);\n",
       "    }\n",
       "\n",
       "    if (buttonGroup.hasChildNodes()) {\n",
       "        toolbar.appendChild(buttonGroup);\n",
       "    }\n",
       "\n",
       "    var fmt_picker = document.createElement('select');\n",
       "    fmt_picker.classList = 'mpl-widget';\n",
       "    toolbar.appendChild(fmt_picker);\n",
       "    this.format_dropdown = fmt_picker;\n",
       "\n",
       "    for (var ind in mpl.extensions) {\n",
       "        var fmt = mpl.extensions[ind];\n",
       "        var option = document.createElement('option');\n",
       "        option.selected = fmt === mpl.default_extension;\n",
       "        option.innerHTML = fmt;\n",
       "        fmt_picker.appendChild(option);\n",
       "    }\n",
       "\n",
       "    var status_bar = document.createElement('span');\n",
       "    status_bar.classList = 'mpl-message';\n",
       "    toolbar.appendChild(status_bar);\n",
       "    this.message = status_bar;\n",
       "};\n",
       "\n",
       "mpl.figure.prototype.request_resize = function (x_pixels, y_pixels) {\n",
       "    // Request matplotlib to resize the figure. Matplotlib will then trigger a resize in the client,\n",
       "    // which will in turn request a refresh of the image.\n",
       "    this.send_message('resize', { width: x_pixels, height: y_pixels });\n",
       "};\n",
       "\n",
       "mpl.figure.prototype.send_message = function (type, properties) {\n",
       "    properties['type'] = type;\n",
       "    properties['figure_id'] = this.id;\n",
       "    this.ws.send(JSON.stringify(properties));\n",
       "};\n",
       "\n",
       "mpl.figure.prototype.send_draw_message = function () {\n",
       "    if (!this.waiting) {\n",
       "        this.waiting = true;\n",
       "        this.ws.send(JSON.stringify({ type: 'draw', figure_id: this.id }));\n",
       "    }\n",
       "};\n",
       "\n",
       "mpl.figure.prototype.handle_save = function (fig, _msg) {\n",
       "    var format_dropdown = fig.format_dropdown;\n",
       "    var format = format_dropdown.options[format_dropdown.selectedIndex].value;\n",
       "    fig.ondownload(fig, format);\n",
       "};\n",
       "\n",
       "mpl.figure.prototype.handle_resize = function (fig, msg) {\n",
       "    var size = msg['size'];\n",
       "    if (size[0] !== fig.canvas.width || size[1] !== fig.canvas.height) {\n",
       "        fig._resize_canvas(size[0], size[1], msg['forward']);\n",
       "        fig.send_message('refresh', {});\n",
       "    }\n",
       "};\n",
       "\n",
       "mpl.figure.prototype.handle_rubberband = function (fig, msg) {\n",
       "    var x0 = msg['x0'] / fig.ratio;\n",
       "    var y0 = (fig.canvas.height - msg['y0']) / fig.ratio;\n",
       "    var x1 = msg['x1'] / fig.ratio;\n",
       "    var y1 = (fig.canvas.height - msg['y1']) / fig.ratio;\n",
       "    x0 = Math.floor(x0) + 0.5;\n",
       "    y0 = Math.floor(y0) + 0.5;\n",
       "    x1 = Math.floor(x1) + 0.5;\n",
       "    y1 = Math.floor(y1) + 0.5;\n",
       "    var min_x = Math.min(x0, x1);\n",
       "    var min_y = Math.min(y0, y1);\n",
       "    var width = Math.abs(x1 - x0);\n",
       "    var height = Math.abs(y1 - y0);\n",
       "\n",
       "    fig.rubberband_context.clearRect(\n",
       "        0,\n",
       "        0,\n",
       "        fig.canvas.width / fig.ratio,\n",
       "        fig.canvas.height / fig.ratio\n",
       "    );\n",
       "\n",
       "    fig.rubberband_context.strokeRect(min_x, min_y, width, height);\n",
       "};\n",
       "\n",
       "mpl.figure.prototype.handle_figure_label = function (fig, msg) {\n",
       "    // Updates the figure title.\n",
       "    fig.header.textContent = msg['label'];\n",
       "};\n",
       "\n",
       "mpl.figure.prototype.handle_cursor = function (fig, msg) {\n",
       "    var cursor = msg['cursor'];\n",
       "    switch (cursor) {\n",
       "        case 0:\n",
       "            cursor = 'pointer';\n",
       "            break;\n",
       "        case 1:\n",
       "            cursor = 'default';\n",
       "            break;\n",
       "        case 2:\n",
       "            cursor = 'crosshair';\n",
       "            break;\n",
       "        case 3:\n",
       "            cursor = 'move';\n",
       "            break;\n",
       "    }\n",
       "    fig.rubberband_canvas.style.cursor = cursor;\n",
       "};\n",
       "\n",
       "mpl.figure.prototype.handle_message = function (fig, msg) {\n",
       "    fig.message.textContent = msg['message'];\n",
       "};\n",
       "\n",
       "mpl.figure.prototype.handle_draw = function (fig, _msg) {\n",
       "    // Request the server to send over a new figure.\n",
       "    fig.send_draw_message();\n",
       "};\n",
       "\n",
       "mpl.figure.prototype.handle_image_mode = function (fig, msg) {\n",
       "    fig.image_mode = msg['mode'];\n",
       "};\n",
       "\n",
       "mpl.figure.prototype.handle_history_buttons = function (fig, msg) {\n",
       "    for (var key in msg) {\n",
       "        if (!(key in fig.buttons)) {\n",
       "            continue;\n",
       "        }\n",
       "        fig.buttons[key].disabled = !msg[key];\n",
       "        fig.buttons[key].setAttribute('aria-disabled', !msg[key]);\n",
       "    }\n",
       "};\n",
       "\n",
       "mpl.figure.prototype.handle_navigate_mode = function (fig, msg) {\n",
       "    if (msg['mode'] === 'PAN') {\n",
       "        fig.buttons['Pan'].classList.add('active');\n",
       "        fig.buttons['Zoom'].classList.remove('active');\n",
       "    } else if (msg['mode'] === 'ZOOM') {\n",
       "        fig.buttons['Pan'].classList.remove('active');\n",
       "        fig.buttons['Zoom'].classList.add('active');\n",
       "    } else {\n",
       "        fig.buttons['Pan'].classList.remove('active');\n",
       "        fig.buttons['Zoom'].classList.remove('active');\n",
       "    }\n",
       "};\n",
       "\n",
       "mpl.figure.prototype.updated_canvas_event = function () {\n",
       "    // Called whenever the canvas gets updated.\n",
       "    this.send_message('ack', {});\n",
       "};\n",
       "\n",
       "// A function to construct a web socket function for onmessage handling.\n",
       "// Called in the figure constructor.\n",
       "mpl.figure.prototype._make_on_message_function = function (fig) {\n",
       "    return function socket_on_message(evt) {\n",
       "        if (evt.data instanceof Blob) {\n",
       "            /* FIXME: We get \"Resource interpreted as Image but\n",
       "             * transferred with MIME type text/plain:\" errors on\n",
       "             * Chrome.  But how to set the MIME type?  It doesn't seem\n",
       "             * to be part of the websocket stream */\n",
       "            evt.data.type = 'image/png';\n",
       "\n",
       "            /* Free the memory for the previous frames */\n",
       "            if (fig.imageObj.src) {\n",
       "                (window.URL || window.webkitURL).revokeObjectURL(\n",
       "                    fig.imageObj.src\n",
       "                );\n",
       "            }\n",
       "\n",
       "            fig.imageObj.src = (window.URL || window.webkitURL).createObjectURL(\n",
       "                evt.data\n",
       "            );\n",
       "            fig.updated_canvas_event();\n",
       "            fig.waiting = false;\n",
       "            return;\n",
       "        } else if (\n",
       "            typeof evt.data === 'string' &&\n",
       "            evt.data.slice(0, 21) === 'data:image/png;base64'\n",
       "        ) {\n",
       "            fig.imageObj.src = evt.data;\n",
       "            fig.updated_canvas_event();\n",
       "            fig.waiting = false;\n",
       "            return;\n",
       "        }\n",
       "\n",
       "        var msg = JSON.parse(evt.data);\n",
       "        var msg_type = msg['type'];\n",
       "\n",
       "        // Call the  \"handle_{type}\" callback, which takes\n",
       "        // the figure and JSON message as its only arguments.\n",
       "        try {\n",
       "            var callback = fig['handle_' + msg_type];\n",
       "        } catch (e) {\n",
       "            console.log(\n",
       "                \"No handler for the '\" + msg_type + \"' message type: \",\n",
       "                msg\n",
       "            );\n",
       "            return;\n",
       "        }\n",
       "\n",
       "        if (callback) {\n",
       "            try {\n",
       "                // console.log(\"Handling '\" + msg_type + \"' message: \", msg);\n",
       "                callback(fig, msg);\n",
       "            } catch (e) {\n",
       "                console.log(\n",
       "                    \"Exception inside the 'handler_\" + msg_type + \"' callback:\",\n",
       "                    e,\n",
       "                    e.stack,\n",
       "                    msg\n",
       "                );\n",
       "            }\n",
       "        }\n",
       "    };\n",
       "};\n",
       "\n",
       "// from http://stackoverflow.com/questions/1114465/getting-mouse-location-in-canvas\n",
       "mpl.findpos = function (e) {\n",
       "    //this section is from http://www.quirksmode.org/js/events_properties.html\n",
       "    var targ;\n",
       "    if (!e) {\n",
       "        e = window.event;\n",
       "    }\n",
       "    if (e.target) {\n",
       "        targ = e.target;\n",
       "    } else if (e.srcElement) {\n",
       "        targ = e.srcElement;\n",
       "    }\n",
       "    if (targ.nodeType === 3) {\n",
       "        // defeat Safari bug\n",
       "        targ = targ.parentNode;\n",
       "    }\n",
       "\n",
       "    // pageX,Y are the mouse positions relative to the document\n",
       "    var boundingRect = targ.getBoundingClientRect();\n",
       "    var x = e.pageX - (boundingRect.left + document.body.scrollLeft);\n",
       "    var y = e.pageY - (boundingRect.top + document.body.scrollTop);\n",
       "\n",
       "    return { x: x, y: y };\n",
       "};\n",
       "\n",
       "/*\n",
       " * return a copy of an object with only non-object keys\n",
       " * we need this to avoid circular references\n",
       " * http://stackoverflow.com/a/24161582/3208463\n",
       " */\n",
       "function simpleKeys(original) {\n",
       "    return Object.keys(original).reduce(function (obj, key) {\n",
       "        if (typeof original[key] !== 'object') {\n",
       "            obj[key] = original[key];\n",
       "        }\n",
       "        return obj;\n",
       "    }, {});\n",
       "}\n",
       "\n",
       "mpl.figure.prototype.mouse_event = function (event, name) {\n",
       "    var canvas_pos = mpl.findpos(event);\n",
       "\n",
       "    if (name === 'button_press') {\n",
       "        this.canvas.focus();\n",
       "        this.canvas_div.focus();\n",
       "    }\n",
       "\n",
       "    var x = canvas_pos.x * this.ratio;\n",
       "    var y = canvas_pos.y * this.ratio;\n",
       "\n",
       "    this.send_message(name, {\n",
       "        x: x,\n",
       "        y: y,\n",
       "        button: event.button,\n",
       "        step: event.step,\n",
       "        guiEvent: simpleKeys(event),\n",
       "    });\n",
       "\n",
       "    /* This prevents the web browser from automatically changing to\n",
       "     * the text insertion cursor when the button is pressed.  We want\n",
       "     * to control all of the cursor setting manually through the\n",
       "     * 'cursor' event from matplotlib */\n",
       "    event.preventDefault();\n",
       "    return false;\n",
       "};\n",
       "\n",
       "mpl.figure.prototype._key_event_extra = function (_event, _name) {\n",
       "    // Handle any extra behaviour associated with a key event\n",
       "};\n",
       "\n",
       "mpl.figure.prototype.key_event = function (event, name) {\n",
       "    // Prevent repeat events\n",
       "    if (name === 'key_press') {\n",
       "        if (event.which === this._key) {\n",
       "            return;\n",
       "        } else {\n",
       "            this._key = event.which;\n",
       "        }\n",
       "    }\n",
       "    if (name === 'key_release') {\n",
       "        this._key = null;\n",
       "    }\n",
       "\n",
       "    var value = '';\n",
       "    if (event.ctrlKey && event.which !== 17) {\n",
       "        value += 'ctrl+';\n",
       "    }\n",
       "    if (event.altKey && event.which !== 18) {\n",
       "        value += 'alt+';\n",
       "    }\n",
       "    if (event.shiftKey && event.which !== 16) {\n",
       "        value += 'shift+';\n",
       "    }\n",
       "\n",
       "    value += 'k';\n",
       "    value += event.which.toString();\n",
       "\n",
       "    this._key_event_extra(event, name);\n",
       "\n",
       "    this.send_message(name, { key: value, guiEvent: simpleKeys(event) });\n",
       "    return false;\n",
       "};\n",
       "\n",
       "mpl.figure.prototype.toolbar_button_onclick = function (name) {\n",
       "    if (name === 'download') {\n",
       "        this.handle_save(this, null);\n",
       "    } else {\n",
       "        this.send_message('toolbar_button', { name: name });\n",
       "    }\n",
       "};\n",
       "\n",
       "mpl.figure.prototype.toolbar_button_onmouseover = function (tooltip) {\n",
       "    this.message.textContent = tooltip;\n",
       "};\n",
       "\n",
       "///////////////// REMAINING CONTENT GENERATED BY embed_js.py /////////////////\n",
       "// prettier-ignore\n",
       "var _JSXTOOLS_RESIZE_OBSERVER=function(A){var t,i=new WeakMap,n=new WeakMap,a=new WeakMap,r=new WeakMap,o=new Set;function s(e){if(!(this instanceof s))throw new TypeError(\"Constructor requires 'new' operator\");i.set(this,e)}function h(){throw new TypeError(\"Function is not a constructor\")}function c(e,t,i,n){e=0 in arguments?Number(arguments[0]):0,t=1 in arguments?Number(arguments[1]):0,i=2 in arguments?Number(arguments[2]):0,n=3 in arguments?Number(arguments[3]):0,this.right=(this.x=this.left=e)+(this.width=i),this.bottom=(this.y=this.top=t)+(this.height=n),Object.freeze(this)}function d(){t=requestAnimationFrame(d);var s=new WeakMap,p=new Set;o.forEach((function(t){r.get(t).forEach((function(i){var r=t instanceof window.SVGElement,o=a.get(t),d=r?0:parseFloat(o.paddingTop),f=r?0:parseFloat(o.paddingRight),l=r?0:parseFloat(o.paddingBottom),u=r?0:parseFloat(o.paddingLeft),g=r?0:parseFloat(o.borderTopWidth),m=r?0:parseFloat(o.borderRightWidth),w=r?0:parseFloat(o.borderBottomWidth),b=u+f,F=d+l,v=(r?0:parseFloat(o.borderLeftWidth))+m,W=g+w,y=r?0:t.offsetHeight-W-t.clientHeight,E=r?0:t.offsetWidth-v-t.clientWidth,R=b+v,z=F+W,M=r?t.width:parseFloat(o.width)-R-E,O=r?t.height:parseFloat(o.height)-z-y;if(n.has(t)){var k=n.get(t);if(k[0]===M&&k[1]===O)return}n.set(t,[M,O]);var S=Object.create(h.prototype);S.target=t,S.contentRect=new c(u,d,M,O),s.has(i)||(s.set(i,[]),p.add(i)),s.get(i).push(S)}))})),p.forEach((function(e){i.get(e).call(e,s.get(e),e)}))}return s.prototype.observe=function(i){if(i instanceof window.Element){r.has(i)||(r.set(i,new Set),o.add(i),a.set(i,window.getComputedStyle(i)));var n=r.get(i);n.has(this)||n.add(this),cancelAnimationFrame(t),t=requestAnimationFrame(d)}},s.prototype.unobserve=function(i){if(i instanceof window.Element&&r.has(i)){var n=r.get(i);n.has(this)&&(n.delete(this),n.size||(r.delete(i),o.delete(i))),n.size||r.delete(i),o.size||cancelAnimationFrame(t)}},A.DOMRectReadOnly=c,A.ResizeObserver=s,A.ResizeObserverEntry=h,A}; // eslint-disable-line\n",
       "mpl.toolbar_items = [[\"Home\", \"Reset original view\", \"fa fa-home icon-home\", \"home\"], [\"Back\", \"Back to previous view\", \"fa fa-arrow-left icon-arrow-left\", \"back\"], [\"Forward\", \"Forward to next view\", \"fa fa-arrow-right icon-arrow-right\", \"forward\"], [\"\", \"\", \"\", \"\"], [\"Pan\", \"Left button pans, Right button zooms\\nx/y fixes axis, CTRL fixes aspect\", \"fa fa-arrows icon-move\", \"pan\"], [\"Zoom\", \"Zoom to rectangle\\nx/y fixes axis, CTRL fixes aspect\", \"fa fa-square-o icon-check-empty\", \"zoom\"], [\"\", \"\", \"\", \"\"], [\"Download\", \"Download plot\", \"fa fa-floppy-o icon-save\", \"download\"]];\n",
       "\n",
       "mpl.extensions = [\"eps\", \"jpeg\", \"pdf\", \"png\", \"ps\", \"raw\", \"svg\", \"tif\"];\n",
       "\n",
       "mpl.default_extension = \"png\";/* global mpl */\n",
       "\n",
       "var comm_websocket_adapter = function (comm) {\n",
       "    // Create a \"websocket\"-like object which calls the given IPython comm\n",
       "    // object with the appropriate methods. Currently this is a non binary\n",
       "    // socket, so there is still some room for performance tuning.\n",
       "    var ws = {};\n",
       "\n",
       "    ws.close = function () {\n",
       "        comm.close();\n",
       "    };\n",
       "    ws.send = function (m) {\n",
       "        //console.log('sending', m);\n",
       "        comm.send(m);\n",
       "    };\n",
       "    // Register the callback with on_msg.\n",
       "    comm.on_msg(function (msg) {\n",
       "        //console.log('receiving', msg['content']['data'], msg);\n",
       "        // Pass the mpl event to the overridden (by mpl) onmessage function.\n",
       "        ws.onmessage(msg['content']['data']);\n",
       "    });\n",
       "    return ws;\n",
       "};\n",
       "\n",
       "mpl.mpl_figure_comm = function (comm, msg) {\n",
       "    // This is the function which gets called when the mpl process\n",
       "    // starts-up an IPython Comm through the \"matplotlib\" channel.\n",
       "\n",
       "    var id = msg.content.data.id;\n",
       "    // Get hold of the div created by the display call when the Comm\n",
       "    // socket was opened in Python.\n",
       "    var element = document.getElementById(id);\n",
       "    var ws_proxy = comm_websocket_adapter(comm);\n",
       "\n",
       "    function ondownload(figure, _format) {\n",
       "        window.open(figure.canvas.toDataURL());\n",
       "    }\n",
       "\n",
       "    var fig = new mpl.figure(id, ws_proxy, ondownload, element);\n",
       "\n",
       "    // Call onopen now - mpl needs it, as it is assuming we've passed it a real\n",
       "    // web socket which is closed, not our websocket->open comm proxy.\n",
       "    ws_proxy.onopen();\n",
       "\n",
       "    fig.parent_element = element;\n",
       "    fig.cell_info = mpl.find_output_cell(\"<div id='\" + id + \"'></div>\");\n",
       "    if (!fig.cell_info) {\n",
       "        console.error('Failed to find cell for figure', id, fig);\n",
       "        return;\n",
       "    }\n",
       "    fig.cell_info[0].output_area.element.on(\n",
       "        'cleared',\n",
       "        { fig: fig },\n",
       "        fig._remove_fig_handler\n",
       "    );\n",
       "};\n",
       "\n",
       "mpl.figure.prototype.handle_close = function (fig, msg) {\n",
       "    var width = fig.canvas.width / fig.ratio;\n",
       "    fig.cell_info[0].output_area.element.off(\n",
       "        'cleared',\n",
       "        fig._remove_fig_handler\n",
       "    );\n",
       "    fig.resizeObserverInstance.unobserve(fig.canvas_div);\n",
       "\n",
       "    // Update the output cell to use the data from the current canvas.\n",
       "    fig.push_to_output();\n",
       "    var dataURL = fig.canvas.toDataURL();\n",
       "    // Re-enable the keyboard manager in IPython - without this line, in FF,\n",
       "    // the notebook keyboard shortcuts fail.\n",
       "    IPython.keyboard_manager.enable();\n",
       "    fig.parent_element.innerHTML =\n",
       "        '<img src=\"' + dataURL + '\" width=\"' + width + '\">';\n",
       "    fig.close_ws(fig, msg);\n",
       "};\n",
       "\n",
       "mpl.figure.prototype.close_ws = function (fig, msg) {\n",
       "    fig.send_message('closing', msg);\n",
       "    // fig.ws.close()\n",
       "};\n",
       "\n",
       "mpl.figure.prototype.push_to_output = function (_remove_interactive) {\n",
       "    // Turn the data on the canvas into data in the output cell.\n",
       "    var width = this.canvas.width / this.ratio;\n",
       "    var dataURL = this.canvas.toDataURL();\n",
       "    this.cell_info[1]['text/html'] =\n",
       "        '<img src=\"' + dataURL + '\" width=\"' + width + '\">';\n",
       "};\n",
       "\n",
       "mpl.figure.prototype.updated_canvas_event = function () {\n",
       "    // Tell IPython that the notebook contents must change.\n",
       "    IPython.notebook.set_dirty(true);\n",
       "    this.send_message('ack', {});\n",
       "    var fig = this;\n",
       "    // Wait a second, then push the new image to the DOM so\n",
       "    // that it is saved nicely (might be nice to debounce this).\n",
       "    setTimeout(function () {\n",
       "        fig.push_to_output();\n",
       "    }, 1000);\n",
       "};\n",
       "\n",
       "mpl.figure.prototype._init_toolbar = function () {\n",
       "    var fig = this;\n",
       "\n",
       "    var toolbar = document.createElement('div');\n",
       "    toolbar.classList = 'btn-toolbar';\n",
       "    this.root.appendChild(toolbar);\n",
       "\n",
       "    function on_click_closure(name) {\n",
       "        return function (_event) {\n",
       "            return fig.toolbar_button_onclick(name);\n",
       "        };\n",
       "    }\n",
       "\n",
       "    function on_mouseover_closure(tooltip) {\n",
       "        return function (event) {\n",
       "            if (!event.currentTarget.disabled) {\n",
       "                return fig.toolbar_button_onmouseover(tooltip);\n",
       "            }\n",
       "        };\n",
       "    }\n",
       "\n",
       "    fig.buttons = {};\n",
       "    var buttonGroup = document.createElement('div');\n",
       "    buttonGroup.classList = 'btn-group';\n",
       "    var button;\n",
       "    for (var toolbar_ind in mpl.toolbar_items) {\n",
       "        var name = mpl.toolbar_items[toolbar_ind][0];\n",
       "        var tooltip = mpl.toolbar_items[toolbar_ind][1];\n",
       "        var image = mpl.toolbar_items[toolbar_ind][2];\n",
       "        var method_name = mpl.toolbar_items[toolbar_ind][3];\n",
       "\n",
       "        if (!name) {\n",
       "            /* Instead of a spacer, we start a new button group. */\n",
       "            if (buttonGroup.hasChildNodes()) {\n",
       "                toolbar.appendChild(buttonGroup);\n",
       "            }\n",
       "            buttonGroup = document.createElement('div');\n",
       "            buttonGroup.classList = 'btn-group';\n",
       "            continue;\n",
       "        }\n",
       "\n",
       "        button = fig.buttons[name] = document.createElement('button');\n",
       "        button.classList = 'btn btn-default';\n",
       "        button.href = '#';\n",
       "        button.title = name;\n",
       "        button.innerHTML = '<i class=\"fa ' + image + ' fa-lg\"></i>';\n",
       "        button.addEventListener('click', on_click_closure(method_name));\n",
       "        button.addEventListener('mouseover', on_mouseover_closure(tooltip));\n",
       "        buttonGroup.appendChild(button);\n",
       "    }\n",
       "\n",
       "    if (buttonGroup.hasChildNodes()) {\n",
       "        toolbar.appendChild(buttonGroup);\n",
       "    }\n",
       "\n",
       "    // Add the status bar.\n",
       "    var status_bar = document.createElement('span');\n",
       "    status_bar.classList = 'mpl-message pull-right';\n",
       "    toolbar.appendChild(status_bar);\n",
       "    this.message = status_bar;\n",
       "\n",
       "    // Add the close button to the window.\n",
       "    var buttongrp = document.createElement('div');\n",
       "    buttongrp.classList = 'btn-group inline pull-right';\n",
       "    button = document.createElement('button');\n",
       "    button.classList = 'btn btn-mini btn-primary';\n",
       "    button.href = '#';\n",
       "    button.title = 'Stop Interaction';\n",
       "    button.innerHTML = '<i class=\"fa fa-power-off icon-remove icon-large\"></i>';\n",
       "    button.addEventListener('click', function (_evt) {\n",
       "        fig.handle_close(fig, {});\n",
       "    });\n",
       "    button.addEventListener(\n",
       "        'mouseover',\n",
       "        on_mouseover_closure('Stop Interaction')\n",
       "    );\n",
       "    buttongrp.appendChild(button);\n",
       "    var titlebar = this.root.querySelector('.ui-dialog-titlebar');\n",
       "    titlebar.insertBefore(buttongrp, titlebar.firstChild);\n",
       "};\n",
       "\n",
       "mpl.figure.prototype._remove_fig_handler = function (event) {\n",
       "    var fig = event.data.fig;\n",
       "    if (event.target !== this) {\n",
       "        // Ignore bubbled events from children.\n",
       "        return;\n",
       "    }\n",
       "    fig.close_ws(fig, {});\n",
       "};\n",
       "\n",
       "mpl.figure.prototype._root_extra_style = function (el) {\n",
       "    el.style.boxSizing = 'content-box'; // override notebook setting of border-box.\n",
       "};\n",
       "\n",
       "mpl.figure.prototype._canvas_extra_style = function (el) {\n",
       "    // this is important to make the div 'focusable\n",
       "    el.setAttribute('tabindex', 0);\n",
       "    // reach out to IPython and tell the keyboard manager to turn it's self\n",
       "    // off when our div gets focus\n",
       "\n",
       "    // location in version 3\n",
       "    if (IPython.notebook.keyboard_manager) {\n",
       "        IPython.notebook.keyboard_manager.register_events(el);\n",
       "    } else {\n",
       "        // location in version 2\n",
       "        IPython.keyboard_manager.register_events(el);\n",
       "    }\n",
       "};\n",
       "\n",
       "mpl.figure.prototype._key_event_extra = function (event, _name) {\n",
       "    var manager = IPython.notebook.keyboard_manager;\n",
       "    if (!manager) {\n",
       "        manager = IPython.keyboard_manager;\n",
       "    }\n",
       "\n",
       "    // Check for shift+enter\n",
       "    if (event.shiftKey && event.which === 13) {\n",
       "        this.canvas_div.blur();\n",
       "        // select the cell after this one\n",
       "        var index = IPython.notebook.find_cell_index(this.cell_info[0]);\n",
       "        IPython.notebook.select(index + 1);\n",
       "    }\n",
       "};\n",
       "\n",
       "mpl.figure.prototype.handle_save = function (fig, _msg) {\n",
       "    fig.ondownload(fig, null);\n",
       "};\n",
       "\n",
       "mpl.find_output_cell = function (html_output) {\n",
       "    // Return the cell and output element which can be found *uniquely* in the notebook.\n",
       "    // Note - this is a bit hacky, but it is done because the \"notebook_saving.Notebook\"\n",
       "    // IPython event is triggered only after the cells have been serialised, which for\n",
       "    // our purposes (turning an active figure into a static one), is too late.\n",
       "    var cells = IPython.notebook.get_cells();\n",
       "    var ncells = cells.length;\n",
       "    for (var i = 0; i < ncells; i++) {\n",
       "        var cell = cells[i];\n",
       "        if (cell.cell_type === 'code') {\n",
       "            for (var j = 0; j < cell.output_area.outputs.length; j++) {\n",
       "                var data = cell.output_area.outputs[j];\n",
       "                if (data.data) {\n",
       "                    // IPython >= 3 moved mimebundle to data attribute of output\n",
       "                    data = data.data;\n",
       "                }\n",
       "                if (data['text/html'] === html_output) {\n",
       "                    return [cell, data, j];\n",
       "                }\n",
       "            }\n",
       "        }\n",
       "    }\n",
       "};\n",
       "\n",
       "// Register the function which deals with the matplotlib target/channel.\n",
       "// The kernel may be null if the page has been refreshed.\n",
       "if (IPython.notebook.kernel !== null) {\n",
       "    IPython.notebook.kernel.comm_manager.register_target(\n",
       "        'matplotlib',\n",
       "        mpl.mpl_figure_comm\n",
       "    );\n",
       "}\n"
      ],
      "text/plain": [
       "<IPython.core.display.Javascript object>"
      ]
     },
     "metadata": {},
     "output_type": "display_data"
    },
    {
     "data": {
      "text/html": [
       "<img src=\"data:image/png;base64,iVBORw0KGgoAAAANSUhEUgAAA8AAAALQCAYAAABfdxm0AAAAAXNSR0IArs4c6QAAIABJREFUeF7snQeYVNX5hz9YFliWKlVREJCqgBRBFEEFxN5LNGoATWKCYiSxl6hoLDFG+VuiCRaU2GKJPSKxoBTpIEqRXqT3viz8n+/gbGZ2Z3fvzJnvnvPN/d3nmWdl955zv/u+M5797b33nAr79+/fT9hAAARAAARAAARAAARAAARAAARAIMsJVEAAznLDOD0QAAEQAAEQAAEQAAEQAAEQAAFDAAEYbwQQAAEQAAEQAAEQAAEQAAEQAIFIEEAAjoRmnCQIgAAIgAAIgAAIgAAIgAAIgAACMN4DIAACIAACIAACIAACIAACIAACkSCAABwJzThJEAABEAABEAABEAABEAABEAABBGC8B0AABEAABEAABEAABEAABEAABCJBAAE4EppxkiAAAiAAAiAAAiAAAiAAAiAAAgjAeA+AAAiAAAiAAAiAAAiAAAiAAAhEggACcCQ04yRBAARAAARAAARAAARAAARAAAQQgPEeAAEQAAEQAAEQAAEQAAEQAAEQiAQBBOBIaMZJggAIgAAIgAAIgAAIgAAIgAAIIADjPQACIAACIAACIAACIAACIAACIBAJAgjAkdCMkwQBEAABEAABEAABEAABEAABEEAAxnsABEAABEAABEAABEAABEAABEAgEgQQgCOhGScJAiAAAiAAAiAAAiAAAiAAAiCAAIz3AAiAAAiAAAiAAAiAAAiAAAiAQCQIIABHQjNOEgRAAARAAARAAARAAARAAARAAAEY7wEQAAEQAAEQAAEQAAEQAAEQAIFIEEAAjoRmnCQIgAAIgAAIgAAIgAAIgAAIgAACMN4DIAACIAACIAACIAACIAACIAACkSCAABwJzThJEAABEAABEAABEAABEAABEAABBGC8B0AABEAABEAABEAABEAABEAABCJBAAE4EppxkiAAAiAAAiAAAiAAAiAAAiAAAgjAeA+AAAiAAAiAAAiAAAiAAAiAAAhEggACcCQ04yRBAARAAARAAARAAARAAARAAAQQgPEeAAEQAAEQAAEQAAEQAAEQAAEQiAQBBOBIaMZJggAIgAAIgAAIgAAIgAAIgAAIIADjPQACIAACIAACIAACIAACIAACIBAJAgjAkdCMkwQBEAABEAABEAABEAABEAABEEAAxnsABEAABEAABEAABEAABEAABEAgEgQQgCOhGScJAiAAAiAAAiAAAiAAAiAAAiCAAIz3AAiAAAiAAAiAAAiAAAiAAAiAQCQIIABHQjNOEgRAAARAAARAAARAAARAAARAAAEY7wEQAAEQAAEQAAEQAAEQAAEQAIFIEEAAjoRmnCQIgAAIgAAIgAAIgAAIgAAIgAACMN4DIAACIAACIAACIAACIAACIAACkSCAABwJzThJEAABEAABEAABEAABEAABEAABBGC8B0AABEAABEAABEAABEAABEAABCJBAAE4EppxkiAAAiAAAiAAAiAAAiAAAiAAAgjAeA+AAAiAAAiAAAiAAAiAAAiAAAhEggACcCQ04yRBAARAAARAAARAAARAAARAAAQQgPEeAAEQAAEQAAEQAAEQAAEQAAEQiAQBBOBIaMZJggAIgAAIgAAIgAAIgAAIgAAIIADjPQACIAACIAACIAACIAACIAACIBAJAgjAkdCMkwQBEAABEAABEAABEAABEAABEEAAxnsABEAABEAABEAABEAABEAABEAgEgQQgCOhGScJAiAAAiAAAiAAAiAAAiAAAiCAAIz3AAiAAAiAAAiAAAiAAAiAAAiAQCQIIABHQjNOEgRAAARAAARAAARAAARAAARAAAEY7wEQAAEQAAGVBO6++2665557TO3PP/88DRgwQOV5fP7553TSSSeZ2v/4xz8Snxc2EAABEAABEAABGQIIwDJc0SsIgAAIqCdw+OGH05IlS0o9jypVqlDt2rWpbdu2JsANHDiQDjvssNDOGwE4NNQZOdCJJ55IX3zxRdK+KlWqRLVq1aJmzZpRjx496Morr6SuXbuWetyy+iqr2F/84hf0wgsvlLrLzJkzaeTIkTRu3DiaP38+bd68mSpWrGhqa9KkCbVr1466d+9O/fr1o5YtW2aECzoBARAAARAIlwACcLi8cTQQAAEQUEOgvABc/ESqVq1KDz30EA0ZMiSUc0QADgVzxg6Samj9+c9/Ts888wzl5+eXqCHVvmIdlBaAt23bRoMHDzbhN+j2yCOP0O9///ugu2M/EAABEAABTwggAHsiAmWAAAiAgG8E4gPwNddcQy1atEgocceOHfTDDz/QBx98QBs2bCj62d///ne6+uqrxU8HAVgccUYPEB9aL7nkkoQrvAUFBbR8+XLzXoq/6+D000+n999/nypUqJBQS1l9lVX0UUcdRaeeemrCLnzsk08+mb766qui7/N7ne9q4Ku+fHV6/fr19O2339LEiRNp06ZNZr9hw4bRHXfckVFG6AwEQAAEQECeAAKwPGMcAQRAAARUEogPwJ999hlx6Ei2bd26lfhq3XvvvWd+fNBBB9GqVasoNzdX9LyzJQCLQvKo8/jQWtoz23v37qWbbrqJ/vrXvxZV/sYbb9CFF15YagC2ff774Ycfpptvvtn0X61aNfrHP/5Bl156aVJyXB8/sz1ixAjq1KmTqRUbCIAACICALgIIwLp8oVoQAAEQCI1A0ADMBfEV4EMOOYR2795t6uNnPXv16iVaKwKwKN6Mdx4kAMcOyu+dsWPHmn+effbZ9O9//1ssALdq1co878vb008/TXy3Q5Bt//79Ja5MB2mHfUAABEAABNwSQAB2yx9HBwEQAAFvCaQSgPkkjjnmGJo8ebI5n1deeYV+9rOflXlu48ePNxMScVheuXIl8dW1hg0bmkmG+BbZ8847r8z2yQLw0qVL6YknnjBXo/m/+fbV1q1bm/6uvfZa4om7StviA9qiRYuIz5+vfHMo4ltf16xZQwcffDAdf/zxdPvtt1ObNm0SuuLzGT58OH3zzTe0YsUKM0FY7969zb4dOnQo9bhBZ4Hmmt59913Da9asWfTjjz/Snj17qE6dOmYisv79+5vwxv8ua+PZsl988UWzS+zK/vfff0//93//R6NHjza3Iufl5RHfLsyTUQ0aNMhMBGW7pRKA+Tb6X/3qV+aQzJzfH/FbKn2VVTc/+1ujRo2iXfgPOeXxs+WA9iAAAiAAAm4JIAC75Y+jgwAIgIC3BGwC8CeffGJmyk22cWjjcBMLYaUB6NmzJ7355pvUoEGDpLsUD8CNGjUyt67GntEs3qhLly4m4JUWcIoHYA6+fHtsso2DND+b2rdvX+IrgTwZUvxtu/Ft+FZwPo+zzjoraV9BAvBjjz1GQ4cONccqa+PQ/eqrr5owXNpWPAAvXryYfvOb39CuXbuSNjnttNPo7bffLvOPB0HexKmEVn7/xM6hcuXKRXcWxI6TSl9l1cbBunHjxgjAQQRiHxAAARDIEgIIwFkiEqcBAiAAApkmkEoA5tDJV+o4RPGERRyqeAKh4hsHuDPOOIM++uijoh9xmOGrqhwUZ8yYYSZC4pDMGy81w1dUOdgV3+ID8PXXX0/PPvss7dy501x15f74ec7Zs2fTv/71L+KJjni7/PLL6aWXXkqKKj5Ucdh89NFHqWbNmnTuuecS3ybL5/jWW2/RwoULTXu+cshXZfmKM9fC/47tu2XLFnNc/jlvvIzOvHnzkob5IAGYJ1u6//77qXr16nTccceZ5Xjq1q1rWC9btswE+1hdHBj5ivXRRx+d9DzjAzA/w8qzGXM/HDj5jwTsga/k81X0WODm4/OkTzZbKqGVA/f5559vDsfuN27cmHDoVPoqq2a+ZZ+Z8t0HvAW5c8GGAdqCAAiAAAi4J4AA7N4BKgABEAABLwkEDcA8GzTfKstXOXnjW5c5KCbb+BZhDqu8cUDlkMhXGOM3nm2XZ//lYMdbaaE1PgDHghLXwDP6xm+TJk0yM/pu377dBD0OpU2bNi1RXvGldfhWbH72lG/Ljm0c8E855ZSi51N5ciYOa7xmbfF9OYzzVfCvv/7aNOd6//jHP5Y4bpAA/Nprr1FOTo65ipzsNm4Oqk8++aRhu2/fPjrhhBPoyy+/TOogPgDzDrx2M4fdjh07JuzPf4jg52+5Pw6Jq1evNs7S3VIJrTfccAPxVW/eeLKpqVOnJhw2lb7Kq5ffL3wrOG88gRtPgnXOOedk5Lbv8o6Nn4MACIAACIRPAAE4fOY4IgiAAAioIFDeMkgcBnkZpA8//JDWrl1rzolD4zvvvEN8O3Lxja/CcvDkZ1d5e/nll83s0ck2vhLMoZKvzPHzp3z1tPgyTMUDMN+SzFeXk2133nkn3XfffeZHHMKvu+66ErvFhyoOQvxcbLLbrzlQd+vWrah9Wfvy1WtmwluyIMffDxKAg75h4oPjnDlzzPPPxbf4AMzPSPP5lHa1+IorrjCeeOPnj0u7jTtIfUFDK3Nnvvx8Lm+33HILPfDAAwmHSHcZJF4HuH79+gl98R8KOAQXFhYWfZ/fv3369DHPtXfu3Nm8kq1HHOS8sQ8IgAAIgIBfBBCA/fKBakAABEDAGwLxAbi8ovh23Iceeog4MPEtuMk2vu2Zr+zyxrfw8u3JZW18VTl2u3Kyq6fxAZhv3Y1NwJWsT76CyPvwxpM68TI2xbf4UMXL4jz44IOlllevXj2zNixv5e3LbHhyJebCV8v5Sm78lskAPGHCBOrRo4fpns+Rz7X4Fh+A+Qo2LzNU2sZX8i+44ALz43vvvZf4DwnpbmUFYP5DB0++xSH7nnvuKVpXmm8r5xma46/C8/GLX60PWtO0adOShn2+9fmXv/yluUsg2cZ/KOAQzCyYX2nPpQetA/uBAAiAAAi4I4AA7I49jgwCIAACXhNIJQDzifCzoxwieOKoZFfL4q/C8n9zoCpr49ty+RZc3vi24//85z8Ju8cH4Ntuu808I1vaxmsV8/O8vJ155plFaxbH7x8fqsqaxIvb8NXpKVOmmOap7Ltu3Trz7G78lmoA5ueLp0+fbp755fOKLT3FfXLQjl0tLS2Yxwdgfm6anZW28WzTsRmseRZtnik63S3V0MozUfPdBOy++JZqX7H2pQVg/jlPiMUTmf3zn/8sMet0/PH5dnC+myB2K3+6PNAOBEAABEDADQEEYDfccVQQAAEQ8J5Aec8A8y3N/Fwor9fKV3/5tmXeeJKmMWPGUNWqVRPOkZdF4mdZeeNndWOTHJUGgq8I8vOpvDVv3pwWLFiQsGt8AC5v/VZ+Rja2lA8/D/zf//63zFDFt+EWX+YovgFPtBV7xjaVfZcsWVJicrCgAZivmPNkVPxsbmxSr7LeRL/+9a/pb3/7W4ld4gMwX5U/9dRTS+2Gn5dm9rwNHDiQnnvuubTft0FDK/8hhf/w8ac//clMPpZsC3o7dTrF8nuFWfOyVvxHDr6zgP/gEH+LNPdb3h9d0jk22oAACIAACMgTQACWZ4wjgAAIgIBKAuUF4PiT4quQHAp59mHekl3h5aAVu4rLoY/3L2vjZ4z5KiBvyWYCTrYOcFn98QRYvPFx+fjFt2TrAJfWXyb3DRKA+dbgiy66qGh27CBvKH7elddZLr4lWwe4tP54Nu9mzZqZH5fWX5BaeJ+yntvl0MtX6Pk9x7eqx67WB+H//PPPm9uSJTe+ss634/NdC/zfsY0DMt8ajQ0EQAAEQEAPAQRgPa5QKQiAAAiESiCVAMyFcbiNXU3k23zXrFmTMJNufAD+4osvqFevXmWeD4fq2FVkXrs3Pnhww6gEYL7KzldC+dZn3niiL54Zmyeu4qWneGZmDpC8xV+x9TkA24ZWySvAZb0p+Xlkvv095uKaa64hvvsAGwiAAAiAgB4CCMB6XKFSEAABEAiVQKoBePPmzQnr9Ra/NfjSSy+lV1991ZwDT67EyyWVtaVyC3SQQKX1CjCv03vjjTcaVDzLM69PXNrGt+rybNO8IQDLfFx4jWh+Vpg3DsM8izY2EAABEAABPQQQgPW4QqUgAAIgECqBVAMwP5caPwM0r3/LzwPHtvhJsO666y4z229ZGy9rFFt2p7xJsLI5AF988cVFMzUvXbq06LnoZOxGjRplrg4jAMt9VHjiMH6+mreWLVuaJbqwgQAIgAAI6CGAAKzHFSoFARAAgVAJpBqAeZKqI444oqhGnkiIlzuKbR9//DGddtpp5p/t27enmTNnlnk+fAVz5MiRZp/ylkHK5gDcr18/+vTTTw0HXhu3rPVo+ao6z5yMACz3UeEZoGPLQR177LFmsixsIAACIAACegggAOtxhUpBAARAIFQCqQZgXjf31ltvNTXy+q285E/8FWG+Qty0aVP68ccfzT58O/Qll1yS9Jy+/fZbcysvrw/LszfzVbYWLVok7BuVZ4CZ0euvv27OnWeePuGEE5Iy++yzz6hv3760b98+BOCAnxR+f/Es5jwzeJCNn0vv2LEjzZ071+zOSyE99thjQZpiHxAAARAAAU8IIAB7IgJlgAAIgIBvBFIJwHy7Ms9SzDM38/arX/2KnnnmmRKnNHz48KL1U3k9VV4Oqfg6r9999x2dfvrpxEsG8XbFFVcUXQmO7zAqAfiJJ56g6667zpw6h6/Ro0dT/fr1E9jyBGS8zBQ/h83L+PCGZ4DL/0TFZho//vjjzW3NfAWd35fJNn4m/eqrry6ayZz/MDN16lTjBBsIgAAIgIAeAgjAelyhUhAAARAIlUB8AObZbotfgeWrZ7F1gHk5mNjGy+bwckjFQxr/nMMZz2LM68/GNr76xgGEZzLmtYQ5TO/Zs8f8mG+p5kmGeBmk4ltUAvDWrVvNs6bMmjdeIojXUOb1eXfs2GGuCo8bN8787Pbbb6f7778/UgGYr5DzZFRBNp5V/Nprry3aNX6pLf5mlSpVzJ0HvLRRgwYNzL/Xr19v1gHmmcvj119Odlt+kBqwDwiAAAiAgFsCCMBu+ePoIAACIOAtgfgAHLRIXtqI10tt0qRJqU34NlK+Qhx7vre0HXv27En/+te/qGHDhkl3iUoA5pPn50zPPPPMEktBxcDw1UieVIwnwCpv3V4f1gEO8sx2We+5+GWQgr43eb9atWrRpk2biprwH3H4tvGvvvqKCgsLA3XFf4zhPzL89re/DbQ/dgIBEAABEPCLAAKwXz5QDQiAAAh4Q6C8AJyTk2Oe9eXneo855hjzPG+fPn0ottxQeSfCoY6DEF9ZW7lypXnel6+68cRCfDtvecskRSkAM0tmxEsiffjhh+b28EqVKtEhhxxCHAZ/+ctfmqugixcvRgAu441XPADHdl27di2NGTPGBGGenO2HH36gjRs3mvck3xLdqFEj6tChg7ld/4ILLkh6R0J573f8HARAAARAwA8CCMB+eEAVIAACIAACIAACIAACIAACIAACwgQQgIUBo3sQAAEQAAEQAAEQAAEQAAEQAAE/CCAA++EBVYAACIAACIAACIAACIAACIAACAgTQAAWBozuQQAEQAAEQAAEQAAEQAAEQAAE/CCAAOyHB1QBAiAAAiAAAiAAAiAAAiAAAiAgTAABWBgwugcBEAABEAABEAABEAABEAABEPCDAAKwHx5QBQiAAAiAAAiAAAiAAAiAAAiAgDABBGBhwOgeBEAABEAABEAABEAABEAABEDADwIIwH54QBUgAAIgAAIgAAIgAAIgAAIgAALCBBCAhQGjexAAARAAARAAARAAARAAARAAAT8IIAD74QFVgAAIgAAIgAAIgAAIgAAIgAAICBNAABYG7LL7Ro0a0fbt26lJkyYuy8CxQQAEQAAEQAAEQAAEQAAEiGjp0qWUn59Pq1atAg9HBBCAHYEP47A1atSg3bt3U8uWLcM4HI7hmAD/sYM3/p8qtuwnAN/Z7zj+DOEbvqNFIFpni893tHzPnz+fqlSpQlu3bo3WiXt0tgjAHsnIdClHHnmkuQK8ePHiTHeN/jwk8N///tdUdfLJJ3tYHUrKNAH4zjRRv/uDb7/9ZLo6+M40Ub/7g2+//WS6usMPP9xcrJg9e3amu0Z/AQkgAAcEpXE3BGCN1tKvGQNo+uw0toRvjdbSrxm+02ensSV8a7SWfs3wnT47jS0RgN1bQwB270CsAgRgMbRedowB1EstYkXBtxhaLzuGby+1iBUF32JovewYvr3UIlYUArAY2sAdIwAHRqVvRwRgfc5sKsYAakNPX1v41ufMpmL4tqGnry1863NmUzF829DT1xYB2L0zBGD3DsQqQAAWQ+tlxxhAvdQiVhR8i6H1smP49lKLWFHwLYbWy47h20stYkUhAIuhDdwxAnBgVPp2RADW58ymYgygNvT0tYVvfc5sKoZvG3r62sK3Pmc2FcO3DT19bRGA3TtDAHbvQKwCBGAxtF52jAHUSy1iRcG3GFovO4ZvL7WIFQXfYmi97Bi+vdQiVhQCsBjawB0jAAdGpW9HBGB9zmwqxgBqQ09fW/jW58ymYvi2oaevLXzrc2ZTMXzb0NPXFgHYvTMEYPcOxCpAABZD62XHGEC91CJWFHyLofWyY/j2UotYUfAthtbLjuHbSy1iRSEAi6EN3DECcGBU+nZEANbnzKZiDKA29PS1hW99zmwqhm8bevrawrc+ZzYVw7cNPX1tEYDdO0MAdu9ArAIEYDG0XnaMAdRLLWJFwbcYWi87hm8vtYgVBd9iaL3sGL691CJWFAKwGNrAHSMAB0alb0cEYH3ObCrGAGpDT19bX33zwL5kyRLav3+/PqiCFVeoUKHM3nfu3ElVq1YtdZ9kvr///nu666676PPPP6dt27bREUccQYMGDaLrr7+eKlasKHg26FqagK+fb+nzjmr/8B0t8wjA7n0jALt3IFYBArAYWi87xgDqpRaxolz4Xrx4MTVr1ox69+5tQleyDQE4uXIOwPn5+XThhRcm3eHvf/875ebmBg7AEyZMoD59+tCOHTuoW7duxNy//PJLWrVqFV1wwQX0xhtvUHmhW+zNiY6tCbj4fFsXjQ7SJgDfaaNT2RAB2L02BGD3DsQqQAAWQ+tlxxhAvdQiVpQL30EC8IIFC6igoIDatGkjdu4aO+Yw2rRpU2KG6Wzxvvfu3Wv4MutHH32UbrjhBtMlXwU+5ZRTaPz48fTcc8/RwIED0zkU2nhAwMXn24PTjmwJ8B0t9QjA7n0jALt3IFYBArAYWi87xgDqpRaxolz4DhKAxU5YeceZDMB8dffiiy+mjh070vTp0xPITJs2jTp37kxHHXUUzZo1Szm16Jbv4vMdXdruzxy+3TsIswIE4DBpJz8WArB7B2IVIACLofWyYwygXmoRKyps33fffTfdc889Sc/nF7/4Bb3wwgvmZ8lugY4Pzh988AHdeeed5hbddevWUdu2bU2/Z511lmnP3//zn/9Ms2fPpurVq9Mll1xCDz30EOXl5ZU4Nl/x5Cug3IavhlaqVIk6depkroiee+65YuzT6TiTAZh5jxw5koYNG0Z33HFHiXJatGhBCxcupEWLFhkfsW3ixIn04IMP0tSpU82t0nXq1KEmTZqYW6lvv/12wxubHwTC/nz7cdbRrQK+o+UeAdi9bwRg9w7EKkAAFkPrZccYQL3UIlZU2L7feecdevnll+nNN9+khg0b0qmnnlp0bj179qSrr7663ADco0cP2rdvnwmrxx57rLlll59b5XD48ccfmyuWN910Ex1zzDHmGGPHjqX169fTZZddRqNGjUpguXr1ajr55JPpu+++o8aNG1OXLl3M87B8++/27dvpgQceoFtuuUWMf6od8znWq1ePfve739HSpUupWrVqJqyff/75gYJnvO+jjz6aZsyYQfzHhNNPP71EKRdddBH961//InZ2zjnnmJ/zvmeffbZhffzxx9MhhxxCGzdupHnz5pmgXDwsp3p+2D+zBML+fGe2evSWKgH4TpWY7v0RgN37QwB270CsAgRgMbRedowB1EstYkW58B3kFuiyrgAzjBNPPJHeeustc/WRN75yzM+q8gzGGzZsMKHthBNOMD9buXKlCYlr1qwxobl58+ZFPDn4ffTRRyYw33fffUUTSPGVT34OlmvlK50dOnQo10HsvMrdMW6HVJ/nLW1Cqrp169KLL75IZ5xxRpmHj/d90EEHmfDKITjZ+fEV8Mcee4yGDx9O1113nemXufMfGyZNmmT+WBC/ffPNN+ZKfI0aNVJBgH0FCbj4fAueDrouhwB8R+stggDs3jcCsHsHYhUgAIuh9bJjDKBeahEryoVv2wCck5NDc+bMMWE3tvEV4UaNGtHatWvNkj7Fb7MeOnQo/fWvf6Xnn3+eBgwYYJrxc68cjI877jj66quvSsx2/O9//9vcAs3hj0NgeRvfiv2HP/yhvN0Sfs5Xcx955JHAbfi2Zb6S3b59e6pVqxbNnz/f3L790ksvUeXKlc3Vbp7NubQt3jfvzxONcR/xLGNt+bbo+++/n/70pz/Rrbfear7drl07+vHHH01wxuY/ARefb/+pZG+F8J29bpOdGQKwe98IwO4diFWAACyG1suOMYB6qUWsKBe+bQMwP5v6ww8/lGDCtzxPnjzZhEC+nTp+e/LJJ+naa69NCHP8jDBf+eVng/lr8Y1vm+aAyrdZ8y3RPm+33XabuV27X79+9Mknn6QUgJklMy2+8fO8HH7jA/AVV1xhbmHndYL5CjFPkoXNXwIuPt/+0sj+yuA7+x3HnyECsHvfCMDuHYhVgAAshtbLjjGAeqlFrCgXvm0DcK9eveiLL74owYRvz+Xv8+3LvM5w/Ba7RfqPf/wj8URcvA0ePJieeuqpctny1VG+SurztnnzZuLboCtWrGieiearu8k221ugly1bZiYa49umeeM/EPAVdL5Szlemq1Sp4jOmyNXm4vMdOcgenTB8eyQjhFIQgEOAXM4hEIDdOxCrAAFYDK2XHWMA9VKLWFEufNsG4N69e9Pnn39eagBONhFTsgB8zTXX0DPPPGOeFY5/Lrh4x0GXSJnHAAAgAElEQVRvUw7jFuiy3gg8IRXfnrxixQozOVV5ATidSbC4T14/mN8377//vvmDA086tn//frOm8Lhx44qeyxZ706LjwARcfL4DF4cdM04AvjOO1OsOEYDd60EAdu9ArAIEYDG0XnaMAdRLLWJFufDtSwDmSa94KaXHH3+chgwZYs04jEmwSiuSn4GuWbOmmbmarwbzf5cXgIMug5Tsinp83zwbNU9Axu+l2C3l1jDRQUYIuPh8Z6RwdJIWAfhOC5vaRgjA7tUhALt3IFYBArAYWi87xgDqpRaxolz45lmZeckhXkaHJ59KtpW3DnAmrgBPmDCBeEmlk046yYQ3zduHH35oZoAu73bteN+vv/66WR+5Y8eOZkKw+G3atGnUuXNnM+kVr6Vc3sbPHffv359OO+004lqw+UHAxefbjzOPZhXwHS3vCMDufSMAu3cgVgECsBhaLzvGAOqlFrGiXPjes2ePWbOWn1ldvnw58azOxbcwAjAfs2/fvjRmzBizru6wYcMS1tLlq6qffvqpWWu3+KRaYkLK6JjX5OXlilq1apWwF9+GzM/f8h8WeEZonpwqfrvyyiuJlyjiSbJ45mjeeO1jngG6devWZu3e+HZ8FZkn0+KJv/7xj3/QVVddVdQdz6TNx+L1leO32Czbv/71r+lvf/ubCzw4ZhICLj7fEOGOAHy7Y+/iyAjALqgnHhMB2L0DsQoQgMXQetkxBlAvtYgV5cr32WefTe+99x7x/1/4SiNP2sRXhPlWWt7CCsCrV6826/3OnDmTeF1cfi62fv365jnauXPnmmWVOPRxQHa98fJNvNZvy5YtzSRfsWWQYldvf/azn9GoUaPMRFjxW2xyMF4CqkmTJkUBmP+Dn9nlPwLs3LmTunfvTrwuMc+izc8S88RWb775ZkJ/tWvXpq1bt5qrxlwHP/vL7JgVPyvNV9WTzSjtml1Uj+/q8x1V3q7PG75dGwj3+AjA4fJOdjQEYPcOxCpAABZD62XHGEC91CJWlCvfa9asMWvmjh492oTMwsJC4mdSebKqMAMwH4vDH1+1fO211+i7774jvkJ98MEHmyut55xzDl188cUm3LnePvroIxNwp0yZQqtWrTKzPXNo79Kli1mW6MILL0xaYlkBmBvwLc48OzbfVs59coDl/jj0F786z+sNf/zxx6YGvuLM22GHHUann3468VVg5obNHwKuPt/+EIhWJfAdLd8IwO59IwC7dyBWAQKwGFovO8YA6qUWsaLgWwytlx3Dt5daxIqCbzG0XnYM315qESsKAVgMbeCOEYADo9K3IwKwPmc2FWMAtaGnry1863NmUzF829DT1xa+9TmzqRi+bejpa4sA7N4ZArB7B2IVIACLofWyYwygXmoRKwq+xdB62TF8e6lFrCj4FkPrZcfw7aUWsaIQgMXQBu4YATgwKn07IgDrc2ZTMQZQG3r62sK3Pmc2FcO3DT19beFbnzObiuHbhp6+tgjA7p0hALt3IFYBArAYWi87xgDqpRaxouBbDK2XHcO3l1rEioJvMbRedgzfXmoRKwoBWAxt4I4RgAOj0rcjArA+ZzYVYwC1oaevLXzrc2ZTMXzb0NPXFr71ObOpGL5t6OlriwDs3hkCsHsHYhUgAIuh9bJjDKBeahErCr7F0HrZMXx7qUWsKPgWQ+tlx/DtpRaxohCAxdAG7hgBODAqfTsiAOtzZlMxBlAbevrawrc+ZzYVw7cNPX1t4VufM5uK4duGnr62CMDunSEAu3cgVgECsBhaLzvGAOqlFrGi4FsMrZcdw7eXWsSKgm8xtF52DN9eahErCgFYDG3gjhGAA6PStyMCsD5nNhVjALWhp68tfOtzZlMxfNvQ09cWvvU5s6kYvm3o6WuLAOzeGQKwewdiFSAAi6H1smMMoF5qESsKvsXQetkxfHupRawo+BZD62XH8O2lFrGiEIDF0AbuGAE4MCp9OyIA63NmUzEGUBt6+trCtz5nNhXDtw09fW3hW58zm4rh24aevrYIwO6dIQC7dyBWAQKwGFovO8YA6qUWsaLgWwytlx3Dt5daxIqCbzG0XnYM315qESsKAVgMbeCOEYADo9K3IwKwPmc2FWMAtaGnry1863NmUzF829DT1xa+9TmzqRi+bejpa4sA7N4ZArB7B2IVIACLofWyYwygXmoRKwq+xdB62TF8e6lFrCj4FkPrZcfw7aUWsaIQgMXQBu4YATgwKn07IgDrc2ZTMQZQG3r62sK3Pmc2FcO3DT19beFbnzObiuHbhp6+tgjA7p0hALt3IFYBArAYWi87xgDqpRaxouBbDK2XHcO3l1rEioJvMbRedgzfXmoRKwoBWAxt4I4RgAOj0rcjArA+ZzYVYwC1oaevLXzrc2ZTMXzb0NPXFr71ObOpGL5t6OlriwDs3hkCsHsHYhUgAIuh9bJjDKBeahErCr7F0HrZMXx7qUWsKPgWQ+tlx/DtpRaxohCAxdAG7hgBODAqfTsiAOtzZlMxBlAbevrawrc+ZzYVw7cNPX1t4VufM5uK4duGnr62CMDunSEAu3dgKtiwYQO1adOG1q5dS61bt6Y5c+ZYV4YAbI1QVQcYQFXpsi4Wvq0RquoAvlXpsi4Wvq0RquoAvlXpsi4WAdgaoXUHCMDWCDPTwYABA2jkyJG0f/9+BODMII1cLxhAo6UcvuE7WgSidbb4fMN3tAhE62wRgN37RgB274DGjBlDffv2pV/96lf07LPPIgB74ERjCfiFSaO19GuG7/TZaWwJ3xqtpV8zfKfPTmNL+NZoLf2aEYDTZ5eplgjAmSKZZj87d+6kDh06UOXKlemdd96hVq1aIQCnyTLqzTCARusdAN/wHS0C0TpbfL7hO1oEonW2CMDufSMAO3Zwyy230MMPP0yff/45NWnShJo1a4YA7NiJ1sPjFyat5tKrG77T46a1FXxrNZde3fCdHjetreBbq7n06kYATo9bJlshAGeSZop9zZw5k7p06UJXXnkljRgxghYvXowAnCJD7P4/AhhAo/VugG/4jhaBaJ0tPt/wHS0C0TpbBGD3vhGAHTnYt28f9ejRgxYuXGhmfK5bty4CsCMX2XJY/MKULSaDnQd8B+OULXvBd7aYDHYe8B2MU7bsBd/ZYjLYeSAAB+MkuRcCsCTdMvp+/PHH6Xe/+x09//zzxDNA85buFWBe7ijZtmDBAmrQoAG98MILjs4Shw2TwPbt283h8vPzwzwsjuWIAHw7Au/osPDtCLyjw8K3I/CODgvfjsA7Oiz/3l+jRg2aPXu2owpwWARgB++BZcuWUbt27cztz/zsb2xDAHYgI4sOiQE0i2QGOBX4DgApi3aB7yySGeBU4DsApCzaBb6zSGaAU0EADgBJeBcEYGHAybo/66yz6JNPPqHp06dT27ZtrQNwaafAV4b5f6ocrLFlPwHcQpX9juPPEL7hO1oEonW2+HzDd7QIROtscQu0e98IwA4cVKhQgWrXrk0dO3ZMOPquXbto4sSJlJeXR926dTM/e//996l69eppVYkAnBY2tY3wC5NadWkVDt9pYVPbCL7VqkurcPhOC5vaRvCtVl1ahSMAp4Uto40QgDOKM1hnHICDbhs3bjRhOZ0NATgdanrbYADV6y6dyuE7HWp628C3XnfpVA7f6VDT2wa+9bpLp3IE4HSoZbYNAnBmeVr1lu4zwKUdFAHYSoe6xhhA1SmzKhi+rfCpawzf6pRZFQzfVvjUNYZvdcqsCkYAtsKXkcYIwBnBmJlOEIAzwzGqvWAAjZZ5+IbvaBGI1tni8w3f0SIQrbNFAHbvGwHYvYOiChCAPZKhsBT8wqRQmkXJ8G0BT2FT+FYozaJk+LaAp7ApfCuUZlEyArAFvAw1RQDOEMhMdIMAnAmK0e0DA2i03MM3fEeLQLTOFp9v+I4WgWidLQKwe98IwO4diFWAZ4DF0HrZMX5h8lKLWFHwLYbWy47h20stYkXBtxhaLzuGby+1iBWFACyGNnDHCMCBUenbEQFYnzObijGA2tDT1xa+9TmzqRi+bejpawvf+pzZVAzfNvT0tUUAdu8MAdi9A7EKEIDF0HrZMQZQL7WIFQXfYmi97Bi+vdQiVhR8i6H1smP49lKLWFEIwGJoA3eMABwYlb4dEYD1ObOpGAOoDT19beFbnzObiuHbhp6+tvCtz5lNxfBtQ09fWwRg984QgN07EKsAAVgMrZcdYwD1UotYUfAthtbLjuHbSy1iRcG3GFovO4ZvL7WIFYUALIY2cMcIwIFR6dsRAVifM5uKMYDa0NPXFr71ObOpGL5t6OlrC9/6nNlUDN829PS1RQB27wwB2L0DsQoQgMXQetkxBlAvtYgVBd9iaL3sGL691CJWFHyLofWyY/j2UotYUQjAYmgDd4wAHBiVvh0RgPU5s6kYA6gNPX1t4VufM5uK4duGnr628K3PmU3F8G1DT19bBGD3zhCA3TsQqwABWAytlx1jAPVSi1hR8C2G1suO4dtLLWJFwbcYWi87hm8vtYgVhQAshjZwxwjAgVHp2xEBWJ8zm4oxgNrQ09cWvvU5s6kYvm3o6WsL3/qc2VQM3zb09LVFAHbvDAHYvQOxChCAxdB62TEGUC+1iBUF32JovewYvr3UIlYUfIuh9bJj+PZSi1hRCMBiaAN3jAAcGJW+HRGA9TmzqRgDqA09fW3hW58zm4rh24aevrbwrc+ZTcXwbUNPX1sEYPfOEIDdOxCrAAFYDK2XHWMA9VKLWFHwLYbWy47h20stYkXBtxhaLzuGby+1iBWFACyGNnDHCMCBUenbEQFYnzObijGA2tDT1xa+9TmzqRi+bejpawvf+pzZVAzfNvT0tUUAdu8MAdi9A7EKEIDF0HrZMQZQL7WIFQXfYmi97Bi+vdQiVhR8i6H1smP49lKLWFEIwGJoA3eMABwYlb4dEYD1ObOpGAOoDT19beFbnzObiuHbhp6+tvCtz5lNxfBtQ09fWwRg984QgN07EKsAAVgMrZcdYwD1UotYUfAthtbLjuHbSy1iRcG3GFovO4ZvL7WIFYUALIY2cMcIwIFR6dsRAVifM5uKMYDa0NPXFr71ObOpGL5t6OlrC9/6nNlUDN829PS1RQB27wwB2L0DsQoQgMXQetkxBlAvtYgVBd9iaL3sGL691CJWFHyLofWyY/j2UotYUQjAYmgDd4wAHBiVvh0RgPU5s6kYA6gNPX1t4VufM5uK4duGnr628K3PmU3F8G1DT19bBGD3zhCA3TsQqwABWAytlx1jAPVSi1hR8C2G1suO4dtLLWJFwbcYWi87hm8vtYgVhQAshjZwxwjAgVHp2xEBWJ8zm4oxgNrQ09cWvvU5s6kYvm3o6WsL3/qc2VQM3zb09LVFAHbvDAHYvQOxChCAxdB62TEGUC+1iBUF32JovewYvr3UIlYUfIuh9bJj+PZSi1hRCMBiaAN3jAAcGJW+HRGA9TmzqRgDqA09fW3hW58zm4rh24aevrbwrc+ZTcXwbUNPX1sEYPfOEIDdOxCrAAFYDK2XHWMA9VKLWFHwLYbWy47h20stYkXBtxhaLzuGby+1iBWFACyGNnDHCMCBUenbEQFYnzObijGA2tDT1xa+9TmzqRi+bejpawvf+pzZVAzfNvT0tUUAdu8MAdi9A7EKEIDF0HrZMQZQL7WIFQXfYmi97Bi+vdQiVhR8i6H1smP49lKLWFEIwGJoA3eMABwYlb4dEYD1ObOpGAOoDT19beFbnzObiuHbhp6+tvCtz5lNxfBtQ09fWwRg984QgN07EKsAAVgMrZcdYwD1UotYUfAthtbLjuHbSy1iRcG3GFovO4ZvL7WIFYUALIY2cMcIwIFR6dsRAVifM5uKMYDa0NPXFr71ObOpGL5t6OlrC9/6nNlUDN829PS1RQB27wwB2L0DsQoQgMXQetkxBlAvtYgVBd9iaL3sGL691CJWFHyLofWyY/j2UotYUQjAYmgDd4wAHBiVvh0RgPU5s6kYA6gNPX1t4VufM5uK4duGnr628K3PmU3F8G1DT19bBGD3zhCA3TsQqwABWAytlx1jAPVSi1hR8C2G1suO4dtLLWJFwbcYWi87hm8vtYgVhQAshjZwxwjAgVHp2xEBWJ8zm4oxgNrQ09cWvvU5s6kYvm3o6WsL3/qc2VQM3zb09LVFAHbvDAHYvQOxChCAxdB62TEGUC+1iBUF32JovewYvr3UIlYUfIuh9bJj+PZSi1hRCMBiaAN3jAAcGJW+HRGA9TmzqRgDqA09fW3hW58zm4rh24aevrbwrc+ZTcXwbUNPX1sEYPfOEIDdOxCrAAFYDK2XHWMA9VKLWFHwLYbWy47h20stYkXBtxhaLzuGby+1iBWFACyGNnDHCMCBUenbEQFYnzObijGA2tDT1xa+9TmzqRi+bejpawvf+pzZVAzfNvT0tUUAdu8MAdi9A7EKEIDF0HrZMQZQL7WIFQXfYmi97Bi+vdQiVhR8i6H1smP49lKLWFEIwGJoA3eMABwYlb4dEYD1ObOpGAOoDT19beFbnzObiuHbhp6+tvCtz5lNxfBtQ09fWwRg984QgN07EKsAAVgMrZcdYwD1UotYUfAthtbLjuHbSy1iRcG3GFovO4ZvL7WIFYUALIY2cMcIwIFR6dsRAVifM5uKMYDa0NPXFr71ObOpGL5t6OlrC9/6nNlUDN829PS1RQB27wwB2L0DsQoQgMXQetkxBlAvtYgVBd9iaL3sGL691CJWFHyLofWyY/j2UotYUQjAYmgDd4wAHBiVvh0RgPU5s6kYA6gNPX1t4VufM5uK4duGnr628K3PmU3F8G1DT19bBGD3zhCA3TsQqwABWAytlx1jAPVSi1hR8C2G1suO4dtLLWJFwbcYWi87hm8vtYgVhQAshjZwxwjAgVHp2xEBWJ8zm4oxgNrQ09cWvvU5s6kYvm3o6WsL3/qc2VQM3zb09LVFAHbvDAHYvQOxChCAxdB62TEGUC+1iBUF32JovewYvr3UIlYUfIuh9bJj+PZSi1hRCMBiaAN3jAAcGJW+HRGA9TmzqRgDqA09fW3hW58zm4rh24aevrbwrc+ZTcXwbUNPX1sEYPfOEIDdOxCrAAFYDK2XHWMA9VKLWFHwLYbWy47h20stYkXBtxhaLzuGby+1iBWFACyGNnDHCMCBUenbEQFYnzObijGA2tDT1xa+9TmzqRi+bejpawvf+pzZVAzfNvT0tUUAdu8MAdi9A7EKEIDF0HrZMQZQL7WIFQXfYmi97Bi+vdQiVhR8i6H1smP49lKLWFEIwGJoA3eMABwYlb4dEYD1ObOpGAOoDT19beFbnzObiuHbhp6+tvCtz5lNxfBtQ09fWwRg984QgN07EKsAAVgMrZcdYwD1UotYUfAthtbLjuHbSy1iRcG3GFovO4ZvL7WIFYUALIY2cMcIwIFR6dsRAVifM5uKMYDa0NPXFr71ObOpGL5t6OlrC9/6nNlUDN829PS1RQB27wwB2L0DsQoQgMXQetkxBlAvtYgVBd9iaL3sGL691CJWFHyLofWyY/j2UotYUQjAYmgDd4wAHBiVvh0RgPU5s6kYA6gNPX1t4VufM5uK4duGnr628K3PmU3F8G1DT19bBGD3zhCA3TsQqwABWAytlx1jAPVSi1hR8C2G1suO4dtLLWJFwbcYWi87hm8vtYgVhQAshjZwxwjAgVHp2xEBWJ8zm4oxgNrQ09cWvvU5s6kYvm3o6WsL3/qc2VQM3zb09LVFAHbvDAHYvQOxChCAxdB62TEGUC+1iBUF32JovewYvr3UIlYUfIuh9bJj+PZSi1hRCMBiaAN3jAAcGJW+HRGA9TmzqRgDqA09fW3hW58zm4rh24aevrbwrc+ZTcXwbUNPX1sEYPfOEIDdOxCrAAFYDK2XHWMA9VKLWFHwLYbWy47h20stYkXBtxhaLzuGby+1iBWFACyGNnDHCMCBUenbEQFYnzObijGA2tDT1xa+9TmzqRi+bejpawvf+pzZVAzfNvT0tUUAdu8MAdi9A7EKEIDF0HrZMQZQL7WIFQXfYmi97Bi+vdQiVhR8i6H1smP49lKLWFEIwGJoA3eMABwYlb4dEYD1ObOpGAOoDT19beFbnzObiuHbhp6+tvCtz5lNxfBtQ09fWwRg984QgN07EKsAAVgMrZcdYwD1UotYUfAthtbLjuHbSy1iRcG3GFovO4ZvL7WIFYUALIY2cMcIwIFR6dsRAVifM5uKMYDa0NPXFr71ObOpGL5t6OlrC9/6nNlUDN829PS1RQB27wwB2L0DsQoQgMXQetkxBlAvtYgVBd9iaL3sGL691CJWFHyLofWyY/j2UotYUQjAYmgDd4wAHBiVvh0RgPU5s6kYA6gNPX1t4VufM5uK4duGnr628K3PmU3F8G1DT19bBGD3zhCA3TsQqwABWAytlx1jAPVSi1hR8C2G1suO4dtLLWJFwbcYWi87hm8vtYgVhQAshjZwxwjAgVHp2xEBWJ8zm4oxgNrQ09cWvvU5s6kYvm3o6WsL3/qc2VQM3zb09LVFAHbvDAHYvQOxChCAxdB62TEGUC+1iBUF32JovewYvr3UIlYUfIuh9bJj+PZSi1hRCMBiaAN3jAAcGJW+HRGA9TmzqRgDqA09fW3hW58zm4rh24aevrbwrc+ZTcXwbUNPX1sEYPfOEIDdOxCrAAFYDK2XHWMA9VKLWFHwLYbWy47h20stYkXBtxhaLzuGby+1iBWFACyGNnDHCMCBUenbEQFYnzObijGA2tDT1xa+9TmzqRi+bejpawvf+pzZVAzfNvT0tUUAdu8MAdi9A7EKEIDF0HrZMQZQL7WIFQXfYmi97Bi+vdQiVhR8i6H1smP49lKLWFEIwGJoA3eMABwYlb4dEYD1ObOpGAOoDT19beFbnzObiuHbhp6+tvCtz5lNxfBtQ09fWwRg984QgN07EKsAAVgMrZcdYwD1UotYUfAthtbLjuHbSy1iRcG3GFovO4ZvL7WIFYUALIY2cMcIwIFR6dsRAVifM5uKMYDa0NPXFr71ObOpGL5t6OlrC9/6nNlUDN829PS1RQB27wwB2L0DsQoQgMXQetkxBlAvtYgVBd9iaL3sGL691CJWFHyLofWyY/j2UotYUQjAYmgDd4wAHBiVvh0RgPU5s6kYA6gNPX1t4VufM5uK4duGnr628K3PmU3F8G1DT19bBGD3zhCA3TsQqwABWAytlx1jAPVSi1hR8C2G1suO4dtLLWJFwbcYWi87hm8vtYgVhQAshjZwxwjAgVHp2xEBWJ8zm4oxgNrQ09cWvvU5s6kYvm3o6WsL3/qc2VQM3zb09LVFAHbvDAHYvQOxChCAxdB62TEGUC+1iBUF32JovewYvr3UIlYUfIuh9bJj+PZSi1hRCMBiaAN3jAAcGJW+HRGA9TmzqRgDqA09fW3hW58zm4rh24aevrbwrc+ZTcXwbUNPX1sEYPfOEIDdOxCrAAFYDK2XHWMA9VKLWFHwLYbWy47h20stYkXBtxhaLzuGby+1iBWFACyGNnDHCMCBUenbEQFYnzObijGA2tDT1xa+9TmzqRi+bejpawvf+pzZVAzfNvT0tUUAdu8MAdi9A7EKEIDF0HrZMQZQL7WIFQXfYmi97Bi+vdQiVhR8i6H1smP49lKLWFEIwGJoA3eMABwYlb4dEYD1ObOpGAOoDT19beFbnzObiuHbhp6+tvCtz5lNxfBtQ09fWwRg987UB+DXX3+dXn31VVq5ciU1aNCAOnToQJ07dzYvfoNFeUMAjpZ9DKDwHS0C0TpbfL7hO1oEonW2+HxHyzcCsHvfqgPwE088Qddffz3t378/gWSFChXMv+vUqUOdOnUqCsSXXHKJe+IhVoAAHCJsDw6FAdQDCSGWAN8hwvbgUPDtgYQQS4DvEGF7cCj49kBCiCUgAIcIu5RDqQ7ArVu3ph9++IHuuOMOOuuss2jTpk00Y8YMmjp1qnnNnz+f9u3bZ06dQ3FhYaF74iFWgAAcImwPDoUB1AMJIZYA3yHC9uBQ8O2BhBBLgO8QYXtwKPj2QEKIJSAAhwg7GwNwfn4+de3alb744oukp7djxw6aNm0aTZkyhaZPn07PPfece+IhVoAAHCJsDw6FAdQDCSGWAN8hwvbgUPDtgYQQS4DvEGF7cCj49kBCiCUgAIcIOxsDcJs2bcztzf/85z/dk/SwAgRgD6UIloQBVBCuh13Dt4dSBEuCb0G4HnYN3x5KESwJvgXhetg1ArB7KapvgeZbn0eNGkULFy40tzhjSySAABytdwQGUPiOFoFonS0+3/AdLQLROlt8vqPlGwHYvW/VAXjLli1m1udf/vKXdPvtt7un6VkFCMCeCREuBwOoMGDPuodvz4QIlwPfwoA96x6+PRMiXA58CwP2rHsEYPdCVAdgxjd37lzq378/9e3bl+6++2469NBD3VMNUAE/n/zJJ5/Qe++9R5MmTaLFixebSbqOOOIIuuCCC2jo0KFUvXr1AD2VvgsCsBU+dY0xgKpTZlUwfFvhU9cYvtUpsyoYvq3wqWsM3+qUWRWMAGyFLyONVQfgrVu30q9//Wt66623qKCgwNwG3aVLF+revbv5yq927dpRxYoVMwIrk5384x//MFeueeOgynXyFe1x48YRnxc/38yTe/HaxuluCMDpktPZDgOoTm/pVg3f6ZLT2Q6+dXpLt2r4TpecznbwrdNbulUjAKdLLnPtVAdgDpAjRowwNKpVq0a7d+8uWuoo9kxw1apVqWPHjma26OHDh2eOnGVPI0eOpAkTJtANN9xALVu2LOrtxx9/pDPOOMPMXn3ppZdaTfCFAGwpSVlzDKDKhFmWC9+WAJU1h29lwizLhW9LgMqaw7cyYZblIgBbAsxAc9UBuFGjRuaq6QcffEAnnXQS7dmzh2bNmmXWAOalj/gr/5uDsaZ1gMePH0/HHXccValSxZxf5cqV01KNAJwWNnjxa58AACAASURBVLWNMICqVZdW4fCdFja1jeBbrbq0CofvtLCpbQTfatWlVTgCcFrYMtpIdQCuUaOGefb37bffLhXK3r17afbs2SYQDxo0KKPwpDrj54N5jWPeVq5cSQcffHBah0IATgub2kYYQNWqS6tw+E4Lm9pG8K1WXVqFw3da2NQ2gm+16tIqHAE4LWwZbaQ6AB977LEmHJYVgDNKK6TOvv32W2rfvj3l5uaa54H5SnA6GwJwOtT0tsEAqtddOpXDdzrU9LaBb73u0qkcvtOhprcNfOt1l07lCMDpUMtsG9UBmCeSuvHGG2nJkiVUs2bNzJJx2Bs/28zndtZZZ9G7776bdiUIwGmjU9kQA6hKbWkXDd9po1PZEL5Vaku7aPhOG53KhvCtUlvaRSMAp40uYw1VB2Ce+fncc8+lSpUq0auvvkp5eXkZA+Oqow8//JDOPPNMc068PBJP4FXexkE32bZgwQIzi/QLL7xQXhf4eRYQ2L59uzmL2O3zWXBKOIUyCMB3tN4e8A3f0SIQrbPF5ztavgcMGED8GCc/oonNDQHVAZhnfuZ1c/kNxMsI3XrrrXT22Wdbr5/rRgXR999/T8cffzxt3LiRHnvsMbr++usDlVJWAM6tk0v97+1PuRVzqXLFyuZl/rvCgf9O+F6Sn8e3431zKuQEqgk7hU8AA2j4zF0eEb5d0g//2PAdPnOXR4Rvl/TDPzZ8h8/c5RERgF3SP3Bs1QGYlzjimZ9jG8/0nJOTY9bQja0DzF+PPvpo768OL1++3ITfpUuX0tChQ+kvf/mL9buDg/F3a78jGmzdVVEHHICrVqpa9KpSqUriv3MS/51XKY+q5Vaj/Mr55mv8Kz83yfeK7VepYqXMFZ/lPeEWqiwXXOz04Bu+o0UgWmeLzzd8R4tAtM4Wt0C79606AMdmeObljmKvmTNnUuwvabG1gCtWrEht27Yl/pmP27p16+iEE06gOXPm0MCBA83axrHabeqVCMA29aTTlq9Alxaea1SpQTUq//SqUoOqV65+4N+x75fylUN7Nm74hSkbrZZ+TvAN39EiEK2zxecbvqNFIFpniwDs3rfqAJwM3/79+02QjA/F06ZNM7MpFxYWuiderAKu6+STT6bJkyfT+eefT6+//rq5ip2JjQPw8o3L6RcjfkF7CvfQrr27zGt34e6i/y763t6S3+Of7af9mSjFqz44VHNILi0w165am2pVqUX8tfirVtUD3+ef51TMjKdMwcEvTJkiqaMf+NbhKVNVwnemSOroB751eMpUlfCdKZI6+kEAdu8p6wJwaUgXLlxIzZs3d088roLdu3fTaaedRp999hn179/fzPhcuXLljNVoOws0/zFh7769JcJyaSHafD8uSO/cu9O03b5nO+0o2EE79u448LVgx/++99O/Y9/nr1pCN19tjgXkWDA+KO8gqptX98CrWl0q+ne1/32PbwOX2DCASlD1t0/49teNRGXwLUHV3z7h2183EpXBtwRVf/tEAHbvJjIB2D3qxAr4avRFF11k1jDm258//vhj4km9MrnZBuBM1hK0Lw7dHJrjA7EJzAU/heifAvO2PduIX1t3b6Wte7b+72v8f//0s9i+QWuQ3o+foS4RjPPqUoP8BubVsHrDA1/zD3ytk1eHKlaoWG5ZGEDLRZRVO8B3Vuks92Tgu1xEWbUDfGeVznJPBr7LRZRVOyAAu9epOgD37NmTOnfubCa54q8c+HJzc91TDVDB448/Tr/73e/Mnuedd16p6xg/8sgjVK9evQA9ltxFYwBO60QDNNq3f5+56pwQluPCswnTe7bSlt1baPOuzbR592batGtTiRd/P+yNJwKrX61+iWAcC8gcmA+pcQgtmL6AalaqSX369Am7RBzPAQH8wuQAusNDwrdD+A4ODd8OoDs8JHw7hJ/BQxcUFhDf/Ri7GzL2yGHxfw84eQDVr1kfyyBlkH2qXakOwDy5FW+xCaM4/PJySByGO3XqZF4cjjN9ZTVVyMn2v/vuu+mee+4pt6tFixYR/6UonQ0BOB1qZbfhIM1XnZOF4427NtKGnRto/Y71tH7nT68d6w98b+d6c8VaeuOlqg6tdSg1rtGYGtdsfOBrjcYmIMf+zf+drROBSfP1qX/8wuSTDfla4FuesU9HgG+fbMjXAt8yjDmQ8l2EHEp3FuxM+tX8vJSf8ff58b0yfx7Xf+H+gHMNPUnUrn47BGAZ7YF6VR2AZ82aZSaPir14lmd+rjY+FHM4btmypQnFo0aNCgQlW3ZCAPbLJP8FMBaGi0LyTwF53Y51tGbHGlqzfQ2t3rbafOVXwb4CkZOoV62eCcaH1jyUmtZqSs3qNKPDax9OzWof+Mq3aGdiJnKR4tGpIYBfmKL1RoBv+I4WgWidbZQ/3zxJK9+hx4+6xb7yBYMg3+M2Ze0bOJCG/XZDAA6beInjqQ7Axc+Gl0XiUDx+/Hh67bXX6KuvviJ+pjQWiH2cBVryHYAALElXvm9+7/KVZhOKtx8IxbFwXPTv7atp1bZVtHLrSvPsdKY2nuCreCiOhWP+fs0qNTN1KPSTJoEo/8KUJjLVzeBbtb6Ui4fvlJGpbqDFd2yeltgjY3xHHD86Fvu3+e9i3+OfxUKq+RoXdDnkSv2h34c3BM/fUiWnCvHcL3znnfmaU4UW3reQWtZtiSvADiVlVQAuzvG9996jAQMG0O9//3vzfPA555zjEHX4h0YADp+5qyPyoPTvT/5N6/aso0PbHkortqygFVtX/O/rT/+9dsfajJRYp2odE5Bb1W1Fbeq2odb1WlObem3Mv6Vmuc5I4VnUiZZfmLIIudNTgW+n+EM/OHyHjtzpAcPwXbiv0ITVZI9wxb4XH2ZLC7W8OojWjcNnXm4e5VXKK/rKv7MU/17s5+ZncfsGapubZ4Iuv3gOl2QbJsFy/w7K6gDMeN9//30z2/L06dOpdevW7omHWAECcIiwPThUkAGUb8P+cduPRcF42eZltGTzElq0aREt3rSYFm1cZP46a7MdVvMwE4Zb1z0Qijkc83/z7da4rdqGbGLbIL4zdzT05JoAfLs2EO7x4Ttc3q6PFsQ3/6GbAyrPN1JWiOWfJduH2/q+cWCsXrk65efmU37l/ISv5vux78X9POH7P/2cv8fhNfbi4MqBNMiKGmEwQgAOg3LZx8j6AMyn37ZtW+rRowc999xz7omHWAECcIiwPThUkAG0vDJ5gOUJuzgIm0AcC8abFhV9j2c1TGfjAc1cMa7XxryOanAUdWjYgZrXae7NoJTOeblqkwnfrmrHcVMnAN+pM9PcAr412yu/dr4ayyGV5wPhOUA+m/gZbSnYQvWb1j8wieZPk2nyz+L/7dPVVw6T/LgUPxJVo8pPX+P/XfnA93kf/lo81CYLupVzKpcPLwv2QAB2LzESAZhvfZ46dSotW7bMPfEQK0AADhG2B4cK4xcmngWbn0PmcLxg4wKau24uzV0/l+asm0Pz1s+jdMIx/4WWw3D7Bu1NIOavHRt1NBNxYSudQBi+wd8fAvDtj4swKoHvMChn7hj8bGvxOTpMeE0SZPn7fJV2Px2Yo8bFVqtKLapdtXaJlwmzpYTa4kGXx27c1ZWePQTg9LhlspXqANyvXz/q2rUrdenSxbyaNWuWlE2HDh1owYIFtH273a2dmQQfRl8IwGFQ9ucYrn9h4r9oL928tCgQx4djvu061Y1no+58cGfq3KgzdTmki/nvBvkNUu0ma/d37TtrwXp6YvDtqRihsuBbCGzAbvluKL5Cy6E2fhJK/m8TdHccmJQy9jNeSifMjUMqB9g6eXUSQ2yVkqG2+D7cNqdiTpjl4ljFCCAAu39LqA7AvA5w/F+fateubYIwh2Je/7devXrEE2E9/vjjZhIsniE6ShsCcJRs+70sDj97FB+Iv1v7Hc1aM4sWbFiQ0l/BeekmDsLdG3en7od2p2MOOYZqVa0VLdE/nS1+QY6WdviG72gRkDnb2HO0/EdZXj2hrFc6dzSlWnVOhRziZQmr7q9KNSvVpBaHtKB6efWobrW6VDevrvlZ8f/m4Fva5EqpHh/7uyGAAOyGe/xRVQfgsWPHmlub+TVlyhSaO3cuxZY6igXj2DJII0aMoIEDB7onHmIFCMAhwvbgUBp/QeYlEGavnU2zVs+imatnmlA8Y/UMs15ykK0CVaC29dvSsY2PpWMPPdaE4iPrHxmJv25r9B3EKfZJTgC+o/XOgO/UffPve3x7Md+JFP9auS0x6EpdreXxiMNqw/yG5m4lDq8mwObVNd9P9t98WzH/vgrfqfvW3AIB2L091QG4OL6dO3ea2Z45EPPXpUuXUoMGDejiiy+ms846yz3tkCtAAA4ZuOPDZcsAyr/ELNuyjKb+OJWmrJxCU1cd+Mq3mgXZ+BeK4w47jk5ocoJ5HdP4GDP7Y7Zt2eI727xInQ98S5H1s1/4LullZ8FOMzYUD7j879j3d+3dlVGhfKWVwyyH2obVDwRb89/F/129oQm46V6Zhe+MavO+MwRg94pUB+B58+ZRy5Yt8RB+Ke8jBGD3H7AwK8j2AZRvVeNQPGnFJJq4YqJ58UQi5W287l+3xt1MGO7VtBf1bNLTLKWgfct239r9ZLp++M40Ub/7i6JvnkeCg+zCjQvN4zHm68YDXznkZmodezbPQfXg6gfTITUOKfXFP+fJGMOY6CmKvv3+BMpWhwAsyzdI76oDcE5ODg0aNIj+/ve/BznXyO2DABwt5VEbQHlG6vnr59OE5RNMGOavfBt14f7CMsXnVsylHof1oL7N+lKf5n3Mc8S5Obnq3ixR861OUIYLhu8MA/W8u2z1zbMlc6CNhdxYwOWvSzYtoYJ9BdZmeHmdprWaUpNaTYjXpec16GNB9+AaB0IvX631ZU1YPuFs9W0tM0s7QAB2L1Z1AOZJsAYMGFDu+r7fffcd1apVixo3buyeeIgVIACHCNuDQ2EAJeJnijkIj1061rzGLxtPO/fuLNMOz4h54uEnUt/mfemUFqdQ67qtQ/mLv+1bBr5tCepqD9+6fNlWq9k3r1XLa8nz8njfr/vefOXl8n7Y8AOt2b7GCg2HVp4MkcNtaS9e4ieMq7ZWJ1KssWbfmeQQlb4QgN2bjkQA5smvXnrpJdq7d6974iFWgAAcImwPDoUBtKSEPYV7zG3TY5eMpS+XfklfLvmSeEbqsrZmtZvR6S1PpzNanmGCcV5ungd2S5YA315qESsKvsXQetmxBt9bd281wfb7tQdC7pz1c8xXvjPH5kouX6FtXqc5tajTwnzlFy+Lx4GXf5buc7Zeiv6pKA2+feanrTYEYPfG1AXg1q1bU48ePah79+40ePDgQFeA+SoxB+DYDNHusYdTAQJwOJx9OQoG0PJN8JUJnlDr04Wf0phFY+jrZV8Th+TStrxKeXRys5OLAnHT2k3LP0hIe8B3SKA9OQx8eyIipDJ88r1512bzeAm/Yld0Oeiu2LoiLRo8L0OzOs0SQi6H3RYHtTBBt1putbT61dzIJ9+aOWqpHQHYvSl1AZhve+aNb2/h2WL5382bN6fOnTubNYD5K7/q1KlTRLdXr17Et0GvW7fOPfEQK0AADhG2B4fCAJq6BF4O4+ulX5tA/MnCT2j6qulldtKpUSc6v+355tWufrvUD5jBFvCdQZgKuoJvBZIyWKIL3zyvAj+bO2PVDLMcHb849C7etDjlM+Nblflumjb12hS9Wh7U0oRcvorr0/O3KZ+cQAMXvgVOA10GJIAAHBCU4G7qAvCKFSto/PjxNGHCBHr00UdNAN63b19RKI6xatKkCXXs2JF4aaRPP/2UevfuXTTJgCBPr7pGAPZKh3gxGEDtEfNM0x/N/4g+mP8BjV44mnjCltI2/sXu/DYHwnDngzuH/swZfNv71tQDfGuyZV+rtG/+fxuvv26C7k+Bl9dhL+v/ecnOiq/WFoXcunFht27LrFx+zt5s8h6kfUvVjX7TI4AAnB63TLZSF4DjTz42CdawYcNoypQpZv3f2GvlypVFu9aoUYM++OAD6tmzZybZed8XArD3ijJaIAbQjOI0t0bzs8Mchvk1b/28Ug/Az6Zd1O4iuqz9ZcRXicOYgAW+M+vb997g23dDma0vk775FubJKyfTpJWTaMqPU8ydLrzM0H7aH7hoXl+9Q8MOdFT9o6ht/bZFoZdnWMbV3MAYS90xk77tq0EP0gQQgKUJl9+/6gA8YsQIM7vzhRdeWOJM16xZQ7Nnz6aCggJza3TdunXLp5FleyAAZ5nQck4HA6isb57o5e05b9Ob379pJtYqbeNZpDkI8+uIg44QKwq+xdB62TF8e6lFrKh0fe8s2HlgvfSVk8yLg29Zf7xLdgL8PG7HRh2pY8OfXo06mmWFwvjDnhhQzztO17fnp4XySiGAAOz+raE6ALvH53cFCMB++8l0dRhAM0209P74mbi3v3+b3przlnmGuLQrKd0ad6PLjrqMLjnqEmpUvVFGC4TvjOL0vjP49l5RRgsM4pvnQVmyeYlZ7m388gMvvrrLk/0F2fJz86l9w/YJQbd9g/ZUo0qNIM2xTwYJBPGdwcOhK8cEEIAdC+C5pPbz/0EVb/yMLz8PvHr1arPO71FHHZUwAZbiU7MuHQHYGqGqDjCAutG1atsqeuv7t+ifs/5pZpVOtvEtgqcdcRpd1ekqOrPVmZSbk2tdLHxbI1TVAXyr0mVdbDLfBYUFNG3VNPNoxrjl40zw/XHbj4GOVbtqbep6SFc65pBjzJwFfHWXJ6TC7cuB8InvhM+3OGKvDoAA7F6H6gA8Z84cOv3002nJkiUJJPmNxbc9x148K/RBBx3knnbIFSAAhwzc8eEwgDoWQGRmS31l1is0atYomr12dtKCGuQ3oCs7XElXdb7KPEeX7gbf6ZLT2Q6+dXpLt2r2vWffHqrWsppZv5xf45aNo+0F28vtkiem4pDLYde8Gh9j1tTFLczlonO2Az7fztA7OTACsBPsCQdVHYA5/H788cfUokULM8szXwWeMWMGLV++3Jxk/P/smzZtSgsXLnRPPMQKEIBDhO3BoTCAeiAhrgRePoSvCvNr2ZZlSYs77rDjaNDRg8wt0tUrV0/pBOA7JVzqd4Zv9QrLPYHde3fThOUTzBrl70x/h+ZsnUMF+wvKbcfhtsdhPajHoQdefFtzpYqVym2HHfwhgM+3Py7CqAQBOAzKZR9DdQDmia3y8vJo3rx5VK3a/xZOX7t2LU2ePNnMDM0v/m9ePim2XJJ77OFUgAAcDmdfjoIB1BcTiXXw2pr/XfRfGjFthLlVmmeXLr7xDKsDOg6gwd0GU6u6rQKdCHwHwpQ1O8F31qgsOhH+fwM/sztm4RgTescuHUu8NnlZW+WcysRzCxx/2PHEf0A79tBjie8qwaabAD7fuv2lWj0CcKrEMr+/6gBcp04d6t+/P7366qvlkuFQXL9+/XL3y6YdEICzyWb554IBtHxGrvfYsHMDjZo5yoRhXn8z2da/RX+6ttu15pnhnIo5pZYM365thnt8+A6Xt9TRVmxZQR//8DF9vOBj84cx/n9CWRvfzsxBt1eTXtSraS8TfvNy86TKQ7+OCODz7Qi8o8MiADsCH3dY1QH4pJNOMld+eY1fbCUJIABH612BAVSPb557kJcqeW7ac/TyrJdpy+4tJYpvVrsZ/faY39KgToPooLyScxjAtx7fmagUvjNBMfw++I4PnimeQ+9HP3xEs9bMKrOIvEp51LNJT2q6rykdXeto+tVZv8rIpHnhnzmOmAoBfL5ToaV/XwRg9w5VB+BRo0bRNddcYybBiuIkV+W9fRCAyyOUXT/HAKrT57Y92+jlmS/TE988kXTiLP6FeODRA2loj6Fm1tbYBt86fadbNXynSy78djwz/Pvz3jcvvrWZP+OlbTkVcsxV3T7N+lCf5n3MM7xVKlUh+A7fm8sjwrdL+uEfGwE4fObFj6g6APNVlLPPPpsKCgrozTffpPz8fPdEPaoAAdgjGSGUggE0BMiCh+D/n32x5AsThN+Z8w4V7i9MOBovV3J+2/PpxuNuNL8ww7egDA+7hm8PpfxUEn92v1/3Pf17zr/p3Xnv0sTlE0tdG5ybNK/T3DziwI879D68N/EcAMU3+PbXt0Rl8C1B1d8+EYDdu1EdgGvXrk2tW7c2k1zx15tvvpnOO+88qlmz5GDiHnX4FSAAh8/c5RExgLqkn9ljL9u8jJ6Z8gw9O+VZWrtjbYnOezftTadUP4W61elGffv0zezB0ZuXBPD59ktL4b5Cs+53LPT+sOGHUgusWqkqnXT4SXTqEaea4NuybstyTwa+y0WUVTvAd1bpLPdkEIDLRSS+g+oAXLlyZdq7d28RJF72qGLFiiYM8xrAXbt2NV87depkZouO2oYAHC3jGECzz/euvbto5IyR9Jfxf6F56+eVOMGm1ZrSvafcS5e1vwzLnmSf/oQzwufbvWAOvTxT8xuz36C35rxFfKtzaVuTWk3o7FZn0xmtziD+g1WqE1fBt3vfYVYA32HSdn8sBGD3DlQHYL71edasWTR16lSaNm2a+Tpz5kzauXOnIRtbB5hDcdu2bc3PorQhAEfJNuGW2CzWzculvDv3XfrzuD/TuGXjSpwp31J5+wm30xUdrsCEOVn6PsAvyG7Ecuj9csmX9MZ3b5hlzFZvX11qIZ0P7kzntD7HvDo07FD0O0g6lcN3OtT0toFvve7SqRwBOB1qmW2jOgAnQ8Fr/c6ZM8eE4Vgw5nC8detWKixMfKYusyj96w0B2D8nkhVhAJWk60/fPKMsB2EOxPtpf0Jhh9c+nG7reRv94uhfEK8Xii17CODzHZ5LfqZ3wvIJNGrWKBN812xfk/TglSpWMrc2n9vmXDq79dl0aM1DM1YkfGcMpYqO4FuFpowViQCcMZRpd5R1Abg0EgsXLqTmzZunDUpjQwRgjdbSrxkDaPrsNLZ88f0X6ZXlr9Cnaz4tMWEW3355a89bzezRPKMsNv0E8PmWd8iPGfA63Rx8F2xcUGro7du8L13U7iITfJMtUZaJSuE7ExT19AHfelxlolIE4ExQtOsjMgHYDpPO1gjAOr2lWzUG0HTJ6WwX89306Kb0wFcP0IszXqS9+/43JwKfFV+RurPXnSYI5+bk6jxRVG0I4PMt80ZYvW01vfrtqyb0Tlo5KelBcivmUr8W/Uzo5Su9UqE3/uDwLePb117h21czMnUhAMtwTaVXBOBUaCnbFwFYmTDLcjGAWgJU1ry470UbF9GDXz1Iz09/ngr2FSScTcuDWtKwk4bRRUdeRLycEjZ9BPD5zpyzgsIC+nD+hzRi2gjztfiSY3ykClSBTjz8RPp5+5+b5cfq5NXJXAEBeoLvAJCyaBf4ziKZAU4FATgAJOFd1AfgUaNG0cMPP0xLliyhunXrUrt27ahz585m9md+NW7cWBihv90jAPvrRqIyDKASVP3tszTfSzYtoYe+fsj8cr+ncE/CCXRq1InuP/l+sxxLbJJAf88QlcUTwOfb/v3w3drv6Plpz9PImSNLfa63Y8OOJvRe2v7SjD7Tm2r18J0qMd37w7duf6lWjwCcKrHM7686AI8ZM4b69etnqFSpUoV2795tfqnjCSxiv9zVr1+/KAzfe++9mSfocY8IwB7LESgNA6gAVI+7LM/30s1L6Z7P76EXZrxAPIt0/NaraS96oM8DdNxhx3l8higNAdj+PbB191Zzi/Nz058zE1sl2w6reZgJvT/v8HM6qsFR9gfNQA/lfb4zcAh04REB+PZIRgilIACHALmcQ6gOwKeeeiqNHj2aXnzxRbr88svpiiuuoH/+85901113ma/z589PCMSYBdr9Gw4VyBHAACrH1seeg/qes24O3fnZnfSv7/5V4jT4ecaH+z5Mreu19vEUUVMcgaC+Ae0AgZmrZ9LTk56ml2e9TNv2bCuBpUpOFTqv7Xk06OhB1Kd5H+8eDYDvaL2T4TtavhGA3ftWHYAPO+wwc9vz9OnTDcmBAwfSyJEji5Y7euqpp2jo0KE0ePBgatSoEd14443uiYdYAa4Ahwjbg0NhAPVAQoglpOp78srJdNuY22j0wtEJVeZUyKFrul5Df+z9R6qfXz/EM8ChUiGQqu9U+s6WfXft3UVvzH6Dnp78NI1fPj7pafFjAFd1usrc4hzGZFbpsoXvdMnpbAffOr2lWzUCcLrkMtdOdQDOy8ujc845h1599VVDZNCgQeZqcPyVXv73ddddR7NnzyYOzFHaEICjZBuzxEbLdvq+P1v0Gd065laauGJiArKaVWrS7SfcTkO6D6GqlapGDaf354tfkEtXtGDDAvrb5L+ZCeDW71xfYsfaVWvT5e0vp0GdBlGngzt575oLhG8VmjJWJHxnDKWKjhCA3WtSHYCbNm1KnTp1onfeeceQ5Cu9f/vb32jLli2Un59fRLdVq1bmWeEnn3zSPfEQK0AADhG2B4fCAOqBhBBLsPHN8yTwLdE3f3ozLdq0KKHqw2sfbp4PvuTISzBRVog+yzuUje/y+tb4c34Pj1k0hh6f+Dh9MO8D2k/7S5zGMYccQ7/p+hu65KhLqFpuNVWnCd+qdFkXC9/WCFV1gADsXpfqANy7d2/avn07TZ482ZAcNmwY3X333TRz5kzi8BfbLr30Upo4cSItXLjQPfEQK0AADhG2B4fCAOqBhBBLyITv3Xt30xPfPEH3jb2PNu3alFB998bdafhpw6lb424hnhUOVRqBTPjOBro7CnbQqJmjTPCdvXZ2iVPKq5RHl7W/zATfLod0UXvK8K1WXVqFw3da2NQ2QgB2r051AObJrh566CFavXo11a5dmz766CM644wz6K9//Stdf/31RXRPO+00+uKLL2jHjh3uiYdYAQJwiLA9OBQGUA8khFhCJn2v37Gehn05jJ6c9CTt3bc34SwGHj3QXBFuWL1hiGeHQxUnkEnfGuku37KcnvzmR1IjIAAAIABJREFUSXp26rO0YeeGEqfQum5r+u0xv6UrO15JfMuz9i3qvrX7S7V++E6VmO79EYDd+1MdgGfNmkU33HADDRkyhM4++2zas2ePec6Xl0D65JNPqEOHDsRLJXEA5jfbvHnz3BMPsQIE4BBhe3AoDKAeSAixBAnf89fPN7dFvz3n7YQz4eeD7znxHhp8zGDKzckN8SxxqBgBCd8a6E77cRr9edyf6fXZr1Ph/sISJZ92xGl0fffrqV+Lft7N5GzDN6q+bZhpbgvfmu2lXjsCcOrMMt1CdQBOBmPUqFFmOSQOwdWqVSu66vunP/2Jbr755kzz87o/BGCv9WS8OAygGUfqdYeSvj9f/DkN+WgIzVozK4FBu/rt6P9O+z86udnJXrPJxuIkffvGi5/v5dnKOfh+uvDTEuXx87wDOg6g67pfR23qtfGt/IzUEyXfGQGmvBP4Vi4wxfIRgFMEJrB71gVgZsRLId1xxx20fPlyE4J/85vf0IMPPkg5OTkCCP3tEgHYXzcSlWEAlaDqb5/SvvlWaF5H9a7P7yrxfPCF7S6kR/o9Qk1rN/UXUJZVJu3bB1wFhQX02uzX6JFxj9CM1TNKlNS0VlO6rtt1dFXnq7LiNueymEfBtw/vOV9qgG9fTIRTBwJwOJzLOkpWBuDYCW/YsIHq1KkT2ZlMEYDdf8DCrAADaJi03R8rLN9rt6816wePmDYiYaZdnmzolp630I3H3Uh5uXnugWR5BWH5doFx+57t9Pepf6dHxz9Ky7YsK1FC10O6mvfZ+W3Pp0oVK7koMfRjZrPv0GEqOCB8K5CUwRIRgDMIM82usjoAp8kka5ohAGeNykAnggE0EKas2Sls35NXTqbrPrqOJiyfkMCQl036a/+/0jmtz4nsHxvDeFOF7TuMc9qyews9Nekp+sv4v9C6HetKHJKf773p+Juod9PekXtvZaPvMN5TWo8B31rNpVc3AnB63DLZSnUA7tmzJ3Xu3JmOPvpo85UDX24uJmiJvUEQgDP5UfG/Lwyg/jvKZIUufO/bv49emvGSmShr9fbVCadzSotT6PFTH8/aZzIz6S6dvlz4TqfOIG027txIwycON0sZbdy1MaFJbsVcs4zRH477Ax3V4Kgg3WXlPtnkOysFZfik4DvDQD3vDgHYvSDVAbhixYqGIE94xRuH33bt2pkw3KlTJ/PicMzPAUdxQwCOlnUMoPAdFoHNuzbTvV/cS8O/GZ6wbBLfnsoz8t7V+y7imaOxZY5ANny++Sov3+bMa09v3bM1AQ5PbHVNl2vohh430KE1D80cOKU9ZYNvpeidlA3fTrA7OygCsDP0RQdWHYB5GaTJkycXvWbOnEm7d+9OCMUcjlu2bGlCMc8QHaUNAThKtokwgMJ32AS+X/s9Dfl4SImZehtVb0QP932YLu9weeRuXZVyoPnzvWrbKjOx1dOTn6YdBTsSENWoXIOu7XYt3XDsDVQ/v74UPnX9avatDrYHBcO3BxJCLAEBOETYpRxKdQAufk579+4lDsXjx4+n1157jb766ivi5RR44yBcWFhyDUH3CuQqQACWY+tjzxhAfbQiV5Mvvvn/sbxu8ND/DKUlm5cknPDxhx1vlk3qdHAnORAR6dkX36ngXrZ5mVnKiCe42rV3V0LT2lVr0++6/46GdB9CdfLqpNJtJPbV6DsSYoROEr6FwHraLQKwezFZFYCL43zvvfdowIAB9Pvf/948H3zOOee4Jx5iBQjAIcL24FAYQD2QEGIJvvneWbCTHv76YXrw6wcTwk7FChXp111+TcNOGkZ1q9UNkVB2Hco332XRXbRxET341YP0/PTnqWBfQcKu9arVo6HHDqXB3QbjNvkyIGrynV2fNDdnA99uuLs6KgKwK/L/O25WB2A+zffff58uuugimj59OrVu3do98RArQAAOEbYHh8IA6oGEEEvw1ffiTYvN1WC+Khy/HZR3EP3p5D/R1Z2vppyK0VqTPRNvC199x5/bvPXz6IGvHjATpRXuT7zjim+L56WM+I8h+ZXzM4Ekq/vQ4DurBYR8cvAdMnDHh0MAdiyA7wzeH7tH2H0tYhW0bduWevToQc8995zYMXzsGAHYRytyNWEAlWPrY8+++/5kwSc05KMhNHf93AR8nQ/ubG6LPu6w43zE6m1NPvuevWY23T/2fnpt9mvEM4XHbzyh1c3H30xXdboK60Wn8O7y2XcKp4FdAxKA74CgsmQ3BGD3IiMRgPnW56lTp9KyZcvcEw+xAgTgEGF7cCgMoB5ICLEEDb73FO4xy93c88U9tG3PtgQ6V3a8kh7q+xDxlUFs5RPw0fe0H6fRfWPvo7e+f6vECTSr3Yxu7XkrsecqlaqUf4LYI4GAj76hSI4AfMux9bFnBGD3VlQH4H79+lHXrl2pS5cu5tWsWbOkRDt06EALFiyg7du3uyceYgUIwCHC9uBQGEA9kBBiCZp8r9y6km4afRONmpU4Ez/PAHzPifeYWYBzc7CGe1lvH598f7PiGxr25TB6f977JUpuVbcV3dbzNrOWL5ym/z8En3ynfxZoGZQAfAcllR37IQC796g6APM6wLE1gBll7dq1TRDmUMzr/9arV494IqzHH3/cTILFM0RHaUMAjpJtLIMULds6fY9dMpau++g6mrF6RoKudvXb0fBTh1Of5n2ipjHw+frwCzL74+A7euHoEnUfWf9IuqPXHXRRu4vwjHdgq6Xv6IPvDJwGughIAL4DgsqS3RCA3YtUHYDHjh1rbm3m15QpU2ju3LlFSx3FgnHsEecRI0bQwIED3RMPsQIE4BBhe3AoDKAeSAixBK2+9+7bS89OeZbu+O8dtHHXxgRiF7a7kP5yyl+oSa0mIZLUcShXvnkM/e+i/5rg+8WSL0rA6tSokwm+57Y5l3jGb2yZIeDKd2aqRy+pEoDvVInp3h8B2L0/1QG4OL6dO3ea2Z45EPPXpUuXUoMGDejiiy+ms846yz3tkCtAAA4ZuOPDYQB1LCDkw2v3vW7HOrp9zO1mjdj9dGC9dt7yKuXR73v8nm46/iaqUaVGyFT9PVzYvjn4fvTDR3Tfl/fR+OXjS4Dp3rg73dnrTjq95ekJd2L5S1BXZWH71kUn+6qF7+xzWtYZIQC7951VAdg9Tr8qQAD2y4d0NRhApQn71X+2+J68crK5LXrC8gkJgBvkN6B7T7yXrup8FVWqWMkv+A6qCcs3z+L87tx3TfCd8uOUEmd6QpMTTPDt27wvgq/g+yAs34KngK5TIADfKcDKgl0RgN1LRAB270CsAgRgMbRedowB1EstYkVlk28OXSNnjKRbPr2FVm9fncCsbb229Od+f478lUZp33xr+mvfvkYPfv0gfbvm2xLvWw68HHx7Ne0l9p5Gx/8jIO0brP0iAN9++ZCuBgFYmnD5/asOwLVq1aLOnTubV2wm6NatW5d/1hHZAwE4IqJ/Ok0MoPCtncDW3Vvpz+P+TI+Me4R27t2ZcDonHX4SPXLKI8TrCEdxk/p87yjYQc9Ne84wX7J5SQm0Z7Q8wzzje+yhx0YRu7NzlvLt7IRw4DIJwHe03iAIwO59qw7AVapUoYKCgoTbsPLz86lTp05FgZiDMYfi+Nmi3WMPpwIE4HA4+3IUDKC+mAinjmz2vWLLCrrrs7vo+enPJzwfzGR/dtTP6K5ed1Hb+m3DAe3JUTLte+POjfTkpCfp8YmPEz+PXXw7r815JvhG9Q8OrrVn2rfr88HxyyYA39F6hyAAu/etOgAXFhbS9ddfT0899ZQhWbduXdq1a1fRer+x0FutWrUSobhNmzZZH4oRgN1/wMKsAANomLTdHysKvmesmkE3jr6xxLI7FagCXdr+UnNLbpt6bdzLCKGCTPleunkpDZ84nJ6Z8gxt27MtoXJ+1vrn7X9ONx53Ix3Z4MgQzgqHKI1ApnyDsA4C8K3DU6aqRADOFMn0+1EdgJ988kkaMmQIDR48mIYNG0Z8SzRvCxYsoJdeeokeffRR2rZtG/GV4t27d5ufxYfirVu3pk9OQUsEYAWSMlgiBtAMwlTQVZR8/+eH/9AfRv+hxLOpvOzOpUcdCMKt62X34y82vnlG56+WfkXDvxlOb3//NhXuL0x4h1fLrUa/7PxLGtpjKJag8uSzb+Pbk1NAGSkQgO8UYGXBrgjA7iWqDsDt2rWjnJwcmjVrVlKSCxcupP79+9Mpp5xCV199NU2ePNm8Jk2aRLNnzy4Kxe41yFSAACzD1ddeMYD6akamrqj5LtxXSK/Pfp3u/fJemrNuTgJUDsKXtb/MBOFWdVvJAHfcazq+d+3dRa9++6q54jtt1bQSZ3BQ3kE0pNsQurbbtVS3Wl3HZ4jDxxNIxzcI6iUA33rdpVM5AnA61DLbRnUAzsvLo3PPPZdeeeWVUql8++235vbnt956K2Et4D179lDlypUzS9Oz3hCAPRMiXA4GUGHAnnUfVd8chF+b/Rrd+8W9NHf93AQrfGv0ma3OpCHdh1CfZn2y6jGXVHzzM9RPT37a3Oac7Pne5nWa0/Xdr6erOl1F+ZXzPXtnoxwmkIpvENNPAL71O0zlDBCAU6Els6/qAHzwwQdT8+bN6euvvy6TzkknnWSuFH/66acyFD3tFQHYUzFCZWEAFQLrabdR981BmK9u8hXheevnlbDUrn47c3Xz8g6XZ0XIK883X+3l9Xt54rBPFnxCvLRU8Y3/KMDB9/SWp1NOxRxP39koCwE4eu+B8j7f0SOS3WeMAOzer+oAfMUVV5irvxMmTKCuXbuWSvOSSy6h0aNH04YNG9wTD7ECBOAQYXtwKAygHkgIsQT4PgCb16/lIHz/2PtL3BrNP69dtTZd3elqGtxtMB1e+/AQDWX2UMl887O9k1dONqH3lW9foU27NpU4aF6lPLqy45V0XbfrMLFVZpWI9obPtyhe7zqHb++UiBaEACyKN1DnqgMwP8fLawDXq1fP3OLcvXv3EifNyyTxjM+rVq0qmh06EJks2AkBOAskpnAKGEBTgJUFu8J3okS+4jl6wWgz0dOH8z8sYZifEz652cn0syN/Rue1PY/4+VdNW7zv/2/vPKCuqq61PWkiAVQUsf9eVGyJIqBGUMES27UmVq6aoCZEc+0mxqGIDUOKdSQqXk0sEYwFSVBjYhmGa4tERFFQgg07GBELKCDyj7Vzv2+AUvZ31plrzXn2szMYathrrXc/D4fFy9lnn1c+eEVGTxktNz57o0x5b8pSLyOU/R9t+yM5rvdx7q7VkxetrLy+tcjanBffNr1opaIAa5EtP6/rAhwu85ZbbpHjjjtOwlcifec735GBAwfKdtttJ+Grj1566SW5+OKL5Z577pF+/frJI488Up5MA5xJAW4AiS24BDbQFsBqgFPxvWyJ4Zbo34z/TfHO6Je/6ieMate6ney58Z5y+NcPlwM3P1BWab+K6V8R4Xbvq8deLU/MekImfTZJJr83eal5w9OcD93yUBm0zSDpv2F/CaWfwycBXt8+vdWaGt+1kvM5jgKc35v7AhwQhmIbSnAovE1fc9SENtwi1rZt2+IW6AEDBuQnnjABBTghbANLsYEakJAwAr5XDPujeR/Jjc/cKL8e/2t5adZLSx3Qvk374jOx397827LzhjvLhqtuaOLhWR/P+1geevUhuXvq3XLPtHtk5pyZy7zgUHYH9Rwkh2x5iHRu33nFYDjDPAFe3+YV1TUgvuuK0/xkFOD8ihqiAAeM4R3gUaNGFbdCh686mjlzpnTq1El23HFHOeecc5Z6e3R+/LoJKMC6fK3NzgZqzYhuHnyX5xtuj378jcfltudvkzum3CEz5sxY5uD1V1lfdvp/O8lOG+xUFOKvr/l19QdGhc8xPz/zeRn/1nh58s0n5cm3nixubV4ki5aZM+T6zhbfke/1/J5svPrG5WFwpgsCvL5daKpbSHzXDaWLiSjA+TVlLcDhK4rCd/m2bs1tWhq/FCjAGlTtzskGateNRjJ810Y13E48bvq4ogzf+cKdMuvT5T8ccdX2q0rfDfpKj9V7FO8Ob7jahsXDtMK/d/1a19LvFoeS++4n78qbH73Z/GP67Oky4Z0JxY+5C+Yu94JaS2vZetWt5Xs7fE/233R/Sm9t+t2M4vXtRlVdguK7LhjdTEIBzq8qawEOxTd8l+9WW21VPMyq6Uf473bt2uWn4zwBBdi5wBbGZwNtITDnp+M7XuCChQuK24zvnHKn/O/0/5Vps6a1aNLwmdtQhMNniMPHb4r/femf8xbOk/C9vO988s5Sv5poeQuG8r33JnvLAZsdIB3f7iid23WW3XbbrUUZOdknAV7fPr3VmhrftZLzOY4CnN9b9gL85c/sBiSh/IZ3hhcvxT179izKMkd5AhTg8qwa4Uw20EawWP4a8F2eVdkzwzu0j73+mDzy+iPy6OuPysR3J7a4tJZd68vntW3dVrZea2v55nrfLH5sv972slnXzZofZIXvWsn6HIdvn95qTY3vWsn5HEcBzu8tawFea6215L333lsqhS8X4/Bu8WabbVaU4r59+xZ/Cx7+m2PZBCjA1frVwQaK72oR0L/a8CCqJ958Qp559xkJtytP//DfP16b/dpSny5dJlH4+qXwOePwY73O68kWXbeQb67/Tem1di/p0G7Zf8nL67sM3cY5B9+N47LMleC7DKXGOYcCnN9l1gIcLv+tt96Sp59+WiZMmND8z3feeadUKe7Ro4eccMIJ8v3vf186duyYn6axBBRgY0KU47CBKgM2Nj2+8wkJ3y7wwWcfNJfiTxd8WjywKvz/X/5neGd33c7r/rvwrrKehNumaznwXQs1v2Pw7dddLcnxXQs1v2MowPndZS/AS0MwY8aM5kLcVI7feOONr5za9C7xeuutJyNGjJD//M//zE/UUAIKsCEZCaKwgSaAbGgJfBuSkSAKvhNANrQEvg3JSBAF3wkgG1qCApxfhskCvDQs77//fnMpDt/7G3588sknzaeGW6Svuuoq+eEPf5ifqpEEFGAjIhLFYANNBNrIMvg2IiJRDHwnAm1kGXwbEZEoBr4TgTayDAU4vwg3BfjLqD777DMZPXq0XHzxxfLiiy8WPx1KcPhNpH///vnJGkhAATYgIWEENtCEsA0shW8DEhJGwHdC2AaWwrcBCQkj4DshbANLUYDzS3BbgJvQLVy4UE499dTi3d9whM8FT506NT9ZAwkowAYkJIzABpoQtoGl8G1AQsII+E4I28BS+DYgIWEEfCeEbWApCnB+Ce4LcBPCQw89tHhHOHwueOzYsbLvvvvmp5s5AQU4s4DEy7OBJgaeeTl8ZxaQeHl8JwaeeTl8ZxaQeHl8JwaeeTkKcGYBItIwBfjVV18t3v0NT+EcPHiwXHPNNfnpZk5AAc4sIPHybKCJgWdeDt+ZBSReHt+JgWdeDt+ZBSReHt+JgWdejgKcWUAjFeCAsk+fPjJx4kTZZpttiq9UqvpBAa7WrwA2UHxXi0C1rpbXN76rRaBaV8vru1q+KcD5fTfMO8AB5dFHHy0jR46UNddcU8JXKVX9oABX61cAGyi+q0WgWlfL6xvf1SJQravl9V0t3xTg/L4bqgD/6Ec/Kr4PeKWVVpLwlOiqHxTgav0KYAPFd7UIVOtqeX3ju1oEqnW1vL6r5ZsCnN93QxXgI444Qm6//Xbp1KmTfPTRR/npZk5AAc4sIPHybKCJgWdeDt+ZBSReHt+JgWdeDt+ZBSReHt+JgWdejgKcWUDuzwB/4xvfkN69exef3Q3/7NWrV1Feaz3CL6jXX39dNtlkE/nnP/9Z6zQNM44C3DAqS10IG2gpTA1zEr4bRmWpC8F3KUwNcxK+G0ZlqQvBdylMDXMSBTi/yqzvALdu3br42qKmI/x7KK9NhTiU4vBj1VVXXSGpm266SY455phivoEDB8ott9yywjGNfgIFuNENL3l9bKD4rhaBal0tr298V4tAta6W13e1fFOA8/vOXoC/jGDxQtz0c927d1+iFG+99day1lprFT/93nvvye9+9zs577zzZP78+XwP8GJAKcD5X2ApE7CBpqSdfy1853eQMgG+U9LOvxa+8ztImQDfKWnnX4sCnN9B1gL8t7/9rfjaovCVReGfU6dOlYULF36FytJKcbt27ST8mDt3bnF++P7fcF6/fv3kkUceyU/WQAIKsAEJCSOwgSaEbWApfBuQkDACvhPCNrAUvg1ISBgB3wlhG1iKApxfQtYC/OXL//TTT2XSpEnNhTiU4ueff17mzZtXilS4ffrhhx+W9dZbr9T5jX4SBbjRDS95fWyg+K4WgWpdLa9vfFeLQLWultd3tXxTgPP7NlWAl4bj888/lylTpjSX4vBu8XPPPbfEU567du0qRx11lJx77rnSpUuX/FSNJKAAGxGRKAYbaCLQRpbBtxERiWLgOxFoI8vg24iIRDHwnQi0kWUowPlFmC/Ay0L07rvvyqxZs6Rz587FO77hgVoej/B9xcOHD5dbb721eIL16quvLnvvvbdceOGFsv7660ddEgU4Cp+7wWyg7pRFBcZ3FD53g/HtTllUYHxH4XM3GN/ulEUFpgBH4avLYLcFuC5Xn3mSUH533313efzxx2WdddaRnXfeWV577TUZP368rLnmmvLEE0/IxhtvXHNKCnDN6FwOZAN1qa3m0PiuGZ3Lgfh2qa3m0PiuGZ3Lgfh2qa3m0BTgmtHVbSAFuG4oWz7R0KFD5aKLLpK+ffvK/fff3/wdyJdddpmcccYZ0r9/fxk3blzLJ/6/ERTgmtG5HMgG6lJbzaHxXTM6lwPx7VJbzaHxXTM6lwPx7VJbzaEpwDWjq9tACnDdULZsogULFki3bt1k9uzZxeebe/XqtcQEPXv2LB4I9tRTTxVfAVXLQQGuhZrfMWygft3VkhzftVDzOwbfft3VkhzftVDzOwbfft3VkpwCXAu1+o6hANeXZ+nZwtOqd9ttt+IW55deeukr48I7w+Ed4vD9xueff37peRc/kQJcEza3g9hA3aqrKTi+a8LmdhC+3aqrKTi+a8LmdhC+3aqrKTgFuCZsdR1EAa4rzvKTXXHFFXLaaafJoYceKrfffvtXBt57772y3377yUEHHSRjxowpP/FiZ1KAa8LmdhAbqFt1NQXHd03Y3A7Ct1t1NQXHd03Y3A7Ct1t1NQWnANeEra6DKMB1xVl+stNPP10uv/zyogSHz/x++Xj22Wdlm222kd69e8uECRPKT0wBrolVIwxiA20Ei+WvAd/lWTXCmfhuBIvlrwHf5Vk1wpn4bgSL5a+BAlyeldaZFGAtsiuYd/DgwXLdddfJOeecI8OGDfvK2eG26B49esimm24qU6dOXe5s4Z3epR0vv/xy8TnjG2+8MdNVsmxKAnPmzCmW69ixY8plWSsTAXxnAp9pWXxnAp9pWXxnAp9pWXxnAp9p2UGDBhVf4zp58uRMCViWApzp18APfvADuf7662XIkCHFk6C/fEybNq0ovxTgTIIcLssG6lBaRGR8R8BzOBTfDqVFRMZ3BDyHQ/HtUFpEZApwBLw6DaUA1wlkS6fhFuiWEuP8FRHgFqoVEWqsn8d3Y/lc0dXge0WEGuvn8d1YPld0NfheEaHG+nlugc7vkwKcyQEPwcoEvoGXZQNtYLlLuTR847taBKp1tby+8V0tAtW6Wgpwft8U4EwOyn4NUvgqpAsuuKCmlDwFuiZsbgfxBya36moKju+asLkdhG+36moKju+asLkdhG+36moKTgGuCVtdB7kpwOHzsj/72c+kVatWEh7u5P2YP39+8YCqDz/8UJ5++mnp1avXEpfUs2dPmTRpkowfP1622267mi6XAlwTNreD2EDdqqspOL5rwuZ2EL7dqqspOL5rwuZ2EL7dqqspOAW4Jmx1HeSmAF966aXyk5/8pCjACxcurCuEXJOFB2BdfPHF0q9fP7n//vubn94bvhbpjDPOkJ122kkeeeSRmuNRgGtG53IgG6hLbTWHxnfN6FwOxLdLbTWHxnfN6FwOxLdLbTWHpgDXjK5uAynAdUPZ8ok+++wz2WWXXeTJJ5+UddZZR3beeWeZPn168d9rrLGG/P3vf5dNNtmk5RP/3wgKcM3oXA5kA3WprebQ+K4ZncuB+HaprebQ+K4ZncuB+HaprebQFOCa0dVtIAW4bihrm+jTTz+V4cOHy6hRo+SNN96QLl26yN577118NdIGG2xQ26QU4ChuXgezgXo1V1tufNfGzesofHs1V1tufNfGzesofHs1V1tuCnBt3Oo5igJcT5rG5uIdYGNClOOwgSoDNjY9vo0JUY6Db2XAxqbHtzEhynHwrQzY2PQU4PxCKMD5HagloACroTU5MRuoSS1qofCthtbkxPg2qUUtFL7V0JqcGN8mtaiFogCroS09MQW4NCp/J1KA/TmLScwGGkPP31h8+3MWkxjfMfT8jcW3P2cxifEdQ8/fWApwfmcU4PwO1BJQgNXQmpyYDdSkFrVQ+FZDa3JifJvUohYK32poTU6Mb5Na1EJRgNXQlp7YTAG++eablxv6vvvuk9tuu634GqQbbrhhhRf43e9+d4XnNPoJFOBGN7zk9bGB4rtaBKp1tby+8V0tAtW6Wl7f1fJNAc7v20wBbt26dVFul3csWrSo+OkVnRd+/vPPP89PN3MCCnBmAYmXZwNNDDzzcvjOLCDx8vhODDzzcvjOLCDx8vhODDzzchTgzAJCl1zU1CozZwkFuF5HKMALFy6s13Ru56EAu1VXU3A20JqwuR2Eb7fqagqO75qwuR2Eb7fqagqO75qwuR1EAc6vzkwBHjdu3HJphNufR4wYUbz72/QbxfIGDBgwID/dzAkowJkFJF6eDTQx8MzL4TuzgMTL4zsx8MzL4TuzgMTL4zsx8MzLUYAzC7D0DvCKUFx66aXyk5/8pCjAvLu7Ilr//nkKcDlOjXIWG2ijmCx3Hfgux6lRzsJ3o5gsdx34LsdNeYn7AAAgAElEQVSpUc7Cd6OYLHcdFOBynDTPMvMO8IoukgK8IkJf/XkKcMuZeR7BBurZXsuz47vlzDyPwLdney3Pju+WM/M8At+e7bU8OwW45czqPYICXG+ihuajABuSkSAKG2gCyIaWwLchGQmi4DsBZENL4NuQjARR8J0AsqElKMD5ZVCA8ztQS0ABVkNrcmI2UJNa1ELhWw2tyYnxbVKLWih8q6E1OTG+TWpRC0UBVkNbemIKcGlU/k6kAPtzFpOYDTSGnr+x+PbnLCYxvmPo+RuLb3/OYhLjO4aev7EU4PzOKMD5HagloACroTU5MRuoSS1qofCthtbkxPg2qUUtFL7V0JqcGN8mtaiFogCroS09MQW4NCp/J1KA/TmLScwGGkPP31h8+3MWkxjfMfT8jcW3P2cxifEdQ8/fWApwfmduCvDtt98u11xzTUHs4Ycfzk/OQQIKsANJdYzIBlpHmA6mwrcDSXWMiO86wnQwFb4dSKpjRHzXEaaDqSjA+SW5KcD5UflLQAH25ywmMRtoDD1/Y/Htz1lMYnzH0PM3Ft/+nMUkxncMPX9jKcD5nVGA8ztQS0ABVkNrcmI2UJNa1ELhWw2tyYnxbVKLWih8q6E1OTG+TWpRC0UBVkNbemIKcGlU/k6kAPtzFpOYDTSGnr+x+PbnLCYxvmPo+RuLb3/OYhLjO4aev7EU4PzOKMD5HagloACroTU5MRuoSS1qofCthtbkxPg2qUUtFL7V0JqcGN8mtaiFogCroS09MQW4NCp/J1KA/TmLScwGGkPP31h8+3MWkxjfMfT8jcW3P2cxifEdQ8/fWApwfmcU4PwO1BJQgNXQmpyYDdSkFrVQ+FZDa3JifJvUohYK32poTU6Mb5Na1EJRgNXQlp6YAlwalb8TKcD+nMUkZgONoedvLL79OYtJjO8Yev7G4tufs5jE+I6h528sBTi/MwpwfgdqCSjAamhNTswGalKLWih8q6E1OTG+TWpRC4VvNbQmJ8a3SS1qoSjAamhLT0wBLo3K34kUYH/OYhKzgcbQ8zcW3/6cxSTGdww9f2Px7c9ZTGJ8x9DzN5YCnN8ZBTi/A7UEFGA1tCYnZgM1qUUtFL7V0JqcGN8mtaiFwrcaWpMT49ukFrVQFGA1tKUndl2A//rXv0r4cdRRR0nv3r1LX3RVTqQAV8X0v6+TDRTf1SJQravl9Y3vahGo1tXy+q6Wbwpwft+uC/Bhhx0mo0ePlqeeekp69eqVn6axBBRgY0KU47CBKgM2Nj2+jQlRjoNvZcDGpse3MSHKcfCtDNjY9BTg/EJcF+CNNtpIOnXqJJMmTVomyTvvvFN++9vfypAhQ2THHXfMTzxhAgpwQtgGlmIDNSAhYQR8J4RtYCl8G5CQMAK+E8I2sBS+DUhIGIECnBD2MpZyXYA7dOgg++23n9xxxx3LJPnhhx/K2muvLQMHDpTf/e53+YknTEABTgjbwFJsoAYkJIyA74SwDSyFbwMSEkbAd0LYBpbCtwEJCSNQgBPCbsQCvMYaa0j//v1lzJgxyyW5ww47yOzZs+XFF1/MTzxhAgpwQtgGlmIDNSAhYQR8J4RtYCl8G5CQMAK+E8I2sBS+DUhIGIECnBB2IxbgUH6nTp0qb7/9trRp02aZNI844gi57777JLwbXKWDAlwl2zwEq1q28Y3vqhGo1vVSiPBdLQLVuloKcH7frm+BvuSSS+SnP/2pXHHFFXLSSSctk+Zee+0ljzzyiMydOzc/8YQJKMAJYRtYij8wGZCQMAK+E8I2sBS+DUhIGAHfCWEbWArfBiQkjEABTgi7Ed8B/vjjj2WLLbaQ9957T66++mo57rjjvnKZH3zwgYSHZXXr1q14t7hKBwW4SrZ5R7BatvGN76oRqNb1UojwXS0C1bpaCnB+367fAQ74nnjiCdlnn30klOFwS/TgwYOlb9++0rlz5+Izv2eddZY8/vjjcuKJJ8qVV16Zn3jCBBTghLANLMUfmAxISBgB3wlhG1gK3wYkJIyA74SwDSyFbwMSEkagACeE3YjvADdd03PPPSdHHnmkPP/889KqVaslLnXRokXFU6Cffvrp4p9VOijAVbLNO4LVso1vfFeNQLWul0KE72oRqNbVUoDz+3b/DnATwi+++EJGjhxZfCXSxIkTZebMmbLaaqvJHnvsIcOGDZPwi61qBwW4Wsb5AxO+q0WgWlfL6xvf1SJQravl9V0t3xTg/L4bpgDnR2kvAQXYnhPNRGygmnTtzY1ve040E+Fbk669ufFtz4lmInxr0rU3NwU4vxNXBXjzzTeXfv36SXj68+qrry7h9uYv3/KcH6mdBBRgOy5SJGEDTUHZzhr4tuMiRRJ8p6BsZw1823GRIgm+U1C2swYFOL8LVwW4devWReF94YUXZNNNN5VOnTpJz549pVevXtK7d+/ixze+8Q1p27ZtfrIGElCADUhIGIENNCFsA0vh24CEhBHwnRC2gaXwbUBCwgj4TgjbwFIU4PwSXBXgt99+u3jq8+677158vnfllVeW+fPnFxSb3glu165dUYKbCnH4ZyjJ7du3z087cQIKcGLgmZdjA80sIPHy+E4MPPNy+M4sIPHy+E4MPPNy+M4sIPHyFODEwJeynKsC/OX8n3/+uUyePLl4wnPTj0mTJsmcOXOWKMVt2rQpvi/42WefzU88YQIKcELYBpZiAzUgIWEEfCeEbWApfBuQkDACvhPCNrAUvg1ISBiBApwQ9jKWcl2Al3ZN4XPB4ft/Fy/F4anQ4XuCFy5cmJ94wgQU4ISwDSzFBmpAQsII+E4I28BS+DYgIWEEfCeEbWApfBuQkDACBTgh7KoU4GUhfeWVV2SjjTbKTzxhAgpwQtgGlmIDNSAhYQR8J4RtYCl8G5CQMAK+E8I2sBS+DUhIGIECnBB2Ixbgyy+/XMaOHVs8FbpPnz75aRpLQAE2JkQ5DhuoMmBj0+PbmBDlOPhWBmxsenwbE6IcB9/KgI1NTwHOL8T1LdDf+ta35LHHHpN33nmneChW03HttdfK2WefLV988YUcfPDBRUFe/OfzY0+TgAKchrOVVdhArZhIkwPfaThbWQXfVkykyYHvNJytrIJvKybS5KAAp+G8vFVcF+ANNthAwo/HH3+8+Rpfe+016dGjxxKf991uu+2Kc8LDsKp0UICrZFuEDRTf1SJQravl9Y3vahGo1tXy+q6Wbwpwft+uC3CHDh3kgAMOkNtuu62Z5LBhw2To0KFy5plnyllnnVX8uO666+Sqq66S448/Pj/xhAkowAlhG1iKDdSAhIQR8J0QtoGl8G1AQsII+E4I28BS+DYgIWEECnBC2MtYynUB7ty5s+y5554yevTo5svbYYcdZMqUKTJjxgwJBTl8T/D6669ffA3SuHHj8hNPmIACnBC2gaXYQA1ISBgB3wlhG1gK3wYkJIyA74SwDSyFbwMSEkagACeE3YgFuGfPnrJgwYKi8IYjlN51111XDjzwQLnrrruaL3n//fcvboF+//338xNPmIACnBC2gaXYQA1ISBgB3wlhG1gK3wYkJIyA74SwDSyFbwMSEkagACeE3YgFONzmfOmll8qYMWOKW6Gb/vuaa66RwYMHN1/yUUcdJXfccYfMmzcvP/GECSjACWEbWIoN1ICEhBHwnRC2gaXwbUBCwgj4TgjbwFL4NiAhYQQKcELYjViAZ86cKVtuuaXMnj1bunfvLuG7fsNtz+FBWF27dm2+5N12201eeOGF4mnRVToowFWyzUOwqmUb3/iuGoFqXS+FCN/VIlCtq6UA5/ft+jPAAd/EiRPl2GOPlWeffVZWWmklGTFihAwaNKiZbLhFOpThzTbbTMaPH5+feMIEFOCEsA0sxR+YDEhIGAHfCWEbWArfBiQkjIDvhLANLIVvAxISRqAAJ4TdiO8AL35Ns2bNko4dO0r79u2XuNSxY8fKQQcdJCeddJJceeWV+YknTEABTgjbwFJsoAYkJIyA74SwDSyFbwMSEkbAd0LYBpbCtwEJCSNQgBPCbvQCvCyUDz74YPH53yOOOEJ23XXX/MQTJqAAJ4RtYCk2UAMSEkbAd0LYBpbCtwEJCSPgOyFsA0vh24CEhBEowAlhV7UA50ecLwEFOB/7HCuzgeagnm9NfOdjn2NlfOegnm9NfOdjn2NlfOegnm9NCnA+9k0ru/4M8OWXXy7hFudLLrlE+vTpk5+msQQUYGNClOOwgSoDNjY9vo0JUY6Db2XAxqbHtzEhynHwrQzY2PQU4PxCXBfgb33rW/LYY48VT3debbXVmmlee+21cvbZZ8sXX3whBx98cFGQF//5/NjTJKAAp+FsZRU2UCsm0uTAdxrOVlbBtxUTaXLgOw1nK6vg24qJNDkowGk4L28V1wV4gw02kPDj8ccfb77G8BVIPXr0kIULFzb/f9ttt11xTps2bfITT5iAApwQtoGl2EANSEgYAd8JYRtYCt8GJCSMgO+EsA0shW8DEhJGoAAnhL2MpVwX4PCdvwcccIDcdtttzZc3bNgwGTp0qJx55ply1llnFT+uu+46ueqqq+T444/PTzxhAgpwQtgGlmIDNSAhYQR8J4RtYCl8G5CQMAK+E8I2sBS+DUhIGIECnBB2Ixbgzp07y5577imjR49uvrwddthBpkyZIjNmzJBQkOfPny/rr7++bLHFFjJu3Lj8xBMmoAAnhG1gKTZQAxISRsB3QtgGlsK3AQkJI+A7IWwDS+HbgISEESjACWE3YgHu2bOnLFiwoCi84Qild91115UDDzxQ7rrrruZL3n///YtboN9///38xBMmoAAnhG1gKTZQAxISRsB3QtgGlsK3AQkJI+A7IWwDS+HbgISEESjACWE3YgEOtzlfeumlMmbMmOJW6Kb/vuaaa2Tw4MHNl3zUUUcV3wU8b968/MQTJqAAJ4RtYCk2UAMSEkbAd0LYBpbCtwEJCSPgOyFsA0vh24CEhBEowAlhN2IBnjlzpmy55ZYye/Zs6d69u7zyyivFbc/hQVhdu3ZtvuTddttNXnjhheJp0VU6KMBVsi3CBorvahGo1tXy+sZ3tQhU62p5fVfLNwU4v2/XD8EK+CZOnCjHHnusPPvss7LSSivJiBEjZNCgQc1kwy3SoQxvttlmMn78+PzEEyagACeEbWApNlADEhJGwHdC2AaWwrcBCQkj4DshbANL4duAhIQRKMAJYTfiO8CLX9OsWbOkY8eO0r59+yUudezYsXLQQQfJSSedJFdeeWV+4gkTUIATwjawFBuoAQkJI+A7IWwDS+HbgISEEfCdELaBpfBtQELCCBTghLAbvQAvC+WDDz5YfP73iCOOkF133TU/8YQJKMAJYRtYig3UgISEEfCdELaBpfBtQELCCPhOCNvAUvg2ICFhBApwQthVLcD5EedLQAHOxz7HymygOajnWxPf+djnWBnfOajnWxPf+djnWBnfOajnW5MCnI9908ruPwM8cuRI+eUvfynTp0+XNdZYo3goVu/evaVPnz7Fj/XWWy8/5UwJKMCZwGdalg00E/hMy+I7E/hMy+I7E/hMy+I7E/hMy+I7E/hMy1KAM4FfbFnXBfihhx6SPfbYo7ic8Nnf8DVHrVq1kkWLFhX/DMeaa67ZXIYvvPDC/MQTJqAAJ4RtYCk2UAMSEkbAd0LYBpbCtwEJCSPgOyFsA0vh24CEhBEowAlhL2Mp1wV47733lgceeEBuuukmCd/1e/TRR8uoUaNk6NChxT+nTZu2RCFeuHBhfuIJE1CAE8I2sBQbqAEJCSPgOyFsA0vh24CEhBHwnRC2gaXwbUBCwggU4ISwG7EAb7DBBsVtz88880xxecccc4zcfPPN0lR0r776ajn99NPlv//7v2XttdeWn/zkJ/mJJ0xAAU4I28BSbKAGJCSMgO+EsA0shW8DEhJGwHdC2AaWwrcBCQkjUIATwm7EAtyhQwc58MAD5Q9/+ENxeeH7gMO7wYu/0xv+O3wF0uTJkyUU5iodFOAq2RZhA8V3tQhU62p5feO7WgSqdbW8vqvlmwKc37frW6A33HBD6dWrl/zxj38sSIZ3ekeMGCEfffRR8Z3ATcemm25afFb4qquuyk88YQIKcELYBpZiAzUgIWEEfCeEbWApfBuQkDACvhPCNrAUvg1ISBiBApwQ9jKWcl2ABwwYIHPmzJGnnnqquLyLLrpIzj//fJk0aZKE8td0DBw4UJ588kl55ZVX8hNPmIACnBC2gaXYQA1ISBgB3wlhG1gK3wYkJIyA74SwDSyFbwMSEkagACeE3YgFODzs6he/+IXMmDFDVlttNbnvvvtk3333lcsvv1xOOeWU5kveZ599ZNy4cTJ37tz8xBMmoAAnhG1gKTZQAxISRsB3QtgGlsK3AQkJI+A7IWwDS+HbgISEESjACWE3YgF+7rnn5LTTTpOTTz5ZDjjgAJk/f37xOd/wFUj333+/bL311hK+KikU4PCL7Z///Gd+4gkTUIATwjawFBuoAQkJI+A7IWwDS+HbgISEEfCdELaBpfBtQELCCBTghLAbsQAv7ZpGjhxZfB1SKMFf+9rXmt/1/dnPfiY//elP8xNPmIACnBC2gaXYQA1ISBgB3wlhG1gK3wYkJIyA74SwDSyFbwMSEkagACeEXZUCHK4zfBXSkCFD5M033yxK8AknnCA///nPpU2bNvmJJ0xAAU4I28BSbKAGJCSMgO+EsA0shW8DEhJGwHdC2AaWwrcBCQkjUIATwq5SAW661lmzZkmXLl2Kd4OreFCAq2WdDRTf1SJQravl9Y3vahGo1tXy+q6Wbwpwft+ungLdo0cP2XbbbaVPnz7N/+zcuXN+ikYTUICNilGKxQaqBNbotPg2KkYpFr6VwBqdFt9GxSjFwrcSWKPTUoDzi3FVgFu3bl0Qa3pHN/xz4403Lspw04/wvcCdOnXKT9ZAAgqwAQkJI7CBJoRtYCl8G5CQMAK+E8I2sBS+DUhIGAHfCWEbWIoCnF+CqwL87rvvyj/+8Y/ie3/DjwkTJsjMmTO/Uoo33XTT5kIc3i0OpTh8FrhqBwW4WsbZQPFdLQLVulpe3/iuFoFqXS2v72r5pgDn9+2qAC8NV3jQ1eKFOJTif/3rX0uU4vDO8RZbbCGTJk3KTzxhAgpwQtgGlmIDNSAhYQR8J4RtYCl8G5CQMAK+E8I2sBS+DUhIGIECnBD2MpZyX4CXdl3Tp09vfoe46Z3i2bNny8KFC/MTT5iAApwQtoGl2EANSEgYAd8JYRtYCt8GJCSMgO+EsA0shW8DEhJGoAAnhF2lAry0a3311Vele/fu+YknTEABTgjbwFJsoAYkJIyA74SwDSyFbwMSEkbAd0LYBpbCtwEJCSNQgBPCbsQC/Ne//lXCj6OOOkp69+6dn6axBBRgY0KU47CBKgM2Nj2+jQlRjoNvZcDGpse3MSHKcfCtDNjY9BTg/EJc3wJ92GGHyejRo4vbncODrjiWJEABrtavCDZQfFeLQLWultc3vqtFoFpXy+u7Wr4pwPl9uy7AG220UfGVR8t7uNWdd94pv/3tb2XIkCGy44475ieeMAEFOCFsA0uxgRqQkDACvhPCNrAUvg1ISBgB3wlhG1gK3wYkJIxAAU4IexlLuS7AHTp0kP3220/uuOOOZZL88MMPZe2115aBAwfK7373u/zEEyagACeEbWApNlADEhJGwHdC2AaWwrcBCQkj4DshbANL4duAhIQRKMAJYTdiAV5jjTWkf//+MmbMmOWS3GGHHSQ8BfrFF1/MTzxhAgpwQtgGlmIDNSAhYQR8J4RtYCl8G5CQMAK+E8I2sBS+DUhIGIECnBB2IxbgUH6nTp0qb7/9trRp02aZNI844gi57777JLwbXKWDAlwl2yJsoPiuFoFqXS2vb3xXi0C1rpbXd7V8U4Dz+3Z9C/Qll1wiP/3pT+WKK66Qk046aZk099prL3nkkUdk7ty5+YknTEABTgjbwFJsoAYkJIyA74SwDSyFbwMSEkbAd0LYBpbCtwEJCSNQgBPCbsR3gD/++GPZYost5L333pOrr75ajjvuuK9c5gcffCDhYVndunUr3i2u0kEBrpJt3gGulm1847tqBKp1vRQifFeLQLWulgKc37frd4ADvieeeEL22WcfCWU43BI9ePBg6du3r3Tu3Ln4zO9ZZ50ljz/+uJx44oly5ZVX5icuUuT605/+JPfff79MmzZNZsyYIV26dJF+/frJaaedJjvvvHNdclKA64LRzST8gcmNqroExXddMLqZBN9uVNUlKL7rgtHNJPh2o6ouQSnAdcEYNUnWArxgwQJp165d1AWEwc8995wceeSR8vzzz0urVq2WmG/RokXFU6Cffvrp4p8WjvXXX1/eeustWWWVVeSb3/xmUX6nTJnSnP+yyy6TU089NToqBTgaoasJ2EBd6YoOi+9ohK4mwLcrXdFh8R2N0NUE+HalKzosBTgaYfQEWQvwJptsIr/61a/k29/+dvSFfPHFFzJy5MjiK5EmTpwoM2fOlNVWW0322GMPGTZsmIRfbFaOPffcU4455hg5+OCDZaWVVmqOde2118rxxx9fPNArfLfxlltuGRWZAhyFz91gNlB3yqIC4zsKn7vB+HanLCowvqPwuRuMb3fKogJTgKPw1WVw1gLcunXr4h3bAQMGFA+y2nrrretyUZ4nCQ/sCrdGn3/++XLeeedFXQoFOAqfu8FsoO6URQXGdxQ+d4Px7U5ZVGB8R+FzNxjf7pRFBaYAR+Gry2ATBThcSSjDxx57bPFu7ZprrlmXi/M4yZlnnlm8Kx4+yxzeEY45KMAx9PyNZQP15ywmMb5j6Pkbi29/zmIS4zuGnr+x+PbnLCYxBTiGXn3GZi3A4V3fUHhnzZpVXE14Nzg8vGrIkCFyyimn1OXzwfXBlG6WQw45REaPHi1Dhw6VCy64IGphCnAUPneD2UDdKYsKjO8ofO4G49udsqjA+I7C524wvt0piwpMAY7CV5fBWQtwuILZs2fLhRdeWHyN0fz585uLcPfu3SV8z+9BBx1Ulwv1MMnLL78sobTOmzdPnnrqKenTp09UbApwFD53g9lA3SmLCozvKHzuBuPbnbKowPiOwuduML7dKYsKTAGOwleXwdkLcNNVvPLKKxJu/73rrruaLyy8I7zLLrsUnw/eaqut6nLBVif5/PPPZdddd5VHH31UDj/8cPnDH/5QOmoouks7QqEO33984403lp6LE/0SmDNnThG+Y8eOfi+C5KUJ4Ls0qoY4Ed8NobH0ReC7NKqGOBHfDaGx9EUMGjSouON18uTJpcdwYn0JmCnATZf12GOPyemnny7/+Mc/iv8rlODw+eDjjjtOLrroIhOfDw63KYevXGrJcfPNN8v222+/zCEnnHCCjBgxQjbaaKPi2ldfffXS01OAS6Nq6BPZQBta71cuDt/4rhaBal0tr298V4tAta6WApzft7kC3IRk1KhRcs4558j06dObi3D425Jzzz1XTj755KyfD952221lwoQJLbL38MMPF+9mL+0It4CHJz6vtdZaxTvA4euh6nFwC3Q9KPqZg1uo/LiqR1J814Oinznw7cdVPZLiux4U/cyBbz+u6pGUW6DrQTFuDrMFOFxW+Czs5ZdfLj//+c/lo48+ai7C4V3S8PngAw88MO7qDYy+6qqr5MQTT5RVV11V/va3v8k222xTt1QU4LqhdDERG6gLTXULie+6oXQxEb5daKpbSHzXDaWLifDtQlPdQlKA64ay5olMF+Cmq/rXv/5VPBX5+uuvl/BZ2XBbdDjCZ2bD54O/8Y1v1Awg58CRI0fK0UcfLR06dCi++3fHHXesaxwKcF1xmp+MDdS8oroGxHddcZqfDN/mFdU1IL7ritP8ZPg2r6iuASnAdcVZ02QuCnDTlb3wwgvy4x//WO67777i/2r6fPD3v//94vPBXbt2rQlCjkF//vOfi3eww+eb7777btlzzz3rHoMCXHekpidkAzWtp+7h8F13pKYnxLdpPXUPh++6IzU9Ib5N66l7OApw3ZG2eEJXBbjp6h588MGiCE+aNKm5CK+yyirNnw9u27Zti0GkHBAe9LXHHnvIggUL5I477lD7qicKcEqr+ddiA83vIGUCfKeknX8tfOd3kDIBvlPSzr8WvvM7SJmAApyS9tLXclmAw6UsWrRIbrjhhuLW6Lfffru5CG+88cbF54MPOOCA/HSXkaBLly7F9x+H7zru37//Us/aaaedJLyzHXNQgGPo+RvLBurPWUxifMfQ8zcW3/6cxSTGdww9f2Px7c9ZTGIKcAy9+ox1W4CbLn/u3Lnyy1/+sii94d/DEW4rDp8Vtno0fYZ5efm+973vRX9/LwXY6q8AnVxsoDpcrc6Kb6tmdHLhW4er1VnxbdWMTi5863C1OisFOL8ZtwU4PBV6ypQpxZdIhx/hN4/Fb4leuHBhfrqZE1CAMwtIvDwbaGLgmZfDd2YBiZfHd2LgmZfDd2YBiZfHd2LgmZejAGcWEJ4jtSjcS2z4+Pjjj5couk2Ft+m25y9HD5cT3mGlAItQgA3/wlaIxgaqANXwlPg2LEchGr4VoBqeEt+G5ShEw7cCVMNTUoDzyzFTgD/55JOvFN3wDu+bb765VEpL6+3t2rWTzTbbTLbaaisJXzFU9YMCXK1fAWyg+K4WgWpdLa9vfFeLQLWultd3tXxTgPP7zlqAzzzzzOZbmN94443SRTe8wxt+8YTv/w1lt+mfofxafwJ0SuUU4JS086/FBprfQcoE+E5JO/9a+M7vIGUCfKeknX8tfOd3kDIBBTgl7aWvlbUAh4dVNT0Qall3Ynfr1u0rRTcUu44dO+anZzwBBdi4oDrHYwOtM1Dj0+HbuKA6x8N3nYEanw7fxgXVOR6+6wzU+HQU4PyCshfgJgSdOnUqPrO6+Du64d+7du2an5LTBBRgp+JqjM0GWiM4p8Pw7VRcjbHxXSM4p8Pw7c8ERbcAACAASURBVFRcjbHxXSM4p8MowPnFZS3Aw4cPby684RcDR30JUIDry9P6bGyg1g3VNx++68vT+mz4tm6ovvnwXV+e1mfDt3VD9c1HAa4vz1pmy1qAawnMmPIEKMDlWTXCmWygjWCx/DXguzyrRjgT341gsfw14Ls8q0Y4E9+NYLH8NVCAy7PSOpMCrEXWwLwUYAMSEkZgA00I28BS+DYgIWEEfCeEbWApfBuQkDACvhPCNrAUBTi/BApwfgdqCSjAamhNTswGalKLWih8q6E1OTG+TWpRC4VvNbQmJ8a3SS1qoSjAamhLT0wBLo3K34kUYH/OYhKzgcbQ8zcW3/6cxSTGdww9f2Px7c9ZTGJ8x9DzN5YCnN8ZBTi/A7UEFGA1tCYnZgM1qUUtFL7V0JqcGN8mtaiFwrcaWpMT49ukFrVQFGA1tKUnpgCXRuXvRAqwP2cxidlAY+j5G4tvf85iEuM7hp6/sfj25ywmMb5j6PkbSwHO74wCnN+BWgIKsBpakxOzgZrUohYK32poTU6Mb5Na1ELhWw2tyYnxbVKLWigKsBra0hNTgEuj8nciBdifs5jEbKAx9PyNxbc/ZzGJ8R1Dz99YfPtzFpMY3zH0/I2lAOd3RgHO70AtAQVYDa3JidlATWpRC4VvNbQmJ8a3SS1qofCthtbkxPg2qUUtFAVYDW3piSnApVH5O5EC7M9ZTGI20Bh6/sbi25+zmMT4jqHnbyy+/TmLSYzvGHr+xlKA8zujAOd3oJaAAqyG1uTEbKAmtaiFwrcaWpMT49ukFrVQ+FZDa3JifJvUohaKAqyGtvTEFODSqPydSAH25ywmMRtoDD1/Y/Htz1lMYnzH0PM3Ft/+nMUkxncMPX9jKcD5nVGA8ztQS0ABVkNrcmI2UJNa1ELhWw2tyYnxbVKLWih8q6E1OTG+TWpRC0UBVkNbemIKcGlU/k6kAPtzFpOYDTSGnr+x+PbnLCYxvmPo+RuLb3/OYhLjO4aev7EU4PzOKMD5HagloACroTU5MRuoSS1qofCthtbkxPg2qUUtFL7V0JqcGN8mtaiFogCroS09MQW4NCp/J1KA/TmLScwGGkPP31h8+3MWkxjfMfT8jcW3P2cxifEdQ8/fWApwfmcU4PwO1BJQgNXQmpyYDdSkFrVQ+FZDa3JifJvUohYK32poTU6Mb5Na1EJRgNXQlp6YAlwalb8TKcD+nMUkZgONoedvLL79OYtJjO8Yev7G4tufs5jE+I6h528sBTi/MwpwfgdqCSjAamhNTswGalKLWih8q6E1OTG+TWpRC4VvNbQmJ8a3SS1qoSjAamhLT0wBLo3K34kUYH/OYhKzgcbQ8zcW3/6cxSTGdww9f2Px7c9ZTGJ8x9DzN5YCnN8ZBTi/A7UEFGA1tCYnZgM1qUUtFL7V0JqcGN8mtaiFwrcaWpMT49ukFrVQFGA1tKUnpgCXRuXvRAqwP2cxidlAY+j5G4tvf85iEuM7hp6/sfj25ywmMb5j6PkbSwHO74wCnN+BWgIKsBpakxOzgZrUohYK32poTU6Mb5Na1ELhWw2tyYnxbVKLWigKsBra0hNTgEuj8nciBdifs5jEbKAx9PyNxbc/ZzGJ8R1Dz99YfPtzFpMY3zH0/I2lAOd3RgHO70AtAQVYDa3JidlATWpRC4VvNbQmJ8a3SS1qofCthtbkxPg2qUUtFAVYDW3piSnApVH5O5EC7M9ZTGI20Bh6/sbi25+zmMT4jqHnbyy+/TmLSYzvGHr+xlKA8zujAOd3oJaAAqyG1uTEbKAmtaiFwrcaWpMT49ukFrVQ+FZDa3JifJvUohaKAqyGtvTEFODSqPydSAH25ywmMRtoDD1/Y/Htz1lMYnzH0PM3Ft/+nMUkxncMPX9jKcD5nVGA8ztQS0ABVkNrcmI2UJNa1ELhWw2tyYnxbVKLWih8q6E1OTG+TWpRC0UBVkNbemIKcGlU/k6kAPtzFpOYDTSGnr+x+PbnLCYxvmPo+RuLb3/OYhLjO4aev7EU4PzOKMD5HagloACroTU5MRuoSS1qofCthtbkxPg2qUUtFL7V0JqcGN8mtaiFogCroS09MQW4NCp/J1KA/TmLScwGGkPP31h8+3MWkxjfMfT8jcW3P2cxifEdQ8/fWApwfmcU4PwO1BJQgNXQmpyYDdSkFrVQ+FZDa3JifJvUohYK32poTU6Mb5Na1EJRgNXQlp6YAlwalb8TKcD+nMUkZgONoedvLL79OYtJjO8Yev7G4tufs5jE+I6h528sBTi/MwpwfgdqCSjAamhNTswGalKLWih8q6E1OTG+TWpRC4VvNbQmJ8a3SS1qoSjAamhLT0wBLo3K34kUYH/OYhKzgcbQ8zcW3/6cxSTGdww9f2Px7c9ZTGJ8x9DzN5YCnN8ZBTi/A7UEFGA1tCYnZgM1qUUtFL7V0JqcGN8mtaiFwrcaWpMT49ukFrVQFGA1tKUnpgCXRuXvRAqwP2cxidlAY+j5G4tvf85iEuM7hp6/sfj25ywmMb5j6PkbSwHO74wCnN+BWgIKsBpakxOzgZrUohYK32poTU6Mb5Na1ELhWw2tyYnxbVKLWigKsBra0hNTgEuj8nciBdifs5jEbKAx9PyNxbc/ZzGJ8R1Dz99YfPtzFpMY3zH0/I2lAOd3RgHO70AtAQVYDa3JidlATWpRC4VvNbQmJ8a3SS1qofCthtbkxPg2qUUtFAVYDW3piSnApVH5O5EC7M9ZTGI20Bh6/sbi25+zmMT4jqHnbyy+/TmLSYzvGHr+xlKA8zujAOd3oJaAAqyG1uTEbKAmtaiFwrcaWpMT49ukFrVQ+FZDa3JifJvUohaKAqyGtvTEFODSqPydSAH25ywmMRtoDD1/Y/Htz1lMYnzH0PM3Ft/+nMUkxncMPX9jKcD5nVGA8ztQS0ABVkNrcmI2UJNa1ELhWw2tyYnxbVKLWih8q6E1OTG+TWpRC0UBVkNbemIKcGlU/k6kAPtzFpOYDTSGnr+x+PbnLCYxvmPo+RuLb3/OYhLjO4aev7EU4PzOKMD5HagloACroTU5MRuoSS1qofCthtbkxPg2qUUtFL7V0JqcGN8mtaiFogCroS09MQW4NCp/J1KA/TmLScwGGkPP31h8+3MWkxjfMfT8jcW3P2cxifEdQ8/fWApwfmcU4PwO1BJQgNXQmpyYDdSkFrVQ+FZDa3JifJvUohYK32poTU6Mb5Na1EJRgNXQlp6YAlwalb8TKcD+nMUkZgONoedvLL79OYtJjO8Yev7G4tufs5jE+I6h528sBTi/MwpwfgdqCSjAamhNTswGalKLWih8q6E1OTG+TWpRC4VvNbQmJ8a3SS1qoSjAamhLT0wBLo3K34kUYH/OYhKzgcbQ8zcW3/6cxSTGdww9f2Px7c9ZTGJ8x9DzN5YCnN8ZBTi/A7UEFGA1tCYnZgM1qUUtFL7V0JqcGN8mtaiFwrcaWpMT49ukFrVQFGA1tKUnpgCXRuXvRAqwP2cxidlAY+j5G4tvf85iEuM7hp6/sfj25ywmMb5j6PkbSwHO74wCnN+BWgIKsBpakxOzgZrUohYK32poTU6Mb5Na1ELhWw2tyYnxbVKLWigKsBra0hNTgEuj8nciBdifs5jEbKAx9PyNxbc/ZzGJ8R1Dz99YfPtzFpMY3zH0/I2lAOd3RgHO70AtAQVYDa3JidlATWpRC4VvNbQmJ8a3SS1qofCthtbkxPg2qUUtFAVYDW3piSnApVH5O5EC7M9ZTGI20Bh6/sbi25+zmMT4jqHnbyy+/TmLSYzvGHr+xlKA8zujAOd3oJaAAqyG1uTEbKAmtaiFwrcaWpMT49ukFrVQ+FZDa3JifJvUohaKAqyGtvTEFODSqPydSAH25ywmMRtoDD1/Y/Htz1lMYnzH0PM3Ft/+nMUkxncMPX9jKcD5nVGA8ztQS0ABVkNrcmI2UJNa1ELhWw2tyYnxbVKLWih8q6E1OTG+TWpRC0UBVkNbemIKcGlU/k6kAPtzFpOYDTSGnr+x+PbnLCYxvmPo+RuLb3/OYhLjO4aev7EU4PzOKMD5HagloACroTU5MRuoSS1qofCthtbkxPg2qUUtFL7V0JqcGN8mtaiFogCroS09MQW4NCp/J1KA/TmLScwGGkPP31h8+3MWkxjfMfT8jcW3P2cxifEdQ8/fWApwfmcU4PwO1BJQgNXQmpyYDdSkFrVQ+FZDa3JifJvUohYK32poTU6Mb5Na1EJRgNXQlp6YAlwalb8TKcD+nMUkZgONoedvLL79OYtJjO8Yev7G4tufs5jE+I6h528sBTi/MwpwfgdqCSjAamhNTswGalKLWih8q6E1OTG+TWpRC4VvNbQmJ8a3SS1qoSjAamhLT0wBLo3K34kUYH/OYhKzgcbQ8zcW3/6cxSTGdww9f2Px7c9ZTGJ8x9DzN5YCnN8ZBTi/A7UEFGA1tCYnZgM1qUUtFL7V0JqcGN8mtaiFwrcaWpMT49ukFrVQFGA1tKUnpgCXRuXvRAqwP2cxidlAY+j5G4tvf85iEuM7hp6/sfj25ywmMb5j6PkbSwHO74wCnN+BWgIKsBpakxOzgZrUohYK32poTU6Mb5Na1ELhWw2tyYnxbVKLWigKsBra0hNTgEuj8nciBdifs5jEbKAx9PyNxbc/ZzGJ8R1Dz99YfPtzFpMY3zH0/I2lAOd3RgHO70AtAQVYDa3JidlATWpRC4VvNbQmJ8a3SS1qofCthtbkxPg2qUUtFAVYDW3piSnApVH5O5EC7M9ZTGI20Bh6/sbi25+zmMT4jqHnbyy+/TmLSYzvGHr+xlKA8zujAOd3oJaAAqyG1uTEbKAmtaiFwrcaWpMT49ukFrVQ+FZDa3JifJvUohaKAqyGtvTEFODSqPydSAH25ywmMRtoDD1/Y/Htz1lMYnzH0PM3Ft/+nMUkxncMPX9jKcD5nVGA8ztQS0ABVkNrcmI2UJNa1ELhWw2tyYnxbVKLWih8q6E1OTG+TWpRC0UBVkNbemIKcGlU/k6kAPtzFpOYDTSGnr+x+PbnLCYxvmPo+RuLb3/OYhLjO4aev7EU4PzOKMD5HagloACroTU5MRuoSS1qofCthtbkxPg2qUUtFL7V0JqcGN8mtaiFogCroS09MQW4NCp/J1KA/TmLScwGGkPP31h8+3MWkxjfMfT8jcW3P2cxifEdQ8/fWApwfmcU4PwO1BJQgNXQmpyYDdSkFrVQ+FZDa3JifJvUohYK32poTU6Mb5Na1EJRgNXQlp6YAlwalb8TKcD+nMUkZgONoedvLL79OYtJjO8Yev7G4tufs5jE+I6h528sBTi/MwpwfgdqCSjAamhNTswGalKLWih8q6E1OTG+TWpRC4VvNbQmJ8a3SS1qoSjAamhLT0wBLo3K34kUYH/OYhKzgcbQ8zcW3/6cxSTGdww9f2Px7c9ZTGJ8x9DzN5YCnN8ZBTi/A7UEFGA1tCYnZgM1qUUtFL7V0JqcGN8mtaiFwrcaWpMT49ukFrVQFGA1tKUnpgCXRuXvRAqwP2cxidlAY+j5G4tvf85iEuM7hp6/sfj25ywmMb5j6PkbSwHO74wCnN+BWgIKsBpakxOzgZrUohYK32poTU6Mb5Na1ELhWw2tyYnxbVKLWigKsBra0hNTgEuj8nciBdifs5jEbKAx9PyNxbc/ZzGJ8R1Dz99YfPtzFpMY3zH0/I2lAOd3RgHO76BIcOGFF8p5551X/Putt94qRxxxRHQyCnA0QlcTsIG60hUdFt/RCF1NgG9XuqLD4jsaoasJ8O1KV3RYCnA0wugJKMDRCOMnmDp1qvTs2VPmz58vixYtogDHI63kDGyg1dKOb3xXi0C1rpbXN76rRaBaV0sBzu+bApzZQSi8u+yyi4QSvMMOO8if/vQnCnBmJ16X5w9MXs3VlhvftXHzOgrfXs3VlhvftXHzOgrfXs3VlpsCXBu3eo6iANeTZg1zXXfddTJ48GC55ZZb5IEHHpCbbrqJAlwDR4aIsIFW61cBvvFdLQLVulpe3/iuFoFqXS0FOL9vCnBGB++++65sscUW0qdPH3nwwQdl0KBBFOCMPrwvzR+YvBtsWX58t4yX97Px7d1gy/Lju2W8vJ+Nb+8GW5afAtwyXhpnU4A1qJac87DDDpOxY8fKc889Jz169KAAl+TGaUsnwAZarV8Z+MZ3tQhU62p5feO7WgSqdbUU4Py+KcCZHNxzzz2y//77ywUXXCBDhw4tUvAOcCYZDbIsf2BqEJElLwPfJUE1yGn4bhCRJS8D3yVBNchp+G4QkSUvgwJcEpTiaRRgRbjLmvqTTz6RLbfcUjp06CCTJk2S9u3bRxXg8HVHSztefvll6datm9x4440ZrpIlUxOYM2dOsWTHjh1TL816GQjgOwP0jEviOyP8DEvjOwP0jEviOyP8DEuHN7w6d+4skydPzrA6SwYCFOAafh0ccsgh8vzzz7do5M033yzbb799Mebkk0+WX//61/LQQw/Jbrvt1jxPre8AU4BbpKJhT2YDbVi1S70wfOO7WgSqdbW8vvFdLQLVuloKcH7fFOAaHGy77bYyYcKEFo18+OGHi687Gj9+vPTt21eOPPJICaV48aPWArysIKEYh030tddea1FWTvZJgFuofHqrNTW+ayXncxy+fXqrNTW+ayXncxy+fXqrNTW3QNdKrn7jKMD1Y1lqpvPPP7/43O8222wjq6666hJjXnzxRZkxY0bxZOhw63J4p/nEE08sNe/STqIA14zO5UA2UJfaag6N75rRuRyIb5faag6N75rRuRyIb5faag5NAa4ZXd0GUoDrhrLcRE0FuMzZp5xyilxxxRVlTl3qORTgmtG5HMgG6lJbzaHxXTM6lwPx7VJbzaHxXTM6lwPx7VJbzaEpwDWjq9tACnDdUMZPxC3Q8QyrPAMbaLXs4xvf1SJQravl9Y3vahGo1tVSgPP7pgDnd9CcgAJsSIbDKPyByaG0iMj4joDncCi+HUqLiIzvCHgOh+LbobSIyBTgCHh1GkoBrhPIekxDAa4HxerOwQZaLff4xne1CFTranl947taBKp1tRTg/L4pwPkd8A6wIQeeo/AHJs/2Wp4d3y1n5nkEvj3ba3l2fLecmecR+PZsr+XZKcAtZ1bvERTgehM1NB8PwTIkI0EUNtAEkA0tgW9DMhJEwXcCyIaWwLchGQmi4DsBZENLUIDzy6AA53egloACrIbW5MRsoCa1qIXCtxpakxPj26QWtVD4VkNrcmJ8m9SiFooCrIa29MQU4NKo/J1IAfbnLCYxG2gMPX9j8e3PWUxifMfQ8zcW3/6cxSTGdww9f2MpwPmdUYDzO1BLQAFWQ2tyYjZQk1rUQuFbDa3JifFtUotaKHyroTU5Mb5NalELRQFWQ1t6YgpwaVT+TqQA+3MWk5gNNIaev7H49ucsJjG+Y+j5G4tvf85iEuM7hp6/sRTg/M4owPkdqCWgAKuhNTkxG6hJLWqh8K2G1uTE+DapRS0UvtXQmpwY3ya1qIWiAKuhLT0xBbg0Kn8nUoD9OYtJzAYaQ8/fWHz7cxaTGN8x9PyNxbc/ZzGJ8R1Dz99YCnB+ZxTg/A7UElCA1dCanJgN1KQWtVD4VkNrcmJ8m9SiFgrfamhNToxvk1rUQlGA1dCWnpgCXBqVvxMpwP6cxSRmA42h528svv05i0mM7xh6/sbi25+zmMT4jqHnbywFOL8zCnB+B2oJKMBqaE1OzAZqUotaKHyroTU5Mb5NalELhW81tCYnxrdJLWqhKMBqaEtPTAEujcrfiRRgf85iErOBxtDzNxbf/pzFJMZ3DD1/Y/Htz1lMYnzH0PM3lgKc3xkFOL8DtQQUYDW0JidmAzWpRS0UvtXQmpwY3ya1qIXCtxpakxPj26QWtVAUYDW0pSemAJdG5e9ECrA/ZzGJ2UBj6Pkbi29/zmIS4zuGnr+x+PbnLCYxvmPo+RtLAc7vjAKc34FaAgqwGlqTE7OBmtSiFgrfamhNToxvk1rUQuFbDa3JifFtUotaKAqwGtrSE1OAS6PydyIF2J+zmMRsoDH0/I3Ftz9nMYnxHUPP31h8+3MWkxjfMfT8jaUA53dGAc7vQC0BBVgNrcmJ2UBNalELhW81tCYnxrdJLWqh8K2G1uTE+DapRS0UBVgNbemJKcClUfk7kQLsz1lMYjbQGHr+xuLbn7OYxPiOoedvLL79OYtJjO8Yev7GUoDzO6MA53egloACrIbW5MRsoCa1qIXCtxpakxPj26QWtVD4VkNrcmJ8m9SiFooCrIa29MQU4NKo/J1IAfbnLCYxG2gMPX9j8e3PWUxifMfQ8zcW3/6cxSTGdww9f2MpwPmdUYDzO1BLQAFWQ2tyYjZQk1rUQuFbDa3JifFtUotaKHyroTU5Mb5NalELRQFWQ1t6YgpwaVT+TqQA+3MWk5gNNIaev7H49ucsJjG+Y+j5G4tvf85iEuM7hp6/sRTg/M4owPkdqCWgAKuhNTkxG6hJLWqh8K2G1uTE+DapRS0UvtXQmpwY3ya1qIWiAKuhLT0xBbg0Kn8nUoD9OYtJzAYaQ8/fWHz7cxaTGN8x9PyNxbc/ZzGJ8R1Dz99YCnB+ZxTg/A7UElCA1dCanJgN1KQWtVD4VkNrcmJ8m9SiFgrfamhNToxvk1rUQlGA1dCWnpgCXBqVvxMpwP6cxSRmA42h528svv05i0mM7xh6/sbi25+zmMT4jqHnbywFOL8zCnB+B2oJKMBqaE1OzAZqUotaKHyroTU5Mb5NalELhW81tCYnxrdJLWqhKMBqaEtPTAEujcrfiRRgf85iErOBxtDzNxbf/pzFJMZ3DD1/Y/Htz1lMYnzH0PM3lgKc3xkFOL8DtQQUYDW0JidmAzWpRS0UvtXQmpwY3ya1qIXCtxpakxPj26QWtVAUYDW0pSemAJdG5e9ECrA/ZzGJ2UBj6Pkbi29/zmIS4zuGnr+x+PbnLCYxvmPo+RtLAc7vjAKc34FaAgqwGlqTE7OBmtSiFgrfamhNToxvk1rUQuFbDa3JifFtUotaKAqwGtrSE1OAS6PydyIF2J+zmMRsoDH0/I3Ftz9nMYnxHUPP31h8+3MWkxjfMfT8jaUA53dGAc7vQC0BBVgNrcmJ2UBNalELhW81tCYnxrdJLWqh8K2G1uTE+DapRS0UBVgNbemJKcClUfk7kQLsz1lMYjbQGHr+xuLbn7OYxPiOoedvLL79OYtJjO8Yev7GUoDzO6MA53egloACrIbW5MRsoCa1qIXCtxpakxPj26QWtVD4VkNrcmJ8m9SiFooCrIa29MQU4NKo/J1IAfbnLCYxG2gMPX9j8e3PWUxifMfQ8zcW3/6cxSTGdww9f2MpwPmdUYDzO1BLQAFWQ2tyYjZQk1rUQuFbDa3JifFtUotaKHyroTU5Mb5NalELRQFWQ1t6YgpwaVT+TqQA+3MWk5gNNIaev7H49ucsJjG+Y+j5G4tvf85iEuM7hp6/sRTg/M4owPkdqCWgAKuhNTkxG6hJLWqh8K2G1uTE+DapRS0UvtXQmpwY3ya1qIWiAKuhLT0xBbg0Kn8nUoD9OYtJzAYaQ8/fWHz7cxaTGN8x9PyNxbc/ZzGJ8R1Dz99YCnB+ZxTg/A7UElCA1dCanJgN1KQWtVD4VkNrcmJ8m9SiFgrfamhNToxvk1rUQlGA1dCWnpgCXBqVvxMpwP6cxSRmA42h528svv05i0mM7xh6/sbi25+zmMT4jqHnbywFOL8zCnB+B2oJKMBqaE1OzAZqUotaKHyroTU5Mb5NalELhW81tCYnxrdJLWqhKMBqaEtPTAEujcrfiRRgf85iErOBxtDzNxbf/pzFJMZ3DD1/Y/Htz1lMYnzH0PM3lgKc3xkFOL8DtQQUYDW0JidmAzWpRS0UvtXQmpwY3ya1qIXCtxpakxPj26QWtVAUYDW0pSemAJdG5e9ECrA/ZzGJ2UBj6Pkbi29/zmIS4zuGnr+x+PbnLCYxvmPo+RtLAc7vjAKc34FaAgqwGlqTE7OBmtSiFgrfamhNToxvk1rUQuFbDa3JifFtUotaKAqwGtrSE1OAS6PydyIF2J+zmMRsoDH0/I3Ftz9nMYnxHUPP31h8+3MWkxjfMfT8jaUA53dGAc7vQC1B586dZd68edKjRw+1NZjYDoE5c+YUYTp27GgnFEnUCOBbDa3JifFtUotaKHyroTU5Mb5NalELNW3aNGnfvr18/PHHamsw8fIJUIAb+FdI27ZtZdGiRbL55ps38FVyaU0EXn755eJfN954Y6BUgAC+KyB5sUvEN76rRaBaV8vru1q+X3zxRWnVqpV8/vnn1bpwQ1dLATYko95Rwi3Q4Zg8eXK9p2Y+gwTwbVCKYiR8K8I1ODW+DUpRjIRvRbgGp8a3QSmKkfCtCLfk1BTgkqA8nsYLzKO12jPju3Z2Hkfi26O12jPju3Z2Hkfi26O12jPju3Z2HkfiO781CnB+B2oJeIGpoTU5Mb5NalELhW81tCYnxrdJLWqh8K2G1uTE+DapRS0UvtXQlp6YAlwalb8TeYH5cxaTGN8x9PyNxbc/ZzGJ8R1Dz99YfPtzFpMY3zH0/I3Fd35nFOD8DtQS8AJTQ2tyYnyb1KIWCt9qaE1OjG+TWtRC4VsNrcmJ8W1Si1oofKuhLT0xBbg0Kn8n8gLz5ywmMb5j6Pkbi29/zmIS4zuGnr+x+PbnLCYxvmPo+RuL7/zOKMD5HZAAAhCAAAQgAAEIQAACEIAABBIQoAAngMwSEIAABCAAAQhAAAIQgAAEIJCfAAU4vwMSQAACEIAABCAAAQhAAAIQgEACAhTgBJBZAgIQgAAEIAABCEAAAhCAAATyE6AA53dAAghAAAIQgAAEIAABCEAAAhBIQIACnAAyS0AAAhCAAAQgAAEIQAACEIBAfgIU4PwOSAABCEAAAhCAAAQgAAEIQAACCQhQgBNAtrLEpEmT5H/+53/kqaeektdf3ANjugAAEd5JREFUf13ef/99WXnllWXLLbeUI488Uo4//nhp27atlbjkiCTw4osvyp/+9Ce5//77Zdq0aTJjxgzp0qWL9OvXT0477TTZeeedI1dguCUCc+bMkbvuukvGjx8vTz75pDz77LMyf/58GT58uJx11lmWopKlBQQ+++yzwuGtt95a/L69+uqry9577y0XXnihrL/++i2YiVOtE5gwYYI88MADza/ht99+W9q3by/h1wBHYxGYO3dusTfffffd8o9//ENee+01WbhwoWyyySZy8MEHy+mnny6dOnVqrIuu+NVcdtll8uijj8pzzz0nM2fOLF7Xa6+9tuyyyy5y5plnStN3A1ccU7LLpwAnQ51/od/85jdy0kknyYYbblj8JrvmmmvKe++9J4899ljxQtxtt93kL3/5i7Rr1y5/WBJEEwh/OH7rrbdklVVWkW9+85tF+Z0yZYo8//zz0qpVKwm/GZ966qnR6zCBDQLPPPOM9OrV6ythKMA2/NSSIvy+vPvuu8vjjz8u66yzTvGXVuEPyuEvOcLv30888YRsvPHGtUzNGIMEDjrooOIvLRc/KMAGRdUh0vXXXy8/+MEPiplC8QlvRHz00UfFa/3jjz+WzTffXMaNGyfdunWrw2pMYYFA165dJfxF9dZbby3rrbdeEWny5Mnyz3/+U1ZaaSX54x//KPvss4+FqJXIQAGuhOZ/X+Qrr7xS/HOjjTZa4qrDO4Pf+ta3imJ0zTXXFO8Ec/gnsOeee8oxxxxT/G1y+M216bj22msLx23atJFwV0DYeDn8E3j55ZeLdwq333572W677WT06NFy8cUX8w6wY7VDhw6Viy66SPr27Vu8W9T0jlD4y6szzjhD+vfvX/whmaMxCPziF7+Q8M5geP2GH+HdIQpwY7j98lXcfPPN8ve//724G6tHjx7NP/3OO+/IvvvuKxMnTpSBAwfKqFGjGhNABa8qvNnUp0+f4s7LxY/w5+4f/ehHsu666xZ3+YQ/m3HoE6AA6zN2scLIkSPlqKOOkkMPPVRuv/12F5kJWTuBvfbaq/gD9fnnny/nnXde7RMx0iyB4PaCCy6gAJs1tPxgCxYsKN79mT17tjz99NNfeXe/Z8+exV9ghY+0hD9UcTQegXCnDgW48byu6IrCnR3ho0rBfXhXePG/wF7RWH7eJ4HwlyAvvfRS8Y4wb0qkcUgBTsPZ/Cp/+MMfir9tDJ8FvuWWW8znJWAcgfB5k1/96lcyePBgCe8IczQeAQqwb6cPP/xw8bGUcItz+IPRl4/wznB4hzj8BVZwzdF4BCjAjee0zBWFuwA6duxYnBo+Bx4+/sDR2ATCLe9Tp04tntcSPqLIoU+AAqzP2PwKH3zwgYTbZcM7CaH8hhLM0dgEDjnkkOIW2fAH6PAuIUfjEaAA+3Z6xRVXFLdHLuuunHvvvVf2228/CZ8bHTNmjO+LJf1SCVCAq/kLI3wcbauttiqexxI+DxzeCeZoXALhdvjvfe97summm8oLL7wgrVu3btyLNXRlFGBDMlJFCX/DFD4b+MUXXxRPBg4PXfjkk0/khz/8YfEZ4LDpcjQugfBZ0fDQjXnz5nH7ZONqLt4V5BZov4LDU2Avv/zyogSHz/x++QhP+d5mm22kd+/eEp4ezNF4BCjAjee0zBWFh2OFh2Ttv//+Mnbs2DJDOMcRgXD3XbjVOTwQKxTe8O/h87/BNR9nSSeSApyOtZmVwmPYv/wVOCeeeGJRisMTgzkal8Dnn38uu+66a/Eo/sMPP1zCre8cjUmAAuzba/h4wnXXXSfnnHOODBs27CsXE26LDp8bC+8ahFvnOBqPAAW48Zyu6Ir+/Oc/F3d2hK+kDF+PFD7rz9FYBMJDZx966KHmi9pggw3k97//vQwYMKCxLtT41VCAjQtaPF64bTXcGtOSI9xaEZ4Ku7QjfOdceOJcuH0uvFO01lprFQ9G+o//+I+WLMG5SgTq7TvEPOGEE2TEiBHFk8DD5hq+U5TDBoF6+6YA2/Baa4qmd4GGDBlSPAn6y0e4kyeUXwpwrYTtj6MA23dUz4Th3cAdd9xRwsfSwkcgTjnllHpOz1zGCIQHHIbvBA7f6f7ggw8Wf9EZ/sKTIw0BCnAaznVZZdttt23xrW7hQSrhS7ZXdIQS/J3vfKf4m8fwxewc+QnU23f4TTY8MCf8RUd4B5gHLeR3vHiCevumANvy29I03ALdUmKNdz4FuPGcLuuK3nzzzaL8hjclwmv/0ksvrc7FV/xKwxP/w1fdhaf9P/nkk8VXoHHoE6AA6zN2scKiRYuK258//fTT4nsIeey+C22lQ1511VUSbnNfddVV5W9/+1vx2UGOxiZAAfbtl4dg+fZXj/QU4HpQtD/Hv/71r+JjaS+++KIcc8wx8tvf/pZnsdjXVteE4XPB4ds5zj333OIdYQ59AhRgfcZuVthwww2Lv3189913i3cJORqDQPiO56OPPlo6dOhQ3OIe/paZo/EJUIB9Oy77NUg8yd235+WlpwA3rtumKwtPeQ5fdxa+hSPchXf77bdLmzZtGv/CucIlCNxwww1y7LHHyvHHH188jJZDnwAFWJ+xixVeeeWV4pbYzp07y6xZs/gN2IW1FYcMD9Q48MADi8fqh1vbw9ddcVSDAAXYt+f58+dLt27d5MMPPyxujevVq9cSFxQejjNp0iQZP348t8z5Vr3M9BTgBhX7f5cVvolhn332kfCXXXvttVfxFGDuvmts58u6ukGDBslNN90k4Z3gH//4x9WEkPiqKcCJgedc7pe//KWEB+2EByAtfoQniIbvIAufPQi3yf7617/OGZO160Tgsccekz322EPC50vuuOOO4vtCOapDgALs33V4AFZ4On+/fv2Kuzc6duxYXFT4WqQzzjhDdtppJ3nkkUf8XyhXsFQCFODG/YURHkIavuM7PH8l3P78l7/8Rb72ta817gVX/MrC79Nvv/22HHzwwcUTvpuO8Oez8GDSU089tfi+5/Dn8fBUaA59AhRgfcZmVghPd37jjTeKx+qHd3vD536nT59ePFgrfCdw//795d5775VOnTqZyUyQ2gl06dJFwlMGu3fvXrhd2hH+AP3973+/9kUYaYrAt7/9bXnnnXeKTOGhKm+99VaxmYbvGAzHOuusU/yBi8MHgc8++6x4iGH4y8ngLvxBOfyeHf57jTXWkL///e88zM6HylIpw/67+BO/g+dQghf/JofwGcF999231HycZJfAlVdeWZSecITft5f1FZSXXHKJdO3a1e6FkKwUgRtvvLH4fHdwGb7rN/z+HT77HZ4CHfbslVdeuXgH+LDDDis1HyfFE6AAxzN0M0P4LGi4JTZ81iR8zjc88Cp8DU54INLAgQOLz4mGW2U5GoNA+IPTio7wzn/4jZmjMQiEv+QKBWlZR/ic/2uvvdYYF1uRqwi/Tw8fPlxGjRpV/AVm+IutvffeuyhKvFPQWL8Imv6QvLyrCp8VDLdLcvgm0HSHzoqu4tVXX+WrKVcEycHPB4/XX3+9jBs3TsJHDkP5Dbe7hz07fAb85JNP5i8zE3ukACcGznIQgAAEIAABCEAAAhCAAAQgkIcABTgPd1aFAAQgAAEIQAACEIAABCAAgcQEKMCJgbMcBCAAAQhAAAIQgAAEIAABCOQhQAHOw51VIQABCEAAAhCAAAQgAAEIQCAxAQpwYuAsBwEIQAACEIAABCAAAQhAAAJ5CFCA83BnVQhAAAIQgAAEIAABCEAAAhBITIACnBg4y0EAAhCAAAQgAAEIQAACEIBAHgIU4DzcWRUCEIAABCAAAQhAAAIQgAAEEhOgACcGznIQgAAEIAABCEAAAhCAAAQgkIcABTgPd1aFAAQgAAEIQAACEIAABCAAgcQEKMCJgbMcBCAAAQhAAAIQgAAEIAABCOQhQAHOw51VIQABCEAAAhCAAAQgAAEIQCAxAQpwYuAsBwEIQAACEIAABCAAAQhAAAJ5CFCA83BnVQhAAAIQgAAEIAABCEAAAhBITIACnBg4y0EAAhCAAAQgAAEIQAACEIBAHgIU4DzcWRUCEIAABCAAAQhAAAIQgAAEEhOgACcGznIQgAAEIAABCEAAAhCAAAQgkIcABTgPd1aFAAQgAAEIQAACEIAABCAAgcQEKMCJgbMcBCAAAQhAAAIQgAAEIAABCOQhQAHOw51VIQABCEAAAl8hMGHCBOnbt68sWLBAVl55ZQn/veWWWy6T1LnnnivDhg0rfn777beXxx57TNq2bQtZCEAAAhCAAASWQYACzC8NCEAAAhCAgCECw4cPl7PPPrtI1LNnTxk/frystNJKX0kYyu6AAQNk4cKF0rFjR3nmmWdkk002MXQlRIEABCAAAQjYI0ABtueERBCAAAQgUGECX3zxhey6667yv//7vwWFM844Qy655JIliHz00UeyzTbbyKuvvlr8/9dff70cd9xxFabGpUMAAhCAAATKEaAAl+PEWRCAAAQgAIFkBF5//XXZeuut5cMPP5RWrVrJAw88ILvvvnvz+t/97nfl97//ffHfBx10kIwZMyZZNhaCAAQgAAEIeCZAAfZsj+wQgAAEINCwBEaNGiVHHnlkcX3rrbeeTJo0SVZffXW5/fbb5fDDDy/+/3XWWaf4/7t27dqwHLgwCEAAAhCAQD0JUIDrSZO5IAABCEAAAnUkEApwKMLhOOSQQ+Syyy4rPhf8wQcfFO8M33fffbLXXnvVcUWmggAEIAABCDQ2AQpwY/vl6iAAAQhAwDGBcAt0KLzTp08vrmKDDTaQN954o/j3k08+Wa688krHV0d0CEAAAhCAQHoCFOD0zFkRAhCAAAQgUJpAeBhWeChWeDhW0/H1r39dnnrqqeKrkjggAAEIQAACEChPgAJcnhVnQgACEIAABLIQ+K//+i+59dZbm9cO3w/cu3fvLFlYFAIQgAAEIOCZAAXYsz2yQwACEIBAwxOYOnVqUXbnzp3bfK0XXXSRDBkypOGvnQuEAAQgAAEI1JsABbjeRJkPAhCAAAQgUCcCCxYskL59+0p4xzcc4cFXixYtkrZt28oTTzwh2267bZ1WYhoIQAACEIBANQhQgKvhmauEAAQgAAGHBM4++2wZPnx4kXzHHXeUgQMHyoknnlj896abbioTJ06Ur33taw6vjMgQgAAEIACBPAQowHm4syoEIAABCEBguQQeffRRGTBgQPHwq86dO8uzzz4r3bt3l/3220/uvffeYuwPf/hDGTFiBCQhAAEIQAACEChJgAJcEhSnQQACEIAABFIR+Oijj4qvP3rttdeKJW+44QYZNGhQ8e8zZ86UrbbaqvhnOMaOHSv7779/qmisAwEIQAACEHBNgALsWh/hIQABCECgEQl897vfld///vfFpR188MFy5513LnGZd999txxwwAHF/9etWzd57rnnin9yQAACEIAABCCwfAIUYH6FQAACEIAABAwRuOOOO+Swww4rEq2zzjpFuV1jjTW+knDw4MFy3XXXFf//vvvuK/fcc4+hqyAKBCAAAQhAwCYBCrBNL6SCAAQgAIEKEnjrrbeK25s/+OCD4onPf/nLX2TPPfdcKok5c+ZIr169ZNq0acXPX3311XLCCSdUkBqXDAEIQAACEChPgAJcnhVnQgACEIAABNQIhK832mOPPeShhx4q1jj55JPlyiuvXO5648ePL54O/fnnnxdPg3766adls802U8vIxBCAAAQgAAHvBCjA3g2SHwIQgAAEIAABCEAAAhCAAARKEaAAl8LESRCAAAQgAAEIQAACEIAABCDgnQAF2LtB8kMAAhCAAAQgAAEIQAACEIBAKQIU4FKYOAkCEIAABCAAAQhAAAIQgAAEvBOgAHs3SH4IQAACEIAABCAAAQhAAAIQKEWAAlwKEydBAAIQgAAEIAABCEAAAhCAgHcCFGDvBskPAQhAAAIQgAAEIAABCEAAAqUIUIBLYeIkCEAAAhCAAAQgAAEIQAACEPBOgALs3SD5IQABCEAAAhCAAAQgAAEIQKAUAQpwKUycBAEIQAACEIAABCAAAQhAAALeCVCAvRskPwQgAAEIQAACEIAABCAAAQiUIkABLoWJkyAAAQhAAAIQgAAEIAABCEDAO4H/Dx/mP8emmwOaAAAAAElFTkSuQmCC\" width=\"640\">"
      ],
      "text/plain": [
       "<IPython.core.display.HTML object>"
      ]
     },
     "metadata": {},
     "output_type": "display_data"
    }
   ],
   "source": [
    "fig, ax1 = plt.subplots(1,1,dpi=100)\n",
    "\n",
    "X = np.linspace(-6,6,200)\n",
    "t0 = 0\n",
    "tf = 2*np.pi\n",
    "frames = 100\n",
    "\n",
    "t_axis = np.linspace(0, 2*np.pi, 100)\n",
    "\n",
    "xdata1, ydata1 = [], []\n",
    "xdata2, ydata2 = [], []\n",
    "\n",
    "myplot1, = ax1.plot([],[],'green')\n",
    "\n",
    "time_template = 'time = %.1fs'\n",
    "time_text1 = ax1.text(0.37, 0.95, '', transform=ax1.transAxes)\n",
    "\n",
    "\n",
    "def init():\n",
    "    ax1.grid(True)\n",
    "    ax1.set_title(\"Bohmian PES\", fontsize=15)\n",
    "    ax1.set_xlabel(\"x\", fontsize=15)\n",
    "    ax1.set_ylabel(\"$V_{classic} + U_{quantum}$\", fontsize=15)\n",
    "    ax1.set_xlim(-3,3)\n",
    "    ax1.set_ylim(-5,5)\n",
    "    \n",
    "#     ax.plot((-1,-1),(0,0.45),color=\"black\",linestyle=\"--\", alpha=0.35)\n",
    "#     ax.plot(( 1, 1),(0,0.45),color=\"black\",linestyle=\"--\", alpha=0.35)\n",
    "    return myplot1,\n",
    "    \n",
    "def update(i):\n",
    "    t0 = t_axis[i]\n",
    "    # clear previous data\n",
    "    xdata1, ydata1 = [], []\n",
    "    \n",
    "    # update curve data\n",
    "    xdata1.append(X)\n",
    "    ydata1.append([U_evaluated(t0,x0) for x0 in X])\n",
    "    \n",
    "    myplot1.set_data(xdata1, ydata1)\n",
    "    \n",
    "    time_text1.set_text(time_template % t0)\n",
    "    \n",
    "    return myplot1, time_text1,\n",
    "\n",
    "anim = animation.FuncAnimation(fig, update, 100, interval=50, init_func=init, blit=True)\n",
    "anim.save('pes_system2.gif', writer='imagemagick', fps=50, dpi=200)\n",
    "plt.show()"
   ]
  },
  {
   "cell_type": "markdown",
   "metadata": {},
   "source": [
    "#### TEST: Improve coding style"
   ]
  },
  {
   "cell_type": "code",
   "execution_count": 406,
   "metadata": {
    "ExecuteTime": {
     "end_time": "2021-08-05T08:45:35.763777Z",
     "start_time": "2021-08-05T08:45:35.736994Z"
    }
   },
   "outputs": [
    {
     "data": {
      "application/javascript": [
       "/* Put everything inside the global mpl namespace */\n",
       "/* global mpl */\n",
       "window.mpl = {};\n",
       "\n",
       "mpl.get_websocket_type = function () {\n",
       "    if (typeof WebSocket !== 'undefined') {\n",
       "        return WebSocket;\n",
       "    } else if (typeof MozWebSocket !== 'undefined') {\n",
       "        return MozWebSocket;\n",
       "    } else {\n",
       "        alert(\n",
       "            'Your browser does not have WebSocket support. ' +\n",
       "                'Please try Chrome, Safari or Firefox ≥ 6. ' +\n",
       "                'Firefox 4 and 5 are also supported but you ' +\n",
       "                'have to enable WebSockets in about:config.'\n",
       "        );\n",
       "    }\n",
       "};\n",
       "\n",
       "mpl.figure = function (figure_id, websocket, ondownload, parent_element) {\n",
       "    this.id = figure_id;\n",
       "\n",
       "    this.ws = websocket;\n",
       "\n",
       "    this.supports_binary = this.ws.binaryType !== undefined;\n",
       "\n",
       "    if (!this.supports_binary) {\n",
       "        var warnings = document.getElementById('mpl-warnings');\n",
       "        if (warnings) {\n",
       "            warnings.style.display = 'block';\n",
       "            warnings.textContent =\n",
       "                'This browser does not support binary websocket messages. ' +\n",
       "                'Performance may be slow.';\n",
       "        }\n",
       "    }\n",
       "\n",
       "    this.imageObj = new Image();\n",
       "\n",
       "    this.context = undefined;\n",
       "    this.message = undefined;\n",
       "    this.canvas = undefined;\n",
       "    this.rubberband_canvas = undefined;\n",
       "    this.rubberband_context = undefined;\n",
       "    this.format_dropdown = undefined;\n",
       "\n",
       "    this.image_mode = 'full';\n",
       "\n",
       "    this.root = document.createElement('div');\n",
       "    this.root.setAttribute('style', 'display: inline-block');\n",
       "    this._root_extra_style(this.root);\n",
       "\n",
       "    parent_element.appendChild(this.root);\n",
       "\n",
       "    this._init_header(this);\n",
       "    this._init_canvas(this);\n",
       "    this._init_toolbar(this);\n",
       "\n",
       "    var fig = this;\n",
       "\n",
       "    this.waiting = false;\n",
       "\n",
       "    this.ws.onopen = function () {\n",
       "        fig.send_message('supports_binary', { value: fig.supports_binary });\n",
       "        fig.send_message('send_image_mode', {});\n",
       "        if (fig.ratio !== 1) {\n",
       "            fig.send_message('set_dpi_ratio', { dpi_ratio: fig.ratio });\n",
       "        }\n",
       "        fig.send_message('refresh', {});\n",
       "    };\n",
       "\n",
       "    this.imageObj.onload = function () {\n",
       "        if (fig.image_mode === 'full') {\n",
       "            // Full images could contain transparency (where diff images\n",
       "            // almost always do), so we need to clear the canvas so that\n",
       "            // there is no ghosting.\n",
       "            fig.context.clearRect(0, 0, fig.canvas.width, fig.canvas.height);\n",
       "        }\n",
       "        fig.context.drawImage(fig.imageObj, 0, 0);\n",
       "    };\n",
       "\n",
       "    this.imageObj.onunload = function () {\n",
       "        fig.ws.close();\n",
       "    };\n",
       "\n",
       "    this.ws.onmessage = this._make_on_message_function(this);\n",
       "\n",
       "    this.ondownload = ondownload;\n",
       "};\n",
       "\n",
       "mpl.figure.prototype._init_header = function () {\n",
       "    var titlebar = document.createElement('div');\n",
       "    titlebar.classList =\n",
       "        'ui-dialog-titlebar ui-widget-header ui-corner-all ui-helper-clearfix';\n",
       "    var titletext = document.createElement('div');\n",
       "    titletext.classList = 'ui-dialog-title';\n",
       "    titletext.setAttribute(\n",
       "        'style',\n",
       "        'width: 100%; text-align: center; padding: 3px;'\n",
       "    );\n",
       "    titlebar.appendChild(titletext);\n",
       "    this.root.appendChild(titlebar);\n",
       "    this.header = titletext;\n",
       "};\n",
       "\n",
       "mpl.figure.prototype._canvas_extra_style = function (_canvas_div) {};\n",
       "\n",
       "mpl.figure.prototype._root_extra_style = function (_canvas_div) {};\n",
       "\n",
       "mpl.figure.prototype._init_canvas = function () {\n",
       "    var fig = this;\n",
       "\n",
       "    var canvas_div = (this.canvas_div = document.createElement('div'));\n",
       "    canvas_div.setAttribute(\n",
       "        'style',\n",
       "        'border: 1px solid #ddd;' +\n",
       "            'box-sizing: content-box;' +\n",
       "            'clear: both;' +\n",
       "            'min-height: 1px;' +\n",
       "            'min-width: 1px;' +\n",
       "            'outline: 0;' +\n",
       "            'overflow: hidden;' +\n",
       "            'position: relative;' +\n",
       "            'resize: both;'\n",
       "    );\n",
       "\n",
       "    function on_keyboard_event_closure(name) {\n",
       "        return function (event) {\n",
       "            return fig.key_event(event, name);\n",
       "        };\n",
       "    }\n",
       "\n",
       "    canvas_div.addEventListener(\n",
       "        'keydown',\n",
       "        on_keyboard_event_closure('key_press')\n",
       "    );\n",
       "    canvas_div.addEventListener(\n",
       "        'keyup',\n",
       "        on_keyboard_event_closure('key_release')\n",
       "    );\n",
       "\n",
       "    this._canvas_extra_style(canvas_div);\n",
       "    this.root.appendChild(canvas_div);\n",
       "\n",
       "    var canvas = (this.canvas = document.createElement('canvas'));\n",
       "    canvas.classList.add('mpl-canvas');\n",
       "    canvas.setAttribute('style', 'box-sizing: content-box;');\n",
       "\n",
       "    this.context = canvas.getContext('2d');\n",
       "\n",
       "    var backingStore =\n",
       "        this.context.backingStorePixelRatio ||\n",
       "        this.context.webkitBackingStorePixelRatio ||\n",
       "        this.context.mozBackingStorePixelRatio ||\n",
       "        this.context.msBackingStorePixelRatio ||\n",
       "        this.context.oBackingStorePixelRatio ||\n",
       "        this.context.backingStorePixelRatio ||\n",
       "        1;\n",
       "\n",
       "    this.ratio = (window.devicePixelRatio || 1) / backingStore;\n",
       "\n",
       "    var rubberband_canvas = (this.rubberband_canvas = document.createElement(\n",
       "        'canvas'\n",
       "    ));\n",
       "    rubberband_canvas.setAttribute(\n",
       "        'style',\n",
       "        'box-sizing: content-box; position: absolute; left: 0; top: 0; z-index: 1;'\n",
       "    );\n",
       "\n",
       "    // Apply a ponyfill if ResizeObserver is not implemented by browser.\n",
       "    if (this.ResizeObserver === undefined) {\n",
       "        if (window.ResizeObserver !== undefined) {\n",
       "            this.ResizeObserver = window.ResizeObserver;\n",
       "        } else {\n",
       "            var obs = _JSXTOOLS_RESIZE_OBSERVER({});\n",
       "            this.ResizeObserver = obs.ResizeObserver;\n",
       "        }\n",
       "    }\n",
       "\n",
       "    this.resizeObserverInstance = new this.ResizeObserver(function (entries) {\n",
       "        var nentries = entries.length;\n",
       "        for (var i = 0; i < nentries; i++) {\n",
       "            var entry = entries[i];\n",
       "            var width, height;\n",
       "            if (entry.contentBoxSize) {\n",
       "                if (entry.contentBoxSize instanceof Array) {\n",
       "                    // Chrome 84 implements new version of spec.\n",
       "                    width = entry.contentBoxSize[0].inlineSize;\n",
       "                    height = entry.contentBoxSize[0].blockSize;\n",
       "                } else {\n",
       "                    // Firefox implements old version of spec.\n",
       "                    width = entry.contentBoxSize.inlineSize;\n",
       "                    height = entry.contentBoxSize.blockSize;\n",
       "                }\n",
       "            } else {\n",
       "                // Chrome <84 implements even older version of spec.\n",
       "                width = entry.contentRect.width;\n",
       "                height = entry.contentRect.height;\n",
       "            }\n",
       "\n",
       "            // Keep the size of the canvas and rubber band canvas in sync with\n",
       "            // the canvas container.\n",
       "            if (entry.devicePixelContentBoxSize) {\n",
       "                // Chrome 84 implements new version of spec.\n",
       "                canvas.setAttribute(\n",
       "                    'width',\n",
       "                    entry.devicePixelContentBoxSize[0].inlineSize\n",
       "                );\n",
       "                canvas.setAttribute(\n",
       "                    'height',\n",
       "                    entry.devicePixelContentBoxSize[0].blockSize\n",
       "                );\n",
       "            } else {\n",
       "                canvas.setAttribute('width', width * fig.ratio);\n",
       "                canvas.setAttribute('height', height * fig.ratio);\n",
       "            }\n",
       "            canvas.setAttribute(\n",
       "                'style',\n",
       "                'width: ' + width + 'px; height: ' + height + 'px;'\n",
       "            );\n",
       "\n",
       "            rubberband_canvas.setAttribute('width', width);\n",
       "            rubberband_canvas.setAttribute('height', height);\n",
       "\n",
       "            // And update the size in Python. We ignore the initial 0/0 size\n",
       "            // that occurs as the element is placed into the DOM, which should\n",
       "            // otherwise not happen due to the minimum size styling.\n",
       "            if (fig.ws.readyState == 1 && width != 0 && height != 0) {\n",
       "                fig.request_resize(width, height);\n",
       "            }\n",
       "        }\n",
       "    });\n",
       "    this.resizeObserverInstance.observe(canvas_div);\n",
       "\n",
       "    function on_mouse_event_closure(name) {\n",
       "        return function (event) {\n",
       "            return fig.mouse_event(event, name);\n",
       "        };\n",
       "    }\n",
       "\n",
       "    rubberband_canvas.addEventListener(\n",
       "        'mousedown',\n",
       "        on_mouse_event_closure('button_press')\n",
       "    );\n",
       "    rubberband_canvas.addEventListener(\n",
       "        'mouseup',\n",
       "        on_mouse_event_closure('button_release')\n",
       "    );\n",
       "    // Throttle sequential mouse events to 1 every 20ms.\n",
       "    rubberband_canvas.addEventListener(\n",
       "        'mousemove',\n",
       "        on_mouse_event_closure('motion_notify')\n",
       "    );\n",
       "\n",
       "    rubberband_canvas.addEventListener(\n",
       "        'mouseenter',\n",
       "        on_mouse_event_closure('figure_enter')\n",
       "    );\n",
       "    rubberband_canvas.addEventListener(\n",
       "        'mouseleave',\n",
       "        on_mouse_event_closure('figure_leave')\n",
       "    );\n",
       "\n",
       "    canvas_div.addEventListener('wheel', function (event) {\n",
       "        if (event.deltaY < 0) {\n",
       "            event.step = 1;\n",
       "        } else {\n",
       "            event.step = -1;\n",
       "        }\n",
       "        on_mouse_event_closure('scroll')(event);\n",
       "    });\n",
       "\n",
       "    canvas_div.appendChild(canvas);\n",
       "    canvas_div.appendChild(rubberband_canvas);\n",
       "\n",
       "    this.rubberband_context = rubberband_canvas.getContext('2d');\n",
       "    this.rubberband_context.strokeStyle = '#000000';\n",
       "\n",
       "    this._resize_canvas = function (width, height, forward) {\n",
       "        if (forward) {\n",
       "            canvas_div.style.width = width + 'px';\n",
       "            canvas_div.style.height = height + 'px';\n",
       "        }\n",
       "    };\n",
       "\n",
       "    // Disable right mouse context menu.\n",
       "    this.rubberband_canvas.addEventListener('contextmenu', function (_e) {\n",
       "        event.preventDefault();\n",
       "        return false;\n",
       "    });\n",
       "\n",
       "    function set_focus() {\n",
       "        canvas.focus();\n",
       "        canvas_div.focus();\n",
       "    }\n",
       "\n",
       "    window.setTimeout(set_focus, 100);\n",
       "};\n",
       "\n",
       "mpl.figure.prototype._init_toolbar = function () {\n",
       "    var fig = this;\n",
       "\n",
       "    var toolbar = document.createElement('div');\n",
       "    toolbar.classList = 'mpl-toolbar';\n",
       "    this.root.appendChild(toolbar);\n",
       "\n",
       "    function on_click_closure(name) {\n",
       "        return function (_event) {\n",
       "            return fig.toolbar_button_onclick(name);\n",
       "        };\n",
       "    }\n",
       "\n",
       "    function on_mouseover_closure(tooltip) {\n",
       "        return function (event) {\n",
       "            if (!event.currentTarget.disabled) {\n",
       "                return fig.toolbar_button_onmouseover(tooltip);\n",
       "            }\n",
       "        };\n",
       "    }\n",
       "\n",
       "    fig.buttons = {};\n",
       "    var buttonGroup = document.createElement('div');\n",
       "    buttonGroup.classList = 'mpl-button-group';\n",
       "    for (var toolbar_ind in mpl.toolbar_items) {\n",
       "        var name = mpl.toolbar_items[toolbar_ind][0];\n",
       "        var tooltip = mpl.toolbar_items[toolbar_ind][1];\n",
       "        var image = mpl.toolbar_items[toolbar_ind][2];\n",
       "        var method_name = mpl.toolbar_items[toolbar_ind][3];\n",
       "\n",
       "        if (!name) {\n",
       "            /* Instead of a spacer, we start a new button group. */\n",
       "            if (buttonGroup.hasChildNodes()) {\n",
       "                toolbar.appendChild(buttonGroup);\n",
       "            }\n",
       "            buttonGroup = document.createElement('div');\n",
       "            buttonGroup.classList = 'mpl-button-group';\n",
       "            continue;\n",
       "        }\n",
       "\n",
       "        var button = (fig.buttons[name] = document.createElement('button'));\n",
       "        button.classList = 'mpl-widget';\n",
       "        button.setAttribute('role', 'button');\n",
       "        button.setAttribute('aria-disabled', 'false');\n",
       "        button.addEventListener('click', on_click_closure(method_name));\n",
       "        button.addEventListener('mouseover', on_mouseover_closure(tooltip));\n",
       "\n",
       "        var icon_img = document.createElement('img');\n",
       "        icon_img.src = '_images/' + image + '.png';\n",
       "        icon_img.srcset = '_images/' + image + '_large.png 2x';\n",
       "        icon_img.alt = tooltip;\n",
       "        button.appendChild(icon_img);\n",
       "\n",
       "        buttonGroup.appendChild(button);\n",
       "    }\n",
       "\n",
       "    if (buttonGroup.hasChildNodes()) {\n",
       "        toolbar.appendChild(buttonGroup);\n",
       "    }\n",
       "\n",
       "    var fmt_picker = document.createElement('select');\n",
       "    fmt_picker.classList = 'mpl-widget';\n",
       "    toolbar.appendChild(fmt_picker);\n",
       "    this.format_dropdown = fmt_picker;\n",
       "\n",
       "    for (var ind in mpl.extensions) {\n",
       "        var fmt = mpl.extensions[ind];\n",
       "        var option = document.createElement('option');\n",
       "        option.selected = fmt === mpl.default_extension;\n",
       "        option.innerHTML = fmt;\n",
       "        fmt_picker.appendChild(option);\n",
       "    }\n",
       "\n",
       "    var status_bar = document.createElement('span');\n",
       "    status_bar.classList = 'mpl-message';\n",
       "    toolbar.appendChild(status_bar);\n",
       "    this.message = status_bar;\n",
       "};\n",
       "\n",
       "mpl.figure.prototype.request_resize = function (x_pixels, y_pixels) {\n",
       "    // Request matplotlib to resize the figure. Matplotlib will then trigger a resize in the client,\n",
       "    // which will in turn request a refresh of the image.\n",
       "    this.send_message('resize', { width: x_pixels, height: y_pixels });\n",
       "};\n",
       "\n",
       "mpl.figure.prototype.send_message = function (type, properties) {\n",
       "    properties['type'] = type;\n",
       "    properties['figure_id'] = this.id;\n",
       "    this.ws.send(JSON.stringify(properties));\n",
       "};\n",
       "\n",
       "mpl.figure.prototype.send_draw_message = function () {\n",
       "    if (!this.waiting) {\n",
       "        this.waiting = true;\n",
       "        this.ws.send(JSON.stringify({ type: 'draw', figure_id: this.id }));\n",
       "    }\n",
       "};\n",
       "\n",
       "mpl.figure.prototype.handle_save = function (fig, _msg) {\n",
       "    var format_dropdown = fig.format_dropdown;\n",
       "    var format = format_dropdown.options[format_dropdown.selectedIndex].value;\n",
       "    fig.ondownload(fig, format);\n",
       "};\n",
       "\n",
       "mpl.figure.prototype.handle_resize = function (fig, msg) {\n",
       "    var size = msg['size'];\n",
       "    if (size[0] !== fig.canvas.width || size[1] !== fig.canvas.height) {\n",
       "        fig._resize_canvas(size[0], size[1], msg['forward']);\n",
       "        fig.send_message('refresh', {});\n",
       "    }\n",
       "};\n",
       "\n",
       "mpl.figure.prototype.handle_rubberband = function (fig, msg) {\n",
       "    var x0 = msg['x0'] / fig.ratio;\n",
       "    var y0 = (fig.canvas.height - msg['y0']) / fig.ratio;\n",
       "    var x1 = msg['x1'] / fig.ratio;\n",
       "    var y1 = (fig.canvas.height - msg['y1']) / fig.ratio;\n",
       "    x0 = Math.floor(x0) + 0.5;\n",
       "    y0 = Math.floor(y0) + 0.5;\n",
       "    x1 = Math.floor(x1) + 0.5;\n",
       "    y1 = Math.floor(y1) + 0.5;\n",
       "    var min_x = Math.min(x0, x1);\n",
       "    var min_y = Math.min(y0, y1);\n",
       "    var width = Math.abs(x1 - x0);\n",
       "    var height = Math.abs(y1 - y0);\n",
       "\n",
       "    fig.rubberband_context.clearRect(\n",
       "        0,\n",
       "        0,\n",
       "        fig.canvas.width / fig.ratio,\n",
       "        fig.canvas.height / fig.ratio\n",
       "    );\n",
       "\n",
       "    fig.rubberband_context.strokeRect(min_x, min_y, width, height);\n",
       "};\n",
       "\n",
       "mpl.figure.prototype.handle_figure_label = function (fig, msg) {\n",
       "    // Updates the figure title.\n",
       "    fig.header.textContent = msg['label'];\n",
       "};\n",
       "\n",
       "mpl.figure.prototype.handle_cursor = function (fig, msg) {\n",
       "    var cursor = msg['cursor'];\n",
       "    switch (cursor) {\n",
       "        case 0:\n",
       "            cursor = 'pointer';\n",
       "            break;\n",
       "        case 1:\n",
       "            cursor = 'default';\n",
       "            break;\n",
       "        case 2:\n",
       "            cursor = 'crosshair';\n",
       "            break;\n",
       "        case 3:\n",
       "            cursor = 'move';\n",
       "            break;\n",
       "    }\n",
       "    fig.rubberband_canvas.style.cursor = cursor;\n",
       "};\n",
       "\n",
       "mpl.figure.prototype.handle_message = function (fig, msg) {\n",
       "    fig.message.textContent = msg['message'];\n",
       "};\n",
       "\n",
       "mpl.figure.prototype.handle_draw = function (fig, _msg) {\n",
       "    // Request the server to send over a new figure.\n",
       "    fig.send_draw_message();\n",
       "};\n",
       "\n",
       "mpl.figure.prototype.handle_image_mode = function (fig, msg) {\n",
       "    fig.image_mode = msg['mode'];\n",
       "};\n",
       "\n",
       "mpl.figure.prototype.handle_history_buttons = function (fig, msg) {\n",
       "    for (var key in msg) {\n",
       "        if (!(key in fig.buttons)) {\n",
       "            continue;\n",
       "        }\n",
       "        fig.buttons[key].disabled = !msg[key];\n",
       "        fig.buttons[key].setAttribute('aria-disabled', !msg[key]);\n",
       "    }\n",
       "};\n",
       "\n",
       "mpl.figure.prototype.handle_navigate_mode = function (fig, msg) {\n",
       "    if (msg['mode'] === 'PAN') {\n",
       "        fig.buttons['Pan'].classList.add('active');\n",
       "        fig.buttons['Zoom'].classList.remove('active');\n",
       "    } else if (msg['mode'] === 'ZOOM') {\n",
       "        fig.buttons['Pan'].classList.remove('active');\n",
       "        fig.buttons['Zoom'].classList.add('active');\n",
       "    } else {\n",
       "        fig.buttons['Pan'].classList.remove('active');\n",
       "        fig.buttons['Zoom'].classList.remove('active');\n",
       "    }\n",
       "};\n",
       "\n",
       "mpl.figure.prototype.updated_canvas_event = function () {\n",
       "    // Called whenever the canvas gets updated.\n",
       "    this.send_message('ack', {});\n",
       "};\n",
       "\n",
       "// A function to construct a web socket function for onmessage handling.\n",
       "// Called in the figure constructor.\n",
       "mpl.figure.prototype._make_on_message_function = function (fig) {\n",
       "    return function socket_on_message(evt) {\n",
       "        if (evt.data instanceof Blob) {\n",
       "            /* FIXME: We get \"Resource interpreted as Image but\n",
       "             * transferred with MIME type text/plain:\" errors on\n",
       "             * Chrome.  But how to set the MIME type?  It doesn't seem\n",
       "             * to be part of the websocket stream */\n",
       "            evt.data.type = 'image/png';\n",
       "\n",
       "            /* Free the memory for the previous frames */\n",
       "            if (fig.imageObj.src) {\n",
       "                (window.URL || window.webkitURL).revokeObjectURL(\n",
       "                    fig.imageObj.src\n",
       "                );\n",
       "            }\n",
       "\n",
       "            fig.imageObj.src = (window.URL || window.webkitURL).createObjectURL(\n",
       "                evt.data\n",
       "            );\n",
       "            fig.updated_canvas_event();\n",
       "            fig.waiting = false;\n",
       "            return;\n",
       "        } else if (\n",
       "            typeof evt.data === 'string' &&\n",
       "            evt.data.slice(0, 21) === 'data:image/png;base64'\n",
       "        ) {\n",
       "            fig.imageObj.src = evt.data;\n",
       "            fig.updated_canvas_event();\n",
       "            fig.waiting = false;\n",
       "            return;\n",
       "        }\n",
       "\n",
       "        var msg = JSON.parse(evt.data);\n",
       "        var msg_type = msg['type'];\n",
       "\n",
       "        // Call the  \"handle_{type}\" callback, which takes\n",
       "        // the figure and JSON message as its only arguments.\n",
       "        try {\n",
       "            var callback = fig['handle_' + msg_type];\n",
       "        } catch (e) {\n",
       "            console.log(\n",
       "                \"No handler for the '\" + msg_type + \"' message type: \",\n",
       "                msg\n",
       "            );\n",
       "            return;\n",
       "        }\n",
       "\n",
       "        if (callback) {\n",
       "            try {\n",
       "                // console.log(\"Handling '\" + msg_type + \"' message: \", msg);\n",
       "                callback(fig, msg);\n",
       "            } catch (e) {\n",
       "                console.log(\n",
       "                    \"Exception inside the 'handler_\" + msg_type + \"' callback:\",\n",
       "                    e,\n",
       "                    e.stack,\n",
       "                    msg\n",
       "                );\n",
       "            }\n",
       "        }\n",
       "    };\n",
       "};\n",
       "\n",
       "// from http://stackoverflow.com/questions/1114465/getting-mouse-location-in-canvas\n",
       "mpl.findpos = function (e) {\n",
       "    //this section is from http://www.quirksmode.org/js/events_properties.html\n",
       "    var targ;\n",
       "    if (!e) {\n",
       "        e = window.event;\n",
       "    }\n",
       "    if (e.target) {\n",
       "        targ = e.target;\n",
       "    } else if (e.srcElement) {\n",
       "        targ = e.srcElement;\n",
       "    }\n",
       "    if (targ.nodeType === 3) {\n",
       "        // defeat Safari bug\n",
       "        targ = targ.parentNode;\n",
       "    }\n",
       "\n",
       "    // pageX,Y are the mouse positions relative to the document\n",
       "    var boundingRect = targ.getBoundingClientRect();\n",
       "    var x = e.pageX - (boundingRect.left + document.body.scrollLeft);\n",
       "    var y = e.pageY - (boundingRect.top + document.body.scrollTop);\n",
       "\n",
       "    return { x: x, y: y };\n",
       "};\n",
       "\n",
       "/*\n",
       " * return a copy of an object with only non-object keys\n",
       " * we need this to avoid circular references\n",
       " * http://stackoverflow.com/a/24161582/3208463\n",
       " */\n",
       "function simpleKeys(original) {\n",
       "    return Object.keys(original).reduce(function (obj, key) {\n",
       "        if (typeof original[key] !== 'object') {\n",
       "            obj[key] = original[key];\n",
       "        }\n",
       "        return obj;\n",
       "    }, {});\n",
       "}\n",
       "\n",
       "mpl.figure.prototype.mouse_event = function (event, name) {\n",
       "    var canvas_pos = mpl.findpos(event);\n",
       "\n",
       "    if (name === 'button_press') {\n",
       "        this.canvas.focus();\n",
       "        this.canvas_div.focus();\n",
       "    }\n",
       "\n",
       "    var x = canvas_pos.x * this.ratio;\n",
       "    var y = canvas_pos.y * this.ratio;\n",
       "\n",
       "    this.send_message(name, {\n",
       "        x: x,\n",
       "        y: y,\n",
       "        button: event.button,\n",
       "        step: event.step,\n",
       "        guiEvent: simpleKeys(event),\n",
       "    });\n",
       "\n",
       "    /* This prevents the web browser from automatically changing to\n",
       "     * the text insertion cursor when the button is pressed.  We want\n",
       "     * to control all of the cursor setting manually through the\n",
       "     * 'cursor' event from matplotlib */\n",
       "    event.preventDefault();\n",
       "    return false;\n",
       "};\n",
       "\n",
       "mpl.figure.prototype._key_event_extra = function (_event, _name) {\n",
       "    // Handle any extra behaviour associated with a key event\n",
       "};\n",
       "\n",
       "mpl.figure.prototype.key_event = function (event, name) {\n",
       "    // Prevent repeat events\n",
       "    if (name === 'key_press') {\n",
       "        if (event.which === this._key) {\n",
       "            return;\n",
       "        } else {\n",
       "            this._key = event.which;\n",
       "        }\n",
       "    }\n",
       "    if (name === 'key_release') {\n",
       "        this._key = null;\n",
       "    }\n",
       "\n",
       "    var value = '';\n",
       "    if (event.ctrlKey && event.which !== 17) {\n",
       "        value += 'ctrl+';\n",
       "    }\n",
       "    if (event.altKey && event.which !== 18) {\n",
       "        value += 'alt+';\n",
       "    }\n",
       "    if (event.shiftKey && event.which !== 16) {\n",
       "        value += 'shift+';\n",
       "    }\n",
       "\n",
       "    value += 'k';\n",
       "    value += event.which.toString();\n",
       "\n",
       "    this._key_event_extra(event, name);\n",
       "\n",
       "    this.send_message(name, { key: value, guiEvent: simpleKeys(event) });\n",
       "    return false;\n",
       "};\n",
       "\n",
       "mpl.figure.prototype.toolbar_button_onclick = function (name) {\n",
       "    if (name === 'download') {\n",
       "        this.handle_save(this, null);\n",
       "    } else {\n",
       "        this.send_message('toolbar_button', { name: name });\n",
       "    }\n",
       "};\n",
       "\n",
       "mpl.figure.prototype.toolbar_button_onmouseover = function (tooltip) {\n",
       "    this.message.textContent = tooltip;\n",
       "};\n",
       "\n",
       "///////////////// REMAINING CONTENT GENERATED BY embed_js.py /////////////////\n",
       "// prettier-ignore\n",
       "var _JSXTOOLS_RESIZE_OBSERVER=function(A){var t,i=new WeakMap,n=new WeakMap,a=new WeakMap,r=new WeakMap,o=new Set;function s(e){if(!(this instanceof s))throw new TypeError(\"Constructor requires 'new' operator\");i.set(this,e)}function h(){throw new TypeError(\"Function is not a constructor\")}function c(e,t,i,n){e=0 in arguments?Number(arguments[0]):0,t=1 in arguments?Number(arguments[1]):0,i=2 in arguments?Number(arguments[2]):0,n=3 in arguments?Number(arguments[3]):0,this.right=(this.x=this.left=e)+(this.width=i),this.bottom=(this.y=this.top=t)+(this.height=n),Object.freeze(this)}function d(){t=requestAnimationFrame(d);var s=new WeakMap,p=new Set;o.forEach((function(t){r.get(t).forEach((function(i){var r=t instanceof window.SVGElement,o=a.get(t),d=r?0:parseFloat(o.paddingTop),f=r?0:parseFloat(o.paddingRight),l=r?0:parseFloat(o.paddingBottom),u=r?0:parseFloat(o.paddingLeft),g=r?0:parseFloat(o.borderTopWidth),m=r?0:parseFloat(o.borderRightWidth),w=r?0:parseFloat(o.borderBottomWidth),b=u+f,F=d+l,v=(r?0:parseFloat(o.borderLeftWidth))+m,W=g+w,y=r?0:t.offsetHeight-W-t.clientHeight,E=r?0:t.offsetWidth-v-t.clientWidth,R=b+v,z=F+W,M=r?t.width:parseFloat(o.width)-R-E,O=r?t.height:parseFloat(o.height)-z-y;if(n.has(t)){var k=n.get(t);if(k[0]===M&&k[1]===O)return}n.set(t,[M,O]);var S=Object.create(h.prototype);S.target=t,S.contentRect=new c(u,d,M,O),s.has(i)||(s.set(i,[]),p.add(i)),s.get(i).push(S)}))})),p.forEach((function(e){i.get(e).call(e,s.get(e),e)}))}return s.prototype.observe=function(i){if(i instanceof window.Element){r.has(i)||(r.set(i,new Set),o.add(i),a.set(i,window.getComputedStyle(i)));var n=r.get(i);n.has(this)||n.add(this),cancelAnimationFrame(t),t=requestAnimationFrame(d)}},s.prototype.unobserve=function(i){if(i instanceof window.Element&&r.has(i)){var n=r.get(i);n.has(this)&&(n.delete(this),n.size||(r.delete(i),o.delete(i))),n.size||r.delete(i),o.size||cancelAnimationFrame(t)}},A.DOMRectReadOnly=c,A.ResizeObserver=s,A.ResizeObserverEntry=h,A}; // eslint-disable-line\n",
       "mpl.toolbar_items = [[\"Home\", \"Reset original view\", \"fa fa-home icon-home\", \"home\"], [\"Back\", \"Back to previous view\", \"fa fa-arrow-left icon-arrow-left\", \"back\"], [\"Forward\", \"Forward to next view\", \"fa fa-arrow-right icon-arrow-right\", \"forward\"], [\"\", \"\", \"\", \"\"], [\"Pan\", \"Left button pans, Right button zooms\\nx/y fixes axis, CTRL fixes aspect\", \"fa fa-arrows icon-move\", \"pan\"], [\"Zoom\", \"Zoom to rectangle\\nx/y fixes axis, CTRL fixes aspect\", \"fa fa-square-o icon-check-empty\", \"zoom\"], [\"\", \"\", \"\", \"\"], [\"Download\", \"Download plot\", \"fa fa-floppy-o icon-save\", \"download\"]];\n",
       "\n",
       "mpl.extensions = [\"eps\", \"jpeg\", \"pdf\", \"png\", \"ps\", \"raw\", \"svg\", \"tif\"];\n",
       "\n",
       "mpl.default_extension = \"png\";/* global mpl */\n",
       "\n",
       "var comm_websocket_adapter = function (comm) {\n",
       "    // Create a \"websocket\"-like object which calls the given IPython comm\n",
       "    // object with the appropriate methods. Currently this is a non binary\n",
       "    // socket, so there is still some room for performance tuning.\n",
       "    var ws = {};\n",
       "\n",
       "    ws.close = function () {\n",
       "        comm.close();\n",
       "    };\n",
       "    ws.send = function (m) {\n",
       "        //console.log('sending', m);\n",
       "        comm.send(m);\n",
       "    };\n",
       "    // Register the callback with on_msg.\n",
       "    comm.on_msg(function (msg) {\n",
       "        //console.log('receiving', msg['content']['data'], msg);\n",
       "        // Pass the mpl event to the overridden (by mpl) onmessage function.\n",
       "        ws.onmessage(msg['content']['data']);\n",
       "    });\n",
       "    return ws;\n",
       "};\n",
       "\n",
       "mpl.mpl_figure_comm = function (comm, msg) {\n",
       "    // This is the function which gets called when the mpl process\n",
       "    // starts-up an IPython Comm through the \"matplotlib\" channel.\n",
       "\n",
       "    var id = msg.content.data.id;\n",
       "    // Get hold of the div created by the display call when the Comm\n",
       "    // socket was opened in Python.\n",
       "    var element = document.getElementById(id);\n",
       "    var ws_proxy = comm_websocket_adapter(comm);\n",
       "\n",
       "    function ondownload(figure, _format) {\n",
       "        window.open(figure.canvas.toDataURL());\n",
       "    }\n",
       "\n",
       "    var fig = new mpl.figure(id, ws_proxy, ondownload, element);\n",
       "\n",
       "    // Call onopen now - mpl needs it, as it is assuming we've passed it a real\n",
       "    // web socket which is closed, not our websocket->open comm proxy.\n",
       "    ws_proxy.onopen();\n",
       "\n",
       "    fig.parent_element = element;\n",
       "    fig.cell_info = mpl.find_output_cell(\"<div id='\" + id + \"'></div>\");\n",
       "    if (!fig.cell_info) {\n",
       "        console.error('Failed to find cell for figure', id, fig);\n",
       "        return;\n",
       "    }\n",
       "    fig.cell_info[0].output_area.element.on(\n",
       "        'cleared',\n",
       "        { fig: fig },\n",
       "        fig._remove_fig_handler\n",
       "    );\n",
       "};\n",
       "\n",
       "mpl.figure.prototype.handle_close = function (fig, msg) {\n",
       "    var width = fig.canvas.width / fig.ratio;\n",
       "    fig.cell_info[0].output_area.element.off(\n",
       "        'cleared',\n",
       "        fig._remove_fig_handler\n",
       "    );\n",
       "    fig.resizeObserverInstance.unobserve(fig.canvas_div);\n",
       "\n",
       "    // Update the output cell to use the data from the current canvas.\n",
       "    fig.push_to_output();\n",
       "    var dataURL = fig.canvas.toDataURL();\n",
       "    // Re-enable the keyboard manager in IPython - without this line, in FF,\n",
       "    // the notebook keyboard shortcuts fail.\n",
       "    IPython.keyboard_manager.enable();\n",
       "    fig.parent_element.innerHTML =\n",
       "        '<img src=\"' + dataURL + '\" width=\"' + width + '\">';\n",
       "    fig.close_ws(fig, msg);\n",
       "};\n",
       "\n",
       "mpl.figure.prototype.close_ws = function (fig, msg) {\n",
       "    fig.send_message('closing', msg);\n",
       "    // fig.ws.close()\n",
       "};\n",
       "\n",
       "mpl.figure.prototype.push_to_output = function (_remove_interactive) {\n",
       "    // Turn the data on the canvas into data in the output cell.\n",
       "    var width = this.canvas.width / this.ratio;\n",
       "    var dataURL = this.canvas.toDataURL();\n",
       "    this.cell_info[1]['text/html'] =\n",
       "        '<img src=\"' + dataURL + '\" width=\"' + width + '\">';\n",
       "};\n",
       "\n",
       "mpl.figure.prototype.updated_canvas_event = function () {\n",
       "    // Tell IPython that the notebook contents must change.\n",
       "    IPython.notebook.set_dirty(true);\n",
       "    this.send_message('ack', {});\n",
       "    var fig = this;\n",
       "    // Wait a second, then push the new image to the DOM so\n",
       "    // that it is saved nicely (might be nice to debounce this).\n",
       "    setTimeout(function () {\n",
       "        fig.push_to_output();\n",
       "    }, 1000);\n",
       "};\n",
       "\n",
       "mpl.figure.prototype._init_toolbar = function () {\n",
       "    var fig = this;\n",
       "\n",
       "    var toolbar = document.createElement('div');\n",
       "    toolbar.classList = 'btn-toolbar';\n",
       "    this.root.appendChild(toolbar);\n",
       "\n",
       "    function on_click_closure(name) {\n",
       "        return function (_event) {\n",
       "            return fig.toolbar_button_onclick(name);\n",
       "        };\n",
       "    }\n",
       "\n",
       "    function on_mouseover_closure(tooltip) {\n",
       "        return function (event) {\n",
       "            if (!event.currentTarget.disabled) {\n",
       "                return fig.toolbar_button_onmouseover(tooltip);\n",
       "            }\n",
       "        };\n",
       "    }\n",
       "\n",
       "    fig.buttons = {};\n",
       "    var buttonGroup = document.createElement('div');\n",
       "    buttonGroup.classList = 'btn-group';\n",
       "    var button;\n",
       "    for (var toolbar_ind in mpl.toolbar_items) {\n",
       "        var name = mpl.toolbar_items[toolbar_ind][0];\n",
       "        var tooltip = mpl.toolbar_items[toolbar_ind][1];\n",
       "        var image = mpl.toolbar_items[toolbar_ind][2];\n",
       "        var method_name = mpl.toolbar_items[toolbar_ind][3];\n",
       "\n",
       "        if (!name) {\n",
       "            /* Instead of a spacer, we start a new button group. */\n",
       "            if (buttonGroup.hasChildNodes()) {\n",
       "                toolbar.appendChild(buttonGroup);\n",
       "            }\n",
       "            buttonGroup = document.createElement('div');\n",
       "            buttonGroup.classList = 'btn-group';\n",
       "            continue;\n",
       "        }\n",
       "\n",
       "        button = fig.buttons[name] = document.createElement('button');\n",
       "        button.classList = 'btn btn-default';\n",
       "        button.href = '#';\n",
       "        button.title = name;\n",
       "        button.innerHTML = '<i class=\"fa ' + image + ' fa-lg\"></i>';\n",
       "        button.addEventListener('click', on_click_closure(method_name));\n",
       "        button.addEventListener('mouseover', on_mouseover_closure(tooltip));\n",
       "        buttonGroup.appendChild(button);\n",
       "    }\n",
       "\n",
       "    if (buttonGroup.hasChildNodes()) {\n",
       "        toolbar.appendChild(buttonGroup);\n",
       "    }\n",
       "\n",
       "    // Add the status bar.\n",
       "    var status_bar = document.createElement('span');\n",
       "    status_bar.classList = 'mpl-message pull-right';\n",
       "    toolbar.appendChild(status_bar);\n",
       "    this.message = status_bar;\n",
       "\n",
       "    // Add the close button to the window.\n",
       "    var buttongrp = document.createElement('div');\n",
       "    buttongrp.classList = 'btn-group inline pull-right';\n",
       "    button = document.createElement('button');\n",
       "    button.classList = 'btn btn-mini btn-primary';\n",
       "    button.href = '#';\n",
       "    button.title = 'Stop Interaction';\n",
       "    button.innerHTML = '<i class=\"fa fa-power-off icon-remove icon-large\"></i>';\n",
       "    button.addEventListener('click', function (_evt) {\n",
       "        fig.handle_close(fig, {});\n",
       "    });\n",
       "    button.addEventListener(\n",
       "        'mouseover',\n",
       "        on_mouseover_closure('Stop Interaction')\n",
       "    );\n",
       "    buttongrp.appendChild(button);\n",
       "    var titlebar = this.root.querySelector('.ui-dialog-titlebar');\n",
       "    titlebar.insertBefore(buttongrp, titlebar.firstChild);\n",
       "};\n",
       "\n",
       "mpl.figure.prototype._remove_fig_handler = function (event) {\n",
       "    var fig = event.data.fig;\n",
       "    if (event.target !== this) {\n",
       "        // Ignore bubbled events from children.\n",
       "        return;\n",
       "    }\n",
       "    fig.close_ws(fig, {});\n",
       "};\n",
       "\n",
       "mpl.figure.prototype._root_extra_style = function (el) {\n",
       "    el.style.boxSizing = 'content-box'; // override notebook setting of border-box.\n",
       "};\n",
       "\n",
       "mpl.figure.prototype._canvas_extra_style = function (el) {\n",
       "    // this is important to make the div 'focusable\n",
       "    el.setAttribute('tabindex', 0);\n",
       "    // reach out to IPython and tell the keyboard manager to turn it's self\n",
       "    // off when our div gets focus\n",
       "\n",
       "    // location in version 3\n",
       "    if (IPython.notebook.keyboard_manager) {\n",
       "        IPython.notebook.keyboard_manager.register_events(el);\n",
       "    } else {\n",
       "        // location in version 2\n",
       "        IPython.keyboard_manager.register_events(el);\n",
       "    }\n",
       "};\n",
       "\n",
       "mpl.figure.prototype._key_event_extra = function (event, _name) {\n",
       "    var manager = IPython.notebook.keyboard_manager;\n",
       "    if (!manager) {\n",
       "        manager = IPython.keyboard_manager;\n",
       "    }\n",
       "\n",
       "    // Check for shift+enter\n",
       "    if (event.shiftKey && event.which === 13) {\n",
       "        this.canvas_div.blur();\n",
       "        // select the cell after this one\n",
       "        var index = IPython.notebook.find_cell_index(this.cell_info[0]);\n",
       "        IPython.notebook.select(index + 1);\n",
       "    }\n",
       "};\n",
       "\n",
       "mpl.figure.prototype.handle_save = function (fig, _msg) {\n",
       "    fig.ondownload(fig, null);\n",
       "};\n",
       "\n",
       "mpl.find_output_cell = function (html_output) {\n",
       "    // Return the cell and output element which can be found *uniquely* in the notebook.\n",
       "    // Note - this is a bit hacky, but it is done because the \"notebook_saving.Notebook\"\n",
       "    // IPython event is triggered only after the cells have been serialised, which for\n",
       "    // our purposes (turning an active figure into a static one), is too late.\n",
       "    var cells = IPython.notebook.get_cells();\n",
       "    var ncells = cells.length;\n",
       "    for (var i = 0; i < ncells; i++) {\n",
       "        var cell = cells[i];\n",
       "        if (cell.cell_type === 'code') {\n",
       "            for (var j = 0; j < cell.output_area.outputs.length; j++) {\n",
       "                var data = cell.output_area.outputs[j];\n",
       "                if (data.data) {\n",
       "                    // IPython >= 3 moved mimebundle to data attribute of output\n",
       "                    data = data.data;\n",
       "                }\n",
       "                if (data['text/html'] === html_output) {\n",
       "                    return [cell, data, j];\n",
       "                }\n",
       "            }\n",
       "        }\n",
       "    }\n",
       "};\n",
       "\n",
       "// Register the function which deals with the matplotlib target/channel.\n",
       "// The kernel may be null if the page has been refreshed.\n",
       "if (IPython.notebook.kernel !== null) {\n",
       "    IPython.notebook.kernel.comm_manager.register_target(\n",
       "        'matplotlib',\n",
       "        mpl.mpl_figure_comm\n",
       "    );\n",
       "}\n"
      ],
      "text/plain": [
       "<IPython.core.display.Javascript object>"
      ]
     },
     "metadata": {},
     "output_type": "display_data"
    },
    {
     "data": {
      "text/html": [
       "<img src=\"data:image/png;base64,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\" width=\"640\">"
      ],
      "text/plain": [
       "<IPython.core.display.HTML object>"
      ]
     },
     "metadata": {},
     "output_type": "display_data"
    }
   ],
   "source": [
    "fig, ax = plt.subplots(1,1, dpi=100)\n",
    "\n",
    "x_min, x_max, Nx = (-6, 6, 200)\n",
    "x_axis = list(np.linspace(x_min, x_max, Nx))\n",
    "\n",
    "t0, tf, N_frames = (0, 2*np.pi, 100)\n",
    "\n",
    "data = [], []\n",
    "myplot, = ax.plot(*data, color='green')\n",
    "\n",
    "time_template = 'time = %.1fs'\n",
    "text_location = (0.37, 0.95)\n",
    "time_text = ax.text(*text_location, '', transform=ax.transAxes)\n",
    "\n",
    "\n",
    "def init():\n",
    "    ax.grid(True)\n",
    "    ax.set_title(\"Bohmian PES\", fontsize=15)\n",
    "    ax.set_xlabel(\"x\")\n",
    "    ax.set_ylabel(\"$U_{classic}(x, t) + U_{quantum}(x, t)$\")\n",
    "    ax.set_xlim(-3,3)\n",
    "    ax.set_ylim(-5,5)\n",
    "    \n",
    "    return myplot,\n",
    "    \n",
    "def update(i):\n",
    "    # frame time\n",
    "    t0 = i*(tf-t0)/float(N_frames)\n",
    "    \n",
    "    # clear previous data\n",
    "    data = [], []\n",
    "    \n",
    "    # update curve data\n",
    "    y_axis = [U_evaluated(t0, x0) for x0 in x_axis]\n",
    "    data = x_axis, y_axis\n",
    "    myplot.set_data(*data)\n",
    "    time_text.set_text(time_template % t0)\n",
    "    \n",
    "    return myplot, time_text,\n",
    "\n",
    "anim = animation.FuncAnimation(fig, update, N_frames, interval=50, init_func=init, blit=True)\n",
    "# anim.save('animation.gif', writer='imagemagick', fps=50, dpi=200)\n",
    "plt.show()"
   ]
  },
  {
   "cell_type": "code",
   "execution_count": 383,
   "metadata": {
    "ExecuteTime": {
     "end_time": "2021-08-05T08:41:23.927498Z",
     "start_time": "2021-08-05T08:41:23.923588Z"
    }
   },
   "outputs": [],
   "source": [
    "i = 1"
   ]
  },
  {
   "cell_type": "code",
   "execution_count": 384,
   "metadata": {
    "ExecuteTime": {
     "end_time": "2021-08-05T08:41:24.924514Z",
     "start_time": "2021-08-05T08:41:24.920190Z"
    }
   },
   "outputs": [],
   "source": [
    "t0 = i*(tf-t0)/float(N_frames)"
   ]
  },
  {
   "cell_type": "code",
   "execution_count": 416,
   "metadata": {
    "ExecuteTime": {
     "end_time": "2021-08-05T08:48:07.134287Z",
     "start_time": "2021-08-05T08:48:06.716296Z"
    }
   },
   "outputs": [],
   "source": [
    "y_axis = [U_evaluated(t0, x0) for x0 in x_axis]\n",
    "data = list(x_axis), y_axis"
   ]
  },
  {
   "cell_type": "code",
   "execution_count": 424,
   "metadata": {
    "ExecuteTime": {
     "end_time": "2021-08-05T08:50:33.888747Z",
     "start_time": "2021-08-05T08:50:33.865137Z"
    }
   },
   "outputs": [
    {
     "data": {
      "application/javascript": [
       "/* Put everything inside the global mpl namespace */\n",
       "/* global mpl */\n",
       "window.mpl = {};\n",
       "\n",
       "mpl.get_websocket_type = function () {\n",
       "    if (typeof WebSocket !== 'undefined') {\n",
       "        return WebSocket;\n",
       "    } else if (typeof MozWebSocket !== 'undefined') {\n",
       "        return MozWebSocket;\n",
       "    } else {\n",
       "        alert(\n",
       "            'Your browser does not have WebSocket support. ' +\n",
       "                'Please try Chrome, Safari or Firefox ≥ 6. ' +\n",
       "                'Firefox 4 and 5 are also supported but you ' +\n",
       "                'have to enable WebSockets in about:config.'\n",
       "        );\n",
       "    }\n",
       "};\n",
       "\n",
       "mpl.figure = function (figure_id, websocket, ondownload, parent_element) {\n",
       "    this.id = figure_id;\n",
       "\n",
       "    this.ws = websocket;\n",
       "\n",
       "    this.supports_binary = this.ws.binaryType !== undefined;\n",
       "\n",
       "    if (!this.supports_binary) {\n",
       "        var warnings = document.getElementById('mpl-warnings');\n",
       "        if (warnings) {\n",
       "            warnings.style.display = 'block';\n",
       "            warnings.textContent =\n",
       "                'This browser does not support binary websocket messages. ' +\n",
       "                'Performance may be slow.';\n",
       "        }\n",
       "    }\n",
       "\n",
       "    this.imageObj = new Image();\n",
       "\n",
       "    this.context = undefined;\n",
       "    this.message = undefined;\n",
       "    this.canvas = undefined;\n",
       "    this.rubberband_canvas = undefined;\n",
       "    this.rubberband_context = undefined;\n",
       "    this.format_dropdown = undefined;\n",
       "\n",
       "    this.image_mode = 'full';\n",
       "\n",
       "    this.root = document.createElement('div');\n",
       "    this.root.setAttribute('style', 'display: inline-block');\n",
       "    this._root_extra_style(this.root);\n",
       "\n",
       "    parent_element.appendChild(this.root);\n",
       "\n",
       "    this._init_header(this);\n",
       "    this._init_canvas(this);\n",
       "    this._init_toolbar(this);\n",
       "\n",
       "    var fig = this;\n",
       "\n",
       "    this.waiting = false;\n",
       "\n",
       "    this.ws.onopen = function () {\n",
       "        fig.send_message('supports_binary', { value: fig.supports_binary });\n",
       "        fig.send_message('send_image_mode', {});\n",
       "        if (fig.ratio !== 1) {\n",
       "            fig.send_message('set_dpi_ratio', { dpi_ratio: fig.ratio });\n",
       "        }\n",
       "        fig.send_message('refresh', {});\n",
       "    };\n",
       "\n",
       "    this.imageObj.onload = function () {\n",
       "        if (fig.image_mode === 'full') {\n",
       "            // Full images could contain transparency (where diff images\n",
       "            // almost always do), so we need to clear the canvas so that\n",
       "            // there is no ghosting.\n",
       "            fig.context.clearRect(0, 0, fig.canvas.width, fig.canvas.height);\n",
       "        }\n",
       "        fig.context.drawImage(fig.imageObj, 0, 0);\n",
       "    };\n",
       "\n",
       "    this.imageObj.onunload = function () {\n",
       "        fig.ws.close();\n",
       "    };\n",
       "\n",
       "    this.ws.onmessage = this._make_on_message_function(this);\n",
       "\n",
       "    this.ondownload = ondownload;\n",
       "};\n",
       "\n",
       "mpl.figure.prototype._init_header = function () {\n",
       "    var titlebar = document.createElement('div');\n",
       "    titlebar.classList =\n",
       "        'ui-dialog-titlebar ui-widget-header ui-corner-all ui-helper-clearfix';\n",
       "    var titletext = document.createElement('div');\n",
       "    titletext.classList = 'ui-dialog-title';\n",
       "    titletext.setAttribute(\n",
       "        'style',\n",
       "        'width: 100%; text-align: center; padding: 3px;'\n",
       "    );\n",
       "    titlebar.appendChild(titletext);\n",
       "    this.root.appendChild(titlebar);\n",
       "    this.header = titletext;\n",
       "};\n",
       "\n",
       "mpl.figure.prototype._canvas_extra_style = function (_canvas_div) {};\n",
       "\n",
       "mpl.figure.prototype._root_extra_style = function (_canvas_div) {};\n",
       "\n",
       "mpl.figure.prototype._init_canvas = function () {\n",
       "    var fig = this;\n",
       "\n",
       "    var canvas_div = (this.canvas_div = document.createElement('div'));\n",
       "    canvas_div.setAttribute(\n",
       "        'style',\n",
       "        'border: 1px solid #ddd;' +\n",
       "            'box-sizing: content-box;' +\n",
       "            'clear: both;' +\n",
       "            'min-height: 1px;' +\n",
       "            'min-width: 1px;' +\n",
       "            'outline: 0;' +\n",
       "            'overflow: hidden;' +\n",
       "            'position: relative;' +\n",
       "            'resize: both;'\n",
       "    );\n",
       "\n",
       "    function on_keyboard_event_closure(name) {\n",
       "        return function (event) {\n",
       "            return fig.key_event(event, name);\n",
       "        };\n",
       "    }\n",
       "\n",
       "    canvas_div.addEventListener(\n",
       "        'keydown',\n",
       "        on_keyboard_event_closure('key_press')\n",
       "    );\n",
       "    canvas_div.addEventListener(\n",
       "        'keyup',\n",
       "        on_keyboard_event_closure('key_release')\n",
       "    );\n",
       "\n",
       "    this._canvas_extra_style(canvas_div);\n",
       "    this.root.appendChild(canvas_div);\n",
       "\n",
       "    var canvas = (this.canvas = document.createElement('canvas'));\n",
       "    canvas.classList.add('mpl-canvas');\n",
       "    canvas.setAttribute('style', 'box-sizing: content-box;');\n",
       "\n",
       "    this.context = canvas.getContext('2d');\n",
       "\n",
       "    var backingStore =\n",
       "        this.context.backingStorePixelRatio ||\n",
       "        this.context.webkitBackingStorePixelRatio ||\n",
       "        this.context.mozBackingStorePixelRatio ||\n",
       "        this.context.msBackingStorePixelRatio ||\n",
       "        this.context.oBackingStorePixelRatio ||\n",
       "        this.context.backingStorePixelRatio ||\n",
       "        1;\n",
       "\n",
       "    this.ratio = (window.devicePixelRatio || 1) / backingStore;\n",
       "\n",
       "    var rubberband_canvas = (this.rubberband_canvas = document.createElement(\n",
       "        'canvas'\n",
       "    ));\n",
       "    rubberband_canvas.setAttribute(\n",
       "        'style',\n",
       "        'box-sizing: content-box; position: absolute; left: 0; top: 0; z-index: 1;'\n",
       "    );\n",
       "\n",
       "    // Apply a ponyfill if ResizeObserver is not implemented by browser.\n",
       "    if (this.ResizeObserver === undefined) {\n",
       "        if (window.ResizeObserver !== undefined) {\n",
       "            this.ResizeObserver = window.ResizeObserver;\n",
       "        } else {\n",
       "            var obs = _JSXTOOLS_RESIZE_OBSERVER({});\n",
       "            this.ResizeObserver = obs.ResizeObserver;\n",
       "        }\n",
       "    }\n",
       "\n",
       "    this.resizeObserverInstance = new this.ResizeObserver(function (entries) {\n",
       "        var nentries = entries.length;\n",
       "        for (var i = 0; i < nentries; i++) {\n",
       "            var entry = entries[i];\n",
       "            var width, height;\n",
       "            if (entry.contentBoxSize) {\n",
       "                if (entry.contentBoxSize instanceof Array) {\n",
       "                    // Chrome 84 implements new version of spec.\n",
       "                    width = entry.contentBoxSize[0].inlineSize;\n",
       "                    height = entry.contentBoxSize[0].blockSize;\n",
       "                } else {\n",
       "                    // Firefox implements old version of spec.\n",
       "                    width = entry.contentBoxSize.inlineSize;\n",
       "                    height = entry.contentBoxSize.blockSize;\n",
       "                }\n",
       "            } else {\n",
       "                // Chrome <84 implements even older version of spec.\n",
       "                width = entry.contentRect.width;\n",
       "                height = entry.contentRect.height;\n",
       "            }\n",
       "\n",
       "            // Keep the size of the canvas and rubber band canvas in sync with\n",
       "            // the canvas container.\n",
       "            if (entry.devicePixelContentBoxSize) {\n",
       "                // Chrome 84 implements new version of spec.\n",
       "                canvas.setAttribute(\n",
       "                    'width',\n",
       "                    entry.devicePixelContentBoxSize[0].inlineSize\n",
       "                );\n",
       "                canvas.setAttribute(\n",
       "                    'height',\n",
       "                    entry.devicePixelContentBoxSize[0].blockSize\n",
       "                );\n",
       "            } else {\n",
       "                canvas.setAttribute('width', width * fig.ratio);\n",
       "                canvas.setAttribute('height', height * fig.ratio);\n",
       "            }\n",
       "            canvas.setAttribute(\n",
       "                'style',\n",
       "                'width: ' + width + 'px; height: ' + height + 'px;'\n",
       "            );\n",
       "\n",
       "            rubberband_canvas.setAttribute('width', width);\n",
       "            rubberband_canvas.setAttribute('height', height);\n",
       "\n",
       "            // And update the size in Python. We ignore the initial 0/0 size\n",
       "            // that occurs as the element is placed into the DOM, which should\n",
       "            // otherwise not happen due to the minimum size styling.\n",
       "            if (fig.ws.readyState == 1 && width != 0 && height != 0) {\n",
       "                fig.request_resize(width, height);\n",
       "            }\n",
       "        }\n",
       "    });\n",
       "    this.resizeObserverInstance.observe(canvas_div);\n",
       "\n",
       "    function on_mouse_event_closure(name) {\n",
       "        return function (event) {\n",
       "            return fig.mouse_event(event, name);\n",
       "        };\n",
       "    }\n",
       "\n",
       "    rubberband_canvas.addEventListener(\n",
       "        'mousedown',\n",
       "        on_mouse_event_closure('button_press')\n",
       "    );\n",
       "    rubberband_canvas.addEventListener(\n",
       "        'mouseup',\n",
       "        on_mouse_event_closure('button_release')\n",
       "    );\n",
       "    // Throttle sequential mouse events to 1 every 20ms.\n",
       "    rubberband_canvas.addEventListener(\n",
       "        'mousemove',\n",
       "        on_mouse_event_closure('motion_notify')\n",
       "    );\n",
       "\n",
       "    rubberband_canvas.addEventListener(\n",
       "        'mouseenter',\n",
       "        on_mouse_event_closure('figure_enter')\n",
       "    );\n",
       "    rubberband_canvas.addEventListener(\n",
       "        'mouseleave',\n",
       "        on_mouse_event_closure('figure_leave')\n",
       "    );\n",
       "\n",
       "    canvas_div.addEventListener('wheel', function (event) {\n",
       "        if (event.deltaY < 0) {\n",
       "            event.step = 1;\n",
       "        } else {\n",
       "            event.step = -1;\n",
       "        }\n",
       "        on_mouse_event_closure('scroll')(event);\n",
       "    });\n",
       "\n",
       "    canvas_div.appendChild(canvas);\n",
       "    canvas_div.appendChild(rubberband_canvas);\n",
       "\n",
       "    this.rubberband_context = rubberband_canvas.getContext('2d');\n",
       "    this.rubberband_context.strokeStyle = '#000000';\n",
       "\n",
       "    this._resize_canvas = function (width, height, forward) {\n",
       "        if (forward) {\n",
       "            canvas_div.style.width = width + 'px';\n",
       "            canvas_div.style.height = height + 'px';\n",
       "        }\n",
       "    };\n",
       "\n",
       "    // Disable right mouse context menu.\n",
       "    this.rubberband_canvas.addEventListener('contextmenu', function (_e) {\n",
       "        event.preventDefault();\n",
       "        return false;\n",
       "    });\n",
       "\n",
       "    function set_focus() {\n",
       "        canvas.focus();\n",
       "        canvas_div.focus();\n",
       "    }\n",
       "\n",
       "    window.setTimeout(set_focus, 100);\n",
       "};\n",
       "\n",
       "mpl.figure.prototype._init_toolbar = function () {\n",
       "    var fig = this;\n",
       "\n",
       "    var toolbar = document.createElement('div');\n",
       "    toolbar.classList = 'mpl-toolbar';\n",
       "    this.root.appendChild(toolbar);\n",
       "\n",
       "    function on_click_closure(name) {\n",
       "        return function (_event) {\n",
       "            return fig.toolbar_button_onclick(name);\n",
       "        };\n",
       "    }\n",
       "\n",
       "    function on_mouseover_closure(tooltip) {\n",
       "        return function (event) {\n",
       "            if (!event.currentTarget.disabled) {\n",
       "                return fig.toolbar_button_onmouseover(tooltip);\n",
       "            }\n",
       "        };\n",
       "    }\n",
       "\n",
       "    fig.buttons = {};\n",
       "    var buttonGroup = document.createElement('div');\n",
       "    buttonGroup.classList = 'mpl-button-group';\n",
       "    for (var toolbar_ind in mpl.toolbar_items) {\n",
       "        var name = mpl.toolbar_items[toolbar_ind][0];\n",
       "        var tooltip = mpl.toolbar_items[toolbar_ind][1];\n",
       "        var image = mpl.toolbar_items[toolbar_ind][2];\n",
       "        var method_name = mpl.toolbar_items[toolbar_ind][3];\n",
       "\n",
       "        if (!name) {\n",
       "            /* Instead of a spacer, we start a new button group. */\n",
       "            if (buttonGroup.hasChildNodes()) {\n",
       "                toolbar.appendChild(buttonGroup);\n",
       "            }\n",
       "            buttonGroup = document.createElement('div');\n",
       "            buttonGroup.classList = 'mpl-button-group';\n",
       "            continue;\n",
       "        }\n",
       "\n",
       "        var button = (fig.buttons[name] = document.createElement('button'));\n",
       "        button.classList = 'mpl-widget';\n",
       "        button.setAttribute('role', 'button');\n",
       "        button.setAttribute('aria-disabled', 'false');\n",
       "        button.addEventListener('click', on_click_closure(method_name));\n",
       "        button.addEventListener('mouseover', on_mouseover_closure(tooltip));\n",
       "\n",
       "        var icon_img = document.createElement('img');\n",
       "        icon_img.src = '_images/' + image + '.png';\n",
       "        icon_img.srcset = '_images/' + image + '_large.png 2x';\n",
       "        icon_img.alt = tooltip;\n",
       "        button.appendChild(icon_img);\n",
       "\n",
       "        buttonGroup.appendChild(button);\n",
       "    }\n",
       "\n",
       "    if (buttonGroup.hasChildNodes()) {\n",
       "        toolbar.appendChild(buttonGroup);\n",
       "    }\n",
       "\n",
       "    var fmt_picker = document.createElement('select');\n",
       "    fmt_picker.classList = 'mpl-widget';\n",
       "    toolbar.appendChild(fmt_picker);\n",
       "    this.format_dropdown = fmt_picker;\n",
       "\n",
       "    for (var ind in mpl.extensions) {\n",
       "        var fmt = mpl.extensions[ind];\n",
       "        var option = document.createElement('option');\n",
       "        option.selected = fmt === mpl.default_extension;\n",
       "        option.innerHTML = fmt;\n",
       "        fmt_picker.appendChild(option);\n",
       "    }\n",
       "\n",
       "    var status_bar = document.createElement('span');\n",
       "    status_bar.classList = 'mpl-message';\n",
       "    toolbar.appendChild(status_bar);\n",
       "    this.message = status_bar;\n",
       "};\n",
       "\n",
       "mpl.figure.prototype.request_resize = function (x_pixels, y_pixels) {\n",
       "    // Request matplotlib to resize the figure. Matplotlib will then trigger a resize in the client,\n",
       "    // which will in turn request a refresh of the image.\n",
       "    this.send_message('resize', { width: x_pixels, height: y_pixels });\n",
       "};\n",
       "\n",
       "mpl.figure.prototype.send_message = function (type, properties) {\n",
       "    properties['type'] = type;\n",
       "    properties['figure_id'] = this.id;\n",
       "    this.ws.send(JSON.stringify(properties));\n",
       "};\n",
       "\n",
       "mpl.figure.prototype.send_draw_message = function () {\n",
       "    if (!this.waiting) {\n",
       "        this.waiting = true;\n",
       "        this.ws.send(JSON.stringify({ type: 'draw', figure_id: this.id }));\n",
       "    }\n",
       "};\n",
       "\n",
       "mpl.figure.prototype.handle_save = function (fig, _msg) {\n",
       "    var format_dropdown = fig.format_dropdown;\n",
       "    var format = format_dropdown.options[format_dropdown.selectedIndex].value;\n",
       "    fig.ondownload(fig, format);\n",
       "};\n",
       "\n",
       "mpl.figure.prototype.handle_resize = function (fig, msg) {\n",
       "    var size = msg['size'];\n",
       "    if (size[0] !== fig.canvas.width || size[1] !== fig.canvas.height) {\n",
       "        fig._resize_canvas(size[0], size[1], msg['forward']);\n",
       "        fig.send_message('refresh', {});\n",
       "    }\n",
       "};\n",
       "\n",
       "mpl.figure.prototype.handle_rubberband = function (fig, msg) {\n",
       "    var x0 = msg['x0'] / fig.ratio;\n",
       "    var y0 = (fig.canvas.height - msg['y0']) / fig.ratio;\n",
       "    var x1 = msg['x1'] / fig.ratio;\n",
       "    var y1 = (fig.canvas.height - msg['y1']) / fig.ratio;\n",
       "    x0 = Math.floor(x0) + 0.5;\n",
       "    y0 = Math.floor(y0) + 0.5;\n",
       "    x1 = Math.floor(x1) + 0.5;\n",
       "    y1 = Math.floor(y1) + 0.5;\n",
       "    var min_x = Math.min(x0, x1);\n",
       "    var min_y = Math.min(y0, y1);\n",
       "    var width = Math.abs(x1 - x0);\n",
       "    var height = Math.abs(y1 - y0);\n",
       "\n",
       "    fig.rubberband_context.clearRect(\n",
       "        0,\n",
       "        0,\n",
       "        fig.canvas.width / fig.ratio,\n",
       "        fig.canvas.height / fig.ratio\n",
       "    );\n",
       "\n",
       "    fig.rubberband_context.strokeRect(min_x, min_y, width, height);\n",
       "};\n",
       "\n",
       "mpl.figure.prototype.handle_figure_label = function (fig, msg) {\n",
       "    // Updates the figure title.\n",
       "    fig.header.textContent = msg['label'];\n",
       "};\n",
       "\n",
       "mpl.figure.prototype.handle_cursor = function (fig, msg) {\n",
       "    var cursor = msg['cursor'];\n",
       "    switch (cursor) {\n",
       "        case 0:\n",
       "            cursor = 'pointer';\n",
       "            break;\n",
       "        case 1:\n",
       "            cursor = 'default';\n",
       "            break;\n",
       "        case 2:\n",
       "            cursor = 'crosshair';\n",
       "            break;\n",
       "        case 3:\n",
       "            cursor = 'move';\n",
       "            break;\n",
       "    }\n",
       "    fig.rubberband_canvas.style.cursor = cursor;\n",
       "};\n",
       "\n",
       "mpl.figure.prototype.handle_message = function (fig, msg) {\n",
       "    fig.message.textContent = msg['message'];\n",
       "};\n",
       "\n",
       "mpl.figure.prototype.handle_draw = function (fig, _msg) {\n",
       "    // Request the server to send over a new figure.\n",
       "    fig.send_draw_message();\n",
       "};\n",
       "\n",
       "mpl.figure.prototype.handle_image_mode = function (fig, msg) {\n",
       "    fig.image_mode = msg['mode'];\n",
       "};\n",
       "\n",
       "mpl.figure.prototype.handle_history_buttons = function (fig, msg) {\n",
       "    for (var key in msg) {\n",
       "        if (!(key in fig.buttons)) {\n",
       "            continue;\n",
       "        }\n",
       "        fig.buttons[key].disabled = !msg[key];\n",
       "        fig.buttons[key].setAttribute('aria-disabled', !msg[key]);\n",
       "    }\n",
       "};\n",
       "\n",
       "mpl.figure.prototype.handle_navigate_mode = function (fig, msg) {\n",
       "    if (msg['mode'] === 'PAN') {\n",
       "        fig.buttons['Pan'].classList.add('active');\n",
       "        fig.buttons['Zoom'].classList.remove('active');\n",
       "    } else if (msg['mode'] === 'ZOOM') {\n",
       "        fig.buttons['Pan'].classList.remove('active');\n",
       "        fig.buttons['Zoom'].classList.add('active');\n",
       "    } else {\n",
       "        fig.buttons['Pan'].classList.remove('active');\n",
       "        fig.buttons['Zoom'].classList.remove('active');\n",
       "    }\n",
       "};\n",
       "\n",
       "mpl.figure.prototype.updated_canvas_event = function () {\n",
       "    // Called whenever the canvas gets updated.\n",
       "    this.send_message('ack', {});\n",
       "};\n",
       "\n",
       "// A function to construct a web socket function for onmessage handling.\n",
       "// Called in the figure constructor.\n",
       "mpl.figure.prototype._make_on_message_function = function (fig) {\n",
       "    return function socket_on_message(evt) {\n",
       "        if (evt.data instanceof Blob) {\n",
       "            /* FIXME: We get \"Resource interpreted as Image but\n",
       "             * transferred with MIME type text/plain:\" errors on\n",
       "             * Chrome.  But how to set the MIME type?  It doesn't seem\n",
       "             * to be part of the websocket stream */\n",
       "            evt.data.type = 'image/png';\n",
       "\n",
       "            /* Free the memory for the previous frames */\n",
       "            if (fig.imageObj.src) {\n",
       "                (window.URL || window.webkitURL).revokeObjectURL(\n",
       "                    fig.imageObj.src\n",
       "                );\n",
       "            }\n",
       "\n",
       "            fig.imageObj.src = (window.URL || window.webkitURL).createObjectURL(\n",
       "                evt.data\n",
       "            );\n",
       "            fig.updated_canvas_event();\n",
       "            fig.waiting = false;\n",
       "            return;\n",
       "        } else if (\n",
       "            typeof evt.data === 'string' &&\n",
       "            evt.data.slice(0, 21) === 'data:image/png;base64'\n",
       "        ) {\n",
       "            fig.imageObj.src = evt.data;\n",
       "            fig.updated_canvas_event();\n",
       "            fig.waiting = false;\n",
       "            return;\n",
       "        }\n",
       "\n",
       "        var msg = JSON.parse(evt.data);\n",
       "        var msg_type = msg['type'];\n",
       "\n",
       "        // Call the  \"handle_{type}\" callback, which takes\n",
       "        // the figure and JSON message as its only arguments.\n",
       "        try {\n",
       "            var callback = fig['handle_' + msg_type];\n",
       "        } catch (e) {\n",
       "            console.log(\n",
       "                \"No handler for the '\" + msg_type + \"' message type: \",\n",
       "                msg\n",
       "            );\n",
       "            return;\n",
       "        }\n",
       "\n",
       "        if (callback) {\n",
       "            try {\n",
       "                // console.log(\"Handling '\" + msg_type + \"' message: \", msg);\n",
       "                callback(fig, msg);\n",
       "            } catch (e) {\n",
       "                console.log(\n",
       "                    \"Exception inside the 'handler_\" + msg_type + \"' callback:\",\n",
       "                    e,\n",
       "                    e.stack,\n",
       "                    msg\n",
       "                );\n",
       "            }\n",
       "        }\n",
       "    };\n",
       "};\n",
       "\n",
       "// from http://stackoverflow.com/questions/1114465/getting-mouse-location-in-canvas\n",
       "mpl.findpos = function (e) {\n",
       "    //this section is from http://www.quirksmode.org/js/events_properties.html\n",
       "    var targ;\n",
       "    if (!e) {\n",
       "        e = window.event;\n",
       "    }\n",
       "    if (e.target) {\n",
       "        targ = e.target;\n",
       "    } else if (e.srcElement) {\n",
       "        targ = e.srcElement;\n",
       "    }\n",
       "    if (targ.nodeType === 3) {\n",
       "        // defeat Safari bug\n",
       "        targ = targ.parentNode;\n",
       "    }\n",
       "\n",
       "    // pageX,Y are the mouse positions relative to the document\n",
       "    var boundingRect = targ.getBoundingClientRect();\n",
       "    var x = e.pageX - (boundingRect.left + document.body.scrollLeft);\n",
       "    var y = e.pageY - (boundingRect.top + document.body.scrollTop);\n",
       "\n",
       "    return { x: x, y: y };\n",
       "};\n",
       "\n",
       "/*\n",
       " * return a copy of an object with only non-object keys\n",
       " * we need this to avoid circular references\n",
       " * http://stackoverflow.com/a/24161582/3208463\n",
       " */\n",
       "function simpleKeys(original) {\n",
       "    return Object.keys(original).reduce(function (obj, key) {\n",
       "        if (typeof original[key] !== 'object') {\n",
       "            obj[key] = original[key];\n",
       "        }\n",
       "        return obj;\n",
       "    }, {});\n",
       "}\n",
       "\n",
       "mpl.figure.prototype.mouse_event = function (event, name) {\n",
       "    var canvas_pos = mpl.findpos(event);\n",
       "\n",
       "    if (name === 'button_press') {\n",
       "        this.canvas.focus();\n",
       "        this.canvas_div.focus();\n",
       "    }\n",
       "\n",
       "    var x = canvas_pos.x * this.ratio;\n",
       "    var y = canvas_pos.y * this.ratio;\n",
       "\n",
       "    this.send_message(name, {\n",
       "        x: x,\n",
       "        y: y,\n",
       "        button: event.button,\n",
       "        step: event.step,\n",
       "        guiEvent: simpleKeys(event),\n",
       "    });\n",
       "\n",
       "    /* This prevents the web browser from automatically changing to\n",
       "     * the text insertion cursor when the button is pressed.  We want\n",
       "     * to control all of the cursor setting manually through the\n",
       "     * 'cursor' event from matplotlib */\n",
       "    event.preventDefault();\n",
       "    return false;\n",
       "};\n",
       "\n",
       "mpl.figure.prototype._key_event_extra = function (_event, _name) {\n",
       "    // Handle any extra behaviour associated with a key event\n",
       "};\n",
       "\n",
       "mpl.figure.prototype.key_event = function (event, name) {\n",
       "    // Prevent repeat events\n",
       "    if (name === 'key_press') {\n",
       "        if (event.which === this._key) {\n",
       "            return;\n",
       "        } else {\n",
       "            this._key = event.which;\n",
       "        }\n",
       "    }\n",
       "    if (name === 'key_release') {\n",
       "        this._key = null;\n",
       "    }\n",
       "\n",
       "    var value = '';\n",
       "    if (event.ctrlKey && event.which !== 17) {\n",
       "        value += 'ctrl+';\n",
       "    }\n",
       "    if (event.altKey && event.which !== 18) {\n",
       "        value += 'alt+';\n",
       "    }\n",
       "    if (event.shiftKey && event.which !== 16) {\n",
       "        value += 'shift+';\n",
       "    }\n",
       "\n",
       "    value += 'k';\n",
       "    value += event.which.toString();\n",
       "\n",
       "    this._key_event_extra(event, name);\n",
       "\n",
       "    this.send_message(name, { key: value, guiEvent: simpleKeys(event) });\n",
       "    return false;\n",
       "};\n",
       "\n",
       "mpl.figure.prototype.toolbar_button_onclick = function (name) {\n",
       "    if (name === 'download') {\n",
       "        this.handle_save(this, null);\n",
       "    } else {\n",
       "        this.send_message('toolbar_button', { name: name });\n",
       "    }\n",
       "};\n",
       "\n",
       "mpl.figure.prototype.toolbar_button_onmouseover = function (tooltip) {\n",
       "    this.message.textContent = tooltip;\n",
       "};\n",
       "\n",
       "///////////////// REMAINING CONTENT GENERATED BY embed_js.py /////////////////\n",
       "// prettier-ignore\n",
       "var _JSXTOOLS_RESIZE_OBSERVER=function(A){var t,i=new WeakMap,n=new WeakMap,a=new WeakMap,r=new WeakMap,o=new Set;function s(e){if(!(this instanceof s))throw new TypeError(\"Constructor requires 'new' operator\");i.set(this,e)}function h(){throw new TypeError(\"Function is not a constructor\")}function c(e,t,i,n){e=0 in arguments?Number(arguments[0]):0,t=1 in arguments?Number(arguments[1]):0,i=2 in arguments?Number(arguments[2]):0,n=3 in arguments?Number(arguments[3]):0,this.right=(this.x=this.left=e)+(this.width=i),this.bottom=(this.y=this.top=t)+(this.height=n),Object.freeze(this)}function d(){t=requestAnimationFrame(d);var s=new WeakMap,p=new Set;o.forEach((function(t){r.get(t).forEach((function(i){var r=t instanceof window.SVGElement,o=a.get(t),d=r?0:parseFloat(o.paddingTop),f=r?0:parseFloat(o.paddingRight),l=r?0:parseFloat(o.paddingBottom),u=r?0:parseFloat(o.paddingLeft),g=r?0:parseFloat(o.borderTopWidth),m=r?0:parseFloat(o.borderRightWidth),w=r?0:parseFloat(o.borderBottomWidth),b=u+f,F=d+l,v=(r?0:parseFloat(o.borderLeftWidth))+m,W=g+w,y=r?0:t.offsetHeight-W-t.clientHeight,E=r?0:t.offsetWidth-v-t.clientWidth,R=b+v,z=F+W,M=r?t.width:parseFloat(o.width)-R-E,O=r?t.height:parseFloat(o.height)-z-y;if(n.has(t)){var k=n.get(t);if(k[0]===M&&k[1]===O)return}n.set(t,[M,O]);var S=Object.create(h.prototype);S.target=t,S.contentRect=new c(u,d,M,O),s.has(i)||(s.set(i,[]),p.add(i)),s.get(i).push(S)}))})),p.forEach((function(e){i.get(e).call(e,s.get(e),e)}))}return s.prototype.observe=function(i){if(i instanceof window.Element){r.has(i)||(r.set(i,new Set),o.add(i),a.set(i,window.getComputedStyle(i)));var n=r.get(i);n.has(this)||n.add(this),cancelAnimationFrame(t),t=requestAnimationFrame(d)}},s.prototype.unobserve=function(i){if(i instanceof window.Element&&r.has(i)){var n=r.get(i);n.has(this)&&(n.delete(this),n.size||(r.delete(i),o.delete(i))),n.size||r.delete(i),o.size||cancelAnimationFrame(t)}},A.DOMRectReadOnly=c,A.ResizeObserver=s,A.ResizeObserverEntry=h,A}; // eslint-disable-line\n",
       "mpl.toolbar_items = [[\"Home\", \"Reset original view\", \"fa fa-home icon-home\", \"home\"], [\"Back\", \"Back to previous view\", \"fa fa-arrow-left icon-arrow-left\", \"back\"], [\"Forward\", \"Forward to next view\", \"fa fa-arrow-right icon-arrow-right\", \"forward\"], [\"\", \"\", \"\", \"\"], [\"Pan\", \"Left button pans, Right button zooms\\nx/y fixes axis, CTRL fixes aspect\", \"fa fa-arrows icon-move\", \"pan\"], [\"Zoom\", \"Zoom to rectangle\\nx/y fixes axis, CTRL fixes aspect\", \"fa fa-square-o icon-check-empty\", \"zoom\"], [\"\", \"\", \"\", \"\"], [\"Download\", \"Download plot\", \"fa fa-floppy-o icon-save\", \"download\"]];\n",
       "\n",
       "mpl.extensions = [\"eps\", \"jpeg\", \"pdf\", \"png\", \"ps\", \"raw\", \"svg\", \"tif\"];\n",
       "\n",
       "mpl.default_extension = \"png\";/* global mpl */\n",
       "\n",
       "var comm_websocket_adapter = function (comm) {\n",
       "    // Create a \"websocket\"-like object which calls the given IPython comm\n",
       "    // object with the appropriate methods. Currently this is a non binary\n",
       "    // socket, so there is still some room for performance tuning.\n",
       "    var ws = {};\n",
       "\n",
       "    ws.close = function () {\n",
       "        comm.close();\n",
       "    };\n",
       "    ws.send = function (m) {\n",
       "        //console.log('sending', m);\n",
       "        comm.send(m);\n",
       "    };\n",
       "    // Register the callback with on_msg.\n",
       "    comm.on_msg(function (msg) {\n",
       "        //console.log('receiving', msg['content']['data'], msg);\n",
       "        // Pass the mpl event to the overridden (by mpl) onmessage function.\n",
       "        ws.onmessage(msg['content']['data']);\n",
       "    });\n",
       "    return ws;\n",
       "};\n",
       "\n",
       "mpl.mpl_figure_comm = function (comm, msg) {\n",
       "    // This is the function which gets called when the mpl process\n",
       "    // starts-up an IPython Comm through the \"matplotlib\" channel.\n",
       "\n",
       "    var id = msg.content.data.id;\n",
       "    // Get hold of the div created by the display call when the Comm\n",
       "    // socket was opened in Python.\n",
       "    var element = document.getElementById(id);\n",
       "    var ws_proxy = comm_websocket_adapter(comm);\n",
       "\n",
       "    function ondownload(figure, _format) {\n",
       "        window.open(figure.canvas.toDataURL());\n",
       "    }\n",
       "\n",
       "    var fig = new mpl.figure(id, ws_proxy, ondownload, element);\n",
       "\n",
       "    // Call onopen now - mpl needs it, as it is assuming we've passed it a real\n",
       "    // web socket which is closed, not our websocket->open comm proxy.\n",
       "    ws_proxy.onopen();\n",
       "\n",
       "    fig.parent_element = element;\n",
       "    fig.cell_info = mpl.find_output_cell(\"<div id='\" + id + \"'></div>\");\n",
       "    if (!fig.cell_info) {\n",
       "        console.error('Failed to find cell for figure', id, fig);\n",
       "        return;\n",
       "    }\n",
       "    fig.cell_info[0].output_area.element.on(\n",
       "        'cleared',\n",
       "        { fig: fig },\n",
       "        fig._remove_fig_handler\n",
       "    );\n",
       "};\n",
       "\n",
       "mpl.figure.prototype.handle_close = function (fig, msg) {\n",
       "    var width = fig.canvas.width / fig.ratio;\n",
       "    fig.cell_info[0].output_area.element.off(\n",
       "        'cleared',\n",
       "        fig._remove_fig_handler\n",
       "    );\n",
       "    fig.resizeObserverInstance.unobserve(fig.canvas_div);\n",
       "\n",
       "    // Update the output cell to use the data from the current canvas.\n",
       "    fig.push_to_output();\n",
       "    var dataURL = fig.canvas.toDataURL();\n",
       "    // Re-enable the keyboard manager in IPython - without this line, in FF,\n",
       "    // the notebook keyboard shortcuts fail.\n",
       "    IPython.keyboard_manager.enable();\n",
       "    fig.parent_element.innerHTML =\n",
       "        '<img src=\"' + dataURL + '\" width=\"' + width + '\">';\n",
       "    fig.close_ws(fig, msg);\n",
       "};\n",
       "\n",
       "mpl.figure.prototype.close_ws = function (fig, msg) {\n",
       "    fig.send_message('closing', msg);\n",
       "    // fig.ws.close()\n",
       "};\n",
       "\n",
       "mpl.figure.prototype.push_to_output = function (_remove_interactive) {\n",
       "    // Turn the data on the canvas into data in the output cell.\n",
       "    var width = this.canvas.width / this.ratio;\n",
       "    var dataURL = this.canvas.toDataURL();\n",
       "    this.cell_info[1]['text/html'] =\n",
       "        '<img src=\"' + dataURL + '\" width=\"' + width + '\">';\n",
       "};\n",
       "\n",
       "mpl.figure.prototype.updated_canvas_event = function () {\n",
       "    // Tell IPython that the notebook contents must change.\n",
       "    IPython.notebook.set_dirty(true);\n",
       "    this.send_message('ack', {});\n",
       "    var fig = this;\n",
       "    // Wait a second, then push the new image to the DOM so\n",
       "    // that it is saved nicely (might be nice to debounce this).\n",
       "    setTimeout(function () {\n",
       "        fig.push_to_output();\n",
       "    }, 1000);\n",
       "};\n",
       "\n",
       "mpl.figure.prototype._init_toolbar = function () {\n",
       "    var fig = this;\n",
       "\n",
       "    var toolbar = document.createElement('div');\n",
       "    toolbar.classList = 'btn-toolbar';\n",
       "    this.root.appendChild(toolbar);\n",
       "\n",
       "    function on_click_closure(name) {\n",
       "        return function (_event) {\n",
       "            return fig.toolbar_button_onclick(name);\n",
       "        };\n",
       "    }\n",
       "\n",
       "    function on_mouseover_closure(tooltip) {\n",
       "        return function (event) {\n",
       "            if (!event.currentTarget.disabled) {\n",
       "                return fig.toolbar_button_onmouseover(tooltip);\n",
       "            }\n",
       "        };\n",
       "    }\n",
       "\n",
       "    fig.buttons = {};\n",
       "    var buttonGroup = document.createElement('div');\n",
       "    buttonGroup.classList = 'btn-group';\n",
       "    var button;\n",
       "    for (var toolbar_ind in mpl.toolbar_items) {\n",
       "        var name = mpl.toolbar_items[toolbar_ind][0];\n",
       "        var tooltip = mpl.toolbar_items[toolbar_ind][1];\n",
       "        var image = mpl.toolbar_items[toolbar_ind][2];\n",
       "        var method_name = mpl.toolbar_items[toolbar_ind][3];\n",
       "\n",
       "        if (!name) {\n",
       "            /* Instead of a spacer, we start a new button group. */\n",
       "            if (buttonGroup.hasChildNodes()) {\n",
       "                toolbar.appendChild(buttonGroup);\n",
       "            }\n",
       "            buttonGroup = document.createElement('div');\n",
       "            buttonGroup.classList = 'btn-group';\n",
       "            continue;\n",
       "        }\n",
       "\n",
       "        button = fig.buttons[name] = document.createElement('button');\n",
       "        button.classList = 'btn btn-default';\n",
       "        button.href = '#';\n",
       "        button.title = name;\n",
       "        button.innerHTML = '<i class=\"fa ' + image + ' fa-lg\"></i>';\n",
       "        button.addEventListener('click', on_click_closure(method_name));\n",
       "        button.addEventListener('mouseover', on_mouseover_closure(tooltip));\n",
       "        buttonGroup.appendChild(button);\n",
       "    }\n",
       "\n",
       "    if (buttonGroup.hasChildNodes()) {\n",
       "        toolbar.appendChild(buttonGroup);\n",
       "    }\n",
       "\n",
       "    // Add the status bar.\n",
       "    var status_bar = document.createElement('span');\n",
       "    status_bar.classList = 'mpl-message pull-right';\n",
       "    toolbar.appendChild(status_bar);\n",
       "    this.message = status_bar;\n",
       "\n",
       "    // Add the close button to the window.\n",
       "    var buttongrp = document.createElement('div');\n",
       "    buttongrp.classList = 'btn-group inline pull-right';\n",
       "    button = document.createElement('button');\n",
       "    button.classList = 'btn btn-mini btn-primary';\n",
       "    button.href = '#';\n",
       "    button.title = 'Stop Interaction';\n",
       "    button.innerHTML = '<i class=\"fa fa-power-off icon-remove icon-large\"></i>';\n",
       "    button.addEventListener('click', function (_evt) {\n",
       "        fig.handle_close(fig, {});\n",
       "    });\n",
       "    button.addEventListener(\n",
       "        'mouseover',\n",
       "        on_mouseover_closure('Stop Interaction')\n",
       "    );\n",
       "    buttongrp.appendChild(button);\n",
       "    var titlebar = this.root.querySelector('.ui-dialog-titlebar');\n",
       "    titlebar.insertBefore(buttongrp, titlebar.firstChild);\n",
       "};\n",
       "\n",
       "mpl.figure.prototype._remove_fig_handler = function (event) {\n",
       "    var fig = event.data.fig;\n",
       "    if (event.target !== this) {\n",
       "        // Ignore bubbled events from children.\n",
       "        return;\n",
       "    }\n",
       "    fig.close_ws(fig, {});\n",
       "};\n",
       "\n",
       "mpl.figure.prototype._root_extra_style = function (el) {\n",
       "    el.style.boxSizing = 'content-box'; // override notebook setting of border-box.\n",
       "};\n",
       "\n",
       "mpl.figure.prototype._canvas_extra_style = function (el) {\n",
       "    // this is important to make the div 'focusable\n",
       "    el.setAttribute('tabindex', 0);\n",
       "    // reach out to IPython and tell the keyboard manager to turn it's self\n",
       "    // off when our div gets focus\n",
       "\n",
       "    // location in version 3\n",
       "    if (IPython.notebook.keyboard_manager) {\n",
       "        IPython.notebook.keyboard_manager.register_events(el);\n",
       "    } else {\n",
       "        // location in version 2\n",
       "        IPython.keyboard_manager.register_events(el);\n",
       "    }\n",
       "};\n",
       "\n",
       "mpl.figure.prototype._key_event_extra = function (event, _name) {\n",
       "    var manager = IPython.notebook.keyboard_manager;\n",
       "    if (!manager) {\n",
       "        manager = IPython.keyboard_manager;\n",
       "    }\n",
       "\n",
       "    // Check for shift+enter\n",
       "    if (event.shiftKey && event.which === 13) {\n",
       "        this.canvas_div.blur();\n",
       "        // select the cell after this one\n",
       "        var index = IPython.notebook.find_cell_index(this.cell_info[0]);\n",
       "        IPython.notebook.select(index + 1);\n",
       "    }\n",
       "};\n",
       "\n",
       "mpl.figure.prototype.handle_save = function (fig, _msg) {\n",
       "    fig.ondownload(fig, null);\n",
       "};\n",
       "\n",
       "mpl.find_output_cell = function (html_output) {\n",
       "    // Return the cell and output element which can be found *uniquely* in the notebook.\n",
       "    // Note - this is a bit hacky, but it is done because the \"notebook_saving.Notebook\"\n",
       "    // IPython event is triggered only after the cells have been serialised, which for\n",
       "    // our purposes (turning an active figure into a static one), is too late.\n",
       "    var cells = IPython.notebook.get_cells();\n",
       "    var ncells = cells.length;\n",
       "    for (var i = 0; i < ncells; i++) {\n",
       "        var cell = cells[i];\n",
       "        if (cell.cell_type === 'code') {\n",
       "            for (var j = 0; j < cell.output_area.outputs.length; j++) {\n",
       "                var data = cell.output_area.outputs[j];\n",
       "                if (data.data) {\n",
       "                    // IPython >= 3 moved mimebundle to data attribute of output\n",
       "                    data = data.data;\n",
       "                }\n",
       "                if (data['text/html'] === html_output) {\n",
       "                    return [cell, data, j];\n",
       "                }\n",
       "            }\n",
       "        }\n",
       "    }\n",
       "};\n",
       "\n",
       "// Register the function which deals with the matplotlib target/channel.\n",
       "// The kernel may be null if the page has been refreshed.\n",
       "if (IPython.notebook.kernel !== null) {\n",
       "    IPython.notebook.kernel.comm_manager.register_target(\n",
       "        'matplotlib',\n",
       "        mpl.mpl_figure_comm\n",
       "    );\n",
       "}\n"
      ],
      "text/plain": [
       "<IPython.core.display.Javascript object>"
      ]
     },
     "metadata": {},
     "output_type": "display_data"
    },
    {
     "data": {
      "text/html": [
       "<img src=\"data:image/png;base64,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\" width=\"640\">"
      ],
      "text/plain": [
       "<IPython.core.display.HTML object>"
      ]
     },
     "metadata": {},
     "output_type": "display_data"
    }
   ],
   "source": [
    "fig = plt.figure()\n",
    "myplot, = plt.plot([],[])\n",
    "myplot.set_data(x_axis, y_axis)\n",
    "plt.show()"
   ]
  },
  {
   "cell_type": "code",
   "execution_count": 437,
   "metadata": {
    "ExecuteTime": {
     "end_time": "2021-08-05T08:52:07.724706Z",
     "start_time": "2021-08-05T08:52:07.719059Z"
    }
   },
   "outputs": [
    {
     "data": {
      "text/plain": [
       "200"
      ]
     },
     "execution_count": 437,
     "metadata": {},
     "output_type": "execute_result"
    }
   ],
   "source": [
    "len(myplot.get_data()[1])"
   ]
  },
  {
   "cell_type": "markdown",
   "metadata": {},
   "source": [
    "## CASE 3"
   ]
  },
  {
   "cell_type": "markdown",
   "metadata": {},
   "source": [
    "### Wave function"
   ]
  },
  {
   "cell_type": "markdown",
   "metadata": {},
   "source": [
    "$\\Psi(x,y,t) = \\psi_{0,0} + c_2 \\psi_{1,1}$"
   ]
  },
  {
   "cell_type": "code",
   "execution_count": 9,
   "metadata": {
    "ExecuteTime": {
     "end_time": "2021-08-03T14:39:19.561068Z",
     "start_time": "2021-08-03T14:39:19.499839Z"
    }
   },
   "outputs": [
    {
     "data": {
      "text/latex": [
       "$\\displaystyle \\frac{2 c_{2} \\sqrt{\\omega_{1}} \\sqrt{\\omega_{2}} x y \\sqrt[4]{\\omega_{1} \\omega_{2}} e^{- i t \\left(\\frac{3 \\omega_{1}}{2} + \\frac{3 \\omega_{2}}{2}\\right)} e^{- \\frac{\\omega_{1} x^{2}}{2} - \\frac{\\omega_{2} y^{2}}{2}}}{\\sqrt{\\pi}} + \\frac{\\sqrt[4]{\\omega_{1} \\omega_{2}} e^{- i t \\left(\\frac{\\omega_{1}}{2} + \\frac{\\omega_{2}}{2}\\right)} e^{- \\frac{\\omega_{1} x^{2}}{2} - \\frac{\\omega_{2} y^{2}}{2}}}{\\sqrt{\\pi}}$"
      ],
      "text/plain": [
       "2*c2*sqrt(omega1)*sqrt(omega2)*x*y*(omega1*omega2)**(1/4)*exp(-I*t*(3*omega1/2 + 3*omega2/2))*exp(-omega1*x**2/2 - omega2*y**2/2)/sqrt(pi) + (omega1*omega2)**(1/4)*exp(-I*t*(omega1/2 + omega2/2))*exp(-omega1*x**2/2 - omega2*y**2/2)/sqrt(pi)"
      ]
     },
     "execution_count": 9,
     "metadata": {},
     "output_type": "execute_result"
    }
   ],
   "source": [
    "Psi = psi_n1n2(0,0) + c2*psi_n1n2(1,1)\n",
    "Psi"
   ]
  },
  {
   "cell_type": "markdown",
   "metadata": {},
   "source": [
    "Transform to vector "
   ]
  },
  {
   "cell_type": "code",
   "execution_count": 10,
   "metadata": {
    "ExecuteTime": {
     "end_time": "2021-08-03T14:39:26.781573Z",
     "start_time": "2021-08-03T14:39:26.764967Z"
    }
   },
   "outputs": [],
   "source": [
    "from sympy.vector import CoordSys3D, gradient\n",
    "r = CoordSys3D('r')"
   ]
  },
  {
   "cell_type": "code",
   "execution_count": 11,
   "metadata": {
    "ExecuteTime": {
     "end_time": "2021-08-03T14:39:28.988620Z",
     "start_time": "2021-08-03T14:39:28.964561Z"
    }
   },
   "outputs": [],
   "source": [
    "Psi = Psi.subs([(x, r.x), (y, r.y)])"
   ]
  },
  {
   "cell_type": "code",
   "execution_count": 12,
   "metadata": {
    "ExecuteTime": {
     "end_time": "2021-08-03T14:39:33.906357Z",
     "start_time": "2021-08-03T14:39:33.898062Z"
    }
   },
   "outputs": [
    {
     "data": {
      "text/latex": [
       "$\\displaystyle \\frac{2 \\mathbf{{x}_{r}} \\mathbf{{y}_{r}} c_{2} \\sqrt{\\omega_{1}} \\sqrt{\\omega_{2}} \\sqrt[4]{\\omega_{1} \\omega_{2}} e^{- i t \\left(\\frac{3 \\omega_{1}}{2} + \\frac{3 \\omega_{2}}{2}\\right)} e^{- \\frac{\\mathbf{{x}_{r}}^{2} \\omega_{1}}{2} - \\frac{\\mathbf{{y}_{r}}^{2} \\omega_{2}}{2}}}{\\sqrt{\\pi}} + \\frac{\\sqrt[4]{\\omega_{1} \\omega_{2}} e^{- i t \\left(\\frac{\\omega_{1}}{2} + \\frac{\\omega_{2}}{2}\\right)} e^{- \\frac{\\mathbf{{x}_{r}}^{2} \\omega_{1}}{2} - \\frac{\\mathbf{{y}_{r}}^{2} \\omega_{2}}{2}}}{\\sqrt{\\pi}}$"
      ],
      "text/plain": [
       "2*r.x*r.y*c2*sqrt(omega1)*sqrt(omega2)*(omega1*omega2)**(1/4)*exp(-I*t*(3*omega1/2 + 3*omega2/2))*exp(-r.x**2*omega1/2 - r.y**2*omega2/2)/sqrt(pi) + (omega1*omega2)**(1/4)*exp(-I*t*(omega1/2 + omega2/2))*exp(-r.x**2*omega1/2 - r.y**2*omega2/2)/sqrt(pi)"
      ]
     },
     "execution_count": 12,
     "metadata": {},
     "output_type": "execute_result"
    }
   ],
   "source": [
    "Psi"
   ]
  },
  {
   "cell_type": "markdown",
   "metadata": {},
   "source": [
    "### Compute vector field"
   ]
  },
  {
   "cell_type": "markdown",
   "metadata": {},
   "source": [
    "$\\nabla_{x,y} \\Psi = $"
   ]
  },
  {
   "cell_type": "code",
   "execution_count": 13,
   "metadata": {
    "ExecuteTime": {
     "end_time": "2021-08-03T14:39:39.677873Z",
     "start_time": "2021-08-03T14:39:39.632226Z"
    }
   },
   "outputs": [
    {
     "data": {
      "text/latex": [
       "$\\displaystyle (- \\frac{2 \\mathbf{{x}_{r}}^{2} \\mathbf{{y}_{r}} c_{2} \\omega_{1}^{\\frac{3}{2}} \\sqrt{\\omega_{2}} \\sqrt[4]{\\omega_{1} \\omega_{2}} e^{- i t \\left(\\frac{3 \\omega_{1}}{2} + \\frac{3 \\omega_{2}}{2}\\right)} e^{- \\frac{\\mathbf{{x}_{r}}^{2} \\omega_{1}}{2} - \\frac{\\mathbf{{y}_{r}}^{2} \\omega_{2}}{2}}}{\\sqrt{\\pi}} - \\frac{\\mathbf{{x}_{r}} \\omega_{1} \\sqrt[4]{\\omega_{1} \\omega_{2}} e^{- i t \\left(\\frac{\\omega_{1}}{2} + \\frac{\\omega_{2}}{2}\\right)} e^{- \\frac{\\mathbf{{x}_{r}}^{2} \\omega_{1}}{2} - \\frac{\\mathbf{{y}_{r}}^{2} \\omega_{2}}{2}}}{\\sqrt{\\pi}} + \\frac{2 \\mathbf{{y}_{r}} c_{2} \\sqrt{\\omega_{1}} \\sqrt{\\omega_{2}} \\sqrt[4]{\\omega_{1} \\omega_{2}} e^{- i t \\left(\\frac{3 \\omega_{1}}{2} + \\frac{3 \\omega_{2}}{2}\\right)} e^{- \\frac{\\mathbf{{x}_{r}}^{2} \\omega_{1}}{2} - \\frac{\\mathbf{{y}_{r}}^{2} \\omega_{2}}{2}}}{\\sqrt{\\pi}})\\mathbf{\\hat{i}_{r}} + (- \\frac{2 \\mathbf{{x}_{r}} \\mathbf{{y}_{r}}^{2} c_{2} \\sqrt{\\omega_{1}} \\omega_{2}^{\\frac{3}{2}} \\sqrt[4]{\\omega_{1} \\omega_{2}} e^{- i t \\left(\\frac{3 \\omega_{1}}{2} + \\frac{3 \\omega_{2}}{2}\\right)} e^{- \\frac{\\mathbf{{x}_{r}}^{2} \\omega_{1}}{2} - \\frac{\\mathbf{{y}_{r}}^{2} \\omega_{2}}{2}}}{\\sqrt{\\pi}} + \\frac{2 \\mathbf{{x}_{r}} c_{2} \\sqrt{\\omega_{1}} \\sqrt{\\omega_{2}} \\sqrt[4]{\\omega_{1} \\omega_{2}} e^{- i t \\left(\\frac{3 \\omega_{1}}{2} + \\frac{3 \\omega_{2}}{2}\\right)} e^{- \\frac{\\mathbf{{x}_{r}}^{2} \\omega_{1}}{2} - \\frac{\\mathbf{{y}_{r}}^{2} \\omega_{2}}{2}}}{\\sqrt{\\pi}} - \\frac{\\mathbf{{y}_{r}} \\omega_{2} \\sqrt[4]{\\omega_{1} \\omega_{2}} e^{- i t \\left(\\frac{\\omega_{1}}{2} + \\frac{\\omega_{2}}{2}\\right)} e^{- \\frac{\\mathbf{{x}_{r}}^{2} \\omega_{1}}{2} - \\frac{\\mathbf{{y}_{r}}^{2} \\omega_{2}}{2}}}{\\sqrt{\\pi}})\\mathbf{\\hat{j}_{r}}$"
      ],
      "text/plain": [
       "(-2*r.x**2*r.y*c2*omega1**(3/2)*sqrt(omega2)*(omega1*omega2)**(1/4)*exp(-I*t*(3*omega1/2 + 3*omega2/2))*exp(-r.x**2*omega1/2 - r.y**2*omega2/2)/sqrt(pi) - r.x*omega1*(omega1*omega2)**(1/4)*exp(-I*t*(omega1/2 + omega2/2))*exp(-r.x**2*omega1/2 - r.y**2*omega2/2)/sqrt(pi) + 2*r.y*c2*sqrt(omega1)*sqrt(omega2)*(omega1*omega2)**(1/4)*exp(-I*t*(3*omega1/2 + 3*omega2/2))*exp(-r.x**2*omega1/2 - r.y**2*omega2/2)/sqrt(pi))*r.i + (-2*r.x*r.y**2*c2*sqrt(omega1)*omega2**(3/2)*(omega1*omega2)**(1/4)*exp(-I*t*(3*omega1/2 + 3*omega2/2))*exp(-r.x**2*omega1/2 - r.y**2*omega2/2)/sqrt(pi) + 2*r.x*c2*sqrt(omega1)*sqrt(omega2)*(omega1*omega2)**(1/4)*exp(-I*t*(3*omega1/2 + 3*omega2/2))*exp(-r.x**2*omega1/2 - r.y**2*omega2/2)/sqrt(pi) - r.y*omega2*(omega1*omega2)**(1/4)*exp(-I*t*(omega1/2 + omega2/2))*exp(-r.x**2*omega1/2 - r.y**2*omega2/2)/sqrt(pi))*r.j"
      ]
     },
     "execution_count": 13,
     "metadata": {},
     "output_type": "execute_result"
    }
   ],
   "source": [
    "Del_Psi = gradient(Psi)\n",
    "Del_Psi"
   ]
  },
  {
   "cell_type": "markdown",
   "metadata": {},
   "source": [
    "$\\nabla_{x,y} \\Psi / \\Psi= $"
   ]
  },
  {
   "cell_type": "code",
   "execution_count": 14,
   "metadata": {
    "ExecuteTime": {
     "end_time": "2021-08-03T14:39:51.910770Z",
     "start_time": "2021-08-03T14:39:51.406786Z"
    }
   },
   "outputs": [
    {
     "data": {
      "text/latex": [
       "$\\displaystyle (\\frac{- 2 c_{2} \\omega_{1}^{\\frac{3}{2}} \\sqrt{\\omega_{2}} x^{2} y + 2 c_{2} \\sqrt{\\omega_{1}} \\sqrt{\\omega_{2}} y - \\omega_{1} x e^{i t \\left(\\omega_{1} + \\omega_{2}\\right)}}{2 c_{2} \\sqrt{\\omega_{1}} \\sqrt{\\omega_{2}} x y + e^{i t \\left(\\omega_{1} + \\omega_{2}\\right)}})\\mathbf{\\hat{i}_{r}} + (\\frac{- 2 c_{2} \\sqrt{\\omega_{1}} \\omega_{2}^{\\frac{3}{2}} x y^{2} + 2 c_{2} \\sqrt{\\omega_{1}} \\sqrt{\\omega_{2}} x - \\omega_{2} y e^{i t \\left(\\omega_{1} + \\omega_{2}\\right)}}{2 c_{2} \\sqrt{\\omega_{1}} \\sqrt{\\omega_{2}} x y + e^{i t \\left(\\omega_{1} + \\omega_{2}\\right)}})\\mathbf{\\hat{j}_{r}}$"
      ],
      "text/plain": [
       "((-2*c2*omega1**(3/2)*sqrt(omega2)*x**2*y + 2*c2*sqrt(omega1)*sqrt(omega2)*y - omega1*x*exp(I*t*(omega1 + omega2)))/(2*c2*sqrt(omega1)*sqrt(omega2)*x*y + exp(I*t*(omega1 + omega2))))*r.i + ((-2*c2*sqrt(omega1)*omega2**(3/2)*x*y**2 + 2*c2*sqrt(omega1)*sqrt(omega2)*x - omega2*y*exp(I*t*(omega1 + omega2)))/(2*c2*sqrt(omega1)*sqrt(omega2)*x*y + exp(I*t*(omega1 + omega2))))*r.j"
      ]
     },
     "execution_count": 14,
     "metadata": {},
     "output_type": "execute_result"
    }
   ],
   "source": [
    "expr = Del_Psi/Psi\n",
    "expr = expr.simplify()\n",
    "expr = expr.subs([(r.x, x), (r.y, y)])\n",
    "expr"
   ]
  },
  {
   "cell_type": "markdown",
   "metadata": {},
   "source": [
    "### Simplify vector field"
   ]
  },
  {
   "cell_type": "markdown",
   "metadata": {},
   "source": [
    "$\\partial_x \\Psi / \\Psi = $"
   ]
  },
  {
   "cell_type": "code",
   "execution_count": 15,
   "metadata": {
    "ExecuteTime": {
     "end_time": "2021-08-03T14:42:20.244950Z",
     "start_time": "2021-08-03T14:42:20.225029Z"
    }
   },
   "outputs": [
    {
     "data": {
      "text/latex": [
       "$\\displaystyle (\\frac{- 2 c_{2} \\omega_{1}^{\\frac{3}{2}} \\sqrt{\\omega_{2}} x^{2} y + 2 c_{2} \\sqrt{\\omega_{1}} \\sqrt{\\omega_{2}} y - \\omega_{1} x \\left(i \\sin{\\left(t \\left(\\omega_{1} + \\omega_{2}\\right) \\right)} + \\cos{\\left(t \\left(\\omega_{1} + \\omega_{2}\\right) \\right)}\\right)}{2 c_{2} \\sqrt{\\omega_{1}} \\sqrt{\\omega_{2}} x y + i \\sin{\\left(t \\left(\\omega_{1} + \\omega_{2}\\right) \\right)} + \\cos{\\left(t \\left(\\omega_{1} + \\omega_{2}\\right) \\right)}})\\mathbf{\\hat{i}_{r}}$"
      ],
      "text/plain": [
       "((-2*c2*omega1**(3/2)*sqrt(omega2)*x**2*y + 2*c2*sqrt(omega1)*sqrt(omega2)*y - omega1*x*(I*sin(t*(omega1 + omega2)) + cos(t*(omega1 + omega2))))/(2*c2*sqrt(omega1)*sqrt(omega2)*x*y + I*sin(t*(omega1 + omega2)) + cos(t*(omega1 + omega2))))*r.i"
      ]
     },
     "execution_count": 15,
     "metadata": {},
     "output_type": "execute_result"
    }
   ],
   "source": [
    "vx = expr.args[0]\n",
    "vx = vx.subs(sym.exp(sym.I*t*(omega1 + omega2)), sym.cos(t*(omega1 + omega2)) + sym.I*sym.sin(t*(omega1 + omega2)))\n",
    "vx"
   ]
  },
  {
   "cell_type": "code",
   "execution_count": 16,
   "metadata": {
    "ExecuteTime": {
     "end_time": "2021-08-03T14:43:21.265154Z",
     "start_time": "2021-08-03T14:43:21.259551Z"
    }
   },
   "outputs": [
    {
     "data": {
      "text/latex": [
       "$\\displaystyle - 2 c_{2} \\omega_{1}^{\\frac{3}{2}} \\sqrt{\\omega_{2}} x^{2} y + 2 c_{2} \\sqrt{\\omega_{1}} \\sqrt{\\omega_{2}} y - \\omega_{1} x \\left(i \\sin{\\left(t \\left(\\omega_{1} + \\omega_{2}\\right) \\right)} + \\cos{\\left(t \\left(\\omega_{1} + \\omega_{2}\\right) \\right)}\\right)$"
      ],
      "text/plain": [
       "-2*c2*omega1**(3/2)*sqrt(omega2)*x**2*y + 2*c2*sqrt(omega1)*sqrt(omega2)*y - omega1*x*(I*sin(t*(omega1 + omega2)) + cos(t*(omega1 + omega2)))"
      ]
     },
     "execution_count": 16,
     "metadata": {},
     "output_type": "execute_result"
    }
   ],
   "source": [
    "vx.args[1]"
   ]
  },
  {
   "cell_type": "code",
   "execution_count": 17,
   "metadata": {
    "ExecuteTime": {
     "end_time": "2021-08-03T14:43:25.043964Z",
     "start_time": "2021-08-03T14:43:25.038967Z"
    }
   },
   "outputs": [
    {
     "data": {
      "text/latex": [
       "$\\displaystyle \\frac{1}{2 c_{2} \\sqrt{\\omega_{1}} \\sqrt{\\omega_{2}} x y + i \\sin{\\left(t \\left(\\omega_{1} + \\omega_{2}\\right) \\right)} + \\cos{\\left(t \\left(\\omega_{1} + \\omega_{2}\\right) \\right)}}$"
      ],
      "text/plain": [
       "1/(2*c2*sqrt(omega1)*sqrt(omega2)*x*y + I*sin(t*(omega1 + omega2)) + cos(t*(omega1 + omega2)))"
      ]
     },
     "execution_count": 17,
     "metadata": {},
     "output_type": "execute_result"
    }
   ],
   "source": [
    "vx.args[0]"
   ]
  },
  {
   "cell_type": "markdown",
   "metadata": {},
   "source": [
    "$\\partial_y \\Psi / \\Psi = $"
   ]
  },
  {
   "cell_type": "code",
   "execution_count": 19,
   "metadata": {
    "ExecuteTime": {
     "end_time": "2021-08-03T14:45:59.896545Z",
     "start_time": "2021-08-03T14:45:59.884815Z"
    }
   },
   "outputs": [
    {
     "data": {
      "text/latex": [
       "$\\displaystyle (\\frac{- 2 c_{2} \\sqrt{\\omega_{1}} \\omega_{2}^{\\frac{3}{2}} x y^{2} + 2 c_{2} \\sqrt{\\omega_{1}} \\sqrt{\\omega_{2}} x - \\omega_{2} y \\left(i \\sin{\\left(t \\left(\\omega_{1} + \\omega_{2}\\right) \\right)} + \\cos{\\left(t \\left(\\omega_{1} + \\omega_{2}\\right) \\right)}\\right)}{2 c_{2} \\sqrt{\\omega_{1}} \\sqrt{\\omega_{2}} x y + i \\sin{\\left(t \\left(\\omega_{1} + \\omega_{2}\\right) \\right)} + \\cos{\\left(t \\left(\\omega_{1} + \\omega_{2}\\right) \\right)}})\\mathbf{\\hat{j}_{r}}$"
      ],
      "text/plain": [
       "((-2*c2*sqrt(omega1)*omega2**(3/2)*x*y**2 + 2*c2*sqrt(omega1)*sqrt(omega2)*x - omega2*y*(I*sin(t*(omega1 + omega2)) + cos(t*(omega1 + omega2))))/(2*c2*sqrt(omega1)*sqrt(omega2)*x*y + I*sin(t*(omega1 + omega2)) + cos(t*(omega1 + omega2))))*r.j"
      ]
     },
     "execution_count": 19,
     "metadata": {},
     "output_type": "execute_result"
    }
   ],
   "source": [
    "vy = expr.args[1]\n",
    "# employ Euler's formula\n",
    "vy = vy.subs(sym.exp(sym.I*t*(omega1 + omega2)), sym.cos(t*(omega1 + omega2)) + sym.I*sym.sin(t*(omega1 + omega2)))\n",
    "vy"
   ]
  },
  {
   "cell_type": "code",
   "execution_count": 20,
   "metadata": {
    "ExecuteTime": {
     "end_time": "2021-08-03T14:46:07.652922Z",
     "start_time": "2021-08-03T14:46:07.644149Z"
    }
   },
   "outputs": [
    {
     "data": {
      "text/latex": [
       "$\\displaystyle - 2 c_{2} \\sqrt{\\omega_{1}} \\omega_{2}^{\\frac{3}{2}} x y^{2} + 2 c_{2} \\sqrt{\\omega_{1}} \\sqrt{\\omega_{2}} x - \\omega_{2} y \\left(i \\sin{\\left(t \\left(\\omega_{1} + \\omega_{2}\\right) \\right)} + \\cos{\\left(t \\left(\\omega_{1} + \\omega_{2}\\right) \\right)}\\right)$"
      ],
      "text/plain": [
       "-2*c2*sqrt(omega1)*omega2**(3/2)*x*y**2 + 2*c2*sqrt(omega1)*sqrt(omega2)*x - omega2*y*(I*sin(t*(omega1 + omega2)) + cos(t*(omega1 + omega2)))"
      ]
     },
     "execution_count": 20,
     "metadata": {},
     "output_type": "execute_result"
    }
   ],
   "source": [
    "vy.args[1]"
   ]
  },
  {
   "cell_type": "code",
   "execution_count": 21,
   "metadata": {
    "ExecuteTime": {
     "end_time": "2021-08-03T14:46:11.698036Z",
     "start_time": "2021-08-03T14:46:11.680210Z"
    }
   },
   "outputs": [
    {
     "data": {
      "text/latex": [
       "$\\displaystyle \\frac{1}{2 c_{2} \\sqrt{\\omega_{1}} \\sqrt{\\omega_{2}} x y + i \\sin{\\left(t \\left(\\omega_{1} + \\omega_{2}\\right) \\right)} + \\cos{\\left(t \\left(\\omega_{1} + \\omega_{2}\\right) \\right)}}$"
      ],
      "text/plain": [
       "1/(2*c2*sqrt(omega1)*sqrt(omega2)*x*y + I*sin(t*(omega1 + omega2)) + cos(t*(omega1 + omega2)))"
      ]
     },
     "execution_count": 21,
     "metadata": {},
     "output_type": "execute_result"
    }
   ],
   "source": [
    "vy.args[0]"
   ]
  },
  {
   "cell_type": "markdown",
   "metadata": {},
   "source": [
    "### Vector field: final form"
   ]
  },
  {
   "cell_type": "code",
   "execution_count": null,
   "metadata": {},
   "outputs": [],
   "source": []
  },
  {
   "cell_type": "markdown",
   "metadata": {},
   "source": [
    "## CASE 4"
   ]
  },
  {
   "cell_type": "markdown",
   "metadata": {},
   "source": [
    "### Wave function"
   ]
  },
  {
   "cell_type": "markdown",
   "metadata": {},
   "source": [
    "$\\Psi(x,y,t) = \\psi_{0,0} + c_1 \\psi_{1,0} + c_2 \\psi_{1,1}$"
   ]
  },
  {
   "cell_type": "code",
   "execution_count": 9,
   "metadata": {
    "ExecuteTime": {
     "end_time": "2021-09-01T16:08:37.500668Z",
     "start_time": "2021-09-01T16:08:37.443614Z"
    }
   },
   "outputs": [
    {
     "data": {
      "text/latex": [
       "$\\displaystyle \\frac{\\sqrt{2} c_{1} \\sqrt{\\omega_{1}} x \\sqrt[4]{\\omega_{1} \\omega_{2}} e^{- i t \\left(\\frac{3 \\omega_{1}}{2} + \\frac{\\omega_{2}}{2}\\right)} e^{- \\frac{\\omega_{1} x^{2}}{2} - \\frac{\\omega_{2} y^{2}}{2}}}{\\sqrt{\\pi}} + \\frac{2 c_{2} \\sqrt{\\omega_{1}} \\sqrt{\\omega_{2}} x y \\sqrt[4]{\\omega_{1} \\omega_{2}} e^{- i t \\left(\\frac{3 \\omega_{1}}{2} + \\frac{3 \\omega_{2}}{2}\\right)} e^{- \\frac{\\omega_{1} x^{2}}{2} - \\frac{\\omega_{2} y^{2}}{2}}}{\\sqrt{\\pi}} + \\frac{\\sqrt[4]{\\omega_{1} \\omega_{2}} e^{- i t \\left(\\frac{\\omega_{1}}{2} + \\frac{\\omega_{2}}{2}\\right)} e^{- \\frac{\\omega_{1} x^{2}}{2} - \\frac{\\omega_{2} y^{2}}{2}}}{\\sqrt{\\pi}}$"
      ],
      "text/plain": [
       "sqrt(2)*c1*sqrt(omega1)*x*(omega1*omega2)**(1/4)*exp(-I*t*(3*omega1/2 + omega2/2))*exp(-omega1*x**2/2 - omega2*y**2/2)/sqrt(pi) + 2*c2*sqrt(omega1)*sqrt(omega2)*x*y*(omega1*omega2)**(1/4)*exp(-I*t*(3*omega1/2 + 3*omega2/2))*exp(-omega1*x**2/2 - omega2*y**2/2)/sqrt(pi) + (omega1*omega2)**(1/4)*exp(-I*t*(omega1/2 + omega2/2))*exp(-omega1*x**2/2 - omega2*y**2/2)/sqrt(pi)"
      ]
     },
     "execution_count": 9,
     "metadata": {},
     "output_type": "execute_result"
    }
   ],
   "source": [
    "Psi = psi_n1n2(0,0) + c1*psi_n1n2(1,0) + c2*psi_n1n2(1,1)\n",
    "Psi"
   ]
  },
  {
   "cell_type": "markdown",
   "metadata": {},
   "source": [
    "Transform to vector "
   ]
  },
  {
   "cell_type": "code",
   "execution_count": 10,
   "metadata": {
    "ExecuteTime": {
     "end_time": "2021-09-01T16:08:39.291824Z",
     "start_time": "2021-09-01T16:08:39.269687Z"
    }
   },
   "outputs": [],
   "source": [
    "from sympy.vector import CoordSys3D, gradient\n",
    "r = CoordSys3D('r')"
   ]
  },
  {
   "cell_type": "code",
   "execution_count": 11,
   "metadata": {
    "ExecuteTime": {
     "end_time": "2021-09-01T16:08:39.868552Z",
     "start_time": "2021-09-01T16:08:39.853827Z"
    }
   },
   "outputs": [],
   "source": [
    "Psi = Psi.subs([(x, r.x), (y, r.y)])"
   ]
  },
  {
   "cell_type": "code",
   "execution_count": 12,
   "metadata": {
    "ExecuteTime": {
     "end_time": "2021-09-01T16:08:40.457800Z",
     "start_time": "2021-09-01T16:08:40.447152Z"
    }
   },
   "outputs": [
    {
     "data": {
      "text/latex": [
       "$\\displaystyle \\frac{2 \\mathbf{{x}_{r}} \\mathbf{{y}_{r}} c_{2} \\sqrt{\\omega_{1}} \\sqrt{\\omega_{2}} \\sqrt[4]{\\omega_{1} \\omega_{2}} e^{- i t \\left(\\frac{3 \\omega_{1}}{2} + \\frac{3 \\omega_{2}}{2}\\right)} e^{- \\frac{\\mathbf{{x}_{r}}^{2} \\omega_{1}}{2} - \\frac{\\mathbf{{y}_{r}}^{2} \\omega_{2}}{2}}}{\\sqrt{\\pi}} + \\frac{\\sqrt{2} \\mathbf{{x}_{r}} c_{1} \\sqrt{\\omega_{1}} \\sqrt[4]{\\omega_{1} \\omega_{2}} e^{- i t \\left(\\frac{3 \\omega_{1}}{2} + \\frac{\\omega_{2}}{2}\\right)} e^{- \\frac{\\mathbf{{x}_{r}}^{2} \\omega_{1}}{2} - \\frac{\\mathbf{{y}_{r}}^{2} \\omega_{2}}{2}}}{\\sqrt{\\pi}} + \\frac{\\sqrt[4]{\\omega_{1} \\omega_{2}} e^{- i t \\left(\\frac{\\omega_{1}}{2} + \\frac{\\omega_{2}}{2}\\right)} e^{- \\frac{\\mathbf{{x}_{r}}^{2} \\omega_{1}}{2} - \\frac{\\mathbf{{y}_{r}}^{2} \\omega_{2}}{2}}}{\\sqrt{\\pi}}$"
      ],
      "text/plain": [
       "2*r.x*r.y*c2*sqrt(omega1)*sqrt(omega2)*(omega1*omega2)**(1/4)*exp(-I*t*(3*omega1/2 + 3*omega2/2))*exp(-r.x**2*omega1/2 - r.y**2*omega2/2)/sqrt(pi) + sqrt(2)*r.x*c1*sqrt(omega1)*(omega1*omega2)**(1/4)*exp(-I*t*(3*omega1/2 + omega2/2))*exp(-r.x**2*omega1/2 - r.y**2*omega2/2)/sqrt(pi) + (omega1*omega2)**(1/4)*exp(-I*t*(omega1/2 + omega2/2))*exp(-r.x**2*omega1/2 - r.y**2*omega2/2)/sqrt(pi)"
      ]
     },
     "execution_count": 12,
     "metadata": {},
     "output_type": "execute_result"
    }
   ],
   "source": [
    "Psi"
   ]
  },
  {
   "cell_type": "markdown",
   "metadata": {},
   "source": [
    "### Compute vector field"
   ]
  },
  {
   "cell_type": "markdown",
   "metadata": {},
   "source": [
    "$\\nabla_{x,y} \\Psi = $"
   ]
  },
  {
   "cell_type": "code",
   "execution_count": 13,
   "metadata": {
    "ExecuteTime": {
     "end_time": "2021-09-01T16:08:41.939680Z",
     "start_time": "2021-09-01T16:08:41.875442Z"
    }
   },
   "outputs": [
    {
     "data": {
      "text/latex": [
       "$\\displaystyle (- \\frac{2 \\mathbf{{x}_{r}}^{2} \\mathbf{{y}_{r}} c_{2} \\omega_{1}^{\\frac{3}{2}} \\sqrt{\\omega_{2}} \\sqrt[4]{\\omega_{1} \\omega_{2}} e^{- i t \\left(\\frac{3 \\omega_{1}}{2} + \\frac{3 \\omega_{2}}{2}\\right)} e^{- \\frac{\\mathbf{{x}_{r}}^{2} \\omega_{1}}{2} - \\frac{\\mathbf{{y}_{r}}^{2} \\omega_{2}}{2}}}{\\sqrt{\\pi}} - \\frac{\\sqrt{2} \\mathbf{{x}_{r}}^{2} c_{1} \\omega_{1}^{\\frac{3}{2}} \\sqrt[4]{\\omega_{1} \\omega_{2}} e^{- i t \\left(\\frac{3 \\omega_{1}}{2} + \\frac{\\omega_{2}}{2}\\right)} e^{- \\frac{\\mathbf{{x}_{r}}^{2} \\omega_{1}}{2} - \\frac{\\mathbf{{y}_{r}}^{2} \\omega_{2}}{2}}}{\\sqrt{\\pi}} - \\frac{\\mathbf{{x}_{r}} \\omega_{1} \\sqrt[4]{\\omega_{1} \\omega_{2}} e^{- i t \\left(\\frac{\\omega_{1}}{2} + \\frac{\\omega_{2}}{2}\\right)} e^{- \\frac{\\mathbf{{x}_{r}}^{2} \\omega_{1}}{2} - \\frac{\\mathbf{{y}_{r}}^{2} \\omega_{2}}{2}}}{\\sqrt{\\pi}} + \\frac{2 \\mathbf{{y}_{r}} c_{2} \\sqrt{\\omega_{1}} \\sqrt{\\omega_{2}} \\sqrt[4]{\\omega_{1} \\omega_{2}} e^{- i t \\left(\\frac{3 \\omega_{1}}{2} + \\frac{3 \\omega_{2}}{2}\\right)} e^{- \\frac{\\mathbf{{x}_{r}}^{2} \\omega_{1}}{2} - \\frac{\\mathbf{{y}_{r}}^{2} \\omega_{2}}{2}}}{\\sqrt{\\pi}} + \\frac{\\sqrt{2} c_{1} \\sqrt{\\omega_{1}} \\sqrt[4]{\\omega_{1} \\omega_{2}} e^{- i t \\left(\\frac{3 \\omega_{1}}{2} + \\frac{\\omega_{2}}{2}\\right)} e^{- \\frac{\\mathbf{{x}_{r}}^{2} \\omega_{1}}{2} - \\frac{\\mathbf{{y}_{r}}^{2} \\omega_{2}}{2}}}{\\sqrt{\\pi}})\\mathbf{\\hat{i}_{r}} + (- \\frac{2 \\mathbf{{x}_{r}} \\mathbf{{y}_{r}}^{2} c_{2} \\sqrt{\\omega_{1}} \\omega_{2}^{\\frac{3}{2}} \\sqrt[4]{\\omega_{1} \\omega_{2}} e^{- i t \\left(\\frac{3 \\omega_{1}}{2} + \\frac{3 \\omega_{2}}{2}\\right)} e^{- \\frac{\\mathbf{{x}_{r}}^{2} \\omega_{1}}{2} - \\frac{\\mathbf{{y}_{r}}^{2} \\omega_{2}}{2}}}{\\sqrt{\\pi}} - \\frac{\\sqrt{2} \\mathbf{{x}_{r}} \\mathbf{{y}_{r}} c_{1} \\sqrt{\\omega_{1}} \\omega_{2} \\sqrt[4]{\\omega_{1} \\omega_{2}} e^{- i t \\left(\\frac{3 \\omega_{1}}{2} + \\frac{\\omega_{2}}{2}\\right)} e^{- \\frac{\\mathbf{{x}_{r}}^{2} \\omega_{1}}{2} - \\frac{\\mathbf{{y}_{r}}^{2} \\omega_{2}}{2}}}{\\sqrt{\\pi}} + \\frac{2 \\mathbf{{x}_{r}} c_{2} \\sqrt{\\omega_{1}} \\sqrt{\\omega_{2}} \\sqrt[4]{\\omega_{1} \\omega_{2}} e^{- i t \\left(\\frac{3 \\omega_{1}}{2} + \\frac{3 \\omega_{2}}{2}\\right)} e^{- \\frac{\\mathbf{{x}_{r}}^{2} \\omega_{1}}{2} - \\frac{\\mathbf{{y}_{r}}^{2} \\omega_{2}}{2}}}{\\sqrt{\\pi}} - \\frac{\\mathbf{{y}_{r}} \\omega_{2} \\sqrt[4]{\\omega_{1} \\omega_{2}} e^{- i t \\left(\\frac{\\omega_{1}}{2} + \\frac{\\omega_{2}}{2}\\right)} e^{- \\frac{\\mathbf{{x}_{r}}^{2} \\omega_{1}}{2} - \\frac{\\mathbf{{y}_{r}}^{2} \\omega_{2}}{2}}}{\\sqrt{\\pi}})\\mathbf{\\hat{j}_{r}}$"
      ],
      "text/plain": [
       "(-2*r.x**2*r.y*c2*omega1**(3/2)*sqrt(omega2)*(omega1*omega2)**(1/4)*exp(-I*t*(3*omega1/2 + 3*omega2/2))*exp(-r.x**2*omega1/2 - r.y**2*omega2/2)/sqrt(pi) - sqrt(2)*r.x**2*c1*omega1**(3/2)*(omega1*omega2)**(1/4)*exp(-I*t*(3*omega1/2 + omega2/2))*exp(-r.x**2*omega1/2 - r.y**2*omega2/2)/sqrt(pi) - r.x*omega1*(omega1*omega2)**(1/4)*exp(-I*t*(omega1/2 + omega2/2))*exp(-r.x**2*omega1/2 - r.y**2*omega2/2)/sqrt(pi) + 2*r.y*c2*sqrt(omega1)*sqrt(omega2)*(omega1*omega2)**(1/4)*exp(-I*t*(3*omega1/2 + 3*omega2/2))*exp(-r.x**2*omega1/2 - r.y**2*omega2/2)/sqrt(pi) + sqrt(2)*c1*sqrt(omega1)*(omega1*omega2)**(1/4)*exp(-I*t*(3*omega1/2 + omega2/2))*exp(-r.x**2*omega1/2 - r.y**2*omega2/2)/sqrt(pi))*r.i + (-2*r.x*r.y**2*c2*sqrt(omega1)*omega2**(3/2)*(omega1*omega2)**(1/4)*exp(-I*t*(3*omega1/2 + 3*omega2/2))*exp(-r.x**2*omega1/2 - r.y**2*omega2/2)/sqrt(pi) - sqrt(2)*r.x*r.y*c1*sqrt(omega1)*omega2*(omega1*omega2)**(1/4)*exp(-I*t*(3*omega1/2 + omega2/2))*exp(-r.x**2*omega1/2 - r.y**2*omega2/2)/sqrt(pi) + 2*r.x*c2*sqrt(omega1)*sqrt(omega2)*(omega1*omega2)**(1/4)*exp(-I*t*(3*omega1/2 + 3*omega2/2))*exp(-r.x**2*omega1/2 - r.y**2*omega2/2)/sqrt(pi) - r.y*omega2*(omega1*omega2)**(1/4)*exp(-I*t*(omega1/2 + omega2/2))*exp(-r.x**2*omega1/2 - r.y**2*omega2/2)/sqrt(pi))*r.j"
      ]
     },
     "execution_count": 13,
     "metadata": {},
     "output_type": "execute_result"
    }
   ],
   "source": [
    "Del_Psi = gradient(Psi)\n",
    "Del_Psi"
   ]
  },
  {
   "cell_type": "markdown",
   "metadata": {},
   "source": [
    "$\\nabla_{x,y} \\Psi / \\Psi= $"
   ]
  },
  {
   "cell_type": "code",
   "execution_count": 14,
   "metadata": {
    "ExecuteTime": {
     "end_time": "2021-09-01T16:08:43.989552Z",
     "start_time": "2021-09-01T16:08:43.146817Z"
    }
   },
   "outputs": [
    {
     "data": {
      "text/latex": [
       "$\\displaystyle (\\frac{- \\sqrt{2} c_{1} \\omega_{1}^{\\frac{3}{2}} x^{2} e^{i \\omega_{2} t} + \\sqrt{2} c_{1} \\sqrt{\\omega_{1}} e^{i \\omega_{2} t} - 2 c_{2} \\omega_{1}^{\\frac{3}{2}} \\sqrt{\\omega_{2}} x^{2} y + 2 c_{2} \\sqrt{\\omega_{1}} \\sqrt{\\omega_{2}} y - \\omega_{1} x e^{i t \\left(\\omega_{1} + \\omega_{2}\\right)}}{\\sqrt{2} c_{1} \\sqrt{\\omega_{1}} x e^{i \\omega_{2} t} + 2 c_{2} \\sqrt{\\omega_{1}} \\sqrt{\\omega_{2}} x y + e^{i t \\left(\\omega_{1} + \\omega_{2}\\right)}})\\mathbf{\\hat{i}_{r}} + (\\frac{- \\sqrt{2} c_{1} \\sqrt{\\omega_{1}} \\omega_{2} x y e^{i \\omega_{2} t} - 2 c_{2} \\sqrt{\\omega_{1}} \\omega_{2}^{\\frac{3}{2}} x y^{2} + 2 c_{2} \\sqrt{\\omega_{1}} \\sqrt{\\omega_{2}} x - \\omega_{2} y e^{i t \\left(\\omega_{1} + \\omega_{2}\\right)}}{\\sqrt{2} c_{1} \\sqrt{\\omega_{1}} x e^{i \\omega_{2} t} + 2 c_{2} \\sqrt{\\omega_{1}} \\sqrt{\\omega_{2}} x y + e^{i t \\left(\\omega_{1} + \\omega_{2}\\right)}})\\mathbf{\\hat{j}_{r}}$"
      ],
      "text/plain": [
       "((-sqrt(2)*c1*omega1**(3/2)*x**2*exp(I*omega2*t) + sqrt(2)*c1*sqrt(omega1)*exp(I*omega2*t) - 2*c2*omega1**(3/2)*sqrt(omega2)*x**2*y + 2*c2*sqrt(omega1)*sqrt(omega2)*y - omega1*x*exp(I*t*(omega1 + omega2)))/(sqrt(2)*c1*sqrt(omega1)*x*exp(I*omega2*t) + 2*c2*sqrt(omega1)*sqrt(omega2)*x*y + exp(I*t*(omega1 + omega2))))*r.i + ((-sqrt(2)*c1*sqrt(omega1)*omega2*x*y*exp(I*omega2*t) - 2*c2*sqrt(omega1)*omega2**(3/2)*x*y**2 + 2*c2*sqrt(omega1)*sqrt(omega2)*x - omega2*y*exp(I*t*(omega1 + omega2)))/(sqrt(2)*c1*sqrt(omega1)*x*exp(I*omega2*t) + 2*c2*sqrt(omega1)*sqrt(omega2)*x*y + exp(I*t*(omega1 + omega2))))*r.j"
      ]
     },
     "execution_count": 14,
     "metadata": {},
     "output_type": "execute_result"
    }
   ],
   "source": [
    "expr = Del_Psi/Psi\n",
    "expr = expr.simplify()\n",
    "expr = expr.subs([(r.x, x), (r.y, y)])\n",
    "expr"
   ]
  },
  {
   "cell_type": "markdown",
   "metadata": {},
   "source": [
    "### Simplify vector field"
   ]
  },
  {
   "cell_type": "markdown",
   "metadata": {},
   "source": [
    "$\\partial_x \\Psi / \\Psi = $"
   ]
  },
  {
   "cell_type": "code",
   "execution_count": 15,
   "metadata": {
    "ExecuteTime": {
     "end_time": "2021-09-01T16:08:44.454765Z",
     "start_time": "2021-09-01T16:08:44.420792Z"
    }
   },
   "outputs": [
    {
     "data": {
      "text/latex": [
       "$\\displaystyle (\\frac{- \\sqrt{2} c_{1} \\omega_{1}^{\\frac{3}{2}} x^{2} \\left(i \\sin{\\left(\\omega_{2} t \\right)} + \\cos{\\left(\\omega_{2} t \\right)}\\right) + \\sqrt{2} c_{1} \\sqrt{\\omega_{1}} \\left(i \\sin{\\left(\\omega_{2} t \\right)} + \\cos{\\left(\\omega_{2} t \\right)}\\right) - 2 c_{2} \\omega_{1}^{\\frac{3}{2}} \\sqrt{\\omega_{2}} x^{2} y + 2 c_{2} \\sqrt{\\omega_{1}} \\sqrt{\\omega_{2}} y - \\omega_{1} x \\left(i \\sin{\\left(t \\left(\\omega_{1} + \\omega_{2}\\right) \\right)} + \\cos{\\left(t \\left(\\omega_{1} + \\omega_{2}\\right) \\right)}\\right)}{\\sqrt{2} c_{1} \\sqrt{\\omega_{1}} x \\left(i \\sin{\\left(\\omega_{2} t \\right)} + \\cos{\\left(\\omega_{2} t \\right)}\\right) + 2 c_{2} \\sqrt{\\omega_{1}} \\sqrt{\\omega_{2}} x y + i \\sin{\\left(t \\left(\\omega_{1} + \\omega_{2}\\right) \\right)} + \\cos{\\left(t \\left(\\omega_{1} + \\omega_{2}\\right) \\right)}})\\mathbf{\\hat{i}_{r}}$"
      ],
      "text/plain": [
       "((-sqrt(2)*c1*omega1**(3/2)*x**2*(I*sin(omega2*t) + cos(omega2*t)) + sqrt(2)*c1*sqrt(omega1)*(I*sin(omega2*t) + cos(omega2*t)) - 2*c2*omega1**(3/2)*sqrt(omega2)*x**2*y + 2*c2*sqrt(omega1)*sqrt(omega2)*y - omega1*x*(I*sin(t*(omega1 + omega2)) + cos(t*(omega1 + omega2))))/(sqrt(2)*c1*sqrt(omega1)*x*(I*sin(omega2*t) + cos(omega2*t)) + 2*c2*sqrt(omega1)*sqrt(omega2)*x*y + I*sin(t*(omega1 + omega2)) + cos(t*(omega1 + omega2))))*r.i"
      ]
     },
     "execution_count": 15,
     "metadata": {},
     "output_type": "execute_result"
    }
   ],
   "source": [
    "vx = expr.args[1]\n",
    "vx = vx.subs(sym.exp(sym.I*t*(omega1 + omega2)), sym.cos(t*(omega1 + omega2)) + sym.I*sym.sin(t*(omega1 + omega2)))\n",
    "vx = vx.subs(sym.exp(sym.I*t*omega2), sym.cos(t*omega2) + sym.I*sym.sin(t*omega2))\n",
    "vx"
   ]
  },
  {
   "cell_type": "code",
   "execution_count": 16,
   "metadata": {
    "ExecuteTime": {
     "end_time": "2021-09-01T16:08:45.011301Z",
     "start_time": "2021-09-01T16:08:45.002331Z"
    }
   },
   "outputs": [
    {
     "data": {
      "text/latex": [
       "$\\displaystyle - \\sqrt{2} c_{1} \\omega_{1}^{\\frac{3}{2}} x^{2} \\left(i \\sin{\\left(\\omega_{2} t \\right)} + \\cos{\\left(\\omega_{2} t \\right)}\\right) + \\sqrt{2} c_{1} \\sqrt{\\omega_{1}} \\left(i \\sin{\\left(\\omega_{2} t \\right)} + \\cos{\\left(\\omega_{2} t \\right)}\\right) - 2 c_{2} \\omega_{1}^{\\frac{3}{2}} \\sqrt{\\omega_{2}} x^{2} y + 2 c_{2} \\sqrt{\\omega_{1}} \\sqrt{\\omega_{2}} y - \\omega_{1} x \\left(i \\sin{\\left(t \\left(\\omega_{1} + \\omega_{2}\\right) \\right)} + \\cos{\\left(t \\left(\\omega_{1} + \\omega_{2}\\right) \\right)}\\right)$"
      ],
      "text/plain": [
       "-sqrt(2)*c1*omega1**(3/2)*x**2*(I*sin(omega2*t) + cos(omega2*t)) + sqrt(2)*c1*sqrt(omega1)*(I*sin(omega2*t) + cos(omega2*t)) - 2*c2*omega1**(3/2)*sqrt(omega2)*x**2*y + 2*c2*sqrt(omega1)*sqrt(omega2)*y - omega1*x*(I*sin(t*(omega1 + omega2)) + cos(t*(omega1 + omega2)))"
      ]
     },
     "execution_count": 16,
     "metadata": {},
     "output_type": "execute_result"
    }
   ],
   "source": [
    "vx.args[1]"
   ]
  },
  {
   "cell_type": "code",
   "execution_count": 17,
   "metadata": {
    "ExecuteTime": {
     "end_time": "2021-09-01T16:08:45.751320Z",
     "start_time": "2021-09-01T16:08:45.745112Z"
    }
   },
   "outputs": [
    {
     "data": {
      "text/latex": [
       "$\\displaystyle \\frac{1}{\\sqrt{2} c_{1} \\sqrt{\\omega_{1}} x \\left(i \\sin{\\left(\\omega_{2} t \\right)} + \\cos{\\left(\\omega_{2} t \\right)}\\right) + 2 c_{2} \\sqrt{\\omega_{1}} \\sqrt{\\omega_{2}} x y + i \\sin{\\left(t \\left(\\omega_{1} + \\omega_{2}\\right) \\right)} + \\cos{\\left(t \\left(\\omega_{1} + \\omega_{2}\\right) \\right)}}$"
      ],
      "text/plain": [
       "1/(sqrt(2)*c1*sqrt(omega1)*x*(I*sin(omega2*t) + cos(omega2*t)) + 2*c2*sqrt(omega1)*sqrt(omega2)*x*y + I*sin(t*(omega1 + omega2)) + cos(t*(omega1 + omega2)))"
      ]
     },
     "execution_count": 17,
     "metadata": {},
     "output_type": "execute_result"
    }
   ],
   "source": [
    "vx.args[0]"
   ]
  },
  {
   "cell_type": "markdown",
   "metadata": {},
   "source": [
    "$\\partial_y \\Psi / \\Psi = $"
   ]
  },
  {
   "cell_type": "code",
   "execution_count": 18,
   "metadata": {
    "ExecuteTime": {
     "end_time": "2021-09-01T16:08:47.284548Z",
     "start_time": "2021-09-01T16:08:47.266201Z"
    }
   },
   "outputs": [
    {
     "data": {
      "text/latex": [
       "$\\displaystyle (\\frac{- \\sqrt{2} c_{1} \\sqrt{\\omega_{1}} \\omega_{2} x y \\left(i \\sin{\\left(\\omega_{2} t \\right)} + \\cos{\\left(\\omega_{2} t \\right)}\\right) - 2 c_{2} \\sqrt{\\omega_{1}} \\omega_{2}^{\\frac{3}{2}} x y^{2} + 2 c_{2} \\sqrt{\\omega_{1}} \\sqrt{\\omega_{2}} x - \\omega_{2} y \\left(i \\sin{\\left(t \\left(\\omega_{1} + \\omega_{2}\\right) \\right)} + \\cos{\\left(t \\left(\\omega_{1} + \\omega_{2}\\right) \\right)}\\right)}{\\sqrt{2} c_{1} \\sqrt{\\omega_{1}} x \\left(i \\sin{\\left(\\omega_{2} t \\right)} + \\cos{\\left(\\omega_{2} t \\right)}\\right) + 2 c_{2} \\sqrt{\\omega_{1}} \\sqrt{\\omega_{2}} x y + i \\sin{\\left(t \\left(\\omega_{1} + \\omega_{2}\\right) \\right)} + \\cos{\\left(t \\left(\\omega_{1} + \\omega_{2}\\right) \\right)}})\\mathbf{\\hat{j}_{r}}$"
      ],
      "text/plain": [
       "((-sqrt(2)*c1*sqrt(omega1)*omega2*x*y*(I*sin(omega2*t) + cos(omega2*t)) - 2*c2*sqrt(omega1)*omega2**(3/2)*x*y**2 + 2*c2*sqrt(omega1)*sqrt(omega2)*x - omega2*y*(I*sin(t*(omega1 + omega2)) + cos(t*(omega1 + omega2))))/(sqrt(2)*c1*sqrt(omega1)*x*(I*sin(omega2*t) + cos(omega2*t)) + 2*c2*sqrt(omega1)*sqrt(omega2)*x*y + I*sin(t*(omega1 + omega2)) + cos(t*(omega1 + omega2))))*r.j"
      ]
     },
     "execution_count": 18,
     "metadata": {},
     "output_type": "execute_result"
    }
   ],
   "source": [
    "vy = expr.args[0]\n",
    "# employ Euler's formula\n",
    "vy = vy.subs(sym.exp(sym.I*t*(omega1 + omega2)), sym.cos(t*(omega1 + omega2)) + sym.I*sym.sin(t*(omega1 + omega2)))\n",
    "vy = vy.subs(sym.exp(sym.I*t*omega2), sym.cos(t*omega2) + sym.I*sym.sin(t*omega2))\n",
    "vy"
   ]
  },
  {
   "cell_type": "markdown",
   "metadata": {},
   "source": [
    "* Break down division into numerator and denominator to simplify separately\n",
    "\n",
    "> Use formula\n",
    "\n",
    "\\begin{equation*}\n",
    "\\frac{z_1}{z_2} = \\frac{z_1 z_2^*}{z_2 z_2^*} = \\frac{z_1 z_2^*}{|z_2|^2}\n",
    "\\end{equation*}"
   ]
  },
  {
   "cell_type": "code",
   "execution_count": 19,
   "metadata": {
    "ExecuteTime": {
     "end_time": "2021-09-01T16:08:48.705006Z",
     "start_time": "2021-09-01T16:08:48.697393Z"
    }
   },
   "outputs": [
    {
     "data": {
      "text/latex": [
       "$\\displaystyle - \\sqrt{2} c_{1} \\sqrt{\\omega_{1}} \\omega_{2} x y \\left(i \\sin{\\left(\\omega_{2} t \\right)} + \\cos{\\left(\\omega_{2} t \\right)}\\right) - 2 c_{2} \\sqrt{\\omega_{1}} \\omega_{2}^{\\frac{3}{2}} x y^{2} + 2 c_{2} \\sqrt{\\omega_{1}} \\sqrt{\\omega_{2}} x - \\omega_{2} y \\left(i \\sin{\\left(t \\left(\\omega_{1} + \\omega_{2}\\right) \\right)} + \\cos{\\left(t \\left(\\omega_{1} + \\omega_{2}\\right) \\right)}\\right)$"
      ],
      "text/plain": [
       "-sqrt(2)*c1*sqrt(omega1)*omega2*x*y*(I*sin(omega2*t) + cos(omega2*t)) - 2*c2*sqrt(omega1)*omega2**(3/2)*x*y**2 + 2*c2*sqrt(omega1)*sqrt(omega2)*x - omega2*y*(I*sin(t*(omega1 + omega2)) + cos(t*(omega1 + omega2)))"
      ]
     },
     "execution_count": 19,
     "metadata": {},
     "output_type": "execute_result"
    }
   ],
   "source": [
    "vy.args[1]"
   ]
  },
  {
   "cell_type": "code",
   "execution_count": 20,
   "metadata": {
    "ExecuteTime": {
     "end_time": "2021-09-01T16:08:49.672243Z",
     "start_time": "2021-09-01T16:08:49.663593Z"
    }
   },
   "outputs": [
    {
     "data": {
      "text/latex": [
       "$\\displaystyle \\frac{1}{\\sqrt{2} c_{1} \\sqrt{\\omega_{1}} x \\left(i \\sin{\\left(\\omega_{2} t \\right)} + \\cos{\\left(\\omega_{2} t \\right)}\\right) + 2 c_{2} \\sqrt{\\omega_{1}} \\sqrt{\\omega_{2}} x y + i \\sin{\\left(t \\left(\\omega_{1} + \\omega_{2}\\right) \\right)} + \\cos{\\left(t \\left(\\omega_{1} + \\omega_{2}\\right) \\right)}}$"
      ],
      "text/plain": [
       "1/(sqrt(2)*c1*sqrt(omega1)*x*(I*sin(omega2*t) + cos(omega2*t)) + 2*c2*sqrt(omega1)*sqrt(omega2)*x*y + I*sin(t*(omega1 + omega2)) + cos(t*(omega1 + omega2)))"
      ]
     },
     "execution_count": 20,
     "metadata": {},
     "output_type": "execute_result"
    }
   ],
   "source": [
    "vy.args[0]"
   ]
  },
  {
   "cell_type": "markdown",
   "metadata": {},
   "source": [
    "TEST"
   ]
  },
  {
   "cell_type": "markdown",
   "metadata": {
    "ExecuteTime": {
     "end_time": "2021-08-04T08:09:01.580416Z",
     "start_time": "2021-08-04T08:09:01.577838Z"
    }
   },
   "source": [
    "Compute denominator"
   ]
  },
  {
   "cell_type": "code",
   "execution_count": 21,
   "metadata": {
    "ExecuteTime": {
     "end_time": "2021-09-01T16:08:52.298062Z",
     "start_time": "2021-09-01T16:08:52.288410Z"
    }
   },
   "outputs": [
    {
     "data": {
      "text/latex": [
       "$\\displaystyle \\sqrt{2} c_{1} \\sqrt{\\omega_{1}} x \\left(i \\sin{\\left(\\omega_{2} t \\right)} + \\cos{\\left(\\omega_{2} t \\right)}\\right) + 2 c_{2} \\sqrt{\\omega_{1}} \\sqrt{\\omega_{2}} x y + i \\sin{\\left(t \\left(\\omega_{1} + \\omega_{2}\\right) \\right)} + \\cos{\\left(t \\left(\\omega_{1} + \\omega_{2}\\right) \\right)}$"
      ],
      "text/plain": [
       "sqrt(2)*c1*sqrt(omega1)*x*(I*sin(omega2*t) + cos(omega2*t)) + 2*c2*sqrt(omega1)*sqrt(omega2)*x*y + I*sin(t*(omega1 + omega2)) + cos(t*(omega1 + omega2))"
      ]
     },
     "execution_count": 21,
     "metadata": {},
     "output_type": "execute_result"
    }
   ],
   "source": [
    "exp_test = 1/vy.args[0]\n",
    "exp_test"
   ]
  },
  {
   "cell_type": "code",
   "execution_count": 22,
   "metadata": {
    "ExecuteTime": {
     "end_time": "2021-09-01T16:08:53.494572Z",
     "start_time": "2021-09-01T16:08:53.476357Z"
    }
   },
   "outputs": [
    {
     "data": {
      "text/latex": [
       "$\\displaystyle \\sqrt{2} c_{1} \\sqrt{\\omega_{1}} x \\left(- i \\sin{\\left(\\omega_{2} t \\right)} + \\cos{\\left(\\omega_{2} t \\right)}\\right) + 2 c_{2} \\sqrt{\\omega_{1}} \\sqrt{\\omega_{2}} x y - i \\sin{\\left(t \\left(\\omega_{1} + \\omega_{2}\\right) \\right)} + \\cos{\\left(t \\left(\\omega_{1} + \\omega_{2}\\right) \\right)}$"
      ],
      "text/plain": [
       "sqrt(2)*c1*sqrt(omega1)*x*(-I*sin(omega2*t) + cos(omega2*t)) + 2*c2*sqrt(omega1)*sqrt(omega2)*x*y - I*sin(t*(omega1 + omega2)) + cos(t*(omega1 + omega2))"
      ]
     },
     "execution_count": 22,
     "metadata": {},
     "output_type": "execute_result"
    }
   ],
   "source": [
    "exp_test_conjugate = exp_test.subs(sym.I, -sym.I)\n",
    "exp_test_conjugate"
   ]
  },
  {
   "cell_type": "code",
   "execution_count": 23,
   "metadata": {
    "ExecuteTime": {
     "end_time": "2021-09-01T16:09:05.370489Z",
     "start_time": "2021-09-01T16:08:54.101429Z"
    }
   },
   "outputs": [
    {
     "data": {
      "text/latex": [
       "$\\displaystyle 2 c_{1}^{2} \\omega_{1} x^{2} + 4 \\sqrt{2} c_{1} c_{2} \\omega_{1} \\sqrt{\\omega_{2}} x^{2} y \\cos{\\left(\\omega_{2} t \\right)} + 2 \\sqrt{2} c_{1} \\sqrt{\\omega_{1}} x \\cos{\\left(\\omega_{1} t \\right)} + 4 c_{2}^{2} \\omega_{1} \\omega_{2} x^{2} y^{2} + 4 c_{2} \\sqrt{\\omega_{1}} \\sqrt{\\omega_{2}} x y \\cos{\\left(t \\left(\\omega_{1} + \\omega_{2}\\right) \\right)} + 1$"
      ],
      "text/plain": [
       "2*c1**2*omega1*x**2 + 4*sqrt(2)*c1*c2*omega1*sqrt(omega2)*x**2*y*cos(omega2*t) + 2*sqrt(2)*c1*sqrt(omega1)*x*cos(omega1*t) + 4*c2**2*omega1*omega2*x**2*y**2 + 4*c2*sqrt(omega1)*sqrt(omega2)*x*y*cos(t*(omega1 + omega2)) + 1"
      ]
     },
     "execution_count": 23,
     "metadata": {},
     "output_type": "execute_result"
    }
   ],
   "source": [
    "vy_denominator = (exp_test*exp_test_conjugate).simplify() # = Psi*Psi \n",
    "vy_denominator"
   ]
  },
  {
   "cell_type": "code",
   "execution_count": 58,
   "metadata": {
    "ExecuteTime": {
     "end_time": "2021-09-01T16:57:42.803999Z",
     "start_time": "2021-09-01T16:57:42.801361Z"
    }
   },
   "outputs": [],
   "source": [
    "a, b = sym.symbols('a b', real=True)\n",
    "vy_denominator = vy_denominator.subs([(c1, a/sym.sqrt(2)),(c2, b/2)]) # substitute constants\n",
    "vy_denominator"
   ]
  },
  {
   "cell_type": "markdown",
   "metadata": {},
   "source": [
    "TEST"
   ]
  },
  {
   "cell_type": "markdown",
   "metadata": {},
   "source": [
    "Compute numerator of $v_y$"
   ]
  },
  {
   "cell_type": "code",
   "execution_count": 54,
   "metadata": {
    "ExecuteTime": {
     "end_time": "2021-09-01T16:56:58.929936Z",
     "start_time": "2021-09-01T16:56:58.668759Z"
    }
   },
   "outputs": [],
   "source": [
    "vy_numerator =\\\n",
    "(vy.args[1]*exp_test_conjugate - vy.args[1].subs(sym.I,-sym.I)*exp_test).simplify()/(2*sym.I)"
   ]
  },
  {
   "cell_type": "code",
   "execution_count": 55,
   "metadata": {
    "ExecuteTime": {
     "end_time": "2021-09-01T16:56:59.426698Z",
     "start_time": "2021-09-01T16:56:59.420455Z"
    }
   },
   "outputs": [
    {
     "data": {
      "text/latex": [
       "$\\displaystyle - b \\left(a \\sqrt{\\omega_{1}} x \\sin{\\left(\\omega_{2} t \\right)} + \\sin{\\left(t \\left(\\omega_{1} + \\omega_{2}\\right) \\right)}\\right)$"
      ],
      "text/plain": [
       "-b*(a*sqrt(omega1)*x*sin(omega2*t) + sin(t*(omega1 + omega2)))"
      ]
     },
     "execution_count": 55,
     "metadata": {},
     "output_type": "execute_result"
    }
   ],
   "source": [
    "vy_numerator = vy_numerator.subs([(c1, a/sym.sqrt(2)),(c2, b/2)])\n",
    "vy_numerator"
   ]
  },
  {
   "cell_type": "markdown",
   "metadata": {},
   "source": [
    "Compute numerator of $v_x$"
   ]
  },
  {
   "cell_type": "code",
   "execution_count": 27,
   "metadata": {
    "ExecuteTime": {
     "end_time": "2021-09-01T16:09:07.616425Z",
     "start_time": "2021-09-01T16:09:07.059241Z"
    }
   },
   "outputs": [],
   "source": [
    "vx_numerator =\\\n",
    "(vx.args[1]*exp_test_conjugate - vx.args[1].subs(sym.I,-sym.I)*exp_test).simplify()/(2*sym.I)"
   ]
  },
  {
   "cell_type": "code",
   "execution_count": 28,
   "metadata": {
    "ExecuteTime": {
     "end_time": "2021-09-01T16:09:07.623420Z",
     "start_time": "2021-09-01T16:09:07.617433Z"
    }
   },
   "outputs": [
    {
     "data": {
      "text/latex": [
       "$\\displaystyle - \\sqrt{\\omega_{1}} \\left(a \\sin{\\left(\\omega_{1} t \\right)} + b \\sqrt{\\omega_{2}} y \\sin{\\left(t \\left(\\omega_{1} + \\omega_{2}\\right) \\right)}\\right)$"
      ],
      "text/plain": [
       "-sqrt(omega1)*(a*sin(omega1*t) + b*sqrt(omega2)*y*sin(t*(omega1 + omega2)))"
      ]
     },
     "execution_count": 28,
     "metadata": {},
     "output_type": "execute_result"
    }
   ],
   "source": [
    "vx_numerator = vx_numerator.subs([(c1, a/sym.sqrt(2)),(c2, b/2)])\n",
    "vx_numerator"
   ]
  },
  {
   "cell_type": "markdown",
   "metadata": {},
   "source": [
    "### Vector field: final form"
   ]
  },
  {
   "cell_type": "code",
   "execution_count": 59,
   "metadata": {
    "ExecuteTime": {
     "end_time": "2021-09-01T16:57:55.279570Z",
     "start_time": "2021-09-01T16:57:55.270898Z"
    }
   },
   "outputs": [
    {
     "data": {
      "text/latex": [
       "$\\displaystyle - \\frac{\\sqrt{\\omega_{1}} \\left(a \\sin{\\left(\\omega_{1} t \\right)} + b \\sqrt{\\omega_{2}} y \\sin{\\left(t \\left(\\omega_{1} + \\omega_{2}\\right) \\right)}\\right)}{a^{2} \\omega_{1} x^{2} + 2 a b \\omega_{1} \\sqrt{\\omega_{2}} x^{2} y \\cos{\\left(\\omega_{2} t \\right)} + 2 a \\sqrt{\\omega_{1}} x \\cos{\\left(\\omega_{1} t \\right)} + b^{2} \\omega_{1} \\omega_{2} x^{2} y^{2} + 2 b \\sqrt{\\omega_{1}} \\sqrt{\\omega_{2}} x y \\cos{\\left(t \\left(\\omega_{1} + \\omega_{2}\\right) \\right)} + 1}$"
      ],
      "text/plain": [
       "-sqrt(omega1)*(a*sin(omega1*t) + b*sqrt(omega2)*y*sin(t*(omega1 + omega2)))/(a**2*omega1*x**2 + 2*a*b*omega1*sqrt(omega2)*x**2*y*cos(omega2*t) + 2*a*sqrt(omega1)*x*cos(omega1*t) + b**2*omega1*omega2*x**2*y**2 + 2*b*sqrt(omega1)*sqrt(omega2)*x*y*cos(t*(omega1 + omega2)) + 1)"
      ]
     },
     "execution_count": 59,
     "metadata": {},
     "output_type": "execute_result"
    }
   ],
   "source": [
    "vx = vx_numerator/vy_denominator\n",
    "vx"
   ]
  },
  {
   "cell_type": "code",
   "execution_count": 60,
   "metadata": {
    "ExecuteTime": {
     "end_time": "2021-09-01T16:57:59.261495Z",
     "start_time": "2021-09-01T16:57:59.252717Z"
    }
   },
   "outputs": [
    {
     "data": {
      "text/latex": [
       "$\\displaystyle - \\frac{b \\left(a \\sqrt{\\omega_{1}} x \\sin{\\left(\\omega_{2} t \\right)} + \\sin{\\left(t \\left(\\omega_{1} + \\omega_{2}\\right) \\right)}\\right)}{a^{2} \\omega_{1} x^{2} + 2 a b \\omega_{1} \\sqrt{\\omega_{2}} x^{2} y \\cos{\\left(\\omega_{2} t \\right)} + 2 a \\sqrt{\\omega_{1}} x \\cos{\\left(\\omega_{1} t \\right)} + b^{2} \\omega_{1} \\omega_{2} x^{2} y^{2} + 2 b \\sqrt{\\omega_{1}} \\sqrt{\\omega_{2}} x y \\cos{\\left(t \\left(\\omega_{1} + \\omega_{2}\\right) \\right)} + 1}$"
      ],
      "text/plain": [
       "-b*(a*sqrt(omega1)*x*sin(omega2*t) + sin(t*(omega1 + omega2)))/(a**2*omega1*x**2 + 2*a*b*omega1*sqrt(omega2)*x**2*y*cos(omega2*t) + 2*a*sqrt(omega1)*x*cos(omega1*t) + b**2*omega1*omega2*x**2*y**2 + 2*b*sqrt(omega1)*sqrt(omega2)*x*y*cos(t*(omega1 + omega2)) + 1)"
      ]
     },
     "execution_count": 60,
     "metadata": {},
     "output_type": "execute_result"
    }
   ],
   "source": [
    "vy = vy_numerator/vy_denominator\n",
    "vy"
   ]
  },
  {
   "cell_type": "markdown",
   "metadata": {},
   "source": [
    "### Evaluation at different time scales"
   ]
  },
  {
   "cell_type": "code",
   "execution_count": 37,
   "metadata": {
    "ExecuteTime": {
     "end_time": "2021-09-01T16:12:41.807622Z",
     "start_time": "2021-09-01T16:12:41.802342Z"
    }
   },
   "outputs": [],
   "source": [
    "k, kk = sym.symbols(\"k k'\")"
   ]
  },
  {
   "cell_type": "markdown",
   "metadata": {},
   "source": [
    "#### First time scale"
   ]
  },
  {
   "cell_type": "code",
   "execution_count": 38,
   "metadata": {
    "ExecuteTime": {
     "end_time": "2021-09-01T16:12:43.293755Z",
     "start_time": "2021-09-01T16:12:43.291615Z"
    }
   },
   "outputs": [],
   "source": [
    "t_x = k*sym.pi/omega2"
   ]
  },
  {
   "cell_type": "code",
   "execution_count": 66,
   "metadata": {
    "ExecuteTime": {
     "end_time": "2021-09-01T16:59:09.952390Z",
     "start_time": "2021-09-01T16:59:09.940953Z"
    }
   },
   "outputs": [
    {
     "data": {
      "text/latex": [
       "$\\displaystyle - \\frac{\\sqrt{\\omega_{1}} \\left(a \\sin{\\left(\\frac{\\pi k \\omega_{1}}{\\omega_{2}} \\right)} + b \\sqrt{\\omega_{2}} y \\sin{\\left(\\frac{\\pi k \\left(\\omega_{1} + \\omega_{2}\\right)}{\\omega_{2}} \\right)}\\right)}{2 \\left(-1\\right)^{k} a b \\omega_{1} \\sqrt{\\omega_{2}} x^{2} y + a^{2} \\omega_{1} x^{2} + 2 a \\sqrt{\\omega_{1}} x \\cos{\\left(\\frac{\\pi k \\omega_{1}}{\\omega_{2}} \\right)} + b^{2} \\omega_{1} \\omega_{2} x^{2} y^{2} + 2 b \\sqrt{\\omega_{1}} \\sqrt{\\omega_{2}} x y \\cos{\\left(\\frac{\\pi k \\left(\\omega_{1} + \\omega_{2}\\right)}{\\omega_{2}} \\right)} + 1}$"
      ],
      "text/plain": [
       "-sqrt(omega1)*(a*sin(pi*k*omega1/omega2) + b*sqrt(omega2)*y*sin(pi*k*(omega1 + omega2)/omega2))/(2*(-1)**k*a*b*omega1*sqrt(omega2)*x**2*y + a**2*omega1*x**2 + 2*a*sqrt(omega1)*x*cos(pi*k*omega1/omega2) + b**2*omega1*omega2*x**2*y**2 + 2*b*sqrt(omega1)*sqrt(omega2)*x*y*cos(pi*k*(omega1 + omega2)/omega2) + 1)"
      ]
     },
     "execution_count": 66,
     "metadata": {},
     "output_type": "execute_result"
    }
   ],
   "source": [
    "vx_eval = vx.subs(t, t_x).subs(sym.cos(k*sym.pi), (-1)**k)\n",
    "vx_eval"
   ]
  },
  {
   "cell_type": "code",
   "execution_count": 67,
   "metadata": {
    "ExecuteTime": {
     "end_time": "2021-09-01T16:59:10.897005Z",
     "start_time": "2021-09-01T16:59:10.887210Z"
    }
   },
   "outputs": [
    {
     "data": {
      "text/latex": [
       "$\\displaystyle - \\frac{b \\sin{\\left(\\frac{\\pi k \\left(\\omega_{1} + \\omega_{2}\\right)}{\\omega_{2}} \\right)}}{2 \\left(-1\\right)^{k} a b \\omega_{1} \\sqrt{\\omega_{2}} x^{2} y + a^{2} \\omega_{1} x^{2} + 2 a \\sqrt{\\omega_{1}} x \\cos{\\left(\\frac{\\pi k \\omega_{1}}{\\omega_{2}} \\right)} + b^{2} \\omega_{1} \\omega_{2} x^{2} y^{2} + 2 b \\sqrt{\\omega_{1}} \\sqrt{\\omega_{2}} x y \\cos{\\left(\\frac{\\pi k \\left(\\omega_{1} + \\omega_{2}\\right)}{\\omega_{2}} \\right)} + 1}$"
      ],
      "text/plain": [
       "-b*sin(pi*k*(omega1 + omega2)/omega2)/(2*(-1)**k*a*b*omega1*sqrt(omega2)*x**2*y + a**2*omega1*x**2 + 2*a*sqrt(omega1)*x*cos(pi*k*omega1/omega2) + b**2*omega1*omega2*x**2*y**2 + 2*b*sqrt(omega1)*sqrt(omega2)*x*y*cos(pi*k*(omega1 + omega2)/omega2) + 1)"
      ]
     },
     "execution_count": 67,
     "metadata": {},
     "output_type": "execute_result"
    }
   ],
   "source": [
    "vy_eval = vy.subs(t, t_x).subs(sym.sin(k*sym.pi), 0).subs(sym.cos(k*sym.pi), (-1)**k)\n",
    "vy_eval"
   ]
  },
  {
   "cell_type": "code",
   "execution_count": 86,
   "metadata": {
    "ExecuteTime": {
     "end_time": "2021-09-01T17:51:44.907528Z",
     "start_time": "2021-09-01T17:51:44.901164Z"
    }
   },
   "outputs": [
    {
     "data": {
      "text/latex": [
       "$\\displaystyle - \\frac{a \\sin{\\left(\\frac{\\pi k'}{3} \\right)}}{2 \\left(-1\\right)^{k'} \\sqrt{2} b x y + a^{2} x^{2} + 2 \\sqrt{2} a b x^{2} y \\cos{\\left(\\frac{2 \\pi k'}{3} \\right)} + 2 a x \\cos{\\left(\\frac{\\pi k'}{3} \\right)} + 2 b^{2} x^{2} y^{2} + 1}$"
      ],
      "text/plain": [
       "-a*sin(pi*k'/3)/(2*(-1)**k'*sqrt(2)*b*x*y + a**2*x**2 + 2*sqrt(2)*a*b*x**2*y*cos(2*pi*k'/3) + 2*a*x*cos(pi*k'/3) + 2*b**2*x**2*y**2 + 1)"
      ]
     },
     "execution_count": 86,
     "metadata": {},
     "output_type": "execute_result"
    }
   ],
   "source": [
    "vx_eval.subs([(omega1,1), (omega2,2)])"
   ]
  },
  {
   "cell_type": "code",
   "execution_count": 87,
   "metadata": {
    "ExecuteTime": {
     "end_time": "2021-09-01T17:51:51.239160Z",
     "start_time": "2021-09-01T17:51:51.229729Z"
    }
   },
   "outputs": [
    {
     "data": {
      "text/latex": [
       "$\\displaystyle - \\frac{a b x \\sin{\\left(\\frac{2 \\pi k'}{3} \\right)}}{2 \\left(-1\\right)^{k'} \\sqrt{2} b x y + a^{2} x^{2} + 2 \\sqrt{2} a b x^{2} y \\cos{\\left(\\frac{2 \\pi k'}{3} \\right)} + 2 a x \\cos{\\left(\\frac{\\pi k'}{3} \\right)} + 2 b^{2} x^{2} y^{2} + 1}$"
      ],
      "text/plain": [
       "-a*b*x*sin(2*pi*k'/3)/(2*(-1)**k'*sqrt(2)*b*x*y + a**2*x**2 + 2*sqrt(2)*a*b*x**2*y*cos(2*pi*k'/3) + 2*a*x*cos(pi*k'/3) + 2*b**2*x**2*y**2 + 1)"
      ]
     },
     "execution_count": 87,
     "metadata": {},
     "output_type": "execute_result"
    }
   ],
   "source": [
    "vy_eval.subs([(omega1,1), (omega2,2)])"
   ]
  },
  {
   "cell_type": "markdown",
   "metadata": {},
   "source": [
    "#### Second time scale"
   ]
  },
  {
   "cell_type": "code",
   "execution_count": 63,
   "metadata": {
    "ExecuteTime": {
     "end_time": "2021-09-01T16:58:10.909129Z",
     "start_time": "2021-09-01T16:58:10.902050Z"
    }
   },
   "outputs": [],
   "source": [
    "t_y = kk*sym.pi/(omega1 + omega2)"
   ]
  },
  {
   "cell_type": "code",
   "execution_count": 74,
   "metadata": {
    "ExecuteTime": {
     "end_time": "2021-09-01T17:01:51.234030Z",
     "start_time": "2021-09-01T17:01:51.223184Z"
    }
   },
   "outputs": [
    {
     "data": {
      "text/latex": [
       "$\\displaystyle - \\frac{a \\sqrt{\\omega_{1}} \\sin{\\left(\\frac{\\pi k' \\omega_{1}}{\\omega_{1} + \\omega_{2}} \\right)}}{2 \\left(-1\\right)^{k'} b \\sqrt{\\omega_{1}} \\sqrt{\\omega_{2}} x y + a^{2} \\omega_{1} x^{2} + 2 a b \\omega_{1} \\sqrt{\\omega_{2}} x^{2} y \\cos{\\left(\\frac{\\pi k' \\omega_{2}}{\\omega_{1} + \\omega_{2}} \\right)} + 2 a \\sqrt{\\omega_{1}} x \\cos{\\left(\\frac{\\pi k' \\omega_{1}}{\\omega_{1} + \\omega_{2}} \\right)} + b^{2} \\omega_{1} \\omega_{2} x^{2} y^{2} + 1}$"
      ],
      "text/plain": [
       "-a*sqrt(omega1)*sin(pi*k'*omega1/(omega1 + omega2))/(2*(-1)**k'*b*sqrt(omega1)*sqrt(omega2)*x*y + a**2*omega1*x**2 + 2*a*b*omega1*sqrt(omega2)*x**2*y*cos(pi*k'*omega2/(omega1 + omega2)) + 2*a*sqrt(omega1)*x*cos(pi*k'*omega1/(omega1 + omega2)) + b**2*omega1*omega2*x**2*y**2 + 1)"
      ]
     },
     "execution_count": 74,
     "metadata": {},
     "output_type": "execute_result"
    }
   ],
   "source": [
    "vx_eval = vx.subs(t, t_y).subs(sym.sin(kk*sym.pi), 0).subs(sym.cos(kk*sym.pi), (-1)**kk)\n",
    "vx_eval"
   ]
  },
  {
   "cell_type": "code",
   "execution_count": 75,
   "metadata": {
    "ExecuteTime": {
     "end_time": "2021-09-01T17:30:55.830836Z",
     "start_time": "2021-09-01T17:30:55.824986Z"
    }
   },
   "outputs": [
    {
     "data": {
      "text/latex": [
       "$\\displaystyle - \\frac{a \\sin{\\left(\\frac{\\pi k'}{2} \\right)}}{2 \\left(-1\\right)^{k'} b x y + a^{2} x^{2} + 2 a b x^{2} y \\cos{\\left(\\frac{\\pi k'}{2} \\right)} + 2 a x \\cos{\\left(\\frac{\\pi k'}{2} \\right)} + b^{2} x^{2} y^{2} + 1}$"
      ],
      "text/plain": [
       "-a*sin(pi*k'/2)/(2*(-1)**k'*b*x*y + a**2*x**2 + 2*a*b*x**2*y*cos(pi*k'/2) + 2*a*x*cos(pi*k'/2) + b**2*x**2*y**2 + 1)"
      ]
     },
     "execution_count": 75,
     "metadata": {},
     "output_type": "execute_result"
    }
   ],
   "source": [
    "vx_eval.subs([(omega1,1), (omega2,1)])"
   ]
  },
  {
   "cell_type": "code",
   "execution_count": 76,
   "metadata": {
    "ExecuteTime": {
     "end_time": "2021-09-01T17:01:57.884624Z",
     "start_time": "2021-09-01T17:01:57.876706Z"
    }
   },
   "outputs": [
    {
     "data": {
      "text/latex": [
       "$\\displaystyle - \\frac{a b \\sqrt{\\omega_{1}} x \\sin{\\left(\\frac{\\pi k' \\omega_{2}}{\\omega_{1} + \\omega_{2}} \\right)}}{2 \\left(-1\\right)^{k'} b \\sqrt{\\omega_{1}} \\sqrt{\\omega_{2}} x y + a^{2} \\omega_{1} x^{2} + 2 a b \\omega_{1} \\sqrt{\\omega_{2}} x^{2} y \\cos{\\left(\\frac{\\pi k' \\omega_{2}}{\\omega_{1} + \\omega_{2}} \\right)} + 2 a \\sqrt{\\omega_{1}} x \\cos{\\left(\\frac{\\pi k' \\omega_{1}}{\\omega_{1} + \\omega_{2}} \\right)} + b^{2} \\omega_{1} \\omega_{2} x^{2} y^{2} + 1}$"
      ],
      "text/plain": [
       "-a*b*sqrt(omega1)*x*sin(pi*k'*omega2/(omega1 + omega2))/(2*(-1)**k'*b*sqrt(omega1)*sqrt(omega2)*x*y + a**2*omega1*x**2 + 2*a*b*omega1*sqrt(omega2)*x**2*y*cos(pi*k'*omega2/(omega1 + omega2)) + 2*a*sqrt(omega1)*x*cos(pi*k'*omega1/(omega1 + omega2)) + b**2*omega1*omega2*x**2*y**2 + 1)"
      ]
     },
     "execution_count": 76,
     "metadata": {},
     "output_type": "execute_result"
    }
   ],
   "source": [
    "vy_eval = vy.subs(t, t_y).subs(sym.sin(kk*sym.pi), 0).subs(sym.cos(kk*sym.pi), (-1)**kk)\n",
    "vy_eval"
   ]
  },
  {
   "cell_type": "code",
   "execution_count": 81,
   "metadata": {
    "ExecuteTime": {
     "end_time": "2021-09-01T17:30:55.830836Z",
     "start_time": "2021-09-01T17:30:55.824986Z"
    }
   },
   "outputs": [
    {
     "data": {
      "text/latex": [
       "$\\displaystyle - \\frac{a b x \\sin{\\left(\\frac{\\pi k'}{2} \\right)}}{2 \\left(-1\\right)^{k'} b x y + a^{2} x^{2} + 2 a b x^{2} y \\cos{\\left(\\frac{\\pi k'}{2} \\right)} + 2 a x \\cos{\\left(\\frac{\\pi k'}{2} \\right)} + b^{2} x^{2} y^{2} + 1}$"
      ],
      "text/plain": [
       "-a*b*x*sin(pi*k'/2)/(2*(-1)**k'*b*x*y + a**2*x**2 + 2*a*b*x**2*y*cos(pi*k'/2) + 2*a*x*cos(pi*k'/2) + b**2*x**2*y**2 + 1)"
      ]
     },
     "execution_count": 81,
     "metadata": {},
     "output_type": "execute_result"
    }
   ],
   "source": [
    "vy_eval.subs([(omega1,1), (omega2,1)])"
   ]
  },
  {
   "cell_type": "code",
   "execution_count": null,
   "metadata": {},
   "outputs": [],
   "source": []
  }
 ],
 "metadata": {
  "kernelspec": {
   "display_name": "Python 3",
   "language": "python",
   "name": "python3"
  },
  "language_info": {
   "codemirror_mode": {
    "name": "ipython",
    "version": 3
   },
   "file_extension": ".py",
   "mimetype": "text/x-python",
   "name": "python",
   "nbconvert_exporter": "python",
   "pygments_lexer": "ipython3",
   "version": "3.7.10"
  },
  "toc": {
   "base_numbering": 1,
   "nav_menu": {},
   "number_sections": true,
   "sideBar": true,
   "skip_h1_title": false,
   "title_cell": "Table of Contents",
   "title_sidebar": "Contents",
   "toc_cell": false,
   "toc_position": {
    "height": "calc(100% - 180px)",
    "left": "10px",
    "top": "150px",
    "width": "341.333px"
   },
   "toc_section_display": true,
   "toc_window_display": true
  }
 },
 "nbformat": 4,
 "nbformat_minor": 4
}
