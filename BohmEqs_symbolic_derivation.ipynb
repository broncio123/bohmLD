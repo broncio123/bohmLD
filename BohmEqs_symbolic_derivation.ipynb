{
 "cells": [
  {
   "cell_type": "markdown",
   "metadata": {},
   "source": [
    "# General setup"
   ]
  },
  {
   "cell_type": "code",
   "execution_count": 12,
   "metadata": {
    "ExecuteTime": {
     "end_time": "2021-07-21T10:51:24.492536Z",
     "start_time": "2021-07-21T10:51:24.486973Z"
    }
   },
   "outputs": [],
   "source": [
    "import sympy as sym"
   ]
  },
  {
   "cell_type": "code",
   "execution_count": 13,
   "metadata": {
    "ExecuteTime": {
     "end_time": "2021-07-21T10:51:24.681187Z",
     "start_time": "2021-07-21T10:51:24.679158Z"
    }
   },
   "outputs": [],
   "source": [
    "x, y = sym.symbols('x y', real=True)"
   ]
  },
  {
   "cell_type": "code",
   "execution_count": 14,
   "metadata": {
    "ExecuteTime": {
     "end_time": "2021-07-21T10:51:24.881515Z",
     "start_time": "2021-07-21T10:51:24.879090Z"
    }
   },
   "outputs": [],
   "source": [
    "h = sym.Symbol('hbar')\n",
    "omega1 = sym.Symbol('omega1', real=True)\n",
    "omega2 = sym.Symbol('omega2', real=True)\n",
    "n1 = sym.Symbol('n1')\n",
    "n2 = sym.Symbol('n2')"
   ]
  },
  {
   "cell_type": "code",
   "execution_count": 15,
   "metadata": {
    "ExecuteTime": {
     "end_time": "2021-07-21T10:51:25.081542Z",
     "start_time": "2021-07-21T10:51:25.079157Z"
    }
   },
   "outputs": [],
   "source": [
    "e = sym.exp\n",
    "t = sym.Symbol('t', real=True)\n",
    "c = sym.Symbol('c', real=True)"
   ]
  },
  {
   "cell_type": "code",
   "execution_count": 16,
   "metadata": {
    "ExecuteTime": {
     "end_time": "2021-07-21T10:51:25.825707Z",
     "start_time": "2021-07-21T10:51:25.663730Z"
    }
   },
   "outputs": [
    {
     "data": {
      "text/latex": [
       "$\\displaystyle \\hbar \\left(\\omega_{1} \\left(n_{1} + \\frac{1}{2}\\right) + \\omega_{2} \\left(n_{2} + \\frac{1}{2}\\right)\\right)$"
      ],
      "text/plain": [
       "hbar*(omega1*(n1 + 1/2) + omega2*(n2 + 1/2))"
      ]
     },
     "execution_count": 16,
     "metadata": {},
     "output_type": "execute_result"
    }
   ],
   "source": [
    "E_n1n2 = h*( (sym.Rational(1/2) + n1)*omega1 + (sym.Rational(1/2) + n2)*omega2 )\n",
    "E_n1n2"
   ]
  },
  {
   "cell_type": "code",
   "execution_count": 17,
   "metadata": {
    "ExecuteTime": {
     "end_time": "2021-07-21T10:51:26.556490Z",
     "start_time": "2021-07-21T10:51:26.539606Z"
    }
   },
   "outputs": [
    {
     "data": {
      "text/latex": [
       "$\\displaystyle \\omega_{1} \\left(n_{1} + \\frac{1}{2}\\right) + \\omega_{2} \\left(n_{2} + \\frac{1}{2}\\right)$"
      ],
      "text/plain": [
       "omega1*(n1 + 1/2) + omega2*(n2 + 1/2)"
      ]
     },
     "execution_count": 17,
     "metadata": {},
     "output_type": "execute_result"
    }
   ],
   "source": [
    "E_n1n2 = E_n1n2.subs(h,1)\n",
    "E_n1n2"
   ]
  },
  {
   "cell_type": "markdown",
   "metadata": {},
   "source": [
    "Eigenfunctions "
   ]
  },
  {
   "cell_type": "code",
   "execution_count": 7,
   "metadata": {
    "ExecuteTime": {
     "end_time": "2021-07-21T09:39:48.720644Z",
     "start_time": "2021-07-21T09:39:48.717016Z"
    }
   },
   "outputs": [],
   "source": [
    "def psi_n1n2(n1_val, n2_val):\n",
    "    C_n1n2_numerator = (omega1*omega2)**(sym.Rational(1/4))\n",
    "    C_n1n2_divider = sym.sqrt(sym.pi* sym.factorial(n1) * sym.factorial(n2)* 2**(n1+n2))\n",
    "    C_n1n2 = C_n1n2_numerator/C_n1n2_divider\n",
    "    H_n1 = sym.hermite_poly(n1_val, sym.sqrt(omega1)*x)\n",
    "    H_n2 = sym.hermite_poly(n2_val, sym.sqrt(omega2)*y)\n",
    "    expfunc1 = sym.exp(-sym.I*E_n1n2*t)\n",
    "    expfunc2 = sym.exp(-sym.Rational(1/2)*(omega1*x**2 + omega2*y**2))\n",
    "    product = C_n1n2*expfunc1*expfunc2\n",
    "    psi_n1n2 = product.subs([(n1, n1_val),(n2, n2_val)])*H_n1*H_n2\n",
    "    return psi_n1n2"
   ]
  },
  {
   "cell_type": "markdown",
   "metadata": {},
   "source": [
    "Wave function"
   ]
  },
  {
   "cell_type": "code",
   "execution_count": 8,
   "metadata": {
    "ExecuteTime": {
     "end_time": "2021-07-21T09:39:53.739946Z",
     "start_time": "2021-07-21T09:39:53.737928Z"
    }
   },
   "outputs": [],
   "source": [
    "c1, c2 = sym.symbols('c1 c2', real=True)"
   ]
  },
  {
   "cell_type": "markdown",
   "metadata": {},
   "source": [
    "$\\Psi(x,y,t) = \\psi_{0,0} + c_1 \\psi_{1,0} + c_2 \\psi_{1,1}$"
   ]
  },
  {
   "cell_type": "code",
   "execution_count": 9,
   "metadata": {
    "ExecuteTime": {
     "end_time": "2021-07-21T09:39:54.940895Z",
     "start_time": "2021-07-21T09:39:54.899069Z"
    }
   },
   "outputs": [],
   "source": [
    "Psi = psi_n1n2(0,0) + c1*psi_n1n2(1,0) + c2*psi_n1n2(1,1)"
   ]
  },
  {
   "cell_type": "markdown",
   "metadata": {},
   "source": [
    "SPECIAL CASE: $\\omega_1 = 1$ and $\\omega_2 = 1/c^2$"
   ]
  },
  {
   "cell_type": "code",
   "execution_count": 17,
   "metadata": {
    "ExecuteTime": {
     "end_time": "2021-02-08T18:00:18.624388Z",
     "start_time": "2021-02-08T18:00:18.617903Z"
    }
   },
   "outputs": [],
   "source": [
    "Psi = Psi.subs(omega1,1)\n",
    "# Psi = Psi.subs(omega2,1/c**2)"
   ]
  },
  {
   "cell_type": "code",
   "execution_count": 18,
   "metadata": {
    "ExecuteTime": {
     "end_time": "2021-02-08T18:00:20.221419Z",
     "start_time": "2021-02-08T18:00:20.137622Z"
    }
   },
   "outputs": [
    {
     "data": {
      "text/latex": [
       "$\\displaystyle \\frac{\\sqrt[4]{\\omega_{2}} \\left(\\sqrt{2} c_{1} x e^{i \\omega_{2} t} + 2 c_{2} \\sqrt{\\omega_{2}} x y + e^{i t} e^{i \\omega_{2} t}\\right) e^{- \\frac{x^{2}}{2}} e^{- \\frac{3 i t}{2}} e^{- \\frac{\\omega_{2} y^{2}}{2}} e^{- \\frac{3 i \\omega_{2} t}{2}}}{\\sqrt{\\pi}}$"
      ],
      "text/plain": [
       "omega2**(1/4)*(sqrt(2)*c1*x*exp(I*omega2*t) + 2*c2*sqrt(omega2)*x*y + exp(I*t)*exp(I*omega2*t))*exp(-x**2/2)*exp(-3*I*t/2)*exp(-omega2*y**2/2)*exp(-3*I*omega2*t/2)/sqrt(pi)"
      ]
     },
     "execution_count": 18,
     "metadata": {},
     "output_type": "execute_result"
    }
   ],
   "source": [
    "Psi = Psi.factor()\n",
    "Psi"
   ]
  },
  {
   "cell_type": "code",
   "execution_count": 23,
   "metadata": {
    "ExecuteTime": {
     "end_time": "2021-02-08T18:02:08.725016Z",
     "start_time": "2021-02-08T18:02:08.715404Z"
    }
   },
   "outputs": [
    {
     "data": {
      "text/latex": [
       "$\\displaystyle \\frac{\\left(\\sqrt{2} c_{1} x e^{i t} + 2 c_{2} x y + e^{2 i t}\\right) e^{- \\frac{x^{2}}{2}} e^{- \\frac{y^{2}}{2}} e^{- 3 i t}}{\\sqrt{\\pi}}$"
      ],
      "text/plain": [
       "(sqrt(2)*c1*x*exp(I*t) + 2*c2*x*y + exp(2*I*t))*exp(-x**2/2)*exp(-y**2/2)*exp(-3*I*t)/sqrt(pi)"
      ]
     },
     "execution_count": 23,
     "metadata": {},
     "output_type": "execute_result"
    }
   ],
   "source": [
    "Psi.subs(omega2,1)"
   ]
  },
  {
   "cell_type": "markdown",
   "metadata": {},
   "source": [
    "# Compute nodal points"
   ]
  },
  {
   "cell_type": "markdown",
   "metadata": {},
   "source": [
    "Extract LHS factor"
   ]
  },
  {
   "cell_type": "code",
   "execution_count": 75,
   "metadata": {
    "ExecuteTime": {
     "end_time": "2021-01-13T23:40:11.754569Z",
     "start_time": "2021-01-13T23:40:11.742591Z"
    }
   },
   "outputs": [
    {
     "data": {
      "text/latex": [
       "$\\displaystyle \\sqrt{2} c_{1} x e^{\\frac{i t}{c^{2}}} \\left|{c}\\right| + 2 c_{2} x y + e^{i t} e^{\\frac{i t}{c^{2}}} \\left|{c}\\right|$"
      ],
      "text/plain": [
       "sqrt(2)*c1*x*exp(I*t/c**2)*Abs(c) + 2*c2*x*y + exp(I*t)*exp(I*t/c**2)*Abs(c)"
      ]
     },
     "execution_count": 75,
     "metadata": {},
     "output_type": "execute_result"
    }
   ],
   "source": [
    "factor_main = Psi.args[2]\n",
    "factor_main"
   ]
  },
  {
   "cell_type": "markdown",
   "metadata": {},
   "source": [
    "Rewrite $e^{it}$ using polar form"
   ]
  },
  {
   "cell_type": "code",
   "execution_count": 76,
   "metadata": {
    "ExecuteTime": {
     "end_time": "2021-01-13T23:40:13.737539Z",
     "start_time": "2021-01-13T23:40:12.958248Z"
    }
   },
   "outputs": [
    {
     "data": {
      "text/latex": [
       "$\\displaystyle \\sqrt{2} i c_{1} x \\sin{\\left(\\frac{t}{c^{2}} \\right)} \\left|{c}\\right| + \\sqrt{2} c_{1} x \\cos{\\left(\\frac{t}{c^{2}} \\right)} \\left|{c}\\right| + 2 c_{2} x y + i \\sin{\\left(t + \\frac{t}{c^{2}} \\right)} \\left|{c}\\right| + \\cos{\\left(t + \\frac{t}{c^{2}} \\right)} \\left|{c}\\right|$"
      ],
      "text/plain": [
       "sqrt(2)*I*c1*x*sin(t/c**2)*Abs(c) + sqrt(2)*c1*x*cos(t/c**2)*Abs(c) + 2*c2*x*y + I*sin(t + t/c**2)*Abs(c) + cos(t + t/c**2)*Abs(c)"
      ]
     },
     "execution_count": 76,
     "metadata": {},
     "output_type": "execute_result"
    }
   ],
   "source": [
    "expr = factor_main\n",
    "expr = expr.rewrite(sym.cos).expand()\n",
    "expr = expr.simplify()\n",
    "expr"
   ]
  },
  {
   "cell_type": "markdown",
   "metadata": {},
   "source": [
    "Extract REAL part"
   ]
  },
  {
   "cell_type": "code",
   "execution_count": 77,
   "metadata": {
    "ExecuteTime": {
     "end_time": "2021-01-13T23:40:18.168180Z",
     "start_time": "2021-01-13T23:40:18.149568Z"
    }
   },
   "outputs": [
    {
     "data": {
      "text/latex": [
       "$\\displaystyle \\sqrt{2} c_{1} x \\cos{\\left(\\frac{t}{c^{2}} \\right)} \\left|{c}\\right| + 2 c_{2} x y + \\cos{\\left(t + \\frac{t}{c^{2}} \\right)} \\left|{c}\\right|$"
      ],
      "text/plain": [
       "sqrt(2)*c1*x*cos(t/c**2)*Abs(c) + 2*c2*x*y + cos(t + t/c**2)*Abs(c)"
      ]
     },
     "execution_count": 77,
     "metadata": {},
     "output_type": "execute_result"
    }
   ],
   "source": [
    "expr_real = sym.re(expr)\n",
    "expr_real"
   ]
  },
  {
   "cell_type": "markdown",
   "metadata": {},
   "source": [
    "Extract IMAGINARY part"
   ]
  },
  {
   "cell_type": "code",
   "execution_count": 78,
   "metadata": {
    "ExecuteTime": {
     "end_time": "2021-01-13T23:40:18.168180Z",
     "start_time": "2021-01-13T23:40:18.149568Z"
    }
   },
   "outputs": [
    {
     "data": {
      "text/latex": [
       "$\\displaystyle \\sqrt{2} c_{1} x \\sin{\\left(\\frac{t}{c^{2}} \\right)} \\left|{c}\\right| + \\sin{\\left(t + \\frac{t}{c^{2}} \\right)} \\left|{c}\\right|$"
      ],
      "text/plain": [
       "sqrt(2)*c1*x*sin(t/c**2)*Abs(c) + sin(t + t/c**2)*Abs(c)"
      ]
     },
     "execution_count": 78,
     "metadata": {},
     "output_type": "execute_result"
    }
   ],
   "source": [
    "expr_im = sym.im(expr)\n",
    "expr_im"
   ]
  },
  {
   "cell_type": "markdown",
   "metadata": {},
   "source": [
    "SOLVE $x$ for nodal point"
   ]
  },
  {
   "cell_type": "code",
   "execution_count": 79,
   "metadata": {
    "ExecuteTime": {
     "end_time": "2021-01-13T23:40:19.873111Z",
     "start_time": "2021-01-13T23:40:19.676728Z"
    }
   },
   "outputs": [
    {
     "data": {
      "text/latex": [
       "$\\displaystyle - \\frac{\\sqrt{2} \\sin{\\left(t + \\frac{t}{c^{2}} \\right)}}{2 c_{1} \\sin{\\left(\\frac{t}{c^{2}} \\right)}}$"
      ],
      "text/plain": [
       "-sqrt(2)*sin(t + t/c**2)/(2*c1*sin(t/c**2))"
      ]
     },
     "execution_count": 79,
     "metadata": {},
     "output_type": "execute_result"
    }
   ],
   "source": [
    "x_nodal = sym.solve(expr_im, x)[0]\n",
    "x_nodal"
   ]
  },
  {
   "cell_type": "code",
   "execution_count": 80,
   "metadata": {
    "ExecuteTime": {
     "end_time": "2021-01-13T23:40:23.166606Z",
     "start_time": "2021-01-13T23:40:22.343522Z"
    }
   },
   "outputs": [
    {
     "data": {
      "text/latex": [
       "$\\displaystyle - \\frac{c_{1} \\sin{\\left(t \\right)} \\left|{c}\\right| + \\sqrt{2} c_{2} y \\sin{\\left(t + \\frac{t}{c^{2}} \\right)}}{c_{1} \\sin{\\left(\\frac{t}{c^{2}} \\right)}}$"
      ],
      "text/plain": [
       "-(c1*sin(t)*Abs(c) + sqrt(2)*c2*y*sin(t + t/c**2))/(c1*sin(t/c**2))"
      ]
     },
     "execution_count": 80,
     "metadata": {},
     "output_type": "execute_result"
    }
   ],
   "source": [
    "expr_real = expr_real.subs(x, x_nodal).simplify()\n",
    "expr_real"
   ]
  },
  {
   "cell_type": "markdown",
   "metadata": {
    "ExecuteTime": {
     "end_time": "2021-01-13T23:30:31.656101Z",
     "start_time": "2021-01-13T23:30:31.647326Z"
    }
   },
   "source": [
    "SOLVE $y$ for nodal point"
   ]
  },
  {
   "cell_type": "code",
   "execution_count": 81,
   "metadata": {
    "ExecuteTime": {
     "end_time": "2021-01-13T23:40:25.549837Z",
     "start_time": "2021-01-13T23:40:25.365379Z"
    }
   },
   "outputs": [
    {
     "data": {
      "text/latex": [
       "$\\displaystyle - \\frac{\\sqrt{2} c_{1} \\sin{\\left(t \\right)} \\left|{c}\\right|}{2 c_{2} \\sin{\\left(t + \\frac{t}{c^{2}} \\right)}}$"
      ],
      "text/plain": [
       "-sqrt(2)*c1*sin(t)*Abs(c)/(2*c2*sin(t + t/c**2))"
      ]
     },
     "execution_count": 81,
     "metadata": {},
     "output_type": "execute_result"
    }
   ],
   "source": [
    "y_nodal = sym.solve(expr_real, y)[0]\n",
    "y_nodal"
   ]
  },
  {
   "cell_type": "markdown",
   "metadata": {},
   "source": [
    "# Pilot-wave equations $\\omega_1 = 1$"
   ]
  },
  {
   "cell_type": "markdown",
   "metadata": {},
   "source": [
    "We want to work out\n",
    "\n",
    "\\begin{equation}\n",
    "m \\frac{d\\mathbf{r}}{dt} = \\hbar Im\\{ \\frac{\\nabla \\Psi}{\\Psi} \\}\n",
    "\\end{equation}"
   ]
  },
  {
   "cell_type": "code",
   "execution_count": 17,
   "metadata": {
    "ExecuteTime": {
     "end_time": "2021-01-15T10:25:39.680948Z",
     "start_time": "2021-01-15T10:25:39.678948Z"
    }
   },
   "outputs": [],
   "source": [
    "from sympy.vector import CoordSys3D, gradient\n",
    "r = CoordSys3D('r')"
   ]
  },
  {
   "cell_type": "code",
   "execution_count": 18,
   "metadata": {
    "ExecuteTime": {
     "end_time": "2021-01-15T10:25:40.100163Z",
     "start_time": "2021-01-15T10:25:40.091185Z"
    }
   },
   "outputs": [],
   "source": [
    "Psi = Psi.subs([(x, r.x), (y, r.y)])"
   ]
  },
  {
   "cell_type": "markdown",
   "metadata": {},
   "source": [
    "$\\nabla_{x,y} \\Psi = $"
   ]
  },
  {
   "cell_type": "code",
   "execution_count": 19,
   "metadata": {
    "ExecuteTime": {
     "end_time": "2021-01-15T10:25:40.964632Z",
     "start_time": "2021-01-15T10:25:40.921747Z"
    }
   },
   "outputs": [
    {
     "data": {
      "text/latex": [
       "$\\displaystyle (- \\frac{\\mathbf{{x}_{r}} \\left(2 \\mathbf{{x}_{r}} \\mathbf{{y}_{r}} c_{2} + \\sqrt{2} \\mathbf{{x}_{r}} c_{1} e^{\\frac{i t}{c^{2}}} \\left|{c}\\right| + e^{i t} e^{\\frac{i t}{c^{2}}} \\left|{c}\\right|\\right) e^{- \\frac{\\mathbf{{x}_{r}}^{2}}{2}} e^{- \\frac{\\mathbf{{y}_{r}}^{2}}{2 c^{2}}} e^{- \\frac{3 i t}{2}} e^{- \\frac{3 i t}{2 c^{2}}}}{\\sqrt{\\pi} \\left|{c}\\right|^{\\frac{3}{2}}} + \\frac{\\left(2 \\mathbf{{y}_{r}} c_{2} + \\sqrt{2} c_{1} e^{\\frac{i t}{c^{2}}} \\left|{c}\\right|\\right) e^{- \\frac{\\mathbf{{x}_{r}}^{2}}{2}} e^{- \\frac{\\mathbf{{y}_{r}}^{2}}{2 c^{2}}} e^{- \\frac{3 i t}{2}} e^{- \\frac{3 i t}{2 c^{2}}}}{\\sqrt{\\pi} \\left|{c}\\right|^{\\frac{3}{2}}})\\mathbf{\\hat{i}_{r}} + (\\frac{2 \\mathbf{{x}_{r}} c_{2} e^{- \\frac{\\mathbf{{x}_{r}}^{2}}{2}} e^{- \\frac{\\mathbf{{y}_{r}}^{2}}{2 c^{2}}} e^{- \\frac{3 i t}{2}} e^{- \\frac{3 i t}{2 c^{2}}}}{\\sqrt{\\pi} \\left|{c}\\right|^{\\frac{3}{2}}} - \\frac{\\mathbf{{y}_{r}} \\left(2 \\mathbf{{x}_{r}} \\mathbf{{y}_{r}} c_{2} + \\sqrt{2} \\mathbf{{x}_{r}} c_{1} e^{\\frac{i t}{c^{2}}} \\left|{c}\\right| + e^{i t} e^{\\frac{i t}{c^{2}}} \\left|{c}\\right|\\right) e^{- \\frac{\\mathbf{{x}_{r}}^{2}}{2}} e^{- \\frac{\\mathbf{{y}_{r}}^{2}}{2 c^{2}}} e^{- \\frac{3 i t}{2}} e^{- \\frac{3 i t}{2 c^{2}}}}{\\sqrt{\\pi} c^{2} \\left|{c}\\right|^{\\frac{3}{2}}})\\mathbf{\\hat{j}_{r}}$"
      ],
      "text/plain": [
       "(-r.x*(2*r.x*r.y*c2 + sqrt(2)*r.x*c1*exp(I*t/c**2)*Abs(c) + exp(I*t)*exp(I*t/c**2)*Abs(c))*exp(-r.x**2/2)*exp(-r.y**2/(2*c**2))*exp(-3*I*t/2)*exp(-3*I*t/(2*c**2))/(sqrt(pi)*Abs(c)**(3/2)) + (2*r.y*c2 + sqrt(2)*c1*exp(I*t/c**2)*Abs(c))*exp(-r.x**2/2)*exp(-r.y**2/(2*c**2))*exp(-3*I*t/2)*exp(-3*I*t/(2*c**2))/(sqrt(pi)*Abs(c)**(3/2)))*r.i + (2*r.x*c2*exp(-r.x**2/2)*exp(-r.y**2/(2*c**2))*exp(-3*I*t/2)*exp(-3*I*t/(2*c**2))/(sqrt(pi)*Abs(c)**(3/2)) - r.y*(2*r.x*r.y*c2 + sqrt(2)*r.x*c1*exp(I*t/c**2)*Abs(c) + exp(I*t)*exp(I*t/c**2)*Abs(c))*exp(-r.x**2/2)*exp(-r.y**2/(2*c**2))*exp(-3*I*t/2)*exp(-3*I*t/(2*c**2))/(sqrt(pi)*c**2*Abs(c)**(3/2)))*r.j"
      ]
     },
     "execution_count": 19,
     "metadata": {},
     "output_type": "execute_result"
    }
   ],
   "source": [
    "Del_Psi = gradient(Psi)\n",
    "Del_Psi"
   ]
  },
  {
   "cell_type": "markdown",
   "metadata": {},
   "source": [
    "Compute $$Im\\{ \\frac{\\nabla \\Psi}{\\Psi} \\}$$"
   ]
  },
  {
   "cell_type": "markdown",
   "metadata": {},
   "source": [
    "where $\\Psi = $"
   ]
  },
  {
   "cell_type": "code",
   "execution_count": 20,
   "metadata": {
    "ExecuteTime": {
     "end_time": "2021-01-15T10:31:15.709806Z",
     "start_time": "2021-01-15T10:31:15.701556Z"
    }
   },
   "outputs": [
    {
     "data": {
      "text/latex": [
       "$\\displaystyle \\frac{\\left(2 \\mathbf{{x}_{r}} \\mathbf{{y}_{r}} c_{2} + \\sqrt{2} \\mathbf{{x}_{r}} c_{1} e^{\\frac{i t}{c^{2}}} \\left|{c}\\right| + e^{i t} e^{\\frac{i t}{c^{2}}} \\left|{c}\\right|\\right) e^{- \\frac{\\mathbf{{x}_{r}}^{2}}{2}} e^{- \\frac{\\mathbf{{y}_{r}}^{2}}{2 c^{2}}} e^{- \\frac{3 i t}{2}} e^{- \\frac{3 i t}{2 c^{2}}}}{\\sqrt{\\pi} \\left|{c}\\right|^{\\frac{3}{2}}}$"
      ],
      "text/plain": [
       "(2*r.x*r.y*c2 + sqrt(2)*r.x*c1*exp(I*t/c**2)*Abs(c) + exp(I*t)*exp(I*t/c**2)*Abs(c))*exp(-r.x**2/2)*exp(-r.y**2/(2*c**2))*exp(-3*I*t/2)*exp(-3*I*t/(2*c**2))/(sqrt(pi)*Abs(c)**(3/2))"
      ]
     },
     "execution_count": 20,
     "metadata": {},
     "output_type": "execute_result"
    }
   ],
   "source": [
    "Psi"
   ]
  },
  {
   "cell_type": "markdown",
   "metadata": {},
   "source": [
    "https://mathworld.wolfram.com/ComplexDivision.html"
   ]
  },
  {
   "cell_type": "markdown",
   "metadata": {},
   "source": [
    "Division in polar form of two complex numbers $z_1$ and $z_2$ in polar form\n",
    "\n",
    "\n",
    "\\begin{align*}\n",
    "z_1 = r_1(cos \\phi_1 + i sin \\phi_1)\\\\\n",
    "z_2 = r_2(cos \\phi_2 + i sin \\phi_2)\n",
    "\\end{align*}\n",
    "\n",
    "then, taking the \n",
    "\n",
    "\\begin{equation*}\n",
    "\\frac{z_1}{z_2} = \\frac{r_1}{r_2} (cos(\\phi_1 - \\phi_2) + i sin(\\phi_1 - \\phi_2))\n",
    "\\end{equation*}\n",
    "\n",
    "Then,\n",
    "\n",
    "\\begin{equation*}\n",
    "Im\\{ \\frac{z_1}{z_2} \\} = \\frac{r_1}{r_2} sin(\\phi_1 - \\phi_2)\n",
    "\\end{equation*}\n",
    "\n",
    "\n",
    "SOURCE https://en.wikipedia.org/wiki/Complex_number#Reciprocal_and_division "
   ]
  },
  {
   "cell_type": "markdown",
   "metadata": {},
   "source": [
    "<span style=\"color:red\"><b>NOTE : Conitnue with this</b></span> Michael defined D as the square module of $\\Psi$. Then, we take \n",
    "\n",
    "$$\\frac{\\bar{\\Psi} \\nabla \\Psi}{\\bar{\\Psi} \\Psi}$$"
   ]
  },
  {
   "cell_type": "code",
   "execution_count": 21,
   "metadata": {
    "ExecuteTime": {
     "end_time": "2021-01-15T10:32:08.044990Z",
     "start_time": "2021-01-15T10:32:08.013370Z"
    }
   },
   "outputs": [
    {
     "data": {
      "text/latex": [
       "$\\displaystyle (\\frac{\\sqrt{\\pi} \\left(- \\frac{\\mathbf{{x}_{r}} \\left(2 \\mathbf{{x}_{r}} \\mathbf{{y}_{r}} c_{2} + \\sqrt{2} \\mathbf{{x}_{r}} c_{1} e^{\\frac{i t}{c^{2}}} \\left|{c}\\right| + e^{i t} e^{\\frac{i t}{c^{2}}} \\left|{c}\\right|\\right) e^{- \\frac{\\mathbf{{x}_{r}}^{2}}{2}} e^{- \\frac{\\mathbf{{y}_{r}}^{2}}{2 c^{2}}} e^{- \\frac{3 i t}{2}} e^{- \\frac{3 i t}{2 c^{2}}}}{\\sqrt{\\pi} \\left|{c}\\right|^{\\frac{3}{2}}} + \\frac{\\left(2 \\mathbf{{y}_{r}} c_{2} + \\sqrt{2} c_{1} e^{\\frac{i t}{c^{2}}} \\left|{c}\\right|\\right) e^{- \\frac{\\mathbf{{x}_{r}}^{2}}{2}} e^{- \\frac{\\mathbf{{y}_{r}}^{2}}{2 c^{2}}} e^{- \\frac{3 i t}{2}} e^{- \\frac{3 i t}{2 c^{2}}}}{\\sqrt{\\pi} \\left|{c}\\right|^{\\frac{3}{2}}}\\right) e^{\\frac{\\mathbf{{x}_{r}}^{2}}{2}} e^{\\frac{\\mathbf{{y}_{r}}^{2}}{2 c^{2}}} e^{\\frac{3 i t}{2}} e^{\\frac{3 i t}{2 c^{2}}} \\left|{c}\\right|^{\\frac{3}{2}}}{2 \\mathbf{{x}_{r}} \\mathbf{{y}_{r}} c_{2} + \\sqrt{2} \\mathbf{{x}_{r}} c_{1} e^{\\frac{i t}{c^{2}}} \\left|{c}\\right| + e^{i t} e^{\\frac{i t}{c^{2}}} \\left|{c}\\right|})\\mathbf{\\hat{i}_{r}} + (\\frac{\\sqrt{\\pi} \\left(\\frac{2 \\mathbf{{x}_{r}} c_{2} e^{- \\frac{\\mathbf{{x}_{r}}^{2}}{2}} e^{- \\frac{\\mathbf{{y}_{r}}^{2}}{2 c^{2}}} e^{- \\frac{3 i t}{2}} e^{- \\frac{3 i t}{2 c^{2}}}}{\\sqrt{\\pi} \\left|{c}\\right|^{\\frac{3}{2}}} - \\frac{\\mathbf{{y}_{r}} \\left(2 \\mathbf{{x}_{r}} \\mathbf{{y}_{r}} c_{2} + \\sqrt{2} \\mathbf{{x}_{r}} c_{1} e^{\\frac{i t}{c^{2}}} \\left|{c}\\right| + e^{i t} e^{\\frac{i t}{c^{2}}} \\left|{c}\\right|\\right) e^{- \\frac{\\mathbf{{x}_{r}}^{2}}{2}} e^{- \\frac{\\mathbf{{y}_{r}}^{2}}{2 c^{2}}} e^{- \\frac{3 i t}{2}} e^{- \\frac{3 i t}{2 c^{2}}}}{\\sqrt{\\pi} c^{2} \\left|{c}\\right|^{\\frac{3}{2}}}\\right) e^{\\frac{\\mathbf{{x}_{r}}^{2}}{2}} e^{\\frac{\\mathbf{{y}_{r}}^{2}}{2 c^{2}}} e^{\\frac{3 i t}{2}} e^{\\frac{3 i t}{2 c^{2}}} \\left|{c}\\right|^{\\frac{3}{2}}}{2 \\mathbf{{x}_{r}} \\mathbf{{y}_{r}} c_{2} + \\sqrt{2} \\mathbf{{x}_{r}} c_{1} e^{\\frac{i t}{c^{2}}} \\left|{c}\\right| + e^{i t} e^{\\frac{i t}{c^{2}}} \\left|{c}\\right|})\\mathbf{\\hat{j}_{r}}$"
      ],
      "text/plain": [
       "(sqrt(pi)*(-r.x*(2*r.x*r.y*c2 + sqrt(2)*r.x*c1*exp(I*t/c**2)*Abs(c) + exp(I*t)*exp(I*t/c**2)*Abs(c))*exp(-r.x**2/2)*exp(-r.y**2/(2*c**2))*exp(-3*I*t/2)*exp(-3*I*t/(2*c**2))/(sqrt(pi)*Abs(c)**(3/2)) + (2*r.y*c2 + sqrt(2)*c1*exp(I*t/c**2)*Abs(c))*exp(-r.x**2/2)*exp(-r.y**2/(2*c**2))*exp(-3*I*t/2)*exp(-3*I*t/(2*c**2))/(sqrt(pi)*Abs(c)**(3/2)))*exp(r.x**2/2)*exp(r.y**2/(2*c**2))*exp(3*I*t/2)*exp(3*I*t/(2*c**2))*Abs(c)**(3/2)/(2*r.x*r.y*c2 + sqrt(2)*r.x*c1*exp(I*t/c**2)*Abs(c) + exp(I*t)*exp(I*t/c**2)*Abs(c)))*r.i + (sqrt(pi)*(2*r.x*c2*exp(-r.x**2/2)*exp(-r.y**2/(2*c**2))*exp(-3*I*t/2)*exp(-3*I*t/(2*c**2))/(sqrt(pi)*Abs(c)**(3/2)) - r.y*(2*r.x*r.y*c2 + sqrt(2)*r.x*c1*exp(I*t/c**2)*Abs(c) + exp(I*t)*exp(I*t/c**2)*Abs(c))*exp(-r.x**2/2)*exp(-r.y**2/(2*c**2))*exp(-3*I*t/2)*exp(-3*I*t/(2*c**2))/(sqrt(pi)*c**2*Abs(c)**(3/2)))*exp(r.x**2/2)*exp(r.y**2/(2*c**2))*exp(3*I*t/2)*exp(3*I*t/(2*c**2))*Abs(c)**(3/2)/(2*r.x*r.y*c2 + sqrt(2)*r.x*c1*exp(I*t/c**2)*Abs(c) + exp(I*t)*exp(I*t/c**2)*Abs(c)))*r.j"
      ]
     },
     "execution_count": 21,
     "metadata": {},
     "output_type": "execute_result"
    }
   ],
   "source": [
    "expr = Del_Psi/Psi\n",
    "expr"
   ]
  },
  {
   "cell_type": "code",
   "execution_count": 24,
   "metadata": {
    "ExecuteTime": {
     "end_time": "2021-01-15T10:35:34.585680Z",
     "start_time": "2021-01-15T10:35:34.290623Z"
    }
   },
   "outputs": [
    {
     "data": {
      "text/latex": [
       "$\\displaystyle (\\frac{- \\mathbf{{x}_{r}} \\left(2 \\mathbf{{x}_{r}} \\mathbf{{y}_{r}} c_{2} + \\sqrt{2} \\mathbf{{x}_{r}} c_{1} e^{\\frac{i t}{c^{2}}} \\left|{c}\\right| + e^{i t \\left(1 + \\frac{1}{c^{2}}\\right)} \\left|{c}\\right|\\right) + 2 \\mathbf{{y}_{r}} c_{2} + \\sqrt{2} c_{1} e^{\\frac{i t}{c^{2}}} \\left|{c}\\right|}{2 \\mathbf{{x}_{r}} \\mathbf{{y}_{r}} c_{2} + \\sqrt{2} \\mathbf{{x}_{r}} c_{1} e^{\\frac{i t}{c^{2}}} \\left|{c}\\right| + e^{i t + \\frac{i t}{c^{2}}} \\left|{c}\\right|})\\mathbf{\\hat{i}_{r}}$"
      ],
      "text/plain": [
       "((-r.x*(2*r.x*r.y*c2 + sqrt(2)*r.x*c1*exp(I*t/c**2)*Abs(c) + exp(I*t*(1 + c**(-2)))*Abs(c)) + 2*r.y*c2 + sqrt(2)*c1*exp(I*t/c**2)*Abs(c))/(2*r.x*r.y*c2 + sqrt(2)*r.x*c1*exp(I*t/c**2)*Abs(c) + exp(I*t + I*t/c**2)*Abs(c)))*r.i"
      ]
     },
     "execution_count": 24,
     "metadata": {},
     "output_type": "execute_result"
    }
   ],
   "source": [
    "dx_dt = expr.args[0].simplify()\n",
    "dx_dt"
   ]
  },
  {
   "cell_type": "code",
   "execution_count": 38,
   "metadata": {
    "ExecuteTime": {
     "end_time": "2021-01-15T10:38:24.660486Z",
     "start_time": "2021-01-15T10:38:24.651359Z"
    }
   },
   "outputs": [
    {
     "data": {
      "text/plain": [
       "False"
      ]
     },
     "execution_count": 38,
     "metadata": {},
     "output_type": "execute_result"
    }
   ],
   "source": []
  },
  {
   "cell_type": "code",
   "execution_count": 25,
   "metadata": {
    "ExecuteTime": {
     "end_time": "2021-01-15T10:35:42.805587Z",
     "start_time": "2021-01-15T10:35:42.375259Z"
    }
   },
   "outputs": [
    {
     "data": {
      "text/latex": [
       "$\\displaystyle (\\frac{- 2 \\mathbf{{x}_{r}} \\mathbf{{y}_{r}}^{2} c_{2} - \\sqrt{2} \\mathbf{{x}_{r}} \\mathbf{{y}_{r}} c_{1} e^{\\frac{i t}{c^{2}}} \\left|{c}\\right| + 2 \\mathbf{{x}_{r}} c^{2} c_{2} - \\mathbf{{y}_{r}} e^{i t + \\frac{i t}{c^{2}}} \\left|{c}\\right|}{c^{2} \\left(2 \\mathbf{{x}_{r}} \\mathbf{{y}_{r}} c_{2} + \\sqrt{2} \\mathbf{{x}_{r}} c_{1} e^{\\frac{i t}{c^{2}}} \\left|{c}\\right| + e^{i t + \\frac{i t}{c^{2}}} \\left|{c}\\right|\\right)})\\mathbf{\\hat{j}_{r}}$"
      ],
      "text/plain": [
       "((-2*r.x*r.y**2*c2 - sqrt(2)*r.x*r.y*c1*exp(I*t/c**2)*Abs(c) + 2*r.x*c**2*c2 - r.y*exp(I*t + I*t/c**2)*Abs(c))/(c**2*(2*r.x*r.y*c2 + sqrt(2)*r.x*c1*exp(I*t/c**2)*Abs(c) + exp(I*t + I*t/c**2)*Abs(c))))*r.j"
      ]
     },
     "execution_count": 25,
     "metadata": {},
     "output_type": "execute_result"
    }
   ],
   "source": [
    "dy_dt = expr.args[1].simplify()\n",
    "dy_dt"
   ]
  },
  {
   "cell_type": "code",
   "execution_count": 46,
   "metadata": {
    "ExecuteTime": {
     "end_time": "2021-01-15T10:43:40.294784Z",
     "start_time": "2021-01-15T10:43:40.270738Z"
    }
   },
   "outputs": [
    {
     "data": {
      "text/latex": [
       "$\\displaystyle \\frac{\\left(2 \\mathbf{{x}_{r}} \\mathbf{{y}_{r}} c_{2} + \\sqrt{2} \\mathbf{{x}_{r}} c_{1} e^{\\frac{i t}{c^{2}}} \\left|{c}\\right| + e^{i t} e^{\\frac{i t}{c^{2}}} \\left|{c}\\right|\\right) \\left(\\sqrt{2} c_{1} e^{- \\frac{i t}{c^{2}}} \\overline{\\mathbf{{x}_{r}}} \\left|{c}\\right| + 2 c_{2} \\overline{\\mathbf{{x}_{r}}} \\overline{\\mathbf{{y}_{r}}} + e^{- i t} e^{- \\frac{i t}{c^{2}}} \\left|{c}\\right|\\right) e^{- \\frac{\\mathbf{{x}_{r}}^{2}}{2}} e^{- \\frac{\\mathbf{{y}_{r}}^{2}}{2 c^{2}}} e^{- \\frac{\\overline{\\mathbf{{y}_{r}}}^{2}}{2 c^{2}}} e^{- \\frac{\\overline{\\mathbf{{x}_{r}}}^{2}}{2}} \\overline{\\frac{1}{\\left|{c}\\right|^{\\frac{3}{2}}}}}{\\pi \\left|{c}\\right|^{\\frac{3}{2}}}$"
      ],
      "text/plain": [
       "(2*r.x*r.y*c2 + sqrt(2)*r.x*c1*exp(I*t/c**2)*Abs(c) + exp(I*t)*exp(I*t/c**2)*Abs(c))*(sqrt(2)*c1*exp(-I*t/c**2)*conjugate(r.x)*Abs(c) + 2*c2*conjugate(r.x)*conjugate(r.y) + exp(-I*t)*exp(-I*t/c**2)*Abs(c))*exp(-r.x**2/2)*exp(-r.y**2/(2*c**2))*exp(-conjugate(r.y)**2/(2*c**2))*exp(-conjugate(r.x)**2/2)*conjugate(Abs(c)**(-3/2))/(pi*Abs(c)**(3/2))"
      ]
     },
     "execution_count": 46,
     "metadata": {},
     "output_type": "execute_result"
    }
   ],
   "source": [
    "Psi*Psi.conjugate()"
   ]
  },
  {
   "cell_type": "markdown",
   "metadata": {},
   "source": [
    "__ATTEMPT__ Try expanded form of $\\Psi$ as sum of wavefunctions and compute its square module."
   ]
  },
  {
   "cell_type": "code",
   "execution_count": 86,
   "metadata": {
    "ExecuteTime": {
     "end_time": "2021-01-15T11:34:05.445795Z",
     "start_time": "2021-01-15T11:34:05.434165Z"
    }
   },
   "outputs": [
    {
     "data": {
      "text/latex": [
       "$\\displaystyle \\frac{\\sqrt{2} c_{1} x e^{- i t \\left(\\frac{3}{2} + \\frac{1}{2 c^{2}}\\right)} e^{- \\frac{x^{2}}{2} - \\frac{y^{2}}{2 c^{2}}}}{\\sqrt{\\pi} \\sqrt{\\left|{c}\\right|}} + \\frac{2 c_{2} x y e^{- i t \\left(\\frac{3}{2} + \\frac{3}{2 c^{2}}\\right)} e^{- \\frac{x^{2}}{2} - \\frac{y^{2}}{2 c^{2}}}}{\\sqrt{\\pi} \\left|{c}\\right|^{\\frac{3}{2}}} + \\frac{e^{- i t \\left(\\frac{1}{2} + \\frac{1}{2 c^{2}}\\right)} e^{- \\frac{x^{2}}{2} - \\frac{y^{2}}{2 c^{2}}}}{\\sqrt{\\pi} \\sqrt{\\left|{c}\\right|}}$"
      ],
      "text/plain": [
       "sqrt(2)*c1*x*exp(-I*t*(3/2 + 1/(2*c**2)))*exp(-x**2/2 - y**2/(2*c**2))/(sqrt(pi)*sqrt(Abs(c))) + 2*c2*x*y*exp(-I*t*(3/2 + 3/(2*c**2)))*exp(-x**2/2 - y**2/(2*c**2))/(sqrt(pi)*Abs(c)**(3/2)) + exp(-I*t*(1/2 + 1/(2*c**2)))*exp(-x**2/2 - y**2/(2*c**2))/(sqrt(pi)*sqrt(Abs(c)))"
      ]
     },
     "execution_count": 86,
     "metadata": {},
     "output_type": "execute_result"
    }
   ],
   "source": [
    "Psi"
   ]
  },
  {
   "cell_type": "markdown",
   "metadata": {},
   "source": [
    "<span style=\"color:red\"><b>CONTINUE HERE</b></span>"
   ]
  },
  {
   "cell_type": "code",
   "execution_count": 88,
   "metadata": {
    "ExecuteTime": {
     "end_time": "2021-01-15T11:34:25.979119Z",
     "start_time": "2021-01-15T11:34:25.954181Z"
    }
   },
   "outputs": [
    {
     "data": {
      "text/latex": [
       "$\\displaystyle \\frac{2 c_{1}^{2} x^{2} e^{- x^{2}} e^{- \\frac{y^{2}}{c^{2}}} \\overline{\\frac{1}{\\sqrt{\\left|{c}\\right|}}}}{\\pi \\sqrt{\\left|{c}\\right|}} + \\frac{2 \\sqrt{2} c_{1} c_{2} x^{2} y e^{- x^{2}} e^{- \\frac{y^{2}}{c^{2}}} e^{\\frac{i t}{c^{2}}} \\overline{\\frac{1}{\\left|{c}\\right|^{\\frac{3}{2}}}}}{\\pi \\sqrt{\\left|{c}\\right|}} + \\frac{2 \\sqrt{2} c_{1} c_{2} x^{2} y e^{- x^{2}} e^{- \\frac{y^{2}}{c^{2}}} e^{- \\frac{i t}{c^{2}}} \\overline{\\frac{1}{\\sqrt{\\left|{c}\\right|}}}}{\\pi \\left|{c}\\right|^{\\frac{3}{2}}} + \\frac{\\sqrt{2} c_{1} x e^{- x^{2}} e^{i t} e^{- \\frac{y^{2}}{c^{2}}} \\overline{\\frac{1}{\\sqrt{\\left|{c}\\right|}}}}{\\pi \\sqrt{\\left|{c}\\right|}} + \\frac{\\sqrt{2} c_{1} x e^{- x^{2}} e^{- i t} e^{- \\frac{y^{2}}{c^{2}}} \\overline{\\frac{1}{\\sqrt{\\left|{c}\\right|}}}}{\\pi \\sqrt{\\left|{c}\\right|}} + \\frac{4 c_{2}^{2} x^{2} y^{2} e^{- x^{2}} e^{- \\frac{y^{2}}{c^{2}}} \\overline{\\frac{1}{\\left|{c}\\right|^{\\frac{3}{2}}}}}{\\pi \\left|{c}\\right|^{\\frac{3}{2}}} + \\frac{2 c_{2} x y e^{- x^{2}} e^{i t} e^{- \\frac{y^{2}}{c^{2}}} e^{\\frac{i t}{c^{2}}} \\overline{\\frac{1}{\\left|{c}\\right|^{\\frac{3}{2}}}}}{\\pi \\sqrt{\\left|{c}\\right|}} + \\frac{2 c_{2} x y e^{- x^{2}} e^{- i t} e^{- \\frac{y^{2}}{c^{2}}} e^{- \\frac{i t}{c^{2}}} \\overline{\\frac{1}{\\sqrt{\\left|{c}\\right|}}}}{\\pi \\left|{c}\\right|^{\\frac{3}{2}}} + \\frac{e^{- x^{2}} e^{- \\frac{y^{2}}{c^{2}}} \\overline{\\frac{1}{\\sqrt{\\left|{c}\\right|}}}}{\\pi \\sqrt{\\left|{c}\\right|}}$"
      ],
      "text/plain": [
       "2*c1**2*x**2*exp(-x**2)*exp(-y**2/c**2)*conjugate(1/sqrt(Abs(c)))/(pi*sqrt(Abs(c))) + 2*sqrt(2)*c1*c2*x**2*y*exp(-x**2)*exp(-y**2/c**2)*exp(I*t/c**2)*conjugate(Abs(c)**(-3/2))/(pi*sqrt(Abs(c))) + 2*sqrt(2)*c1*c2*x**2*y*exp(-x**2)*exp(-y**2/c**2)*exp(-I*t/c**2)*conjugate(1/sqrt(Abs(c)))/(pi*Abs(c)**(3/2)) + sqrt(2)*c1*x*exp(-x**2)*exp(I*t)*exp(-y**2/c**2)*conjugate(1/sqrt(Abs(c)))/(pi*sqrt(Abs(c))) + sqrt(2)*c1*x*exp(-x**2)*exp(-I*t)*exp(-y**2/c**2)*conjugate(1/sqrt(Abs(c)))/(pi*sqrt(Abs(c))) + 4*c2**2*x**2*y**2*exp(-x**2)*exp(-y**2/c**2)*conjugate(Abs(c)**(-3/2))/(pi*Abs(c)**(3/2)) + 2*c2*x*y*exp(-x**2)*exp(I*t)*exp(-y**2/c**2)*exp(I*t/c**2)*conjugate(Abs(c)**(-3/2))/(pi*sqrt(Abs(c))) + 2*c2*x*y*exp(-x**2)*exp(-I*t)*exp(-y**2/c**2)*exp(-I*t/c**2)*conjugate(1/sqrt(Abs(c)))/(pi*Abs(c)**(3/2)) + exp(-x**2)*exp(-y**2/c**2)*conjugate(1/sqrt(Abs(c)))/(pi*sqrt(Abs(c)))"
      ]
     },
     "execution_count": 88,
     "metadata": {},
     "output_type": "execute_result"
    }
   ],
   "source": [
    "Psi_sqr = Psi*Psi.conjugate()\n",
    "Psi_sqr = Psi_sqr.expand()\n",
    "Psi_sqr"
   ]
  },
  {
   "cell_type": "markdown",
   "metadata": {},
   "source": [
    "__NOT WORKING__ (Don't continue)"
   ]
  },
  {
   "cell_type": "code",
   "execution_count": 92,
   "metadata": {
    "ExecuteTime": {
     "end_time": "2021-01-15T11:37:46.504850Z",
     "start_time": "2021-01-15T11:37:45.459506Z"
    }
   },
   "outputs": [
    {
     "data": {
      "text/latex": [
       "$\\displaystyle \\frac{\\left(2 \\sqrt{2} c^{2} c_{1} c_{2} x^{2} y e^{i t} + 2 \\sqrt{2} c^{2} c_{1} c_{2} x^{2} y e^{i t \\left(1 + \\frac{2}{c^{2}}\\right)} + 2 c^{2} c_{2} x y e^{2 i t \\left(1 + \\frac{1}{c^{2}}\\right)} + 2 c^{2} c_{2} x y + 2 c_{1}^{2} x^{2} e^{i t \\left(1 + \\frac{1}{c^{2}}\\right)} \\left|{c^{\\frac{3}{2}}}\\right|^{2} + \\sqrt{2} c_{1} x e^{\\frac{i t}{c^{2}}} \\left|{c^{\\frac{3}{2}}}\\right|^{2} + \\sqrt{2} c_{1} x e^{i t \\left(2 + \\frac{1}{c^{2}}\\right)} \\left|{c^{\\frac{3}{2}}}\\right|^{2} + 4 c_{2}^{2} x^{2} y^{2} e^{i t \\left(1 + \\frac{1}{c^{2}}\\right)} \\left|{\\sqrt{c}}\\right|^{2} + e^{i t \\left(1 + \\frac{1}{c^{2}}\\right)} \\left|{c^{\\frac{3}{2}}}\\right|^{2}\\right) e^{- i t - x^{2} - \\frac{i t}{c^{2}} - \\frac{y^{2}}{c^{2}}}}{\\pi c^{4}}$"
      ],
      "text/plain": [
       "(2*sqrt(2)*c**2*c1*c2*x**2*y*exp(I*t) + 2*sqrt(2)*c**2*c1*c2*x**2*y*exp(I*t*(1 + 2/c**2)) + 2*c**2*c2*x*y*exp(2*I*t*(1 + c**(-2))) + 2*c**2*c2*x*y + 2*c1**2*x**2*exp(I*t*(1 + c**(-2)))*Abs(c**(3/2))**2 + sqrt(2)*c1*x*exp(I*t/c**2)*Abs(c**(3/2))**2 + sqrt(2)*c1*x*exp(I*t*(2 + c**(-2)))*Abs(c**(3/2))**2 + 4*c2**2*x**2*y**2*exp(I*t*(1 + c**(-2)))*Abs(sqrt(c))**2 + exp(I*t*(1 + c**(-2)))*Abs(c**(3/2))**2)*exp(-I*t - x**2 - I*t/c**2 - y**2/c**2)/(pi*c**4)"
      ]
     },
     "execution_count": 92,
     "metadata": {},
     "output_type": "execute_result"
    }
   ],
   "source": [
    "Psi_sqr.simplify()"
   ]
  },
  {
   "cell_type": "markdown",
   "metadata": {},
   "source": [
    "# Pilot-Wave equations $\\omega_1 \\neq 1$"
   ]
  },
  {
   "cell_type": "code",
   "execution_count": 1,
   "metadata": {
    "ExecuteTime": {
     "end_time": "2021-08-03T14:38:39.557535Z",
     "start_time": "2021-08-03T14:38:39.287820Z"
    }
   },
   "outputs": [],
   "source": [
    "import sympy as sym"
   ]
  },
  {
   "cell_type": "code",
   "execution_count": 2,
   "metadata": {
    "ExecuteTime": {
     "end_time": "2021-08-03T14:38:40.222005Z",
     "start_time": "2021-08-03T14:38:40.218907Z"
    }
   },
   "outputs": [],
   "source": [
    "x, y = sym.symbols('x y', real=True)"
   ]
  },
  {
   "cell_type": "code",
   "execution_count": 3,
   "metadata": {
    "ExecuteTime": {
     "end_time": "2021-08-03T14:38:41.549179Z",
     "start_time": "2021-08-03T14:38:41.546580Z"
    }
   },
   "outputs": [],
   "source": [
    "h = sym.Symbol('hbar')\n",
    "omega1 = sym.Symbol('omega1', real=True)\n",
    "omega2 = sym.Symbol('omega2', real=True)\n",
    "n1 = sym.Symbol('n1')\n",
    "n2 = sym.Symbol('n2')"
   ]
  },
  {
   "cell_type": "code",
   "execution_count": 4,
   "metadata": {
    "ExecuteTime": {
     "end_time": "2021-08-03T14:38:42.199788Z",
     "start_time": "2021-08-03T14:38:42.192267Z"
    }
   },
   "outputs": [],
   "source": [
    "e = sym.exp\n",
    "t = sym.Symbol('t', real=True)\n",
    "c = sym.Symbol('c', real=True)"
   ]
  },
  {
   "cell_type": "code",
   "execution_count": 5,
   "metadata": {
    "ExecuteTime": {
     "end_time": "2021-08-03T14:38:44.111263Z",
     "start_time": "2021-08-03T14:38:43.940059Z"
    }
   },
   "outputs": [
    {
     "data": {
      "text/latex": [
       "$\\displaystyle \\hbar \\left(\\omega_{1} \\left(n_{1} + \\frac{1}{2}\\right) + \\omega_{2} \\left(n_{2} + \\frac{1}{2}\\right)\\right)$"
      ],
      "text/plain": [
       "hbar*(omega1*(n1 + 1/2) + omega2*(n2 + 1/2))"
      ]
     },
     "execution_count": 5,
     "metadata": {},
     "output_type": "execute_result"
    }
   ],
   "source": [
    "E_n1n2 = h*( (sym.Rational(1/2) + n1)*omega1 + (sym.Rational(1/2) + n2)*omega2 )\n",
    "E_n1n2"
   ]
  },
  {
   "cell_type": "code",
   "execution_count": 6,
   "metadata": {
    "ExecuteTime": {
     "end_time": "2021-08-03T14:38:45.383968Z",
     "start_time": "2021-08-03T14:38:45.379087Z"
    }
   },
   "outputs": [
    {
     "data": {
      "text/latex": [
       "$\\displaystyle \\omega_{1} \\left(n_{1} + \\frac{1}{2}\\right) + \\omega_{2} \\left(n_{2} + \\frac{1}{2}\\right)$"
      ],
      "text/plain": [
       "omega1*(n1 + 1/2) + omega2*(n2 + 1/2)"
      ]
     },
     "execution_count": 6,
     "metadata": {},
     "output_type": "execute_result"
    }
   ],
   "source": [
    "E_n1n2 = E_n1n2.subs(h,1)\n",
    "E_n1n2"
   ]
  },
  {
   "cell_type": "markdown",
   "metadata": {},
   "source": [
    "Eigenfunctions "
   ]
  },
  {
   "cell_type": "code",
   "execution_count": 7,
   "metadata": {
    "ExecuteTime": {
     "end_time": "2021-08-03T14:38:50.390102Z",
     "start_time": "2021-08-03T14:38:50.386637Z"
    }
   },
   "outputs": [],
   "source": [
    "def psi_n1n2(n1_val, n2_val):\n",
    "    C_n1n2_numerator = (omega1*omega2)**(sym.Rational(1/4))\n",
    "    C_n1n2_divider = sym.sqrt(sym.pi* sym.factorial(n1) * sym.factorial(n2)* 2**(n1+n2))\n",
    "    C_n1n2 = C_n1n2_numerator/C_n1n2_divider\n",
    "    H_n1 = sym.hermite_poly(n1_val, sym.sqrt(omega1)*x)\n",
    "    H_n2 = sym.hermite_poly(n2_val, sym.sqrt(omega2)*y)\n",
    "    expfunc1 = sym.exp(-sym.I*E_n1n2*t)\n",
    "    expfunc2 = sym.exp(-sym.Rational(1/2)*(omega1*x**2 + omega2*y**2))\n",
    "    product = C_n1n2*expfunc1*expfunc2\n",
    "    psi_n1n2 = product.subs([(n1, n1_val),(n2, n2_val)])*H_n1*H_n2\n",
    "    return psi_n1n2"
   ]
  },
  {
   "cell_type": "markdown",
   "metadata": {},
   "source": [
    "Wave function"
   ]
  },
  {
   "cell_type": "code",
   "execution_count": 8,
   "metadata": {
    "ExecuteTime": {
     "end_time": "2021-08-03T14:39:00.942420Z",
     "start_time": "2021-08-03T14:39:00.937318Z"
    }
   },
   "outputs": [],
   "source": [
    "c1 = sym.symbols('c1', real=True)\n",
    "c2 = sym.symbols('c2', real=True)"
   ]
  },
  {
   "cell_type": "markdown",
   "metadata": {},
   "source": [
    "## CASE 2"
   ]
  },
  {
   "cell_type": "markdown",
   "metadata": {},
   "source": [
    "### Wave function"
   ]
  },
  {
   "cell_type": "markdown",
   "metadata": {},
   "source": [
    "$\\Psi(x,y,t) = \\psi_{0,0} + c_1 \\psi_{1,0}$"
   ]
  },
  {
   "cell_type": "code",
   "execution_count": 110,
   "metadata": {
    "ExecuteTime": {
     "end_time": "2021-08-04T13:36:05.962743Z",
     "start_time": "2021-08-04T13:36:05.950689Z"
    }
   },
   "outputs": [
    {
     "data": {
      "text/latex": [
       "$\\displaystyle \\frac{\\sqrt{2} c_{1} \\sqrt{\\omega_{1}} x \\sqrt[4]{\\omega_{1} \\omega_{2}} e^{- i t \\left(\\frac{3 \\omega_{1}}{2} + \\frac{\\omega_{2}}{2}\\right)} e^{- \\frac{\\omega_{1} x^{2}}{2} - \\frac{\\omega_{2} y^{2}}{2}}}{\\sqrt{\\pi}} + \\frac{\\sqrt[4]{\\omega_{1} \\omega_{2}} e^{- i t \\left(\\frac{\\omega_{1}}{2} + \\frac{\\omega_{2}}{2}\\right)} e^{- \\frac{\\omega_{1} x^{2}}{2} - \\frac{\\omega_{2} y^{2}}{2}}}{\\sqrt{\\pi}}$"
      ],
      "text/plain": [
       "sqrt(2)*c1*sqrt(omega1)*x*(omega1*omega2)**(1/4)*exp(-I*t*(3*omega1/2 + omega2/2))*exp(-omega1*x**2/2 - omega2*y**2/2)/sqrt(pi) + (omega1*omega2)**(1/4)*exp(-I*t*(omega1/2 + omega2/2))*exp(-omega1*x**2/2 - omega2*y**2/2)/sqrt(pi)"
      ]
     },
     "execution_count": 110,
     "metadata": {},
     "output_type": "execute_result"
    }
   ],
   "source": [
    "Psi = psi_n1n2(0,0) + c1*psi_n1n2(1,0)\n",
    "Psi"
   ]
  },
  {
   "cell_type": "markdown",
   "metadata": {},
   "source": [
    "Transform to vector "
   ]
  },
  {
   "cell_type": "code",
   "execution_count": 111,
   "metadata": {
    "ExecuteTime": {
     "end_time": "2021-08-04T13:36:07.167773Z",
     "start_time": "2021-08-04T13:36:07.165666Z"
    }
   },
   "outputs": [],
   "source": [
    "from sympy.vector import CoordSys3D, gradient\n",
    "r = CoordSys3D('r')"
   ]
  },
  {
   "cell_type": "code",
   "execution_count": 112,
   "metadata": {
    "ExecuteTime": {
     "end_time": "2021-08-04T13:36:07.650936Z",
     "start_time": "2021-08-04T13:36:07.648339Z"
    }
   },
   "outputs": [],
   "source": [
    "Psi = Psi.subs([(x, r.x), (y, r.y)])"
   ]
  },
  {
   "cell_type": "code",
   "execution_count": 113,
   "metadata": {
    "ExecuteTime": {
     "end_time": "2021-08-04T13:36:08.134326Z",
     "start_time": "2021-08-04T13:36:08.126424Z"
    }
   },
   "outputs": [
    {
     "data": {
      "text/latex": [
       "$\\displaystyle \\frac{\\sqrt{2} \\mathbf{{x}_{r}} c_{1} \\sqrt{\\omega_{1}} \\sqrt[4]{\\omega_{1} \\omega_{2}} e^{- i t \\left(\\frac{3 \\omega_{1}}{2} + \\frac{\\omega_{2}}{2}\\right)} e^{- \\frac{\\mathbf{{x}_{r}}^{2} \\omega_{1}}{2} - \\frac{\\mathbf{{y}_{r}}^{2} \\omega_{2}}{2}}}{\\sqrt{\\pi}} + \\frac{\\sqrt[4]{\\omega_{1} \\omega_{2}} e^{- i t \\left(\\frac{\\omega_{1}}{2} + \\frac{\\omega_{2}}{2}\\right)} e^{- \\frac{\\mathbf{{x}_{r}}^{2} \\omega_{1}}{2} - \\frac{\\mathbf{{y}_{r}}^{2} \\omega_{2}}{2}}}{\\sqrt{\\pi}}$"
      ],
      "text/plain": [
       "sqrt(2)*r.x*c1*sqrt(omega1)*(omega1*omega2)**(1/4)*exp(-I*t*(3*omega1/2 + omega2/2))*exp(-r.x**2*omega1/2 - r.y**2*omega2/2)/sqrt(pi) + (omega1*omega2)**(1/4)*exp(-I*t*(omega1/2 + omega2/2))*exp(-r.x**2*omega1/2 - r.y**2*omega2/2)/sqrt(pi)"
      ]
     },
     "execution_count": 113,
     "metadata": {},
     "output_type": "execute_result"
    }
   ],
   "source": [
    "Psi"
   ]
  },
  {
   "cell_type": "markdown",
   "metadata": {},
   "source": [
    "### Compute vector field"
   ]
  },
  {
   "cell_type": "markdown",
   "metadata": {},
   "source": [
    "$\\nabla_{x,y} \\Psi = $"
   ]
  },
  {
   "cell_type": "code",
   "execution_count": 114,
   "metadata": {
    "ExecuteTime": {
     "end_time": "2021-08-04T13:36:09.591517Z",
     "start_time": "2021-08-04T13:36:09.561964Z"
    }
   },
   "outputs": [
    {
     "data": {
      "text/latex": [
       "$\\displaystyle (- \\frac{\\sqrt{2} \\mathbf{{x}_{r}}^{2} c_{1} \\omega_{1}^{\\frac{3}{2}} \\sqrt[4]{\\omega_{1} \\omega_{2}} e^{- i t \\left(\\frac{3 \\omega_{1}}{2} + \\frac{\\omega_{2}}{2}\\right)} e^{- \\frac{\\mathbf{{x}_{r}}^{2} \\omega_{1}}{2} - \\frac{\\mathbf{{y}_{r}}^{2} \\omega_{2}}{2}}}{\\sqrt{\\pi}} - \\frac{\\mathbf{{x}_{r}} \\omega_{1} \\sqrt[4]{\\omega_{1} \\omega_{2}} e^{- i t \\left(\\frac{\\omega_{1}}{2} + \\frac{\\omega_{2}}{2}\\right)} e^{- \\frac{\\mathbf{{x}_{r}}^{2} \\omega_{1}}{2} - \\frac{\\mathbf{{y}_{r}}^{2} \\omega_{2}}{2}}}{\\sqrt{\\pi}} + \\frac{\\sqrt{2} c_{1} \\sqrt{\\omega_{1}} \\sqrt[4]{\\omega_{1} \\omega_{2}} e^{- i t \\left(\\frac{3 \\omega_{1}}{2} + \\frac{\\omega_{2}}{2}\\right)} e^{- \\frac{\\mathbf{{x}_{r}}^{2} \\omega_{1}}{2} - \\frac{\\mathbf{{y}_{r}}^{2} \\omega_{2}}{2}}}{\\sqrt{\\pi}})\\mathbf{\\hat{i}_{r}} + (- \\frac{\\sqrt{2} \\mathbf{{x}_{r}} \\mathbf{{y}_{r}} c_{1} \\sqrt{\\omega_{1}} \\omega_{2} \\sqrt[4]{\\omega_{1} \\omega_{2}} e^{- i t \\left(\\frac{3 \\omega_{1}}{2} + \\frac{\\omega_{2}}{2}\\right)} e^{- \\frac{\\mathbf{{x}_{r}}^{2} \\omega_{1}}{2} - \\frac{\\mathbf{{y}_{r}}^{2} \\omega_{2}}{2}}}{\\sqrt{\\pi}} - \\frac{\\mathbf{{y}_{r}} \\omega_{2} \\sqrt[4]{\\omega_{1} \\omega_{2}} e^{- i t \\left(\\frac{\\omega_{1}}{2} + \\frac{\\omega_{2}}{2}\\right)} e^{- \\frac{\\mathbf{{x}_{r}}^{2} \\omega_{1}}{2} - \\frac{\\mathbf{{y}_{r}}^{2} \\omega_{2}}{2}}}{\\sqrt{\\pi}})\\mathbf{\\hat{j}_{r}}$"
      ],
      "text/plain": [
       "(-sqrt(2)*r.x**2*c1*omega1**(3/2)*(omega1*omega2)**(1/4)*exp(-I*t*(3*omega1/2 + omega2/2))*exp(-r.x**2*omega1/2 - r.y**2*omega2/2)/sqrt(pi) - r.x*omega1*(omega1*omega2)**(1/4)*exp(-I*t*(omega1/2 + omega2/2))*exp(-r.x**2*omega1/2 - r.y**2*omega2/2)/sqrt(pi) + sqrt(2)*c1*sqrt(omega1)*(omega1*omega2)**(1/4)*exp(-I*t*(3*omega1/2 + omega2/2))*exp(-r.x**2*omega1/2 - r.y**2*omega2/2)/sqrt(pi))*r.i + (-sqrt(2)*r.x*r.y*c1*sqrt(omega1)*omega2*(omega1*omega2)**(1/4)*exp(-I*t*(3*omega1/2 + omega2/2))*exp(-r.x**2*omega1/2 - r.y**2*omega2/2)/sqrt(pi) - r.y*omega2*(omega1*omega2)**(1/4)*exp(-I*t*(omega1/2 + omega2/2))*exp(-r.x**2*omega1/2 - r.y**2*omega2/2)/sqrt(pi))*r.j"
      ]
     },
     "execution_count": 114,
     "metadata": {},
     "output_type": "execute_result"
    }
   ],
   "source": [
    "Del_Psi = gradient(Psi)\n",
    "Del_Psi"
   ]
  },
  {
   "cell_type": "markdown",
   "metadata": {},
   "source": [
    "$\\frac{\\nabla_{x,y} \\Psi}{ \\Psi}= $"
   ]
  },
  {
   "cell_type": "code",
   "execution_count": 115,
   "metadata": {
    "ExecuteTime": {
     "end_time": "2021-08-04T13:36:10.932507Z",
     "start_time": "2021-08-04T13:36:10.764083Z"
    }
   },
   "outputs": [
    {
     "data": {
      "text/latex": [
       "$\\displaystyle (\\frac{- \\sqrt{2} c_{1} \\omega_{1}^{\\frac{3}{2}} x^{2} + \\sqrt{2} c_{1} \\sqrt{\\omega_{1}} - \\omega_{1} x e^{i \\omega_{1} t}}{\\sqrt{2} c_{1} \\sqrt{\\omega_{1}} x + e^{i \\omega_{1} t}})\\mathbf{\\hat{i}_{r}} + (- \\omega_{2} y)\\mathbf{\\hat{j}_{r}}$"
      ],
      "text/plain": [
       "((-sqrt(2)*c1*omega1**(3/2)*x**2 + sqrt(2)*c1*sqrt(omega1) - omega1*x*exp(I*omega1*t))/(sqrt(2)*c1*sqrt(omega1)*x + exp(I*omega1*t)))*r.i + (-omega2*y)*r.j"
      ]
     },
     "execution_count": 115,
     "metadata": {},
     "output_type": "execute_result"
    }
   ],
   "source": [
    "expr = Del_Psi/Psi\n",
    "expr = expr.simplify()\n",
    "expr = expr.subs([(r.x, x), (r.y, y)])\n",
    "expr"
   ]
  },
  {
   "cell_type": "markdown",
   "metadata": {},
   "source": [
    "### Simplify vector field"
   ]
  },
  {
   "cell_type": "code",
   "execution_count": 107,
   "metadata": {
    "ExecuteTime": {
     "end_time": "2021-08-04T12:48:16.012944Z",
     "start_time": "2021-08-04T12:48:15.999033Z"
    }
   },
   "outputs": [
    {
     "data": {
      "text/latex": [
       "$\\displaystyle (\\frac{- \\sqrt{2} c_{1} \\omega_{1}^{\\frac{3}{2}} x^{2} + \\sqrt{2} c_{1} \\sqrt{\\omega_{1}} - \\omega_{1} x \\left(i \\sin{\\left(\\omega_{1} t \\right)} + \\cos{\\left(\\omega_{1} t \\right)}\\right)}{\\sqrt{2} c_{1} \\sqrt{\\omega_{1}} x + i \\sin{\\left(\\omega_{1} t \\right)} + \\cos{\\left(\\omega_{1} t \\right)}})\\mathbf{\\hat{i}_{r}}$"
      ],
      "text/plain": [
       "((-sqrt(2)*c1*omega1**(3/2)*x**2 + sqrt(2)*c1*sqrt(omega1) - omega1*x*(I*sin(omega1*t) + cos(omega1*t)))/(sqrt(2)*c1*sqrt(omega1)*x + I*sin(omega1*t) + cos(omega1*t)))*r.i"
      ]
     },
     "execution_count": 107,
     "metadata": {},
     "output_type": "execute_result"
    }
   ],
   "source": [
    "vx = expr.args[0]\n",
    "vx = vx.subs(sym.exp(sym.I*omega1*t), sym.cos(omega1*t) + sym.I*sym.sin(omega1*t))\n",
    "vx"
   ]
  },
  {
   "cell_type": "code",
   "execution_count": 108,
   "metadata": {
    "ExecuteTime": {
     "end_time": "2021-08-04T12:48:16.324990Z",
     "start_time": "2021-08-04T12:48:16.319817Z"
    }
   },
   "outputs": [
    {
     "data": {
      "text/latex": [
       "$\\displaystyle - \\sqrt{2} c_{1} \\omega_{1}^{\\frac{3}{2}} x^{2} + \\sqrt{2} c_{1} \\sqrt{\\omega_{1}} - \\omega_{1} x \\left(i \\sin{\\left(\\omega_{1} t \\right)} + \\cos{\\left(\\omega_{1} t \\right)}\\right)$"
      ],
      "text/plain": [
       "-sqrt(2)*c1*omega1**(3/2)*x**2 + sqrt(2)*c1*sqrt(omega1) - omega1*x*(I*sin(omega1*t) + cos(omega1*t))"
      ]
     },
     "execution_count": 108,
     "metadata": {},
     "output_type": "execute_result"
    }
   ],
   "source": [
    "vx.args[1]"
   ]
  },
  {
   "cell_type": "code",
   "execution_count": 109,
   "metadata": {
    "ExecuteTime": {
     "end_time": "2021-08-04T12:48:16.899209Z",
     "start_time": "2021-08-04T12:48:16.894957Z"
    }
   },
   "outputs": [
    {
     "data": {
      "text/latex": [
       "$\\displaystyle \\frac{1}{\\sqrt{2} c_{1} \\sqrt{\\omega_{1}} x + i \\sin{\\left(\\omega_{1} t \\right)} + \\cos{\\left(\\omega_{1} t \\right)}}$"
      ],
      "text/plain": [
       "1/(sqrt(2)*c1*sqrt(omega1)*x + I*sin(omega1*t) + cos(omega1*t))"
      ]
     },
     "execution_count": 109,
     "metadata": {},
     "output_type": "execute_result"
    }
   ],
   "source": [
    "vx.args[0]"
   ]
  },
  {
   "cell_type": "markdown",
   "metadata": {},
   "source": [
    "From this, we can compute $Im(\\nabla \\Psi / \\Psi)$"
   ]
  },
  {
   "cell_type": "markdown",
   "metadata": {},
   "source": [
    "### Vector field: final form"
   ]
  },
  {
   "cell_type": "code",
   "execution_count": null,
   "metadata": {},
   "outputs": [],
   "source": []
  },
  {
   "cell_type": "markdown",
   "metadata": {},
   "source": [
    "### Second-order pilot wave equations"
   ]
  },
  {
   "cell_type": "markdown",
   "metadata": {},
   "source": [
    "Define the wave function"
   ]
  },
  {
   "cell_type": "code",
   "execution_count": 119,
   "metadata": {
    "ExecuteTime": {
     "end_time": "2021-08-04T13:40:10.966352Z",
     "start_time": "2021-08-04T13:40:10.963864Z"
    }
   },
   "outputs": [],
   "source": [
    "Psi = psi_n1n2(0,0) + c1*psi_n1n2(1,0)"
   ]
  },
  {
   "cell_type": "markdown",
   "metadata": {},
   "source": [
    "Define its conjugate "
   ]
  },
  {
   "cell_type": "code",
   "execution_count": 121,
   "metadata": {
    "ExecuteTime": {
     "end_time": "2021-08-04T13:40:37.948266Z",
     "start_time": "2021-08-04T13:40:37.942534Z"
    }
   },
   "outputs": [],
   "source": [
    "Psi_conjugate = Psi.subs(sym.I, -sym.I)"
   ]
  },
  {
   "cell_type": "markdown",
   "metadata": {},
   "source": [
    "Compute square modules and expand expression"
   ]
  },
  {
   "cell_type": "code",
   "execution_count": 147,
   "metadata": {
    "ExecuteTime": {
     "end_time": "2021-08-04T13:50:18.593026Z",
     "start_time": "2021-08-04T13:50:18.574072Z"
    }
   },
   "outputs": [
    {
     "data": {
      "text/latex": [
       "$\\displaystyle \\frac{2 c_{1}^{2} \\omega_{1} x^{2} \\sqrt{\\omega_{1} \\omega_{2}} e^{- \\omega_{1} x^{2}} e^{- \\omega_{2} y^{2}}}{\\pi} + \\frac{\\sqrt{2} c_{1} \\sqrt{\\omega_{1}} x \\sqrt{\\omega_{1} \\omega_{2}} e^{- \\omega_{1} x^{2}} e^{- \\omega_{2} y^{2}} e^{i \\omega_{1} t}}{\\pi} + \\frac{\\sqrt{2} c_{1} \\sqrt{\\omega_{1}} x \\sqrt{\\omega_{1} \\omega_{2}} e^{- \\omega_{1} x^{2}} e^{- \\omega_{2} y^{2}} e^{- i \\omega_{1} t}}{\\pi} + \\frac{\\sqrt{\\omega_{1} \\omega_{2}} e^{- \\omega_{1} x^{2}} e^{- \\omega_{2} y^{2}}}{\\pi}$"
      ],
      "text/plain": [
       "2*c1**2*omega1*x**2*sqrt(omega1*omega2)*exp(-omega1*x**2)*exp(-omega2*y**2)/pi + sqrt(2)*c1*sqrt(omega1)*x*sqrt(omega1*omega2)*exp(-omega1*x**2)*exp(-omega2*y**2)*exp(I*omega1*t)/pi + sqrt(2)*c1*sqrt(omega1)*x*sqrt(omega1*omega2)*exp(-omega1*x**2)*exp(-omega2*y**2)*exp(-I*omega1*t)/pi + sqrt(omega1*omega2)*exp(-omega1*x**2)*exp(-omega2*y**2)/pi"
      ]
     },
     "execution_count": 147,
     "metadata": {},
     "output_type": "execute_result"
    }
   ],
   "source": [
    "P = (Psi_conjugate*Psi).expand()\n",
    "P"
   ]
  },
  {
   "cell_type": "markdown",
   "metadata": {},
   "source": [
    "Simplify each factor separately"
   ]
  },
  {
   "cell_type": "code",
   "execution_count": 157,
   "metadata": {
    "ExecuteTime": {
     "end_time": "2021-08-04T13:53:28.447699Z",
     "start_time": "2021-08-04T13:53:28.437126Z"
    }
   },
   "outputs": [
    {
     "data": {
      "text/latex": [
       "$\\displaystyle \\frac{2 c_{1}^{2} \\omega_{1} x^{2} \\sqrt{\\omega_{1} \\omega_{2}} e^{- \\omega_{1} x^{2}} e^{- \\omega_{2} y^{2}}}{\\pi}$"
      ],
      "text/plain": [
       "2*c1**2*omega1*x**2*sqrt(omega1*omega2)*exp(-omega1*x**2)*exp(-omega2*y**2)/pi"
      ]
     },
     "execution_count": 157,
     "metadata": {},
     "output_type": "execute_result"
    }
   ],
   "source": [
    "p1 = P.args[1]\n",
    "p1"
   ]
  },
  {
   "cell_type": "code",
   "execution_count": 158,
   "metadata": {
    "ExecuteTime": {
     "end_time": "2021-08-04T13:53:36.187297Z",
     "start_time": "2021-08-04T13:53:36.174606Z"
    }
   },
   "outputs": [
    {
     "data": {
      "text/latex": [
       "$\\displaystyle \\frac{\\sqrt{2} c_{1} \\sqrt{\\omega_{1}} x \\sqrt{\\omega_{1} \\omega_{2}} \\left(i \\sin{\\left(\\omega_{1} t \\right)} + \\cos{\\left(\\omega_{1} t \\right)}\\right) e^{- \\omega_{1} x^{2}} e^{- \\omega_{2} y^{2}}}{\\pi}$"
      ],
      "text/plain": [
       "sqrt(2)*c1*sqrt(omega1)*x*sqrt(omega1*omega2)*(I*sin(omega1*t) + cos(omega1*t))*exp(-omega1*x**2)*exp(-omega2*y**2)/pi"
      ]
     },
     "execution_count": 158,
     "metadata": {},
     "output_type": "execute_result"
    }
   ],
   "source": [
    "# Use Euler's formula\n",
    "p2 = P.args[2].subs(sym.exp(sym.I*omega1*t), sym.cos(omega1*t) + sym.I*sym.sin(omega1*t))\n",
    "p2"
   ]
  },
  {
   "cell_type": "code",
   "execution_count": 159,
   "metadata": {
    "ExecuteTime": {
     "end_time": "2021-08-04T13:53:44.556136Z",
     "start_time": "2021-08-04T13:53:44.542918Z"
    }
   },
   "outputs": [
    {
     "data": {
      "text/latex": [
       "$\\displaystyle \\frac{\\sqrt{2} c_{1} \\sqrt{\\omega_{1}} x \\sqrt{\\omega_{1} \\omega_{2}} \\left(- i \\sin{\\left(\\omega_{1} t \\right)} + \\cos{\\left(\\omega_{1} t \\right)}\\right) e^{- \\omega_{1} x^{2}} e^{- \\omega_{2} y^{2}}}{\\pi}$"
      ],
      "text/plain": [
       "sqrt(2)*c1*sqrt(omega1)*x*sqrt(omega1*omega2)*(-I*sin(omega1*t) + cos(omega1*t))*exp(-omega1*x**2)*exp(-omega2*y**2)/pi"
      ]
     },
     "execution_count": 159,
     "metadata": {},
     "output_type": "execute_result"
    }
   ],
   "source": [
    "# Use Euler's formula\n",
    "p3 = P.args[3].subs(sym.exp(-sym.I*omega1*t), sym.cos(omega1*t) - sym.I*sym.sin(omega1*t))\n",
    "p3"
   ]
  },
  {
   "cell_type": "code",
   "execution_count": 160,
   "metadata": {
    "ExecuteTime": {
     "end_time": "2021-08-04T13:53:52.487145Z",
     "start_time": "2021-08-04T13:53:52.478517Z"
    }
   },
   "outputs": [
    {
     "data": {
      "text/latex": [
       "$\\displaystyle \\frac{\\sqrt{\\omega_{1} \\omega_{2}} e^{- \\omega_{1} x^{2}} e^{- \\omega_{2} y^{2}}}{\\pi}$"
      ],
      "text/plain": [
       "sqrt(omega1*omega2)*exp(-omega1*x**2)*exp(-omega2*y**2)/pi"
      ]
     },
     "execution_count": 160,
     "metadata": {},
     "output_type": "execute_result"
    }
   ],
   "source": [
    "p4 = P.args[0]\n",
    "p4"
   ]
  },
  {
   "cell_type": "markdown",
   "metadata": {},
   "source": [
    "Put everything back together"
   ]
  },
  {
   "cell_type": "code",
   "execution_count": 164,
   "metadata": {
    "ExecuteTime": {
     "end_time": "2021-08-04T13:56:58.905267Z",
     "start_time": "2021-08-04T13:56:58.663497Z"
    }
   },
   "outputs": [
    {
     "data": {
      "text/latex": [
       "$\\displaystyle \\frac{\\sqrt{\\omega_{1} \\omega_{2}} \\left(2 c_{1}^{2} \\omega_{1} x^{2} + 2 \\sqrt{2} c_{1} \\sqrt{\\omega_{1}} x \\cos{\\left(\\omega_{1} t \\right)} + 1\\right) e^{- \\omega_{1} x^{2} - \\omega_{2} y^{2}}}{\\pi}$"
      ],
      "text/plain": [
       "sqrt(omega1*omega2)*(2*c1**2*omega1*x**2 + 2*sqrt(2)*c1*sqrt(omega1)*x*cos(omega1*t) + 1)*exp(-omega1*x**2 - omega2*y**2)/pi"
      ]
     },
     "execution_count": 164,
     "metadata": {},
     "output_type": "execute_result"
    }
   ],
   "source": [
    "P_simplified = (p1+p2+p3+p4).simplify()\n",
    "P_simplified"
   ]
  },
  {
   "cell_type": "markdown",
   "metadata": {},
   "source": [
    "Wave function amplitude"
   ]
  },
  {
   "cell_type": "markdown",
   "metadata": {},
   "source": [
    "$R = \\sqrt{\\Psi^* \\Psi}$ = "
   ]
  },
  {
   "cell_type": "code",
   "execution_count": 272,
   "metadata": {
    "ExecuteTime": {
     "end_time": "2021-08-04T14:46:57.275333Z",
     "start_time": "2021-08-04T14:46:57.268308Z"
    }
   },
   "outputs": [
    {
     "data": {
      "text/latex": [
       "$\\displaystyle \\frac{\\sqrt{\\sqrt{\\omega_{1} \\omega_{2}} \\left(a^{2} \\omega_{1} x^{2} + 2 a \\sqrt{\\omega_{1}} x \\cos{\\left(\\omega_{1} t \\right)} + 1\\right)} e^{- \\frac{\\omega_{1} x^{2}}{2} - \\frac{\\omega_{2} y^{2}}{2}}}{\\sqrt{\\pi}}$"
      ],
      "text/plain": [
       "sqrt(sqrt(omega1*omega2)*(a**2*omega1*x**2 + 2*a*sqrt(omega1)*x*cos(omega1*t) + 1))*exp(-omega1*x**2/2 - omega2*y**2/2)/sqrt(pi)"
      ]
     },
     "execution_count": 272,
     "metadata": {},
     "output_type": "execute_result"
    }
   ],
   "source": [
    "R = sym.sqrt(P_simplified)\n",
    "# substitute constants\n",
    "R = R.subs([(c1, a/sym.sqrt(2)),(c2, b/2)])\n",
    "R"
   ]
  },
  {
   "cell_type": "markdown",
   "metadata": {},
   "source": [
    "Compute quantum potential"
   ]
  },
  {
   "cell_type": "markdown",
   "metadata": {},
   "source": [
    "$U = -\\frac{1}{2} \\frac{\\nabla^2 R}{R}$"
   ]
  },
  {
   "cell_type": "code",
   "execution_count": 273,
   "metadata": {
    "ExecuteTime": {
     "end_time": "2021-08-04T14:47:04.080984Z",
     "start_time": "2021-08-04T14:47:02.643930Z"
    }
   },
   "outputs": [
    {
     "data": {
      "text/latex": [
       "$\\displaystyle \\frac{- a^{2} \\left(a \\omega_{1} x + \\sqrt{\\omega_{1}} \\cos{\\left(\\omega_{1} t \\right)}\\right)^{2} + a \\omega_{1} \\left(a - 2 x \\left(a \\omega_{1} x + \\sqrt{\\omega_{1}} \\cos{\\left(\\omega_{1} t \\right)}\\right)\\right) \\left(a^{2} \\omega_{1} x^{2} + 2 a \\sqrt{\\omega_{1}} x \\cos{\\left(\\omega_{1} t \\right)} + 1\\right) + \\omega_{1} \\left(\\omega_{1} x^{2} - 1\\right) \\left(a^{2} \\omega_{1} x^{2} + 2 a \\sqrt{\\omega_{1}} x \\cos{\\left(\\omega_{1} t \\right)} + 1\\right)^{2}}{\\left(a^{2} \\omega_{1} x^{2} + 2 a \\sqrt{\\omega_{1}} x \\cos{\\left(\\omega_{1} t \\right)} + 1\\right)^{2}}$"
      ],
      "text/plain": [
       "(-a**2*(a*omega1*x + sqrt(omega1)*cos(omega1*t))**2 + a*omega1*(a - 2*x*(a*omega1*x + sqrt(omega1)*cos(omega1*t)))*(a**2*omega1*x**2 + 2*a*sqrt(omega1)*x*cos(omega1*t) + 1) + omega1*(omega1*x**2 - 1)*(a**2*omega1*x**2 + 2*a*sqrt(omega1)*x*cos(omega1*t) + 1)**2)/(a**2*omega1*x**2 + 2*a*sqrt(omega1)*x*cos(omega1*t) + 1)**2"
      ]
     },
     "execution_count": 273,
     "metadata": {},
     "output_type": "execute_result"
    }
   ],
   "source": [
    "U_x = sym.diff(sym.diff(R,x), x)/R\n",
    "U_x = U_x.simplify()\n",
    "U_x"
   ]
  },
  {
   "cell_type": "code",
   "execution_count": 274,
   "metadata": {
    "ExecuteTime": {
     "end_time": "2021-08-04T14:47:08.925635Z",
     "start_time": "2021-08-04T14:47:08.923528Z"
    }
   },
   "outputs": [],
   "source": [
    "U_x_numerator   = U_x.args[1]\n",
    "U_x_denominator = 1/U_x.args[0]"
   ]
  },
  {
   "cell_type": "code",
   "execution_count": 275,
   "metadata": {
    "ExecuteTime": {
     "end_time": "2021-08-04T14:47:11.209084Z",
     "start_time": "2021-08-04T14:47:11.198890Z"
    }
   },
   "outputs": [
    {
     "data": {
      "text/latex": [
       "$\\displaystyle - \\frac{a^{2} \\left(a \\omega_{1} x + \\sqrt{\\omega_{1}} \\cos{\\left(\\omega_{1} t \\right)}\\right)^{2}}{\\left(a^{2} \\omega_{1} x^{2} + 2 a \\sqrt{\\omega_{1}} x \\cos{\\left(\\omega_{1} t \\right)} + 1\\right)^{2}} + \\frac{a \\omega_{1} \\left(a - 2 x \\left(a \\omega_{1} x + \\sqrt{\\omega_{1}} \\cos{\\left(\\omega_{1} t \\right)}\\right)\\right)}{a^{2} \\omega_{1} x^{2} + 2 a \\sqrt{\\omega_{1}} x \\cos{\\left(\\omega_{1} t \\right)} + 1} + \\omega_{1} \\left(\\omega_{1} x^{2} - 1\\right)$"
      ],
      "text/plain": [
       "-a**2*(a*omega1*x + sqrt(omega1)*cos(omega1*t))**2/(a**2*omega1*x**2 + 2*a*sqrt(omega1)*x*cos(omega1*t) + 1)**2 + a*omega1*(a - 2*x*(a*omega1*x + sqrt(omega1)*cos(omega1*t)))/(a**2*omega1*x**2 + 2*a*sqrt(omega1)*x*cos(omega1*t) + 1) + omega1*(omega1*x**2 - 1)"
      ]
     },
     "execution_count": 275,
     "metadata": {},
     "output_type": "execute_result"
    }
   ],
   "source": [
    "U_x_reduced =\\\n",
    "U_x_numerator.args[1]/U_x_denominator +\\\n",
    "U_x_numerator.args[0]/U_x_denominator +\\\n",
    "U_x_numerator.args[2]/U_x_denominator\n",
    "\n",
    "U_x_reduced"
   ]
  },
  {
   "cell_type": "code",
   "execution_count": 276,
   "metadata": {
    "ExecuteTime": {
     "end_time": "2021-08-04T14:47:20.978360Z",
     "start_time": "2021-08-04T14:47:20.921905Z"
    }
   },
   "outputs": [
    {
     "data": {
      "text/latex": [
       "$\\displaystyle \\omega_{2} \\left(\\omega_{2} y^{2} - 1\\right)$"
      ],
      "text/plain": [
       "omega2*(omega2*y**2 - 1)"
      ]
     },
     "execution_count": 276,
     "metadata": {},
     "output_type": "execute_result"
    }
   ],
   "source": [
    "U_y = sym.diff(sym.diff(R,y), y)/R\n",
    "U_y = U_y.simplify()\n",
    "U_y"
   ]
  },
  {
   "cell_type": "code",
   "execution_count": 278,
   "metadata": {
    "ExecuteTime": {
     "end_time": "2021-08-04T14:48:11.250402Z",
     "start_time": "2021-08-04T14:48:11.240177Z"
    }
   },
   "outputs": [
    {
     "data": {
      "text/latex": [
       "$\\displaystyle \\frac{a^{2} \\left(a \\omega_{1} x + \\sqrt{\\omega_{1}} \\cos{\\left(\\omega_{1} t \\right)}\\right)^{2}}{2 \\left(a^{2} \\omega_{1} x^{2} + 2 a \\sqrt{\\omega_{1}} x \\cos{\\left(\\omega_{1} t \\right)} + 1\\right)^{2}} - \\frac{a \\omega_{1} \\left(a - 2 x \\left(a \\omega_{1} x + \\sqrt{\\omega_{1}} \\cos{\\left(\\omega_{1} t \\right)}\\right)\\right)}{2 \\left(a^{2} \\omega_{1} x^{2} + 2 a \\sqrt{\\omega_{1}} x \\cos{\\left(\\omega_{1} t \\right)} + 1\\right)} - \\frac{\\omega_{1} \\left(\\omega_{1} x^{2} - 1\\right)}{2} - \\frac{\\omega_{2} \\left(\\omega_{2} y^{2} - 1\\right)}{2}$"
      ],
      "text/plain": [
       "a**2*(a*omega1*x + sqrt(omega1)*cos(omega1*t))**2/(2*(a**2*omega1*x**2 + 2*a*sqrt(omega1)*x*cos(omega1*t) + 1)**2) - a*omega1*(a - 2*x*(a*omega1*x + sqrt(omega1)*cos(omega1*t)))/(2*(a**2*omega1*x**2 + 2*a*sqrt(omega1)*x*cos(omega1*t) + 1)) - omega1*(omega1*x**2 - 1)/2 - omega2*(omega2*y**2 - 1)/2"
      ]
     },
     "execution_count": 278,
     "metadata": {},
     "output_type": "execute_result"
    }
   ],
   "source": [
    "U_quantum = -sym.Rational(1,2)*(U_x_reduced + U_y)\n",
    "U_quantum"
   ]
  },
  {
   "cell_type": "code",
   "execution_count": 281,
   "metadata": {
    "ExecuteTime": {
     "end_time": "2021-08-04T14:50:00.122519Z",
     "start_time": "2021-08-04T14:50:00.118167Z"
    }
   },
   "outputs": [
    {
     "data": {
      "text/latex": [
       "$\\displaystyle \\frac{\\omega_{1}^{2} x^{2}}{2} + \\frac{\\omega_{2}^{2} y^{2}}{2}$"
      ],
      "text/plain": [
       "omega1**2*x**2/2 + omega2**2*y**2/2"
      ]
     },
     "execution_count": 281,
     "metadata": {},
     "output_type": "execute_result"
    }
   ],
   "source": [
    "U_classic = sym.Rational(1,2)*( (omega1*x)**2 + (omega2*y)**2 )\n",
    "U_classic"
   ]
  },
  {
   "cell_type": "code",
   "execution_count": 286,
   "metadata": {
    "ExecuteTime": {
     "end_time": "2021-08-04T14:56:11.756733Z",
     "start_time": "2021-08-04T14:56:11.732863Z"
    }
   },
   "outputs": [
    {
     "data": {
      "text/latex": [
       "$\\displaystyle \\frac{a^{2} \\left(a \\omega_{1} x + \\sqrt{\\omega_{1}} \\cos{\\left(\\omega_{1} t \\right)}\\right)^{2}}{2 \\left(a^{2} \\omega_{1} x^{2} + 2 a \\sqrt{\\omega_{1}} x \\cos{\\left(\\omega_{1} t \\right)} + 1\\right)^{2}} - \\frac{a \\omega_{1} \\left(a - 2 x \\left(a \\omega_{1} x + \\sqrt{\\omega_{1}} \\cos{\\left(\\omega_{1} t \\right)}\\right)\\right)}{2 \\left(a^{2} \\omega_{1} x^{2} + 2 a \\sqrt{\\omega_{1}} x \\cos{\\left(\\omega_{1} t \\right)} + 1\\right)} + \\frac{\\omega_{1}^{2} x^{2}}{2} - \\frac{\\omega_{1} \\left(\\omega_{1} x^{2} - 1\\right)}{2} + \\frac{\\omega_{2}^{2} y^{2}}{2} - \\frac{\\omega_{2} \\left(\\omega_{2} y^{2} - 1\\right)}{2}$"
      ],
      "text/plain": [
       "a**2*(a*omega1*x + sqrt(omega1)*cos(omega1*t))**2/(2*(a**2*omega1*x**2 + 2*a*sqrt(omega1)*x*cos(omega1*t) + 1)**2) - a*omega1*(a - 2*x*(a*omega1*x + sqrt(omega1)*cos(omega1*t)))/(2*(a**2*omega1*x**2 + 2*a*sqrt(omega1)*x*cos(omega1*t) + 1)) + omega1**2*x**2/2 - omega1*(omega1*x**2 - 1)/2 + omega2**2*y**2/2 - omega2*(omega2*y**2 - 1)/2"
      ]
     },
     "execution_count": 286,
     "metadata": {},
     "output_type": "execute_result"
    }
   ],
   "source": [
    "U_total = U_classic + U_quantum\n",
    "U_total"
   ]
  },
  {
   "cell_type": "code",
   "execution_count": 298,
   "metadata": {
    "ExecuteTime": {
     "end_time": "2021-08-04T15:02:43.927821Z",
     "start_time": "2021-08-04T15:02:43.923166Z"
    }
   },
   "outputs": [],
   "source": [
    "U_total_reduced = 0\n",
    "for i in range(len(U_total.args)):\n",
    "    u = U_total.args[i]\n",
    "    if i in [2, 3]:\n",
    "        u = u.expand()\n",
    "    U_total_reduced = u + U_total_reduced"
   ]
  },
  {
   "cell_type": "markdown",
   "metadata": {},
   "source": [
    "#### Final expression"
   ]
  },
  {
   "cell_type": "code",
   "execution_count": 301,
   "metadata": {
    "ExecuteTime": {
     "end_time": "2021-08-04T15:03:29.236789Z",
     "start_time": "2021-08-04T15:03:29.224151Z"
    }
   },
   "outputs": [
    {
     "data": {
      "text/latex": [
       "$\\displaystyle \\frac{a^{2} \\left(a \\omega_{1} x + \\sqrt{\\omega_{1}} \\cos{\\left(\\omega_{1} t \\right)}\\right)^{2}}{2 \\left(a^{2} \\omega_{1} x^{2} + 2 a \\sqrt{\\omega_{1}} x \\cos{\\left(\\omega_{1} t \\right)} + 1\\right)^{2}} - \\frac{a \\omega_{1} \\left(a - 2 x \\left(a \\omega_{1} x + \\sqrt{\\omega_{1}} \\cos{\\left(\\omega_{1} t \\right)}\\right)\\right)}{2 \\left(a^{2} \\omega_{1} x^{2} + 2 a \\sqrt{\\omega_{1}} x \\cos{\\left(\\omega_{1} t \\right)} + 1\\right)} + \\frac{\\omega_{1}}{2} + \\frac{\\omega_{2}}{2}$"
      ],
      "text/plain": [
       "a**2*(a*omega1*x + sqrt(omega1)*cos(omega1*t))**2/(2*(a**2*omega1*x**2 + 2*a*sqrt(omega1)*x*cos(omega1*t) + 1)**2) - a*omega1*(a - 2*x*(a*omega1*x + sqrt(omega1)*cos(omega1*t)))/(2*(a**2*omega1*x**2 + 2*a*sqrt(omega1)*x*cos(omega1*t) + 1)) + omega1/2 + omega2/2"
      ]
     },
     "execution_count": 301,
     "metadata": {},
     "output_type": "execute_result"
    }
   ],
   "source": [
    "U_total = U_total_reduced\n",
    "U_total"
   ]
  },
  {
   "cell_type": "markdown",
   "metadata": {},
   "source": [
    "NOTE\n",
    "\n",
    "* This PES is independent of $y$"
   ]
  },
  {
   "cell_type": "markdown",
   "metadata": {},
   "source": [
    "### Visualise potential energy surface"
   ]
  },
  {
   "cell_type": "code",
   "execution_count": null,
   "metadata": {},
   "outputs": [],
   "source": [
    "import numpy as np\n",
    "import matplotlib.pyplot as plt\n",
    "import matplotlib.animation as animation\n",
    "%matplotlib notebook"
   ]
  },
  {
   "cell_type": "markdown",
   "metadata": {},
   "source": [
    "Define evaluating function"
   ]
  },
  {
   "cell_type": "code",
   "execution_count": 345,
   "metadata": {
    "ExecuteTime": {
     "end_time": "2021-08-04T16:06:29.748790Z",
     "start_time": "2021-08-04T16:06:29.746261Z"
    }
   },
   "outputs": [],
   "source": [
    "PARAMETERS = [1, 3, 1]\n",
    "a0, omega10, omega20 = PARAMETERS\n",
    "U_evaluated = lambda t0, x0: float(U_total.evalf(subs={t:t0, x:x0, a:a0, omega1:omega10, omega2:omega20}))"
   ]
  },
  {
   "cell_type": "markdown",
   "metadata": {},
   "source": [
    "Plot animation of PES in time"
   ]
  },
  {
   "cell_type": "code",
   "execution_count": 346,
   "metadata": {
    "ExecuteTime": {
     "end_time": "2021-08-04T16:06:30.808452Z",
     "start_time": "2021-08-04T16:06:30.766702Z"
    }
   },
   "outputs": [
    {
     "data": {
      "application/javascript": [
       "/* Put everything inside the global mpl namespace */\n",
       "/* global mpl */\n",
       "window.mpl = {};\n",
       "\n",
       "mpl.get_websocket_type = function () {\n",
       "    if (typeof WebSocket !== 'undefined') {\n",
       "        return WebSocket;\n",
       "    } else if (typeof MozWebSocket !== 'undefined') {\n",
       "        return MozWebSocket;\n",
       "    } else {\n",
       "        alert(\n",
       "            'Your browser does not have WebSocket support. ' +\n",
       "                'Please try Chrome, Safari or Firefox ≥ 6. ' +\n",
       "                'Firefox 4 and 5 are also supported but you ' +\n",
       "                'have to enable WebSockets in about:config.'\n",
       "        );\n",
       "    }\n",
       "};\n",
       "\n",
       "mpl.figure = function (figure_id, websocket, ondownload, parent_element) {\n",
       "    this.id = figure_id;\n",
       "\n",
       "    this.ws = websocket;\n",
       "\n",
       "    this.supports_binary = this.ws.binaryType !== undefined;\n",
       "\n",
       "    if (!this.supports_binary) {\n",
       "        var warnings = document.getElementById('mpl-warnings');\n",
       "        if (warnings) {\n",
       "            warnings.style.display = 'block';\n",
       "            warnings.textContent =\n",
       "                'This browser does not support binary websocket messages. ' +\n",
       "                'Performance may be slow.';\n",
       "        }\n",
       "    }\n",
       "\n",
       "    this.imageObj = new Image();\n",
       "\n",
       "    this.context = undefined;\n",
       "    this.message = undefined;\n",
       "    this.canvas = undefined;\n",
       "    this.rubberband_canvas = undefined;\n",
       "    this.rubberband_context = undefined;\n",
       "    this.format_dropdown = undefined;\n",
       "\n",
       "    this.image_mode = 'full';\n",
       "\n",
       "    this.root = document.createElement('div');\n",
       "    this.root.setAttribute('style', 'display: inline-block');\n",
       "    this._root_extra_style(this.root);\n",
       "\n",
       "    parent_element.appendChild(this.root);\n",
       "\n",
       "    this._init_header(this);\n",
       "    this._init_canvas(this);\n",
       "    this._init_toolbar(this);\n",
       "\n",
       "    var fig = this;\n",
       "\n",
       "    this.waiting = false;\n",
       "\n",
       "    this.ws.onopen = function () {\n",
       "        fig.send_message('supports_binary', { value: fig.supports_binary });\n",
       "        fig.send_message('send_image_mode', {});\n",
       "        if (fig.ratio !== 1) {\n",
       "            fig.send_message('set_dpi_ratio', { dpi_ratio: fig.ratio });\n",
       "        }\n",
       "        fig.send_message('refresh', {});\n",
       "    };\n",
       "\n",
       "    this.imageObj.onload = function () {\n",
       "        if (fig.image_mode === 'full') {\n",
       "            // Full images could contain transparency (where diff images\n",
       "            // almost always do), so we need to clear the canvas so that\n",
       "            // there is no ghosting.\n",
       "            fig.context.clearRect(0, 0, fig.canvas.width, fig.canvas.height);\n",
       "        }\n",
       "        fig.context.drawImage(fig.imageObj, 0, 0);\n",
       "    };\n",
       "\n",
       "    this.imageObj.onunload = function () {\n",
       "        fig.ws.close();\n",
       "    };\n",
       "\n",
       "    this.ws.onmessage = this._make_on_message_function(this);\n",
       "\n",
       "    this.ondownload = ondownload;\n",
       "};\n",
       "\n",
       "mpl.figure.prototype._init_header = function () {\n",
       "    var titlebar = document.createElement('div');\n",
       "    titlebar.classList =\n",
       "        'ui-dialog-titlebar ui-widget-header ui-corner-all ui-helper-clearfix';\n",
       "    var titletext = document.createElement('div');\n",
       "    titletext.classList = 'ui-dialog-title';\n",
       "    titletext.setAttribute(\n",
       "        'style',\n",
       "        'width: 100%; text-align: center; padding: 3px;'\n",
       "    );\n",
       "    titlebar.appendChild(titletext);\n",
       "    this.root.appendChild(titlebar);\n",
       "    this.header = titletext;\n",
       "};\n",
       "\n",
       "mpl.figure.prototype._canvas_extra_style = function (_canvas_div) {};\n",
       "\n",
       "mpl.figure.prototype._root_extra_style = function (_canvas_div) {};\n",
       "\n",
       "mpl.figure.prototype._init_canvas = function () {\n",
       "    var fig = this;\n",
       "\n",
       "    var canvas_div = (this.canvas_div = document.createElement('div'));\n",
       "    canvas_div.setAttribute(\n",
       "        'style',\n",
       "        'border: 1px solid #ddd;' +\n",
       "            'box-sizing: content-box;' +\n",
       "            'clear: both;' +\n",
       "            'min-height: 1px;' +\n",
       "            'min-width: 1px;' +\n",
       "            'outline: 0;' +\n",
       "            'overflow: hidden;' +\n",
       "            'position: relative;' +\n",
       "            'resize: both;'\n",
       "    );\n",
       "\n",
       "    function on_keyboard_event_closure(name) {\n",
       "        return function (event) {\n",
       "            return fig.key_event(event, name);\n",
       "        };\n",
       "    }\n",
       "\n",
       "    canvas_div.addEventListener(\n",
       "        'keydown',\n",
       "        on_keyboard_event_closure('key_press')\n",
       "    );\n",
       "    canvas_div.addEventListener(\n",
       "        'keyup',\n",
       "        on_keyboard_event_closure('key_release')\n",
       "    );\n",
       "\n",
       "    this._canvas_extra_style(canvas_div);\n",
       "    this.root.appendChild(canvas_div);\n",
       "\n",
       "    var canvas = (this.canvas = document.createElement('canvas'));\n",
       "    canvas.classList.add('mpl-canvas');\n",
       "    canvas.setAttribute('style', 'box-sizing: content-box;');\n",
       "\n",
       "    this.context = canvas.getContext('2d');\n",
       "\n",
       "    var backingStore =\n",
       "        this.context.backingStorePixelRatio ||\n",
       "        this.context.webkitBackingStorePixelRatio ||\n",
       "        this.context.mozBackingStorePixelRatio ||\n",
       "        this.context.msBackingStorePixelRatio ||\n",
       "        this.context.oBackingStorePixelRatio ||\n",
       "        this.context.backingStorePixelRatio ||\n",
       "        1;\n",
       "\n",
       "    this.ratio = (window.devicePixelRatio || 1) / backingStore;\n",
       "\n",
       "    var rubberband_canvas = (this.rubberband_canvas = document.createElement(\n",
       "        'canvas'\n",
       "    ));\n",
       "    rubberband_canvas.setAttribute(\n",
       "        'style',\n",
       "        'box-sizing: content-box; position: absolute; left: 0; top: 0; z-index: 1;'\n",
       "    );\n",
       "\n",
       "    // Apply a ponyfill if ResizeObserver is not implemented by browser.\n",
       "    if (this.ResizeObserver === undefined) {\n",
       "        if (window.ResizeObserver !== undefined) {\n",
       "            this.ResizeObserver = window.ResizeObserver;\n",
       "        } else {\n",
       "            var obs = _JSXTOOLS_RESIZE_OBSERVER({});\n",
       "            this.ResizeObserver = obs.ResizeObserver;\n",
       "        }\n",
       "    }\n",
       "\n",
       "    this.resizeObserverInstance = new this.ResizeObserver(function (entries) {\n",
       "        var nentries = entries.length;\n",
       "        for (var i = 0; i < nentries; i++) {\n",
       "            var entry = entries[i];\n",
       "            var width, height;\n",
       "            if (entry.contentBoxSize) {\n",
       "                if (entry.contentBoxSize instanceof Array) {\n",
       "                    // Chrome 84 implements new version of spec.\n",
       "                    width = entry.contentBoxSize[0].inlineSize;\n",
       "                    height = entry.contentBoxSize[0].blockSize;\n",
       "                } else {\n",
       "                    // Firefox implements old version of spec.\n",
       "                    width = entry.contentBoxSize.inlineSize;\n",
       "                    height = entry.contentBoxSize.blockSize;\n",
       "                }\n",
       "            } else {\n",
       "                // Chrome <84 implements even older version of spec.\n",
       "                width = entry.contentRect.width;\n",
       "                height = entry.contentRect.height;\n",
       "            }\n",
       "\n",
       "            // Keep the size of the canvas and rubber band canvas in sync with\n",
       "            // the canvas container.\n",
       "            if (entry.devicePixelContentBoxSize) {\n",
       "                // Chrome 84 implements new version of spec.\n",
       "                canvas.setAttribute(\n",
       "                    'width',\n",
       "                    entry.devicePixelContentBoxSize[0].inlineSize\n",
       "                );\n",
       "                canvas.setAttribute(\n",
       "                    'height',\n",
       "                    entry.devicePixelContentBoxSize[0].blockSize\n",
       "                );\n",
       "            } else {\n",
       "                canvas.setAttribute('width', width * fig.ratio);\n",
       "                canvas.setAttribute('height', height * fig.ratio);\n",
       "            }\n",
       "            canvas.setAttribute(\n",
       "                'style',\n",
       "                'width: ' + width + 'px; height: ' + height + 'px;'\n",
       "            );\n",
       "\n",
       "            rubberband_canvas.setAttribute('width', width);\n",
       "            rubberband_canvas.setAttribute('height', height);\n",
       "\n",
       "            // And update the size in Python. We ignore the initial 0/0 size\n",
       "            // that occurs as the element is placed into the DOM, which should\n",
       "            // otherwise not happen due to the minimum size styling.\n",
       "            if (fig.ws.readyState == 1 && width != 0 && height != 0) {\n",
       "                fig.request_resize(width, height);\n",
       "            }\n",
       "        }\n",
       "    });\n",
       "    this.resizeObserverInstance.observe(canvas_div);\n",
       "\n",
       "    function on_mouse_event_closure(name) {\n",
       "        return function (event) {\n",
       "            return fig.mouse_event(event, name);\n",
       "        };\n",
       "    }\n",
       "\n",
       "    rubberband_canvas.addEventListener(\n",
       "        'mousedown',\n",
       "        on_mouse_event_closure('button_press')\n",
       "    );\n",
       "    rubberband_canvas.addEventListener(\n",
       "        'mouseup',\n",
       "        on_mouse_event_closure('button_release')\n",
       "    );\n",
       "    // Throttle sequential mouse events to 1 every 20ms.\n",
       "    rubberband_canvas.addEventListener(\n",
       "        'mousemove',\n",
       "        on_mouse_event_closure('motion_notify')\n",
       "    );\n",
       "\n",
       "    rubberband_canvas.addEventListener(\n",
       "        'mouseenter',\n",
       "        on_mouse_event_closure('figure_enter')\n",
       "    );\n",
       "    rubberband_canvas.addEventListener(\n",
       "        'mouseleave',\n",
       "        on_mouse_event_closure('figure_leave')\n",
       "    );\n",
       "\n",
       "    canvas_div.addEventListener('wheel', function (event) {\n",
       "        if (event.deltaY < 0) {\n",
       "            event.step = 1;\n",
       "        } else {\n",
       "            event.step = -1;\n",
       "        }\n",
       "        on_mouse_event_closure('scroll')(event);\n",
       "    });\n",
       "\n",
       "    canvas_div.appendChild(canvas);\n",
       "    canvas_div.appendChild(rubberband_canvas);\n",
       "\n",
       "    this.rubberband_context = rubberband_canvas.getContext('2d');\n",
       "    this.rubberband_context.strokeStyle = '#000000';\n",
       "\n",
       "    this._resize_canvas = function (width, height, forward) {\n",
       "        if (forward) {\n",
       "            canvas_div.style.width = width + 'px';\n",
       "            canvas_div.style.height = height + 'px';\n",
       "        }\n",
       "    };\n",
       "\n",
       "    // Disable right mouse context menu.\n",
       "    this.rubberband_canvas.addEventListener('contextmenu', function (_e) {\n",
       "        event.preventDefault();\n",
       "        return false;\n",
       "    });\n",
       "\n",
       "    function set_focus() {\n",
       "        canvas.focus();\n",
       "        canvas_div.focus();\n",
       "    }\n",
       "\n",
       "    window.setTimeout(set_focus, 100);\n",
       "};\n",
       "\n",
       "mpl.figure.prototype._init_toolbar = function () {\n",
       "    var fig = this;\n",
       "\n",
       "    var toolbar = document.createElement('div');\n",
       "    toolbar.classList = 'mpl-toolbar';\n",
       "    this.root.appendChild(toolbar);\n",
       "\n",
       "    function on_click_closure(name) {\n",
       "        return function (_event) {\n",
       "            return fig.toolbar_button_onclick(name);\n",
       "        };\n",
       "    }\n",
       "\n",
       "    function on_mouseover_closure(tooltip) {\n",
       "        return function (event) {\n",
       "            if (!event.currentTarget.disabled) {\n",
       "                return fig.toolbar_button_onmouseover(tooltip);\n",
       "            }\n",
       "        };\n",
       "    }\n",
       "\n",
       "    fig.buttons = {};\n",
       "    var buttonGroup = document.createElement('div');\n",
       "    buttonGroup.classList = 'mpl-button-group';\n",
       "    for (var toolbar_ind in mpl.toolbar_items) {\n",
       "        var name = mpl.toolbar_items[toolbar_ind][0];\n",
       "        var tooltip = mpl.toolbar_items[toolbar_ind][1];\n",
       "        var image = mpl.toolbar_items[toolbar_ind][2];\n",
       "        var method_name = mpl.toolbar_items[toolbar_ind][3];\n",
       "\n",
       "        if (!name) {\n",
       "            /* Instead of a spacer, we start a new button group. */\n",
       "            if (buttonGroup.hasChildNodes()) {\n",
       "                toolbar.appendChild(buttonGroup);\n",
       "            }\n",
       "            buttonGroup = document.createElement('div');\n",
       "            buttonGroup.classList = 'mpl-button-group';\n",
       "            continue;\n",
       "        }\n",
       "\n",
       "        var button = (fig.buttons[name] = document.createElement('button'));\n",
       "        button.classList = 'mpl-widget';\n",
       "        button.setAttribute('role', 'button');\n",
       "        button.setAttribute('aria-disabled', 'false');\n",
       "        button.addEventListener('click', on_click_closure(method_name));\n",
       "        button.addEventListener('mouseover', on_mouseover_closure(tooltip));\n",
       "\n",
       "        var icon_img = document.createElement('img');\n",
       "        icon_img.src = '_images/' + image + '.png';\n",
       "        icon_img.srcset = '_images/' + image + '_large.png 2x';\n",
       "        icon_img.alt = tooltip;\n",
       "        button.appendChild(icon_img);\n",
       "\n",
       "        buttonGroup.appendChild(button);\n",
       "    }\n",
       "\n",
       "    if (buttonGroup.hasChildNodes()) {\n",
       "        toolbar.appendChild(buttonGroup);\n",
       "    }\n",
       "\n",
       "    var fmt_picker = document.createElement('select');\n",
       "    fmt_picker.classList = 'mpl-widget';\n",
       "    toolbar.appendChild(fmt_picker);\n",
       "    this.format_dropdown = fmt_picker;\n",
       "\n",
       "    for (var ind in mpl.extensions) {\n",
       "        var fmt = mpl.extensions[ind];\n",
       "        var option = document.createElement('option');\n",
       "        option.selected = fmt === mpl.default_extension;\n",
       "        option.innerHTML = fmt;\n",
       "        fmt_picker.appendChild(option);\n",
       "    }\n",
       "\n",
       "    var status_bar = document.createElement('span');\n",
       "    status_bar.classList = 'mpl-message';\n",
       "    toolbar.appendChild(status_bar);\n",
       "    this.message = status_bar;\n",
       "};\n",
       "\n",
       "mpl.figure.prototype.request_resize = function (x_pixels, y_pixels) {\n",
       "    // Request matplotlib to resize the figure. Matplotlib will then trigger a resize in the client,\n",
       "    // which will in turn request a refresh of the image.\n",
       "    this.send_message('resize', { width: x_pixels, height: y_pixels });\n",
       "};\n",
       "\n",
       "mpl.figure.prototype.send_message = function (type, properties) {\n",
       "    properties['type'] = type;\n",
       "    properties['figure_id'] = this.id;\n",
       "    this.ws.send(JSON.stringify(properties));\n",
       "};\n",
       "\n",
       "mpl.figure.prototype.send_draw_message = function () {\n",
       "    if (!this.waiting) {\n",
       "        this.waiting = true;\n",
       "        this.ws.send(JSON.stringify({ type: 'draw', figure_id: this.id }));\n",
       "    }\n",
       "};\n",
       "\n",
       "mpl.figure.prototype.handle_save = function (fig, _msg) {\n",
       "    var format_dropdown = fig.format_dropdown;\n",
       "    var format = format_dropdown.options[format_dropdown.selectedIndex].value;\n",
       "    fig.ondownload(fig, format);\n",
       "};\n",
       "\n",
       "mpl.figure.prototype.handle_resize = function (fig, msg) {\n",
       "    var size = msg['size'];\n",
       "    if (size[0] !== fig.canvas.width || size[1] !== fig.canvas.height) {\n",
       "        fig._resize_canvas(size[0], size[1], msg['forward']);\n",
       "        fig.send_message('refresh', {});\n",
       "    }\n",
       "};\n",
       "\n",
       "mpl.figure.prototype.handle_rubberband = function (fig, msg) {\n",
       "    var x0 = msg['x0'] / fig.ratio;\n",
       "    var y0 = (fig.canvas.height - msg['y0']) / fig.ratio;\n",
       "    var x1 = msg['x1'] / fig.ratio;\n",
       "    var y1 = (fig.canvas.height - msg['y1']) / fig.ratio;\n",
       "    x0 = Math.floor(x0) + 0.5;\n",
       "    y0 = Math.floor(y0) + 0.5;\n",
       "    x1 = Math.floor(x1) + 0.5;\n",
       "    y1 = Math.floor(y1) + 0.5;\n",
       "    var min_x = Math.min(x0, x1);\n",
       "    var min_y = Math.min(y0, y1);\n",
       "    var width = Math.abs(x1 - x0);\n",
       "    var height = Math.abs(y1 - y0);\n",
       "\n",
       "    fig.rubberband_context.clearRect(\n",
       "        0,\n",
       "        0,\n",
       "        fig.canvas.width / fig.ratio,\n",
       "        fig.canvas.height / fig.ratio\n",
       "    );\n",
       "\n",
       "    fig.rubberband_context.strokeRect(min_x, min_y, width, height);\n",
       "};\n",
       "\n",
       "mpl.figure.prototype.handle_figure_label = function (fig, msg) {\n",
       "    // Updates the figure title.\n",
       "    fig.header.textContent = msg['label'];\n",
       "};\n",
       "\n",
       "mpl.figure.prototype.handle_cursor = function (fig, msg) {\n",
       "    var cursor = msg['cursor'];\n",
       "    switch (cursor) {\n",
       "        case 0:\n",
       "            cursor = 'pointer';\n",
       "            break;\n",
       "        case 1:\n",
       "            cursor = 'default';\n",
       "            break;\n",
       "        case 2:\n",
       "            cursor = 'crosshair';\n",
       "            break;\n",
       "        case 3:\n",
       "            cursor = 'move';\n",
       "            break;\n",
       "    }\n",
       "    fig.rubberband_canvas.style.cursor = cursor;\n",
       "};\n",
       "\n",
       "mpl.figure.prototype.handle_message = function (fig, msg) {\n",
       "    fig.message.textContent = msg['message'];\n",
       "};\n",
       "\n",
       "mpl.figure.prototype.handle_draw = function (fig, _msg) {\n",
       "    // Request the server to send over a new figure.\n",
       "    fig.send_draw_message();\n",
       "};\n",
       "\n",
       "mpl.figure.prototype.handle_image_mode = function (fig, msg) {\n",
       "    fig.image_mode = msg['mode'];\n",
       "};\n",
       "\n",
       "mpl.figure.prototype.handle_history_buttons = function (fig, msg) {\n",
       "    for (var key in msg) {\n",
       "        if (!(key in fig.buttons)) {\n",
       "            continue;\n",
       "        }\n",
       "        fig.buttons[key].disabled = !msg[key];\n",
       "        fig.buttons[key].setAttribute('aria-disabled', !msg[key]);\n",
       "    }\n",
       "};\n",
       "\n",
       "mpl.figure.prototype.handle_navigate_mode = function (fig, msg) {\n",
       "    if (msg['mode'] === 'PAN') {\n",
       "        fig.buttons['Pan'].classList.add('active');\n",
       "        fig.buttons['Zoom'].classList.remove('active');\n",
       "    } else if (msg['mode'] === 'ZOOM') {\n",
       "        fig.buttons['Pan'].classList.remove('active');\n",
       "        fig.buttons['Zoom'].classList.add('active');\n",
       "    } else {\n",
       "        fig.buttons['Pan'].classList.remove('active');\n",
       "        fig.buttons['Zoom'].classList.remove('active');\n",
       "    }\n",
       "};\n",
       "\n",
       "mpl.figure.prototype.updated_canvas_event = function () {\n",
       "    // Called whenever the canvas gets updated.\n",
       "    this.send_message('ack', {});\n",
       "};\n",
       "\n",
       "// A function to construct a web socket function for onmessage handling.\n",
       "// Called in the figure constructor.\n",
       "mpl.figure.prototype._make_on_message_function = function (fig) {\n",
       "    return function socket_on_message(evt) {\n",
       "        if (evt.data instanceof Blob) {\n",
       "            /* FIXME: We get \"Resource interpreted as Image but\n",
       "             * transferred with MIME type text/plain:\" errors on\n",
       "             * Chrome.  But how to set the MIME type?  It doesn't seem\n",
       "             * to be part of the websocket stream */\n",
       "            evt.data.type = 'image/png';\n",
       "\n",
       "            /* Free the memory for the previous frames */\n",
       "            if (fig.imageObj.src) {\n",
       "                (window.URL || window.webkitURL).revokeObjectURL(\n",
       "                    fig.imageObj.src\n",
       "                );\n",
       "            }\n",
       "\n",
       "            fig.imageObj.src = (window.URL || window.webkitURL).createObjectURL(\n",
       "                evt.data\n",
       "            );\n",
       "            fig.updated_canvas_event();\n",
       "            fig.waiting = false;\n",
       "            return;\n",
       "        } else if (\n",
       "            typeof evt.data === 'string' &&\n",
       "            evt.data.slice(0, 21) === 'data:image/png;base64'\n",
       "        ) {\n",
       "            fig.imageObj.src = evt.data;\n",
       "            fig.updated_canvas_event();\n",
       "            fig.waiting = false;\n",
       "            return;\n",
       "        }\n",
       "\n",
       "        var msg = JSON.parse(evt.data);\n",
       "        var msg_type = msg['type'];\n",
       "\n",
       "        // Call the  \"handle_{type}\" callback, which takes\n",
       "        // the figure and JSON message as its only arguments.\n",
       "        try {\n",
       "            var callback = fig['handle_' + msg_type];\n",
       "        } catch (e) {\n",
       "            console.log(\n",
       "                \"No handler for the '\" + msg_type + \"' message type: \",\n",
       "                msg\n",
       "            );\n",
       "            return;\n",
       "        }\n",
       "\n",
       "        if (callback) {\n",
       "            try {\n",
       "                // console.log(\"Handling '\" + msg_type + \"' message: \", msg);\n",
       "                callback(fig, msg);\n",
       "            } catch (e) {\n",
       "                console.log(\n",
       "                    \"Exception inside the 'handler_\" + msg_type + \"' callback:\",\n",
       "                    e,\n",
       "                    e.stack,\n",
       "                    msg\n",
       "                );\n",
       "            }\n",
       "        }\n",
       "    };\n",
       "};\n",
       "\n",
       "// from http://stackoverflow.com/questions/1114465/getting-mouse-location-in-canvas\n",
       "mpl.findpos = function (e) {\n",
       "    //this section is from http://www.quirksmode.org/js/events_properties.html\n",
       "    var targ;\n",
       "    if (!e) {\n",
       "        e = window.event;\n",
       "    }\n",
       "    if (e.target) {\n",
       "        targ = e.target;\n",
       "    } else if (e.srcElement) {\n",
       "        targ = e.srcElement;\n",
       "    }\n",
       "    if (targ.nodeType === 3) {\n",
       "        // defeat Safari bug\n",
       "        targ = targ.parentNode;\n",
       "    }\n",
       "\n",
       "    // pageX,Y are the mouse positions relative to the document\n",
       "    var boundingRect = targ.getBoundingClientRect();\n",
       "    var x = e.pageX - (boundingRect.left + document.body.scrollLeft);\n",
       "    var y = e.pageY - (boundingRect.top + document.body.scrollTop);\n",
       "\n",
       "    return { x: x, y: y };\n",
       "};\n",
       "\n",
       "/*\n",
       " * return a copy of an object with only non-object keys\n",
       " * we need this to avoid circular references\n",
       " * http://stackoverflow.com/a/24161582/3208463\n",
       " */\n",
       "function simpleKeys(original) {\n",
       "    return Object.keys(original).reduce(function (obj, key) {\n",
       "        if (typeof original[key] !== 'object') {\n",
       "            obj[key] = original[key];\n",
       "        }\n",
       "        return obj;\n",
       "    }, {});\n",
       "}\n",
       "\n",
       "mpl.figure.prototype.mouse_event = function (event, name) {\n",
       "    var canvas_pos = mpl.findpos(event);\n",
       "\n",
       "    if (name === 'button_press') {\n",
       "        this.canvas.focus();\n",
       "        this.canvas_div.focus();\n",
       "    }\n",
       "\n",
       "    var x = canvas_pos.x * this.ratio;\n",
       "    var y = canvas_pos.y * this.ratio;\n",
       "\n",
       "    this.send_message(name, {\n",
       "        x: x,\n",
       "        y: y,\n",
       "        button: event.button,\n",
       "        step: event.step,\n",
       "        guiEvent: simpleKeys(event),\n",
       "    });\n",
       "\n",
       "    /* This prevents the web browser from automatically changing to\n",
       "     * the text insertion cursor when the button is pressed.  We want\n",
       "     * to control all of the cursor setting manually through the\n",
       "     * 'cursor' event from matplotlib */\n",
       "    event.preventDefault();\n",
       "    return false;\n",
       "};\n",
       "\n",
       "mpl.figure.prototype._key_event_extra = function (_event, _name) {\n",
       "    // Handle any extra behaviour associated with a key event\n",
       "};\n",
       "\n",
       "mpl.figure.prototype.key_event = function (event, name) {\n",
       "    // Prevent repeat events\n",
       "    if (name === 'key_press') {\n",
       "        if (event.which === this._key) {\n",
       "            return;\n",
       "        } else {\n",
       "            this._key = event.which;\n",
       "        }\n",
       "    }\n",
       "    if (name === 'key_release') {\n",
       "        this._key = null;\n",
       "    }\n",
       "\n",
       "    var value = '';\n",
       "    if (event.ctrlKey && event.which !== 17) {\n",
       "        value += 'ctrl+';\n",
       "    }\n",
       "    if (event.altKey && event.which !== 18) {\n",
       "        value += 'alt+';\n",
       "    }\n",
       "    if (event.shiftKey && event.which !== 16) {\n",
       "        value += 'shift+';\n",
       "    }\n",
       "\n",
       "    value += 'k';\n",
       "    value += event.which.toString();\n",
       "\n",
       "    this._key_event_extra(event, name);\n",
       "\n",
       "    this.send_message(name, { key: value, guiEvent: simpleKeys(event) });\n",
       "    return false;\n",
       "};\n",
       "\n",
       "mpl.figure.prototype.toolbar_button_onclick = function (name) {\n",
       "    if (name === 'download') {\n",
       "        this.handle_save(this, null);\n",
       "    } else {\n",
       "        this.send_message('toolbar_button', { name: name });\n",
       "    }\n",
       "};\n",
       "\n",
       "mpl.figure.prototype.toolbar_button_onmouseover = function (tooltip) {\n",
       "    this.message.textContent = tooltip;\n",
       "};\n",
       "\n",
       "///////////////// REMAINING CONTENT GENERATED BY embed_js.py /////////////////\n",
       "// prettier-ignore\n",
       "var _JSXTOOLS_RESIZE_OBSERVER=function(A){var t,i=new WeakMap,n=new WeakMap,a=new WeakMap,r=new WeakMap,o=new Set;function s(e){if(!(this instanceof s))throw new TypeError(\"Constructor requires 'new' operator\");i.set(this,e)}function h(){throw new TypeError(\"Function is not a constructor\")}function c(e,t,i,n){e=0 in arguments?Number(arguments[0]):0,t=1 in arguments?Number(arguments[1]):0,i=2 in arguments?Number(arguments[2]):0,n=3 in arguments?Number(arguments[3]):0,this.right=(this.x=this.left=e)+(this.width=i),this.bottom=(this.y=this.top=t)+(this.height=n),Object.freeze(this)}function d(){t=requestAnimationFrame(d);var s=new WeakMap,p=new Set;o.forEach((function(t){r.get(t).forEach((function(i){var r=t instanceof window.SVGElement,o=a.get(t),d=r?0:parseFloat(o.paddingTop),f=r?0:parseFloat(o.paddingRight),l=r?0:parseFloat(o.paddingBottom),u=r?0:parseFloat(o.paddingLeft),g=r?0:parseFloat(o.borderTopWidth),m=r?0:parseFloat(o.borderRightWidth),w=r?0:parseFloat(o.borderBottomWidth),b=u+f,F=d+l,v=(r?0:parseFloat(o.borderLeftWidth))+m,W=g+w,y=r?0:t.offsetHeight-W-t.clientHeight,E=r?0:t.offsetWidth-v-t.clientWidth,R=b+v,z=F+W,M=r?t.width:parseFloat(o.width)-R-E,O=r?t.height:parseFloat(o.height)-z-y;if(n.has(t)){var k=n.get(t);if(k[0]===M&&k[1]===O)return}n.set(t,[M,O]);var S=Object.create(h.prototype);S.target=t,S.contentRect=new c(u,d,M,O),s.has(i)||(s.set(i,[]),p.add(i)),s.get(i).push(S)}))})),p.forEach((function(e){i.get(e).call(e,s.get(e),e)}))}return s.prototype.observe=function(i){if(i instanceof window.Element){r.has(i)||(r.set(i,new Set),o.add(i),a.set(i,window.getComputedStyle(i)));var n=r.get(i);n.has(this)||n.add(this),cancelAnimationFrame(t),t=requestAnimationFrame(d)}},s.prototype.unobserve=function(i){if(i instanceof window.Element&&r.has(i)){var n=r.get(i);n.has(this)&&(n.delete(this),n.size||(r.delete(i),o.delete(i))),n.size||r.delete(i),o.size||cancelAnimationFrame(t)}},A.DOMRectReadOnly=c,A.ResizeObserver=s,A.ResizeObserverEntry=h,A}; // eslint-disable-line\n",
       "mpl.toolbar_items = [[\"Home\", \"Reset original view\", \"fa fa-home icon-home\", \"home\"], [\"Back\", \"Back to previous view\", \"fa fa-arrow-left icon-arrow-left\", \"back\"], [\"Forward\", \"Forward to next view\", \"fa fa-arrow-right icon-arrow-right\", \"forward\"], [\"\", \"\", \"\", \"\"], [\"Pan\", \"Left button pans, Right button zooms\\nx/y fixes axis, CTRL fixes aspect\", \"fa fa-arrows icon-move\", \"pan\"], [\"Zoom\", \"Zoom to rectangle\\nx/y fixes axis, CTRL fixes aspect\", \"fa fa-square-o icon-check-empty\", \"zoom\"], [\"\", \"\", \"\", \"\"], [\"Download\", \"Download plot\", \"fa fa-floppy-o icon-save\", \"download\"]];\n",
       "\n",
       "mpl.extensions = [\"eps\", \"jpeg\", \"pdf\", \"png\", \"ps\", \"raw\", \"svg\", \"tif\"];\n",
       "\n",
       "mpl.default_extension = \"png\";/* global mpl */\n",
       "\n",
       "var comm_websocket_adapter = function (comm) {\n",
       "    // Create a \"websocket\"-like object which calls the given IPython comm\n",
       "    // object with the appropriate methods. Currently this is a non binary\n",
       "    // socket, so there is still some room for performance tuning.\n",
       "    var ws = {};\n",
       "\n",
       "    ws.close = function () {\n",
       "        comm.close();\n",
       "    };\n",
       "    ws.send = function (m) {\n",
       "        //console.log('sending', m);\n",
       "        comm.send(m);\n",
       "    };\n",
       "    // Register the callback with on_msg.\n",
       "    comm.on_msg(function (msg) {\n",
       "        //console.log('receiving', msg['content']['data'], msg);\n",
       "        // Pass the mpl event to the overridden (by mpl) onmessage function.\n",
       "        ws.onmessage(msg['content']['data']);\n",
       "    });\n",
       "    return ws;\n",
       "};\n",
       "\n",
       "mpl.mpl_figure_comm = function (comm, msg) {\n",
       "    // This is the function which gets called when the mpl process\n",
       "    // starts-up an IPython Comm through the \"matplotlib\" channel.\n",
       "\n",
       "    var id = msg.content.data.id;\n",
       "    // Get hold of the div created by the display call when the Comm\n",
       "    // socket was opened in Python.\n",
       "    var element = document.getElementById(id);\n",
       "    var ws_proxy = comm_websocket_adapter(comm);\n",
       "\n",
       "    function ondownload(figure, _format) {\n",
       "        window.open(figure.canvas.toDataURL());\n",
       "    }\n",
       "\n",
       "    var fig = new mpl.figure(id, ws_proxy, ondownload, element);\n",
       "\n",
       "    // Call onopen now - mpl needs it, as it is assuming we've passed it a real\n",
       "    // web socket which is closed, not our websocket->open comm proxy.\n",
       "    ws_proxy.onopen();\n",
       "\n",
       "    fig.parent_element = element;\n",
       "    fig.cell_info = mpl.find_output_cell(\"<div id='\" + id + \"'></div>\");\n",
       "    if (!fig.cell_info) {\n",
       "        console.error('Failed to find cell for figure', id, fig);\n",
       "        return;\n",
       "    }\n",
       "    fig.cell_info[0].output_area.element.on(\n",
       "        'cleared',\n",
       "        { fig: fig },\n",
       "        fig._remove_fig_handler\n",
       "    );\n",
       "};\n",
       "\n",
       "mpl.figure.prototype.handle_close = function (fig, msg) {\n",
       "    var width = fig.canvas.width / fig.ratio;\n",
       "    fig.cell_info[0].output_area.element.off(\n",
       "        'cleared',\n",
       "        fig._remove_fig_handler\n",
       "    );\n",
       "    fig.resizeObserverInstance.unobserve(fig.canvas_div);\n",
       "\n",
       "    // Update the output cell to use the data from the current canvas.\n",
       "    fig.push_to_output();\n",
       "    var dataURL = fig.canvas.toDataURL();\n",
       "    // Re-enable the keyboard manager in IPython - without this line, in FF,\n",
       "    // the notebook keyboard shortcuts fail.\n",
       "    IPython.keyboard_manager.enable();\n",
       "    fig.parent_element.innerHTML =\n",
       "        '<img src=\"' + dataURL + '\" width=\"' + width + '\">';\n",
       "    fig.close_ws(fig, msg);\n",
       "};\n",
       "\n",
       "mpl.figure.prototype.close_ws = function (fig, msg) {\n",
       "    fig.send_message('closing', msg);\n",
       "    // fig.ws.close()\n",
       "};\n",
       "\n",
       "mpl.figure.prototype.push_to_output = function (_remove_interactive) {\n",
       "    // Turn the data on the canvas into data in the output cell.\n",
       "    var width = this.canvas.width / this.ratio;\n",
       "    var dataURL = this.canvas.toDataURL();\n",
       "    this.cell_info[1]['text/html'] =\n",
       "        '<img src=\"' + dataURL + '\" width=\"' + width + '\">';\n",
       "};\n",
       "\n",
       "mpl.figure.prototype.updated_canvas_event = function () {\n",
       "    // Tell IPython that the notebook contents must change.\n",
       "    IPython.notebook.set_dirty(true);\n",
       "    this.send_message('ack', {});\n",
       "    var fig = this;\n",
       "    // Wait a second, then push the new image to the DOM so\n",
       "    // that it is saved nicely (might be nice to debounce this).\n",
       "    setTimeout(function () {\n",
       "        fig.push_to_output();\n",
       "    }, 1000);\n",
       "};\n",
       "\n",
       "mpl.figure.prototype._init_toolbar = function () {\n",
       "    var fig = this;\n",
       "\n",
       "    var toolbar = document.createElement('div');\n",
       "    toolbar.classList = 'btn-toolbar';\n",
       "    this.root.appendChild(toolbar);\n",
       "\n",
       "    function on_click_closure(name) {\n",
       "        return function (_event) {\n",
       "            return fig.toolbar_button_onclick(name);\n",
       "        };\n",
       "    }\n",
       "\n",
       "    function on_mouseover_closure(tooltip) {\n",
       "        return function (event) {\n",
       "            if (!event.currentTarget.disabled) {\n",
       "                return fig.toolbar_button_onmouseover(tooltip);\n",
       "            }\n",
       "        };\n",
       "    }\n",
       "\n",
       "    fig.buttons = {};\n",
       "    var buttonGroup = document.createElement('div');\n",
       "    buttonGroup.classList = 'btn-group';\n",
       "    var button;\n",
       "    for (var toolbar_ind in mpl.toolbar_items) {\n",
       "        var name = mpl.toolbar_items[toolbar_ind][0];\n",
       "        var tooltip = mpl.toolbar_items[toolbar_ind][1];\n",
       "        var image = mpl.toolbar_items[toolbar_ind][2];\n",
       "        var method_name = mpl.toolbar_items[toolbar_ind][3];\n",
       "\n",
       "        if (!name) {\n",
       "            /* Instead of a spacer, we start a new button group. */\n",
       "            if (buttonGroup.hasChildNodes()) {\n",
       "                toolbar.appendChild(buttonGroup);\n",
       "            }\n",
       "            buttonGroup = document.createElement('div');\n",
       "            buttonGroup.classList = 'btn-group';\n",
       "            continue;\n",
       "        }\n",
       "\n",
       "        button = fig.buttons[name] = document.createElement('button');\n",
       "        button.classList = 'btn btn-default';\n",
       "        button.href = '#';\n",
       "        button.title = name;\n",
       "        button.innerHTML = '<i class=\"fa ' + image + ' fa-lg\"></i>';\n",
       "        button.addEventListener('click', on_click_closure(method_name));\n",
       "        button.addEventListener('mouseover', on_mouseover_closure(tooltip));\n",
       "        buttonGroup.appendChild(button);\n",
       "    }\n",
       "\n",
       "    if (buttonGroup.hasChildNodes()) {\n",
       "        toolbar.appendChild(buttonGroup);\n",
       "    }\n",
       "\n",
       "    // Add the status bar.\n",
       "    var status_bar = document.createElement('span');\n",
       "    status_bar.classList = 'mpl-message pull-right';\n",
       "    toolbar.appendChild(status_bar);\n",
       "    this.message = status_bar;\n",
       "\n",
       "    // Add the close button to the window.\n",
       "    var buttongrp = document.createElement('div');\n",
       "    buttongrp.classList = 'btn-group inline pull-right';\n",
       "    button = document.createElement('button');\n",
       "    button.classList = 'btn btn-mini btn-primary';\n",
       "    button.href = '#';\n",
       "    button.title = 'Stop Interaction';\n",
       "    button.innerHTML = '<i class=\"fa fa-power-off icon-remove icon-large\"></i>';\n",
       "    button.addEventListener('click', function (_evt) {\n",
       "        fig.handle_close(fig, {});\n",
       "    });\n",
       "    button.addEventListener(\n",
       "        'mouseover',\n",
       "        on_mouseover_closure('Stop Interaction')\n",
       "    );\n",
       "    buttongrp.appendChild(button);\n",
       "    var titlebar = this.root.querySelector('.ui-dialog-titlebar');\n",
       "    titlebar.insertBefore(buttongrp, titlebar.firstChild);\n",
       "};\n",
       "\n",
       "mpl.figure.prototype._remove_fig_handler = function (event) {\n",
       "    var fig = event.data.fig;\n",
       "    if (event.target !== this) {\n",
       "        // Ignore bubbled events from children.\n",
       "        return;\n",
       "    }\n",
       "    fig.close_ws(fig, {});\n",
       "};\n",
       "\n",
       "mpl.figure.prototype._root_extra_style = function (el) {\n",
       "    el.style.boxSizing = 'content-box'; // override notebook setting of border-box.\n",
       "};\n",
       "\n",
       "mpl.figure.prototype._canvas_extra_style = function (el) {\n",
       "    // this is important to make the div 'focusable\n",
       "    el.setAttribute('tabindex', 0);\n",
       "    // reach out to IPython and tell the keyboard manager to turn it's self\n",
       "    // off when our div gets focus\n",
       "\n",
       "    // location in version 3\n",
       "    if (IPython.notebook.keyboard_manager) {\n",
       "        IPython.notebook.keyboard_manager.register_events(el);\n",
       "    } else {\n",
       "        // location in version 2\n",
       "        IPython.keyboard_manager.register_events(el);\n",
       "    }\n",
       "};\n",
       "\n",
       "mpl.figure.prototype._key_event_extra = function (event, _name) {\n",
       "    var manager = IPython.notebook.keyboard_manager;\n",
       "    if (!manager) {\n",
       "        manager = IPython.keyboard_manager;\n",
       "    }\n",
       "\n",
       "    // Check for shift+enter\n",
       "    if (event.shiftKey && event.which === 13) {\n",
       "        this.canvas_div.blur();\n",
       "        // select the cell after this one\n",
       "        var index = IPython.notebook.find_cell_index(this.cell_info[0]);\n",
       "        IPython.notebook.select(index + 1);\n",
       "    }\n",
       "};\n",
       "\n",
       "mpl.figure.prototype.handle_save = function (fig, _msg) {\n",
       "    fig.ondownload(fig, null);\n",
       "};\n",
       "\n",
       "mpl.find_output_cell = function (html_output) {\n",
       "    // Return the cell and output element which can be found *uniquely* in the notebook.\n",
       "    // Note - this is a bit hacky, but it is done because the \"notebook_saving.Notebook\"\n",
       "    // IPython event is triggered only after the cells have been serialised, which for\n",
       "    // our purposes (turning an active figure into a static one), is too late.\n",
       "    var cells = IPython.notebook.get_cells();\n",
       "    var ncells = cells.length;\n",
       "    for (var i = 0; i < ncells; i++) {\n",
       "        var cell = cells[i];\n",
       "        if (cell.cell_type === 'code') {\n",
       "            for (var j = 0; j < cell.output_area.outputs.length; j++) {\n",
       "                var data = cell.output_area.outputs[j];\n",
       "                if (data.data) {\n",
       "                    // IPython >= 3 moved mimebundle to data attribute of output\n",
       "                    data = data.data;\n",
       "                }\n",
       "                if (data['text/html'] === html_output) {\n",
       "                    return [cell, data, j];\n",
       "                }\n",
       "            }\n",
       "        }\n",
       "    }\n",
       "};\n",
       "\n",
       "// Register the function which deals with the matplotlib target/channel.\n",
       "// The kernel may be null if the page has been refreshed.\n",
       "if (IPython.notebook.kernel !== null) {\n",
       "    IPython.notebook.kernel.comm_manager.register_target(\n",
       "        'matplotlib',\n",
       "        mpl.mpl_figure_comm\n",
       "    );\n",
       "}\n"
      ],
      "text/plain": [
       "<IPython.core.display.Javascript object>"
      ]
     },
     "metadata": {},
     "output_type": "display_data"
    },
    {
     "data": {
      "text/html": [
       "<img src=\"data:image/png;base64,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\" width=\"640\">"
      ],
      "text/plain": [
       "<IPython.core.display.HTML object>"
      ]
     },
     "metadata": {},
     "output_type": "display_data"
    }
   ],
   "source": [
    "fig, ax1 = plt.subplots(1,1,dpi=100)\n",
    "\n",
    "X = np.linspace(-6,6,200)\n",
    "t_axis = np.linspace(0, 2*np.pi, 100)\n",
    "\n",
    "xdata1, ydata1 = [], []\n",
    "xdata2, ydata2 = [], []\n",
    "\n",
    "myplot1, = ax1.plot([],[],'green')\n",
    "\n",
    "time_template = 'time = %.1fs'\n",
    "time_text1 = ax1.text(0.37, 0.95, '', transform=ax1.transAxes)\n",
    "\n",
    "\n",
    "def init():\n",
    "    ax1.grid(True)\n",
    "    ax1.set_title(\"Bohmian PES\", fontsize=15)\n",
    "    ax1.set_xlabel(\"x\")\n",
    "    ax1.set_ylabel(\"$U_{classic}(x, t) + U_{quantum}(x, t)$\")\n",
    "    ax1.set_xlim(-3,3)\n",
    "    ax1.set_ylim(-5,5)\n",
    "    \n",
    "#     ax.plot((-1,-1),(0,0.45),color=\"black\",linestyle=\"--\", alpha=0.35)\n",
    "#     ax.plot(( 1, 1),(0,0.45),color=\"black\",linestyle=\"--\", alpha=0.35)\n",
    "    return myplot1,\n",
    "    \n",
    "def update(i):\n",
    "    t0 = t_axis[i]\n",
    "    # clear previous data\n",
    "    xdata1, ydata1 = [], []\n",
    "    \n",
    "    # update curve data\n",
    "    xdata1.append(X)\n",
    "    ydata1.append([U_evaluated(t0,x0) for x0 in X])\n",
    "    \n",
    "    myplot1.set_data(xdata1, ydata1)\n",
    "    \n",
    "    time_text1.set_text(time_template % t0)\n",
    "    \n",
    "    return myplot1, time_text1,\n",
    "\n",
    "anim = animation.FuncAnimation(fig, update, 100, interval=50, init_func=init, blit=True)\n",
    "# anim.save('animation.gif', writer='imagemagick', fps=50, dpi=200)\n",
    "fig.tight_layout()\n",
    "plt.show()"
   ]
  },
  {
   "cell_type": "markdown",
   "metadata": {},
   "source": [
    "## CASE 3"
   ]
  },
  {
   "cell_type": "markdown",
   "metadata": {},
   "source": [
    "### Wave function"
   ]
  },
  {
   "cell_type": "markdown",
   "metadata": {},
   "source": [
    "$\\Psi(x,y,t) = \\psi_{0,0} + c_2 \\psi_{1,1}$"
   ]
  },
  {
   "cell_type": "code",
   "execution_count": 9,
   "metadata": {
    "ExecuteTime": {
     "end_time": "2021-08-03T14:39:19.561068Z",
     "start_time": "2021-08-03T14:39:19.499839Z"
    }
   },
   "outputs": [
    {
     "data": {
      "text/latex": [
       "$\\displaystyle \\frac{2 c_{2} \\sqrt{\\omega_{1}} \\sqrt{\\omega_{2}} x y \\sqrt[4]{\\omega_{1} \\omega_{2}} e^{- i t \\left(\\frac{3 \\omega_{1}}{2} + \\frac{3 \\omega_{2}}{2}\\right)} e^{- \\frac{\\omega_{1} x^{2}}{2} - \\frac{\\omega_{2} y^{2}}{2}}}{\\sqrt{\\pi}} + \\frac{\\sqrt[4]{\\omega_{1} \\omega_{2}} e^{- i t \\left(\\frac{\\omega_{1}}{2} + \\frac{\\omega_{2}}{2}\\right)} e^{- \\frac{\\omega_{1} x^{2}}{2} - \\frac{\\omega_{2} y^{2}}{2}}}{\\sqrt{\\pi}}$"
      ],
      "text/plain": [
       "2*c2*sqrt(omega1)*sqrt(omega2)*x*y*(omega1*omega2)**(1/4)*exp(-I*t*(3*omega1/2 + 3*omega2/2))*exp(-omega1*x**2/2 - omega2*y**2/2)/sqrt(pi) + (omega1*omega2)**(1/4)*exp(-I*t*(omega1/2 + omega2/2))*exp(-omega1*x**2/2 - omega2*y**2/2)/sqrt(pi)"
      ]
     },
     "execution_count": 9,
     "metadata": {},
     "output_type": "execute_result"
    }
   ],
   "source": [
    "Psi = psi_n1n2(0,0) + c2*psi_n1n2(1,1)\n",
    "Psi"
   ]
  },
  {
   "cell_type": "markdown",
   "metadata": {},
   "source": [
    "Transform to vector "
   ]
  },
  {
   "cell_type": "code",
   "execution_count": 10,
   "metadata": {
    "ExecuteTime": {
     "end_time": "2021-08-03T14:39:26.781573Z",
     "start_time": "2021-08-03T14:39:26.764967Z"
    }
   },
   "outputs": [],
   "source": [
    "from sympy.vector import CoordSys3D, gradient\n",
    "r = CoordSys3D('r')"
   ]
  },
  {
   "cell_type": "code",
   "execution_count": 11,
   "metadata": {
    "ExecuteTime": {
     "end_time": "2021-08-03T14:39:28.988620Z",
     "start_time": "2021-08-03T14:39:28.964561Z"
    }
   },
   "outputs": [],
   "source": [
    "Psi = Psi.subs([(x, r.x), (y, r.y)])"
   ]
  },
  {
   "cell_type": "code",
   "execution_count": 12,
   "metadata": {
    "ExecuteTime": {
     "end_time": "2021-08-03T14:39:33.906357Z",
     "start_time": "2021-08-03T14:39:33.898062Z"
    }
   },
   "outputs": [
    {
     "data": {
      "text/latex": [
       "$\\displaystyle \\frac{2 \\mathbf{{x}_{r}} \\mathbf{{y}_{r}} c_{2} \\sqrt{\\omega_{1}} \\sqrt{\\omega_{2}} \\sqrt[4]{\\omega_{1} \\omega_{2}} e^{- i t \\left(\\frac{3 \\omega_{1}}{2} + \\frac{3 \\omega_{2}}{2}\\right)} e^{- \\frac{\\mathbf{{x}_{r}}^{2} \\omega_{1}}{2} - \\frac{\\mathbf{{y}_{r}}^{2} \\omega_{2}}{2}}}{\\sqrt{\\pi}} + \\frac{\\sqrt[4]{\\omega_{1} \\omega_{2}} e^{- i t \\left(\\frac{\\omega_{1}}{2} + \\frac{\\omega_{2}}{2}\\right)} e^{- \\frac{\\mathbf{{x}_{r}}^{2} \\omega_{1}}{2} - \\frac{\\mathbf{{y}_{r}}^{2} \\omega_{2}}{2}}}{\\sqrt{\\pi}}$"
      ],
      "text/plain": [
       "2*r.x*r.y*c2*sqrt(omega1)*sqrt(omega2)*(omega1*omega2)**(1/4)*exp(-I*t*(3*omega1/2 + 3*omega2/2))*exp(-r.x**2*omega1/2 - r.y**2*omega2/2)/sqrt(pi) + (omega1*omega2)**(1/4)*exp(-I*t*(omega1/2 + omega2/2))*exp(-r.x**2*omega1/2 - r.y**2*omega2/2)/sqrt(pi)"
      ]
     },
     "execution_count": 12,
     "metadata": {},
     "output_type": "execute_result"
    }
   ],
   "source": [
    "Psi"
   ]
  },
  {
   "cell_type": "markdown",
   "metadata": {},
   "source": [
    "### Compute vector field"
   ]
  },
  {
   "cell_type": "markdown",
   "metadata": {},
   "source": [
    "$\\nabla_{x,y} \\Psi = $"
   ]
  },
  {
   "cell_type": "code",
   "execution_count": 13,
   "metadata": {
    "ExecuteTime": {
     "end_time": "2021-08-03T14:39:39.677873Z",
     "start_time": "2021-08-03T14:39:39.632226Z"
    }
   },
   "outputs": [
    {
     "data": {
      "text/latex": [
       "$\\displaystyle (- \\frac{2 \\mathbf{{x}_{r}}^{2} \\mathbf{{y}_{r}} c_{2} \\omega_{1}^{\\frac{3}{2}} \\sqrt{\\omega_{2}} \\sqrt[4]{\\omega_{1} \\omega_{2}} e^{- i t \\left(\\frac{3 \\omega_{1}}{2} + \\frac{3 \\omega_{2}}{2}\\right)} e^{- \\frac{\\mathbf{{x}_{r}}^{2} \\omega_{1}}{2} - \\frac{\\mathbf{{y}_{r}}^{2} \\omega_{2}}{2}}}{\\sqrt{\\pi}} - \\frac{\\mathbf{{x}_{r}} \\omega_{1} \\sqrt[4]{\\omega_{1} \\omega_{2}} e^{- i t \\left(\\frac{\\omega_{1}}{2} + \\frac{\\omega_{2}}{2}\\right)} e^{- \\frac{\\mathbf{{x}_{r}}^{2} \\omega_{1}}{2} - \\frac{\\mathbf{{y}_{r}}^{2} \\omega_{2}}{2}}}{\\sqrt{\\pi}} + \\frac{2 \\mathbf{{y}_{r}} c_{2} \\sqrt{\\omega_{1}} \\sqrt{\\omega_{2}} \\sqrt[4]{\\omega_{1} \\omega_{2}} e^{- i t \\left(\\frac{3 \\omega_{1}}{2} + \\frac{3 \\omega_{2}}{2}\\right)} e^{- \\frac{\\mathbf{{x}_{r}}^{2} \\omega_{1}}{2} - \\frac{\\mathbf{{y}_{r}}^{2} \\omega_{2}}{2}}}{\\sqrt{\\pi}})\\mathbf{\\hat{i}_{r}} + (- \\frac{2 \\mathbf{{x}_{r}} \\mathbf{{y}_{r}}^{2} c_{2} \\sqrt{\\omega_{1}} \\omega_{2}^{\\frac{3}{2}} \\sqrt[4]{\\omega_{1} \\omega_{2}} e^{- i t \\left(\\frac{3 \\omega_{1}}{2} + \\frac{3 \\omega_{2}}{2}\\right)} e^{- \\frac{\\mathbf{{x}_{r}}^{2} \\omega_{1}}{2} - \\frac{\\mathbf{{y}_{r}}^{2} \\omega_{2}}{2}}}{\\sqrt{\\pi}} + \\frac{2 \\mathbf{{x}_{r}} c_{2} \\sqrt{\\omega_{1}} \\sqrt{\\omega_{2}} \\sqrt[4]{\\omega_{1} \\omega_{2}} e^{- i t \\left(\\frac{3 \\omega_{1}}{2} + \\frac{3 \\omega_{2}}{2}\\right)} e^{- \\frac{\\mathbf{{x}_{r}}^{2} \\omega_{1}}{2} - \\frac{\\mathbf{{y}_{r}}^{2} \\omega_{2}}{2}}}{\\sqrt{\\pi}} - \\frac{\\mathbf{{y}_{r}} \\omega_{2} \\sqrt[4]{\\omega_{1} \\omega_{2}} e^{- i t \\left(\\frac{\\omega_{1}}{2} + \\frac{\\omega_{2}}{2}\\right)} e^{- \\frac{\\mathbf{{x}_{r}}^{2} \\omega_{1}}{2} - \\frac{\\mathbf{{y}_{r}}^{2} \\omega_{2}}{2}}}{\\sqrt{\\pi}})\\mathbf{\\hat{j}_{r}}$"
      ],
      "text/plain": [
       "(-2*r.x**2*r.y*c2*omega1**(3/2)*sqrt(omega2)*(omega1*omega2)**(1/4)*exp(-I*t*(3*omega1/2 + 3*omega2/2))*exp(-r.x**2*omega1/2 - r.y**2*omega2/2)/sqrt(pi) - r.x*omega1*(omega1*omega2)**(1/4)*exp(-I*t*(omega1/2 + omega2/2))*exp(-r.x**2*omega1/2 - r.y**2*omega2/2)/sqrt(pi) + 2*r.y*c2*sqrt(omega1)*sqrt(omega2)*(omega1*omega2)**(1/4)*exp(-I*t*(3*omega1/2 + 3*omega2/2))*exp(-r.x**2*omega1/2 - r.y**2*omega2/2)/sqrt(pi))*r.i + (-2*r.x*r.y**2*c2*sqrt(omega1)*omega2**(3/2)*(omega1*omega2)**(1/4)*exp(-I*t*(3*omega1/2 + 3*omega2/2))*exp(-r.x**2*omega1/2 - r.y**2*omega2/2)/sqrt(pi) + 2*r.x*c2*sqrt(omega1)*sqrt(omega2)*(omega1*omega2)**(1/4)*exp(-I*t*(3*omega1/2 + 3*omega2/2))*exp(-r.x**2*omega1/2 - r.y**2*omega2/2)/sqrt(pi) - r.y*omega2*(omega1*omega2)**(1/4)*exp(-I*t*(omega1/2 + omega2/2))*exp(-r.x**2*omega1/2 - r.y**2*omega2/2)/sqrt(pi))*r.j"
      ]
     },
     "execution_count": 13,
     "metadata": {},
     "output_type": "execute_result"
    }
   ],
   "source": [
    "Del_Psi = gradient(Psi)\n",
    "Del_Psi"
   ]
  },
  {
   "cell_type": "markdown",
   "metadata": {},
   "source": [
    "$\\nabla_{x,y} \\Psi / \\Psi= $"
   ]
  },
  {
   "cell_type": "code",
   "execution_count": 14,
   "metadata": {
    "ExecuteTime": {
     "end_time": "2021-08-03T14:39:51.910770Z",
     "start_time": "2021-08-03T14:39:51.406786Z"
    }
   },
   "outputs": [
    {
     "data": {
      "text/latex": [
       "$\\displaystyle (\\frac{- 2 c_{2} \\omega_{1}^{\\frac{3}{2}} \\sqrt{\\omega_{2}} x^{2} y + 2 c_{2} \\sqrt{\\omega_{1}} \\sqrt{\\omega_{2}} y - \\omega_{1} x e^{i t \\left(\\omega_{1} + \\omega_{2}\\right)}}{2 c_{2} \\sqrt{\\omega_{1}} \\sqrt{\\omega_{2}} x y + e^{i t \\left(\\omega_{1} + \\omega_{2}\\right)}})\\mathbf{\\hat{i}_{r}} + (\\frac{- 2 c_{2} \\sqrt{\\omega_{1}} \\omega_{2}^{\\frac{3}{2}} x y^{2} + 2 c_{2} \\sqrt{\\omega_{1}} \\sqrt{\\omega_{2}} x - \\omega_{2} y e^{i t \\left(\\omega_{1} + \\omega_{2}\\right)}}{2 c_{2} \\sqrt{\\omega_{1}} \\sqrt{\\omega_{2}} x y + e^{i t \\left(\\omega_{1} + \\omega_{2}\\right)}})\\mathbf{\\hat{j}_{r}}$"
      ],
      "text/plain": [
       "((-2*c2*omega1**(3/2)*sqrt(omega2)*x**2*y + 2*c2*sqrt(omega1)*sqrt(omega2)*y - omega1*x*exp(I*t*(omega1 + omega2)))/(2*c2*sqrt(omega1)*sqrt(omega2)*x*y + exp(I*t*(omega1 + omega2))))*r.i + ((-2*c2*sqrt(omega1)*omega2**(3/2)*x*y**2 + 2*c2*sqrt(omega1)*sqrt(omega2)*x - omega2*y*exp(I*t*(omega1 + omega2)))/(2*c2*sqrt(omega1)*sqrt(omega2)*x*y + exp(I*t*(omega1 + omega2))))*r.j"
      ]
     },
     "execution_count": 14,
     "metadata": {},
     "output_type": "execute_result"
    }
   ],
   "source": [
    "expr = Del_Psi/Psi\n",
    "expr = expr.simplify()\n",
    "expr = expr.subs([(r.x, x), (r.y, y)])\n",
    "expr"
   ]
  },
  {
   "cell_type": "markdown",
   "metadata": {},
   "source": [
    "### Simplify vector field"
   ]
  },
  {
   "cell_type": "markdown",
   "metadata": {},
   "source": [
    "$\\partial_x \\Psi / \\Psi = $"
   ]
  },
  {
   "cell_type": "code",
   "execution_count": 15,
   "metadata": {
    "ExecuteTime": {
     "end_time": "2021-08-03T14:42:20.244950Z",
     "start_time": "2021-08-03T14:42:20.225029Z"
    }
   },
   "outputs": [
    {
     "data": {
      "text/latex": [
       "$\\displaystyle (\\frac{- 2 c_{2} \\omega_{1}^{\\frac{3}{2}} \\sqrt{\\omega_{2}} x^{2} y + 2 c_{2} \\sqrt{\\omega_{1}} \\sqrt{\\omega_{2}} y - \\omega_{1} x \\left(i \\sin{\\left(t \\left(\\omega_{1} + \\omega_{2}\\right) \\right)} + \\cos{\\left(t \\left(\\omega_{1} + \\omega_{2}\\right) \\right)}\\right)}{2 c_{2} \\sqrt{\\omega_{1}} \\sqrt{\\omega_{2}} x y + i \\sin{\\left(t \\left(\\omega_{1} + \\omega_{2}\\right) \\right)} + \\cos{\\left(t \\left(\\omega_{1} + \\omega_{2}\\right) \\right)}})\\mathbf{\\hat{i}_{r}}$"
      ],
      "text/plain": [
       "((-2*c2*omega1**(3/2)*sqrt(omega2)*x**2*y + 2*c2*sqrt(omega1)*sqrt(omega2)*y - omega1*x*(I*sin(t*(omega1 + omega2)) + cos(t*(omega1 + omega2))))/(2*c2*sqrt(omega1)*sqrt(omega2)*x*y + I*sin(t*(omega1 + omega2)) + cos(t*(omega1 + omega2))))*r.i"
      ]
     },
     "execution_count": 15,
     "metadata": {},
     "output_type": "execute_result"
    }
   ],
   "source": [
    "vx = expr.args[0]\n",
    "vx = vx.subs(sym.exp(sym.I*t*(omega1 + omega2)), sym.cos(t*(omega1 + omega2)) + sym.I*sym.sin(t*(omega1 + omega2)))\n",
    "vx"
   ]
  },
  {
   "cell_type": "code",
   "execution_count": 16,
   "metadata": {
    "ExecuteTime": {
     "end_time": "2021-08-03T14:43:21.265154Z",
     "start_time": "2021-08-03T14:43:21.259551Z"
    }
   },
   "outputs": [
    {
     "data": {
      "text/latex": [
       "$\\displaystyle - 2 c_{2} \\omega_{1}^{\\frac{3}{2}} \\sqrt{\\omega_{2}} x^{2} y + 2 c_{2} \\sqrt{\\omega_{1}} \\sqrt{\\omega_{2}} y - \\omega_{1} x \\left(i \\sin{\\left(t \\left(\\omega_{1} + \\omega_{2}\\right) \\right)} + \\cos{\\left(t \\left(\\omega_{1} + \\omega_{2}\\right) \\right)}\\right)$"
      ],
      "text/plain": [
       "-2*c2*omega1**(3/2)*sqrt(omega2)*x**2*y + 2*c2*sqrt(omega1)*sqrt(omega2)*y - omega1*x*(I*sin(t*(omega1 + omega2)) + cos(t*(omega1 + omega2)))"
      ]
     },
     "execution_count": 16,
     "metadata": {},
     "output_type": "execute_result"
    }
   ],
   "source": [
    "vx.args[1]"
   ]
  },
  {
   "cell_type": "code",
   "execution_count": 17,
   "metadata": {
    "ExecuteTime": {
     "end_time": "2021-08-03T14:43:25.043964Z",
     "start_time": "2021-08-03T14:43:25.038967Z"
    }
   },
   "outputs": [
    {
     "data": {
      "text/latex": [
       "$\\displaystyle \\frac{1}{2 c_{2} \\sqrt{\\omega_{1}} \\sqrt{\\omega_{2}} x y + i \\sin{\\left(t \\left(\\omega_{1} + \\omega_{2}\\right) \\right)} + \\cos{\\left(t \\left(\\omega_{1} + \\omega_{2}\\right) \\right)}}$"
      ],
      "text/plain": [
       "1/(2*c2*sqrt(omega1)*sqrt(omega2)*x*y + I*sin(t*(omega1 + omega2)) + cos(t*(omega1 + omega2)))"
      ]
     },
     "execution_count": 17,
     "metadata": {},
     "output_type": "execute_result"
    }
   ],
   "source": [
    "vx.args[0]"
   ]
  },
  {
   "cell_type": "markdown",
   "metadata": {},
   "source": [
    "$\\partial_y \\Psi / \\Psi = $"
   ]
  },
  {
   "cell_type": "code",
   "execution_count": 19,
   "metadata": {
    "ExecuteTime": {
     "end_time": "2021-08-03T14:45:59.896545Z",
     "start_time": "2021-08-03T14:45:59.884815Z"
    }
   },
   "outputs": [
    {
     "data": {
      "text/latex": [
       "$\\displaystyle (\\frac{- 2 c_{2} \\sqrt{\\omega_{1}} \\omega_{2}^{\\frac{3}{2}} x y^{2} + 2 c_{2} \\sqrt{\\omega_{1}} \\sqrt{\\omega_{2}} x - \\omega_{2} y \\left(i \\sin{\\left(t \\left(\\omega_{1} + \\omega_{2}\\right) \\right)} + \\cos{\\left(t \\left(\\omega_{1} + \\omega_{2}\\right) \\right)}\\right)}{2 c_{2} \\sqrt{\\omega_{1}} \\sqrt{\\omega_{2}} x y + i \\sin{\\left(t \\left(\\omega_{1} + \\omega_{2}\\right) \\right)} + \\cos{\\left(t \\left(\\omega_{1} + \\omega_{2}\\right) \\right)}})\\mathbf{\\hat{j}_{r}}$"
      ],
      "text/plain": [
       "((-2*c2*sqrt(omega1)*omega2**(3/2)*x*y**2 + 2*c2*sqrt(omega1)*sqrt(omega2)*x - omega2*y*(I*sin(t*(omega1 + omega2)) + cos(t*(omega1 + omega2))))/(2*c2*sqrt(omega1)*sqrt(omega2)*x*y + I*sin(t*(omega1 + omega2)) + cos(t*(omega1 + omega2))))*r.j"
      ]
     },
     "execution_count": 19,
     "metadata": {},
     "output_type": "execute_result"
    }
   ],
   "source": [
    "vy = expr.args[1]\n",
    "# employ Euler's formula\n",
    "vy = vy.subs(sym.exp(sym.I*t*(omega1 + omega2)), sym.cos(t*(omega1 + omega2)) + sym.I*sym.sin(t*(omega1 + omega2)))\n",
    "vy"
   ]
  },
  {
   "cell_type": "code",
   "execution_count": 20,
   "metadata": {
    "ExecuteTime": {
     "end_time": "2021-08-03T14:46:07.652922Z",
     "start_time": "2021-08-03T14:46:07.644149Z"
    }
   },
   "outputs": [
    {
     "data": {
      "text/latex": [
       "$\\displaystyle - 2 c_{2} \\sqrt{\\omega_{1}} \\omega_{2}^{\\frac{3}{2}} x y^{2} + 2 c_{2} \\sqrt{\\omega_{1}} \\sqrt{\\omega_{2}} x - \\omega_{2} y \\left(i \\sin{\\left(t \\left(\\omega_{1} + \\omega_{2}\\right) \\right)} + \\cos{\\left(t \\left(\\omega_{1} + \\omega_{2}\\right) \\right)}\\right)$"
      ],
      "text/plain": [
       "-2*c2*sqrt(omega1)*omega2**(3/2)*x*y**2 + 2*c2*sqrt(omega1)*sqrt(omega2)*x - omega2*y*(I*sin(t*(omega1 + omega2)) + cos(t*(omega1 + omega2)))"
      ]
     },
     "execution_count": 20,
     "metadata": {},
     "output_type": "execute_result"
    }
   ],
   "source": [
    "vy.args[1]"
   ]
  },
  {
   "cell_type": "code",
   "execution_count": 21,
   "metadata": {
    "ExecuteTime": {
     "end_time": "2021-08-03T14:46:11.698036Z",
     "start_time": "2021-08-03T14:46:11.680210Z"
    }
   },
   "outputs": [
    {
     "data": {
      "text/latex": [
       "$\\displaystyle \\frac{1}{2 c_{2} \\sqrt{\\omega_{1}} \\sqrt{\\omega_{2}} x y + i \\sin{\\left(t \\left(\\omega_{1} + \\omega_{2}\\right) \\right)} + \\cos{\\left(t \\left(\\omega_{1} + \\omega_{2}\\right) \\right)}}$"
      ],
      "text/plain": [
       "1/(2*c2*sqrt(omega1)*sqrt(omega2)*x*y + I*sin(t*(omega1 + omega2)) + cos(t*(omega1 + omega2)))"
      ]
     },
     "execution_count": 21,
     "metadata": {},
     "output_type": "execute_result"
    }
   ],
   "source": [
    "vy.args[0]"
   ]
  },
  {
   "cell_type": "markdown",
   "metadata": {},
   "source": [
    "### Vector field: final form"
   ]
  },
  {
   "cell_type": "code",
   "execution_count": null,
   "metadata": {},
   "outputs": [],
   "source": []
  },
  {
   "cell_type": "markdown",
   "metadata": {},
   "source": [
    "## CASE 4"
   ]
  },
  {
   "cell_type": "markdown",
   "metadata": {},
   "source": [
    "### Wave function"
   ]
  },
  {
   "cell_type": "markdown",
   "metadata": {},
   "source": [
    "$\\Psi(x,y,t) = \\psi_{0,0} + c_1 \\psi_{1,0} + c_2 \\psi_{1,1}$"
   ]
  },
  {
   "cell_type": "code",
   "execution_count": 44,
   "metadata": {
    "ExecuteTime": {
     "end_time": "2021-08-03T17:52:44.159719Z",
     "start_time": "2021-08-03T17:52:44.129475Z"
    }
   },
   "outputs": [
    {
     "data": {
      "text/latex": [
       "$\\displaystyle \\frac{\\sqrt{2} c_{1} \\sqrt{\\omega_{1}} x \\sqrt[4]{\\omega_{1} \\omega_{2}} e^{- i t \\left(\\frac{3 \\omega_{1}}{2} + \\frac{\\omega_{2}}{2}\\right)} e^{- \\frac{\\omega_{1} x^{2}}{2} - \\frac{\\omega_{2} y^{2}}{2}}}{\\sqrt{\\pi}} + \\frac{2 c_{2} \\sqrt{\\omega_{1}} \\sqrt{\\omega_{2}} x y \\sqrt[4]{\\omega_{1} \\omega_{2}} e^{- i t \\left(\\frac{3 \\omega_{1}}{2} + \\frac{3 \\omega_{2}}{2}\\right)} e^{- \\frac{\\omega_{1} x^{2}}{2} - \\frac{\\omega_{2} y^{2}}{2}}}{\\sqrt{\\pi}} + \\frac{\\sqrt[4]{\\omega_{1} \\omega_{2}} e^{- i t \\left(\\frac{\\omega_{1}}{2} + \\frac{\\omega_{2}}{2}\\right)} e^{- \\frac{\\omega_{1} x^{2}}{2} - \\frac{\\omega_{2} y^{2}}{2}}}{\\sqrt{\\pi}}$"
      ],
      "text/plain": [
       "sqrt(2)*c1*sqrt(omega1)*x*(omega1*omega2)**(1/4)*exp(-I*t*(3*omega1/2 + omega2/2))*exp(-omega1*x**2/2 - omega2*y**2/2)/sqrt(pi) + 2*c2*sqrt(omega1)*sqrt(omega2)*x*y*(omega1*omega2)**(1/4)*exp(-I*t*(3*omega1/2 + 3*omega2/2))*exp(-omega1*x**2/2 - omega2*y**2/2)/sqrt(pi) + (omega1*omega2)**(1/4)*exp(-I*t*(omega1/2 + omega2/2))*exp(-omega1*x**2/2 - omega2*y**2/2)/sqrt(pi)"
      ]
     },
     "execution_count": 44,
     "metadata": {},
     "output_type": "execute_result"
    }
   ],
   "source": [
    "Psi = psi_n1n2(0,0) + c1*psi_n1n2(1,0) + c2*psi_n1n2(1,1)\n",
    "Psi"
   ]
  },
  {
   "cell_type": "markdown",
   "metadata": {},
   "source": [
    "Transform to vector "
   ]
  },
  {
   "cell_type": "code",
   "execution_count": 45,
   "metadata": {
    "ExecuteTime": {
     "end_time": "2021-08-03T17:52:45.918360Z",
     "start_time": "2021-08-03T17:52:45.913432Z"
    }
   },
   "outputs": [],
   "source": [
    "from sympy.vector import CoordSys3D, gradient\n",
    "r = CoordSys3D('r')"
   ]
  },
  {
   "cell_type": "code",
   "execution_count": 46,
   "metadata": {
    "ExecuteTime": {
     "end_time": "2021-08-03T17:52:46.625586Z",
     "start_time": "2021-08-03T17:52:46.623246Z"
    }
   },
   "outputs": [],
   "source": [
    "Psi = Psi.subs([(x, r.x), (y, r.y)])"
   ]
  },
  {
   "cell_type": "code",
   "execution_count": 47,
   "metadata": {
    "ExecuteTime": {
     "end_time": "2021-08-03T17:52:48.547378Z",
     "start_time": "2021-08-03T17:52:48.537801Z"
    }
   },
   "outputs": [
    {
     "data": {
      "text/latex": [
       "$\\displaystyle \\frac{2 \\mathbf{{x}_{r}} \\mathbf{{y}_{r}} c_{2} \\sqrt{\\omega_{1}} \\sqrt{\\omega_{2}} \\sqrt[4]{\\omega_{1} \\omega_{2}} e^{- i t \\left(\\frac{3 \\omega_{1}}{2} + \\frac{3 \\omega_{2}}{2}\\right)} e^{- \\frac{\\mathbf{{x}_{r}}^{2} \\omega_{1}}{2} - \\frac{\\mathbf{{y}_{r}}^{2} \\omega_{2}}{2}}}{\\sqrt{\\pi}} + \\frac{\\sqrt{2} \\mathbf{{x}_{r}} c_{1} \\sqrt{\\omega_{1}} \\sqrt[4]{\\omega_{1} \\omega_{2}} e^{- i t \\left(\\frac{3 \\omega_{1}}{2} + \\frac{\\omega_{2}}{2}\\right)} e^{- \\frac{\\mathbf{{x}_{r}}^{2} \\omega_{1}}{2} - \\frac{\\mathbf{{y}_{r}}^{2} \\omega_{2}}{2}}}{\\sqrt{\\pi}} + \\frac{\\sqrt[4]{\\omega_{1} \\omega_{2}} e^{- i t \\left(\\frac{\\omega_{1}}{2} + \\frac{\\omega_{2}}{2}\\right)} e^{- \\frac{\\mathbf{{x}_{r}}^{2} \\omega_{1}}{2} - \\frac{\\mathbf{{y}_{r}}^{2} \\omega_{2}}{2}}}{\\sqrt{\\pi}}$"
      ],
      "text/plain": [
       "2*r.x*r.y*c2*sqrt(omega1)*sqrt(omega2)*(omega1*omega2)**(1/4)*exp(-I*t*(3*omega1/2 + 3*omega2/2))*exp(-r.x**2*omega1/2 - r.y**2*omega2/2)/sqrt(pi) + sqrt(2)*r.x*c1*sqrt(omega1)*(omega1*omega2)**(1/4)*exp(-I*t*(3*omega1/2 + omega2/2))*exp(-r.x**2*omega1/2 - r.y**2*omega2/2)/sqrt(pi) + (omega1*omega2)**(1/4)*exp(-I*t*(omega1/2 + omega2/2))*exp(-r.x**2*omega1/2 - r.y**2*omega2/2)/sqrt(pi)"
      ]
     },
     "execution_count": 47,
     "metadata": {},
     "output_type": "execute_result"
    }
   ],
   "source": [
    "Psi"
   ]
  },
  {
   "cell_type": "markdown",
   "metadata": {},
   "source": [
    "### Compute vector field"
   ]
  },
  {
   "cell_type": "markdown",
   "metadata": {},
   "source": [
    "$\\nabla_{x,y} \\Psi = $"
   ]
  },
  {
   "cell_type": "code",
   "execution_count": 48,
   "metadata": {
    "ExecuteTime": {
     "end_time": "2021-08-03T17:52:53.363267Z",
     "start_time": "2021-08-03T17:52:53.334689Z"
    }
   },
   "outputs": [
    {
     "data": {
      "text/latex": [
       "$\\displaystyle (- \\frac{2 \\mathbf{{x}_{r}}^{2} \\mathbf{{y}_{r}} c_{2} \\omega_{1}^{\\frac{3}{2}} \\sqrt{\\omega_{2}} \\sqrt[4]{\\omega_{1} \\omega_{2}} e^{- i t \\left(\\frac{3 \\omega_{1}}{2} + \\frac{3 \\omega_{2}}{2}\\right)} e^{- \\frac{\\mathbf{{x}_{r}}^{2} \\omega_{1}}{2} - \\frac{\\mathbf{{y}_{r}}^{2} \\omega_{2}}{2}}}{\\sqrt{\\pi}} - \\frac{\\sqrt{2} \\mathbf{{x}_{r}}^{2} c_{1} \\omega_{1}^{\\frac{3}{2}} \\sqrt[4]{\\omega_{1} \\omega_{2}} e^{- i t \\left(\\frac{3 \\omega_{1}}{2} + \\frac{\\omega_{2}}{2}\\right)} e^{- \\frac{\\mathbf{{x}_{r}}^{2} \\omega_{1}}{2} - \\frac{\\mathbf{{y}_{r}}^{2} \\omega_{2}}{2}}}{\\sqrt{\\pi}} - \\frac{\\mathbf{{x}_{r}} \\omega_{1} \\sqrt[4]{\\omega_{1} \\omega_{2}} e^{- i t \\left(\\frac{\\omega_{1}}{2} + \\frac{\\omega_{2}}{2}\\right)} e^{- \\frac{\\mathbf{{x}_{r}}^{2} \\omega_{1}}{2} - \\frac{\\mathbf{{y}_{r}}^{2} \\omega_{2}}{2}}}{\\sqrt{\\pi}} + \\frac{2 \\mathbf{{y}_{r}} c_{2} \\sqrt{\\omega_{1}} \\sqrt{\\omega_{2}} \\sqrt[4]{\\omega_{1} \\omega_{2}} e^{- i t \\left(\\frac{3 \\omega_{1}}{2} + \\frac{3 \\omega_{2}}{2}\\right)} e^{- \\frac{\\mathbf{{x}_{r}}^{2} \\omega_{1}}{2} - \\frac{\\mathbf{{y}_{r}}^{2} \\omega_{2}}{2}}}{\\sqrt{\\pi}} + \\frac{\\sqrt{2} c_{1} \\sqrt{\\omega_{1}} \\sqrt[4]{\\omega_{1} \\omega_{2}} e^{- i t \\left(\\frac{3 \\omega_{1}}{2} + \\frac{\\omega_{2}}{2}\\right)} e^{- \\frac{\\mathbf{{x}_{r}}^{2} \\omega_{1}}{2} - \\frac{\\mathbf{{y}_{r}}^{2} \\omega_{2}}{2}}}{\\sqrt{\\pi}})\\mathbf{\\hat{i}_{r}} + (- \\frac{2 \\mathbf{{x}_{r}} \\mathbf{{y}_{r}}^{2} c_{2} \\sqrt{\\omega_{1}} \\omega_{2}^{\\frac{3}{2}} \\sqrt[4]{\\omega_{1} \\omega_{2}} e^{- i t \\left(\\frac{3 \\omega_{1}}{2} + \\frac{3 \\omega_{2}}{2}\\right)} e^{- \\frac{\\mathbf{{x}_{r}}^{2} \\omega_{1}}{2} - \\frac{\\mathbf{{y}_{r}}^{2} \\omega_{2}}{2}}}{\\sqrt{\\pi}} - \\frac{\\sqrt{2} \\mathbf{{x}_{r}} \\mathbf{{y}_{r}} c_{1} \\sqrt{\\omega_{1}} \\omega_{2} \\sqrt[4]{\\omega_{1} \\omega_{2}} e^{- i t \\left(\\frac{3 \\omega_{1}}{2} + \\frac{\\omega_{2}}{2}\\right)} e^{- \\frac{\\mathbf{{x}_{r}}^{2} \\omega_{1}}{2} - \\frac{\\mathbf{{y}_{r}}^{2} \\omega_{2}}{2}}}{\\sqrt{\\pi}} + \\frac{2 \\mathbf{{x}_{r}} c_{2} \\sqrt{\\omega_{1}} \\sqrt{\\omega_{2}} \\sqrt[4]{\\omega_{1} \\omega_{2}} e^{- i t \\left(\\frac{3 \\omega_{1}}{2} + \\frac{3 \\omega_{2}}{2}\\right)} e^{- \\frac{\\mathbf{{x}_{r}}^{2} \\omega_{1}}{2} - \\frac{\\mathbf{{y}_{r}}^{2} \\omega_{2}}{2}}}{\\sqrt{\\pi}} - \\frac{\\mathbf{{y}_{r}} \\omega_{2} \\sqrt[4]{\\omega_{1} \\omega_{2}} e^{- i t \\left(\\frac{\\omega_{1}}{2} + \\frac{\\omega_{2}}{2}\\right)} e^{- \\frac{\\mathbf{{x}_{r}}^{2} \\omega_{1}}{2} - \\frac{\\mathbf{{y}_{r}}^{2} \\omega_{2}}{2}}}{\\sqrt{\\pi}})\\mathbf{\\hat{j}_{r}}$"
      ],
      "text/plain": [
       "(-2*r.x**2*r.y*c2*omega1**(3/2)*sqrt(omega2)*(omega1*omega2)**(1/4)*exp(-I*t*(3*omega1/2 + 3*omega2/2))*exp(-r.x**2*omega1/2 - r.y**2*omega2/2)/sqrt(pi) - sqrt(2)*r.x**2*c1*omega1**(3/2)*(omega1*omega2)**(1/4)*exp(-I*t*(3*omega1/2 + omega2/2))*exp(-r.x**2*omega1/2 - r.y**2*omega2/2)/sqrt(pi) - r.x*omega1*(omega1*omega2)**(1/4)*exp(-I*t*(omega1/2 + omega2/2))*exp(-r.x**2*omega1/2 - r.y**2*omega2/2)/sqrt(pi) + 2*r.y*c2*sqrt(omega1)*sqrt(omega2)*(omega1*omega2)**(1/4)*exp(-I*t*(3*omega1/2 + 3*omega2/2))*exp(-r.x**2*omega1/2 - r.y**2*omega2/2)/sqrt(pi) + sqrt(2)*c1*sqrt(omega1)*(omega1*omega2)**(1/4)*exp(-I*t*(3*omega1/2 + omega2/2))*exp(-r.x**2*omega1/2 - r.y**2*omega2/2)/sqrt(pi))*r.i + (-2*r.x*r.y**2*c2*sqrt(omega1)*omega2**(3/2)*(omega1*omega2)**(1/4)*exp(-I*t*(3*omega1/2 + 3*omega2/2))*exp(-r.x**2*omega1/2 - r.y**2*omega2/2)/sqrt(pi) - sqrt(2)*r.x*r.y*c1*sqrt(omega1)*omega2*(omega1*omega2)**(1/4)*exp(-I*t*(3*omega1/2 + omega2/2))*exp(-r.x**2*omega1/2 - r.y**2*omega2/2)/sqrt(pi) + 2*r.x*c2*sqrt(omega1)*sqrt(omega2)*(omega1*omega2)**(1/4)*exp(-I*t*(3*omega1/2 + 3*omega2/2))*exp(-r.x**2*omega1/2 - r.y**2*omega2/2)/sqrt(pi) - r.y*omega2*(omega1*omega2)**(1/4)*exp(-I*t*(omega1/2 + omega2/2))*exp(-r.x**2*omega1/2 - r.y**2*omega2/2)/sqrt(pi))*r.j"
      ]
     },
     "execution_count": 48,
     "metadata": {},
     "output_type": "execute_result"
    }
   ],
   "source": [
    "Del_Psi = gradient(Psi)\n",
    "Del_Psi"
   ]
  },
  {
   "cell_type": "markdown",
   "metadata": {},
   "source": [
    "$\\nabla_{x,y} \\Psi / \\Psi= $"
   ]
  },
  {
   "cell_type": "code",
   "execution_count": 49,
   "metadata": {
    "ExecuteTime": {
     "end_time": "2021-08-03T17:52:59.595475Z",
     "start_time": "2021-08-03T17:52:59.050909Z"
    }
   },
   "outputs": [
    {
     "data": {
      "text/latex": [
       "$\\displaystyle (\\frac{- \\sqrt{2} c_{1} \\omega_{1}^{\\frac{3}{2}} x^{2} e^{i \\omega_{2} t} + \\sqrt{2} c_{1} \\sqrt{\\omega_{1}} e^{i \\omega_{2} t} - 2 c_{2} \\omega_{1}^{\\frac{3}{2}} \\sqrt{\\omega_{2}} x^{2} y + 2 c_{2} \\sqrt{\\omega_{1}} \\sqrt{\\omega_{2}} y - \\omega_{1} x e^{i t \\left(\\omega_{1} + \\omega_{2}\\right)}}{\\sqrt{2} c_{1} \\sqrt{\\omega_{1}} x e^{i \\omega_{2} t} + 2 c_{2} \\sqrt{\\omega_{1}} \\sqrt{\\omega_{2}} x y + e^{i t \\left(\\omega_{1} + \\omega_{2}\\right)}})\\mathbf{\\hat{i}_{r}} + (\\frac{- \\sqrt{2} c_{1} \\sqrt{\\omega_{1}} \\omega_{2} x y e^{i \\omega_{2} t} - 2 c_{2} \\sqrt{\\omega_{1}} \\omega_{2}^{\\frac{3}{2}} x y^{2} + 2 c_{2} \\sqrt{\\omega_{1}} \\sqrt{\\omega_{2}} x - \\omega_{2} y e^{i t \\left(\\omega_{1} + \\omega_{2}\\right)}}{\\sqrt{2} c_{1} \\sqrt{\\omega_{1}} x e^{i \\omega_{2} t} + 2 c_{2} \\sqrt{\\omega_{1}} \\sqrt{\\omega_{2}} x y + e^{i t \\left(\\omega_{1} + \\omega_{2}\\right)}})\\mathbf{\\hat{j}_{r}}$"
      ],
      "text/plain": [
       "((-sqrt(2)*c1*omega1**(3/2)*x**2*exp(I*omega2*t) + sqrt(2)*c1*sqrt(omega1)*exp(I*omega2*t) - 2*c2*omega1**(3/2)*sqrt(omega2)*x**2*y + 2*c2*sqrt(omega1)*sqrt(omega2)*y - omega1*x*exp(I*t*(omega1 + omega2)))/(sqrt(2)*c1*sqrt(omega1)*x*exp(I*omega2*t) + 2*c2*sqrt(omega1)*sqrt(omega2)*x*y + exp(I*t*(omega1 + omega2))))*r.i + ((-sqrt(2)*c1*sqrt(omega1)*omega2*x*y*exp(I*omega2*t) - 2*c2*sqrt(omega1)*omega2**(3/2)*x*y**2 + 2*c2*sqrt(omega1)*sqrt(omega2)*x - omega2*y*exp(I*t*(omega1 + omega2)))/(sqrt(2)*c1*sqrt(omega1)*x*exp(I*omega2*t) + 2*c2*sqrt(omega1)*sqrt(omega2)*x*y + exp(I*t*(omega1 + omega2))))*r.j"
      ]
     },
     "execution_count": 49,
     "metadata": {},
     "output_type": "execute_result"
    }
   ],
   "source": [
    "expr = Del_Psi/Psi\n",
    "expr = expr.simplify()\n",
    "expr = expr.subs([(r.x, x), (r.y, y)])\n",
    "expr"
   ]
  },
  {
   "cell_type": "markdown",
   "metadata": {},
   "source": [
    "### Simplify vector field"
   ]
  },
  {
   "cell_type": "markdown",
   "metadata": {},
   "source": [
    "$\\partial_x \\Psi / \\Psi = $"
   ]
  },
  {
   "cell_type": "code",
   "execution_count": 51,
   "metadata": {
    "ExecuteTime": {
     "end_time": "2021-08-03T17:53:16.378866Z",
     "start_time": "2021-08-03T17:53:16.364557Z"
    }
   },
   "outputs": [
    {
     "data": {
      "text/latex": [
       "$\\displaystyle (\\frac{- \\sqrt{2} c_{1} \\omega_{1}^{\\frac{3}{2}} x^{2} \\left(i \\sin{\\left(\\omega_{2} t \\right)} + \\cos{\\left(\\omega_{2} t \\right)}\\right) + \\sqrt{2} c_{1} \\sqrt{\\omega_{1}} \\left(i \\sin{\\left(\\omega_{2} t \\right)} + \\cos{\\left(\\omega_{2} t \\right)}\\right) - 2 c_{2} \\omega_{1}^{\\frac{3}{2}} \\sqrt{\\omega_{2}} x^{2} y + 2 c_{2} \\sqrt{\\omega_{1}} \\sqrt{\\omega_{2}} y - \\omega_{1} x \\left(i \\sin{\\left(t \\left(\\omega_{1} + \\omega_{2}\\right) \\right)} + \\cos{\\left(t \\left(\\omega_{1} + \\omega_{2}\\right) \\right)}\\right)}{\\sqrt{2} c_{1} \\sqrt{\\omega_{1}} x \\left(i \\sin{\\left(\\omega_{2} t \\right)} + \\cos{\\left(\\omega_{2} t \\right)}\\right) + 2 c_{2} \\sqrt{\\omega_{1}} \\sqrt{\\omega_{2}} x y + i \\sin{\\left(t \\left(\\omega_{1} + \\omega_{2}\\right) \\right)} + \\cos{\\left(t \\left(\\omega_{1} + \\omega_{2}\\right) \\right)}})\\mathbf{\\hat{i}_{r}}$"
      ],
      "text/plain": [
       "((-sqrt(2)*c1*omega1**(3/2)*x**2*(I*sin(omega2*t) + cos(omega2*t)) + sqrt(2)*c1*sqrt(omega1)*(I*sin(omega2*t) + cos(omega2*t)) - 2*c2*omega1**(3/2)*sqrt(omega2)*x**2*y + 2*c2*sqrt(omega1)*sqrt(omega2)*y - omega1*x*(I*sin(t*(omega1 + omega2)) + cos(t*(omega1 + omega2))))/(sqrt(2)*c1*sqrt(omega1)*x*(I*sin(omega2*t) + cos(omega2*t)) + 2*c2*sqrt(omega1)*sqrt(omega2)*x*y + I*sin(t*(omega1 + omega2)) + cos(t*(omega1 + omega2))))*r.i"
      ]
     },
     "execution_count": 51,
     "metadata": {},
     "output_type": "execute_result"
    }
   ],
   "source": [
    "vx = expr.args[1]\n",
    "vx = vx.subs(sym.exp(sym.I*t*(omega1 + omega2)), sym.cos(t*(omega1 + omega2)) + sym.I*sym.sin(t*(omega1 + omega2)))\n",
    "vx = vx.subs(sym.exp(sym.I*t*omega2), sym.cos(t*omega2) + sym.I*sym.sin(t*omega2))\n",
    "vx"
   ]
  },
  {
   "cell_type": "code",
   "execution_count": 52,
   "metadata": {
    "ExecuteTime": {
     "end_time": "2021-08-03T17:53:29.768119Z",
     "start_time": "2021-08-03T17:53:29.757642Z"
    }
   },
   "outputs": [
    {
     "data": {
      "text/latex": [
       "$\\displaystyle - \\sqrt{2} c_{1} \\omega_{1}^{\\frac{3}{2}} x^{2} \\left(i \\sin{\\left(\\omega_{2} t \\right)} + \\cos{\\left(\\omega_{2} t \\right)}\\right) + \\sqrt{2} c_{1} \\sqrt{\\omega_{1}} \\left(i \\sin{\\left(\\omega_{2} t \\right)} + \\cos{\\left(\\omega_{2} t \\right)}\\right) - 2 c_{2} \\omega_{1}^{\\frac{3}{2}} \\sqrt{\\omega_{2}} x^{2} y + 2 c_{2} \\sqrt{\\omega_{1}} \\sqrt{\\omega_{2}} y - \\omega_{1} x \\left(i \\sin{\\left(t \\left(\\omega_{1} + \\omega_{2}\\right) \\right)} + \\cos{\\left(t \\left(\\omega_{1} + \\omega_{2}\\right) \\right)}\\right)$"
      ],
      "text/plain": [
       "-sqrt(2)*c1*omega1**(3/2)*x**2*(I*sin(omega2*t) + cos(omega2*t)) + sqrt(2)*c1*sqrt(omega1)*(I*sin(omega2*t) + cos(omega2*t)) - 2*c2*omega1**(3/2)*sqrt(omega2)*x**2*y + 2*c2*sqrt(omega1)*sqrt(omega2)*y - omega1*x*(I*sin(t*(omega1 + omega2)) + cos(t*(omega1 + omega2)))"
      ]
     },
     "execution_count": 52,
     "metadata": {},
     "output_type": "execute_result"
    }
   ],
   "source": [
    "vx.args[1]"
   ]
  },
  {
   "cell_type": "code",
   "execution_count": 53,
   "metadata": {
    "ExecuteTime": {
     "end_time": "2021-08-03T17:53:39.074751Z",
     "start_time": "2021-08-03T17:53:39.065183Z"
    }
   },
   "outputs": [
    {
     "data": {
      "text/latex": [
       "$\\displaystyle \\frac{1}{\\sqrt{2} c_{1} \\sqrt{\\omega_{1}} x \\left(i \\sin{\\left(\\omega_{2} t \\right)} + \\cos{\\left(\\omega_{2} t \\right)}\\right) + 2 c_{2} \\sqrt{\\omega_{1}} \\sqrt{\\omega_{2}} x y + i \\sin{\\left(t \\left(\\omega_{1} + \\omega_{2}\\right) \\right)} + \\cos{\\left(t \\left(\\omega_{1} + \\omega_{2}\\right) \\right)}}$"
      ],
      "text/plain": [
       "1/(sqrt(2)*c1*sqrt(omega1)*x*(I*sin(omega2*t) + cos(omega2*t)) + 2*c2*sqrt(omega1)*sqrt(omega2)*x*y + I*sin(t*(omega1 + omega2)) + cos(t*(omega1 + omega2)))"
      ]
     },
     "execution_count": 53,
     "metadata": {},
     "output_type": "execute_result"
    }
   ],
   "source": [
    "vx.args[0]"
   ]
  },
  {
   "cell_type": "markdown",
   "metadata": {},
   "source": [
    "$\\partial_y \\Psi / \\Psi = $"
   ]
  },
  {
   "cell_type": "code",
   "execution_count": 54,
   "metadata": {
    "ExecuteTime": {
     "end_time": "2021-08-03T17:53:52.025540Z",
     "start_time": "2021-08-03T17:53:52.013486Z"
    }
   },
   "outputs": [
    {
     "data": {
      "text/latex": [
       "$\\displaystyle (\\frac{- \\sqrt{2} c_{1} \\sqrt{\\omega_{1}} \\omega_{2} x y \\left(i \\sin{\\left(\\omega_{2} t \\right)} + \\cos{\\left(\\omega_{2} t \\right)}\\right) - 2 c_{2} \\sqrt{\\omega_{1}} \\omega_{2}^{\\frac{3}{2}} x y^{2} + 2 c_{2} \\sqrt{\\omega_{1}} \\sqrt{\\omega_{2}} x - \\omega_{2} y \\left(i \\sin{\\left(t \\left(\\omega_{1} + \\omega_{2}\\right) \\right)} + \\cos{\\left(t \\left(\\omega_{1} + \\omega_{2}\\right) \\right)}\\right)}{\\sqrt{2} c_{1} \\sqrt{\\omega_{1}} x \\left(i \\sin{\\left(\\omega_{2} t \\right)} + \\cos{\\left(\\omega_{2} t \\right)}\\right) + 2 c_{2} \\sqrt{\\omega_{1}} \\sqrt{\\omega_{2}} x y + i \\sin{\\left(t \\left(\\omega_{1} + \\omega_{2}\\right) \\right)} + \\cos{\\left(t \\left(\\omega_{1} + \\omega_{2}\\right) \\right)}})\\mathbf{\\hat{j}_{r}}$"
      ],
      "text/plain": [
       "((-sqrt(2)*c1*sqrt(omega1)*omega2*x*y*(I*sin(omega2*t) + cos(omega2*t)) - 2*c2*sqrt(omega1)*omega2**(3/2)*x*y**2 + 2*c2*sqrt(omega1)*sqrt(omega2)*x - omega2*y*(I*sin(t*(omega1 + omega2)) + cos(t*(omega1 + omega2))))/(sqrt(2)*c1*sqrt(omega1)*x*(I*sin(omega2*t) + cos(omega2*t)) + 2*c2*sqrt(omega1)*sqrt(omega2)*x*y + I*sin(t*(omega1 + omega2)) + cos(t*(omega1 + omega2))))*r.j"
      ]
     },
     "execution_count": 54,
     "metadata": {},
     "output_type": "execute_result"
    }
   ],
   "source": [
    "vy = expr.args[0]\n",
    "# employ Euler's formula\n",
    "vy = vy.subs(sym.exp(sym.I*t*(omega1 + omega2)), sym.cos(t*(omega1 + omega2)) + sym.I*sym.sin(t*(omega1 + omega2)))\n",
    "vy = vy.subs(sym.exp(sym.I*t*omega2), sym.cos(t*omega2) + sym.I*sym.sin(t*omega2))\n",
    "vy"
   ]
  },
  {
   "cell_type": "markdown",
   "metadata": {},
   "source": [
    "* Break down division into numerator and denominator to simplify separately\n",
    "\n",
    "> Use formula\n",
    "\n",
    "\\begin{equation*}\n",
    "\\frac{z_1}{z_2} = \\frac{z_1 z_2^*}{z_2 z_2^*} = \\frac{z_1 z_2^*}{|z_2|^2}\n",
    "\\end{equation*}"
   ]
  },
  {
   "cell_type": "code",
   "execution_count": 55,
   "metadata": {
    "ExecuteTime": {
     "end_time": "2021-08-03T17:53:55.113623Z",
     "start_time": "2021-08-03T17:53:55.106191Z"
    }
   },
   "outputs": [
    {
     "data": {
      "text/latex": [
       "$\\displaystyle - \\sqrt{2} c_{1} \\sqrt{\\omega_{1}} \\omega_{2} x y \\left(i \\sin{\\left(\\omega_{2} t \\right)} + \\cos{\\left(\\omega_{2} t \\right)}\\right) - 2 c_{2} \\sqrt{\\omega_{1}} \\omega_{2}^{\\frac{3}{2}} x y^{2} + 2 c_{2} \\sqrt{\\omega_{1}} \\sqrt{\\omega_{2}} x - \\omega_{2} y \\left(i \\sin{\\left(t \\left(\\omega_{1} + \\omega_{2}\\right) \\right)} + \\cos{\\left(t \\left(\\omega_{1} + \\omega_{2}\\right) \\right)}\\right)$"
      ],
      "text/plain": [
       "-sqrt(2)*c1*sqrt(omega1)*omega2*x*y*(I*sin(omega2*t) + cos(omega2*t)) - 2*c2*sqrt(omega1)*omega2**(3/2)*x*y**2 + 2*c2*sqrt(omega1)*sqrt(omega2)*x - omega2*y*(I*sin(t*(omega1 + omega2)) + cos(t*(omega1 + omega2)))"
      ]
     },
     "execution_count": 55,
     "metadata": {},
     "output_type": "execute_result"
    }
   ],
   "source": [
    "vy.args[1]"
   ]
  },
  {
   "cell_type": "code",
   "execution_count": 57,
   "metadata": {
    "ExecuteTime": {
     "end_time": "2021-08-04T08:04:35.279317Z",
     "start_time": "2021-08-04T08:04:35.273148Z"
    }
   },
   "outputs": [
    {
     "data": {
      "text/latex": [
       "$\\displaystyle \\frac{1}{\\sqrt{2} c_{1} \\sqrt{\\omega_{1}} x \\left(i \\sin{\\left(\\omega_{2} t \\right)} + \\cos{\\left(\\omega_{2} t \\right)}\\right) + 2 c_{2} \\sqrt{\\omega_{1}} \\sqrt{\\omega_{2}} x y + i \\sin{\\left(t \\left(\\omega_{1} + \\omega_{2}\\right) \\right)} + \\cos{\\left(t \\left(\\omega_{1} + \\omega_{2}\\right) \\right)}}$"
      ],
      "text/plain": [
       "1/(sqrt(2)*c1*sqrt(omega1)*x*(I*sin(omega2*t) + cos(omega2*t)) + 2*c2*sqrt(omega1)*sqrt(omega2)*x*y + I*sin(t*(omega1 + omega2)) + cos(t*(omega1 + omega2)))"
      ]
     },
     "execution_count": 57,
     "metadata": {},
     "output_type": "execute_result"
    }
   ],
   "source": [
    "vy.args[0]"
   ]
  },
  {
   "cell_type": "markdown",
   "metadata": {},
   "source": [
    "TEST"
   ]
  },
  {
   "cell_type": "markdown",
   "metadata": {
    "ExecuteTime": {
     "end_time": "2021-08-04T08:09:01.580416Z",
     "start_time": "2021-08-04T08:09:01.577838Z"
    }
   },
   "source": [
    "Compute denominator"
   ]
  },
  {
   "cell_type": "code",
   "execution_count": 62,
   "metadata": {
    "ExecuteTime": {
     "end_time": "2021-08-04T08:05:59.623554Z",
     "start_time": "2021-08-04T08:05:59.616164Z"
    }
   },
   "outputs": [
    {
     "data": {
      "text/latex": [
       "$\\displaystyle \\sqrt{2} c_{1} \\sqrt{\\omega_{1}} x \\left(i \\sin{\\left(\\omega_{2} t \\right)} + \\cos{\\left(\\omega_{2} t \\right)}\\right) + 2 c_{2} \\sqrt{\\omega_{1}} \\sqrt{\\omega_{2}} x y + i \\sin{\\left(t \\left(\\omega_{1} + \\omega_{2}\\right) \\right)} + \\cos{\\left(t \\left(\\omega_{1} + \\omega_{2}\\right) \\right)}$"
      ],
      "text/plain": [
       "sqrt(2)*c1*sqrt(omega1)*x*(I*sin(omega2*t) + cos(omega2*t)) + 2*c2*sqrt(omega1)*sqrt(omega2)*x*y + I*sin(t*(omega1 + omega2)) + cos(t*(omega1 + omega2))"
      ]
     },
     "execution_count": 62,
     "metadata": {},
     "output_type": "execute_result"
    }
   ],
   "source": [
    "exp_test = 1/vy.args[0]\n",
    "exp_test"
   ]
  },
  {
   "cell_type": "code",
   "execution_count": 61,
   "metadata": {
    "ExecuteTime": {
     "end_time": "2021-08-04T08:05:53.001781Z",
     "start_time": "2021-08-04T08:05:52.989844Z"
    }
   },
   "outputs": [
    {
     "data": {
      "text/latex": [
       "$\\displaystyle \\sqrt{2} c_{1} \\sqrt{\\omega_{1}} x \\left(- i \\sin{\\left(\\omega_{2} t \\right)} + \\cos{\\left(\\omega_{2} t \\right)}\\right) + 2 c_{2} \\sqrt{\\omega_{1}} \\sqrt{\\omega_{2}} x y - i \\sin{\\left(t \\left(\\omega_{1} + \\omega_{2}\\right) \\right)} + \\cos{\\left(t \\left(\\omega_{1} + \\omega_{2}\\right) \\right)}$"
      ],
      "text/plain": [
       "sqrt(2)*c1*sqrt(omega1)*x*(-I*sin(omega2*t) + cos(omega2*t)) + 2*c2*sqrt(omega1)*sqrt(omega2)*x*y - I*sin(t*(omega1 + omega2)) + cos(t*(omega1 + omega2))"
      ]
     },
     "execution_count": 61,
     "metadata": {},
     "output_type": "execute_result"
    }
   ],
   "source": [
    "exp_test_conjugate = exp_test.subs(sym.I, -sym.I)\n",
    "exp_test_conjugate"
   ]
  },
  {
   "cell_type": "code",
   "execution_count": 75,
   "metadata": {
    "ExecuteTime": {
     "end_time": "2021-08-04T08:14:49.409976Z",
     "start_time": "2021-08-04T08:14:37.862097Z"
    }
   },
   "outputs": [
    {
     "data": {
      "text/latex": [
       "$\\displaystyle 2 c_{1}^{2} \\omega_{1} x^{2} + 4 \\sqrt{2} c_{1} c_{2} \\omega_{1} \\sqrt{\\omega_{2}} x^{2} y \\cos{\\left(\\omega_{2} t \\right)} + 2 \\sqrt{2} c_{1} \\sqrt{\\omega_{1}} x \\cos{\\left(\\omega_{1} t \\right)} + 4 c_{2}^{2} \\omega_{1} \\omega_{2} x^{2} y^{2} + 4 c_{2} \\sqrt{\\omega_{1}} \\sqrt{\\omega_{2}} x y \\cos{\\left(t \\left(\\omega_{1} + \\omega_{2}\\right) \\right)} + 1$"
      ],
      "text/plain": [
       "2*c1**2*omega1*x**2 + 4*sqrt(2)*c1*c2*omega1*sqrt(omega2)*x**2*y*cos(omega2*t) + 2*sqrt(2)*c1*sqrt(omega1)*x*cos(omega1*t) + 4*c2**2*omega1*omega2*x**2*y**2 + 4*c2*sqrt(omega1)*sqrt(omega2)*x*y*cos(t*(omega1 + omega2)) + 1"
      ]
     },
     "execution_count": 75,
     "metadata": {},
     "output_type": "execute_result"
    }
   ],
   "source": [
    "vy_denominator = (exp_test*exp_test_conjugate).simplify() # = Psi*Psi \n",
    "vy_denominator"
   ]
  },
  {
   "cell_type": "code",
   "execution_count": 78,
   "metadata": {
    "ExecuteTime": {
     "end_time": "2021-08-04T08:15:08.003976Z",
     "start_time": "2021-08-04T08:15:07.992342Z"
    }
   },
   "outputs": [
    {
     "data": {
      "text/latex": [
       "$\\displaystyle a^{2} \\omega_{1} x^{2} + 2 a b \\omega_{1} \\sqrt{\\omega_{2}} x^{2} y \\cos{\\left(\\omega_{2} t \\right)} + 2 a \\sqrt{\\omega_{1}} x \\cos{\\left(\\omega_{1} t \\right)} + b^{2} \\omega_{1} \\omega_{2} x^{2} y^{2} + 2 b \\sqrt{\\omega_{1}} \\sqrt{\\omega_{2}} x y \\cos{\\left(t \\left(\\omega_{1} + \\omega_{2}\\right) \\right)} + 1$"
      ],
      "text/plain": [
       "a**2*omega1*x**2 + 2*a*b*omega1*sqrt(omega2)*x**2*y*cos(omega2*t) + 2*a*sqrt(omega1)*x*cos(omega1*t) + b**2*omega1*omega2*x**2*y**2 + 2*b*sqrt(omega1)*sqrt(omega2)*x*y*cos(t*(omega1 + omega2)) + 1"
      ]
     },
     "execution_count": 78,
     "metadata": {},
     "output_type": "execute_result"
    }
   ],
   "source": [
    "a, b = sym.symbols('a b', real=True)\n",
    "vy_denominator.subs([(c1, a/sym.sqrt(2)),(c2, b/2)]) # substitute constants"
   ]
  },
  {
   "cell_type": "markdown",
   "metadata": {},
   "source": [
    "TEST"
   ]
  },
  {
   "cell_type": "markdown",
   "metadata": {},
   "source": [
    "Compute numerator of $v_y$"
   ]
  },
  {
   "cell_type": "code",
   "execution_count": 90,
   "metadata": {
    "ExecuteTime": {
     "end_time": "2021-08-04T08:21:19.298121Z",
     "start_time": "2021-08-04T08:21:18.974098Z"
    }
   },
   "outputs": [],
   "source": [
    "vy_numerator =\\\n",
    "(vy.args[1]*exp_test_conjugate - vy.args[1].subs(sym.I,-sym.I)*exp_test).simplify()/(2*sym.I)"
   ]
  },
  {
   "cell_type": "code",
   "execution_count": 95,
   "metadata": {
    "ExecuteTime": {
     "end_time": "2021-08-04T08:25:27.710117Z",
     "start_time": "2021-08-04T08:25:27.694169Z"
    }
   },
   "outputs": [
    {
     "data": {
      "text/latex": [
       "$\\displaystyle - b \\sqrt{\\omega_{2}} x \\left(a \\omega_{1} x \\sin{\\left(\\omega_{2} t \\right)} + \\sqrt{\\omega_{1}} \\sin{\\left(t \\left(\\omega_{1} + \\omega_{2}\\right) \\right)}\\right)$"
      ],
      "text/plain": [
       "-b*sqrt(omega2)*x*(a*omega1*x*sin(omega2*t) + sqrt(omega1)*sin(t*(omega1 + omega2)))"
      ]
     },
     "execution_count": 95,
     "metadata": {},
     "output_type": "execute_result"
    }
   ],
   "source": [
    "vy_numerator = vy_numerator.subs([(c1, a/sym.sqrt(2)),(c2, b/2)])\n",
    "vy_numerator"
   ]
  },
  {
   "cell_type": "markdown",
   "metadata": {},
   "source": [
    "Compute numerator of $v_x$"
   ]
  },
  {
   "cell_type": "code",
   "execution_count": 93,
   "metadata": {
    "ExecuteTime": {
     "end_time": "2021-08-04T08:21:46.104620Z",
     "start_time": "2021-08-04T08:21:45.594615Z"
    }
   },
   "outputs": [],
   "source": [
    "vx_numerator =\\\n",
    "(vx.args[1]*exp_test_conjugate - vx.args[1].subs(sym.I,-sym.I)*exp_test).simplify()/(2*sym.I)"
   ]
  },
  {
   "cell_type": "code",
   "execution_count": 96,
   "metadata": {
    "ExecuteTime": {
     "end_time": "2021-08-04T08:25:38.787772Z",
     "start_time": "2021-08-04T08:25:38.783316Z"
    }
   },
   "outputs": [
    {
     "data": {
      "text/latex": [
       "$\\displaystyle - \\sqrt{\\omega_{1}} \\left(a \\sin{\\left(\\omega_{1} t \\right)} + b \\sqrt{\\omega_{2}} y \\sin{\\left(t \\left(\\omega_{1} + \\omega_{2}\\right) \\right)}\\right)$"
      ],
      "text/plain": [
       "-sqrt(omega1)*(a*sin(omega1*t) + b*sqrt(omega2)*y*sin(t*(omega1 + omega2)))"
      ]
     },
     "execution_count": 96,
     "metadata": {},
     "output_type": "execute_result"
    }
   ],
   "source": [
    "vx_numerator = vx_numerator.subs([(c1, a/sym.sqrt(2)),(c2, b/2)])\n",
    "vx_numerator"
   ]
  },
  {
   "cell_type": "markdown",
   "metadata": {},
   "source": [
    "### Vector field: final form"
   ]
  },
  {
   "cell_type": "code",
   "execution_count": 99,
   "metadata": {
    "ExecuteTime": {
     "end_time": "2021-08-04T11:46:07.789299Z",
     "start_time": "2021-08-04T11:46:07.777936Z"
    }
   },
   "outputs": [
    {
     "data": {
      "text/latex": [
       "$\\displaystyle - \\frac{\\sqrt{\\omega_{1}} \\left(a \\sin{\\left(\\omega_{1} t \\right)} + b \\sqrt{\\omega_{2}} y \\sin{\\left(t \\left(\\omega_{1} + \\omega_{2}\\right) \\right)}\\right)}{2 c_{1}^{2} \\omega_{1} x^{2} + 4 \\sqrt{2} c_{1} c_{2} \\omega_{1} \\sqrt{\\omega_{2}} x^{2} y \\cos{\\left(\\omega_{2} t \\right)} + 2 \\sqrt{2} c_{1} \\sqrt{\\omega_{1}} x \\cos{\\left(\\omega_{1} t \\right)} + 4 c_{2}^{2} \\omega_{1} \\omega_{2} x^{2} y^{2} + 4 c_{2} \\sqrt{\\omega_{1}} \\sqrt{\\omega_{2}} x y \\cos{\\left(t \\left(\\omega_{1} + \\omega_{2}\\right) \\right)} + 1}$"
      ],
      "text/plain": [
       "-sqrt(omega1)*(a*sin(omega1*t) + b*sqrt(omega2)*y*sin(t*(omega1 + omega2)))/(2*c1**2*omega1*x**2 + 4*sqrt(2)*c1*c2*omega1*sqrt(omega2)*x**2*y*cos(omega2*t) + 2*sqrt(2)*c1*sqrt(omega1)*x*cos(omega1*t) + 4*c2**2*omega1*omega2*x**2*y**2 + 4*c2*sqrt(omega1)*sqrt(omega2)*x*y*cos(t*(omega1 + omega2)) + 1)"
      ]
     },
     "execution_count": 99,
     "metadata": {},
     "output_type": "execute_result"
    }
   ],
   "source": [
    "vx = vx_numerator/vy_denominator\n",
    "vx"
   ]
  },
  {
   "cell_type": "code",
   "execution_count": 100,
   "metadata": {
    "ExecuteTime": {
     "end_time": "2021-08-04T11:46:20.521639Z",
     "start_time": "2021-08-04T11:46:20.491671Z"
    }
   },
   "outputs": [
    {
     "data": {
      "text/latex": [
       "$\\displaystyle - \\frac{b \\sqrt{\\omega_{2}} x \\left(a \\omega_{1} x \\sin{\\left(\\omega_{2} t \\right)} + \\sqrt{\\omega_{1}} \\sin{\\left(t \\left(\\omega_{1} + \\omega_{2}\\right) \\right)}\\right)}{2 c_{1}^{2} \\omega_{1} x^{2} + 4 \\sqrt{2} c_{1} c_{2} \\omega_{1} \\sqrt{\\omega_{2}} x^{2} y \\cos{\\left(\\omega_{2} t \\right)} + 2 \\sqrt{2} c_{1} \\sqrt{\\omega_{1}} x \\cos{\\left(\\omega_{1} t \\right)} + 4 c_{2}^{2} \\omega_{1} \\omega_{2} x^{2} y^{2} + 4 c_{2} \\sqrt{\\omega_{1}} \\sqrt{\\omega_{2}} x y \\cos{\\left(t \\left(\\omega_{1} + \\omega_{2}\\right) \\right)} + 1}$"
      ],
      "text/plain": [
       "-b*sqrt(omega2)*x*(a*omega1*x*sin(omega2*t) + sqrt(omega1)*sin(t*(omega1 + omega2)))/(2*c1**2*omega1*x**2 + 4*sqrt(2)*c1*c2*omega1*sqrt(omega2)*x**2*y*cos(omega2*t) + 2*sqrt(2)*c1*sqrt(omega1)*x*cos(omega1*t) + 4*c2**2*omega1*omega2*x**2*y**2 + 4*c2*sqrt(omega1)*sqrt(omega2)*x*y*cos(t*(omega1 + omega2)) + 1)"
      ]
     },
     "execution_count": 100,
     "metadata": {},
     "output_type": "execute_result"
    }
   ],
   "source": [
    "vy = vy_numerator/vy_denominator\n",
    "vy"
   ]
  },
  {
   "cell_type": "code",
   "execution_count": null,
   "metadata": {},
   "outputs": [],
   "source": []
  }
 ],
 "metadata": {
  "kernelspec": {
   "display_name": "Python 3",
   "language": "python",
   "name": "python3"
  },
  "language_info": {
   "codemirror_mode": {
    "name": "ipython",
    "version": 3
   },
   "file_extension": ".py",
   "mimetype": "text/x-python",
   "name": "python",
   "nbconvert_exporter": "python",
   "pygments_lexer": "ipython3",
   "version": "3.7.10"
  },
  "toc": {
   "base_numbering": 1,
   "nav_menu": {},
   "number_sections": true,
   "sideBar": true,
   "skip_h1_title": false,
   "title_cell": "Table of Contents",
   "title_sidebar": "Contents",
   "toc_cell": false,
   "toc_position": {
    "height": "calc(100% - 180px)",
    "left": "10px",
    "top": "150px",
    "width": "341.333px"
   },
   "toc_section_display": true,
   "toc_window_display": true
  }
 },
 "nbformat": 4,
 "nbformat_minor": 4
}
